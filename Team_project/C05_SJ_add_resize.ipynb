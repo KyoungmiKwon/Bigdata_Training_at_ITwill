{
  "nbformat": 4,
  "nbformat_minor": 0,
  "metadata": {
    "colab": {
      "name": "C05_SJ_add_resize.ipynb",
      "provenance": [],
      "collapsed_sections": [],
      "mount_file_id": "1QuwARcXQCQycgocj8l8v_EIfov3qt6O6",
      "authorship_tag": "ABX9TyNnxptEju1epV5FySO20N57",
      "include_colab_link": true
    },
    "kernelspec": {
      "name": "python3",
      "display_name": "Python 3"
    },
    "language_info": {
      "name": "python"
    }
  },
  "cells": [
    {
      "cell_type": "markdown",
      "metadata": {
        "id": "view-in-github",
        "colab_type": "text"
      },
      "source": [
        "<a href=\"https://colab.research.google.com/github/KyoungmiKwon/Bigdata_Training_at_ITwill/blob/main/Team_project/C05_SJ_add_resize.ipynb\" target=\"_parent\"><img src=\"https://colab.research.google.com/assets/colab-badge.svg\" alt=\"Open In Colab\"/></a>"
      ]
    },
    {
      "cell_type": "code",
      "metadata": {
        "colab": {
          "base_uri": "https://localhost:8080/"
        },
        "id": "Gw4QIb6c9HI8",
        "outputId": "b76c76f6-38dd-4465-c870-afccc7d3f0f9"
      },
      "source": [
        "#Konlpy 설치\n",
        "%%bash\n",
        "apt-get update\n",
        "apt-get install g++ openjdk-8-jdk python-dev python3-dev\n",
        "pip3 install JPype1\n",
        "pip3 install konlpy\n"
      ],
      "execution_count": 4,
      "outputs": [
        {
          "output_type": "stream",
          "text": [
            "Ign:1 https://developer.download.nvidia.com/compute/cuda/repos/ubuntu1804/x86_64  InRelease\n",
            "Ign:2 https://developer.download.nvidia.com/compute/machine-learning/repos/ubuntu1804/x86_64  InRelease\n",
            "Hit:3 https://developer.download.nvidia.com/compute/cuda/repos/ubuntu1804/x86_64  Release\n",
            "Hit:4 https://developer.download.nvidia.com/compute/machine-learning/repos/ubuntu1804/x86_64  Release\n",
            "Get:5 http://security.ubuntu.com/ubuntu bionic-security InRelease [88.7 kB]\n",
            "Hit:7 http://ppa.launchpad.net/c2d4u.team/c2d4u4.0+/ubuntu bionic InRelease\n",
            "Hit:8 http://archive.ubuntu.com/ubuntu bionic InRelease\n",
            "Get:10 http://archive.ubuntu.com/ubuntu bionic-updates InRelease [88.7 kB]\n",
            "Hit:11 http://ppa.launchpad.net/cran/libgit2/ubuntu bionic InRelease\n",
            "Hit:12 https://cloud.r-project.org/bin/linux/ubuntu bionic-cran40/ InRelease\n",
            "Hit:13 http://ppa.launchpad.net/deadsnakes/ppa/ubuntu bionic InRelease\n",
            "Get:14 http://archive.ubuntu.com/ubuntu bionic-backports InRelease [74.6 kB]\n",
            "Hit:15 http://ppa.launchpad.net/graphics-drivers/ppa/ubuntu bionic InRelease\n",
            "Fetched 252 kB in 2s (116 kB/s)\n",
            "Reading package lists...\n",
            "Reading package lists...\n",
            "Building dependency tree...\n",
            "Reading state information...\n",
            "python-dev is already the newest version (2.7.15~rc1-1).\n",
            "g++ is already the newest version (4:7.4.0-1ubuntu2.3).\n",
            "python3-dev is already the newest version (3.6.7-1~18.04).\n",
            "openjdk-8-jdk is already the newest version (8u292-b10-0ubuntu1~18.04).\n",
            "The following package was automatically installed and is no longer required:\n",
            "  libnvidia-common-460\n",
            "Use 'apt autoremove' to remove it.\n",
            "0 upgraded, 0 newly installed, 0 to remove and 76 not upgraded.\n",
            "Requirement already satisfied: JPype1 in /usr/local/lib/python3.7/dist-packages (1.2.1)\n",
            "Requirement already satisfied: typing-extensions; python_version < \"3.8\" in /usr/local/lib/python3.7/dist-packages (from JPype1) (3.7.4.3)\n",
            "Requirement already satisfied: konlpy in /usr/local/lib/python3.7/dist-packages (0.5.2)\n",
            "Requirement already satisfied: JPype1>=0.7.0 in /usr/local/lib/python3.7/dist-packages (from konlpy) (1.2.1)\n",
            "Requirement already satisfied: lxml>=4.1.0 in /usr/local/lib/python3.7/dist-packages (from konlpy) (4.2.6)\n",
            "Requirement already satisfied: tweepy>=3.7.0 in /usr/local/lib/python3.7/dist-packages (from konlpy) (3.10.0)\n",
            "Requirement already satisfied: numpy>=1.6 in /usr/local/lib/python3.7/dist-packages (from konlpy) (1.19.5)\n",
            "Requirement already satisfied: colorama in /usr/local/lib/python3.7/dist-packages (from konlpy) (0.4.4)\n",
            "Requirement already satisfied: beautifulsoup4==4.6.0 in /usr/local/lib/python3.7/dist-packages (from konlpy) (4.6.0)\n",
            "Requirement already satisfied: typing-extensions; python_version < \"3.8\" in /usr/local/lib/python3.7/dist-packages (from JPype1>=0.7.0->konlpy) (3.7.4.3)\n",
            "Requirement already satisfied: requests-oauthlib>=0.7.0 in /usr/local/lib/python3.7/dist-packages (from tweepy>=3.7.0->konlpy) (1.3.0)\n",
            "Requirement already satisfied: requests[socks]>=2.11.1 in /usr/local/lib/python3.7/dist-packages (from tweepy>=3.7.0->konlpy) (2.23.0)\n",
            "Requirement already satisfied: six>=1.10.0 in /usr/local/lib/python3.7/dist-packages (from tweepy>=3.7.0->konlpy) (1.15.0)\n",
            "Requirement already satisfied: oauthlib>=3.0.0 in /usr/local/lib/python3.7/dist-packages (from requests-oauthlib>=0.7.0->tweepy>=3.7.0->konlpy) (3.1.0)\n",
            "Requirement already satisfied: urllib3!=1.25.0,!=1.25.1,<1.26,>=1.21.1 in /usr/local/lib/python3.7/dist-packages (from requests[socks]>=2.11.1->tweepy>=3.7.0->konlpy) (1.24.3)\n",
            "Requirement already satisfied: certifi>=2017.4.17 in /usr/local/lib/python3.7/dist-packages (from requests[socks]>=2.11.1->tweepy>=3.7.0->konlpy) (2020.12.5)\n",
            "Requirement already satisfied: idna<3,>=2.5 in /usr/local/lib/python3.7/dist-packages (from requests[socks]>=2.11.1->tweepy>=3.7.0->konlpy) (2.10)\n",
            "Requirement already satisfied: chardet<4,>=3.0.2 in /usr/local/lib/python3.7/dist-packages (from requests[socks]>=2.11.1->tweepy>=3.7.0->konlpy) (3.0.4)\n",
            "Requirement already satisfied: PySocks!=1.5.7,>=1.5.6; extra == \"socks\" in /usr/local/lib/python3.7/dist-packages (from requests[socks]>=2.11.1->tweepy>=3.7.0->konlpy) (1.7.1)\n",
            "mecab-ko is already installed\n",
            "mecab-ko-dic is already installed\n",
            "mecab-python is already installed\n",
            "Done.\n",
            "Processing /tmp/mecab-python-0.996\n",
            "Building wheels for collected packages: mecab-python\n",
            "  Building wheel for mecab-python (setup.py): started\n",
            "  Building wheel for mecab-python (setup.py): finished with status 'done'\n",
            "  Created wheel for mecab-python: filename=mecab_python-0.996_ko_0.9.2-cp37-cp37m-linux_x86_64.whl size=141805 sha256=e0e4e237aaca228b546a7198a6a349e1a9af61a1778a37dfe9f8b2c3a42c5b43\n",
            "  Stored in directory: /root/.cache/pip/wheels/99/75/a6/e9e73a1dbd73579383644942ef18a6d17ad728a3052a1147fb\n",
            "Successfully built mecab-python\n",
            "Installing collected packages: mecab-python\n",
            "  Found existing installation: mecab-python 0.996-ko-0.9.2\n",
            "    Uninstalling mecab-python-0.996-ko-0.9.2:\n",
            "      Successfully uninstalled mecab-python-0.996-ko-0.9.2\n",
            "Successfully installed mecab-python-0.996-ko-0.9.2\n"
          ],
          "name": "stdout"
        },
        {
          "output_type": "stream",
          "text": [
            "bash: line 6: fg: no job control\n",
            "bash: line 8: fg: no job control\n",
            "bash: line 13: !git: command not found\n",
            "bash: line 14: !pip: command not found\n",
            "from: can't read /var/mail/ekonlpy.tag\n",
            "bash: line 17: import: command not found\n",
            "bash: line 18: import: command not found\n",
            "bash: line 19: import: command not found\n"
          ],
          "name": "stderr"
        }
      ]
    },
    {
      "cell_type": "code",
      "metadata": {
        "colab": {
          "base_uri": "https://localhost:8080/"
        },
        "id": "9YheX81lP6fF",
        "outputId": "71c1acb0-9232-4090-cfed-7515601a16ac"
      },
      "source": [
        "#Mecab 설치\n",
        "%env JAVA_HOME \"/usr/lib/jvm/java-8-openjdk-amd64\""
      ],
      "execution_count": 5,
      "outputs": [
        {
          "output_type": "stream",
          "text": [
            "env: JAVA_HOME=\"/usr/lib/jvm/java-8-openjdk-amd64\"\n"
          ],
          "name": "stdout"
        }
      ]
    },
    {
      "cell_type": "code",
      "metadata": {
        "colab": {
          "base_uri": "https://localhost:8080/"
        },
        "id": "yPzCRHmDP851",
        "outputId": "426a7e59-100e-4d62-9cc9-5cae3d7c2a69"
      },
      "source": [
        "%%bash\n",
        "bash <(curl -s https://raw.githubusercontent.com/konlpy/konlpy/master/scripts/mecab.sh)\n",
        "pip3 install /tmp/mecab-python-0.996"
      ],
      "execution_count": 6,
      "outputs": [
        {
          "output_type": "stream",
          "text": [
            "mecab-ko is already installed\n",
            "mecab-ko-dic is already installed\n",
            "mecab-python is already installed\n",
            "Done.\n",
            "Processing /tmp/mecab-python-0.996\n",
            "Building wheels for collected packages: mecab-python\n",
            "  Building wheel for mecab-python (setup.py): started\n",
            "  Building wheel for mecab-python (setup.py): finished with status 'done'\n",
            "  Created wheel for mecab-python: filename=mecab_python-0.996_ko_0.9.2-cp37-cp37m-linux_x86_64.whl size=141810 sha256=32cd4d0e1ea0c4da912ada1421b166e005a17c06e16bc92fcc412d4d42b35453\n",
            "  Stored in directory: /root/.cache/pip/wheels/99/75/a6/e9e73a1dbd73579383644942ef18a6d17ad728a3052a1147fb\n",
            "Successfully built mecab-python\n",
            "Installing collected packages: mecab-python\n",
            "  Found existing installation: mecab-python 0.996-ko-0.9.2\n",
            "    Uninstalling mecab-python-0.996-ko-0.9.2:\n",
            "      Successfully uninstalled mecab-python-0.996-ko-0.9.2\n",
            "Successfully installed mecab-python-0.996-ko-0.9.2\n"
          ],
          "name": "stdout"
        }
      ]
    },
    {
      "cell_type": "code",
      "metadata": {
        "colab": {
          "base_uri": "https://localhost:8080/"
        },
        "id": "Ogpg0d4iP_VF",
        "outputId": "f72cedb6-0211-4420-81fd-4410286ac1bd"
      },
      "source": [
        "!git clone https://github.com/entelecheia/eKoNLpy.git\n",
        "!pip install /content/eKoNLpy"
      ],
      "execution_count": 7,
      "outputs": [
        {
          "output_type": "stream",
          "text": [
            "Cloning into 'eKoNLpy'...\n",
            "remote: Enumerating objects: 3590, done.\u001b[K\n",
            "remote: Total 3590 (delta 0), reused 0 (delta 0), pack-reused 3590\u001b[K\n",
            "Receiving objects: 100% (3590/3590), 73.30 MiB | 21.41 MiB/s, done.\n",
            "Resolving deltas: 100% (2618/2618), done.\n",
            "Processing ./eKoNLpy\n",
            "Requirement already satisfied: konlpy>=0.4.4 in /usr/local/lib/python3.7/dist-packages (from eKoNLPy==0.5.30) (0.5.2)\n",
            "Requirement already satisfied: nltk>=2.0 in /usr/local/lib/python3.7/dist-packages (from eKoNLPy==0.5.30) (3.2.5)\n",
            "Requirement already satisfied: gensim>=3.1.0 in /usr/local/lib/python3.7/dist-packages (from eKoNLPy==0.5.30) (3.6.0)\n",
            "Requirement already satisfied: scipy>=0.19.1 in /usr/local/lib/python3.7/dist-packages (from eKoNLPy==0.5.30) (1.4.1)\n",
            "Requirement already satisfied: numpy>=1.13 in /usr/local/lib/python3.7/dist-packages (from eKoNLPy==0.5.30) (1.19.5)\n",
            "Requirement already satisfied: colorama in /usr/local/lib/python3.7/dist-packages (from konlpy>=0.4.4->eKoNLPy==0.5.30) (0.4.4)\n",
            "Requirement already satisfied: JPype1>=0.7.0 in /usr/local/lib/python3.7/dist-packages (from konlpy>=0.4.4->eKoNLPy==0.5.30) (1.2.1)\n",
            "Requirement already satisfied: beautifulsoup4==4.6.0 in /usr/local/lib/python3.7/dist-packages (from konlpy>=0.4.4->eKoNLPy==0.5.30) (4.6.0)\n",
            "Requirement already satisfied: lxml>=4.1.0 in /usr/local/lib/python3.7/dist-packages (from konlpy>=0.4.4->eKoNLPy==0.5.30) (4.2.6)\n",
            "Requirement already satisfied: tweepy>=3.7.0 in /usr/local/lib/python3.7/dist-packages (from konlpy>=0.4.4->eKoNLPy==0.5.30) (3.10.0)\n",
            "Requirement already satisfied: six in /usr/local/lib/python3.7/dist-packages (from nltk>=2.0->eKoNLPy==0.5.30) (1.15.0)\n",
            "Requirement already satisfied: smart-open>=1.2.1 in /usr/local/lib/python3.7/dist-packages (from gensim>=3.1.0->eKoNLPy==0.5.30) (5.0.0)\n",
            "Requirement already satisfied: typing-extensions; python_version < \"3.8\" in /usr/local/lib/python3.7/dist-packages (from JPype1>=0.7.0->konlpy>=0.4.4->eKoNLPy==0.5.30) (3.7.4.3)\n",
            "Requirement already satisfied: requests-oauthlib>=0.7.0 in /usr/local/lib/python3.7/dist-packages (from tweepy>=3.7.0->konlpy>=0.4.4->eKoNLPy==0.5.30) (1.3.0)\n",
            "Requirement already satisfied: requests[socks]>=2.11.1 in /usr/local/lib/python3.7/dist-packages (from tweepy>=3.7.0->konlpy>=0.4.4->eKoNLPy==0.5.30) (2.23.0)\n",
            "Requirement already satisfied: oauthlib>=3.0.0 in /usr/local/lib/python3.7/dist-packages (from requests-oauthlib>=0.7.0->tweepy>=3.7.0->konlpy>=0.4.4->eKoNLPy==0.5.30) (3.1.0)\n",
            "Requirement already satisfied: idna<3,>=2.5 in /usr/local/lib/python3.7/dist-packages (from requests[socks]>=2.11.1->tweepy>=3.7.0->konlpy>=0.4.4->eKoNLPy==0.5.30) (2.10)\n",
            "Requirement already satisfied: chardet<4,>=3.0.2 in /usr/local/lib/python3.7/dist-packages (from requests[socks]>=2.11.1->tweepy>=3.7.0->konlpy>=0.4.4->eKoNLPy==0.5.30) (3.0.4)\n",
            "Requirement already satisfied: urllib3!=1.25.0,!=1.25.1,<1.26,>=1.21.1 in /usr/local/lib/python3.7/dist-packages (from requests[socks]>=2.11.1->tweepy>=3.7.0->konlpy>=0.4.4->eKoNLPy==0.5.30) (1.24.3)\n",
            "Requirement already satisfied: certifi>=2017.4.17 in /usr/local/lib/python3.7/dist-packages (from requests[socks]>=2.11.1->tweepy>=3.7.0->konlpy>=0.4.4->eKoNLPy==0.5.30) (2020.12.5)\n",
            "Requirement already satisfied: PySocks!=1.5.7,>=1.5.6; extra == \"socks\" in /usr/local/lib/python3.7/dist-packages (from requests[socks]>=2.11.1->tweepy>=3.7.0->konlpy>=0.4.4->eKoNLPy==0.5.30) (1.7.1)\n",
            "Building wheels for collected packages: eKoNLPy\n",
            "  Building wheel for eKoNLPy (setup.py) ... \u001b[?25l\u001b[?25hdone\n",
            "  Created wheel for eKoNLPy: filename=eKoNLPy-0.5.30-cp37-none-any.whl size=14437140 sha256=00d7de6bf075e7a4f0a1f2aa7d3363dcc1a16d3749f13db134c345ed65dca5d1\n",
            "  Stored in directory: /tmp/pip-ephem-wheel-cache-x8qho81f/wheels/42/07/b6/a197e00efdc4534f4c1d281bd028c47764df1a63a8b311aa3d\n",
            "Successfully built eKoNLPy\n",
            "Installing collected packages: eKoNLPy\n",
            "Successfully installed eKoNLPy-0.5.30\n"
          ],
          "name": "stdout"
        }
      ]
    },
    {
      "cell_type": "code",
      "metadata": {
        "id": "KBXRbCZPQCZd"
      },
      "source": [
        "\n",
        "from ekonlpy.tag import Mecab\n",
        "import pandas as pd\n",
        "import numpy as np\n",
        "import matplotlib.pyplot as plt"
      ],
      "execution_count": 8,
      "outputs": []
    },
    {
      "cell_type": "code",
      "metadata": {
        "id": "rf3uyFX19K4i"
      },
      "source": [
        "import abc\n",
        "from ekonlpy.utils import installpath\n",
        "\n",
        "LEXICON_PATH = '%s/data/lexicon' % installpath\n",
        "\n",
        "\n",
        "class BaseDict(object):\n",
        " \n",
        "\n",
        "    __metaclass__ = abc.ABCMeta\n",
        "\n",
        "    TAG_POL = 'Polarity'\n",
        "    TAG_SUB = 'Subjectivity'\n",
        "    TAG_POS = 'Positive'\n",
        "    TAG_NEG = 'Negative'\n",
        "\n",
        "    EPSILON = 1e-6\n",
        "\n",
        "    def __init__(self, tokenizer=None, kind=None, intensity_cutoff=None):\n",
        "        self._posdict = {}\n",
        "        self._negdict = {}\n",
        "        self._poldict = {}\n",
        "        self._intensity_cutoff = intensity_cutoff\n",
        "        self.init_dict(kind, intensity_cutoff)\n",
        "        if tokenizer is None:\n",
        "            self.init_tokenizer(kind)\n",
        "        else:\n",
        "            self._tokenizer = tokenizer\n",
        "\n",
        "        assert len(self._posdict) > 0 and len(self._negdict) > 0\n",
        "\n",
        "    def tokenize(self, text):\n",
        "\n",
        "        return self._tokenizer.tokenize(text)\n",
        "\n",
        "\n",
        "    @abc.abstractmethod\n",
        "    def init_tokenizer(self, kind):\n",
        "        pass\n",
        "\n",
        "    @abc.abstractmethod\n",
        "    def init_dict(self, kind, intensity_cutoff):\n",
        "        pass\n",
        "\n",
        "    def _get_score(self, term, by_count=True):\n",
        "\n",
        "        if by_count:\n",
        "            if term in self._posdict.keys():\n",
        "                return self._posdict[term]\n",
        "            elif term in self._negdict.keys():\n",
        "                return self._negdict[term]\n",
        "            else:\n",
        "                return 0\n",
        "        else:\n",
        "            if term in self._poldict.keys():\n",
        "                return self._poldict[term]\n",
        "            else:\n",
        "                return 0\n",
        "\n",
        "    def get_score(self, terms, by_count=True):\n",
        "\n",
        "        assert isinstance(terms, list) or isinstance(terms, tuple)\n",
        "        score_li = [self._get_score(t, by_count) for t in terms]\n",
        "        pos_score_li = [s for s in score_li if s > 0]\n",
        "        neg_score_li = [s for s in score_li if s < 0]\n",
        "\n",
        "        s_pos = sum(pos_score_li)\n",
        "        s_neg = sum(neg_score_li)\n",
        "\n",
        "        s_pol = (s_pos + s_neg) * 1.0 / (((s_pos - s_neg) if by_count else len(score_li)) + self.EPSILON)\n",
        "        s_sub = (len(pos_score_li) + len(neg_score_li)) * 1.0 / (len(score_li) + self.EPSILON)\n",
        "\n",
        "        return {self.TAG_POS: s_pos,\n",
        "                self.TAG_NEG: s_neg,\n",
        "                self.TAG_POL: s_pol,\n",
        "                self.TAG_SUB: s_sub}"
      ],
      "execution_count": 9,
      "outputs": []
    },
    {
      "cell_type": "code",
      "metadata": {
        "id": "jBk-BZOk9pvK"
      },
      "source": [
        "import abc\n",
        "import re\n",
        "import nltk\n",
        "import os\n",
        "from ekonlpy.tag import Mecab\n",
        "from ekonlpy.sentiment.base import LEXICON_PATH\n",
        "from konlpy.tag import Kkma\n",
        "\n",
        "\n",
        "class BaseTokenizer(object):\n",
        "    '''\n",
        "    An abstract class for tokenize text.\n",
        "    '''\n",
        "\n",
        "    __metaclass__ = abc.ABCMeta\n",
        "\n",
        "    @abc.abstractmethod\n",
        "    def tokenize(self, text):\n",
        "        '''Return tokenized temrs.\n",
        "        \n",
        "        :type text: str\n",
        "        \n",
        "        :returns: list \n",
        "        '''\n",
        "        pass\n",
        "\n",
        "    # @abc.abstractmethod\n",
        "    # def ngramize(self, tokens):\n",
        "    #     '''Return n-gramized temrs.\n",
        "    #\n",
        "    #     :type tokens: list of tokens\n",
        "    #\n",
        "    #     :returns: list\n",
        "    #     '''\n",
        "    #     pass\n",
        "\n",
        "\n",
        "class KTokenizer(BaseTokenizer):\n",
        "    '''\n",
        "    The default tokenizer for KSA sub class.\n",
        "    The output of the tokenizer is tagged by Kkma.\n",
        "    '''\n",
        "\n",
        "    def __init__(self, vocab=None):\n",
        "        self._tagger = Kkma()\n",
        "        self._vocab = vocab\n",
        "        self._min_ngram = 1\n",
        "        self._ngram = 3\n",
        "        self._delimiter = ';'\n",
        "        self._skiptags = ['SF', 'SP', 'SS', 'SE', 'SO', 'SW', 'UN', 'UV', 'UE', 'OL', 'OH', 'ON']\n",
        "\n",
        "    def tokenize(self, text):\n",
        "        tokens = []\n",
        "        if type(text) == list:\n",
        "            for t in text:\n",
        "                tokens += self.morpheme(t)\n",
        "        elif type(text) == str:\n",
        "            tokens = self.morpheme(text)\n",
        "        else:\n",
        "            raise ValueError('The dataset has to be string or list of string type.')\n",
        "\n",
        "        return self.ngramize(tokens)\n",
        "\n",
        "    def ngramize(self, tokens):\n",
        "        ngram_tokens = []\n",
        "        tokens = [w for w in tokens if w.split('/')[1] not in self._skiptags]\n",
        "        for pos in range(len(tokens)):\n",
        "            for gram in range(1, self._ngram + 1):\n",
        "                token = self.get_ngram(tokens, pos, gram)\n",
        "                if token:\n",
        "                    if self._vocab is None:\n",
        "                        ngram_tokens.append(token)\n",
        "                    else:\n",
        "                        if token in self._vocab:\n",
        "                            ngram_tokens.append(token)\n",
        "        return ngram_tokens\n",
        "\n",
        "    def get_ngram(self, tokens, pos, gram):\n",
        "        if pos < 0:\n",
        "            return None\n",
        "        if pos + gram > len(tokens):\n",
        "            return None\n",
        "        token = tokens[pos]\n",
        "        for i in range(1, gram):\n",
        "            token += self._delimiter + tokens[pos + i]\n",
        "        return token\n",
        "\n",
        "    def morpheme(self, dataset):\n",
        "        return self.align_morpheme(self._tagger.pos(dataset))\n",
        "\n",
        "    def align_morpheme(self, morpheme):\n",
        "        return ['{}/{}'.format(w, t) for w, t in morpheme]"
      ],
      "execution_count": 10,
      "outputs": []
    },
    {
      "cell_type": "code",
      "metadata": {
        "id": "PRmQmqP_9szK"
      },
      "source": [
        "import os\n",
        "from konlpy.tag import Kkma\n",
        "from ekonlpy.sentiment.base import LEXICON_PATH, BaseDict\n",
        "from ekonlpy.sentiment.utils import KTokenizer\n",
        "from ekonlpy.tag import Mecab\n",
        "\n",
        "class KSAA(BaseDict):\n",
        "    '''\n",
        "    Dictionary class for\n",
        "    Korean Sentiment Analysis.\n",
        "    '''\n",
        "\n",
        "    def init_tokenizer(self, kind=None):\n",
        "        self._tokenizer = KTokenizer(self._poldict)\n",
        "\n",
        "    def init_dict(self, kind=None, intensity_cutoff=None):\n",
        "        path = os.path.join('/content/polar_dictionary.csv')\n",
        "        with open(path, encoding='utf-8') as f:\n",
        "            for line in f:\n",
        "                word = line.split(',')\n",
        "                w = word[0]\n",
        "                if w == 'ngram':\n",
        "                    continue\n",
        "                \n",
        "                p = float(word[6].strip())\n",
        "                n = float(word[3].strip())\n",
        "                s = p - n\n",
        "                if len(w) > 1:\n",
        "                    if s > 0:\n",
        "                        self._posdict[w] = 1\n",
        "                        self._poldict[w] = s\n",
        "                    elif s < 0:\n",
        "                        self._negdict[w] = -1\n",
        "                        self._poldict[w] = s\n",
        "\n",
        "\n",
        "class KOSAC(object):\n",
        "    def __init__(self):\n",
        "        self._loaddic()\n",
        "        self._tagger = Mecab()\n",
        "        self._ngram = 3\n",
        "        self._delimiter = ';'\n",
        "        self._skiptags = ['SF', 'SP', 'SS', 'SE', 'SO', 'SW', 'UN', 'UV', 'UE', 'OL', 'OH', 'ON']\n",
        "\n",
        "    def _loaddic(self):\n",
        "        self._polarity = self._loadfile('/content/polar_dictionary.csv')\n",
        "        self._expressive = self._loadfile(os.path.join(LEXICON_PATH, 'kosac', 'expressive-type.csv'))\n",
        "        self._intensity = self._loadfile(os.path.join(LEXICON_PATH, 'kosac', 'intensity.csv'))\n",
        "\n",
        "    def _loadfile(self, file_path, delimiter=','):\n",
        "        vocab = {}\n",
        "        if os.path.isfile(file_path):\n",
        "            with open(file_path) as f:\n",
        "                for lno, line in enumerate(f):\n",
        "                    # skip header\n",
        "                    if lno == 0:\n",
        "                        headers = line.strip().split(delimiter)\n",
        "                    else:\n",
        "                        if len(line) > 0:\n",
        "                            row = line.strip().split(delimiter)\n",
        "                            ngram = row[0]\n",
        "                            # ngram_split = tuple(ngram.split(';'))\n",
        "                            data = {}\n",
        "                            for i, header in enumerate(headers):\n",
        "                                if i > 0:\n",
        "                                    data[header] = row[i]\n",
        "                            vocab[ngram] = data\n",
        "        return vocab\n",
        "\n",
        "    def morpheme(self, dataset):\n",
        "        return self.align_morpheme(self._tagger.pos(dataset))\n",
        "\n",
        "    def align_morpheme(self, morpheme):\n",
        "        return ['{}/{}'.format(w, t) for w, t in morpheme]\n",
        "\n",
        "    def percentage(self, obj):\n",
        "        return {k: v / sum(obj.values()) for k, v in obj.items()}\n",
        "\n",
        "    def calc(self, keypairs, source, target, func):\n",
        "        for keypair in keypairs:\n",
        "            sourcekey = keypair[0]\n",
        "            targetkey = keypair[1]\n",
        "            if sourcekey in source:\n",
        "                sourcedata = source[sourcekey]\n",
        "                sourcedata = float(sourcedata)\n",
        "                target[targetkey] = func(sourcedata, target[targetkey])\n",
        "        return target\n",
        "\n",
        "    def match(self, data, pairdata, keypairs):\n",
        "        ret = {k[1]: 0 for k in keypairs}\n",
        "        for m in data:\n",
        "            if m in pairdata:\n",
        "                currentdata = pairdata[m]\n",
        "                ret = self.calc(keypairs, currentdata, ret,\n",
        "                                lambda s, t: t + s)\n",
        "        return self.percentage(ret)\n",
        "\n",
        "    def polarity(self, data):\n",
        "        return self.match(data,\n",
        "                          self._polarity,\n",
        "                          [['COMP', 'com'],\n",
        "                           ['POS', 'pos'],\n",
        "                           ['NEG', 'neg'],\n",
        "                           ['NEUT', 'neut'],\n",
        "                           ['None', 'none']])\n",
        "\n",
        "    def intensity(self, data):\n",
        "        return self.match(data,\n",
        "                          self._intensity,\n",
        "                          [['High', 'high'],\n",
        "                           ['Low', 'low'],\n",
        "                           ['Medium', 'medium'],\n",
        "                           ['None', 'none']])\n",
        "\n",
        "    def expressive(self, data):\n",
        "        return self.match(data,\n",
        "                          self._expressive,\n",
        "                          [['dir-action', 'dir-action'],\n",
        "                           ['dir-explicit', 'dir-explicit'],\n",
        "                           ['dir-speech', 'dir-speech'],\n",
        "                           ['indirect', 'indirect'],\n",
        "                           ['writing-device', 'writing-device']])\n",
        "\n",
        "    def analyze(self, dataset):\n",
        "        dataset = self.parse(dataset)\n",
        "        ret = {}\n",
        "        for analysis in ['polarity', 'intensity', 'expressive']:\n",
        "            func = getattr(self, analysis)\n",
        "            ret[analysis] = func(dataset)\n",
        "        return ret\n",
        "\n",
        "    def parse(self, dataset):\n",
        "        tokens = []\n",
        "        if type(dataset) == list:\n",
        "            for t in dataset:\n",
        "                tokens += self.morpheme(t)\n",
        "        elif type(dataset) == str:\n",
        "            tokens = self.morpheme(dataset)\n",
        "        else:\n",
        "            raise ValueError('The dataset has to be string or list of string type.')\n",
        "\n",
        "        return self.ngramize(tokens)\n",
        "\n",
        "    def ngramize(self, tokens):\n",
        "        ngram_tokens = []\n",
        "        tokens = [w for w in tokens if w.split('/')[1] not in self._skiptags]\n",
        "        for pos in range(len(tokens)):\n",
        "            for gram in range(1, self._ngram + 1):\n",
        "                token = self.get_ngram(tokens, pos, gram)\n",
        "                if token:\n",
        "                    ngram_tokens.append(token)\n",
        "        return ngram_tokens\n",
        "\n",
        "    def get_ngram(self, tokens, pos, gram):\n",
        "        if pos < 0:\n",
        "            return None\n",
        "        if pos + gram > len(tokens):\n",
        "            return None\n",
        "        token = tokens[pos]\n",
        "        for i in range(1, gram):\n",
        "            token += self._delimiter + tokens[pos + i]\n",
        "        return token"
      ],
      "execution_count": 11,
      "outputs": []
    },
    {
      "cell_type": "code",
      "metadata": {
        "id": "exN6ZYSP9uop"
      },
      "source": [
        "ksaa = KSAA()"
      ],
      "execution_count": 12,
      "outputs": []
    },
    {
      "cell_type": "markdown",
      "metadata": {
        "id": "3eLPs3ARUA7U"
      },
      "source": [
        "# **resized 사전 사용 >>추가된 사전으로 정확도 측정**"
      ]
    },
    {
      "cell_type": "code",
      "metadata": {
        "colab": {
          "base_uri": "https://localhost:8080/"
        },
        "id": "0g3XR1RXQXvl",
        "outputId": "8f6e629e-8e6d-40c2-9de3-05be7d8bb5f3"
      },
      "source": [
        "xls_path='/content/C01_KM_Data_Labeling_resized (1).xlsx'\n",
        "news_copy = pd.read_excel(xls_path, header=5)\n",
        "\n",
        "ksaa = KSAA()\n",
        "title_pol_copy=[]\n",
        "for i in range(590):\n",
        "    for k in news_copy['Title'][i].replace('...','').replace('..','').replace('.','').split(sep='.'):\n",
        "        tokens= ksaa.tokenize(k)\n",
        "        score = ksaa.get_score(tokens)\n",
        "        title_pol_copy.append(score['Polarity'])\n",
        "\n",
        "#제목 극성 /2 = title_polr\n",
        "title_polr_copy=np.array(title_pol_copy)/2\n",
        "print(len(title_polr_copy))\n",
        "\n",
        "text_pol_copy=[]\n",
        "for i in range(590):\n",
        "    polar=0\n",
        "    for k in news_copy['Text'][i].split(sep='.'):\n",
        "        tokens= ksaa.tokenize(k)\n",
        "        score = ksaa.get_score(tokens)\n",
        "        polar+=score['Polarity']\n",
        "        sen_num=len(news_copy['Text'][i].split(sep='.'))\n",
        "    text_pol_copy.append(polar/sen_num)\n",
        "\n",
        "text_polr_copy=np.array(text_pol_copy)/2\n",
        "total_polr_copy=title_polr_copy + text_polr_copy\n",
        "news_arr_copy=np.array(news_copy['Sentiment'])\n",
        "news_copy['title_polar_copy']=title_polr_copy\n",
        "news_copy['text_polar_copy']=text_polr_copy\n",
        "news_copy['total_polar_copy']=total_polr_copy"
      ],
      "execution_count": 13,
      "outputs": [
        {
          "output_type": "stream",
          "text": [
            "590\n"
          ],
          "name": "stdout"
        }
      ]
    },
    {
      "cell_type": "code",
      "metadata": {
        "id": "vHch6TwcQirU"
      },
      "source": [
        "def polar_mean_copy( polar_set):\n",
        "    aa=news_copy[news_copy['Sentiment']==-1][f'{polar_set}']\n",
        "    aaa=0\n",
        "    # bb=news_set[news_set['Sentiment']==0][f'{polar_set}']\n",
        "    # bbb=0\n",
        "    cc=news_copy[news_copy['Sentiment']==1][f'{polar_set}']\n",
        "    ccc=0\n",
        "    for a in aa:\n",
        "        aaa+=a\n",
        "\n",
        "    # for b in bb:\n",
        "    #     bbb+=b\n",
        "\n",
        "    for c in cc:\n",
        "        ccc+=c\n",
        "    print(aaa/sum(news_copy['Sentiment']==-1), ccc/sum(news_copy['Sentiment']==1))\n",
        "    print(sum(news_copy['Sentiment']==-1),sum(news_copy['Sentiment']==1))\n",
        "    # print(f'neg_mean : {aaa/sum(news_set['Sentiment']==-1)}, neut_mean : {bbb/sum(news_set['Sentiment']==0)},pos_mean : {aaa/sum(news_set['Sentiment']==1)}')\n"
      ],
      "execution_count": 19,
      "outputs": []
    },
    {
      "cell_type": "code",
      "metadata": {
        "colab": {
          "base_uri": "https://localhost:8080/"
        },
        "id": "jf5-e8piQkfV",
        "outputId": "aa26d101-dbf1-455a-e167-bb3c4366363b"
      },
      "source": [
        "polar_mean_copy('title_polar_copy')\n",
        "polar_mean_copy('text_polar_copy')\n",
        "polar_mean_copy('total_polar_copy')"
      ],
      "execution_count": 20,
      "outputs": [
        {
          "output_type": "stream",
          "text": [
            "-0.022077302319230108 0.18888206444052785\n",
            "178 412\n",
            "0.05396961771751358 0.1291568312498757\n",
            "178 412\n",
            "0.031892315398283445 0.31803889569040333\n",
            "178 412\n"
          ],
          "name": "stdout"
        }
      ]
    },
    {
      "cell_type": "code",
      "metadata": {
        "id": "POQwyMCiQuXN"
      },
      "source": [
        "accuaracy=[]\n",
        "for x in np.arange(-0.2,0.2,0.001):\n",
        "    result_a_copy=[]\n",
        "    for a in news_copy['total_polar_copy']:    \n",
        "        if a > x:\n",
        "            result_a_copy.append(1)\n",
        "        else:\n",
        "            result_a_copy.append(-1)\n",
        "    ac = np.sum(np.equal(news_copy['Sentiment'],result_a_copy))/len(result_a_copy)\n",
        "    accuaracy.append(ac)\n",
        "    "
      ],
      "execution_count": 23,
      "outputs": []
    },
    {
      "cell_type": "code",
      "metadata": {
        "colab": {
          "base_uri": "https://localhost:8080/",
          "height": 280
        },
        "id": "AK7uAoN5Qv0W",
        "outputId": "3a258b4e-061e-4e05-aea4-98f550d8e20c"
      },
      "source": [
        "x= np.arange(-0.2,0.2,0.001)\n",
        "y=accuaracy\n",
        "plt.plot(x,y)\n",
        "plt.xlabel('Crit_Score')\n",
        "plt.ylabel('Total_ACC')\n",
        "plt.grid()\n",
        "plt.show()"
      ],
      "execution_count": 24,
      "outputs": [
        {
          "output_type": "display_data",
          "data": {
            "image/png": "[encoded data removed]",
            "text/plain": [
              "<Figure size 432x288 with 1 Axes>"
            ]
          },
          "metadata": {
            "tags": [],
            "needs_background": "light"
          }
        }
      ]
    },
    {
      "cell_type": "markdown",
      "metadata": {
        "id": "lZ-AjOesULOG"
      },
      "source": [
        "# **위와 동일 조건에서 한글자 단어 제거, 한 단어 문장 제거 79~80%**"
      ]
    },
    {
      "cell_type": "code",
      "metadata": {
        "colab": {
          "base_uri": "https://localhost:8080/"
        },
        "id": "D1DPUb1fQzMN",
        "outputId": "33b83d91-c92c-4b48-d0ef-dbbb67493445"
      },
      "source": [
        "xls_path='/content/C01_KM_Data_Labeling_resized (1).xlsx'\n",
        "news_copy = pd.read_excel(xls_path, header=5)\n",
        "\n",
        "ksaa = KSAA()\n",
        "title_pol_co=[]\n",
        "for i in range(590):\n",
        "    for k in news_copy['Title'][i].replace('...','').replace('..','').replace('.','').split(sep='.'):\n",
        "        tokens= ksaa.tokenize(k)\n",
        "        token_lst=[]  \n",
        "        for a in tokens:\n",
        "            one_dot=a.split('/')\n",
        "            if len(one_dot[0])!=int(1):\n",
        "                join_dot='/'.join(one_dot)\n",
        "                token_lst.append(join_dot)\n",
        "        if len(token_lst) < int(2):\n",
        "            token_lst=[]\n",
        "        score = ksaa.get_score(token_lst)\n",
        "        title_pol_co.append(score['Polarity'])\n",
        "\n",
        "#제목 극성 /2 = title_polr\n",
        "title_polr_co=np.array(title_pol_co)/2\n",
        "print(len(title_polr_co))\n",
        "\n",
        "text_pol_co=[]\n",
        "for i in range(590):\n",
        "    polar=0\n",
        "    for k in news_copy['Text'][i].split(sep='.'):\n",
        "        tokens= ksaa.tokenize(k)\n",
        "        token_lst=[]  \n",
        "        for a in tokens:\n",
        "            one_dot=a.split('/')\n",
        "            if len(one_dot[0])!=int(1):\n",
        "                join_dot='/'.join(one_dot)\n",
        "                token_lst.append(join_dot)\n",
        "        if len(token_lst) < int(2):\n",
        "            token_lst=[]\n",
        "        score = ksaa.get_score(token_lst)\n",
        "        polar+=score['Polarity']\n",
        "        sen_num=len(news_copy['Text'][i].split(sep='.'))\n",
        "    text_pol_co.append(polar/sen_num)\n",
        "\n",
        "\n",
        "text_polr_co=np.array(text_pol_co)*/2\n",
        "total_polr_co=title_polr_co + text_polr_co\n",
        "news_arr_co=np.array(news_copy['Sentiment'])\n",
        "news_copy['title_polar_co']=title_polr_co\n",
        "news_copy['text_polar_co']=text_polr_co\n",
        "news_copy['total_polar_co']=total_polr_co\n",
        "\n",
        "\n"
      ],
      "execution_count": 33,
      "outputs": [
        {
          "output_type": "stream",
          "text": [
            "590\n"
          ],
          "name": "stdout"
        }
      ]
    },
    {
      "cell_type": "code",
      "metadata": {
        "id": "rdk_8T4BQ1rm"
      },
      "source": [
        "def polar_mean_co( polar_set):\n",
        "    aa=news_copy[news_copy['Sentiment']==-1][f'{polar_set}']\n",
        "    aaa=0\n",
        "    # bb=news_set[news_set['Sentiment']==0][f'{polar_set}']\n",
        "    # bbb=0\n",
        "    cc=news_copy[news_copy['Sentiment']==1][f'{polar_set}']\n",
        "    ccc=0\n",
        "    for a in aa:\n",
        "        aaa+=a\n",
        "\n",
        "    # for b in bb:\n",
        "    #     bbb+=b\n",
        "\n",
        "    for c in cc:\n",
        "        ccc+=c\n",
        "    print(aaa/sum(news_copy['Sentiment']==-1), ccc/sum(news_copy['Sentiment']==1))\n",
        "    print(sum(news_copy['Sentiment']==-1),sum(news_copy['Sentiment']==1))"
      ],
      "execution_count": 34,
      "outputs": []
    },
    {
      "cell_type": "code",
      "metadata": {
        "colab": {
          "base_uri": "https://localhost:8080/"
        },
        "id": "6TXjeA8LQ5VV",
        "outputId": "3de9b23e-a234-42d9-807c-793c46c3d92f"
      },
      "source": [
        "polar_mean_co('title_polar_co')\n",
        "polar_mean_co('text_polar_co')\n",
        "polar_mean_co('total_polar_co')"
      ],
      "execution_count": 35,
      "outputs": [
        {
          "output_type": "stream",
          "text": [
            "0.004775278796817547 0.16955032952016186\n",
            "178 412\n",
            "0.07525937582875146 0.18119911713779613\n",
            "178 412\n",
            "0.080034654625569 0.3507494466579579\n",
            "178 412\n"
          ],
          "name": "stdout"
        }
      ]
    },
    {
      "cell_type": "code",
      "metadata": {
        "id": "Jlk2YDYeQ9CN"
      },
      "source": [
        "acc=[]\n",
        "for x in np.arange(-0.2,0.2,0.001):\n",
        "    result_a_co=[]\n",
        "    for a in news_copy['total_polar_co']:    \n",
        "        if a > x:\n",
        "            result_a_co.append(1)\n",
        "        else:\n",
        "            result_a_co.append(-1)\n",
        "    ac = np.sum(np.equal(news_copy['Sentiment'],result_a_co))/len(result_a_co)\n",
        "    acc.append(ac)\n",
        "    \n"
      ],
      "execution_count": 36,
      "outputs": []
    },
    {
      "cell_type": "code",
      "metadata": {
        "colab": {
          "base_uri": "https://localhost:8080/",
          "height": 280
        },
        "id": "1mvg37LqQ-Y9",
        "outputId": "6b8e8307-489c-4b41-871d-32bf9774f919"
      },
      "source": [
        "x= np.arange(-0.2,0.2,0.001)\n",
        "y=acc\n",
        "plt.plot(x,y)\n",
        "plt.xlabel('Crit_Score')\n",
        "plt.ylabel('Total_ACC')\n",
        "plt.grid()\n",
        "plt.show()"
      ],
      "execution_count": 37,
      "outputs": [
        {
          "output_type": "display_data",
          "data": {
            "image/png": "[encoded data removed]",
            "text/plain": [
              "<Figure size 432x288 with 1 Axes>"
            ]
          },
          "metadata": {
            "tags": [],
            "needs_background": "light"
          }
        }
      ]
    },
    {
      "cell_type": "code",
      "metadata": {
        "colab": {
          "base_uri": "https://localhost:8080/",
          "height": 280
        },
        "id": "68o6Q3MnW__t",
        "outputId": "5a1657a7-c313-4406-950b-39ae555543b3"
      },
      "source": [
        "acc=[]\n",
        "for x in np.arange(-0.2,0.2,0.001):\n",
        "    result_a_co=[]\n",
        "    for a in news_copy['title_polar_co']:    \n",
        "        if a > x:\n",
        "            result_a_co.append(1)\n",
        "        else:\n",
        "            result_a_co.append(-1)\n",
        "    ac = np.sum(np.equal(news_copy['Sentiment'],result_a_co))/len(result_a_co)\n",
        "    acc.append(ac)\n",
        "x= np.arange(-0.2,0.2,0.001)\n",
        "y=acc\n",
        "plt.plot(x,y)\n",
        "plt.xlabel('Crit_Score')\n",
        "plt.ylabel('Total_ACC')\n",
        "plt.grid()\n",
        "plt.show()"
      ],
      "execution_count": 38,
      "outputs": [
        {
          "output_type": "display_data",
          "data": {
            "image/png": "[encoded data removed]",
            "text/plain": [
              "<Figure size 432x288 with 1 Axes>"
            ]
          },
          "metadata": {
            "tags": [],
            "needs_background": "light"
          }
        }
      ]
    },
    {
      "cell_type": "code",
      "metadata": {
        "colab": {
          "base_uri": "https://localhost:8080/",
          "height": 281
        },
        "id": "2m-m4aulXIc8",
        "outputId": "9a0c5b51-6af7-44a6-8716-ac3acd565416"
      },
      "source": [
        "acc=[]\n",
        "for x in np.arange(-0.2,0.2,0.001):\n",
        "    result_a_co=[]\n",
        "    for a in news_copy['text_polar_co']:    \n",
        "        if a > x:\n",
        "            result_a_co.append(1)\n",
        "        else:\n",
        "            result_a_co.append(-1)\n",
        "    ac = np.sum(np.equal(news_copy['Sentiment'],result_a_co))/len(result_a_co)\n",
        "    acc.append(ac)\n",
        "x= np.arange(-0.2,0.2,0.001)\n",
        "y=acc\n",
        "plt.plot(x,y)\n",
        "plt.xlabel('Crit_Score')\n",
        "plt.ylabel('Total_ACC')\n",
        "plt.grid()\n",
        "plt.show()"
      ],
      "execution_count": 39,
      "outputs": [
        {
          "output_type": "display_data",
          "data": {
            "image/png": "[encoded data removed]",
            "text/plain": [
              "<Figure size 432x288 with 1 Axes>"
            ]
          },
          "metadata": {
            "tags": [],
            "needs_background": "light"
          }
        }
      ]
    },
    {
      "cell_type": "markdown",
      "metadata": {
        "id": "tKl-TzP2oRz_"
      },
      "source": [
        "# **text_polar와 title_polar의 가중치 조절을 통한 예측 80~81%**"
      ]
    },
    {
      "cell_type": "code",
      "metadata": {
        "id": "GgkpPiTnmAbI"
      },
      "source": [
        "title_polr_co_ree=np.array(title_pol_co)*0.2\n",
        "text_polr_co_ree=np.array(text_pol_co)*0.8\n",
        "total_polr_co_ree=title_polr_co_ree + text_polr_co_ree\n",
        "news_copy['total_polar_co_ree']=total_polr_co_ree"
      ],
      "execution_count": 76,
      "outputs": []
    },
    {
      "cell_type": "code",
      "metadata": {
        "colab": {
          "base_uri": "https://localhost:8080/"
        },
        "id": "OaWLgVLRn7I4",
        "outputId": "e451ff85-11b5-405e-dee9-9b5bc4297a05"
      },
      "source": [
        "polar_mean_co('total_polar_co_ree')"
      ],
      "execution_count": 77,
      "outputs": [
        {
          "output_type": "stream",
          "text": [
            "0.12232511284472937 0.3577387192285384\n",
            "178 412\n"
          ],
          "name": "stdout"
        }
      ]
    },
    {
      "cell_type": "code",
      "metadata": {
        "colab": {
          "base_uri": "https://localhost:8080/",
          "height": 280
        },
        "id": "MidEQccemRVw",
        "outputId": "4006dd25-2f5e-4fc3-e5a5-abde10e423fc"
      },
      "source": [
        "acc=[]\n",
        "for x in np.arange(-0.2,0.2,0.001):\n",
        "    result_a_co_ree=[]\n",
        "    for a in news_copy['total_polar_co_ree']:    \n",
        "        if a > x:\n",
        "            result_a_co_ree.append(1)\n",
        "        else:\n",
        "            result_a_co_ree.append(-1)\n",
        "    ac = np.sum(np.equal(news_copy['Sentiment'],result_a_co_ree))/len(result_a_co_ree)\n",
        "    acc.append(ac)\n",
        "\n",
        "x= np.arange(-0.2,0.2,0.001)\n",
        "y=acc\n",
        "plt.plot(x,y)\n",
        "plt.xlabel('Crit_Score')\n",
        "plt.ylabel('Total_ACC')\n",
        "plt.grid()\n",
        "plt.show()"
      ],
      "execution_count": 78,
      "outputs": [
        {
          "output_type": "display_data",
          "data": {
            "image/png": "[encoded data removed]",
            "text/plain": [
              "<Figure size 432x288 with 1 Axes>"
            ]
          },
          "metadata": {
            "tags": [],
            "needs_background": "light"
          }
        }
      ]
    },
    {
      "cell_type": "markdown",
      "metadata": {
        "id": "jfpH9xUbYMRM"
      },
      "source": [
        "## 기사 수가 적은 날은 중립으로 보고 제외 시킨 뒤 , \n",
        "# **나머지 기사를 가지고 감정분석을 통해 긍정, 부정 나누기.** "
      ]
    },
    {
      "cell_type": "code",
      "metadata": {
        "id": "ADtAJzx6olQ3"
      },
      "source": [
        "date_polar = pd.read_excel('/content/C01-1_KM_Data_LabelingResult_incl_resize.xlsx')"
      ],
      "execution_count": 79,
      "outputs": []
    },
    {
      "cell_type": "code",
      "metadata": {
        "id": "AkE2KAHNotuo"
      },
      "source": [
        "date_sent=date_polar[['Date','S']]"
      ],
      "execution_count": 82,
      "outputs": []
    },
    {
      "cell_type": "code",
      "metadata": {
        "id": "FTq0MSXzpct3"
      },
      "source": [
        "date_sent.to_csv('date_sent.csv',mode='w')"
      ],
      "execution_count": 85,
      "outputs": []
    },
    {
      "cell_type": "code",
      "metadata": {
        "id": "vX_tI8GZppon"
      },
      "source": [
        "date_pos=0\n",
        "date_neg=0\n",
        "date_neu=0"
      ],
      "execution_count": null,
      "outputs": []
    }
  ]
}