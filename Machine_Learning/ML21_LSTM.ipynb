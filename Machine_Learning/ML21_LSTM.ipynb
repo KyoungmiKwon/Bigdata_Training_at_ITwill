{
  "nbformat": 4,
  "nbformat_minor": 0,
  "metadata": {
    "colab": {
      "name": "ML21_LSTM.ipynb",
      "provenance": [],
      "collapsed_sections": [
        "yHp33fXq_0bw"
      ],
      "authorship_tag": "ABX9TyPxHHb2g52sxwpIm40wvRry",
      "include_colab_link": true
    },
    "kernelspec": {
      "name": "python3",
      "display_name": "Python 3"
    },
    "language_info": {
      "name": "python"
    },
    "accelerator": "GPU"
  },
  "cells": [
    {
      "cell_type": "markdown",
      "metadata": {
        "id": "view-in-github",
        "colab_type": "text"
      },
      "source": [
        "<a href=\"https://colab.research.google.com/github/KyoungmiKwon/Bigdata_Training_at_ITwill/blob/main/Machine_Learning/ML21_LSTM.ipynb\" target=\"_parent\"><img src=\"https://colab.research.google.com/assets/colab-badge.svg\" alt=\"Open In Colab\"/></a>"
      ]
    },
    {
      "cell_type": "markdown",
      "metadata": {
        "id": "tklSMbhfIOsT"
      },
      "source": [
        "*   IMDB 데이터 셋을 다운로드 - 가장 자주 사용되는 500개의 어휘 사전을 사용.\n",
        "*   각 샘플(리뷰)의 최대 단어 숫자가 100이 되도록 자르거나 패딩.\n",
        "*   LSTM 순환 층을 2개를 연결하는 모델을 생성\n",
        "    *   Input --> Embedding --> LSTM  --> LSTM --> Output\n",
        "        *   LSTM 층의 unit 개수 = 16\n",
        "        *   LSTM 층의 dropout 비율 = 0.3\n",
        "*   모델 컴파일\n",
        "*   모델 훈련\n",
        "*   학습 곡선 - 손실 곡선, 정확도 곡선\n",
        "*   모델 평가"
      ]
    },
    {
      "cell_type": "markdown",
      "metadata": {
        "id": "WqrV-dCwISJ4"
      },
      "source": [
        "# import"
      ]
    },
    {
      "cell_type": "code",
      "metadata": {
        "id": "RmNNGyJlHWfY"
      },
      "source": [
        "import matplotlib.pyplot as plt\n",
        "import numpy as np\n",
        "import pandas as pd\n",
        "\n",
        "import tensorflow as tf\n",
        "from tensorflow import keras\n",
        "\n",
        "from sklearn.model_selection import train_test_split"
      ],
      "execution_count": 20,
      "outputs": []
    },
    {
      "cell_type": "markdown",
      "metadata": {
        "id": "yHp33fXq_0bw"
      },
      "source": [
        "# Self solution"
      ]
    },
    {
      "cell_type": "markdown",
      "metadata": {
        "id": "aIruLLeCIZWx"
      },
      "source": [
        "## 데이터로드"
      ]
    },
    {
      "cell_type": "markdown",
      "metadata": {
        "id": "FOOJ2sxPz2is"
      },
      "source": [
        "IMDB 데이터 셋을 다운로드 - 가장 자주 사용되는 500개의 어휘 사전을 사용."
      ]
    },
    {
      "cell_type": "code",
      "metadata": {
        "colab": {
          "base_uri": "https://localhost:8080/"
        },
        "id": "jvwD4hOdIYUE",
        "outputId": "e99f5cdd-d704-4055-90fd-5d7d6c3da99d"
      },
      "source": [
        "# 데이터\n",
        "(x_tr_f, y_tr_f),(x_ts,y_ts) = keras.datasets.imdb.load_data(num_words=500)\n",
        "# 어휘 사전을 로드\n",
        "word_index = keras.datasets.imdb.get_word_index()"
      ],
      "execution_count": 12,
      "outputs": [
        {
          "output_type": "stream",
          "text": [
            "<string>:6: VisibleDeprecationWarning: Creating an ndarray from ragged nested sequences (which is a list-or-tuple of lists-or-tuples-or ndarrays with different lengths or shapes) is deprecated. If you meant to do this, you must specify 'dtype=object' when creating the ndarray\n",
            "/usr/local/lib/python3.7/dist-packages/tensorflow/python/keras/datasets/imdb.py:159: VisibleDeprecationWarning: Creating an ndarray from ragged nested sequences (which is a list-or-tuple of lists-or-tuples-or ndarrays with different lengths or shapes) is deprecated. If you meant to do this, you must specify 'dtype=object' when creating the ndarray\n",
            "  x_train, y_train = np.array(xs[:idx]), np.array(labels[:idx])\n",
            "/usr/local/lib/python3.7/dist-packages/tensorflow/python/keras/datasets/imdb.py:160: VisibleDeprecationWarning: Creating an ndarray from ragged nested sequences (which is a list-or-tuple of lists-or-tuples-or ndarrays with different lengths or shapes) is deprecated. If you meant to do this, you must specify 'dtype=object' when creating the ndarray\n",
            "  x_test, y_test = np.array(xs[idx:]), np.array(labels[idx:])\n"
          ],
          "name": "stderr"
        }
      ]
    },
    {
      "cell_type": "code",
      "metadata": {
        "id": "6eWv4BRCJRE7"
      },
      "source": [
        "x_tr, x_val, y_tr, y_val = train_test_split(x_tr_f,y_tr_f,\n",
        "                                            test_size = 0.2,\n",
        "                                            stratify= y_tr_f,\n",
        "                                            random_state = 42)"
      ],
      "execution_count": 13,
      "outputs": []
    },
    {
      "cell_type": "markdown",
      "metadata": {
        "id": "wkyEdSRTJEgv"
      },
      "source": [
        "## 데이터 정제"
      ]
    },
    {
      "cell_type": "markdown",
      "metadata": {
        "id": "QShCAXwcJWWa"
      },
      "source": [
        "각 샘플(리뷰)의 최대 단어 숫자가 100이 되도록 자르거나 패딩."
      ]
    },
    {
      "cell_type": "code",
      "metadata": {
        "id": "qjNdsjkxI4XQ"
      },
      "source": [
        "x_tr_seq = keras.preprocessing.sequence.pad_sequences(sequences=x_tr,maxlen=100)\n",
        "x_val_seq = keras.preprocessing.sequence.pad_sequences(sequences=x_val, maxlen=100)\n",
        "x_ts_seq = keras.preprocessing.sequence.pad_sequences(sequences=x_ts, maxlen=100)"
      ],
      "execution_count": 14,
      "outputs": []
    },
    {
      "cell_type": "code",
      "metadata": {
        "colab": {
          "base_uri": "https://localhost:8080/"
        },
        "id": "WCmv-zB6LXFN",
        "outputId": "1392784e-e5e3-4bfc-a7d9-bd071db11bf8"
      },
      "source": [
        "x_tr.shape,x_tr_seq.shape\n",
        "#> 500개의 단어로 이루어진 샘플(x_tr : 데이터 로드시 500 단어로 한정 시킴) 20_000개를 100개의 단어로 자르거나 padding함"
      ],
      "execution_count": 15,
      "outputs": [
        {
          "output_type": "execute_result",
          "data": {
            "text/plain": [
              "((20000,), (20000, 100))"
            ]
          },
          "metadata": {
            "tags": []
          },
          "execution_count": 15
        }
      ]
    },
    {
      "cell_type": "markdown",
      "metadata": {
        "id": "vyZZCjlQKjVo"
      },
      "source": [
        "## 모델 생성"
      ]
    },
    {
      "cell_type": "markdown",
      "metadata": {
        "id": "YgKv2heOKmS4"
      },
      "source": [
        "        *   LSTM 순환 층을 2개를 연결하는 모델을 생성\n",
        "            *   Input --> Embedding --> LSTM  --> LSTM --> Output\n",
        "                *   LSTM 층의 unit 개수 = 16\n",
        "                *   LSTM 층의 dropout 비율 = 0.3"
      ]
    },
    {
      "cell_type": "code",
      "metadata": {
        "id": "pcrGiy8OKd2r"
      },
      "source": [
        "md = keras.Sequential()"
      ],
      "execution_count": 40,
      "outputs": []
    },
    {
      "cell_type": "code",
      "metadata": {
        "colab": {
          "base_uri": "https://localhost:8080/"
        },
        "id": "HUqzI7SgKyGL",
        "outputId": "e4e650f1-3351-4e5a-bfed-2062ae5b9812"
      },
      "source": [
        "md.add(keras.layers.Embedding(input_dim=500,input_length=100,output_dim=16))\n",
        "md.add(keras.layers.LSTM(units=16, dropout=0.3, return_sequences=True))\n",
        "md.add(keras.layers.LSTM(units=16, dropout=0.3))\n",
        "md.add(keras.layers.Dense(units=1,activation='sigmoid'))\n",
        "\n",
        "md.summary()"
      ],
      "execution_count": 41,
      "outputs": [
        {
          "output_type": "stream",
          "text": [
            "Model: \"sequential_3\"\n",
            "_________________________________________________________________\n",
            "Layer (type)                 Output Shape              Param #   \n",
            "=================================================================\n",
            "embedding_5 (Embedding)      (None, 100, 16)           8000      \n",
            "_________________________________________________________________\n",
            "lstm_9 (LSTM)                (None, 100, 16)           2112      \n",
            "_________________________________________________________________\n",
            "lstm_10 (LSTM)               (None, 16)                2112      \n",
            "_________________________________________________________________\n",
            "dense_4 (Dense)              (None, 1)                 17        \n",
            "=================================================================\n",
            "Total params: 12,241\n",
            "Trainable params: 12,241\n",
            "Non-trainable params: 0\n",
            "_________________________________________________________________\n"
          ],
          "name": "stdout"
        }
      ]
    },
    {
      "cell_type": "code",
      "metadata": {
        "colab": {
          "base_uri": "https://localhost:8080/",
          "height": 533
        },
        "id": "u-oyAZPxN602",
        "outputId": "26f3ce92-280a-4011-b7eb-799fc52d4599"
      },
      "source": [
        "keras.utils.plot_model(md,show_shapes=True)"
      ],
      "execution_count": 42,
      "outputs": [
        {
          "output_type": "execute_result",
          "data": {
            "image/png": "[encoded data removed]",
            "text/plain": [
              "<IPython.core.display.Image object>"
            ]
          },
          "metadata": {
            "tags": []
          },
          "execution_count": 42
        }
      ]
    },
    {
      "cell_type": "markdown",
      "metadata": {
        "id": "EIozPqjBzcnb"
      },
      "source": [
        "## 모델컴파일"
      ]
    },
    {
      "cell_type": "code",
      "metadata": {
        "id": "4fVz7ZeEzbc8"
      },
      "source": [
        "md.compile(optimizer='rmsprop',loss = 'binary_crossentropy',metrics='accuracy')"
      ],
      "execution_count": 43,
      "outputs": []
    },
    {
      "cell_type": "markdown",
      "metadata": {
        "id": "wyQx02VKzgWz"
      },
      "source": [
        "## 모델 훈련"
      ]
    },
    {
      "cell_type": "code",
      "metadata": {
        "colab": {
          "base_uri": "https://localhost:8080/"
        },
        "id": "PQEwmn3jzicb",
        "outputId": "20b0072e-2464-45c8-de06-9850b48731a6"
      },
      "source": [
        "cb_early = keras.callbacks.EarlyStopping(monitor='val_loss',patience=5)\n",
        "cb_check = keras.callbacks.ModelCheckpoint(filepath='lstm_km.h5',save_best_only=True)\n",
        "\n",
        "history = md.fit(x_tr_seq,y_tr,batch_size=64,epochs=100,\n",
        "       callbacks=[cb_early,cb_check],\n",
        "       validation_data=(x_ts_seq,y_ts))"
      ],
      "execution_count": 44,
      "outputs": [
        {
          "output_type": "stream",
          "text": [
            "Epoch 1/100\n",
            "313/313 [==============================] - 9s 20ms/step - loss: 0.6279 - accuracy: 0.6237 - val_loss: 0.4770 - val_accuracy: 0.7737\n",
            "Epoch 2/100\n",
            "313/313 [==============================] - 5s 17ms/step - loss: 0.4692 - accuracy: 0.7772 - val_loss: 0.4478 - val_accuracy: 0.7909\n",
            "Epoch 3/100\n",
            "313/313 [==============================] - 5s 17ms/step - loss: 0.4482 - accuracy: 0.7925 - val_loss: 0.4612 - val_accuracy: 0.7941\n",
            "Epoch 4/100\n",
            "313/313 [==============================] - 5s 17ms/step - loss: 0.4398 - accuracy: 0.7970 - val_loss: 0.4708 - val_accuracy: 0.7802\n",
            "Epoch 5/100\n",
            "313/313 [==============================] - 5s 17ms/step - loss: 0.4299 - accuracy: 0.8006 - val_loss: 0.4418 - val_accuracy: 0.7940\n",
            "Epoch 6/100\n",
            "313/313 [==============================] - 5s 17ms/step - loss: 0.4267 - accuracy: 0.8051 - val_loss: 0.4349 - val_accuracy: 0.7979\n",
            "Epoch 7/100\n",
            "313/313 [==============================] - 5s 17ms/step - loss: 0.4220 - accuracy: 0.8067 - val_loss: 0.4287 - val_accuracy: 0.8015\n",
            "Epoch 8/100\n",
            "313/313 [==============================] - 5s 18ms/step - loss: 0.4204 - accuracy: 0.8090 - val_loss: 0.4441 - val_accuracy: 0.7984\n",
            "Epoch 9/100\n",
            "313/313 [==============================] - 6s 18ms/step - loss: 0.4127 - accuracy: 0.8080 - val_loss: 0.4169 - val_accuracy: 0.8088\n",
            "Epoch 10/100\n",
            "313/313 [==============================] - 6s 19ms/step - loss: 0.4046 - accuracy: 0.8182 - val_loss: 0.4441 - val_accuracy: 0.7941\n",
            "Epoch 11/100\n",
            "313/313 [==============================] - 5s 17ms/step - loss: 0.4038 - accuracy: 0.8179 - val_loss: 0.4268 - val_accuracy: 0.8001\n",
            "Epoch 12/100\n",
            "313/313 [==============================] - 5s 17ms/step - loss: 0.4028 - accuracy: 0.8165 - val_loss: 0.5235 - val_accuracy: 0.7710\n",
            "Epoch 13/100\n",
            "313/313 [==============================] - 5s 17ms/step - loss: 0.4037 - accuracy: 0.8157 - val_loss: 0.4548 - val_accuracy: 0.7973\n",
            "Epoch 14/100\n",
            "313/313 [==============================] - 5s 17ms/step - loss: 0.4046 - accuracy: 0.8164 - val_loss: 0.4245 - val_accuracy: 0.8014\n"
          ],
          "name": "stdout"
        }
      ]
    },
    {
      "cell_type": "markdown",
      "metadata": {
        "id": "byFXdHejzixM"
      },
      "source": [
        "## 학습 곡선 - 손실 곡선, 정확도 곡선"
      ]
    },
    {
      "cell_type": "code",
      "metadata": {
        "colab": {
          "base_uri": "https://localhost:8080/",
          "height": 197
        },
        "id": "bwQYoOieznF8",
        "outputId": "972d853f-b1b3-4749-adad-2ae54a81c35a"
      },
      "source": [
        "hist = pd.DataFrame(history.history)\n",
        "hist[:5]"
      ],
      "execution_count": 46,
      "outputs": [
        {
          "output_type": "execute_result",
          "data": {
            "text/html": [
              "<div>\n",
              "<style scoped>\n",
              "    .dataframe tbody tr th:only-of-type {\n",
              "        vertical-align: middle;\n",
              "    }\n",
              "\n",
              "    .dataframe tbody tr th {\n",
              "        vertical-align: top;\n",
              "    }\n",
              "\n",
              "    .dataframe thead th {\n",
              "        text-align: right;\n",
              "    }\n",
              "</style>\n",
              "<table border=\"1\" class=\"dataframe\">\n",
              "  <thead>\n",
              "    <tr style=\"text-align: right;\">\n",
              "      <th></th>\n",
              "      <th>loss</th>\n",
              "      <th>accuracy</th>\n",
              "      <th>val_loss</th>\n",
              "      <th>val_accuracy</th>\n",
              "    </tr>\n",
              "  </thead>\n",
              "  <tbody>\n",
              "    <tr>\n",
              "      <th>0</th>\n",
              "      <td>0.566774</td>\n",
              "      <td>0.6943</td>\n",
              "      <td>0.477013</td>\n",
              "      <td>0.77368</td>\n",
              "    </tr>\n",
              "    <tr>\n",
              "      <th>1</th>\n",
              "      <td>0.465275</td>\n",
              "      <td>0.7798</td>\n",
              "      <td>0.447774</td>\n",
              "      <td>0.79088</td>\n",
              "    </tr>\n",
              "    <tr>\n",
              "      <th>2</th>\n",
              "      <td>0.446294</td>\n",
              "      <td>0.7913</td>\n",
              "      <td>0.461205</td>\n",
              "      <td>0.79408</td>\n",
              "    </tr>\n",
              "    <tr>\n",
              "      <th>3</th>\n",
              "      <td>0.437242</td>\n",
              "      <td>0.7978</td>\n",
              "      <td>0.470769</td>\n",
              "      <td>0.78016</td>\n",
              "    </tr>\n",
              "    <tr>\n",
              "      <th>4</th>\n",
              "      <td>0.432103</td>\n",
              "      <td>0.7998</td>\n",
              "      <td>0.441793</td>\n",
              "      <td>0.79396</td>\n",
              "    </tr>\n",
              "  </tbody>\n",
              "</table>\n",
              "</div>"
            ],
            "text/plain": [
              "       loss  accuracy  val_loss  val_accuracy\n",
              "0  0.566774    0.6943  0.477013       0.77368\n",
              "1  0.465275    0.7798  0.447774       0.79088\n",
              "2  0.446294    0.7913  0.461205       0.79408\n",
              "3  0.437242    0.7978  0.470769       0.78016\n",
              "4  0.432103    0.7998  0.441793       0.79396"
            ]
          },
          "metadata": {
            "tags": []
          },
          "execution_count": 46
        }
      ]
    },
    {
      "cell_type": "code",
      "metadata": {
        "colab": {
          "base_uri": "https://localhost:8080/",
          "height": 268
        },
        "id": "KsBEJtM678e4",
        "outputId": "330d7df2-6f34-4180-ddd4-5b5a9d7b07c2"
      },
      "source": [
        "hist[['loss','val_loss']].plot(marker='^')\n",
        "plt.grid()\n",
        "plt.show()"
      ],
      "execution_count": 53,
      "outputs": [
        {
          "output_type": "display_data",
          "data": {
            "image/png": "[encoded data removed]",
            "text/plain": [
              "<Figure size 432x288 with 1 Axes>"
            ]
          },
          "metadata": {
            "tags": [],
            "needs_background": "light"
          }
        }
      ]
    },
    {
      "cell_type": "code",
      "metadata": {
        "colab": {
          "base_uri": "https://localhost:8080/",
          "height": 264
        },
        "id": "hLo3-IEJ8t0e",
        "outputId": "5c4782b9-da43-4f8d-f1cd-291f666acc8a"
      },
      "source": [
        "hist[['accuracy', 'val_accuracy']].plot()\n",
        "plt.grid()\n",
        "plt.show()"
      ],
      "execution_count": 54,
      "outputs": [
        {
          "output_type": "display_data",
          "data": {
            "image/png": "[encoded data removed]",
            "text/plain": [
              "<Figure size 432x288 with 1 Axes>"
            ]
          },
          "metadata": {
            "tags": [],
            "needs_background": "light"
          }
        }
      ]
    },
    {
      "cell_type": "markdown",
      "metadata": {
        "id": "T3xnUHR0znWE"
      },
      "source": [
        "## 모델 평가"
      ]
    },
    {
      "cell_type": "code",
      "metadata": {
        "colab": {
          "base_uri": "https://localhost:8080/"
        },
        "id": "kvAgyI4m88F1",
        "outputId": "2d27e784-bf39-45cf-8f15-c417b43db0f2"
      },
      "source": [
        "md.evaluate(x_val_seq,y_val)"
      ],
      "execution_count": 55,
      "outputs": [
        {
          "output_type": "stream",
          "text": [
            "157/157 [==============================] - 1s 6ms/step - loss: 0.4448 - accuracy: 0.7882\n"
          ],
          "name": "stdout"
        },
        {
          "output_type": "execute_result",
          "data": {
            "text/plain": [
              "[0.4447523057460785, 0.7882000207901001]"
            ]
          },
          "metadata": {
            "tags": []
          },
          "execution_count": 55
        }
      ]
    },
    {
      "cell_type": "markdown",
      "metadata": {
        "id": "8n5mEV1nyVsk"
      },
      "source": [
        "------"
      ]
    },
    {
      "cell_type": "markdown",
      "metadata": {
        "id": "aH8dBwvEyX8L"
      },
      "source": [
        "# 모범답안"
      ]
    },
    {
      "cell_type": "code",
      "metadata": {
        "colab": {
          "base_uri": "https://localhost:8080/"
        },
        "id": "BRHn27XDz-PK",
        "outputId": "aed96c73-d0bc-4265-ecf7-cdb97640855e"
      },
      "source": [
        "# IMDB data-set\n",
        "(x_train_full, y_train_full), (x_test, y_test) = keras.datasets.imdb.load_data(num_words=10_000)\n",
        "#> 어휘 사전에서 자주 등장하는 단어 10,000개를 사용한 데이터 셋"
      ],
      "execution_count": 23,
      "outputs": [
        {
          "output_type": "stream",
          "text": [
            "<string>:6: VisibleDeprecationWarning: Creating an ndarray from ragged nested sequences (which is a list-or-tuple of lists-or-tuples-or ndarrays with different lengths or shapes) is deprecated. If you meant to do this, you must specify 'dtype=object' when creating the ndarray\n",
            "/usr/local/lib/python3.7/dist-packages/tensorflow/python/keras/datasets/imdb.py:159: VisibleDeprecationWarning: Creating an ndarray from ragged nested sequences (which is a list-or-tuple of lists-or-tuples-or ndarrays with different lengths or shapes) is deprecated. If you meant to do this, you must specify 'dtype=object' when creating the ndarray\n",
            "  x_train, y_train = np.array(xs[:idx]), np.array(labels[:idx])\n",
            "/usr/local/lib/python3.7/dist-packages/tensorflow/python/keras/datasets/imdb.py:160: VisibleDeprecationWarning: Creating an ndarray from ragged nested sequences (which is a list-or-tuple of lists-or-tuples-or ndarrays with different lengths or shapes) is deprecated. If you meant to do this, you must specify 'dtype=object' when creating the ndarray\n",
            "  x_test, y_test = np.array(xs[idx:]), np.array(labels[idx:])\n"
          ],
          "name": "stderr"
        }
      ]
    },
    {
      "cell_type": "code",
      "metadata": {
        "colab": {
          "base_uri": "https://localhost:8080/"
        },
        "id": "1_bgmiak0eVB",
        "outputId": "461d8eef-84c8-4e03-cd01-5b82c5afceb9"
      },
      "source": [
        "x_train_full.shape,y_train_full.shape"
      ],
      "execution_count": 27,
      "outputs": [
        {
          "output_type": "execute_result",
          "data": {
            "text/plain": [
              "((25000,), (25000,))"
            ]
          },
          "metadata": {
            "tags": []
          },
          "execution_count": 27
        }
      ]
    },
    {
      "cell_type": "code",
      "metadata": {
        "colab": {
          "base_uri": "https://localhost:8080/"
        },
        "id": "0hoss5YB1C1l",
        "outputId": "6f5d2234-fb08-4633-823e-6715987c5130"
      },
      "source": [
        "for i in range(5):\n",
        "    print(len(x_train_full[i]))"
      ],
      "execution_count": 28,
      "outputs": [
        {
          "output_type": "stream",
          "text": [
            "218\n",
            "189\n",
            "141\n",
            "550\n",
            "147\n"
          ],
          "name": "stdout"
        }
      ]
    },
    {
      "cell_type": "code",
      "metadata": {
        "colab": {
          "base_uri": "https://localhost:8080/"
        },
        "id": "ITxCKies1Izu",
        "outputId": "4c55a87c-a08e-4740-eaca-c4f2e2bb3d05"
      },
      "source": [
        "np.unique(y_train_full,return_counts=True)"
      ],
      "execution_count": 29,
      "outputs": [
        {
          "output_type": "execute_result",
          "data": {
            "text/plain": [
              "(array([0, 1]), array([12500, 12500]))"
            ]
          },
          "metadata": {
            "tags": []
          },
          "execution_count": 29
        }
      ]
    },
    {
      "cell_type": "code",
      "metadata": {
        "id": "fzk6xlXY1rF9"
      },
      "source": [
        "# 데이터정제\n",
        "#> 샘플(영화 리뷰)들 마다 사용된 단어 수가 다르기 때문에 일정한 크기로 맞춰줄 필요가 있음\n",
        "#-> 모든 샘플이 길이(단어 수)를 500개로 자르거나 패딩\n",
        "\n",
        "x_train_seq = keras.preprocessing.sequence.pad_sequences(sequences=x_train_full, maxlen=500)\n",
        "x_test_seq = keras.preprocessing.sequence.pad_sequences(sequences=x_test, maxlen=500)"
      ],
      "execution_count": 30,
      "outputs": []
    },
    {
      "cell_type": "code",
      "metadata": {
        "colab": {
          "base_uri": "https://localhost:8080/"
        },
        "id": "a5Y2rjY12qDH",
        "outputId": "b97cf82f-24aa-4849-b013-a74fb14f568e"
      },
      "source": [
        "x_train_seq.shape, x_test_seq.shape"
      ],
      "execution_count": 32,
      "outputs": [
        {
          "output_type": "execute_result",
          "data": {
            "text/plain": [
              "((25000, 500), (25000, 500))"
            ]
          },
          "metadata": {
            "tags": []
          },
          "execution_count": 32
        }
      ]
    },
    {
      "cell_type": "code",
      "metadata": {
        "id": "AZJaK8gA29gQ"
      },
      "source": [
        "# 전처리가 끝난 전체 훈련셋을 훈련/검증 셋으로 분리\n",
        "x_train,x_vali,y_train,y_vali = train_test_split(x_train_seq,y_train_full,\n",
        "                                                 test_size = 0.2,\n",
        "                                                 stratify = y_train_full,\n",
        "                                                 random_state = 42)"
      ],
      "execution_count": 33,
      "outputs": []
    },
    {
      "cell_type": "code",
      "metadata": {
        "colab": {
          "base_uri": "https://localhost:8080/"
        },
        "id": "xjx4FCvR3rS9",
        "outputId": "c140bdff-d5f5-4753-bbc6-cab15d430c4b"
      },
      "source": [
        "x_train.shape,x_vali.shape"
      ],
      "execution_count": 34,
      "outputs": [
        {
          "output_type": "execute_result",
          "data": {
            "text/plain": [
              "((20000, 500), (5000, 500))"
            ]
          },
          "metadata": {
            "tags": []
          },
          "execution_count": 34
        }
      ]
    },
    {
      "cell_type": "code",
      "metadata": {
        "colab": {
          "base_uri": "https://localhost:8080/"
        },
        "id": "yOSWBkXV35sz",
        "outputId": "7ebf41a5-4f7d-4c16-8da2-852421fe5b5d"
      },
      "source": [
        "np.unique(y_train,return_counts=True)"
      ],
      "execution_count": 35,
      "outputs": [
        {
          "output_type": "execute_result",
          "data": {
            "text/plain": [
              "(array([0, 1]), array([10000, 10000]))"
            ]
          },
          "metadata": {
            "tags": []
          },
          "execution_count": 35
        }
      ]
    },
    {
      "cell_type": "code",
      "metadata": {
        "colab": {
          "base_uri": "https://localhost:8080/",
          "height": 835
        },
        "id": "oU2mGF5G4FMm",
        "outputId": "87210214-2c3d-4de9-8614-7d64946d87c7"
      },
      "source": [
        "# LSTM 모델 생성\n",
        "\n",
        "model = keras.Sequential()\n",
        "model.add(keras.layers.Embedding(input_dim=10_000, output_dim=16, input_length=500)) #> embadding layer\n",
        "model.add(keras.layers.LSTM(units=16,dropout=0.3,return_sequences=True)) #> LSTM layer\n",
        "#> return_sequences = 순환층의 출력이 다른 순환층의 입력으로 사용될 때 'True'로 설정\n",
        "model.add(keras.layers.LSTM(units=16,dropout=0.3)) #> LSTM layer \n",
        "model.add(keras.layers.Dense(units=1,activation='sigmoid')) #> Out-Put layer\n",
        "\n",
        "print(model.summary())\n",
        "\n",
        "keras.utils.plot_model(model,show_shapes=True)"
      ],
      "execution_count": 56,
      "outputs": [
        {
          "output_type": "stream",
          "text": [
            "Model: \"sequential_4\"\n",
            "_________________________________________________________________\n",
            "Layer (type)                 Output Shape              Param #   \n",
            "=================================================================\n",
            "embedding_6 (Embedding)      (None, 500, 16)           160000    \n",
            "_________________________________________________________________\n",
            "lstm_11 (LSTM)               (None, 500, 16)           2112      \n",
            "_________________________________________________________________\n",
            "lstm_12 (LSTM)               (None, 16)                2112      \n",
            "_________________________________________________________________\n",
            "dense_5 (Dense)              (None, 1)                 17        \n",
            "=================================================================\n",
            "Total params: 164,241\n",
            "Trainable params: 164,241\n",
            "Non-trainable params: 0\n",
            "_________________________________________________________________\n",
            "None\n"
          ],
          "name": "stdout"
        },
        {
          "output_type": "execute_result",
          "data": {
            "image/png": "[encoded data removed]",
            "text/plain": [
              "<IPython.core.display.Image object>"
            ]
          },
          "metadata": {
            "tags": []
          },
          "execution_count": 56
        }
      ]
    },
    {
      "cell_type": "code",
      "metadata": {
        "id": "yx9qXHCSDXzo"
      },
      "source": [
        "# 모델 컴파일\n",
        "model.compile(optimizer='rmsprop', loss='binary_crossentropy', metrics='accuracy')"
      ],
      "execution_count": 58,
      "outputs": []
    },
    {
      "cell_type": "code",
      "metadata": {
        "colab": {
          "base_uri": "https://localhost:8080/"
        },
        "id": "IOUg8I5yCiVZ",
        "outputId": "789a9a37-a2e7-40cd-fc9d-c9e3e80904a5"
      },
      "source": [
        "# 모델훈련\n",
        "#> 콜백(조기 종료, 상태 저장)\n",
        "early_stop_cb = keras.callbacks.EarlyStopping(patience=5,restore_best_weights=True)\n",
        "checkpoint_cb = keras.callbacks.ModelCheckpoint('lstm2_model.h5', save_best_only=True)\n",
        "\n",
        "#> 훈련\n",
        "history1 = model.fit(x_train,y_train,batch_size=64,epochs=100,\n",
        "                     callbacks=[early_stop_cb,checkpoint_cb],\n",
        "                     validation_data = (x_vali,y_vali)) "
      ],
      "execution_count": 59,
      "outputs": [
        {
          "output_type": "stream",
          "text": [
            "Epoch 1/100\n",
            "313/313 [==============================] - 14s 37ms/step - loss: 0.5851 - accuracy: 0.6565 - val_loss: 0.3417 - val_accuracy: 0.8618\n",
            "Epoch 2/100\n",
            "313/313 [==============================] - 11s 35ms/step - loss: 0.2851 - accuracy: 0.8907 - val_loss: 0.4090 - val_accuracy: 0.8560\n",
            "Epoch 3/100\n",
            "313/313 [==============================] - 11s 37ms/step - loss: 0.2313 - accuracy: 0.9124 - val_loss: 0.3151 - val_accuracy: 0.8872\n",
            "Epoch 4/100\n",
            "313/313 [==============================] - 11s 37ms/step - loss: 0.2066 - accuracy: 0.9230 - val_loss: 0.2757 - val_accuracy: 0.8872\n",
            "Epoch 5/100\n",
            "313/313 [==============================] - 11s 36ms/step - loss: 0.1873 - accuracy: 0.9342 - val_loss: 0.3473 - val_accuracy: 0.8858\n",
            "Epoch 6/100\n",
            "313/313 [==============================] - 11s 34ms/step - loss: 0.1756 - accuracy: 0.9362 - val_loss: 0.3821 - val_accuracy: 0.8742\n",
            "Epoch 7/100\n",
            "313/313 [==============================] - 11s 36ms/step - loss: 0.1533 - accuracy: 0.9445 - val_loss: 0.3688 - val_accuracy: 0.8664\n",
            "Epoch 8/100\n",
            "313/313 [==============================] - 11s 36ms/step - loss: 0.1490 - accuracy: 0.9466 - val_loss: 0.3637 - val_accuracy: 0.8664\n",
            "Epoch 9/100\n",
            "313/313 [==============================] - 11s 35ms/step - loss: 0.1443 - accuracy: 0.9480 - val_loss: 0.3103 - val_accuracy: 0.8892\n"
          ],
          "name": "stdout"
        }
      ]
    },
    {
      "cell_type": "code",
      "metadata": {
        "id": "BjQxy9HwDUn4"
      },
      "source": [
        "hist1 = pd.DataFrame(history1.history)"
      ],
      "execution_count": 60,
      "outputs": []
    },
    {
      "cell_type": "code",
      "metadata": {
        "colab": {
          "base_uri": "https://localhost:8080/",
          "height": 264
        },
        "id": "bHbl_tEkD2IQ",
        "outputId": "6274065a-62a8-42eb-f513-a6c19dfffded"
      },
      "source": [
        "# 손실 곡선\n",
        "hist1[['loss','val_loss']].plot(marker='o')\n",
        "plt.grid()\n",
        "plt.show()"
      ],
      "execution_count": 61,
      "outputs": [
        {
          "output_type": "display_data",
          "data": {
            "image/png": "[encoded data removed]",
            "text/plain": [
              "<Figure size 432x288 with 1 Axes>"
            ]
          },
          "metadata": {
            "tags": [],
            "needs_background": "light"
          }
        }
      ]
    },
    {
      "cell_type": "code",
      "metadata": {
        "colab": {
          "base_uri": "https://localhost:8080/",
          "height": 264
        },
        "id": "g7ntJ2fdEPEQ",
        "outputId": "b8a1d4bb-5bc2-4312-edfd-dc9d5cbb4409"
      },
      "source": [
        "#  정확도 곡선\n",
        "hist1[['accuracy','val_accuracy']].plot(marker='o')\n",
        "plt.grid()\n",
        "plt.show()"
      ],
      "execution_count": 62,
      "outputs": [
        {
          "output_type": "display_data",
          "data": {
            "image/png": "[encoded data removed]",
            "text/plain": [
              "<Figure size 432x288 with 1 Axes>"
            ]
          },
          "metadata": {
            "tags": [],
            "needs_background": "light"
          }
        }
      ]
    },
    {
      "cell_type": "code",
      "metadata": {
        "colab": {
          "base_uri": "https://localhost:8080/"
        },
        "id": "PJVNL6H3EXdG",
        "outputId": "1f4f7d90-863c-49a1-d8d7-e6e0fb88c450"
      },
      "source": [
        "# 검증셋 평가\n",
        "model.evaluate(x_vali,y_vali)"
      ],
      "execution_count": 63,
      "outputs": [
        {
          "output_type": "stream",
          "text": [
            "157/157 [==============================] - 2s 15ms/step - loss: 0.2757 - accuracy: 0.8872\n"
          ],
          "name": "stdout"
        },
        {
          "output_type": "execute_result",
          "data": {
            "text/plain": [
              "[0.2756931781768799, 0.8871999979019165]"
            ]
          },
          "metadata": {
            "tags": []
          },
          "execution_count": 63
        }
      ]
    },
    {
      "cell_type": "code",
      "metadata": {
        "colab": {
          "base_uri": "https://localhost:8080/"
        },
        "id": "_LKGN4QxFwyP",
        "outputId": "6e8f2166-a363-4c54-8e58-bbe6de300271"
      },
      "source": [
        "# 테스트 셋 평가\n",
        "model.evaluate(x_test_seq,y_test)"
      ],
      "execution_count": 64,
      "outputs": [
        {
          "output_type": "stream",
          "text": [
            "782/782 [==============================] - 12s 15ms/step - loss: 0.2879 - accuracy: 0.8842\n"
          ],
          "name": "stdout"
        },
        {
          "output_type": "execute_result",
          "data": {
            "text/plain": [
              "[0.28791242837905884, 0.8842399716377258]"
            ]
          },
          "metadata": {
            "tags": []
          },
          "execution_count": 64
        }
      ]
    },
    {
      "cell_type": "code",
      "metadata": {
        "id": "3JdlvrfdF6V8"
      },
      "source": [
        ""
      ],
      "execution_count": null,
      "outputs": []
    }
  ]
}