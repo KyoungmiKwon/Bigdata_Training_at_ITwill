{
  "nbformat": 4,
  "nbformat_minor": 0,
  "metadata": {
    "colab": {
      "name": "ML20-1_LSTM.ipynb",
      "provenance": [],
      "collapsed_sections": [],
      "authorship_tag": "ABX9TyPHhfJG4Ov6lWBaGWc+PazR",
      "include_colab_link": true
    },
    "kernelspec": {
      "name": "python3",
      "display_name": "Python 3"
    },
    "language_info": {
      "name": "python"
    },
    "accelerator": "GPU"
  },
  "cells": [
    {
      "cell_type": "markdown",
      "metadata": {
        "id": "view-in-github",
        "colab_type": "text"
      },
      "source": [
        "<a href=\"https://colab.research.google.com/github/KyoungmiKwon/Bigdata_Training_at_ITwill/blob/main/Machine_Learning/ML20_1_LSTM.ipynb\" target=\"_parent\"><img src=\"https://colab.research.google.com/assets/colab-badge.svg\" alt=\"Open In Colab\"/></a>"
      ]
    },
    {
      "cell_type": "code",
      "metadata": {
        "id": "tMsu_KiEBT9a"
      },
      "source": [
        "import matplotlib.pyplot as plt\n",
        "import numpy as np\n",
        "import pandas as pd\n",
        "\n",
        "import tensorflow as tf\n",
        "from tensorflow import keras\n",
        "\n",
        "from sklearn.model_selection import train_test_split"
      ],
      "execution_count": null,
      "outputs": []
    },
    {
      "cell_type": "code",
      "metadata": {
        "colab": {
          "base_uri": "https://localhost:8080/"
        },
        "id": "BHKDavubBdbP",
        "outputId": "fd6c716f-abe3-46c7-ac3a-8a88b0c32d64"
      },
      "source": [
        "(x_tr_f, y_tr_f),(x_ts,y_ts) = keras.datasets.imdb.load_data(num_words=500)"
      ],
      "execution_count": null,
      "outputs": [
        {
          "output_type": "stream",
          "text": [
            "Downloading data from https://storage.googleapis.com/tensorflow/tf-keras-datasets/imdb.npz\n",
            "17465344/17464789 [==============================] - 0s 0us/step\n"
          ],
          "name": "stdout"
        },
        {
          "output_type": "stream",
          "text": [
            "<string>:6: VisibleDeprecationWarning: Creating an ndarray from ragged nested sequences (which is a list-or-tuple of lists-or-tuples-or ndarrays with different lengths or shapes) is deprecated. If you meant to do this, you must specify 'dtype=object' when creating the ndarray\n",
            "/usr/local/lib/python3.7/dist-packages/tensorflow/python/keras/datasets/imdb.py:159: VisibleDeprecationWarning: Creating an ndarray from ragged nested sequences (which is a list-or-tuple of lists-or-tuples-or ndarrays with different lengths or shapes) is deprecated. If you meant to do this, you must specify 'dtype=object' when creating the ndarray\n",
            "  x_train, y_train = np.array(xs[:idx]), np.array(labels[:idx])\n",
            "/usr/local/lib/python3.7/dist-packages/tensorflow/python/keras/datasets/imdb.py:160: VisibleDeprecationWarning: Creating an ndarray from ragged nested sequences (which is a list-or-tuple of lists-or-tuples-or ndarrays with different lengths or shapes) is deprecated. If you meant to do this, you must specify 'dtype=object' when creating the ndarray\n",
            "  x_test, y_test = np.array(xs[idx:]), np.array(labels[idx:])\n"
          ],
          "name": "stderr"
        }
      ]
    },
    {
      "cell_type": "code",
      "metadata": {
        "colab": {
          "base_uri": "https://localhost:8080/"
        },
        "id": "KWWFa2EiBqWF",
        "outputId": "629c8586-f918-465c-b8f5-3c1175dc7e7e"
      },
      "source": [
        "# 어휘 사전을 로드\n",
        "word_index = keras.datasets.imdb.get_word_index()"
      ],
      "execution_count": null,
      "outputs": [
        {
          "output_type": "stream",
          "text": [
            "Downloading data from https://storage.googleapis.com/tensorflow/tf-keras-datasets/imdb_word_index.json\n",
            "1646592/1641221 [==============================] - 0s 0us/step\n"
          ],
          "name": "stdout"
        }
      ]
    },
    {
      "cell_type": "code",
      "metadata": {
        "id": "eQUR8lNkBvBf"
      },
      "source": [
        "x_tr, x_val, y_tr, y_val = train_test_split(x_tr_f,y_tr_f,\n",
        "                                            test_size = 0.2,\n",
        "                                            stratify= y_tr_f,\n",
        "                                            random_state = 42)"
      ],
      "execution_count": null,
      "outputs": []
    },
    {
      "cell_type": "code",
      "metadata": {
        "id": "ehY7OXHMByuc"
      },
      "source": [
        "x_tr_seq = keras.preprocessing.sequence.pad_sequences(sequences=x_tr,maxlen=100)\n",
        "# pad_sequences() 함수의 parameter:\n",
        "# maxlen: sequence의 최대 길이\n",
        "# padding='pre':maxlen보다 길이가 짧은 시쿼스일 때 패딩을 앞에서 부터 채움\n",
        "# truncating='pre' : maxlen보다 길이가 긴 시퀀스 일 때 앞에서 자름"
      ],
      "execution_count": null,
      "outputs": []
    },
    {
      "cell_type": "code",
      "metadata": {
        "colab": {
          "base_uri": "https://localhost:8080/"
        },
        "id": "WkLOKgoeB3xe",
        "outputId": "ea82fe42-83b8-4ca1-b7d9-29c3ce200b24"
      },
      "source": [
        "x_val_seq = keras.preprocessing.sequence.pad_sequences(sequences=x_val, maxlen=100)\n",
        "x_val_seq.shape #> (5000,) ---> (5000, 100)"
      ],
      "execution_count": null,
      "outputs": [
        {
          "output_type": "execute_result",
          "data": {
            "text/plain": [
              "(5000, 100)"
            ]
          },
          "metadata": {
            "tags": []
          },
          "execution_count": 6
        }
      ]
    },
    {
      "cell_type": "code",
      "metadata": {
        "colab": {
          "base_uri": "https://localhost:8080/"
        },
        "id": "m8tdSZvOB81X",
        "outputId": "887f3f41-6c07-4e6f-ea7b-ed7d8d6dfbde"
      },
      "source": [
        "x_ts_seq = keras.preprocessing.sequence.pad_sequences(sequences=x_ts, maxlen=100)\n",
        "x_ts_seq.shape"
      ],
      "execution_count": null,
      "outputs": [
        {
          "output_type": "execute_result",
          "data": {
            "text/plain": [
              "(25000, 100)"
            ]
          },
          "metadata": {
            "tags": []
          },
          "execution_count": 7
        }
      ]
    },
    {
      "cell_type": "code",
      "metadata": {
        "colab": {
          "base_uri": "https://localhost:8080/"
        },
        "id": "srx3pxTIB_7c",
        "outputId": "ce5ede31-16d7-4dbe-b7b8-30ac260c6ddd"
      },
      "source": [
        "md3 = keras.Sequential()\n",
        "md3.add(keras.layers.Embedding(input_dim=500,output_dim=16, input_length=100))\n",
        "md3.add(keras.layers.LSTM(units=8))\n",
        "md3.add(keras.layers.Dense(units=1, activation='sigmoid'))\n",
        "\n",
        "md3.summary()"
      ],
      "execution_count": null,
      "outputs": [
        {
          "output_type": "stream",
          "text": [
            "Model: \"sequential\"\n",
            "_________________________________________________________________\n",
            "Layer (type)                 Output Shape              Param #   \n",
            "=================================================================\n",
            "embedding (Embedding)        (None, 100, 16)           8000      \n",
            "_________________________________________________________________\n",
            "lstm (LSTM)                  (None, 8)                 800       \n",
            "_________________________________________________________________\n",
            "dense (Dense)                (None, 1)                 9         \n",
            "=================================================================\n",
            "Total params: 8,809\n",
            "Trainable params: 8,809\n",
            "Non-trainable params: 0\n",
            "_________________________________________________________________\n"
          ],
          "name": "stdout"
        }
      ]
    },
    {
      "cell_type": "code",
      "metadata": {
        "colab": {
          "base_uri": "https://localhost:8080/",
          "height": 422
        },
        "id": "40GXTQh_FdvN",
        "outputId": "6eb0675e-49db-4ead-c0ca-81609d719932"
      },
      "source": [
        "keras.utils.plot_model(md3,show_shapes=True)"
      ],
      "execution_count": null,
      "outputs": [
        {
          "output_type": "execute_result",
          "data": {
            "image/png": "[encoded data removed]",
            "text/plain": [
              "<IPython.core.display.Image object>"
            ]
          },
          "metadata": {
            "tags": []
          },
          "execution_count": 10
        }
      ]
    },
    {
      "cell_type": "code",
      "metadata": {
        "id": "hMqZkXcFHqzc"
      },
      "source": [
        "md3.compile(optimizer=keras.optimizers.RMSprop(learning_rate=1e-4),\n",
        "               loss='binary_crossentropy', metrics='accuracy')"
      ],
      "execution_count": null,
      "outputs": []
    },
    {
      "cell_type": "code",
      "metadata": {
        "id": "h1BvNO0UHz3d"
      },
      "source": [
        "early_stop_cb = keras.callbacks.EarlyStopping(patience=3, restore_best_weights=True)\n",
        "checkpoint_cb = keras.callbacks.ModelCheckpoint('lstm_model.h5', save_best_only=True)"
      ],
      "execution_count": null,
      "outputs": []
    },
    {
      "cell_type": "code",
      "metadata": {
        "colab": {
          "base_uri": "https://localhost:8080/"
        },
        "id": "w9I-PY1aH24U",
        "outputId": "fd6b252a-0547-4440-cac2-bf49c8b7928f"
      },
      "source": [
        "history3 = md3.fit(x_tr_seq,y_tr, batch_size=64, epochs=100,\n",
        "                   callbacks=[early_stop_cb,checkpoint_cb],\n",
        "                   validation_data = (x_val_seq,y_val))"
      ],
      "execution_count": null,
      "outputs": [
        {
          "output_type": "stream",
          "text": [
            "Epoch 1/100\n",
            "313/313 [==============================] - 3s 8ms/step - loss: 0.6913 - accuracy: 0.5754 - val_loss: 0.6904 - val_accuracy: 0.5954\n",
            "Epoch 2/100\n",
            "313/313 [==============================] - 2s 7ms/step - loss: 0.6879 - accuracy: 0.6191 - val_loss: 0.6859 - val_accuracy: 0.6116\n",
            "Epoch 3/100\n",
            "313/313 [==============================] - 2s 7ms/step - loss: 0.6799 - accuracy: 0.6446 - val_loss: 0.6741 - val_accuracy: 0.6454\n",
            "Epoch 4/100\n",
            "313/313 [==============================] - 2s 7ms/step - loss: 0.6539 - accuracy: 0.6794 - val_loss: 0.6173 - val_accuracy: 0.6992\n",
            "Epoch 5/100\n",
            "313/313 [==============================] - 2s 7ms/step - loss: 0.5635 - accuracy: 0.7306 - val_loss: 0.5439 - val_accuracy: 0.7372\n",
            "Epoch 6/100\n",
            "313/313 [==============================] - 2s 7ms/step - loss: 0.5255 - accuracy: 0.7521 - val_loss: 0.5222 - val_accuracy: 0.7530\n",
            "Epoch 7/100\n",
            "313/313 [==============================] - 2s 7ms/step - loss: 0.5020 - accuracy: 0.7694 - val_loss: 0.5009 - val_accuracy: 0.7714\n",
            "Epoch 8/100\n",
            "313/313 [==============================] - 2s 7ms/step - loss: 0.4841 - accuracy: 0.7811 - val_loss: 0.4862 - val_accuracy: 0.7754\n",
            "Epoch 9/100\n",
            "313/313 [==============================] - 2s 7ms/step - loss: 0.4697 - accuracy: 0.7890 - val_loss: 0.4761 - val_accuracy: 0.7826\n",
            "Epoch 10/100\n",
            "313/313 [==============================] - 2s 7ms/step - loss: 0.4586 - accuracy: 0.7941 - val_loss: 0.4674 - val_accuracy: 0.7862\n",
            "Epoch 11/100\n",
            "313/313 [==============================] - 2s 7ms/step - loss: 0.4500 - accuracy: 0.7991 - val_loss: 0.4621 - val_accuracy: 0.7888\n",
            "Epoch 12/100\n",
            "313/313 [==============================] - 2s 7ms/step - loss: 0.4439 - accuracy: 0.8016 - val_loss: 0.4584 - val_accuracy: 0.7886\n",
            "Epoch 13/100\n",
            "313/313 [==============================] - 2s 7ms/step - loss: 0.4383 - accuracy: 0.8020 - val_loss: 0.4551 - val_accuracy: 0.7938\n",
            "Epoch 14/100\n",
            "313/313 [==============================] - 2s 7ms/step - loss: 0.4346 - accuracy: 0.8066 - val_loss: 0.4529 - val_accuracy: 0.7924\n",
            "Epoch 15/100\n",
            "313/313 [==============================] - 2s 7ms/step - loss: 0.4314 - accuracy: 0.8070 - val_loss: 0.4521 - val_accuracy: 0.7920\n",
            "Epoch 16/100\n",
            "313/313 [==============================] - 2s 7ms/step - loss: 0.4288 - accuracy: 0.8076 - val_loss: 0.4526 - val_accuracy: 0.7866\n",
            "Epoch 17/100\n",
            "313/313 [==============================] - 2s 7ms/step - loss: 0.4266 - accuracy: 0.8088 - val_loss: 0.4500 - val_accuracy: 0.7888\n",
            "Epoch 18/100\n",
            "313/313 [==============================] - 2s 7ms/step - loss: 0.4248 - accuracy: 0.8083 - val_loss: 0.4529 - val_accuracy: 0.7898\n",
            "Epoch 19/100\n",
            "313/313 [==============================] - 2s 7ms/step - loss: 0.4234 - accuracy: 0.8098 - val_loss: 0.4471 - val_accuracy: 0.7920\n",
            "Epoch 20/100\n",
            "313/313 [==============================] - 2s 7ms/step - loss: 0.4219 - accuracy: 0.8111 - val_loss: 0.4512 - val_accuracy: 0.7856\n",
            "Epoch 21/100\n",
            "313/313 [==============================] - 2s 7ms/step - loss: 0.4207 - accuracy: 0.8108 - val_loss: 0.4477 - val_accuracy: 0.7878\n",
            "Epoch 22/100\n",
            "313/313 [==============================] - 2s 7ms/step - loss: 0.4195 - accuracy: 0.8119 - val_loss: 0.4463 - val_accuracy: 0.7916\n",
            "Epoch 23/100\n",
            "313/313 [==============================] - 2s 7ms/step - loss: 0.4184 - accuracy: 0.8110 - val_loss: 0.4506 - val_accuracy: 0.7878\n",
            "Epoch 24/100\n",
            "313/313 [==============================] - 2s 7ms/step - loss: 0.4177 - accuracy: 0.8109 - val_loss: 0.4479 - val_accuracy: 0.7940\n",
            "Epoch 25/100\n",
            "313/313 [==============================] - 2s 7ms/step - loss: 0.4165 - accuracy: 0.8110 - val_loss: 0.4456 - val_accuracy: 0.7928\n",
            "Epoch 26/100\n",
            "313/313 [==============================] - 2s 7ms/step - loss: 0.4157 - accuracy: 0.8109 - val_loss: 0.4444 - val_accuracy: 0.7902\n",
            "Epoch 27/100\n",
            "313/313 [==============================] - 2s 7ms/step - loss: 0.4150 - accuracy: 0.8116 - val_loss: 0.4479 - val_accuracy: 0.7932\n",
            "Epoch 28/100\n",
            "313/313 [==============================] - 2s 7ms/step - loss: 0.4141 - accuracy: 0.8138 - val_loss: 0.4452 - val_accuracy: 0.7882\n",
            "Epoch 29/100\n",
            "313/313 [==============================] - 2s 7ms/step - loss: 0.4138 - accuracy: 0.8132 - val_loss: 0.4443 - val_accuracy: 0.7904\n",
            "Epoch 30/100\n",
            "313/313 [==============================] - 2s 7ms/step - loss: 0.4129 - accuracy: 0.8143 - val_loss: 0.4449 - val_accuracy: 0.7916\n",
            "Epoch 31/100\n",
            "313/313 [==============================] - 2s 7ms/step - loss: 0.4123 - accuracy: 0.8128 - val_loss: 0.4439 - val_accuracy: 0.7894\n",
            "Epoch 32/100\n",
            "313/313 [==============================] - 2s 7ms/step - loss: 0.4116 - accuracy: 0.8144 - val_loss: 0.4474 - val_accuracy: 0.7876\n",
            "Epoch 33/100\n",
            "313/313 [==============================] - 2s 7ms/step - loss: 0.4111 - accuracy: 0.8143 - val_loss: 0.4431 - val_accuracy: 0.7894\n",
            "Epoch 34/100\n",
            "313/313 [==============================] - 2s 7ms/step - loss: 0.4104 - accuracy: 0.8148 - val_loss: 0.4446 - val_accuracy: 0.7940\n",
            "Epoch 35/100\n",
            "313/313 [==============================] - 2s 7ms/step - loss: 0.4101 - accuracy: 0.8154 - val_loss: 0.4432 - val_accuracy: 0.7912\n",
            "Epoch 36/100\n",
            "313/313 [==============================] - 2s 7ms/step - loss: 0.4095 - accuracy: 0.8142 - val_loss: 0.4430 - val_accuracy: 0.7898\n",
            "Epoch 37/100\n",
            "313/313 [==============================] - 2s 7ms/step - loss: 0.4084 - accuracy: 0.8157 - val_loss: 0.4439 - val_accuracy: 0.7890\n",
            "Epoch 38/100\n",
            "313/313 [==============================] - 2s 7ms/step - loss: 0.4086 - accuracy: 0.8144 - val_loss: 0.4457 - val_accuracy: 0.7910\n",
            "Epoch 39/100\n",
            "313/313 [==============================] - 2s 7ms/step - loss: 0.4081 - accuracy: 0.8163 - val_loss: 0.4426 - val_accuracy: 0.7906\n",
            "Epoch 40/100\n",
            "313/313 [==============================] - 2s 7ms/step - loss: 0.4071 - accuracy: 0.8170 - val_loss: 0.4422 - val_accuracy: 0.7912\n",
            "Epoch 41/100\n",
            "313/313 [==============================] - 2s 7ms/step - loss: 0.4071 - accuracy: 0.8131 - val_loss: 0.4452 - val_accuracy: 0.7902\n",
            "Epoch 42/100\n",
            "313/313 [==============================] - 2s 7ms/step - loss: 0.4065 - accuracy: 0.8158 - val_loss: 0.4444 - val_accuracy: 0.7896\n",
            "Epoch 43/100\n",
            "313/313 [==============================] - 2s 7ms/step - loss: 0.4061 - accuracy: 0.8164 - val_loss: 0.4436 - val_accuracy: 0.7920\n"
          ],
          "name": "stdout"
        }
      ]
    },
    {
      "cell_type": "code",
      "metadata": {
        "id": "krYD-vkhH7UL"
      },
      "source": [
        ""
      ],
      "execution_count": null,
      "outputs": []
    }
  ]
}