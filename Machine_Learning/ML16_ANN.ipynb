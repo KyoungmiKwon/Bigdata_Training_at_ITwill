{
  "nbformat": 4,
  "nbformat_minor": 0,
  "metadata": {
    "colab": {
      "name": "ML16_ANN.ipynb",
      "provenance": [],
      "collapsed_sections": [],
      "toc_visible": true,
      "authorship_tag": "ABX9TyMkyW4QEr+ZssAjL9GHQtTk",
      "include_colab_link": true
    },
    "kernelspec": {
      "name": "python3",
      "display_name": "Python 3"
    },
    "language_info": {
      "name": "python"
    },
    "accelerator": "GPU"
  },
  "cells": [
    {
      "cell_type": "markdown",
      "metadata": {
        "id": "view-in-github",
        "colab_type": "text"
      },
      "source": [
        "<a href=\"https://colab.research.google.com/github/KyoungmiKwon/Bigdata_Training_at_ITwill/blob/main/Machine_Learning/ML16_ANN.ipynb\" target=\"_parent\"><img src=\"https://colab.research.google.com/assets/colab-badge.svg\" alt=\"Open In Colab\"/></a>"
      ]
    },
    {
      "cell_type": "markdown",
      "metadata": {
        "id": "t-Yl0V5m9kt1"
      },
      "source": [
        "# import"
      ]
    },
    {
      "cell_type": "code",
      "metadata": {
        "id": "i-BtrXziHYgY"
      },
      "source": [
        "import numpy as np\n",
        "import pandas as pd\n",
        "import matplotlib.pyplot as plt\n",
        "\n",
        "\n",
        "from sklearn.datasets import load_iris\n",
        "\n",
        "import tensorflow as tf\n",
        "from tensorflow import keras\n",
        "from keras.datasets.fashion_mnist import load_data\n"
      ],
      "execution_count": 68,
      "outputs": []
    },
    {
      "cell_type": "markdown",
      "metadata": {
        "id": "e5OWJcxq9fWp"
      },
      "source": [
        "# Iris Data"
      ]
    },
    {
      "cell_type": "code",
      "metadata": {
        "id": "0nCQzhsWOJ_c"
      },
      "source": [
        "iris_data, iris_target = load_iris(return_X_y=True)"
      ],
      "execution_count": 4,
      "outputs": []
    },
    {
      "cell_type": "code",
      "metadata": {
        "colab": {
          "base_uri": "https://localhost:8080/"
        },
        "id": "iDIOHm7LOXFV",
        "outputId": "a0f0d419-4095-48f3-ba1a-a7629bc83ae2"
      },
      "source": [
        "iris_data.shape,iris_target.shape"
      ],
      "execution_count": 5,
      "outputs": [
        {
          "output_type": "execute_result",
          "data": {
            "text/plain": [
              "((150, 4), (150,))"
            ]
          },
          "metadata": {
            "tags": []
          },
          "execution_count": 5
        }
      ]
    },
    {
      "cell_type": "code",
      "metadata": {
        "colab": {
          "base_uri": "https://localhost:8080/"
        },
        "id": "rnt8V_llOjPA",
        "outputId": "fa7dd3c2-a448-4a3a-ff62-f1528cdd307b"
      },
      "source": [
        "np.unique(iris_target, return_counts=True)"
      ],
      "execution_count": 6,
      "outputs": [
        {
          "output_type": "execute_result",
          "data": {
            "text/plain": [
              "(array([0, 1, 2]), array([50, 50, 50]))"
            ]
          },
          "metadata": {
            "tags": []
          },
          "execution_count": 6
        }
      ]
    },
    {
      "cell_type": "markdown",
      "metadata": {
        "id": "mfzbG_uVOtOj"
      },
      "source": [
        "샘플의 변수는 2개로 축소, 타겟(0:setosa, 1:non-setosa)"
      ]
    },
    {
      "cell_type": "code",
      "metadata": {
        "id": "-hztDu83OsXc"
      },
      "source": [
        "X = iris_data[:,-2:]\n",
        "y = (iris_target !=0).astype(np.int32)"
      ],
      "execution_count": 7,
      "outputs": []
    },
    {
      "cell_type": "code",
      "metadata": {
        "colab": {
          "base_uri": "https://localhost:8080/"
        },
        "id": "9wLij-AfPDfb",
        "outputId": "71d9804a-3df8-4ca2-9881-0c4ae39cab36"
      },
      "source": [
        "X.shape,y.shape"
      ],
      "execution_count": 8,
      "outputs": [
        {
          "output_type": "execute_result",
          "data": {
            "text/plain": [
              "((150, 2), (150,))"
            ]
          },
          "metadata": {
            "tags": []
          },
          "execution_count": 8
        }
      ]
    },
    {
      "cell_type": "code",
      "metadata": {
        "colab": {
          "base_uri": "https://localhost:8080/"
        },
        "id": "0s8S5ioiPLlO",
        "outputId": "e2ea5120-da40-4199-f8fd-dfbfa0162127"
      },
      "source": [
        "np.unique(y,return_counts=True)"
      ],
      "execution_count": 9,
      "outputs": [
        {
          "output_type": "execute_result",
          "data": {
            "text/plain": [
              "(array([0, 1], dtype=int32), array([ 50, 100]))"
            ]
          },
          "metadata": {
            "tags": []
          },
          "execution_count": 9
        }
      ]
    },
    {
      "cell_type": "markdown",
      "metadata": {
        "id": "zDnIVDzfPeLy"
      },
      "source": [
        "## single-layer 신경망"
      ]
    },
    {
      "cell_type": "code",
      "metadata": {
        "id": "rrSQKJuYPRnF"
      },
      "source": [
        "# 신경망 모델 생성 -  설계\n",
        "model = keras.Sequential(layers =[keras.layers.Dense(units = 1, activation='sigmoid',input_shape=(2,))],\n",
        "                         name = 'iris_single_layer')"
      ],
      "execution_count": 10,
      "outputs": []
    },
    {
      "cell_type": "markdown",
      "metadata": {
        "id": "YQdzKZwDSpvv"
      },
      "source": [
        "* `keras.Sequential` 클래스: 신경망 모델(input-hidden-output layer)\n",
        "* `keras.layers.Dense` 클래스: Dense 층(한개 이상의 unit(neuron)으로 이루어진 층)\n",
        "    * `units` 파라미터: dense layer가 갖는 유닛의 개수\n",
        "    * `activation` 파라미터: 활성화 함수 이름\n",
        "    * `input_shape` 파라미터: 한개의 유닛으로 입력되는 input data의 shape(튜플)\n",
        "        * 신경망 모델이 찾아야 하는 파라미터(weights, bias)의 개수를 결정하기 위해서 필요.\n",
        "        "
      ]
    },
    {
      "cell_type": "code",
      "metadata": {
        "colab": {
          "base_uri": "https://localhost:8080/"
        },
        "id": "P7x5F0XaSG8H",
        "outputId": "1f94d4f5-2c2f-4dc0-b825-2f595f1d9154"
      },
      "source": [
        "# 생성된 신경망 모델 요약: layers, parameters\n",
        "model.summary()"
      ],
      "execution_count": 11,
      "outputs": [
        {
          "output_type": "stream",
          "text": [
            "Model: \"iris_single_layer\"\n",
            "_________________________________________________________________\n",
            "Layer (type)                 Output Shape              Param #   \n",
            "=================================================================\n",
            "dense (Dense)                (None, 1)                 3         \n",
            "=================================================================\n",
            "Total params: 3\n",
            "Trainable params: 3\n",
            "Non-trainable params: 0\n",
            "_________________________________________________________________\n"
          ],
          "name": "stdout"
        }
      ]
    },
    {
      "cell_type": "code",
      "metadata": {
        "id": "_3ud4M3qVRir"
      },
      "source": [
        "# 신경망 모델 컴파일: optimizer, loss, metrics 등을 설정\n",
        "# optimizer : weight와 bias를 찾기 위한 훈련 방법\n",
        "# loss: 비용 함수(이름)\n",
        "# metrics: 성능 평가 지표(정확도, R2 score, RMSE 등)\n",
        "model.compile(optimizer='sgd', loss = 'binary_crossentropy', metrics='accuracy')"
      ],
      "execution_count": 12,
      "outputs": []
    },
    {
      "cell_type": "code",
      "metadata": {
        "colab": {
          "base_uri": "https://localhost:8080/"
        },
        "id": "L100GRtDWBPt",
        "outputId": "b3379f96-e5e6-4353-bff6-7d87c4646e29"
      },
      "source": [
        "# 신경망 모델 훈련 - loss를 줄여주는, metric를 크게 만들어 주는 weight와 bias를 찾는 과정.\n",
        "model.fit(X,y, epochs=10)"
      ],
      "execution_count": 13,
      "outputs": [
        {
          "output_type": "stream",
          "text": [
            "Epoch 1/10\n",
            "5/5 [==============================] - 3s 3ms/step - loss: 3.9754 - accuracy: 0.3459\n",
            "Epoch 2/10\n",
            "5/5 [==============================] - 0s 2ms/step - loss: 3.4080 - accuracy: 0.3390\n",
            "Epoch 3/10\n",
            "5/5 [==============================] - 0s 3ms/step - loss: 2.7855 - accuracy: 0.3598\n",
            "Epoch 4/10\n",
            "5/5 [==============================] - 0s 2ms/step - loss: 2.4598 - accuracy: 0.3060\n",
            "Epoch 5/10\n",
            "5/5 [==============================] - 0s 2ms/step - loss: 1.8804 - accuracy: 0.3086\n",
            "Epoch 6/10\n",
            "5/5 [==============================] - 0s 2ms/step - loss: 1.4152 - accuracy: 0.3359\n",
            "Epoch 7/10\n",
            "5/5 [==============================] - 0s 3ms/step - loss: 1.0513 - accuracy: 0.3511\n",
            "Epoch 8/10\n",
            "5/5 [==============================] - 0s 2ms/step - loss: 0.8391 - accuracy: 0.3101\n",
            "Epoch 9/10\n",
            "5/5 [==============================] - 0s 2ms/step - loss: 0.6785 - accuracy: 0.6316\n",
            "Epoch 10/10\n",
            "5/5 [==============================] - 0s 3ms/step - loss: 0.6030 - accuracy: 0.7434\n"
          ],
          "name": "stdout"
        },
        {
          "output_type": "execute_result",
          "data": {
            "text/plain": [
              "<tensorflow.python.keras.callbacks.History at 0x7ffb301e0410>"
            ]
          },
          "metadata": {
            "tags": []
          },
          "execution_count": 13
        }
      ]
    },
    {
      "cell_type": "code",
      "metadata": {
        "colab": {
          "base_uri": "https://localhost:8080/"
        },
        "id": "0tTy35DtbfCJ",
        "outputId": "8bc82e35-8f1c-4094-b128-5c629115fbff"
      },
      "source": [
        "# 신경망 모델의 훈련이 끝난 후 파라미터들(weight, bias)\n",
        "model.weights"
      ],
      "execution_count": 14,
      "outputs": [
        {
          "output_type": "execute_result",
          "data": {
            "text/plain": [
              "[<tf.Variable 'dense/kernel:0' shape=(2, 1) dtype=float32, numpy=\n",
              " array([[-0.21463871],\n",
              "        [ 0.8614443 ]], dtype=float32)>,\n",
              " <tf.Variable 'dense/bias:0' shape=(1,) dtype=float32, numpy=array([0.2045454], dtype=float32)>]"
            ]
          },
          "metadata": {
            "tags": []
          },
          "execution_count": 14
        }
      ]
    },
    {
      "cell_type": "code",
      "metadata": {
        "colab": {
          "base_uri": "https://localhost:8080/"
        },
        "id": "hPcJDhCwcgxm",
        "outputId": "cfb4a73d-5be3-4338-d579-95a8bff7f75a"
      },
      "source": [
        "# 훈련된 모델 평가\n",
        "model.evaluate(X,y)"
      ],
      "execution_count": 15,
      "outputs": [
        {
          "output_type": "stream",
          "text": [
            "5/5 [==============================] - 0s 3ms/step - loss: 0.5460 - accuracy: 0.7000\n"
          ],
          "name": "stdout"
        },
        {
          "output_type": "execute_result",
          "data": {
            "text/plain": [
              "[0.5460094809532166, 0.699999988079071]"
            ]
          },
          "metadata": {
            "tags": []
          },
          "execution_count": 15
        }
      ]
    },
    {
      "cell_type": "code",
      "metadata": {
        "colab": {
          "base_uri": "https://localhost:8080/"
        },
        "id": "12TGBVo7clyF",
        "outputId": "00b31f6e-bb80-4667-86c8-389872b2e335"
      },
      "source": [
        "# 훈련된 모델을 사용해서 예측\n",
        "model.predict(X[[0,50,100]])\n",
        "#> 이진 분류(binary class classification)에서 predict() 메서드는 양성 샘플(class=1)dl 될 확률을 리턴."
      ],
      "execution_count": 16,
      "outputs": [
        {
          "output_type": "execute_result",
          "data": {
            "text/plain": [
              "array([[0.51907575],\n",
              "       [0.59911174],\n",
              "       [0.7446585 ]], dtype=float32)"
            ]
          },
          "metadata": {
            "tags": []
          },
          "execution_count": 16
        }
      ]
    },
    {
      "cell_type": "code",
      "metadata": {
        "colab": {
          "base_uri": "https://localhost:8080/"
        },
        "id": "lRAb1CKyegUv",
        "outputId": "d9a82222-8951-44b1-e821-e7631d25a255"
      },
      "source": [
        "model.predict_proba(X[[0,50,100]]) #>deprecated"
      ],
      "execution_count": 17,
      "outputs": [
        {
          "output_type": "stream",
          "text": [
            "/usr/local/lib/python3.7/dist-packages/tensorflow/python/keras/engine/sequential.py:425: UserWarning: `model.predict_proba()` is deprecated and will be removed after 2021-01-01. Please use `model.predict()` instead.\n",
            "  warnings.warn('`model.predict_proba()` is deprecated and '\n"
          ],
          "name": "stderr"
        },
        {
          "output_type": "execute_result",
          "data": {
            "text/plain": [
              "array([[0.51907575],\n",
              "       [0.59911174],\n",
              "       [0.7446585 ]], dtype=float32)"
            ]
          },
          "metadata": {
            "tags": []
          },
          "execution_count": 17
        }
      ]
    },
    {
      "cell_type": "code",
      "metadata": {
        "colab": {
          "base_uri": "https://localhost:8080/"
        },
        "id": "ZBfmTgemfBXa",
        "outputId": "fab01e79-c777-4b49-f657-e3513ebeb0fd"
      },
      "source": [
        "model.predict_classes(X[[0,50,100]])"
      ],
      "execution_count": 18,
      "outputs": [
        {
          "output_type": "stream",
          "text": [
            "/usr/local/lib/python3.7/dist-packages/tensorflow/python/keras/engine/sequential.py:450: UserWarning: `model.predict_classes()` is deprecated and will be removed after 2021-01-01. Please use instead:* `np.argmax(model.predict(x), axis=-1)`,   if your model does multi-class classification   (e.g. if it uses a `softmax` last-layer activation).* `(model.predict(x) > 0.5).astype(\"int32\")`,   if your model does binary classification   (e.g. if it uses a `sigmoid` last-layer activation).\n",
            "  warnings.warn('`model.predict_classes()` is deprecated and '\n"
          ],
          "name": "stderr"
        },
        {
          "output_type": "execute_result",
          "data": {
            "text/plain": [
              "array([[1],\n",
              "       [1],\n",
              "       [1]], dtype=int32)"
            ]
          },
          "metadata": {
            "tags": []
          },
          "execution_count": 18
        }
      ]
    },
    {
      "cell_type": "markdown",
      "metadata": {
        "id": "tQ9fwludffmO"
      },
      "source": [
        "## DNN(Deep Neural Network)\n",
        "\n",
        "Hidden layer(은닉층)이 한개 이상인 신경망 모델"
      ]
    },
    {
      "cell_type": "code",
      "metadata": {
        "id": "tTdUZ2cjgjT2"
      },
      "source": [
        "# 모델 생성\n",
        "model2 = keras.Sequential(name='iris_2_layers')"
      ],
      "execution_count": 19,
      "outputs": []
    },
    {
      "cell_type": "code",
      "metadata": {
        "id": "CMo0ArxthKli"
      },
      "source": [
        "# Sequential 객체에 hidden layer를 추가\n",
        "model2.add(keras.layers.Dense(units=10, activation='sigmoid',input_shape=(2,)))\n",
        "# hidden layer 뒤에 output layer를 추가\n",
        "model2.add(keras.layers.Dense(units=1, activation='sigmoid'))\n",
        "# 첫번째 layer에서만 input_shape을 결정해 주면,\n",
        "# 두번째부터 연결되는 layer에서는 input_shape이 자동으로 계산되서 결정됨"
      ],
      "execution_count": 20,
      "outputs": []
    },
    {
      "cell_type": "code",
      "metadata": {
        "colab": {
          "base_uri": "https://localhost:8080/"
        },
        "id": "rWp-2Ws-iLp8",
        "outputId": "2d8bb952-429f-4d09-f0f5-488b41f70211"
      },
      "source": [
        "# 생성된 모델 요약\n",
        "model2.summary()"
      ],
      "execution_count": 21,
      "outputs": [
        {
          "output_type": "stream",
          "text": [
            "Model: \"iris_2_layers\"\n",
            "_________________________________________________________________\n",
            "Layer (type)                 Output Shape              Param #   \n",
            "=================================================================\n",
            "dense_1 (Dense)              (None, 10)                30        \n",
            "_________________________________________________________________\n",
            "dense_2 (Dense)              (None, 1)                 11        \n",
            "=================================================================\n",
            "Total params: 41\n",
            "Trainable params: 41\n",
            "Non-trainable params: 0\n",
            "_________________________________________________________________\n"
          ],
          "name": "stdout"
        }
      ]
    },
    {
      "cell_type": "code",
      "metadata": {
        "id": "Kut2Ty-b89NA"
      },
      "source": [
        "model2.compile(optimizer='sgd', loss = 'binary_crossentropy', metrics='accuracy')"
      ],
      "execution_count": 28,
      "outputs": []
    },
    {
      "cell_type": "code",
      "metadata": {
        "colab": {
          "base_uri": "https://localhost:8080/"
        },
        "id": "JPdO4wqv8-nk",
        "outputId": "977075a3-f0bc-4699-8284-5ee7c424d5e7"
      },
      "source": [
        "model2.fit(X,y, epochs=10)"
      ],
      "execution_count": 29,
      "outputs": [
        {
          "output_type": "stream",
          "text": [
            "Epoch 1/10\n",
            "5/5 [==============================] - 0s 3ms/step - loss: 0.5201 - accuracy: 0.7001\n",
            "Epoch 2/10\n",
            "5/5 [==============================] - 0s 3ms/step - loss: 0.5286 - accuracy: 0.6866\n",
            "Epoch 3/10\n",
            "5/5 [==============================] - 0s 3ms/step - loss: 0.5303 - accuracy: 0.6827\n",
            "Epoch 4/10\n",
            "5/5 [==============================] - 0s 3ms/step - loss: 0.5340 - accuracy: 0.6740\n",
            "Epoch 5/10\n",
            "5/5 [==============================] - 0s 3ms/step - loss: 0.5298 - accuracy: 0.6806\n",
            "Epoch 6/10\n",
            "5/5 [==============================] - 0s 3ms/step - loss: 0.5555 - accuracy: 0.6437\n",
            "Epoch 7/10\n",
            "5/5 [==============================] - 0s 3ms/step - loss: 0.5158 - accuracy: 0.6975\n",
            "Epoch 8/10\n",
            "5/5 [==============================] - 0s 3ms/step - loss: 0.5406 - accuracy: 0.6593\n",
            "Epoch 9/10\n",
            "5/5 [==============================] - 0s 3ms/step - loss: 0.5279 - accuracy: 0.6771\n",
            "Epoch 10/10\n",
            "5/5 [==============================] - 0s 3ms/step - loss: 0.5414 - accuracy: 0.6545\n"
          ],
          "name": "stdout"
        },
        {
          "output_type": "execute_result",
          "data": {
            "text/plain": [
              "<tensorflow.python.keras.callbacks.History at 0x7ffae80ff990>"
            ]
          },
          "metadata": {
            "tags": []
          },
          "execution_count": 29
        }
      ]
    },
    {
      "cell_type": "code",
      "metadata": {
        "colab": {
          "base_uri": "https://localhost:8080/"
        },
        "id": "Abtrt8_Mi0CZ",
        "outputId": "00706e4b-408b-40a2-9bf9-c6557bc87e64"
      },
      "source": [
        "model2.weights\n",
        "#> tf.Variance 클래스의 객체들을 저장하고 있는 리스트"
      ],
      "execution_count": 30,
      "outputs": [
        {
          "output_type": "execute_result",
          "data": {
            "text/plain": [
              "[<tf.Variable 'dense_1/kernel:0' shape=(2, 10) dtype=float32, numpy=\n",
              " array([[ 0.16254723, -0.6563843 , -0.5798243 ,  0.26564053, -0.12722048,\n",
              "          0.6322237 , -0.43328544, -0.6996785 , -0.15565582,  0.07913835],\n",
              "        [ 0.52953655,  0.24665204, -0.41011965,  0.28540343,  0.7001068 ,\n",
              "          0.46216333,  0.2112004 , -0.12552543,  0.27843773, -0.6846568 ]],\n",
              "       dtype=float32)>,\n",
              " <tf.Variable 'dense_1/bias:0' shape=(10,) dtype=float32, numpy=\n",
              " array([ 0.0033901 ,  0.00457928,  0.00829502, -0.00813088, -0.00261947,\n",
              "        -0.01318599,  0.00246748,  0.00223576,  0.00217087, -0.00244243],\n",
              "       dtype=float32)>,\n",
              " <tf.Variable 'dense_2/kernel:0' shape=(10, 1) dtype=float32, numpy=\n",
              " array([[-0.22939166],\n",
              "        [-0.28096893],\n",
              "        [-0.4551799 ],\n",
              "        [ 0.5616295 ],\n",
              "        [ 0.38625067],\n",
              "        [ 0.7106491 ],\n",
              "        [-0.19152331],\n",
              "        [-0.13679905],\n",
              "        [-0.39371046],\n",
              "        [ 0.2710672 ]], dtype=float32)>,\n",
              " <tf.Variable 'dense_2/bias:0' shape=(1,) dtype=float32, numpy=array([-0.02177253], dtype=float32)>]"
            ]
          },
          "metadata": {
            "tags": []
          },
          "execution_count": 30
        }
      ]
    },
    {
      "cell_type": "code",
      "metadata": {
        "colab": {
          "base_uri": "https://localhost:8080/"
        },
        "id": "m0fNzzt76xrd",
        "outputId": "dbf6e82e-a2fc-481a-ce47-6b7a6be91be7"
      },
      "source": [
        "model2.weights[0] #> 입력 데이터들이 첫번째 layer로 입력될 때 곱해지게 될 Weight 행렬"
      ],
      "execution_count": 31,
      "outputs": [
        {
          "output_type": "execute_result",
          "data": {
            "text/plain": [
              "<tf.Variable 'dense_1/kernel:0' shape=(2, 10) dtype=float32, numpy=\n",
              "array([[ 0.16254723, -0.6563843 , -0.5798243 ,  0.26564053, -0.12722048,\n",
              "         0.6322237 , -0.43328544, -0.6996785 , -0.15565582,  0.07913835],\n",
              "       [ 0.52953655,  0.24665204, -0.41011965,  0.28540343,  0.7001068 ,\n",
              "         0.46216333,  0.2112004 , -0.12552543,  0.27843773, -0.6846568 ]],\n",
              "      dtype=float32)>"
            ]
          },
          "metadata": {
            "tags": []
          },
          "execution_count": 31
        }
      ]
    },
    {
      "cell_type": "code",
      "metadata": {
        "colab": {
          "base_uri": "https://localhost:8080/"
        },
        "id": "oXYNEwot8Mic",
        "outputId": "b66cd345-4319-4dd5-82a0-23e52373612c"
      },
      "source": [
        "model2.weights[1] #> 입력 데이터들이 첫번째 layer로 입력될 때 곱해지게 될 bias(tensor)"
      ],
      "execution_count": 32,
      "outputs": [
        {
          "output_type": "execute_result",
          "data": {
            "text/plain": [
              "<tf.Variable 'dense_1/bias:0' shape=(10,) dtype=float32, numpy=\n",
              "array([ 0.0033901 ,  0.00457928,  0.00829502, -0.00813088, -0.00261947,\n",
              "       -0.01318599,  0.00246748,  0.00223576,  0.00217087, -0.00244243],\n",
              "      dtype=float32)>"
            ]
          },
          "metadata": {
            "tags": []
          },
          "execution_count": 32
        }
      ]
    },
    {
      "cell_type": "code",
      "metadata": {
        "colab": {
          "base_uri": "https://localhost:8080/"
        },
        "id": "aoOXmQ868oA7",
        "outputId": "5be3ece6-aef0-4c34-86c8-4cff762dbfea"
      },
      "source": [
        "# 평가\n",
        "model2.evaluate(X,y)"
      ],
      "execution_count": 33,
      "outputs": [
        {
          "output_type": "stream",
          "text": [
            "5/5 [==============================] - 0s 4ms/step - loss: 0.5319 - accuracy: 0.6667\n"
          ],
          "name": "stdout"
        },
        {
          "output_type": "execute_result",
          "data": {
            "text/plain": [
              "[0.5318964123725891, 0.6666666865348816]"
            ]
          },
          "metadata": {
            "tags": []
          },
          "execution_count": 33
        }
      ]
    },
    {
      "cell_type": "code",
      "metadata": {
        "colab": {
          "base_uri": "https://localhost:8080/"
        },
        "id": "vKviZIr49IUI",
        "outputId": "5aebdc75-a771-4c06-bb25-a0de33510bdb"
      },
      "source": [
        "# 예측\n",
        "model.predict(X[[0,1,50,100,101]])"
      ],
      "execution_count": 34,
      "outputs": [
        {
          "output_type": "execute_result",
          "data": {
            "text/plain": [
              "array([[0.51907575],\n",
              "       [0.51907575],\n",
              "       [0.59911174],\n",
              "       [0.7446585 ],\n",
              "       [0.6784444 ]], dtype=float32)"
            ]
          },
          "metadata": {
            "tags": []
          },
          "execution_count": 34
        }
      ]
    },
    {
      "cell_type": "markdown",
      "metadata": {
        "id": "xcmpkR2T9pYv"
      },
      "source": [
        "## iris 다중 클래스 분류_단일층"
      ]
    },
    {
      "cell_type": "code",
      "metadata": {
        "colab": {
          "base_uri": "https://localhost:8080/"
        },
        "id": "ek9Y6tGU9ZhA",
        "outputId": "a66c33e0-163d-44cf-a5c3-1ddffe66e0b2"
      },
      "source": [
        "iris_data[:5]"
      ],
      "execution_count": 47,
      "outputs": [
        {
          "output_type": "execute_result",
          "data": {
            "text/plain": [
              "array([[5.1, 3.5, 1.4, 0.2],\n",
              "       [4.9, 3. , 1.4, 0.2],\n",
              "       [4.7, 3.2, 1.3, 0.2],\n",
              "       [4.6, 3.1, 1.5, 0.2],\n",
              "       [5. , 3.6, 1.4, 0.2]])"
            ]
          },
          "metadata": {
            "tags": []
          },
          "execution_count": 47
        }
      ]
    },
    {
      "cell_type": "code",
      "metadata": {
        "colab": {
          "base_uri": "https://localhost:8080/"
        },
        "id": "rk4aeTgn9zbo",
        "outputId": "97452aa8-dccc-494f-fca4-51f451402be4"
      },
      "source": [
        "iris_target"
      ],
      "execution_count": 48,
      "outputs": [
        {
          "output_type": "execute_result",
          "data": {
            "text/plain": [
              "array([0, 0, 0, 0, 0, 0, 0, 0, 0, 0, 0, 0, 0, 0, 0, 0, 0, 0, 0, 0, 0, 0,\n",
              "       0, 0, 0, 0, 0, 0, 0, 0, 0, 0, 0, 0, 0, 0, 0, 0, 0, 0, 0, 0, 0, 0,\n",
              "       0, 0, 0, 0, 0, 0, 1, 1, 1, 1, 1, 1, 1, 1, 1, 1, 1, 1, 1, 1, 1, 1,\n",
              "       1, 1, 1, 1, 1, 1, 1, 1, 1, 1, 1, 1, 1, 1, 1, 1, 1, 1, 1, 1, 1, 1,\n",
              "       1, 1, 1, 1, 1, 1, 1, 1, 1, 1, 1, 1, 2, 2, 2, 2, 2, 2, 2, 2, 2, 2,\n",
              "       2, 2, 2, 2, 2, 2, 2, 2, 2, 2, 2, 2, 2, 2, 2, 2, 2, 2, 2, 2, 2, 2,\n",
              "       2, 2, 2, 2, 2, 2, 2, 2, 2, 2, 2, 2, 2, 2, 2, 2, 2, 2])"
            ]
          },
          "metadata": {
            "tags": []
          },
          "execution_count": 48
        }
      ]
    },
    {
      "cell_type": "code",
      "metadata": {
        "id": "_SW_pbXM-THI"
      },
      "source": [
        "# 신경망 생성\n",
        "model = keras.Sequential()"
      ],
      "execution_count": 49,
      "outputs": []
    },
    {
      "cell_type": "code",
      "metadata": {
        "id": "YQQs3Voa-Y4g"
      },
      "source": [
        "# 출력층 추가: 다중 클래스 분류의 경우 활성화 함수는 softmax를 사용\n",
        "model.add(keras.layers.Dense(units=3, activation='softmax',input_shape=(4,)))"
      ],
      "execution_count": 50,
      "outputs": []
    },
    {
      "cell_type": "code",
      "metadata": {
        "colab": {
          "base_uri": "https://localhost:8080/"
        },
        "id": "xutr6JYJEJfW",
        "outputId": "3f5714bb-8ae3-4610-cb72-54ecb4f1800c"
      },
      "source": [
        "model.summary()"
      ],
      "execution_count": 51,
      "outputs": [
        {
          "output_type": "stream",
          "text": [
            "Model: \"sequential_1\"\n",
            "_________________________________________________________________\n",
            "Layer (type)                 Output Shape              Param #   \n",
            "=================================================================\n",
            "dense_4 (Dense)              (None, 3)                 15        \n",
            "=================================================================\n",
            "Total params: 15\n",
            "Trainable params: 15\n",
            "Non-trainable params: 0\n",
            "_________________________________________________________________\n"
          ],
          "name": "stdout"
        }
      ]
    },
    {
      "cell_type": "code",
      "metadata": {
        "id": "6mIf5ZSR_yQj"
      },
      "source": [
        "#모델 컴파일\n",
        "model.compile(optimizer='sgd', loss = 'sparse_categorical_crossentropy', metrics='accuracy')"
      ],
      "execution_count": 52,
      "outputs": []
    },
    {
      "cell_type": "code",
      "metadata": {
        "colab": {
          "base_uri": "https://localhost:8080/",
          "height": 1000
        },
        "id": "yYrSTdk8D-iH",
        "outputId": "0e6417e7-0e69-40ea-b155-c38600024478"
      },
      "source": [
        "#모델 훈련\n",
        "model.fit(iris_data,iris_target, epochs=100)\n",
        "\"\"\" multimonial(다중 클래스) 분류이고, 타켓이 ont-hot encoding이 되어 있지 않은 경우,\n",
        "손실함수는 sparse_categorical_crossentropy를 사용.\n",
        "ont-hot encording되어 있는 경우에는, categorical_crossentropy를 사용.\"\"\""
      ],
      "execution_count": 55,
      "outputs": [
        {
          "output_type": "stream",
          "text": [
            "Epoch 1/100\n",
            "5/5 [==============================] - 0s 2ms/step - loss: 0.3999 - accuracy: 0.9200\n",
            "Epoch 2/100\n",
            "5/5 [==============================] - 0s 2ms/step - loss: 0.3965 - accuracy: 0.9267\n",
            "Epoch 3/100\n",
            "5/5 [==============================] - 0s 3ms/step - loss: 0.3963 - accuracy: 0.9133\n",
            "Epoch 4/100\n",
            "5/5 [==============================] - 0s 2ms/step - loss: 0.3946 - accuracy: 0.9133\n",
            "Epoch 5/100\n",
            "5/5 [==============================] - 0s 2ms/step - loss: 0.3951 - accuracy: 0.9267\n",
            "Epoch 6/100\n",
            "5/5 [==============================] - 0s 3ms/step - loss: 0.3928 - accuracy: 0.9267\n",
            "Epoch 7/100\n",
            "5/5 [==============================] - 0s 3ms/step - loss: 0.3928 - accuracy: 0.9467\n",
            "Epoch 8/100\n",
            "5/5 [==============================] - 0s 2ms/step - loss: 0.3937 - accuracy: 0.9200\n",
            "Epoch 9/100\n",
            "5/5 [==============================] - 0s 2ms/step - loss: 0.3909 - accuracy: 0.9267\n",
            "Epoch 10/100\n",
            "5/5 [==============================] - 0s 3ms/step - loss: 0.3888 - accuracy: 0.9267\n",
            "Epoch 11/100\n",
            "5/5 [==============================] - 0s 3ms/step - loss: 0.3881 - accuracy: 0.9333\n",
            "Epoch 12/100\n",
            "5/5 [==============================] - 0s 2ms/step - loss: 0.3888 - accuracy: 0.9333\n",
            "Epoch 13/100\n",
            "5/5 [==============================] - 0s 2ms/step - loss: 0.3867 - accuracy: 0.9200\n",
            "Epoch 14/100\n",
            "5/5 [==============================] - 0s 2ms/step - loss: 0.3861 - accuracy: 0.9467\n",
            "Epoch 15/100\n",
            "5/5 [==============================] - 0s 2ms/step - loss: 0.3846 - accuracy: 0.9333\n",
            "Epoch 16/100\n",
            "5/5 [==============================] - 0s 2ms/step - loss: 0.3837 - accuracy: 0.9400\n",
            "Epoch 17/100\n",
            "5/5 [==============================] - 0s 2ms/step - loss: 0.3845 - accuracy: 0.9400\n",
            "Epoch 18/100\n",
            "5/5 [==============================] - 0s 2ms/step - loss: 0.3822 - accuracy: 0.9333\n",
            "Epoch 19/100\n",
            "5/5 [==============================] - 0s 2ms/step - loss: 0.3831 - accuracy: 0.9400\n",
            "Epoch 20/100\n",
            "5/5 [==============================] - 0s 2ms/step - loss: 0.3821 - accuracy: 0.9267\n",
            "Epoch 21/100\n",
            "5/5 [==============================] - 0s 2ms/step - loss: 0.3845 - accuracy: 0.9533\n",
            "Epoch 22/100\n",
            "5/5 [==============================] - 0s 3ms/step - loss: 0.3791 - accuracy: 0.9467\n",
            "Epoch 23/100\n",
            "5/5 [==============================] - 0s 3ms/step - loss: 0.3800 - accuracy: 0.9267\n",
            "Epoch 24/100\n",
            "5/5 [==============================] - 0s 2ms/step - loss: 0.3777 - accuracy: 0.9400\n",
            "Epoch 25/100\n",
            "5/5 [==============================] - 0s 3ms/step - loss: 0.3775 - accuracy: 0.9467\n",
            "Epoch 26/100\n",
            "5/5 [==============================] - 0s 2ms/step - loss: 0.3761 - accuracy: 0.9467\n",
            "Epoch 27/100\n",
            "5/5 [==============================] - 0s 2ms/step - loss: 0.3768 - accuracy: 0.9467\n",
            "Epoch 28/100\n",
            "5/5 [==============================] - 0s 2ms/step - loss: 0.3757 - accuracy: 0.9400\n",
            "Epoch 29/100\n",
            "5/5 [==============================] - 0s 2ms/step - loss: 0.3759 - accuracy: 0.9467\n",
            "Epoch 30/100\n",
            "5/5 [==============================] - 0s 2ms/step - loss: 0.3738 - accuracy: 0.9467\n",
            "Epoch 31/100\n",
            "5/5 [==============================] - 0s 2ms/step - loss: 0.3756 - accuracy: 0.9267\n",
            "Epoch 32/100\n",
            "5/5 [==============================] - 0s 2ms/step - loss: 0.3730 - accuracy: 0.9267\n",
            "Epoch 33/100\n",
            "5/5 [==============================] - 0s 2ms/step - loss: 0.3745 - accuracy: 0.9333\n",
            "Epoch 34/100\n",
            "5/5 [==============================] - 0s 2ms/step - loss: 0.3714 - accuracy: 0.9533\n",
            "Epoch 35/100\n",
            "5/5 [==============================] - 0s 2ms/step - loss: 0.3757 - accuracy: 0.9333\n",
            "Epoch 36/100\n",
            "5/5 [==============================] - 0s 2ms/step - loss: 0.3698 - accuracy: 0.9333\n",
            "Epoch 37/100\n",
            "5/5 [==============================] - 0s 3ms/step - loss: 0.3682 - accuracy: 0.9467\n",
            "Epoch 38/100\n",
            "5/5 [==============================] - 0s 2ms/step - loss: 0.3678 - accuracy: 0.9467\n",
            "Epoch 39/100\n",
            "5/5 [==============================] - 0s 3ms/step - loss: 0.3674 - accuracy: 0.9333\n",
            "Epoch 40/100\n",
            "5/5 [==============================] - 0s 2ms/step - loss: 0.3659 - accuracy: 0.9467\n",
            "Epoch 41/100\n",
            "5/5 [==============================] - 0s 2ms/step - loss: 0.3663 - accuracy: 0.9600\n",
            "Epoch 42/100\n",
            "5/5 [==============================] - 0s 2ms/step - loss: 0.3654 - accuracy: 0.9467\n",
            "Epoch 43/100\n",
            "5/5 [==============================] - 0s 3ms/step - loss: 0.3659 - accuracy: 0.9467\n",
            "Epoch 44/100\n",
            "5/5 [==============================] - 0s 3ms/step - loss: 0.3668 - accuracy: 0.9467\n",
            "Epoch 45/100\n",
            "5/5 [==============================] - 0s 3ms/step - loss: 0.3639 - accuracy: 0.9533\n",
            "Epoch 46/100\n",
            "5/5 [==============================] - 0s 4ms/step - loss: 0.3631 - accuracy: 0.9467\n",
            "Epoch 47/100\n",
            "5/5 [==============================] - 0s 2ms/step - loss: 0.3660 - accuracy: 0.9267\n",
            "Epoch 48/100\n",
            "5/5 [==============================] - 0s 2ms/step - loss: 0.3620 - accuracy: 0.9467\n",
            "Epoch 49/100\n",
            "5/5 [==============================] - 0s 2ms/step - loss: 0.3604 - accuracy: 0.9400\n",
            "Epoch 50/100\n",
            "5/5 [==============================] - 0s 3ms/step - loss: 0.3599 - accuracy: 0.9533\n",
            "Epoch 51/100\n",
            "5/5 [==============================] - 0s 3ms/step - loss: 0.3596 - accuracy: 0.9467\n",
            "Epoch 52/100\n",
            "5/5 [==============================] - 0s 2ms/step - loss: 0.3602 - accuracy: 0.9467\n",
            "Epoch 53/100\n",
            "5/5 [==============================] - 0s 2ms/step - loss: 0.3571 - accuracy: 0.9400\n",
            "Epoch 54/100\n",
            "5/5 [==============================] - 0s 2ms/step - loss: 0.3573 - accuracy: 0.9467\n",
            "Epoch 55/100\n",
            "5/5 [==============================] - 0s 2ms/step - loss: 0.3577 - accuracy: 0.9400\n",
            "Epoch 56/100\n",
            "5/5 [==============================] - 0s 2ms/step - loss: 0.3584 - accuracy: 0.9533\n",
            "Epoch 57/100\n",
            "5/5 [==============================] - 0s 2ms/step - loss: 0.3569 - accuracy: 0.9333\n",
            "Epoch 58/100\n",
            "5/5 [==============================] - 0s 2ms/step - loss: 0.3557 - accuracy: 0.9333\n",
            "Epoch 59/100\n",
            "5/5 [==============================] - 0s 2ms/step - loss: 0.3537 - accuracy: 0.9467\n",
            "Epoch 60/100\n",
            "5/5 [==============================] - 0s 2ms/step - loss: 0.3534 - accuracy: 0.9600\n",
            "Epoch 61/100\n",
            "5/5 [==============================] - 0s 3ms/step - loss: 0.3546 - accuracy: 0.9400\n",
            "Epoch 62/100\n",
            "5/5 [==============================] - 0s 2ms/step - loss: 0.3545 - accuracy: 0.9400\n",
            "Epoch 63/100\n",
            "5/5 [==============================] - 0s 2ms/step - loss: 0.3526 - accuracy: 0.9400\n",
            "Epoch 64/100\n",
            "5/5 [==============================] - 0s 2ms/step - loss: 0.3509 - accuracy: 0.9600\n",
            "Epoch 65/100\n",
            "5/5 [==============================] - 0s 3ms/step - loss: 0.3498 - accuracy: 0.9467\n",
            "Epoch 66/100\n",
            "5/5 [==============================] - 0s 2ms/step - loss: 0.3493 - accuracy: 0.9533\n",
            "Epoch 67/100\n",
            "5/5 [==============================] - 0s 3ms/step - loss: 0.3503 - accuracy: 0.9467\n",
            "Epoch 68/100\n",
            "5/5 [==============================] - 0s 2ms/step - loss: 0.3486 - accuracy: 0.9467\n",
            "Epoch 69/100\n",
            "5/5 [==============================] - 0s 2ms/step - loss: 0.3475 - accuracy: 0.9467\n",
            "Epoch 70/100\n",
            "5/5 [==============================] - 0s 2ms/step - loss: 0.3469 - accuracy: 0.9533\n",
            "Epoch 71/100\n",
            "5/5 [==============================] - 0s 2ms/step - loss: 0.3464 - accuracy: 0.9600\n",
            "Epoch 72/100\n",
            "5/5 [==============================] - 0s 3ms/step - loss: 0.3457 - accuracy: 0.9400\n",
            "Epoch 73/100\n",
            "5/5 [==============================] - 0s 3ms/step - loss: 0.3455 - accuracy: 0.9533\n",
            "Epoch 74/100\n",
            "5/5 [==============================] - 0s 3ms/step - loss: 0.3441 - accuracy: 0.9533\n",
            "Epoch 75/100\n",
            "5/5 [==============================] - 0s 2ms/step - loss: 0.3443 - accuracy: 0.9533\n",
            "Epoch 76/100\n",
            "5/5 [==============================] - 0s 2ms/step - loss: 0.3443 - accuracy: 0.9667\n",
            "Epoch 77/100\n",
            "5/5 [==============================] - 0s 2ms/step - loss: 0.3442 - accuracy: 0.9467\n",
            "Epoch 78/100\n",
            "5/5 [==============================] - 0s 2ms/step - loss: 0.3444 - accuracy: 0.9600\n",
            "Epoch 79/100\n",
            "5/5 [==============================] - 0s 5ms/step - loss: 0.3426 - accuracy: 0.9333\n",
            "Epoch 80/100\n",
            "5/5 [==============================] - 0s 3ms/step - loss: 0.3406 - accuracy: 0.9600\n",
            "Epoch 81/100\n",
            "5/5 [==============================] - 0s 3ms/step - loss: 0.3428 - accuracy: 0.9600\n",
            "Epoch 82/100\n",
            "5/5 [==============================] - 0s 3ms/step - loss: 0.3403 - accuracy: 0.9533\n",
            "Epoch 83/100\n",
            "5/5 [==============================] - 0s 2ms/step - loss: 0.3395 - accuracy: 0.9600\n",
            "Epoch 84/100\n",
            "5/5 [==============================] - 0s 2ms/step - loss: 0.3396 - accuracy: 0.9533\n",
            "Epoch 85/100\n",
            "5/5 [==============================] - 0s 2ms/step - loss: 0.3377 - accuracy: 0.9600\n",
            "Epoch 86/100\n",
            "5/5 [==============================] - 0s 3ms/step - loss: 0.3385 - accuracy: 0.9600\n",
            "Epoch 87/100\n",
            "5/5 [==============================] - 0s 3ms/step - loss: 0.3372 - accuracy: 0.9600\n",
            "Epoch 88/100\n",
            "5/5 [==============================] - 0s 2ms/step - loss: 0.3380 - accuracy: 0.9600\n",
            "Epoch 89/100\n",
            "5/5 [==============================] - 0s 3ms/step - loss: 0.3359 - accuracy: 0.9600\n",
            "Epoch 90/100\n",
            "5/5 [==============================] - 0s 2ms/step - loss: 0.3358 - accuracy: 0.9533\n",
            "Epoch 91/100\n",
            "5/5 [==============================] - 0s 3ms/step - loss: 0.3363 - accuracy: 0.9533\n",
            "Epoch 92/100\n",
            "5/5 [==============================] - 0s 2ms/step - loss: 0.3344 - accuracy: 0.9600\n",
            "Epoch 93/100\n",
            "5/5 [==============================] - 0s 2ms/step - loss: 0.3333 - accuracy: 0.9533\n",
            "Epoch 94/100\n",
            "5/5 [==============================] - 0s 3ms/step - loss: 0.3334 - accuracy: 0.9533\n",
            "Epoch 95/100\n",
            "5/5 [==============================] - 0s 2ms/step - loss: 0.3337 - accuracy: 0.9533\n",
            "Epoch 96/100\n",
            "5/5 [==============================] - 0s 2ms/step - loss: 0.3324 - accuracy: 0.9600\n",
            "Epoch 97/100\n",
            "5/5 [==============================] - 0s 2ms/step - loss: 0.3326 - accuracy: 0.9467\n",
            "Epoch 98/100\n",
            "5/5 [==============================] - 0s 3ms/step - loss: 0.3307 - accuracy: 0.9600\n",
            "Epoch 99/100\n",
            "5/5 [==============================] - 0s 2ms/step - loss: 0.3309 - accuracy: 0.9600\n",
            "Epoch 100/100\n",
            "5/5 [==============================] - 0s 3ms/step - loss: 0.3339 - accuracy: 0.9467\n"
          ],
          "name": "stdout"
        },
        {
          "output_type": "execute_result",
          "data": {
            "application/vnd.google.colaboratory.intrinsic+json": {
              "type": "string"
            },
            "text/plain": [
              "' multimonial(다중 클래스) 분류이고, 타켓이 ont-hot encoding이 되어 있지 않은 경우,\\n손실함수는 sparse_categorical_crossentropy를 사용.\\nont-hot encording되어 있는 경우에는, categorical_crossentropy를 사용.'"
            ]
          },
          "metadata": {
            "tags": []
          },
          "execution_count": 55
        }
      ]
    },
    {
      "cell_type": "markdown",
      "metadata": {
        "id": "RMpgAGhZHMdy"
      },
      "source": [
        "# fashion"
      ]
    },
    {
      "cell_type": "code",
      "metadata": {
        "id": "BF0Vq--wENCi"
      },
      "source": [
        "# keras.datasets.fashion_mnist.load_data()\n",
        "\n",
        "(x_tr,y_tr),(x_ts,y_ts) = load_data()"
      ],
      "execution_count": 63,
      "outputs": []
    },
    {
      "cell_type": "code",
      "metadata": {
        "colab": {
          "base_uri": "https://localhost:8080/"
        },
        "id": "hAqa7dBbHYOs",
        "outputId": "be252edd-940c-4de9-bc68-5616b3a0f194"
      },
      "source": [
        "x_tr.shape,y_tr.shape\n",
        "#> data shape: (n_samples, height, width)\n",
        "#> target shape : (n_samples,)"
      ],
      "execution_count": 65,
      "outputs": [
        {
          "output_type": "execute_result",
          "data": {
            "text/plain": [
              "((60000, 28, 28), (60000,))"
            ]
          },
          "metadata": {
            "tags": []
          },
          "execution_count": 65
        }
      ]
    },
    {
      "cell_type": "code",
      "metadata": {
        "colab": {
          "base_uri": "https://localhost:8080/"
        },
        "id": "df7OVG0iHezv",
        "outputId": "0b203b65-2958-4077-d61b-5da8b3d981ef"
      },
      "source": [
        "x_ts.shape,y_ts.shape"
      ],
      "execution_count": 66,
      "outputs": [
        {
          "output_type": "execute_result",
          "data": {
            "text/plain": [
              "((10000, 28, 28), (10000,))"
            ]
          },
          "metadata": {
            "tags": []
          },
          "execution_count": 66
        }
      ]
    },
    {
      "cell_type": "code",
      "metadata": {
        "colab": {
          "base_uri": "https://localhost:8080/",
          "height": 265
        },
        "id": "22lnmpmLIiCC",
        "outputId": "be786796-fa79-4c76-e1f9-3c88f63bbb0f"
      },
      "source": [
        "plt.imshow(x_tr[0],cmap='binary')\n",
        "plt.show()"
      ],
      "execution_count": 70,
      "outputs": [
        {
          "output_type": "display_data",
          "data": {
            "image/png": "[encoded data removed]",
            "text/plain": [
              "<Figure size 432x288 with 1 Axes>"
            ]
          },
          "metadata": {
            "tags": [],
            "needs_background": "light"
          }
        }
      ]
    },
    {
      "cell_type": "code",
      "metadata": {
        "colab": {
          "base_uri": "https://localhost:8080/"
        },
        "id": "3FuzKuLBJEu2",
        "outputId": "79c88dad-fe5d-436f-abe5-8f51a677b576"
      },
      "source": [
        "y_tr[0]"
      ],
      "execution_count": 71,
      "outputs": [
        {
          "output_type": "execute_result",
          "data": {
            "text/plain": [
              "9"
            ]
          },
          "metadata": {
            "tags": []
          },
          "execution_count": 71
        }
      ]
    },
    {
      "cell_type": "code",
      "metadata": {
        "colab": {
          "base_uri": "https://localhost:8080/"
        },
        "id": "BXaOXNQ8JG8S",
        "outputId": "dc4d278b-fcea-4aa1-f67a-1cd09b41d148"
      },
      "source": [
        "np.unique(y_tr, return_counts=True)"
      ],
      "execution_count": 72,
      "outputs": [
        {
          "output_type": "execute_result",
          "data": {
            "text/plain": [
              "(array([0, 1, 2, 3, 4, 5, 6, 7, 8, 9], dtype=uint8),\n",
              " array([6000, 6000, 6000, 6000, 6000, 6000, 6000, 6000, 6000, 6000]))"
            ]
          },
          "metadata": {
            "tags": []
          },
          "execution_count": 72
        }
      ]
    },
    {
      "cell_type": "code",
      "metadata": {
        "colab": {
          "base_uri": "https://localhost:8080/"
        },
        "id": "Dood5xMGJfKR",
        "outputId": "7e243b26-51c5-4dec-ce45-6d586ba9e586"
      },
      "source": [
        "np.unique(y_ts, return_counts=True)"
      ],
      "execution_count": 73,
      "outputs": [
        {
          "output_type": "execute_result",
          "data": {
            "text/plain": [
              "(array([0, 1, 2, 3, 4, 5, 6, 7, 8, 9], dtype=uint8),\n",
              " array([1000, 1000, 1000, 1000, 1000, 1000, 1000, 1000, 1000, 1000]))"
            ]
          },
          "metadata": {
            "tags": []
          },
          "execution_count": 73
        }
      ]
    },
    {
      "cell_type": "code",
      "metadata": {
        "colab": {
          "base_uri": "https://localhost:8080/"
        },
        "id": "5sp44LlsL2nm",
        "outputId": "1b738f70-caf0-4887-c75b-fd267464c8fb"
      },
      "source": [
        "len(x_tr[:30])"
      ],
      "execution_count": 87,
      "outputs": [
        {
          "output_type": "execute_result",
          "data": {
            "text/plain": [
              "30"
            ]
          },
          "metadata": {
            "tags": []
          },
          "execution_count": 87
        }
      ]
    },
    {
      "cell_type": "code",
      "metadata": {
        "id": "8eF8noaLKIBF"
      },
      "source": [
        "\"\"\" 스스로 꼭 다시 해보기\"\"\"\n",
        "\n",
        "# 0~10\n",
        "\n",
        "len(x_tr[:30])\n",
        "\n",
        "\n",
        "for i, pic in enumerate(x_tr[:30]):\n",
        "    fig, ax = plt.subplots(nrows=(i//10)+1, ncols=10)\n",
        "\n",
        "    #print((i//10)+1,i%10)\n",
        "\n",
        "plt.show()"
      ],
      "execution_count": null,
      "outputs": []
    },
    {
      "cell_type": "code",
      "metadata": {
        "id": "dFxCJdxOJrVk"
      },
      "source": [
        "# 이미지들의 배열을 전달 받아서,\n",
        "# row의 개수는 이미지의 개수에 따라서 조절되도록\n",
        "# 이미지를 출력\n",
        "\n",
        "def plot_fashion_items(img_arr, ncols = 10):\n",
        "    n = len(img_arr)\n",
        "    nrows = int(np.ceil(n/ncols))\n",
        "    fig, ax = plt.subplots(nrows,ncols, figsize=(ncols,nrows))\n",
        "    for i in range(nrows):\n",
        "        for j in range(ncols):\n",
        "            idx =  i * ncols + j\n",
        "            if nrows == 1: # row의 갯수가 1이면\n",
        "                if idx < n :\n",
        "                    ax[idx].imshow(img_arr[idx], cmap='binary')\n",
        "                ax[idx].axis('off')\n",
        "            else:\n",
        "                if idx < n:\n",
        "                    ax[i,j].imshow(img_arr[idx], cmap='binary')\n",
        "                ax[i,j].axis('off')"
      ],
      "execution_count": 98,
      "outputs": []
    },
    {
      "cell_type": "code",
      "metadata": {
        "id": "SNvYwt5YOPPQ"
      },
      "source": [
        "#<모범해설>\n",
        "# 이미지들의 배열을 argument로 전달받아서, \n",
        "# row의 개수는 이미지의 개수에 따라서 계산해서,\n",
        "# 이미지를 출력\n",
        "def plot_fashion_items(img_arr, ncols=10):\n",
        "    n = len(img_arr)\n",
        "    nrows = int(np.ceil(n / ncols))\n",
        "    fig, ax = plt.subplots(nrows, ncols, figsize=(ncols, nrows))\n",
        "    for i in range(nrows):\n",
        "        for j in range(ncols):\n",
        "            idx = i * ncols + j\n",
        "            if nrows == 1:  # row의 개수가 1이면 Subplot ax는 1차원 배열\n",
        "                if idx < n:  # 이미지의 인덱스는 이미지의 개수보다 클 수 없음.\n",
        "                    ax[idx].imshow(img_arr[idx], cmap=plt.cm.binary)\n",
        "                ax[idx].axis('off')\n",
        "            else:  # row의 개수가 2 이상이면 Subplot ax는 2차원 배열\n",
        "                if idx < n:\n",
        "                    ax[i, j].imshow(img_arr[idx], cmap=plt.cm.binary)\n",
        "                ax[i, j].axis('off')"
      ],
      "execution_count": 94,
      "outputs": []
    },
    {
      "cell_type": "code",
      "metadata": {
        "colab": {
          "base_uri": "https://localhost:8080/",
          "height": 78
        },
        "id": "_v6JIDJuNWDr",
        "outputId": "9d2d925d-1e08-4343-adbd-0fe7382f4ccb"
      },
      "source": [
        "plot_fashion_items(x_tr[:10])"
      ],
      "execution_count": 99,
      "outputs": [
        {
          "output_type": "display_data",
          "data": {
            "image/png": "[encoded data removed]",
            "text/plain": [
              "<Figure size 720x72 with 10 Axes>"
            ]
          },
          "metadata": {
            "tags": [],
            "needs_background": "light"
          }
        }
      ]
    },
    {
      "cell_type": "code",
      "metadata": {
        "id": "j9XQqrYmRRCN"
      },
      "source": [
        "# 이미지 배열은 0~255 숫자로 이루어져 있음. -> 0 ~ 1 사이이 범위로 스케일링\n",
        "x_tr[0].shape # 28 x 28\n",
        "x_tr_s = x_tr/255\n",
        "x_ts_s = x_ts/255"
      ],
      "execution_count": 102,
      "outputs": []
    },
    {
      "cell_type": "code",
      "metadata": {
        "id": "NjA7quiSSJKQ"
      },
      "source": [
        "x_tr_s[0]"
      ],
      "execution_count": null,
      "outputs": []
    },
    {
      "cell_type": "markdown",
      "metadata": {
        "id": "shM4FMvySi1I"
      },
      "source": [
        "## single-layer NN"
      ]
    },
    {
      "cell_type": "code",
      "metadata": {
        "id": "reCBcfSoSVBR"
      },
      "source": [
        "# 모델생성\n",
        "model = keras.Sequential()"
      ],
      "execution_count": 119,
      "outputs": []
    },
    {
      "cell_type": "code",
      "metadata": {
        "id": "AfuxkJQSStaL"
      },
      "source": [
        "# Flatten layer 추가 :(28,28) 모양의 2차원 배열을 (28x28,) 모양의 1차원 배열로 변환\n",
        "model.add(keras.layers.Flatten(input_shape=(28,28)))\n",
        "# 출력층(output layer) 추가\n",
        "model.add(keras.layers.Dense(units=10, activation='softmax')) #input_shape=(28*28)\n",
        "#> Dense: unit=layer의 뉴런 갯수=layer의 출력 갯수\n",
        "#> Dense: activation=활성함수(2진분류: sigmoid, 다중클래스분류: softmax)\n",
        "#> Dense: inupt_shape=(784,)\n",
        "#> 첫번째 layer에서만 input_shape을 결정해 주면,\n",
        "#> 두번째부터 연결되는 layer에서는 input_shape이 자동으로 계산되서 결정됨\n",
        "#> 여기서는 Flatten layer를 추가 해서 거기에서 결정되어 자동으로 가져옴\n",
        "model.compile(optimizer='sgd', loss = 'sparse_categorical_crossentropy', metrics='accuracy')\n",
        "# 신경망 모델 컴파일: optimizer, loss, metrics 등을 설정\n",
        "# optimizer : weight와 bias를 찾기 위한 훈련 방법\n",
        "# loss: 비용 함수(이름)\n",
        "# metrics: 성능 평가 지표(정확도, R2 score, RMSE 등)\n",
        "#> multimonial(다중 클래스) 분류이고, 타켓이 ont-hot encoding이 되어 있지 않은 경우,\n",
        "#> 손실함수는 sparse_categorical_crossentropy를 사용.\n",
        "#> ont-hot encording되어 있는 경우에는, categorical_crossentropy를 사용."
      ],
      "execution_count": 120,
      "outputs": []
    },
    {
      "cell_type": "code",
      "metadata": {
        "colab": {
          "base_uri": "https://localhost:8080/"
        },
        "id": "3VbvICj7ZCQ8",
        "outputId": "90be83c7-2144-4931-b666-df264d4d2917"
      },
      "source": [
        "model.summary()"
      ],
      "execution_count": 123,
      "outputs": [
        {
          "output_type": "stream",
          "text": [
            "Model: \"sequential_3\"\n",
            "_________________________________________________________________\n",
            "Layer (type)                 Output Shape              Param #   \n",
            "=================================================================\n",
            "flatten_2 (Flatten)          (None, 784)               0         \n",
            "_________________________________________________________________\n",
            "dense_7 (Dense)              (None, 10)                7850      \n",
            "=================================================================\n",
            "Total params: 7,850\n",
            "Trainable params: 7,850\n",
            "Non-trainable params: 0\n",
            "_________________________________________________________________\n"
          ],
          "name": "stdout"
        }
      ]
    },
    {
      "cell_type": "code",
      "metadata": {
        "colab": {
          "base_uri": "https://localhost:8080/"
        },
        "id": "ssKJ_mcTYsUd",
        "outputId": "3e8aec01-bdc4-45d0-8172-54d28bbed77e"
      },
      "source": [
        "x_tr_s.shape,y_tr.shape"
      ],
      "execution_count": 116,
      "outputs": [
        {
          "output_type": "execute_result",
          "data": {
            "text/plain": [
              "((60000, 28, 28), (60000,))"
            ]
          },
          "metadata": {
            "tags": []
          },
          "execution_count": 116
        }
      ]
    },
    {
      "cell_type": "code",
      "metadata": {
        "colab": {
          "base_uri": "https://localhost:8080/"
        },
        "id": "-x47aPKMSv-j",
        "outputId": "e078e576-1d6e-4726-ce73-18a1cf308d66"
      },
      "source": [
        "model.fit(x_tr_s,y_tr,epochs=10)"
      ],
      "execution_count": 124,
      "outputs": [
        {
          "output_type": "stream",
          "text": [
            "Epoch 1/10\n",
            "1875/1875 [==============================] - 3s 2ms/step - loss: 0.4861 - accuracy: 0.8372\n",
            "Epoch 2/10\n",
            "1875/1875 [==============================] - 3s 2ms/step - loss: 0.4761 - accuracy: 0.8395\n",
            "Epoch 3/10\n",
            "1875/1875 [==============================] - 3s 2ms/step - loss: 0.4685 - accuracy: 0.8417\n",
            "Epoch 4/10\n",
            "1875/1875 [==============================] - 3s 1ms/step - loss: 0.4621 - accuracy: 0.8447\n",
            "Epoch 5/10\n",
            "1875/1875 [==============================] - 3s 2ms/step - loss: 0.4566 - accuracy: 0.8457\n",
            "Epoch 6/10\n",
            "1875/1875 [==============================] - 3s 2ms/step - loss: 0.4518 - accuracy: 0.8469\n",
            "Epoch 7/10\n",
            "1875/1875 [==============================] - 3s 2ms/step - loss: 0.4476 - accuracy: 0.8483\n",
            "Epoch 8/10\n",
            "1875/1875 [==============================] - 3s 2ms/step - loss: 0.4442 - accuracy: 0.8488\n",
            "Epoch 9/10\n",
            "1875/1875 [==============================] - 3s 2ms/step - loss: 0.4408 - accuracy: 0.8503\n",
            "Epoch 10/10\n",
            "1875/1875 [==============================] - 3s 1ms/step - loss: 0.4382 - accuracy: 0.8518\n"
          ],
          "name": "stdout"
        },
        {
          "output_type": "execute_result",
          "data": {
            "text/plain": [
              "<tensorflow.python.keras.callbacks.History at 0x7ffad2fcd290>"
            ]
          },
          "metadata": {
            "tags": []
          },
          "execution_count": 124
        }
      ]
    },
    {
      "cell_type": "code",
      "metadata": {
        "colab": {
          "base_uri": "https://localhost:8080/"
        },
        "id": "wT6_BtcwYiYA",
        "outputId": "7a1400c8-9699-4f25-9fb7-60d9e097257e"
      },
      "source": [
        "# 모델 평가\n",
        "model.evaluate(x_ts_s,y_ts)"
      ],
      "execution_count": 125,
      "outputs": [
        {
          "output_type": "stream",
          "text": [
            "313/313 [==============================] - 1s 2ms/step - loss: 0.4720 - accuracy: 0.8369\n"
          ],
          "name": "stdout"
        },
        {
          "output_type": "execute_result",
          "data": {
            "text/plain": [
              "[0.47202518582344055, 0.836899995803833]"
            ]
          },
          "metadata": {
            "tags": []
          },
          "execution_count": 125
        }
      ]
    },
    {
      "cell_type": "markdown",
      "metadata": {
        "id": "Vvh-VSO1eJeu"
      },
      "source": [
        "## DNN"
      ]
    },
    {
      "cell_type": "markdown",
      "metadata": {
        "id": "Utyzdlh0eMAA"
      },
      "source": [
        "* flatten layer: 2차원 -> 1차원 배열\n",
        "* hidden layer: 100개 unit\n",
        "    * hidden layer에서는 활성화 함수로 sigmoid를 사용\n",
        "* output layer\n",
        "    * 활성화 함수:\n",
        "* 최적화 알고리즘은 기본값인 'rmsprop'를 사용"
      ]
    },
    {
      "cell_type": "code",
      "metadata": {
        "id": "QwVlTHTUeI9t"
      },
      "source": [
        "model = keras.Sequential() # 모델생성\n",
        "model.add(keras.layers.Flatten(input_shape=(28,28))) # flatten layer\n",
        "model.add(keras.layers.Dense(units=100, activation='sigmoid')) # hidden layer1\n",
        "model.add(keras.layers.Dense(units=10, activation='softmax')) # output layer"
      ],
      "execution_count": 126,
      "outputs": []
    },
    {
      "cell_type": "code",
      "metadata": {
        "colab": {
          "base_uri": "https://localhost:8080/"
        },
        "id": "VrIZdCTFfdxv",
        "outputId": "239b45f7-2925-4843-a3db-e5d180ac526a"
      },
      "source": [
        "model.summary()"
      ],
      "execution_count": 128,
      "outputs": [
        {
          "output_type": "stream",
          "text": [
            "Model: \"sequential_4\"\n",
            "_________________________________________________________________\n",
            "Layer (type)                 Output Shape              Param #   \n",
            "=================================================================\n",
            "flatten_3 (Flatten)          (None, 784)               0         \n",
            "_________________________________________________________________\n",
            "dense_8 (Dense)              (None, 100)               78500     \n",
            "_________________________________________________________________\n",
            "dense_9 (Dense)              (None, 10)                1010      \n",
            "=================================================================\n",
            "Total params: 79,510\n",
            "Trainable params: 79,510\n",
            "Non-trainable params: 0\n",
            "_________________________________________________________________\n"
          ],
          "name": "stdout"
        }
      ]
    },
    {
      "cell_type": "code",
      "metadata": {
        "id": "n3yiBDLofuuO"
      },
      "source": [
        "model.compile(optimizer='rmsprop', loss = 'sparse_categorical_crossentropy', metrics='accuracy') #최적화"
      ],
      "execution_count": 129,
      "outputs": []
    },
    {
      "cell_type": "code",
      "metadata": {
        "colab": {
          "base_uri": "https://localhost:8080/"
        },
        "id": "teyH6P1Hf8Se",
        "outputId": "d9a4bb38-3544-44ae-b59c-6b6a16d5e348"
      },
      "source": [
        "model.fit(x_tr_s,y_tr,epochs=10) # 훈련"
      ],
      "execution_count": 130,
      "outputs": [
        {
          "output_type": "stream",
          "text": [
            "Epoch 1/10\n",
            "1875/1875 [==============================] - 4s 2ms/step - loss: 0.7173 - accuracy: 0.7660\n",
            "Epoch 2/10\n",
            "1875/1875 [==============================] - 4s 2ms/step - loss: 0.4045 - accuracy: 0.8535\n",
            "Epoch 3/10\n",
            "1875/1875 [==============================] - 4s 2ms/step - loss: 0.3641 - accuracy: 0.8692\n",
            "Epoch 4/10\n",
            "1875/1875 [==============================] - 3s 2ms/step - loss: 0.3437 - accuracy: 0.8771\n",
            "Epoch 5/10\n",
            "1875/1875 [==============================] - 4s 2ms/step - loss: 0.3261 - accuracy: 0.8823\n",
            "Epoch 6/10\n",
            "1875/1875 [==============================] - 3s 2ms/step - loss: 0.3127 - accuracy: 0.8864\n",
            "Epoch 7/10\n",
            "1875/1875 [==============================] - 4s 2ms/step - loss: 0.3076 - accuracy: 0.8877\n",
            "Epoch 8/10\n",
            "1875/1875 [==============================] - 4s 2ms/step - loss: 0.2888 - accuracy: 0.8967\n",
            "Epoch 9/10\n",
            "1875/1875 [==============================] - 3s 2ms/step - loss: 0.2882 - accuracy: 0.8935\n",
            "Epoch 10/10\n",
            "1875/1875 [==============================] - 4s 2ms/step - loss: 0.2740 - accuracy: 0.9008\n"
          ],
          "name": "stdout"
        },
        {
          "output_type": "execute_result",
          "data": {
            "text/plain": [
              "<tensorflow.python.keras.callbacks.History at 0x7ffad2eeaad0>"
            ]
          },
          "metadata": {
            "tags": []
          },
          "execution_count": 130
        }
      ]
    },
    {
      "cell_type": "code",
      "metadata": {
        "colab": {
          "base_uri": "https://localhost:8080/"
        },
        "id": "L3DsWcs5gL-h",
        "outputId": "efb4a708-ca58-4ec5-8e0d-a8f2236d959d"
      },
      "source": [
        "model.evaluate(x_ts_s,y_ts) #평가"
      ],
      "execution_count": 131,
      "outputs": [
        {
          "output_type": "stream",
          "text": [
            "313/313 [==============================] - 1s 2ms/step - loss: 0.3527 - accuracy: 0.8769\n"
          ],
          "name": "stdout"
        },
        {
          "output_type": "execute_result",
          "data": {
            "text/plain": [
              "[0.35272374749183655, 0.8769000172615051]"
            ]
          },
          "metadata": {
            "tags": []
          },
          "execution_count": 131
        }
      ]
    },
    {
      "cell_type": "markdown",
      "metadata": {
        "id": "jjrF3lPTkmVV"
      },
      "source": [
        "## DNN2"
      ]
    },
    {
      "cell_type": "code",
      "metadata": {
        "id": "0HxfSvsVm4SJ"
      },
      "source": [
        "def create_model(image_size=(28,28),layer=None):\n",
        "    \n",
        "    model = keras.Sequential() # 모델생성\n",
        "    model.add(keras.layers.Flatten(input_shape=(image_size)))\n",
        "    model.add(keras.layers.Dense(units=100,activation='relu'))\n",
        "    if layer : #추가 하려는 layer가 argument로 전달 됐을 때\n",
        "        model.add(layer)\n",
        "    model.add(keras.layers.Dense(units=10,activation='softmax'))\n",
        "\n",
        "    return model"
      ],
      "execution_count": 145,
      "outputs": []
    },
    {
      "cell_type": "code",
      "metadata": {
        "colab": {
          "base_uri": "https://localhost:8080/"
        },
        "id": "kbS5-HKqmTLC",
        "outputId": "ea7f3721-f60e-4d64-9911-df0969dae0fb"
      },
      "source": [
        "# create model 함수를 사용해서 신경망 모델 생성, 컴파일 훈련 평가\n",
        "a = create_model() #모델 생성\n",
        "a.summary()"
      ],
      "execution_count": 148,
      "outputs": [
        {
          "output_type": "stream",
          "text": [
            "Model: \"sequential_8\"\n",
            "_________________________________________________________________\n",
            "Layer (type)                 Output Shape              Param #   \n",
            "=================================================================\n",
            "flatten_7 (Flatten)          (None, 784)               0         \n",
            "_________________________________________________________________\n",
            "dense_15 (Dense)             (None, 100)               78500     \n",
            "_________________________________________________________________\n",
            "dense_16 (Dense)             (None, 10)                1010      \n",
            "=================================================================\n",
            "Total params: 79,510\n",
            "Trainable params: 79,510\n",
            "Non-trainable params: 0\n",
            "_________________________________________________________________\n"
          ],
          "name": "stdout"
        }
      ]
    },
    {
      "cell_type": "code",
      "metadata": {
        "id": "XM4VPhFYnblD"
      },
      "source": [
        "a.compile(optimizer='rmsprop', loss = 'sparse_categorical_crossentropy', metrics='accuracy') # 컴파일"
      ],
      "execution_count": 149,
      "outputs": []
    },
    {
      "cell_type": "code",
      "metadata": {
        "colab": {
          "base_uri": "https://localhost:8080/"
        },
        "id": "E3uG2iwlnldp",
        "outputId": "ad9cc243-61bb-43e9-caa7-335ed8a7b42d"
      },
      "source": [
        "a.fit(x_tr_s,y_tr, epochs=10) # 훈련"
      ],
      "execution_count": 151,
      "outputs": [
        {
          "output_type": "stream",
          "text": [
            "Epoch 1/10\n",
            "1875/1875 [==============================] - 3s 2ms/step - loss: 0.3766 - accuracy: 0.8652\n",
            "Epoch 2/10\n",
            "1875/1875 [==============================] - 4s 2ms/step - loss: 0.3454 - accuracy: 0.8773\n",
            "Epoch 3/10\n",
            "1875/1875 [==============================] - 4s 2ms/step - loss: 0.3288 - accuracy: 0.8832\n",
            "Epoch 4/10\n",
            "1875/1875 [==============================] - 3s 2ms/step - loss: 0.3160 - accuracy: 0.8881\n",
            "Epoch 5/10\n",
            "1875/1875 [==============================] - 4s 2ms/step - loss: 0.3089 - accuracy: 0.8926\n",
            "Epoch 6/10\n",
            "1875/1875 [==============================] - 4s 2ms/step - loss: 0.2985 - accuracy: 0.8955\n",
            "Epoch 7/10\n",
            "1875/1875 [==============================] - 3s 2ms/step - loss: 0.2926 - accuracy: 0.8991\n",
            "Epoch 8/10\n",
            "1875/1875 [==============================] - 3s 2ms/step - loss: 0.2874 - accuracy: 0.9010\n",
            "Epoch 9/10\n",
            "1875/1875 [==============================] - 4s 2ms/step - loss: 0.2808 - accuracy: 0.9047\n",
            "Epoch 10/10\n",
            "1875/1875 [==============================] - 3s 2ms/step - loss: 0.2735 - accuracy: 0.9055\n"
          ],
          "name": "stdout"
        },
        {
          "output_type": "execute_result",
          "data": {
            "text/plain": [
              "<tensorflow.python.keras.callbacks.History at 0x7ffad2c29510>"
            ]
          },
          "metadata": {
            "tags": []
          },
          "execution_count": 151
        }
      ]
    },
    {
      "cell_type": "code",
      "metadata": {
        "colab": {
          "base_uri": "https://localhost:8080/"
        },
        "id": "oYA8aMk4npwN",
        "outputId": "f142c03e-9ec9-4c59-bdac-e95688998555"
      },
      "source": [
        "a.evaluate(x_ts_s,y_ts)"
      ],
      "execution_count": 152,
      "outputs": [
        {
          "output_type": "stream",
          "text": [
            "313/313 [==============================] - 1s 2ms/step - loss: 0.4175 - accuracy: 0.8757\n"
          ],
          "name": "stdout"
        },
        {
          "output_type": "execute_result",
          "data": {
            "text/plain": [
              "[0.41752323508262634, 0.8756999969482422]"
            ]
          },
          "metadata": {
            "tags": []
          },
          "execution_count": 152
        }
      ]
    },
    {
      "cell_type": "code",
      "metadata": {
        "colab": {
          "base_uri": "https://localhost:8080/"
        },
        "id": "_sIJ347Xn97w",
        "outputId": "c0cd1ce2-e29f-42b6-f22f-87da42cfcd72"
      },
      "source": [
        "# 위와 동일 모델을 새로 생성하고, optimizer='adam' 사용해서 훈련 평가\n",
        "b = create_model()\n",
        "b.summary()"
      ],
      "execution_count": 155,
      "outputs": [
        {
          "output_type": "stream",
          "text": [
            "Model: \"sequential_11\"\n",
            "_________________________________________________________________\n",
            "Layer (type)                 Output Shape              Param #   \n",
            "=================================================================\n",
            "flatten_10 (Flatten)         (None, 784)               0         \n",
            "_________________________________________________________________\n",
            "dense_21 (Dense)             (None, 100)               78500     \n",
            "_________________________________________________________________\n",
            "dense_22 (Dense)             (None, 10)                1010      \n",
            "=================================================================\n",
            "Total params: 79,510\n",
            "Trainable params: 79,510\n",
            "Non-trainable params: 0\n",
            "_________________________________________________________________\n"
          ],
          "name": "stdout"
        }
      ]
    },
    {
      "cell_type": "code",
      "metadata": {
        "id": "TgunzOCroNj9"
      },
      "source": [
        "b.compile(optimizer='adam', loss = 'sparse_categorical_crossentropy', metrics='accuracy') # 컴파일"
      ],
      "execution_count": 157,
      "outputs": []
    },
    {
      "cell_type": "code",
      "metadata": {
        "colab": {
          "base_uri": "https://localhost:8080/"
        },
        "id": "5CJKpdq_oWve",
        "outputId": "0705028b-fd78-4c95-b10e-c000b2a59e17"
      },
      "source": [
        "b.fit(x_tr_s,y_tr,epochs=10)"
      ],
      "execution_count": 158,
      "outputs": [
        {
          "output_type": "stream",
          "text": [
            "Epoch 1/10\n",
            "1875/1875 [==============================] - 4s 2ms/step - loss: 0.6246 - accuracy: 0.7822\n",
            "Epoch 2/10\n",
            "1875/1875 [==============================] - 3s 2ms/step - loss: 0.3890 - accuracy: 0.8618\n",
            "Epoch 3/10\n",
            "1875/1875 [==============================] - 3s 2ms/step - loss: 0.3419 - accuracy: 0.8755\n",
            "Epoch 4/10\n",
            "1875/1875 [==============================] - 3s 2ms/step - loss: 0.3219 - accuracy: 0.8835\n",
            "Epoch 5/10\n",
            "1875/1875 [==============================] - 3s 2ms/step - loss: 0.2965 - accuracy: 0.8887\n",
            "Epoch 6/10\n",
            "1875/1875 [==============================] - 3s 2ms/step - loss: 0.2861 - accuracy: 0.8946\n",
            "Epoch 7/10\n",
            "1875/1875 [==============================] - 3s 2ms/step - loss: 0.2764 - accuracy: 0.8984\n",
            "Epoch 8/10\n",
            "1875/1875 [==============================] - 3s 2ms/step - loss: 0.2623 - accuracy: 0.9027\n",
            "Epoch 9/10\n",
            "1875/1875 [==============================] - 3s 2ms/step - loss: 0.2489 - accuracy: 0.9060\n",
            "Epoch 10/10\n",
            "1875/1875 [==============================] - 3s 2ms/step - loss: 0.2384 - accuracy: 0.9120\n"
          ],
          "name": "stdout"
        },
        {
          "output_type": "execute_result",
          "data": {
            "text/plain": [
              "<tensorflow.python.keras.callbacks.History at 0x7ffad2c29d10>"
            ]
          },
          "metadata": {
            "tags": []
          },
          "execution_count": 158
        }
      ]
    },
    {
      "cell_type": "code",
      "metadata": {
        "colab": {
          "base_uri": "https://localhost:8080/"
        },
        "id": "sfyHOa1KocjQ",
        "outputId": "07ee6e96-4388-46c5-a701-8a8e7d0eb26c"
      },
      "source": [
        "b.evaluate(x_ts_s,y_ts)"
      ],
      "execution_count": 159,
      "outputs": [
        {
          "output_type": "stream",
          "text": [
            "313/313 [==============================] - 1s 2ms/step - loss: 0.3620 - accuracy: 0.8708\n"
          ],
          "name": "stdout"
        },
        {
          "output_type": "execute_result",
          "data": {
            "text/plain": [
              "[0.36204788088798523, 0.8708000183105469]"
            ]
          },
          "metadata": {
            "tags": []
          },
          "execution_count": 159
        }
      ]
    },
    {
      "cell_type": "code",
      "metadata": {
        "id": "glMxOeOBonK6"
      },
      "source": [
        ""
      ],
      "execution_count": null,
      "outputs": []
    }
  ]
}