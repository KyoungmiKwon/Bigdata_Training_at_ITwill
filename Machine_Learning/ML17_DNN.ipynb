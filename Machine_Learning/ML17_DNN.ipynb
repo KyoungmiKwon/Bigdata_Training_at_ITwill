{
  "nbformat": 4,
  "nbformat_minor": 0,
  "metadata": {
    "colab": {
      "name": "ML17_DNN.ipynb",
      "provenance": [],
      "collapsed_sections": [],
      "authorship_tag": "ABX9TyMquFq2Ev+wnK76ETX1YNHJ",
      "include_colab_link": true
    },
    "kernelspec": {
      "name": "python3",
      "display_name": "Python 3"
    },
    "language_info": {
      "name": "python"
    },
    "accelerator": "GPU"
  },
  "cells": [
    {
      "cell_type": "markdown",
      "metadata": {
        "id": "view-in-github",
        "colab_type": "text"
      },
      "source": [
        "<a href=\"https://colab.research.google.com/github/KyoungmiKwon/Bigdata_Training_at_ITwill/blob/main/Machine_Learning/ML17_DNN.ipynb\" target=\"_parent\"><img src=\"https://colab.research.google.com/assets/colab-badge.svg\" alt=\"Open In Colab\"/></a>"
      ]
    },
    {
      "cell_type": "code",
      "metadata": {
        "id": "jU9Uor-soMZx"
      },
      "source": [
        "import numpy as np\n",
        "import pandas as pd\n",
        "import matplotlib.pyplot as plt\n",
        "\n",
        "from sklearn.model_selection import train_test_split\n",
        "\n",
        "import tensorflow as tf\n",
        "from tensorflow import keras"
      ],
      "execution_count": null,
      "outputs": []
    },
    {
      "cell_type": "markdown",
      "metadata": {
        "id": "vdPrxxfVorRz"
      },
      "source": [
        "# Fashion MNIST datasets"
      ]
    },
    {
      "cell_type": "code",
      "metadata": {
        "id": "gR49d1CKoqPw"
      },
      "source": [
        "(x_tr_f, y_tr_f), (x_ts, y_ts) = keras.datasets.fashion_mnist.load_data()"
      ],
      "execution_count": null,
      "outputs": []
    },
    {
      "cell_type": "code",
      "metadata": {
        "colab": {
          "base_uri": "https://localhost:8080/"
        },
        "id": "L_u-dfuzo5g1",
        "outputId": "657d9d05-3d8c-4cc1-ff2e-5f993ccfe707"
      },
      "source": [
        "x_tr_f.shape"
      ],
      "execution_count": null,
      "outputs": [
        {
          "output_type": "execute_result",
          "data": {
            "text/plain": [
              "(60000, 28, 28)"
            ]
          },
          "metadata": {
            "tags": []
          },
          "execution_count": 56
        }
      ]
    },
    {
      "cell_type": "code",
      "metadata": {
        "colab": {
          "base_uri": "https://localhost:8080/"
        },
        "id": "T8QJ7NOfqa89",
        "outputId": "f5f6881f-ef2d-43fc-b920-1d5609755bcf"
      },
      "source": [
        "x_ts.shape"
      ],
      "execution_count": null,
      "outputs": [
        {
          "output_type": "execute_result",
          "data": {
            "text/plain": [
              "(10000, 28, 28)"
            ]
          },
          "metadata": {
            "tags": []
          },
          "execution_count": 57
        }
      ]
    },
    {
      "cell_type": "markdown",
      "metadata": {
        "id": "sDIJmlcOrbTn"
      },
      "source": [
        "0~255 정수 범위의 입력값들을 0.0 ~ 1.0 범위의 실수(float)으로 변환 -> 훈련 성능을 높이기 위해서"
      ]
    },
    {
      "cell_type": "code",
      "metadata": {
        "colab": {
          "base_uri": "https://localhost:8080/"
        },
        "id": "XlrmGKNnrD9w",
        "outputId": "8af60e0c-95c6-4bdc-f019-c8d899e752b0"
      },
      "source": [
        "np.max(x_tr_f), np.min(x_tr_f)"
      ],
      "execution_count": null,
      "outputs": [
        {
          "output_type": "execute_result",
          "data": {
            "text/plain": [
              "(255, 0)"
            ]
          },
          "metadata": {
            "tags": []
          },
          "execution_count": 58
        }
      ]
    },
    {
      "cell_type": "code",
      "metadata": {
        "id": "bQOWwychroTF"
      },
      "source": [
        "x_tr_f_s = x_tr_f/ 255\n",
        "x_ts_s = x_ts / 255"
      ],
      "execution_count": null,
      "outputs": []
    },
    {
      "cell_type": "markdown",
      "metadata": {
        "id": "ZACE1MoFsF3O"
      },
      "source": [
        "훈련 셋 전체를 훈련셋과 검증셋으로 나눔"
      ]
    },
    {
      "cell_type": "code",
      "metadata": {
        "id": "QJ3AKKS3ryQD"
      },
      "source": [
        "x_tr, x_val, y_tr, y_val = train_test_split(x_tr_f_s,y_tr_f,\n",
        "                                            stratify = y_tr_f,\n",
        "                                            test_size = 0.1,\n",
        "                                            random_state = 42)"
      ],
      "execution_count": null,
      "outputs": []
    },
    {
      "cell_type": "code",
      "metadata": {
        "colab": {
          "base_uri": "https://localhost:8080/"
        },
        "id": "m-J8YLRmsfJ8",
        "outputId": "43f80d2e-6dd3-4b78-d24b-882aa3e4cdbd"
      },
      "source": [
        "x_tr.shape,y_tr.shape"
      ],
      "execution_count": null,
      "outputs": [
        {
          "output_type": "execute_result",
          "data": {
            "text/plain": [
              "((54000, 28, 28), (54000,))"
            ]
          },
          "metadata": {
            "tags": []
          },
          "execution_count": 61
        }
      ]
    },
    {
      "cell_type": "markdown",
      "metadata": {
        "id": "kqcASG2kthoV"
      },
      "source": [
        "# DNN"
      ]
    },
    {
      "cell_type": "markdown",
      "metadata": {
        "id": "yWD6PtmRu1kq"
      },
      "source": [
        "input layer -> flatten layer -> dense layer(300 units) -> dense layer(100 units) -> output layer"
      ]
    },
    {
      "cell_type": "code",
      "metadata": {
        "id": "X25mK3uis38-"
      },
      "source": [
        "# Sequential 모델 생성\n",
        "model = keras.Sequential()\n",
        "# flatten layer\n",
        "model.add(keras.layers.Flatten(input_shape = (28,28)))"
      ],
      "execution_count": null,
      "outputs": []
    },
    {
      "cell_type": "code",
      "metadata": {
        "id": "fv2fxHKctH6e"
      },
      "source": [
        "model.add(keras.layers.Dense(units=300, activation='relu'))\n",
        "model.add(keras.layers.Dense(units=100, activation='relu'))\n",
        "model.add(keras.layers.Dense(units=10, activation='softmax'))"
      ],
      "execution_count": null,
      "outputs": []
    },
    {
      "cell_type": "code",
      "metadata": {
        "colab": {
          "base_uri": "https://localhost:8080/"
        },
        "id": "aqmNX5qQwJm7",
        "outputId": "7e783643-7e63-4a04-b149-f5c7308bc39e"
      },
      "source": [
        "model.summary()"
      ],
      "execution_count": null,
      "outputs": [
        {
          "output_type": "stream",
          "text": [
            "Model: \"sequential_9\"\n",
            "_________________________________________________________________\n",
            "Layer (type)                 Output Shape              Param #   \n",
            "=================================================================\n",
            "flatten_4 (Flatten)          (None, 784)               0         \n",
            "_________________________________________________________________\n",
            "dense_12 (Dense)             (None, 300)               235500    \n",
            "_________________________________________________________________\n",
            "dense_13 (Dense)             (None, 100)               30100     \n",
            "_________________________________________________________________\n",
            "dense_14 (Dense)             (None, 10)                1010      \n",
            "=================================================================\n",
            "Total params: 266,610\n",
            "Trainable params: 266,610\n",
            "Non-trainable params: 0\n",
            "_________________________________________________________________\n"
          ],
          "name": "stdout"
        }
      ]
    },
    {
      "cell_type": "code",
      "metadata": {
        "colab": {
          "base_uri": "https://localhost:8080/",
          "height": 533
        },
        "id": "yP0wsVewxL15",
        "outputId": "709a51dd-79eb-4a01-869d-89a912ca706a"
      },
      "source": [
        "keras.utils.plot_model(model, show_shapes=True, to_file='dnn1.png')"
      ],
      "execution_count": null,
      "outputs": [
        {
          "output_type": "execute_result",
          "data": {
            "image/png": "[encoded data removed]",
            "text/plain": [
              "<IPython.core.display.Image object>"
            ]
          },
          "metadata": {
            "tags": []
          },
          "execution_count": 65
        }
      ]
    },
    {
      "cell_type": "code",
      "metadata": {
        "id": "6ECNtGRFxPH2"
      },
      "source": [
        "model.compile(optimizer='sgd',loss='sparse_categorical_crossentropy', metrics='accuracy')"
      ],
      "execution_count": null,
      "outputs": []
    },
    {
      "cell_type": "code",
      "metadata": {
        "colab": {
          "base_uri": "https://localhost:8080/"
        },
        "id": "I9T36Qpoyd3A",
        "outputId": "5f4bf125-480b-4e37-e3d1-7298ca23ec52"
      },
      "source": [
        "history = model.fit(x_tr,y_tr,epochs=30,\n",
        "          validation_data=(x_val,y_val))"
      ],
      "execution_count": null,
      "outputs": [
        {
          "output_type": "stream",
          "text": [
            "Epoch 1/30\n",
            "1688/1688 [==============================] - 4s 2ms/step - loss: 0.9689 - accuracy: 0.7057 - val_loss: 0.5445 - val_accuracy: 0.8058\n",
            "Epoch 2/30\n",
            "1688/1688 [==============================] - 4s 2ms/step - loss: 0.5022 - accuracy: 0.8291 - val_loss: 0.4536 - val_accuracy: 0.8448\n",
            "Epoch 3/30\n",
            "1688/1688 [==============================] - 4s 2ms/step - loss: 0.4504 - accuracy: 0.8420 - val_loss: 0.4192 - val_accuracy: 0.8600\n",
            "Epoch 4/30\n",
            "1688/1688 [==============================] - 4s 2ms/step - loss: 0.4238 - accuracy: 0.8505 - val_loss: 0.3920 - val_accuracy: 0.8652\n",
            "Epoch 5/30\n",
            "1688/1688 [==============================] - 4s 2ms/step - loss: 0.4035 - accuracy: 0.8586 - val_loss: 0.3922 - val_accuracy: 0.8598\n",
            "Epoch 6/30\n",
            "1688/1688 [==============================] - 4s 2ms/step - loss: 0.3919 - accuracy: 0.8617 - val_loss: 0.4138 - val_accuracy: 0.8492\n",
            "Epoch 7/30\n",
            "1688/1688 [==============================] - 4s 2ms/step - loss: 0.3759 - accuracy: 0.8647 - val_loss: 0.3512 - val_accuracy: 0.8778\n",
            "Epoch 8/30\n",
            "1688/1688 [==============================] - 4s 2ms/step - loss: 0.3524 - accuracy: 0.8737 - val_loss: 0.3540 - val_accuracy: 0.8762\n",
            "Epoch 9/30\n",
            "1688/1688 [==============================] - 4s 2ms/step - loss: 0.3519 - accuracy: 0.8754 - val_loss: 0.3416 - val_accuracy: 0.8820\n",
            "Epoch 10/30\n",
            "1688/1688 [==============================] - 4s 2ms/step - loss: 0.3363 - accuracy: 0.8804 - val_loss: 0.3753 - val_accuracy: 0.8678\n",
            "Epoch 11/30\n",
            "1688/1688 [==============================] - 4s 2ms/step - loss: 0.3244 - accuracy: 0.8844 - val_loss: 0.3294 - val_accuracy: 0.8855\n",
            "Epoch 12/30\n",
            "1688/1688 [==============================] - 4s 2ms/step - loss: 0.3228 - accuracy: 0.8833 - val_loss: 0.3613 - val_accuracy: 0.8718\n",
            "Epoch 13/30\n",
            "1688/1688 [==============================] - 4s 2ms/step - loss: 0.3151 - accuracy: 0.8880 - val_loss: 0.3435 - val_accuracy: 0.8793\n",
            "Epoch 14/30\n",
            "1688/1688 [==============================] - 4s 2ms/step - loss: 0.3023 - accuracy: 0.8897 - val_loss: 0.3240 - val_accuracy: 0.8882\n",
            "Epoch 15/30\n",
            "1688/1688 [==============================] - 4s 2ms/step - loss: 0.2961 - accuracy: 0.8941 - val_loss: 0.3320 - val_accuracy: 0.8820\n",
            "Epoch 16/30\n",
            "1688/1688 [==============================] - 4s 2ms/step - loss: 0.2882 - accuracy: 0.8958 - val_loss: 0.3285 - val_accuracy: 0.8845\n",
            "Epoch 17/30\n",
            "1688/1688 [==============================] - 4s 2ms/step - loss: 0.2864 - accuracy: 0.8970 - val_loss: 0.3448 - val_accuracy: 0.8745\n",
            "Epoch 18/30\n",
            "1688/1688 [==============================] - 4s 2ms/step - loss: 0.2764 - accuracy: 0.8987 - val_loss: 0.3054 - val_accuracy: 0.8880\n",
            "Epoch 19/30\n",
            "1688/1688 [==============================] - 4s 2ms/step - loss: 0.2778 - accuracy: 0.8977 - val_loss: 0.3161 - val_accuracy: 0.8893\n",
            "Epoch 20/30\n",
            "1688/1688 [==============================] - 4s 2ms/step - loss: 0.2696 - accuracy: 0.9033 - val_loss: 0.3132 - val_accuracy: 0.8882\n",
            "Epoch 21/30\n",
            "1688/1688 [==============================] - 4s 2ms/step - loss: 0.2664 - accuracy: 0.9027 - val_loss: 0.3060 - val_accuracy: 0.8885\n",
            "Epoch 22/30\n",
            "1688/1688 [==============================] - 4s 2ms/step - loss: 0.2593 - accuracy: 0.9055 - val_loss: 0.2918 - val_accuracy: 0.8938\n",
            "Epoch 23/30\n",
            "1688/1688 [==============================] - 4s 2ms/step - loss: 0.2551 - accuracy: 0.9074 - val_loss: 0.2988 - val_accuracy: 0.8945\n",
            "Epoch 24/30\n",
            "1688/1688 [==============================] - 4s 2ms/step - loss: 0.2539 - accuracy: 0.9075 - val_loss: 0.3225 - val_accuracy: 0.8835\n",
            "Epoch 25/30\n",
            "1688/1688 [==============================] - 4s 2ms/step - loss: 0.2500 - accuracy: 0.9090 - val_loss: 0.3257 - val_accuracy: 0.8833\n",
            "Epoch 26/30\n",
            "1688/1688 [==============================] - 4s 2ms/step - loss: 0.2439 - accuracy: 0.9135 - val_loss: 0.2976 - val_accuracy: 0.8928\n",
            "Epoch 27/30\n",
            "1688/1688 [==============================] - 4s 2ms/step - loss: 0.2414 - accuracy: 0.9118 - val_loss: 0.2972 - val_accuracy: 0.8933\n",
            "Epoch 28/30\n",
            "1688/1688 [==============================] - 4s 2ms/step - loss: 0.2335 - accuracy: 0.9154 - val_loss: 0.3204 - val_accuracy: 0.8823\n",
            "Epoch 29/30\n",
            "1688/1688 [==============================] - 4s 2ms/step - loss: 0.2344 - accuracy: 0.9173 - val_loss: 0.3114 - val_accuracy: 0.8885\n",
            "Epoch 30/30\n",
            "1688/1688 [==============================] - 4s 2ms/step - loss: 0.2283 - accuracy: 0.9177 - val_loss: 0.2955 - val_accuracy: 0.8947\n"
          ],
          "name": "stdout"
        }
      ]
    },
    {
      "cell_type": "code",
      "metadata": {
        "colab": {
          "base_uri": "https://localhost:8080/"
        },
        "id": "bxpOiItT2Oth",
        "outputId": "a851c603-2185-4a18-f679-38c86bf74d29"
      },
      "source": [
        "print(history.epoch)"
      ],
      "execution_count": null,
      "outputs": [
        {
          "output_type": "stream",
          "text": [
            "[0, 1, 2, 3, 4, 5, 6, 7, 8, 9, 10, 11, 12, 13, 14, 15, 16, 17, 18, 19, 20, 21, 22, 23, 24, 25, 26, 27, 28, 29]\n"
          ],
          "name": "stdout"
        }
      ]
    },
    {
      "cell_type": "code",
      "metadata": {
        "colab": {
          "base_uri": "https://localhost:8080/"
        },
        "id": "nbzF0sot2bMz",
        "outputId": "f6b2d24b-cbe8-42b0-9096-7bec4dbb7d42"
      },
      "source": [
        "history.params"
      ],
      "execution_count": null,
      "outputs": [
        {
          "output_type": "execute_result",
          "data": {
            "text/plain": [
              "{'epochs': 30, 'steps': 1688, 'verbose': 1}"
            ]
          },
          "metadata": {
            "tags": []
          },
          "execution_count": 69
        }
      ]
    },
    {
      "cell_type": "code",
      "metadata": {
        "colab": {
          "base_uri": "https://localhost:8080/"
        },
        "id": "93DgpBie2c9P",
        "outputId": "7bd2b202-d16a-4d2b-b096-2042d6681b69"
      },
      "source": [
        "history.history.keys()"
      ],
      "execution_count": null,
      "outputs": [
        {
          "output_type": "execute_result",
          "data": {
            "text/plain": [
              "dict_keys(['loss', 'accuracy', 'val_loss', 'val_accuracy'])"
            ]
          },
          "metadata": {
            "tags": []
          },
          "execution_count": 70
        }
      ]
    },
    {
      "cell_type": "code",
      "metadata": {
        "colab": {
          "base_uri": "https://localhost:8080/"
        },
        "id": "Nl4acYWX3aIm",
        "outputId": "f72c6e0c-0869-4bdd-d971-3b84b24df82e"
      },
      "source": [
        "np.around(history.history['val_loss'],decimals=4)"
      ],
      "execution_count": null,
      "outputs": [
        {
          "output_type": "execute_result",
          "data": {
            "text/plain": [
              "array([0.5445, 0.4536, 0.4192, 0.392 , 0.3922, 0.4138, 0.3512, 0.354 ,\n",
              "       0.3416, 0.3753, 0.3294, 0.3613, 0.3435, 0.324 , 0.332 , 0.3285,\n",
              "       0.3448, 0.3054, 0.3161, 0.3132, 0.306 , 0.2918, 0.2988, 0.3225,\n",
              "       0.3257, 0.2976, 0.2972, 0.3204, 0.3114, 0.2955])"
            ]
          },
          "metadata": {
            "tags": []
          },
          "execution_count": 71
        }
      ]
    },
    {
      "cell_type": "code",
      "metadata": {
        "colab": {
          "base_uri": "https://localhost:8080/",
          "height": 279
        },
        "id": "roqixxTC456V",
        "outputId": "ca52dc37-ed20-473b-9e0f-161cc12313a0"
      },
      "source": [
        "# 손실 곡선\n",
        "plt.plot(history.epoch, history.history['loss'], label ='tr_loss')\n",
        "plt.plot(history.epoch, history.history['val_loss'], label ='val_loss')\n",
        "\n",
        "plt.legend()\n",
        "plt.grid()\n",
        "plt.xlabel('epoch')\n",
        "plt.ylabel('loss')\n",
        "plt.show()"
      ],
      "execution_count": null,
      "outputs": [
        {
          "output_type": "display_data",
          "data": {
            "image/png": "[encoded data removed]",
            "text/plain": [
              "<Figure size 432x288 with 1 Axes>"
            ]
          },
          "metadata": {
            "tags": [],
            "needs_background": "light"
          }
        }
      ]
    },
    {
      "cell_type": "code",
      "metadata": {
        "colab": {
          "base_uri": "https://localhost:8080/",
          "height": 279
        },
        "id": "E1gzMBXJ6CQs",
        "outputId": "815beb2f-80e4-4b5f-ce66-12c4af0ca296"
      },
      "source": [
        "# 정확도 곡선\n",
        "\n",
        "plt.plot(history.epoch, history.history['accuracy'], label ='tr_accuracy')\n",
        "plt.plot(history.epoch, history.history['val_accuracy'], label ='val_accuracy')\n",
        "\n",
        "plt.legend()\n",
        "plt.grid()\n",
        "plt.xlabel('epoch')\n",
        "plt.ylabel('accuracy')\n",
        "plt.show()"
      ],
      "execution_count": null,
      "outputs": [
        {
          "output_type": "display_data",
          "data": {
            "image/png": "[encoded data removed]",
            "text/plain": [
              "<Figure size 432x288 with 1 Axes>"
            ]
          },
          "metadata": {
            "tags": [],
            "needs_background": "light"
          }
        }
      ]
    },
    {
      "cell_type": "markdown",
      "metadata": {
        "id": "rGsVs0QJ8uvs"
      },
      "source": [
        "손실 곡선과 정확도 곡선을 그려보면\n",
        "\n",
        "* 훈련 셋에서는 손실과 정확도가 꾸준히 개선됨\n",
        "* 검증 셋에서는 어느 순간(epoch)까지는 손실이 줄어들고, 정확도 좋아지다가, 어느 순간 이후로는 더 이상 개선되지 않음. => 과대적합(overfitting)\n",
        "* epoch를 적절한 순간에 멈추는 기법이 필요.\n"
      ]
    },
    {
      "cell_type": "code",
      "metadata": {
        "colab": {
          "base_uri": "https://localhost:8080/",
          "height": 195
        },
        "id": "KO7WOxB-6QUc",
        "outputId": "67db6bcf-aa6d-42ce-d810-fded9fecdd73"
      },
      "source": [
        "loss_acc_hist = pd.DataFrame(history.history)\n",
        "loss_acc_hist.head()"
      ],
      "execution_count": null,
      "outputs": [
        {
          "output_type": "execute_result",
          "data": {
            "text/html": [
              "<div>\n",
              "<style scoped>\n",
              "    .dataframe tbody tr th:only-of-type {\n",
              "        vertical-align: middle;\n",
              "    }\n",
              "\n",
              "    .dataframe tbody tr th {\n",
              "        vertical-align: top;\n",
              "    }\n",
              "\n",
              "    .dataframe thead th {\n",
              "        text-align: right;\n",
              "    }\n",
              "</style>\n",
              "<table border=\"1\" class=\"dataframe\">\n",
              "  <thead>\n",
              "    <tr style=\"text-align: right;\">\n",
              "      <th></th>\n",
              "      <th>loss</th>\n",
              "      <th>accuracy</th>\n",
              "      <th>val_loss</th>\n",
              "      <th>val_accuracy</th>\n",
              "    </tr>\n",
              "  </thead>\n",
              "  <tbody>\n",
              "    <tr>\n",
              "      <th>0</th>\n",
              "      <td>0.709242</td>\n",
              "      <td>0.772463</td>\n",
              "      <td>0.544489</td>\n",
              "      <td>0.805833</td>\n",
              "    </tr>\n",
              "    <tr>\n",
              "      <th>1</th>\n",
              "      <td>0.488309</td>\n",
              "      <td>0.832759</td>\n",
              "      <td>0.453650</td>\n",
              "      <td>0.844833</td>\n",
              "    </tr>\n",
              "    <tr>\n",
              "      <th>2</th>\n",
              "      <td>0.443816</td>\n",
              "      <td>0.844352</td>\n",
              "      <td>0.419233</td>\n",
              "      <td>0.860000</td>\n",
              "    </tr>\n",
              "    <tr>\n",
              "      <th>3</th>\n",
              "      <td>0.417071</td>\n",
              "      <td>0.853593</td>\n",
              "      <td>0.391958</td>\n",
              "      <td>0.865167</td>\n",
              "    </tr>\n",
              "    <tr>\n",
              "      <th>4</th>\n",
              "      <td>0.397384</td>\n",
              "      <td>0.860426</td>\n",
              "      <td>0.392163</td>\n",
              "      <td>0.859833</td>\n",
              "    </tr>\n",
              "  </tbody>\n",
              "</table>\n",
              "</div>"
            ],
            "text/plain": [
              "       loss  accuracy  val_loss  val_accuracy\n",
              "0  0.709242  0.772463  0.544489      0.805833\n",
              "1  0.488309  0.832759  0.453650      0.844833\n",
              "2  0.443816  0.844352  0.419233      0.860000\n",
              "3  0.417071  0.853593  0.391958      0.865167\n",
              "4  0.397384  0.860426  0.392163      0.859833"
            ]
          },
          "metadata": {
            "tags": []
          },
          "execution_count": 74
        }
      ]
    },
    {
      "cell_type": "code",
      "metadata": {
        "colab": {
          "base_uri": "https://localhost:8080/",
          "height": 265
        },
        "id": "BdSjWVsM9isM",
        "outputId": "e9ac352a-621b-4161-eefd-fff51574532f"
      },
      "source": [
        "loss_acc_hist.plot()\n",
        "\n",
        "plt.grid()\n",
        "plt.show()"
      ],
      "execution_count": null,
      "outputs": [
        {
          "output_type": "display_data",
          "data": {
            "image/png": "[encoded data removed]",
            "text/plain": [
              "<Figure size 432x288 with 1 Axes>"
            ]
          },
          "metadata": {
            "tags": [],
            "needs_background": "light"
          }
        }
      ]
    },
    {
      "cell_type": "markdown",
      "metadata": {
        "id": "14dFDFvoU2HQ"
      },
      "source": [
        "## optimizer 튜닝\n",
        " 밑바닥부터 시작하는 딥러닝 6장 참고\n",
        "\n",
        "* sgd\n",
        "* RMSProp\n",
        "* Adam"
      ]
    },
    {
      "cell_type": "code",
      "metadata": {
        "id": "j-e5dQAeU0dz"
      },
      "source": [
        "def create_model():\n",
        "    model = keras.Sequential()\n",
        "    model.add(keras.layers.Flatten(input_shape = (28,28)))\n",
        "    model.add(keras.layers.Dense(units=300, activation='relu'))\n",
        "    model.add(keras.layers.Dense(units=100, activation='relu'))\n",
        "    model.add(keras.layers.Dense(units=10, activation='softmax'))\n",
        "    return model"
      ],
      "execution_count": null,
      "outputs": []
    },
    {
      "cell_type": "markdown",
      "metadata": {
        "id": "Td4qsmSbceHn"
      },
      "source": [
        "### SGD"
      ]
    },
    {
      "cell_type": "code",
      "metadata": {
        "id": "uSxjm7zLa6_6"
      },
      "source": [
        "model1 = create_model()"
      ],
      "execution_count": null,
      "outputs": []
    },
    {
      "cell_type": "code",
      "metadata": {
        "colab": {
          "base_uri": "https://localhost:8080/"
        },
        "id": "vnxNWUoNXeJ1",
        "outputId": "e6f80287-4509-4a25-a7b8-df415a8917e1"
      },
      "source": [
        "model1.summary()"
      ],
      "execution_count": null,
      "outputs": [
        {
          "output_type": "stream",
          "text": [
            "Model: \"sequential_12\"\n",
            "_________________________________________________________________\n",
            "Layer (type)                 Output Shape              Param #   \n",
            "=================================================================\n",
            "flatten_7 (Flatten)          (None, 784)               0         \n",
            "_________________________________________________________________\n",
            "dense_21 (Dense)             (None, 300)               235500    \n",
            "_________________________________________________________________\n",
            "dense_22 (Dense)             (None, 100)               30100     \n",
            "_________________________________________________________________\n",
            "dense_23 (Dense)             (None, 10)                1010      \n",
            "=================================================================\n",
            "Total params: 266,610\n",
            "Trainable params: 266,610\n",
            "Non-trainable params: 0\n",
            "_________________________________________________________________\n"
          ],
          "name": "stdout"
        }
      ]
    },
    {
      "cell_type": "code",
      "metadata": {
        "id": "qPlW4g0gV0Wb"
      },
      "source": [
        "optimizer = keras.optimizers.SGD()\n",
        "model1.compile(optimizer=optimizer, loss='sparse_categorical_crossentropy', metrics = 'accuracy')"
      ],
      "execution_count": null,
      "outputs": []
    },
    {
      "cell_type": "code",
      "metadata": {
        "colab": {
          "base_uri": "https://localhost:8080/"
        },
        "id": "hBUo1MUSXX-H",
        "outputId": "6c70128e-3d8c-4866-bef1-6ac467f770f6"
      },
      "source": [
        "history1 = model1.fit(x_tr,y_tr,epochs=30,validation_data=(x_ts_s,y_ts))"
      ],
      "execution_count": null,
      "outputs": [
        {
          "output_type": "stream",
          "text": [
            "Epoch 1/30\n",
            "1688/1688 [==============================] - 4s 2ms/step - loss: 0.9716 - accuracy: 0.6981 - val_loss: 0.5569 - val_accuracy: 0.8026\n",
            "Epoch 2/30\n",
            "1688/1688 [==============================] - 4s 2ms/step - loss: 0.5065 - accuracy: 0.8241 - val_loss: 0.5108 - val_accuracy: 0.8155\n",
            "Epoch 3/30\n",
            "1688/1688 [==============================] - 4s 2ms/step - loss: 0.4564 - accuracy: 0.8402 - val_loss: 0.4818 - val_accuracy: 0.8302\n",
            "Epoch 4/30\n",
            "1688/1688 [==============================] - 4s 2ms/step - loss: 0.4234 - accuracy: 0.8510 - val_loss: 0.4537 - val_accuracy: 0.8337\n",
            "Epoch 5/30\n",
            "1688/1688 [==============================] - 4s 2ms/step - loss: 0.3979 - accuracy: 0.8609 - val_loss: 0.4206 - val_accuracy: 0.8494\n",
            "Epoch 6/30\n",
            "1688/1688 [==============================] - 4s 2ms/step - loss: 0.3852 - accuracy: 0.8644 - val_loss: 0.4411 - val_accuracy: 0.8458\n",
            "Epoch 7/30\n",
            "1688/1688 [==============================] - 4s 2ms/step - loss: 0.3681 - accuracy: 0.8699 - val_loss: 0.3961 - val_accuracy: 0.8579\n",
            "Epoch 8/30\n",
            "1688/1688 [==============================] - 4s 2ms/step - loss: 0.3596 - accuracy: 0.8719 - val_loss: 0.3963 - val_accuracy: 0.8571\n",
            "Epoch 9/30\n",
            "1688/1688 [==============================] - 4s 2ms/step - loss: 0.3519 - accuracy: 0.8733 - val_loss: 0.3902 - val_accuracy: 0.8636\n",
            "Epoch 10/30\n",
            "1688/1688 [==============================] - 4s 2ms/step - loss: 0.3377 - accuracy: 0.8805 - val_loss: 0.3819 - val_accuracy: 0.8623\n",
            "Epoch 11/30\n",
            "1688/1688 [==============================] - 4s 2ms/step - loss: 0.3297 - accuracy: 0.8827 - val_loss: 0.3737 - val_accuracy: 0.8682\n",
            "Epoch 12/30\n",
            "1688/1688 [==============================] - 4s 2ms/step - loss: 0.3182 - accuracy: 0.8876 - val_loss: 0.3793 - val_accuracy: 0.8635\n",
            "Epoch 13/30\n",
            "1688/1688 [==============================] - 4s 2ms/step - loss: 0.3163 - accuracy: 0.8871 - val_loss: 0.3677 - val_accuracy: 0.8701\n",
            "Epoch 14/30\n",
            "1688/1688 [==============================] - 4s 2ms/step - loss: 0.3104 - accuracy: 0.8875 - val_loss: 0.3755 - val_accuracy: 0.8628\n",
            "Epoch 15/30\n",
            "1688/1688 [==============================] - 4s 2ms/step - loss: 0.2972 - accuracy: 0.8909 - val_loss: 0.3783 - val_accuracy: 0.8625\n",
            "Epoch 16/30\n",
            "1688/1688 [==============================] - 4s 2ms/step - loss: 0.2944 - accuracy: 0.8965 - val_loss: 0.3662 - val_accuracy: 0.8685\n",
            "Epoch 17/30\n",
            "1688/1688 [==============================] - 4s 2ms/step - loss: 0.2871 - accuracy: 0.8975 - val_loss: 0.3613 - val_accuracy: 0.8710\n",
            "Epoch 18/30\n",
            "1688/1688 [==============================] - 4s 2ms/step - loss: 0.2834 - accuracy: 0.8991 - val_loss: 0.3728 - val_accuracy: 0.8669\n",
            "Epoch 19/30\n",
            "1688/1688 [==============================] - 4s 2ms/step - loss: 0.2806 - accuracy: 0.8999 - val_loss: 0.3557 - val_accuracy: 0.8726\n",
            "Epoch 20/30\n",
            "1688/1688 [==============================] - 4s 2ms/step - loss: 0.2746 - accuracy: 0.9003 - val_loss: 0.3531 - val_accuracy: 0.8752\n",
            "Epoch 21/30\n",
            "1688/1688 [==============================] - 4s 2ms/step - loss: 0.2663 - accuracy: 0.9018 - val_loss: 0.3783 - val_accuracy: 0.8676\n",
            "Epoch 22/30\n",
            "1688/1688 [==============================] - 4s 2ms/step - loss: 0.2659 - accuracy: 0.9030 - val_loss: 0.3495 - val_accuracy: 0.8749\n",
            "Epoch 23/30\n",
            "1688/1688 [==============================] - 4s 2ms/step - loss: 0.2593 - accuracy: 0.9034 - val_loss: 0.3485 - val_accuracy: 0.8713\n",
            "Epoch 24/30\n",
            "1688/1688 [==============================] - 4s 2ms/step - loss: 0.2553 - accuracy: 0.9061 - val_loss: 0.3391 - val_accuracy: 0.8784\n",
            "Epoch 25/30\n",
            "1688/1688 [==============================] - 4s 2ms/step - loss: 0.2536 - accuracy: 0.9066 - val_loss: 0.3591 - val_accuracy: 0.8695\n",
            "Epoch 26/30\n",
            "1688/1688 [==============================] - 4s 2ms/step - loss: 0.2413 - accuracy: 0.9126 - val_loss: 0.3559 - val_accuracy: 0.8748\n",
            "Epoch 27/30\n",
            "1688/1688 [==============================] - 4s 2ms/step - loss: 0.2427 - accuracy: 0.9105 - val_loss: 0.3444 - val_accuracy: 0.8764\n",
            "Epoch 28/30\n",
            "1688/1688 [==============================] - 4s 2ms/step - loss: 0.2356 - accuracy: 0.9154 - val_loss: 0.3319 - val_accuracy: 0.8814\n",
            "Epoch 29/30\n",
            "1688/1688 [==============================] - 4s 2ms/step - loss: 0.2329 - accuracy: 0.9173 - val_loss: 0.3366 - val_accuracy: 0.8804\n",
            "Epoch 30/30\n",
            "1688/1688 [==============================] - 4s 2ms/step - loss: 0.2334 - accuracy: 0.9143 - val_loss: 0.3606 - val_accuracy: 0.8765\n"
          ],
          "name": "stdout"
        }
      ]
    },
    {
      "cell_type": "code",
      "metadata": {
        "colab": {
          "base_uri": "https://localhost:8080/",
          "height": 198
        },
        "id": "XnZGTKenYit5",
        "outputId": "776e4e70-c0dd-4723-eb0e-b81bddb7ad77"
      },
      "source": [
        "hist1 = pd.DataFrame(history1.history)\n",
        "hist1.head()"
      ],
      "execution_count": null,
      "outputs": [
        {
          "output_type": "execute_result",
          "data": {
            "text/html": [
              "<div>\n",
              "<style scoped>\n",
              "    .dataframe tbody tr th:only-of-type {\n",
              "        vertical-align: middle;\n",
              "    }\n",
              "\n",
              "    .dataframe tbody tr th {\n",
              "        vertical-align: top;\n",
              "    }\n",
              "\n",
              "    .dataframe thead th {\n",
              "        text-align: right;\n",
              "    }\n",
              "</style>\n",
              "<table border=\"1\" class=\"dataframe\">\n",
              "  <thead>\n",
              "    <tr style=\"text-align: right;\">\n",
              "      <th></th>\n",
              "      <th>loss</th>\n",
              "      <th>accuracy</th>\n",
              "      <th>val_loss</th>\n",
              "      <th>val_accuracy</th>\n",
              "    </tr>\n",
              "  </thead>\n",
              "  <tbody>\n",
              "    <tr>\n",
              "      <th>0</th>\n",
              "      <td>0.709199</td>\n",
              "      <td>0.769685</td>\n",
              "      <td>0.556851</td>\n",
              "      <td>0.8026</td>\n",
              "    </tr>\n",
              "    <tr>\n",
              "      <th>1</th>\n",
              "      <td>0.490462</td>\n",
              "      <td>0.828296</td>\n",
              "      <td>0.510776</td>\n",
              "      <td>0.8155</td>\n",
              "    </tr>\n",
              "    <tr>\n",
              "      <th>2</th>\n",
              "      <td>0.445002</td>\n",
              "      <td>0.844241</td>\n",
              "      <td>0.481829</td>\n",
              "      <td>0.8302</td>\n",
              "    </tr>\n",
              "    <tr>\n",
              "      <th>3</th>\n",
              "      <td>0.418664</td>\n",
              "      <td>0.852722</td>\n",
              "      <td>0.453681</td>\n",
              "      <td>0.8337</td>\n",
              "    </tr>\n",
              "    <tr>\n",
              "      <th>4</th>\n",
              "      <td>0.398747</td>\n",
              "      <td>0.859722</td>\n",
              "      <td>0.420558</td>\n",
              "      <td>0.8494</td>\n",
              "    </tr>\n",
              "  </tbody>\n",
              "</table>\n",
              "</div>"
            ],
            "text/plain": [
              "       loss  accuracy  val_loss  val_accuracy\n",
              "0  0.709199  0.769685  0.556851        0.8026\n",
              "1  0.490462  0.828296  0.510776        0.8155\n",
              "2  0.445002  0.844241  0.481829        0.8302\n",
              "3  0.418664  0.852722  0.453681        0.8337\n",
              "4  0.398747  0.859722  0.420558        0.8494"
            ]
          },
          "metadata": {
            "tags": []
          },
          "execution_count": 91
        }
      ]
    },
    {
      "cell_type": "code",
      "metadata": {
        "colab": {
          "base_uri": "https://localhost:8080/",
          "height": 265
        },
        "id": "WEm9RzLWYqm5",
        "outputId": "a66ace9c-6d96-4b0a-ddec-3f413314d188"
      },
      "source": [
        "hist1.plot()\n",
        "\n",
        "plt.grid()\n",
        "plt.show()"
      ],
      "execution_count": null,
      "outputs": [
        {
          "output_type": "display_data",
          "data": {
            "image/png": "[encoded data removed]",
            "text/plain": [
              "<Figure size 432x288 with 1 Axes>"
            ]
          },
          "metadata": {
            "tags": [],
            "needs_background": "light"
          }
        }
      ]
    },
    {
      "cell_type": "code",
      "metadata": {
        "colab": {
          "base_uri": "https://localhost:8080/"
        },
        "id": "_vXHPd1TYwi5",
        "outputId": "20177271-2ffb-4c01-830f-0b04563dfec3"
      },
      "source": [
        "np.argmin(hist1['val_loss'])"
      ],
      "execution_count": null,
      "outputs": [
        {
          "output_type": "execute_result",
          "data": {
            "text/plain": [
              "27"
            ]
          },
          "metadata": {
            "tags": []
          },
          "execution_count": 93
        }
      ]
    },
    {
      "cell_type": "code",
      "metadata": {
        "colab": {
          "base_uri": "https://localhost:8080/"
        },
        "id": "sZMh1ov1Y1Hq",
        "outputId": "338f5d9f-46de-41ca-8dab-bf9c475de303"
      },
      "source": [
        "np.argmax(hist1['val_accuracy'])"
      ],
      "execution_count": null,
      "outputs": [
        {
          "output_type": "execute_result",
          "data": {
            "text/plain": [
              "27"
            ]
          },
          "metadata": {
            "tags": []
          },
          "execution_count": 94
        }
      ]
    },
    {
      "cell_type": "markdown",
      "metadata": {
        "id": "2jN6NenxabNB"
      },
      "source": [
        "### RMSProp"
      ]
    },
    {
      "cell_type": "code",
      "metadata": {
        "id": "ReAtXCXMY6pj"
      },
      "source": [
        "model2 = create_model()"
      ],
      "execution_count": null,
      "outputs": []
    },
    {
      "cell_type": "code",
      "metadata": {
        "colab": {
          "base_uri": "https://localhost:8080/"
        },
        "id": "_JUATroUa0p7",
        "outputId": "eec6057a-5e3f-46cb-a678-b3554001e548"
      },
      "source": [
        "model2.compile(optimizer='rmsprop', loss='sparse_categorical_crossentropy', metrics = 'accuracy')\n",
        "history2 = model2.fit(x_tr,y_tr,epochs=30,validation_data=(x_val,y_val))"
      ],
      "execution_count": null,
      "outputs": [
        {
          "output_type": "stream",
          "text": [
            "Epoch 1/30\n",
            "1688/1688 [==============================] - 5s 3ms/step - loss: 0.6413 - accuracy: 0.7709 - val_loss: 0.3960 - val_accuracy: 0.8602\n",
            "Epoch 2/30\n",
            "1688/1688 [==============================] - 4s 3ms/step - loss: 0.3973 - accuracy: 0.8571 - val_loss: 0.4082 - val_accuracy: 0.8595\n",
            "Epoch 3/30\n",
            "1688/1688 [==============================] - 4s 2ms/step - loss: 0.3736 - accuracy: 0.8679 - val_loss: 0.4655 - val_accuracy: 0.8518\n",
            "Epoch 4/30\n",
            "1688/1688 [==============================] - 4s 3ms/step - loss: 0.3562 - accuracy: 0.8739 - val_loss: 0.3685 - val_accuracy: 0.8827\n",
            "Epoch 5/30\n",
            "1688/1688 [==============================] - 5s 3ms/step - loss: 0.3368 - accuracy: 0.8805 - val_loss: 0.3385 - val_accuracy: 0.8768\n",
            "Epoch 6/30\n",
            "1688/1688 [==============================] - 4s 3ms/step - loss: 0.3362 - accuracy: 0.8848 - val_loss: 0.3782 - val_accuracy: 0.8735\n",
            "Epoch 7/30\n",
            "1688/1688 [==============================] - 4s 2ms/step - loss: 0.3391 - accuracy: 0.8848 - val_loss: 0.3539 - val_accuracy: 0.8793\n",
            "Epoch 8/30\n",
            "1688/1688 [==============================] - 4s 2ms/step - loss: 0.3268 - accuracy: 0.8908 - val_loss: 0.3788 - val_accuracy: 0.8822\n",
            "Epoch 9/30\n",
            "1688/1688 [==============================] - 4s 2ms/step - loss: 0.3220 - accuracy: 0.8898 - val_loss: 0.3749 - val_accuracy: 0.8815\n",
            "Epoch 10/30\n",
            "1688/1688 [==============================] - 4s 2ms/step - loss: 0.3206 - accuracy: 0.8904 - val_loss: 0.4058 - val_accuracy: 0.8832\n",
            "Epoch 11/30\n",
            "1688/1688 [==============================] - 4s 3ms/step - loss: 0.3079 - accuracy: 0.8966 - val_loss: 0.4600 - val_accuracy: 0.8832\n",
            "Epoch 12/30\n",
            "1688/1688 [==============================] - 4s 3ms/step - loss: 0.3012 - accuracy: 0.8978 - val_loss: 0.4528 - val_accuracy: 0.8782\n",
            "Epoch 13/30\n",
            "1688/1688 [==============================] - 4s 3ms/step - loss: 0.2995 - accuracy: 0.9002 - val_loss: 0.4161 - val_accuracy: 0.8890\n",
            "Epoch 14/30\n",
            "1688/1688 [==============================] - 4s 3ms/step - loss: 0.2980 - accuracy: 0.9011 - val_loss: 0.4062 - val_accuracy: 0.8893\n",
            "Epoch 15/30\n",
            "1688/1688 [==============================] - 4s 3ms/step - loss: 0.3035 - accuracy: 0.9027 - val_loss: 0.4581 - val_accuracy: 0.8785\n",
            "Epoch 16/30\n",
            "1688/1688 [==============================] - 4s 3ms/step - loss: 0.2889 - accuracy: 0.9023 - val_loss: 0.4514 - val_accuracy: 0.8885\n",
            "Epoch 17/30\n",
            "1688/1688 [==============================] - 4s 2ms/step - loss: 0.2906 - accuracy: 0.9051 - val_loss: 0.4696 - val_accuracy: 0.8873\n",
            "Epoch 18/30\n",
            "1688/1688 [==============================] - 4s 3ms/step - loss: 0.2927 - accuracy: 0.9048 - val_loss: 0.5944 - val_accuracy: 0.8742\n",
            "Epoch 19/30\n",
            "1688/1688 [==============================] - 4s 3ms/step - loss: 0.2814 - accuracy: 0.9090 - val_loss: 0.4700 - val_accuracy: 0.8972\n",
            "Epoch 20/30\n",
            "1688/1688 [==============================] - 4s 3ms/step - loss: 0.2814 - accuracy: 0.9096 - val_loss: 0.4940 - val_accuracy: 0.8912\n",
            "Epoch 21/30\n",
            "1688/1688 [==============================] - 4s 3ms/step - loss: 0.2776 - accuracy: 0.9089 - val_loss: 0.5088 - val_accuracy: 0.8972\n",
            "Epoch 22/30\n",
            "1688/1688 [==============================] - 4s 3ms/step - loss: 0.2879 - accuracy: 0.9098 - val_loss: 0.5246 - val_accuracy: 0.8857\n",
            "Epoch 23/30\n",
            "1688/1688 [==============================] - 4s 3ms/step - loss: 0.2616 - accuracy: 0.9132 - val_loss: 0.5466 - val_accuracy: 0.8928\n",
            "Epoch 24/30\n",
            "1688/1688 [==============================] - 4s 3ms/step - loss: 0.2679 - accuracy: 0.9137 - val_loss: 0.5440 - val_accuracy: 0.8923\n",
            "Epoch 25/30\n",
            "1688/1688 [==============================] - 4s 3ms/step - loss: 0.2690 - accuracy: 0.9143 - val_loss: 0.5627 - val_accuracy: 0.8887\n",
            "Epoch 26/30\n",
            "1688/1688 [==============================] - 4s 2ms/step - loss: 0.2666 - accuracy: 0.9148 - val_loss: 0.5552 - val_accuracy: 0.8918\n",
            "Epoch 27/30\n",
            "1688/1688 [==============================] - 4s 3ms/step - loss: 0.2500 - accuracy: 0.9181 - val_loss: 0.5414 - val_accuracy: 0.8822\n",
            "Epoch 28/30\n",
            "1688/1688 [==============================] - 4s 3ms/step - loss: 0.2544 - accuracy: 0.9184 - val_loss: 0.7070 - val_accuracy: 0.8662\n",
            "Epoch 29/30\n",
            "1688/1688 [==============================] - 4s 3ms/step - loss: 0.2682 - accuracy: 0.9161 - val_loss: 0.6212 - val_accuracy: 0.8813\n",
            "Epoch 30/30\n",
            "1688/1688 [==============================] - 4s 3ms/step - loss: 0.2522 - accuracy: 0.9202 - val_loss: 0.6135 - val_accuracy: 0.8908\n"
          ],
          "name": "stdout"
        }
      ]
    },
    {
      "cell_type": "code",
      "metadata": {
        "colab": {
          "base_uri": "https://localhost:8080/",
          "height": 198
        },
        "id": "GRJth4R_gIn8",
        "outputId": "33ae9f31-9d0d-41c3-d65b-e0d0c0704ef0"
      },
      "source": [
        "hist2 = pd.DataFrame(history2.history)\n",
        "hist2.head()"
      ],
      "execution_count": null,
      "outputs": [
        {
          "output_type": "execute_result",
          "data": {
            "text/html": [
              "<div>\n",
              "<style scoped>\n",
              "    .dataframe tbody tr th:only-of-type {\n",
              "        vertical-align: middle;\n",
              "    }\n",
              "\n",
              "    .dataframe tbody tr th {\n",
              "        vertical-align: top;\n",
              "    }\n",
              "\n",
              "    .dataframe thead th {\n",
              "        text-align: right;\n",
              "    }\n",
              "</style>\n",
              "<table border=\"1\" class=\"dataframe\">\n",
              "  <thead>\n",
              "    <tr style=\"text-align: right;\">\n",
              "      <th></th>\n",
              "      <th>loss</th>\n",
              "      <th>accuracy</th>\n",
              "      <th>val_loss</th>\n",
              "      <th>val_accuracy</th>\n",
              "    </tr>\n",
              "  </thead>\n",
              "  <tbody>\n",
              "    <tr>\n",
              "      <th>0</th>\n",
              "      <td>0.509673</td>\n",
              "      <td>0.816741</td>\n",
              "      <td>0.396047</td>\n",
              "      <td>0.860167</td>\n",
              "    </tr>\n",
              "    <tr>\n",
              "      <th>1</th>\n",
              "      <td>0.393241</td>\n",
              "      <td>0.859648</td>\n",
              "      <td>0.408176</td>\n",
              "      <td>0.859500</td>\n",
              "    </tr>\n",
              "    <tr>\n",
              "      <th>2</th>\n",
              "      <td>0.368959</td>\n",
              "      <td>0.869741</td>\n",
              "      <td>0.465487</td>\n",
              "      <td>0.851833</td>\n",
              "    </tr>\n",
              "    <tr>\n",
              "      <th>3</th>\n",
              "      <td>0.355850</td>\n",
              "      <td>0.875519</td>\n",
              "      <td>0.368515</td>\n",
              "      <td>0.882667</td>\n",
              "    </tr>\n",
              "    <tr>\n",
              "      <th>4</th>\n",
              "      <td>0.348124</td>\n",
              "      <td>0.880000</td>\n",
              "      <td>0.338547</td>\n",
              "      <td>0.876833</td>\n",
              "    </tr>\n",
              "  </tbody>\n",
              "</table>\n",
              "</div>"
            ],
            "text/plain": [
              "       loss  accuracy  val_loss  val_accuracy\n",
              "0  0.509673  0.816741  0.396047      0.860167\n",
              "1  0.393241  0.859648  0.408176      0.859500\n",
              "2  0.368959  0.869741  0.465487      0.851833\n",
              "3  0.355850  0.875519  0.368515      0.882667\n",
              "4  0.348124  0.880000  0.338547      0.876833"
            ]
          },
          "metadata": {
            "tags": []
          },
          "execution_count": 108
        }
      ]
    },
    {
      "cell_type": "code",
      "metadata": {
        "colab": {
          "base_uri": "https://localhost:8080/",
          "height": 265
        },
        "id": "wmvVb71xhubt",
        "outputId": "505045ed-1d58-4287-f6ba-b62688202db6"
      },
      "source": [
        "hist2.plot()\n",
        "plt.grid\n",
        "plt.show()"
      ],
      "execution_count": null,
      "outputs": [
        {
          "output_type": "display_data",
          "data": {
            "image/png": "[encoded data removed]",
            "text/plain": [
              "<Figure size 432x288 with 1 Axes>"
            ]
          },
          "metadata": {
            "tags": [],
            "needs_background": "light"
          }
        }
      ]
    },
    {
      "cell_type": "code",
      "metadata": {
        "colab": {
          "base_uri": "https://localhost:8080/"
        },
        "id": "mbkQMHEgh8GE",
        "outputId": "b61d206d-816e-48e5-adbd-e7d76cab7dc1"
      },
      "source": [
        "np.argmin(hist2['val_loss'])"
      ],
      "execution_count": null,
      "outputs": [
        {
          "output_type": "execute_result",
          "data": {
            "text/plain": [
              "4"
            ]
          },
          "metadata": {
            "tags": []
          },
          "execution_count": 110
        }
      ]
    },
    {
      "cell_type": "code",
      "metadata": {
        "colab": {
          "base_uri": "https://localhost:8080/"
        },
        "id": "aKl1ibDKiA5N",
        "outputId": "9bfff7ed-4a35-40cc-c465-d037a805eebc"
      },
      "source": [
        "np.min(hist2['val_loss'])"
      ],
      "execution_count": null,
      "outputs": [
        {
          "output_type": "execute_result",
          "data": {
            "text/plain": [
              "0.33854731917381287"
            ]
          },
          "metadata": {
            "tags": []
          },
          "execution_count": 111
        }
      ]
    },
    {
      "cell_type": "markdown",
      "metadata": {
        "id": "waKlqDt3iHkE"
      },
      "source": [
        "### Adam, Nadam"
      ]
    },
    {
      "cell_type": "markdown",
      "metadata": {
        "id": "KCfkLea1iK9N"
      },
      "source": [
        "## Callbacks"
      ]
    },
    {
      "cell_type": "markdown",
      "metadata": {
        "id": "MRlmEw38iNLD"
      },
      "source": [
        "콜백(callback): 훈련 과정(fit) 중간에 어떤 작업을 수행할 수 있도록 하는 함수. 모델을 훈련(fitting) 할 때 등록"
      ]
    },
    {
      "cell_type": "markdown",
      "metadata": {
        "id": "2FXjWmtciaYU"
      },
      "source": [
        "### EarlyStopping"
      ]
    },
    {
      "cell_type": "code",
      "metadata": {
        "id": "r7bt4k0DiFTD"
      },
      "source": [
        "model3 = create_model()"
      ],
      "execution_count": null,
      "outputs": []
    },
    {
      "cell_type": "code",
      "metadata": {
        "id": "yEefY_qLifMM"
      },
      "source": [
        "model3.compile(optimizer='adam', loss='sparse_categorical_crossentropy', metrics='accuracy')"
      ],
      "execution_count": null,
      "outputs": []
    },
    {
      "cell_type": "code",
      "metadata": {
        "colab": {
          "base_uri": "https://localhost:8080/"
        },
        "id": "YgiVhs_RjhiE",
        "outputId": "38616e69-f55f-4e11-d0d5-3741adaab031"
      },
      "source": [
        "early_stop = keras.callbacks.EarlyStopping(monitor='val_loss',patience=2) # 조기 종영 콜백\n",
        "#> val_loss를 모니터링 하다가 val_loss가 patience 횟수 동안에 더이상 감소하지 않으면 epoch를 강제 종료\n",
        "\n",
        "history3 = model3.fit(x_tr,y_tr,epochs=30,\n",
        "           validation_data = (x_val,y_val),\n",
        "           callbacks=[early_stop])"
      ],
      "execution_count": null,
      "outputs": [
        {
          "output_type": "stream",
          "text": [
            "Epoch 1/30\n",
            "1688/1688 [==============================] - 4s 2ms/step - loss: 0.5994 - accuracy: 0.7828 - val_loss: 0.3781 - val_accuracy: 0.8642\n",
            "Epoch 2/30\n",
            "1688/1688 [==============================] - 4s 2ms/step - loss: 0.3785 - accuracy: 0.8585 - val_loss: 0.3349 - val_accuracy: 0.8778\n",
            "Epoch 3/30\n",
            "1688/1688 [==============================] - 4s 2ms/step - loss: 0.3238 - accuracy: 0.8780 - val_loss: 0.3386 - val_accuracy: 0.8773\n",
            "Epoch 4/30\n",
            "1688/1688 [==============================] - 4s 2ms/step - loss: 0.3123 - accuracy: 0.8839 - val_loss: 0.2972 - val_accuracy: 0.8885\n",
            "Epoch 5/30\n",
            "1688/1688 [==============================] - 4s 2ms/step - loss: 0.2824 - accuracy: 0.8959 - val_loss: 0.2985 - val_accuracy: 0.8875\n",
            "Epoch 6/30\n",
            "1688/1688 [==============================] - 4s 2ms/step - loss: 0.2706 - accuracy: 0.8988 - val_loss: 0.3136 - val_accuracy: 0.8792\n"
          ],
          "name": "stdout"
        }
      ]
    },
    {
      "cell_type": "code",
      "metadata": {
        "colab": {
          "base_uri": "https://localhost:8080/",
          "height": 265
        },
        "id": "Kg3-xtg8kLD2",
        "outputId": "f974f84c-73c5-419b-aee5-6c329952bba8"
      },
      "source": [
        "hist3 = pd.DataFrame(history3.history)\n",
        "\n",
        "hist3.plot()\n",
        "plt.grid()\n",
        "plt.show()"
      ],
      "execution_count": null,
      "outputs": [
        {
          "output_type": "display_data",
          "data": {
            "image/png": "[encoded data removed]",
            "text/plain": [
              "<Figure size 432x288 with 1 Axes>"
            ]
          },
          "metadata": {
            "tags": [],
            "needs_background": "light"
          }
        }
      ]
    },
    {
      "cell_type": "code",
      "metadata": {
        "id": "oGh-DgWRmEMo"
      },
      "source": [
        "model4 = create_model()"
      ],
      "execution_count": null,
      "outputs": []
    },
    {
      "cell_type": "code",
      "metadata": {
        "id": "o_jXOuRimKU6"
      },
      "source": [
        "model4.compile(optimizer='rmsprop', loss='sparse_categorical_crossentropy', metrics='accuracy')"
      ],
      "execution_count": null,
      "outputs": []
    },
    {
      "cell_type": "code",
      "metadata": {
        "colab": {
          "base_uri": "https://localhost:8080/"
        },
        "id": "soCcZhrDmVuY",
        "outputId": "6448bfc9-1304-4dcb-a214-4df8d21ec4b2"
      },
      "source": [
        "history4 = model4.fit(x_tr,y_tr, epochs=30,\n",
        "           validation_data = (x_val,y_val),\n",
        "           callbacks=[early_stop])"
      ],
      "execution_count": null,
      "outputs": [
        {
          "output_type": "stream",
          "text": [
            "Epoch 1/30\n",
            "1688/1688 [==============================] - 5s 3ms/step - loss: 0.6319 - accuracy: 0.7731 - val_loss: 0.4498 - val_accuracy: 0.8410\n",
            "Epoch 2/30\n",
            "1688/1688 [==============================] - 4s 2ms/step - loss: 0.3905 - accuracy: 0.8587 - val_loss: 0.3951 - val_accuracy: 0.8583\n",
            "Epoch 3/30\n",
            "1688/1688 [==============================] - 4s 3ms/step - loss: 0.3652 - accuracy: 0.8702 - val_loss: 0.4019 - val_accuracy: 0.8603\n",
            "Epoch 4/30\n",
            "1688/1688 [==============================] - 4s 2ms/step - loss: 0.3485 - accuracy: 0.8804 - val_loss: 0.3556 - val_accuracy: 0.8782\n",
            "Epoch 5/30\n",
            "1688/1688 [==============================] - 4s 2ms/step - loss: 0.3437 - accuracy: 0.8813 - val_loss: 0.3546 - val_accuracy: 0.8817\n",
            "Epoch 6/30\n",
            "1688/1688 [==============================] - 4s 2ms/step - loss: 0.3320 - accuracy: 0.8860 - val_loss: 0.4502 - val_accuracy: 0.8673\n",
            "Epoch 7/30\n",
            "1688/1688 [==============================] - 4s 3ms/step - loss: 0.3266 - accuracy: 0.8882 - val_loss: 0.3902 - val_accuracy: 0.8810\n"
          ],
          "name": "stdout"
        }
      ]
    },
    {
      "cell_type": "code",
      "metadata": {
        "colab": {
          "base_uri": "https://localhost:8080/",
          "height": 265
        },
        "id": "aZADw-onmpSC",
        "outputId": "09504423-f6af-4b9e-8160-6928bd7cfa9f"
      },
      "source": [
        "hist4 = pd.DataFrame(history4.history)\n",
        "hist4.plot()\n",
        "plt.grid()\n",
        "plt.show()"
      ],
      "execution_count": null,
      "outputs": [
        {
          "output_type": "display_data",
          "data": {
            "image/png": "[encoded data removed]",
            "text/plain": [
              "<Figure size 432x288 with 1 Axes>"
            ]
          },
          "metadata": {
            "tags": [],
            "needs_background": "light"
          }
        }
      ]
    },
    {
      "cell_type": "code",
      "metadata": {
        "colab": {
          "base_uri": "https://localhost:8080/"
        },
        "id": "--GB3daqpIoo",
        "outputId": "b04fcefc-cf7f-4e9c-8a75-213ab8a3df51"
      },
      "source": [
        "model4.evaluate(x_val, y_val)\n",
        "#> 에포크가 종료된 상태의 가중치 값들을 가지고 있는 모델.\n",
        "#> val_loss가 가장 작은 상태의 가중치들을 가지고 있지 못함"
      ],
      "execution_count": null,
      "outputs": [
        {
          "output_type": "stream",
          "text": [
            "188/188 [==============================] - 0s 2ms/step - loss: 0.3902 - accuracy: 0.8810\n"
          ],
          "name": "stdout"
        },
        {
          "output_type": "execute_result",
          "data": {
            "text/plain": [
              "[0.39017176628112793, 0.8809999823570251]"
            ]
          },
          "metadata": {
            "tags": []
          },
          "execution_count": 119
        }
      ]
    },
    {
      "cell_type": "markdown",
      "metadata": {
        "id": "xiFlzzKwpYRa"
      },
      "source": [
        "### ModelCheckpoint 콜백"
      ]
    },
    {
      "cell_type": "code",
      "metadata": {
        "id": "bmPAzURgpOei"
      },
      "source": [
        "model5 = create_model()"
      ],
      "execution_count": null,
      "outputs": []
    },
    {
      "cell_type": "code",
      "metadata": {
        "id": "e2K2Ld0_ucjZ"
      },
      "source": [
        "model5.compile(optimizer='rmsprop', loss='sparse_categorical_crossentropy', metrics='accuracy')"
      ],
      "execution_count": null,
      "outputs": []
    },
    {
      "cell_type": "code",
      "metadata": {
        "id": "tnG44f56ui1u"
      },
      "source": [
        "model_check = keras.callbacks.ModelCheckpoint(filepath='best_model.h5',save_best_only=True)\n",
        "# 훈련 중에 val_loss값이 가장 작은 에포크에서의 모델 상태(가중치, 레이어, 옵티마이저,...)를 저장."
      ],
      "execution_count": null,
      "outputs": []
    },
    {
      "cell_type": "code",
      "metadata": {
        "colab": {
          "base_uri": "https://localhost:8080/"
        },
        "id": "uEYUXCccu_Fj",
        "outputId": "6e2346d4-6f00-4978-f3cf-3716d678eaea"
      },
      "source": [
        "model5.fit(x_tr,y_tr, epochs=30, validation_data = (x_val,y_val),\n",
        "           callbacks = [model_check, early_stop])"
      ],
      "execution_count": null,
      "outputs": [
        {
          "output_type": "stream",
          "text": [
            "Epoch 1/30\n",
            "1688/1688 [==============================] - 5s 3ms/step - loss: 0.6304 - accuracy: 0.7730 - val_loss: 0.4058 - val_accuracy: 0.8512\n",
            "Epoch 2/30\n",
            "1688/1688 [==============================] - 4s 2ms/step - loss: 0.3954 - accuracy: 0.8585 - val_loss: 0.3707 - val_accuracy: 0.8672\n",
            "Epoch 3/30\n",
            "1688/1688 [==============================] - 4s 3ms/step - loss: 0.3668 - accuracy: 0.8713 - val_loss: 0.4386 - val_accuracy: 0.8523\n",
            "Epoch 4/30\n",
            "1688/1688 [==============================] - 4s 2ms/step - loss: 0.3557 - accuracy: 0.8776 - val_loss: 0.5673 - val_accuracy: 0.8133\n"
          ],
          "name": "stdout"
        },
        {
          "output_type": "execute_result",
          "data": {
            "text/plain": [
              "<tensorflow.python.keras.callbacks.History at 0x7f74283c6c10>"
            ]
          },
          "metadata": {
            "tags": []
          },
          "execution_count": 131
        }
      ]
    },
    {
      "cell_type": "code",
      "metadata": {
        "colab": {
          "base_uri": "https://localhost:8080/"
        },
        "id": "esigYuEYvdDO",
        "outputId": "11307c43-c94c-4514-c776-d199d6f7774f"
      },
      "source": [
        "model5.evaluate(x_val,y_val)"
      ],
      "execution_count": null,
      "outputs": [
        {
          "output_type": "stream",
          "text": [
            "188/188 [==============================] - 0s 2ms/step - loss: 0.5673 - accuracy: 0.8133\n"
          ],
          "name": "stdout"
        },
        {
          "output_type": "execute_result",
          "data": {
            "text/plain": [
              "[0.5672839283943176, 0.8133333325386047]"
            ]
          },
          "metadata": {
            "tags": []
          },
          "execution_count": 132
        }
      ]
    },
    {
      "cell_type": "code",
      "metadata": {
        "id": "0n_Rguobv2o_"
      },
      "source": [
        "# HDF5(.h5) 형식으로 저장된 keras 신경망 모델을 메모리에 로드\n",
        "best_model = keras.models.load_model(filepath='best_model.h5')"
      ],
      "execution_count": null,
      "outputs": []
    },
    {
      "cell_type": "code",
      "metadata": {
        "colab": {
          "base_uri": "https://localhost:8080/"
        },
        "id": "w9MmecnNwSWx",
        "outputId": "7fb7dfe3-f38e-4b64-9d6d-059afee2bcb4"
      },
      "source": [
        "best_model.evaluate(x_val,y_val)"
      ],
      "execution_count": null,
      "outputs": [
        {
          "output_type": "stream",
          "text": [
            "188/188 [==============================] - 0s 2ms/step - loss: 0.3707 - accuracy: 0.8672\n"
          ],
          "name": "stdout"
        },
        {
          "output_type": "execute_result",
          "data": {
            "text/plain": [
              "[0.3707377016544342, 0.8671666383743286]"
            ]
          },
          "metadata": {
            "tags": []
          },
          "execution_count": 134
        }
      ]
    },
    {
      "cell_type": "markdown",
      "metadata": {
        "id": "_SlAGQoEye5A"
      },
      "source": [
        "# 케라스 모델 저장 / 가중치 정과 복원"
      ]
    },
    {
      "cell_type": "markdown",
      "metadata": {
        "id": "O33SMb4dywmM"
      },
      "source": [
        "## 모델 전체를 저장 / 복원"
      ]
    },
    {
      "cell_type": "code",
      "metadata": {
        "id": "O0Dc-BpOwXgv"
      },
      "source": [
        "keras.models.save_model(model=best_model, filepath='save_test.h5') # 모델전체 저장"
      ],
      "execution_count": null,
      "outputs": []
    },
    {
      "cell_type": "code",
      "metadata": {
        "id": "UQyevwxMzGma"
      },
      "source": [
        "recovered_model = keras.models.load_model('save_test.h5') # 모델전체 복원"
      ],
      "execution_count": null,
      "outputs": []
    },
    {
      "cell_type": "code",
      "metadata": {
        "colab": {
          "base_uri": "https://localhost:8080/"
        },
        "id": "yfSiUqonzf4T",
        "outputId": "b673cb11-1f34-4b06-c13a-bdbddd2c3725"
      },
      "source": [
        "recovered_model.predict(x_val[:2])"
      ],
      "execution_count": null,
      "outputs": [
        {
          "output_type": "execute_result",
          "data": {
            "text/plain": [
              "array([[1.2845752e-01, 2.5945585e-03, 1.3274658e-02, 7.7486914e-01,\n",
              "        5.3200289e-03, 3.5119703e-07, 7.5050123e-02, 2.1962954e-07,\n",
              "        4.3076149e-04, 2.6617956e-06],\n",
              "       [3.5677035e-09, 9.9999976e-01, 9.6553720e-12, 1.9215304e-07,\n",
              "        2.5219816e-11, 7.0602307e-10, 4.2511404e-11, 2.2770312e-14,\n",
              "        1.6545987e-12, 1.9198310e-14]], dtype=float32)"
            ]
          },
          "metadata": {
            "tags": []
          },
          "execution_count": 137
        }
      ]
    },
    {
      "cell_type": "code",
      "metadata": {
        "colab": {
          "base_uri": "https://localhost:8080/"
        },
        "id": "CN4cMRVRzwtF",
        "outputId": "19bad21a-34da-4a6c-811f-e04e4f580b6a"
      },
      "source": [
        "recovered_model.evaluate(x_val,y_val)"
      ],
      "execution_count": null,
      "outputs": [
        {
          "output_type": "stream",
          "text": [
            "188/188 [==============================] - 0s 2ms/step - loss: 0.3707 - accuracy: 0.8672\n"
          ],
          "name": "stdout"
        },
        {
          "output_type": "execute_result",
          "data": {
            "text/plain": [
              "[0.3707377016544342, 0.8671666383743286]"
            ]
          },
          "metadata": {
            "tags": []
          },
          "execution_count": 138
        }
      ]
    },
    {
      "cell_type": "markdown",
      "metadata": {
        "id": "HxkMFme60JzN"
      },
      "source": [
        "## 모델의 가중치만 저장"
      ]
    },
    {
      "cell_type": "code",
      "metadata": {
        "id": "CKHcVK0v0Hr-"
      },
      "source": [
        "best_model.save_weights(filepath='best_weight.h5') # 모델의 가중치만 저장"
      ],
      "execution_count": null,
      "outputs": []
    },
    {
      "cell_type": "code",
      "metadata": {
        "id": "5YligyOp0Z_Q"
      },
      "source": [
        "# 파일에 저장된 가증치를 메모리에 로드 하려면, 가중치를 저장했던 모델과 동일한 모델을 먼저 생성\n",
        "# 동일한 layer 개수, 각 증에서 동일한 unit들의 개수와 \n",
        "model = create_model()"
      ],
      "execution_count": null,
      "outputs": []
    },
    {
      "cell_type": "code",
      "metadata": {
        "id": "yUHGUWSF1t7c"
      },
      "source": [
        "# 구조가 동일한 모델에서 load_weights 메서드 호출\n",
        "model.load_weights(filepath='best_weight.h5')"
      ],
      "execution_count": null,
      "outputs": []
    },
    {
      "cell_type": "code",
      "metadata": {
        "colab": {
          "base_uri": "https://localhost:8080/"
        },
        "id": "by2bFNAC2AG7",
        "outputId": "f7aef8bf-d521-4fbe-9c90-0f35182cc257"
      },
      "source": [
        "# weight가 로드가 되면 예측(predict)가 가능.\n",
        "model.predict(x_val[:2])"
      ],
      "execution_count": null,
      "outputs": [
        {
          "output_type": "execute_result",
          "data": {
            "text/plain": [
              "array([[1.2845752e-01, 2.5945585e-03, 1.3274658e-02, 7.7486914e-01,\n",
              "        5.3200289e-03, 3.5119703e-07, 7.5050123e-02, 2.1962954e-07,\n",
              "        4.3076149e-04, 2.6617956e-06],\n",
              "       [3.5677035e-09, 9.9999976e-01, 9.6553720e-12, 1.9215304e-07,\n",
              "        2.5219816e-11, 7.0602307e-10, 4.2511404e-11, 2.2770312e-14,\n",
              "        1.6545987e-12, 1.9198310e-14]], dtype=float32)"
            ]
          },
          "metadata": {
            "tags": []
          },
          "execution_count": 143
        }
      ]
    },
    {
      "cell_type": "code",
      "metadata": {
        "id": "kR1pIPw22Jz1"
      },
      "source": [
        "model.evaluate(x_val,y_val) #> 안됨\n",
        "# RuntimeError: You must compile your model before training/testing. Use `model.compile(optimizer, loss)`\n",
        "# 가중치들만 로드한 모델인 경우에는 컴파일되지 않으면, loss와 metrics이 설정되어 있지 않기 때문에,\n",
        "# evaluate 메서드가 에러를 발생시킴.\n",
        "# 가중치들만 로드한 경우에는 evaluate를 사용하기 위해서는 complie을 먼저 호출해야 함!"
      ],
      "execution_count": null,
      "outputs": []
    },
    {
      "cell_type": "code",
      "metadata": {
        "colab": {
          "base_uri": "https://localhost:8080/"
        },
        "id": "zTna8glA2Ohl",
        "outputId": "595c88ff-430d-4405-e63d-fa6d2505821c"
      },
      "source": [
        "model.compile(loss = 'sparse_categorical_crossentropy', metrics='accuracy')\n",
        "model.evaluate(x_val,y_val)"
      ],
      "execution_count": null,
      "outputs": [
        {
          "output_type": "stream",
          "text": [
            "188/188 [==============================] - 0s 2ms/step - loss: 0.3662 - accuracy: 0.8679\n"
          ],
          "name": "stdout"
        },
        {
          "output_type": "execute_result",
          "data": {
            "text/plain": [
              "[0.3707377016544342, 0.8671666383743286]"
            ]
          },
          "metadata": {
            "tags": []
          },
          "execution_count": 147
        }
      ]
    },
    {
      "cell_type": "markdown",
      "metadata": {
        "id": "hWAbDEQZ7p7r"
      },
      "source": [
        "## DropOut 규제"
      ]
    },
    {
      "cell_type": "markdown",
      "metadata": {
        "id": "u29YOqBC-SNO"
      },
      "source": [
        "input layer -> flatten layer -> dense layer -> dropout -> dense layer -> drop out -> out put layer"
      ]
    },
    {
      "cell_type": "code",
      "metadata": {
        "id": "MHqxakQv37VE"
      },
      "source": [
        "model = keras.Sequential()\n",
        "model.add(keras.layers.Flatten(input_shape=(28,28)))\n",
        "model.add(keras.layers.Dense(units=300, activation='relu'))\n",
        "model.add(keras.layers.Dropout(rate=0.3))\n",
        "model.add(keras.layers.Dense(units=100,activation='relu'))\n",
        "model.add(keras.layers.Dropout(rate=0.3))\n",
        "model.add(keras.layers.Dense(units=10, activation='softmax'))"
      ],
      "execution_count": null,
      "outputs": []
    },
    {
      "cell_type": "code",
      "metadata": {
        "colab": {
          "base_uri": "https://localhost:8080/",
          "height": 754
        },
        "id": "VW6a0Z0x_248",
        "outputId": "f92d4154-099d-4035-af7a-5ba29f95b299"
      },
      "source": [
        "keras.utils.plot_model(model, show_shapes=True, to_file='dnn.png')"
      ],
      "execution_count": null,
      "outputs": [
        {
          "output_type": "execute_result",
          "data": {
            "image/png": "[encoded data removed]",
            "text/plain": [
              "<IPython.core.display.Image object>"
            ]
          },
          "metadata": {
            "tags": []
          },
          "execution_count": 157
        }
      ]
    },
    {
      "cell_type": "code",
      "metadata": {
        "id": "qhrFtSBZAwlK"
      },
      "source": [
        "model.compile(optimizer='rmsprop', loss='sparse_categorical_crossentropy',metrics='accuracy')"
      ],
      "execution_count": null,
      "outputs": []
    },
    {
      "cell_type": "code",
      "metadata": {
        "colab": {
          "base_uri": "https://localhost:8080/"
        },
        "id": "ZT0oa_hVBCmE",
        "outputId": "56d352b4-ebf9-4fad-8209-c1216480cea4"
      },
      "source": [
        "model_check = keras.callbacks.ModelCheckpoint(filepath='dropout_best.h5', save_best_only=True)\n",
        "early_stop = keras.callbacks.EarlyStopping(patience=2)\n",
        "\n",
        "history = model.fit(x_tr,y_tr,epochs=30, validation_data=(x_val,y_val),\n",
        "                    callbacks = [model_check, early_stop])"
      ],
      "execution_count": null,
      "outputs": [
        {
          "output_type": "stream",
          "text": [
            "Epoch 1/30\n",
            "1688/1688 [==============================] - 5s 3ms/step - loss: 0.7606 - accuracy: 0.7273 - val_loss: 0.4203 - val_accuracy: 0.8487\n",
            "Epoch 2/30\n",
            "1688/1688 [==============================] - 4s 3ms/step - loss: 0.4891 - accuracy: 0.8317 - val_loss: 0.4115 - val_accuracy: 0.8478\n",
            "Epoch 3/30\n",
            "1688/1688 [==============================] - 4s 3ms/step - loss: 0.4819 - accuracy: 0.8412 - val_loss: 0.4585 - val_accuracy: 0.8373\n",
            "Epoch 4/30\n",
            "1688/1688 [==============================] - 4s 3ms/step - loss: 0.4963 - accuracy: 0.8421 - val_loss: 0.4348 - val_accuracy: 0.8617\n"
          ],
          "name": "stdout"
        }
      ]
    },
    {
      "cell_type": "code",
      "metadata": {
        "colab": {
          "base_uri": "https://localhost:8080/"
        },
        "id": "w5_9Xp_YBhl4",
        "outputId": "e31d26b9-869b-40c2-c3b2-9138f128bda7"
      },
      "source": [
        "model_check = keras.callbacks.ModelCheckpoint(filepath='dropout_best.h5', save_best_only=True)\n",
        "early_stop = keras.callbacks.EarlyStopping(patience=2)\n",
        "\n",
        "history = model.fit(x_tr,y_tr,epochs=30, validation_data=(x_val,y_val),\n",
        "                    callbacks = [model_check])"
      ],
      "execution_count": null,
      "outputs": [
        {
          "output_type": "stream",
          "text": [
            "Epoch 1/30\n",
            "1688/1688 [==============================] - 5s 3ms/step - loss: 0.7733 - accuracy: 0.7263 - val_loss: 0.5414 - val_accuracy: 0.8102\n",
            "Epoch 2/30\n",
            "1688/1688 [==============================] - 4s 3ms/step - loss: 0.4910 - accuracy: 0.8334 - val_loss: 0.4030 - val_accuracy: 0.8587\n",
            "Epoch 3/30\n",
            "1688/1688 [==============================] - 4s 3ms/step - loss: 0.4855 - accuracy: 0.8384 - val_loss: 0.3672 - val_accuracy: 0.8708\n",
            "Epoch 4/30\n",
            "1688/1688 [==============================] - 4s 3ms/step - loss: 0.4878 - accuracy: 0.8432 - val_loss: 0.3891 - val_accuracy: 0.8672\n",
            "Epoch 5/30\n",
            "1688/1688 [==============================] - 4s 3ms/step - loss: 0.4830 - accuracy: 0.8499 - val_loss: 0.4016 - val_accuracy: 0.8758\n",
            "Epoch 6/30\n",
            "1688/1688 [==============================] - 4s 3ms/step - loss: 0.4837 - accuracy: 0.8514 - val_loss: 0.4086 - val_accuracy: 0.8645\n",
            "Epoch 7/30\n",
            "1688/1688 [==============================] - 4s 3ms/step - loss: 0.4968 - accuracy: 0.8500 - val_loss: 0.4015 - val_accuracy: 0.8765\n",
            "Epoch 8/30\n",
            "1688/1688 [==============================] - 4s 3ms/step - loss: 0.5132 - accuracy: 0.8495 - val_loss: 0.4249 - val_accuracy: 0.8782\n",
            "Epoch 9/30\n",
            "1688/1688 [==============================] - 4s 3ms/step - loss: 0.5117 - accuracy: 0.8454 - val_loss: 0.4059 - val_accuracy: 0.8728\n",
            "Epoch 10/30\n",
            "1688/1688 [==============================] - 4s 3ms/step - loss: 0.5179 - accuracy: 0.8502 - val_loss: 0.4543 - val_accuracy: 0.8663\n",
            "Epoch 11/30\n",
            "1688/1688 [==============================] - 4s 3ms/step - loss: 0.5234 - accuracy: 0.8477 - val_loss: 0.4263 - val_accuracy: 0.8688\n",
            "Epoch 12/30\n",
            "1688/1688 [==============================] - 4s 3ms/step - loss: 0.5162 - accuracy: 0.8514 - val_loss: 0.4316 - val_accuracy: 0.8712\n",
            "Epoch 13/30\n",
            "1688/1688 [==============================] - 4s 3ms/step - loss: 0.5202 - accuracy: 0.8498 - val_loss: 0.4211 - val_accuracy: 0.8725\n",
            "Epoch 14/30\n",
            "1688/1688 [==============================] - 4s 3ms/step - loss: 0.5385 - accuracy: 0.8493 - val_loss: 0.4928 - val_accuracy: 0.8773\n",
            "Epoch 15/30\n",
            "1688/1688 [==============================] - 4s 3ms/step - loss: 0.5621 - accuracy: 0.8473 - val_loss: 0.4989 - val_accuracy: 0.8583\n",
            "Epoch 16/30\n",
            "1688/1688 [==============================] - 4s 3ms/step - loss: 0.5594 - accuracy: 0.8489 - val_loss: 0.4542 - val_accuracy: 0.8622\n",
            "Epoch 17/30\n",
            "1688/1688 [==============================] - 4s 3ms/step - loss: 0.5398 - accuracy: 0.8487 - val_loss: 0.5006 - val_accuracy: 0.8518\n",
            "Epoch 18/30\n",
            "1688/1688 [==============================] - 4s 3ms/step - loss: 0.5309 - accuracy: 0.8510 - val_loss: 0.5094 - val_accuracy: 0.8700\n",
            "Epoch 19/30\n",
            "1688/1688 [==============================] - 4s 3ms/step - loss: 0.5690 - accuracy: 0.8467 - val_loss: 0.4568 - val_accuracy: 0.8760\n",
            "Epoch 20/30\n",
            "1688/1688 [==============================] - 4s 3ms/step - loss: 0.5625 - accuracy: 0.8471 - val_loss: 0.5147 - val_accuracy: 0.8670\n",
            "Epoch 21/30\n",
            "1688/1688 [==============================] - 4s 3ms/step - loss: 0.5551 - accuracy: 0.8474 - val_loss: 0.4976 - val_accuracy: 0.8632\n",
            "Epoch 22/30\n",
            "1688/1688 [==============================] - 4s 3ms/step - loss: 0.5756 - accuracy: 0.8466 - val_loss: 0.4889 - val_accuracy: 0.8652\n",
            "Epoch 23/30\n",
            "1688/1688 [==============================] - 4s 3ms/step - loss: 0.5798 - accuracy: 0.8464 - val_loss: 0.5190 - val_accuracy: 0.8728\n",
            "Epoch 24/30\n",
            "1688/1688 [==============================] - 4s 3ms/step - loss: 0.5704 - accuracy: 0.8468 - val_loss: 0.5454 - val_accuracy: 0.8782\n",
            "Epoch 25/30\n",
            "1688/1688 [==============================] - 4s 3ms/step - loss: 0.6077 - accuracy: 0.8442 - val_loss: 0.5688 - val_accuracy: 0.8802\n",
            "Epoch 26/30\n",
            "1688/1688 [==============================] - 4s 3ms/step - loss: 0.6150 - accuracy: 0.8436 - val_loss: 0.5075 - val_accuracy: 0.8682\n",
            "Epoch 27/30\n",
            "1688/1688 [==============================] - 4s 3ms/step - loss: 0.6055 - accuracy: 0.8412 - val_loss: 0.5434 - val_accuracy: 0.8800\n",
            "Epoch 28/30\n",
            "1688/1688 [==============================] - 4s 3ms/step - loss: 0.6088 - accuracy: 0.8472 - val_loss: 0.5227 - val_accuracy: 0.8592\n",
            "Epoch 29/30\n",
            "1688/1688 [==============================] - 4s 3ms/step - loss: 0.5747 - accuracy: 0.8467 - val_loss: 0.5485 - val_accuracy: 0.8782\n",
            "Epoch 30/30\n",
            "1688/1688 [==============================] - 4s 3ms/step - loss: 0.6208 - accuracy: 0.8430 - val_loss: 0.6047 - val_accuracy: 0.8717\n"
          ],
          "name": "stdout"
        }
      ]
    },
    {
      "cell_type": "code",
      "metadata": {
        "id": "HvP4cTJpDZjr"
      },
      "source": [
        "hist = pd.DataFrame(history.history)"
      ],
      "execution_count": null,
      "outputs": []
    },
    {
      "cell_type": "code",
      "metadata": {
        "colab": {
          "base_uri": "https://localhost:8080/",
          "height": 267
        },
        "id": "fRBNFL7FDhIi",
        "outputId": "2725686f-bf85-480f-8398-abc873e21078"
      },
      "source": [
        "hist.plot()\n",
        "plt.grid()\n",
        "plt.show()"
      ],
      "execution_count": null,
      "outputs": [
        {
          "output_type": "display_data",
          "data": {
            "image/png": "[encoded data removed]",
            "text/plain": [
              "<Figure size 432x288 with 1 Axes>"
            ]
          },
          "metadata": {
            "tags": [],
            "needs_background": "light"
          }
        }
      ]
    }
  ]
}