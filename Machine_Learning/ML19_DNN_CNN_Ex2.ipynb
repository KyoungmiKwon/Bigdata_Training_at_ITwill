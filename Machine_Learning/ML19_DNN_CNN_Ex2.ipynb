{
  "nbformat": 4,
  "nbformat_minor": 0,
  "metadata": {
    "colab": {
      "name": "ML19_DNN_CNN_Ex2.ipynb",
      "provenance": [],
      "collapsed_sections": [
        "1JPQc_iYJata"
      ],
      "authorship_tag": "ABX9TyOYPZicVT747hYmhoPTYRVb",
      "include_colab_link": true
    },
    "kernelspec": {
      "name": "python3",
      "display_name": "Python 3"
    },
    "language_info": {
      "name": "python"
    },
    "accelerator": "GPU"
  },
  "cells": [
    {
      "cell_type": "markdown",
      "metadata": {
        "id": "view-in-github",
        "colab_type": "text"
      },
      "source": [
        "<a href=\"https://colab.research.google.com/github/KyoungmiKwon/Bigdata_Training_at_ITwill/blob/main/Machine_Learning/ML19_DNN_CNN_Ex2.ipynb\" target=\"_parent\"><img src=\"https://colab.research.google.com/assets/colab-badge.svg\" alt=\"Open In Colab\"/></a>"
      ]
    },
    {
      "cell_type": "markdown",
      "metadata": {
        "id": "bAUIGKH4_BVJ"
      },
      "source": [
        "# MNIST 데이터셋 CNN"
      ]
    },
    {
      "cell_type": "markdown",
      "metadata": {
        "id": "43RGrrQS_Cjz"
      },
      "source": [
        "아래와 같은 구조로 CNN(합성곱 신경망)을 만드세요.\n",
        "\n",
        "*   Convolution: 64개 필터, 7x7 크기 커널, ReLU 활성화, same padding\n",
        "*   Max Pooling: 2x2 필터\n",
        "*   Convolution: 128개 필터, 3x3 크기 커널, ReLU 활성화, same padding\n",
        "*   Convolution: 128개 필터, 3x3 크기 커널, ReLU 활성화, same padding\n",
        "*   Max Pooling: 2x2 필터\n",
        "*   Convolution: 256개 필터, 3x3 크기 커널, ReLU 활성화, same padding\n",
        "*   Convolution: 256개 필터, 3x3 크기 커널, ReLU 활성화, same padding\n",
        "*   Max Pooling: 2x2 필터\n",
        "*   Flatten\n",
        "*   완전연결(Dense)층: 128개 뉴런, ReLU 활성화\n",
        "*   Dropout: 50%\n",
        "*   완전연결(Dense)층: 64개 뉴런, ReLU 활성화\n",
        "*   Dropout: 50%\n",
        "*   출력층\n",
        "\n",
        "Nadam 옵티마이저와 조기종료 콜백을 사용해서 모델을 훈련하세요."
      ]
    },
    {
      "cell_type": "markdown",
      "metadata": {
        "id": "1JPQc_iYJata"
      },
      "source": [
        "# import"
      ]
    },
    {
      "cell_type": "code",
      "metadata": {
        "id": "cfpcmJ61-LC3"
      },
      "source": [
        "import numpy as np\n",
        "import pandas as pd\n",
        "import matplotlib.pyplot as plt\n",
        "\n",
        "from sklearn.model_selection import train_test_split \n",
        "from sklearn.preprocessing import StandardScaler\n",
        "\n",
        "import tensorflow as tf\n",
        "from tensorflow import keras"
      ],
      "execution_count": 1,
      "outputs": []
    },
    {
      "cell_type": "markdown",
      "metadata": {
        "id": "-zAsPnXPJdD2"
      },
      "source": [
        "# load dataset"
      ]
    },
    {
      "cell_type": "code",
      "metadata": {
        "id": "h4tWKMAFI7IB"
      },
      "source": [
        "(x_tr_f, y_tr_f), (x_ts, y_ts) = keras.datasets.mnist.load_data()"
      ],
      "execution_count": 40,
      "outputs": []
    },
    {
      "cell_type": "code",
      "metadata": {
        "colab": {
          "base_uri": "https://localhost:8080/"
        },
        "id": "bmR0IXjMI5tY",
        "outputId": "76d28599-a45a-49b3-c533-5bfd1d544dff"
      },
      "source": [
        "x_tr_f.shape, y_tr_f.shape,x_ts.shape, y_ts.shape"
      ],
      "execution_count": 3,
      "outputs": [
        {
          "output_type": "execute_result",
          "data": {
            "text/plain": [
              "((60000, 28, 28), (60000,), (10000, 28, 28), (10000,))"
            ]
          },
          "metadata": {
            "tags": []
          },
          "execution_count": 3
        }
      ]
    },
    {
      "cell_type": "code",
      "metadata": {
        "id": "tDU9W9fpQtFY"
      },
      "source": [
        "# depth=1인 3차원 형태로 변환 : keras의 합성곱 층은 3차원 입력(height, width, depth)을 기대하기 때문\n",
        "x_tr_fd3 = x_tr_f.reshape((-1, 28, 28, 1))\n",
        "x_ts_d3 = x_ts.reshape((-1, 28, 28, 1))"
      ],
      "execution_count": 4,
      "outputs": []
    },
    {
      "cell_type": "code",
      "metadata": {
        "colab": {
          "base_uri": "https://localhost:8080/"
        },
        "id": "AVT4kZKdRFJt",
        "outputId": "6ab2f098-1aa8-4b7a-e4f1-c0ed8c5bf405"
      },
      "source": [
        "x_tr_fd3.shape, y_tr_f.shape,x_ts_d3.shape, y_ts.shape"
      ],
      "execution_count": 5,
      "outputs": [
        {
          "output_type": "execute_result",
          "data": {
            "text/plain": [
              "((60000, 28, 28, 1), (60000,), (10000, 28, 28, 1), (10000,))"
            ]
          },
          "metadata": {
            "tags": []
          },
          "execution_count": 5
        }
      ]
    },
    {
      "cell_type": "code",
      "metadata": {
        "colab": {
          "base_uri": "https://localhost:8080/"
        },
        "id": "fbcIj40nJUPj",
        "outputId": "b426490f-873c-411c-cc37-18e21ac3b510"
      },
      "source": [
        "np.max(x_tr_fd3), np.min(x_tr_fd3)"
      ],
      "execution_count": 6,
      "outputs": [
        {
          "output_type": "execute_result",
          "data": {
            "text/plain": [
              "(255, 0)"
            ]
          },
          "metadata": {
            "tags": []
          },
          "execution_count": 6
        }
      ]
    },
    {
      "cell_type": "code",
      "metadata": {
        "id": "8UJyt-63JX3b"
      },
      "source": [
        "# 값 변환\n",
        "x_tr_s = x_tr_fd3/np.max(x_tr_fd3)\n",
        "x_ts_s = x_ts_d3/np.max(x_tr_fd3)"
      ],
      "execution_count": 7,
      "outputs": []
    },
    {
      "cell_type": "code",
      "metadata": {
        "id": "kTQ6Mt73Jrj-"
      },
      "source": [
        "# 세트 분리\n",
        "x_tr,x_val,y_tr,y_val = train_test_split(x_tr_s,y_tr_f,\n",
        "                                         stratify = y_tr_f,\n",
        "                                         test_size = 0.2)"
      ],
      "execution_count": 8,
      "outputs": []
    },
    {
      "cell_type": "code",
      "metadata": {
        "colab": {
          "base_uri": "https://localhost:8080/"
        },
        "id": "rA3kLeIZJ6BW",
        "outputId": "ddcce845-5e5b-4451-f251-ec1a0b54b5e0"
      },
      "source": [
        "x_tr.shape,y_tr.shape,np.max(x_tr_s), np.min(x_tr_s)"
      ],
      "execution_count": 9,
      "outputs": [
        {
          "output_type": "execute_result",
          "data": {
            "text/plain": [
              "((48000, 28, 28, 1), (48000,), 1.0, 0.0)"
            ]
          },
          "metadata": {
            "tags": []
          },
          "execution_count": 9
        }
      ]
    },
    {
      "cell_type": "code",
      "metadata": {
        "colab": {
          "base_uri": "https://localhost:8080/"
        },
        "id": "8Rf48G8qW4Xn",
        "outputId": "2b7dc06f-fd4d-48a4-c77d-4d5a31d1f681"
      },
      "source": [
        "np.unique(y_tr,return_counts=True)"
      ],
      "execution_count": 10,
      "outputs": [
        {
          "output_type": "execute_result",
          "data": {
            "text/plain": [
              "(array([0, 1, 2, 3, 4, 5, 6, 7, 8, 9], dtype=uint8),\n",
              " array([4738, 5394, 4766, 4905, 4674, 4337, 4734, 5012, 4681, 4759]))"
            ]
          },
          "metadata": {
            "tags": []
          },
          "execution_count": 10
        }
      ]
    },
    {
      "cell_type": "markdown",
      "metadata": {
        "id": "Ycdko4ENJhx8"
      },
      "source": [
        "# 모델생성"
      ]
    },
    {
      "cell_type": "code",
      "metadata": {
        "colab": {
          "base_uri": "https://localhost:8080/"
        },
        "id": "lARxh0jQKJZs",
        "outputId": "27f8945c-34d9-47af-b365-05e4f04976e8"
      },
      "source": [
        "# 모델생성\n",
        "model = keras.Sequential()\n",
        "\n",
        "# Convolution: 64개 필터, 7x7 크기 커널, ReLU 활성화, same padding\n",
        "model.add(keras.layers.Conv2D(filters=64,\n",
        "                              kernel_size=(7,7),\n",
        "                              padding='same',\n",
        "                              activation='relu',\n",
        "                              input_shape=((28,28,1))))\n",
        "\n",
        "# Max Pooling: 2x2 필터\n",
        "model.add(keras.layers.MaxPool2D(pool_size=(2,2),strides=(2,2)))\n",
        "# Convolution: 128개 필터, 3x3 크기 커널, ReLU 활성화, same padding\n",
        "model.add(keras.layers.Conv2D(filters=128,kernel_size=(3,3),padding='same',activation='relu'))\n",
        "# Convolution: 128개 필터, 3x3 크기 커널, ReLU 활성화, same padding\n",
        "model.add(keras.layers.Conv2D(filters=128,kernel_size=(3,3),padding='same',activation='relu'))\n",
        "# Max Pooling: 2x2 필터\n",
        "model.add(keras.layers.MaxPooling2D(pool_size=(2,2)))\n",
        "# Convolution: 256개 필터, 3x3 크기 커널, ReLU 활성화, same padding\n",
        "model.add(keras.layers.Conv2D(filters=256,kernel_size=(3,3),padding='same',activation='relu'))\n",
        "# Convolution: 256개 필터, 3x3 크기 커널, ReLU 활성화, same padding\n",
        "model.add(keras.layers.Conv2D(filters=256,kernel_size=(3,3),padding='same',activation='relu'))\n",
        "# Max Pooling: 2x2 필터\n",
        "model.add(keras.layers.MaxPooling2D(pool_size=(2,2)))\n",
        "\n",
        "# Flatten\n",
        "model.add(keras.layers.Flatten())\n",
        "\n",
        "# 완전연결(Dense)층: 128개 뉴런, ReLU 활성화\n",
        "model.add(keras.layers.Dense(units=128, activation='relu'))\n",
        "# Dropout: 50%\n",
        "model.add(keras.layers.Dropout(rate = 0.5))\n",
        "# 완전연결(Dense)층: 64개 뉴런, ReLU 활성화\n",
        "model.add(keras.layers.Dense(units=64, activation='relu'))\n",
        "# Dropout: 50%\n",
        "model.add(keras.layers.Dropout(rate = 0.5))\n",
        "\n",
        "# 출력층\n",
        "model.add(keras.layers.Dense(units=10, activation='softmax'))\n",
        "\n",
        "model.summary()"
      ],
      "execution_count": 11,
      "outputs": [
        {
          "output_type": "stream",
          "text": [
            "Model: \"sequential\"\n",
            "_________________________________________________________________\n",
            "Layer (type)                 Output Shape              Param #   \n",
            "=================================================================\n",
            "conv2d (Conv2D)              (None, 28, 28, 64)        3200      \n",
            "_________________________________________________________________\n",
            "max_pooling2d (MaxPooling2D) (None, 14, 14, 64)        0         \n",
            "_________________________________________________________________\n",
            "conv2d_1 (Conv2D)            (None, 14, 14, 128)       73856     \n",
            "_________________________________________________________________\n",
            "conv2d_2 (Conv2D)            (None, 14, 14, 128)       147584    \n",
            "_________________________________________________________________\n",
            "max_pooling2d_1 (MaxPooling2 (None, 7, 7, 128)         0         \n",
            "_________________________________________________________________\n",
            "conv2d_3 (Conv2D)            (None, 7, 7, 256)         295168    \n",
            "_________________________________________________________________\n",
            "conv2d_4 (Conv2D)            (None, 7, 7, 256)         590080    \n",
            "_________________________________________________________________\n",
            "max_pooling2d_2 (MaxPooling2 (None, 3, 3, 256)         0         \n",
            "_________________________________________________________________\n",
            "flatten (Flatten)            (None, 2304)              0         \n",
            "_________________________________________________________________\n",
            "dense (Dense)                (None, 128)               295040    \n",
            "_________________________________________________________________\n",
            "dropout (Dropout)            (None, 128)               0         \n",
            "_________________________________________________________________\n",
            "dense_1 (Dense)              (None, 64)                8256      \n",
            "_________________________________________________________________\n",
            "dropout_1 (Dropout)          (None, 64)                0         \n",
            "_________________________________________________________________\n",
            "dense_2 (Dense)              (None, 10)                650       \n",
            "=================================================================\n",
            "Total params: 1,413,834\n",
            "Trainable params: 1,413,834\n",
            "Non-trainable params: 0\n",
            "_________________________________________________________________\n"
          ],
          "name": "stdout"
        }
      ]
    },
    {
      "cell_type": "code",
      "metadata": {
        "id": "3MN7WidoeA8u"
      },
      "source": [
        "# 컴파일\n",
        "model.compile(optimizer = 'nadam',loss='sparse_categorical_crossentropy', metrics='accuracy')"
      ],
      "execution_count": 12,
      "outputs": []
    },
    {
      "cell_type": "code",
      "metadata": {
        "colab": {
          "base_uri": "https://localhost:8080/"
        },
        "id": "TITilc4deNNH",
        "outputId": "3a1dcf1b-805b-4a89-b7d1-287e5cf25d42"
      },
      "source": [
        "early_stop = keras.callbacks.EarlyStopping(monitor='val_loss',patience=3,restore_best_weights=True)\n",
        "history = model.fit(x_tr,y_tr,epochs=30,\n",
        "          validation_data = (x_val,y_val),\n",
        "          callbacks = [early_stop])"
      ],
      "execution_count": 13,
      "outputs": [
        {
          "output_type": "stream",
          "text": [
            "Epoch 1/30\n",
            "1500/1500 [==============================] - 46s 8ms/step - loss: 0.8035 - accuracy: 0.7285 - val_loss: 0.0781 - val_accuracy: 0.9812\n",
            "Epoch 2/30\n",
            "1500/1500 [==============================] - 12s 8ms/step - loss: 0.1145 - accuracy: 0.9731 - val_loss: 0.0709 - val_accuracy: 0.9829\n",
            "Epoch 3/30\n",
            "1500/1500 [==============================] - 12s 8ms/step - loss: 0.0751 - accuracy: 0.9820 - val_loss: 0.0486 - val_accuracy: 0.9892\n",
            "Epoch 4/30\n",
            "1500/1500 [==============================] - 12s 8ms/step - loss: 0.0775 - accuracy: 0.9831 - val_loss: 0.0659 - val_accuracy: 0.9893\n",
            "Epoch 5/30\n",
            "1500/1500 [==============================] - 12s 8ms/step - loss: 0.0642 - accuracy: 0.9859 - val_loss: 0.0505 - val_accuracy: 0.9873\n",
            "Epoch 6/30\n",
            "1500/1500 [==============================] - 12s 8ms/step - loss: 0.0455 - accuracy: 0.9884 - val_loss: 0.0491 - val_accuracy: 0.9910\n"
          ],
          "name": "stdout"
        }
      ]
    },
    {
      "cell_type": "code",
      "metadata": {
        "colab": {
          "base_uri": "https://localhost:8080/",
          "height": 197
        },
        "id": "E3PA2vgDefsq",
        "outputId": "b1bc4ded-6b37-4676-98b9-422ee19501c8"
      },
      "source": [
        "hist = pd.DataFrame(history.history)\n",
        "hist.head()"
      ],
      "execution_count": 14,
      "outputs": [
        {
          "output_type": "execute_result",
          "data": {
            "text/html": [
              "<div>\n",
              "<style scoped>\n",
              "    .dataframe tbody tr th:only-of-type {\n",
              "        vertical-align: middle;\n",
              "    }\n",
              "\n",
              "    .dataframe tbody tr th {\n",
              "        vertical-align: top;\n",
              "    }\n",
              "\n",
              "    .dataframe thead th {\n",
              "        text-align: right;\n",
              "    }\n",
              "</style>\n",
              "<table border=\"1\" class=\"dataframe\">\n",
              "  <thead>\n",
              "    <tr style=\"text-align: right;\">\n",
              "      <th></th>\n",
              "      <th>loss</th>\n",
              "      <th>accuracy</th>\n",
              "      <th>val_loss</th>\n",
              "      <th>val_accuracy</th>\n",
              "    </tr>\n",
              "  </thead>\n",
              "  <tbody>\n",
              "    <tr>\n",
              "      <th>0</th>\n",
              "      <td>0.385819</td>\n",
              "      <td>0.884875</td>\n",
              "      <td>0.078096</td>\n",
              "      <td>0.981167</td>\n",
              "    </tr>\n",
              "    <tr>\n",
              "      <th>1</th>\n",
              "      <td>0.113976</td>\n",
              "      <td>0.973583</td>\n",
              "      <td>0.070890</td>\n",
              "      <td>0.982917</td>\n",
              "    </tr>\n",
              "    <tr>\n",
              "      <th>2</th>\n",
              "      <td>0.083014</td>\n",
              "      <td>0.980917</td>\n",
              "      <td>0.048619</td>\n",
              "      <td>0.989167</td>\n",
              "    </tr>\n",
              "    <tr>\n",
              "      <th>3</th>\n",
              "      <td>0.074222</td>\n",
              "      <td>0.983333</td>\n",
              "      <td>0.065851</td>\n",
              "      <td>0.989333</td>\n",
              "    </tr>\n",
              "    <tr>\n",
              "      <th>4</th>\n",
              "      <td>0.062842</td>\n",
              "      <td>0.986562</td>\n",
              "      <td>0.050457</td>\n",
              "      <td>0.987333</td>\n",
              "    </tr>\n",
              "  </tbody>\n",
              "</table>\n",
              "</div>"
            ],
            "text/plain": [
              "       loss  accuracy  val_loss  val_accuracy\n",
              "0  0.385819  0.884875  0.078096      0.981167\n",
              "1  0.113976  0.973583  0.070890      0.982917\n",
              "2  0.083014  0.980917  0.048619      0.989167\n",
              "3  0.074222  0.983333  0.065851      0.989333\n",
              "4  0.062842  0.986562  0.050457      0.987333"
            ]
          },
          "metadata": {
            "tags": []
          },
          "execution_count": 14
        }
      ]
    },
    {
      "cell_type": "code",
      "metadata": {
        "colab": {
          "base_uri": "https://localhost:8080/",
          "height": 77
        },
        "id": "uEg3b6rIejyR",
        "outputId": "1722c7f8-effb-41f1-9c55-3180f6111132"
      },
      "source": [
        "hist[hist['val_accuracy']== np.max(hist['val_accuracy'])]"
      ],
      "execution_count": 15,
      "outputs": [
        {
          "output_type": "execute_result",
          "data": {
            "text/html": [
              "<div>\n",
              "<style scoped>\n",
              "    .dataframe tbody tr th:only-of-type {\n",
              "        vertical-align: middle;\n",
              "    }\n",
              "\n",
              "    .dataframe tbody tr th {\n",
              "        vertical-align: top;\n",
              "    }\n",
              "\n",
              "    .dataframe thead th {\n",
              "        text-align: right;\n",
              "    }\n",
              "</style>\n",
              "<table border=\"1\" class=\"dataframe\">\n",
              "  <thead>\n",
              "    <tr style=\"text-align: right;\">\n",
              "      <th></th>\n",
              "      <th>loss</th>\n",
              "      <th>accuracy</th>\n",
              "      <th>val_loss</th>\n",
              "      <th>val_accuracy</th>\n",
              "    </tr>\n",
              "  </thead>\n",
              "  <tbody>\n",
              "    <tr>\n",
              "      <th>5</th>\n",
              "      <td>0.050133</td>\n",
              "      <td>0.98775</td>\n",
              "      <td>0.049082</td>\n",
              "      <td>0.991</td>\n",
              "    </tr>\n",
              "  </tbody>\n",
              "</table>\n",
              "</div>"
            ],
            "text/plain": [
              "       loss  accuracy  val_loss  val_accuracy\n",
              "5  0.050133   0.98775  0.049082         0.991"
            ]
          },
          "metadata": {
            "tags": []
          },
          "execution_count": 15
        }
      ]
    },
    {
      "cell_type": "code",
      "metadata": {
        "colab": {
          "base_uri": "https://localhost:8080/",
          "height": 264
        },
        "id": "7fJmpjDPenXY",
        "outputId": "75394927-2160-44ff-9458-aa0885cb296d"
      },
      "source": [
        "hist.plot()\n",
        "plt.show()"
      ],
      "execution_count": 16,
      "outputs": [
        {
          "output_type": "display_data",
          "data": {
            "image/png": "[encoded data removed]",
            "text/plain": [
              "<Figure size 432x288 with 1 Axes>"
            ]
          },
          "metadata": {
            "tags": [],
            "needs_background": "light"
          }
        }
      ]
    },
    {
      "cell_type": "markdown",
      "metadata": {
        "id": "gNavzg85KYzg"
      },
      "source": [
        "#  >>>모범해설<<<"
      ]
    },
    {
      "cell_type": "markdown",
      "metadata": {
        "id": "Bct_NouHPoF1"
      },
      "source": [
        "## 데이터 전처리"
      ]
    },
    {
      "cell_type": "code",
      "metadata": {
        "id": "2ZqP0ohSZHIA"
      },
      "source": [
        "(x_tr_f, y_tr_f), (x_ts, y_ts) = keras.datasets.mnist.load_data()"
      ],
      "execution_count": 55,
      "outputs": []
    },
    {
      "cell_type": "code",
      "metadata": {
        "id": "YKFyIaW7K0Nx"
      },
      "source": [
        "# 세트 분리\n",
        "x_tr,x_val,y_tr,y_val = train_test_split(x_tr_f,y_tr_f,\n",
        "                                         stratify = y_tr_f,\n",
        "                                         test_size = 0.1,\n",
        "                                         random_state=42)"
      ],
      "execution_count": 56,
      "outputs": []
    },
    {
      "cell_type": "code",
      "metadata": {
        "colab": {
          "base_uri": "https://localhost:8080/"
        },
        "id": "OcHEzrtKMN4o",
        "outputId": "b24776a5-cb05-44cc-8616-249f4c9a412c"
      },
      "source": [
        "x_tr.shape,x_val.shape"
      ],
      "execution_count": 57,
      "outputs": [
        {
          "output_type": "execute_result",
          "data": {
            "text/plain": [
              "((54000, 28, 28), (6000, 28, 28))"
            ]
          },
          "metadata": {
            "tags": []
          },
          "execution_count": 57
        }
      ]
    },
    {
      "cell_type": "code",
      "metadata": {
        "colab": {
          "base_uri": "https://localhost:8080/"
        },
        "id": "zdg6ttFaKXhp",
        "outputId": "13d81053-b1a4-48e6-d911-482822680ee4"
      },
      "source": [
        "# 평균과 표준편차를 이용한 세트 표준화\n",
        "# x_tr.reshape((-1.28*28))\n",
        "\n",
        "target_mean = np.mean(x_tr, axis=0, keepdims=True)\n",
        "target_std = np.std(x_tr, axis=0, keepdims=True) + 1e-8 #(최소값 0 방지)\n",
        "target_mean.shape, target_std.shape"
      ],
      "execution_count": 61,
      "outputs": [
        {
          "output_type": "execute_result",
          "data": {
            "text/plain": [
              "((1, 28, 28), (1, 28, 28))"
            ]
          },
          "metadata": {
            "tags": []
          },
          "execution_count": 61
        }
      ]
    },
    {
      "cell_type": "code",
      "metadata": {
        "colab": {
          "base_uri": "https://localhost:8080/"
        },
        "id": "zgYJy-Q4NBY8",
        "outputId": "5d482840-8c46-4dfe-d68b-8805239ab485"
      },
      "source": [
        "np.min(target_std)"
      ],
      "execution_count": 62,
      "outputs": [
        {
          "output_type": "execute_result",
          "data": {
            "text/plain": [
              "1e-08"
            ]
          },
          "metadata": {
            "tags": []
          },
          "execution_count": 62
        }
      ]
    },
    {
      "cell_type": "code",
      "metadata": {
        "id": "6bUwiMNbNEb3"
      },
      "source": [
        "x_tr_s = (x_tr -target_mean) / target_std\n",
        "x_val_s = (x_val -target_mean) / target_std\n",
        "x_ts_s = (x_ts -target_mean) / target_std"
      ],
      "execution_count": 63,
      "outputs": []
    },
    {
      "cell_type": "code",
      "metadata": {
        "id": "nA1nMdXPPCo5"
      },
      "source": [
        "# depth=1인 3차원 형태로 변환 : keras의 합성곱 층은 3차원 입력(height, width, depth)을 기대하기 때문\n",
        "x_tr_ss = x_tr_s.reshape((-1,28,28,1))\n",
        "x_val_ss = x_val_s.reshape((-1,28,28,1))\n",
        "x_ts_ss = x_ts_s.reshape((-1,28,28,1))"
      ],
      "execution_count": 64,
      "outputs": []
    },
    {
      "cell_type": "markdown",
      "metadata": {
        "id": "tw_Q8dYIPrMq"
      },
      "source": [
        "## CNN"
      ]
    },
    {
      "cell_type": "code",
      "metadata": {
        "id": "2jIqG2EyNoLc"
      },
      "source": [
        "keras.backend.clear_session()\n",
        "tf.random.set_seed(42)\n",
        "np.random.seed(42)\n",
        "\n",
        "cnn_md = keras.Sequential(layers=[\n",
        "                            keras.layers.Conv2D(filters=64, kernel_size=(7,7), padding='same', activation='relu', input_shape=(28,28,1)),\n",
        "                            keras.layers.MaxPool2D(pool_size=(2,2)),\n",
        "                            keras.layers.Conv2D(filters=128,kernel_size=3,padding='same',activation='relu'),\n",
        "                            keras.layers.Conv2D(filters=128,kernel_size=3,padding='same',activation='relu'),\n",
        "                            keras.layers.MaxPool2D(pool_size=(2,2)),\n",
        "                            keras.layers.Conv2D(filters=256,kernel_size=3,padding='same',activation='relu'),\n",
        "                            keras.layers.Conv2D(filters=256,kernel_size=3,padding='same',activation='relu'),\n",
        "                            keras.layers.MaxPool2D(pool_size=(2,2)),\n",
        "                            keras.layers.Flatten(),\n",
        "                            keras.layers.Dense(units=128, activation='relu'),\n",
        "                            keras.layers.Dropout(rate=0.5),\n",
        "                            keras.layers.Dense(units=64, activation='relu'),\n",
        "                            keras.layers.Dropout(rate=0.5),\n",
        "                            keras.layers.Dense(units=10, activation='softmax')\n",
        "])"
      ],
      "execution_count": 65,
      "outputs": []
    },
    {
      "cell_type": "code",
      "metadata": {
        "colab": {
          "base_uri": "https://localhost:8080/"
        },
        "id": "50G46WLxSYYY",
        "outputId": "fb0c61ec-c6fb-49e7-c456-73b317a2138b"
      },
      "source": [
        "cnn_md.summary()"
      ],
      "execution_count": 66,
      "outputs": [
        {
          "output_type": "stream",
          "text": [
            "Model: \"sequential\"\n",
            "_________________________________________________________________\n",
            "Layer (type)                 Output Shape              Param #   \n",
            "=================================================================\n",
            "conv2d (Conv2D)              (None, 28, 28, 64)        3200      \n",
            "_________________________________________________________________\n",
            "max_pooling2d (MaxPooling2D) (None, 14, 14, 64)        0         \n",
            "_________________________________________________________________\n",
            "conv2d_1 (Conv2D)            (None, 14, 14, 128)       73856     \n",
            "_________________________________________________________________\n",
            "conv2d_2 (Conv2D)            (None, 14, 14, 128)       147584    \n",
            "_________________________________________________________________\n",
            "max_pooling2d_1 (MaxPooling2 (None, 7, 7, 128)         0         \n",
            "_________________________________________________________________\n",
            "conv2d_3 (Conv2D)            (None, 7, 7, 256)         295168    \n",
            "_________________________________________________________________\n",
            "conv2d_4 (Conv2D)            (None, 7, 7, 256)         590080    \n",
            "_________________________________________________________________\n",
            "max_pooling2d_2 (MaxPooling2 (None, 3, 3, 256)         0         \n",
            "_________________________________________________________________\n",
            "flatten (Flatten)            (None, 2304)              0         \n",
            "_________________________________________________________________\n",
            "dense (Dense)                (None, 128)               295040    \n",
            "_________________________________________________________________\n",
            "dropout (Dropout)            (None, 128)               0         \n",
            "_________________________________________________________________\n",
            "dense_1 (Dense)              (None, 64)                8256      \n",
            "_________________________________________________________________\n",
            "dropout_1 (Dropout)          (None, 64)                0         \n",
            "_________________________________________________________________\n",
            "dense_2 (Dense)              (None, 10)                650       \n",
            "=================================================================\n",
            "Total params: 1,413,834\n",
            "Trainable params: 1,413,834\n",
            "Non-trainable params: 0\n",
            "_________________________________________________________________\n"
          ],
          "name": "stdout"
        }
      ]
    },
    {
      "cell_type": "markdown",
      "metadata": {
        "id": "eXWfB30QSpVk"
      },
      "source": [
        "* conv2d (Conv2D)              (None, 28, 28, 64)        3200 \n",
        "    * (7 * 7 +1 ) *64 = 3200\n",
        "* conv2d_1 (Conv2D)            (None, 14, 14, 128)       73856\n",
        "    * (3 * 3 +1) *128 = 73856"
      ]
    },
    {
      "cell_type": "markdown",
      "metadata": {
        "id": "6dUSwoDJTh2i"
      },
      "source": [
        "모델 컴파일, 훈련"
      ]
    },
    {
      "cell_type": "code",
      "metadata": {
        "id": "EYMeRsBqTk7i"
      },
      "source": [
        "cnn_md.compile(optimizer='nadam', loss='sparse_categorical_crossentropy', metrics='accuracy')"
      ],
      "execution_count": 67,
      "outputs": []
    },
    {
      "cell_type": "code",
      "metadata": {
        "colab": {
          "base_uri": "https://localhost:8080/"
        },
        "id": "N9usR4vWTvcz",
        "outputId": "949860ae-d745-4788-cab2-7754d9c3ced0"
      },
      "source": [
        "early_stop_cb = keras.callbacks.EarlyStopping(patience=10, restore_best_weights=True)\n",
        "check_point_cb = keras.callbacks.ModelCheckpoint('cnn1_model.h5', save_best_only=True)\n",
        "\n",
        "cnn_history = cnn_md.fit(x_tr_ss,y_tr,epochs=100,\n",
        "                         callbacks = [early_stop_cb,check_point_cb],\n",
        "                         validation_data = (x_val_ss,y_val)\n",
        "                         )"
      ],
      "execution_count": 68,
      "outputs": [
        {
          "output_type": "stream",
          "text": [
            "Epoch 1/100\n",
            "1688/1688 [==============================] - 15s 8ms/step - loss: 0.7895 - accuracy: 0.7441 - val_loss: 10547.9277 - val_accuracy: 0.9755\n",
            "Epoch 2/100\n",
            "1688/1688 [==============================] - 14s 8ms/step - loss: 0.1258 - accuracy: 0.9705 - val_loss: 7538.1265 - val_accuracy: 0.9772\n",
            "Epoch 3/100\n",
            "1688/1688 [==============================] - 14s 8ms/step - loss: 0.1019 - accuracy: 0.9782 - val_loss: 2490.7112 - val_accuracy: 0.9867\n",
            "Epoch 4/100\n",
            "1688/1688 [==============================] - 14s 8ms/step - loss: 0.0769 - accuracy: 0.9829 - val_loss: 215513.6250 - val_accuracy: 0.9838\n",
            "Epoch 5/100\n",
            "1688/1688 [==============================] - 14s 8ms/step - loss: 0.0616 - accuracy: 0.9856 - val_loss: 11638.8770 - val_accuracy: 0.9898\n",
            "Epoch 6/100\n",
            "1688/1688 [==============================] - 14s 8ms/step - loss: 0.0619 - accuracy: 0.9865 - val_loss: 11918.1611 - val_accuracy: 0.9867\n",
            "Epoch 7/100\n",
            "1688/1688 [==============================] - 14s 8ms/step - loss: 0.0573 - accuracy: 0.9866 - val_loss: 216221.1250 - val_accuracy: 0.9865\n",
            "Epoch 8/100\n",
            "1688/1688 [==============================] - 14s 8ms/step - loss: 0.0486 - accuracy: 0.9893 - val_loss: 173715.2344 - val_accuracy: 0.9862\n",
            "Epoch 9/100\n",
            "1688/1688 [==============================] - 14s 8ms/step - loss: 0.0449 - accuracy: 0.9893 - val_loss: 194989.5312 - val_accuracy: 0.9838\n",
            "Epoch 10/100\n",
            "1688/1688 [==============================] - 14s 8ms/step - loss: 0.0555 - accuracy: 0.9872 - val_loss: 70244.4922 - val_accuracy: 0.9862\n",
            "Epoch 11/100\n",
            "1688/1688 [==============================] - 14s 8ms/step - loss: 0.0494 - accuracy: 0.9892 - val_loss: 101120.7344 - val_accuracy: 0.9833\n",
            "Epoch 12/100\n",
            "1688/1688 [==============================] - 14s 8ms/step - loss: 0.0631 - accuracy: 0.9876 - val_loss: 450675.8125 - val_accuracy: 0.9878\n",
            "Epoch 13/100\n",
            "1688/1688 [==============================] - 14s 8ms/step - loss: 0.0462 - accuracy: 0.9904 - val_loss: 196485.5469 - val_accuracy: 0.9898\n"
          ],
          "name": "stdout"
        }
      ]
    },
    {
      "cell_type": "code",
      "metadata": {
        "colab": {
          "base_uri": "https://localhost:8080/",
          "height": 264
        },
        "id": "i3555donUuoj",
        "outputId": "223da2ac-a8c7-438d-c6d6-e03939e3234a"
      },
      "source": [
        "cnn_hist = pd.DataFrame(cnn_history.history)\n",
        "cnn_hist[['loss','val_loss']].plot(marker='o')\n",
        "plt.grid()\n",
        "plt.show()"
      ],
      "execution_count": 51,
      "outputs": [
        {
          "output_type": "display_data",
          "data": {
            "image/png": "[encoded data removed]",
            "text/plain": [
              "<Figure size 432x288 with 1 Axes>"
            ]
          },
          "metadata": {
            "tags": [],
            "needs_background": "light"
          }
        }
      ]
    }
  ]
}