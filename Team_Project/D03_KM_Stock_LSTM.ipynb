{
  "nbformat": 4,
  "nbformat_minor": 0,
  "metadata": {
    "colab": {
      "name": "D03_KM_Stock_LSTM.ipynb",
      "provenance": [],
      "collapsed_sections": [],
      "mount_file_id": "1Yo3ehODa3kaQRSbkcfD0h106UIOeam-9",
      "authorship_tag": "ABX9TyO26aIfD+cF27uH3jFH3sNT",
      "include_colab_link": true
    },
    "kernelspec": {
      "name": "python3",
      "display_name": "Python 3"
    },
    "language_info": {
      "name": "python"
    }
  },
  "cells": [
    {
      "cell_type": "markdown",
      "metadata": {
        "id": "view-in-github",
        "colab_type": "text"
      },
      "source": [
        "<a href=\"https://colab.research.google.com/github/KyoungmiKwon/Bigdata_Training_at_ITwill/blob/main/Team_Project/D03_KM_Stock_LSTM.ipynb\" target=\"_parent\"><img src=\"https://colab.research.google.com/assets/colab-badge.svg\" alt=\"Open In Colab\"/></a>"
      ]
    },
    {
      "cell_type": "markdown",
      "metadata": {
        "id": "2XfOS_Z2fauv"
      },
      "source": [
        "# install_finance-datareader"
      ]
    },
    {
      "cell_type": "code",
      "metadata": {
        "id": "ZXbiCuKXfZG5"
      },
      "source": [
        "!pip install finance-datareader"
      ],
      "execution_count": null,
      "outputs": []
    },
    {
      "cell_type": "markdown",
      "metadata": {
        "id": "uP46NkwYcg8C"
      },
      "source": [
        "# import"
      ]
    },
    {
      "cell_type": "code",
      "metadata": {
        "id": "E13PXqL7cYXc"
      },
      "source": [
        "import numpy as np\n",
        "import pandas as pd\n",
        "\n",
        "import FinanceDataReader as fdr\n",
        "\n",
        "import datetime\n",
        "import matplotlib.pyplot as plt\n",
        "import seaborn as sns\n",
        "\n",
        "from sklearn.model_selection import train_test_split\n",
        "\n",
        "import keras as keras\n",
        "from keras.models import Sequential\n",
        "from keras.layers import Dense, LSTM, Dropout\n",
        "from keras.callbacks import EarlyStopping, ModelCheckpoint"
      ],
      "execution_count": 46,
      "outputs": []
    },
    {
      "cell_type": "markdown",
      "metadata": {
        "id": "Xk2PIFlYTb8E"
      },
      "source": [
        "# 주가 데이터 불러오기"
      ]
    },
    {
      "cell_type": "code",
      "metadata": {
        "id": "gQC_R_2Gci8h"
      },
      "source": [
        "path = '/content/drive/MyDrive/Colab Notebooks/Project/B05_KM_StockPrice_for_regression.xlsx'\n",
        "\n",
        "#> '122870' : YG      -> KOSDAQ\n",
        "#> '035900' : JYP     -> KOSDAQ\n",
        "#> '005930' : 삼성전자\n",
        "#> '066570' : LG전자\n",
        "\n",
        "\n",
        "# 주가 데이터 불러오기\n",
        "stock_ss = pd.read_excel(path,sheet_name = '005930_1', header=0)\n",
        "stock_lg = pd.read_excel(path,sheet_name = '066570_1', header=0)\n",
        "stock_yg = pd.read_excel(path,sheet_name = '122870_1', header=0)\n",
        "stock_jy = pd.read_excel(path,sheet_name = '035900_1', header=0)"
      ],
      "execution_count": 47,
      "outputs": []
    },
    {
      "cell_type": "markdown",
      "metadata": {
        "id": "2Gu5VYjfbHU7"
      },
      "source": [
        "# Samsung_005930"
      ]
    },
    {
      "cell_type": "markdown",
      "metadata": {
        "id": "gkoXdNkz5A6H"
      },
      "source": [
        "## 데이터 불러오기"
      ]
    },
    {
      "cell_type": "code",
      "metadata": {
        "colab": {
          "base_uri": "https://localhost:8080/",
          "height": 136
        },
        "id": "ZNpii5y3fqvl",
        "outputId": "de5f4299-4c2b-4dcc-a6b9-b0e02186ecc9"
      },
      "source": [
        "# 데이터 불러오기\n",
        "\n",
        "com_code = '005930'   \n",
        "start_date = '2020-06-01'\n",
        "end_date = '2021-04-16'\n",
        "\n",
        "stock_ss = fdr.DataReader(com_code, start=start_date, end=end_date)\n",
        "stock_ss[:2]"
      ],
      "execution_count": 48,
      "outputs": [
        {
          "output_type": "execute_result",
          "data": {
            "text/html": [
              "<div>\n",
              "<style scoped>\n",
              "    .dataframe tbody tr th:only-of-type {\n",
              "        vertical-align: middle;\n",
              "    }\n",
              "\n",
              "    .dataframe tbody tr th {\n",
              "        vertical-align: top;\n",
              "    }\n",
              "\n",
              "    .dataframe thead th {\n",
              "        text-align: right;\n",
              "    }\n",
              "</style>\n",
              "<table border=\"1\" class=\"dataframe\">\n",
              "  <thead>\n",
              "    <tr style=\"text-align: right;\">\n",
              "      <th></th>\n",
              "      <th>Open</th>\n",
              "      <th>High</th>\n",
              "      <th>Low</th>\n",
              "      <th>Close</th>\n",
              "      <th>Volume</th>\n",
              "      <th>Change</th>\n",
              "    </tr>\n",
              "    <tr>\n",
              "      <th>Date</th>\n",
              "      <th></th>\n",
              "      <th></th>\n",
              "      <th></th>\n",
              "      <th></th>\n",
              "      <th></th>\n",
              "      <th></th>\n",
              "    </tr>\n",
              "  </thead>\n",
              "  <tbody>\n",
              "    <tr>\n",
              "      <th>2020-06-01</th>\n",
              "      <td>50800</td>\n",
              "      <td>51200</td>\n",
              "      <td>50600</td>\n",
              "      <td>51200</td>\n",
              "      <td>16949183</td>\n",
              "      <td>0.009862</td>\n",
              "    </tr>\n",
              "    <tr>\n",
              "      <th>2020-06-02</th>\n",
              "      <td>51000</td>\n",
              "      <td>51500</td>\n",
              "      <td>50800</td>\n",
              "      <td>51400</td>\n",
              "      <td>14247933</td>\n",
              "      <td>0.003906</td>\n",
              "    </tr>\n",
              "  </tbody>\n",
              "</table>\n",
              "</div>"
            ],
            "text/plain": [
              "             Open   High    Low  Close    Volume    Change\n",
              "Date                                                      \n",
              "2020-06-01  50800  51200  50600  51200  16949183  0.009862\n",
              "2020-06-02  51000  51500  50800  51400  14247933  0.003906"
            ]
          },
          "metadata": {
            "tags": []
          },
          "execution_count": 48
        }
      ]
    },
    {
      "cell_type": "code",
      "metadata": {
        "colab": {
          "base_uri": "https://localhost:8080/"
        },
        "id": "KwnffM7tg6RG",
        "outputId": "4df85077-7ea7-49b3-9872-4883360fdb74"
      },
      "source": [
        "stock_ss.columns"
      ],
      "execution_count": 49,
      "outputs": [
        {
          "output_type": "execute_result",
          "data": {
            "text/plain": [
              "Index(['Open', 'High', 'Low', 'Close', 'Volume', 'Change'], dtype='object')"
            ]
          },
          "metadata": {
            "tags": []
          },
          "execution_count": 49
        }
      ]
    },
    {
      "cell_type": "markdown",
      "metadata": {
        "id": "YmqqRoAf5GPH"
      },
      "source": [
        "## 데이터 탐색"
      ]
    },
    {
      "cell_type": "code",
      "metadata": {
        "colab": {
          "base_uri": "https://localhost:8080/",
          "height": 538
        },
        "id": "28GBtyTHiUp3",
        "outputId": "303258d4-2633-433f-97d8-1a53a6ea4e78"
      },
      "source": [
        "# 삼성 종가 시계열\n",
        "plt.figure(figsize=(16,9))\n",
        "stock_ss['Close'].plot(title='Stock Index',color='blue', label='samsung')\n",
        "\n",
        "plt.grid()\n",
        "plt.show()"
      ],
      "execution_count": 50,
      "outputs": [
        {
          "output_type": "display_data",
          "data": {
            "image/png": "[encoded data removed]",
            "text/plain": [
              "<Figure size 1152x648 with 1 Axes>"
            ]
          },
          "metadata": {
            "tags": [],
            "needs_background": "light"
          }
        }
      ]
    },
    {
      "cell_type": "markdown",
      "metadata": {
        "id": "GuTOMhms5JFI"
      },
      "source": [
        "## 데이터전처리_정규화"
      ]
    },
    {
      "cell_type": "code",
      "metadata": {
        "id": "VnYykVsgc7HY"
      },
      "source": [
        "# 정규화\n",
        "\n",
        "def MinMaxScaler(data):\n",
        "    \"\"\"최솟값과 최댓값을 이용하여 0~1 값으로 변환\"\"\"\n",
        "    numerator = data - np.min(data,0)\n",
        "    denominator = np.max(data,0) - np.min(data,0)\n",
        "    return numerator / (denominator + 0.0000001 )"
      ],
      "execution_count": 51,
      "outputs": []
    },
    {
      "cell_type": "code",
      "metadata": {
        "id": "8HPzMWDi_wt5"
      },
      "source": [
        "def CAX_scaling(org_x, x): \n",
        "    org_x_np = np.asarray(org_x)\n",
        "    x_np = np.asarray(x)\n",
        "    return (x_np * (org_x_np.max() - org_x_np.min() + 1e-7)) + org_x_np.min()"
      ],
      "execution_count": 52,
      "outputs": []
    },
    {
      "cell_type": "code",
      "metadata": {
        "id": "yaeejMYMcGmB"
      },
      "source": [
        "dfx = stock_ss[['Open', 'High', 'Low', 'Close', 'Volume']]\n",
        "dfx = MinMaxScaler(dfx)\n",
        "dfy = dfx[['Close']]\n",
        "\n",
        "x = dfx.values.tolist()\n",
        "y = dfy.values.tolist()"
      ],
      "execution_count": 53,
      "outputs": []
    },
    {
      "cell_type": "code",
      "metadata": {
        "colab": {
          "base_uri": "https://localhost:8080/"
        },
        "id": "AJULA4mHlqf3",
        "outputId": "7a8ee8ea-4b5d-492e-9460-9117d1141cde"
      },
      "source": [
        "dfx.info()"
      ],
      "execution_count": 54,
      "outputs": [
        {
          "output_type": "stream",
          "text": [
            "<class 'pandas.core.frame.DataFrame'>\n",
            "DatetimeIndex: 219 entries, 2020-06-01 to 2021-04-16\n",
            "Data columns (total 5 columns):\n",
            " #   Column  Non-Null Count  Dtype  \n",
            "---  ------  --------------  -----  \n",
            " 0   Open    219 non-null    float64\n",
            " 1   High    219 non-null    float64\n",
            " 2   Low     219 non-null    float64\n",
            " 3   Close   219 non-null    float64\n",
            " 4   Volume  219 non-null    float64\n",
            "dtypes: float64(5)\n",
            "memory usage: 10.3 KB\n"
          ],
          "name": "stdout"
        }
      ]
    },
    {
      "cell_type": "code",
      "metadata": {
        "colab": {
          "base_uri": "https://localhost:8080/"
        },
        "id": "W0DhINpDlsMY",
        "outputId": "3e84a552-e476-4966-984a-08c386b85f71"
      },
      "source": [
        "dfy.info()"
      ],
      "execution_count": 55,
      "outputs": [
        {
          "output_type": "stream",
          "text": [
            "<class 'pandas.core.frame.DataFrame'>\n",
            "DatetimeIndex: 219 entries, 2020-06-01 to 2021-04-16\n",
            "Data columns (total 1 columns):\n",
            " #   Column  Non-Null Count  Dtype  \n",
            "---  ------  --------------  -----  \n",
            " 0   Close   219 non-null    float64\n",
            "dtypes: float64(1)\n",
            "memory usage: 3.4 KB\n"
          ],
          "name": "stdout"
        }
      ]
    },
    {
      "cell_type": "code",
      "metadata": {
        "colab": {
          "base_uri": "https://localhost:8080/"
        },
        "id": "pLwvoVfDlvOp",
        "outputId": "0ad2cef0-c827-41e9-fa87-bed56883cd89"
      },
      "source": [
        "x[-1:]"
      ],
      "execution_count": 56,
      "outputs": [
        {
          "output_type": "execute_result",
          "data": {
            "text/plain": [
              "[[0.858227848099093,\n",
              "  0.7346491228054065,\n",
              "  0.8510101010079519,\n",
              "  0.8272506082704932,\n",
              "  0.0754135896936114]]"
            ]
          },
          "metadata": {
            "tags": []
          },
          "execution_count": 56
        }
      ]
    },
    {
      "cell_type": "code",
      "metadata": {
        "colab": {
          "base_uri": "https://localhost:8080/"
        },
        "id": "A2Fl82RcmIU8",
        "outputId": "f57f7f26-3095-4394-ba67-355f44e2f898"
      },
      "source": [
        "y[-2:]"
      ],
      "execution_count": 57,
      "outputs": [
        {
          "output_type": "execute_result",
          "data": {
            "text/plain": [
              "[[0.8321167883191433], [0.8272506082704932]]"
            ]
          },
          "metadata": {
            "tags": []
          },
          "execution_count": 57
        }
      ]
    },
    {
      "cell_type": "code",
      "metadata": {
        "id": "4d9Y-j5gooXY"
      },
      "source": [
        "# 데이터셋 준비\n",
        "\n",
        "data_x = []\n",
        "data_y = []\n",
        "\n",
        "window_size = 20 # 전날 20일 동안의 모든 데이터를 사용하여 다음날 종가를 예측\n",
        "\n",
        "for i in range(len(y) - window_size):\n",
        "    _x = x[i: i+ window_size] # window_size 만큼 종가 예) 1~10일 종가\n",
        "    _y = y[i+ window_size]    # 11일 종가\n",
        "    data_x.append(_x)\n",
        "    data_y.append(_y)"
      ],
      "execution_count": 58,
      "outputs": []
    },
    {
      "cell_type": "markdown",
      "metadata": {
        "id": "mUtttTRw5Nnt"
      },
      "source": [
        "## 세트 분리"
      ]
    },
    {
      "cell_type": "code",
      "metadata": {
        "id": "06K7toK0seeG"
      },
      "source": [
        "# 셋트 분리\n",
        "\n",
        "tr_size = int(len(data_x)*0.7)\n",
        "\n",
        "X_tr = np.array(data_x[0:tr_size])\n",
        "y_tr = np.array(data_y[0:tr_size])\n",
        "\n",
        "X_ts = np.array(data_x[tr_size:])\n",
        "y_ts = np.array(data_y[tr_size:])"
      ],
      "execution_count": 59,
      "outputs": []
    },
    {
      "cell_type": "code",
      "metadata": {
        "colab": {
          "base_uri": "https://localhost:8080/"
        },
        "id": "w09u3uvGtvMW",
        "outputId": "e73f8797-2fcb-495d-e014-3138279da37c"
      },
      "source": [
        "X_ts.shape, X_tr.shape"
      ],
      "execution_count": null,
      "outputs": [
        {
          "output_type": "execute_result",
          "data": {
            "text/plain": [
              "((60, 20, 5), (139, 20, 5))"
            ]
          },
          "metadata": {
            "tags": []
          },
          "execution_count": 42
        }
      ]
    },
    {
      "cell_type": "code",
      "metadata": {
        "colab": {
          "base_uri": "https://localhost:8080/"
        },
        "id": "kd58MnQcy7g4",
        "outputId": "540d45d9-17f9-4da3-8304-ca8d39aa83e8"
      },
      "source": [
        "y_ts.shape, y_tr.shape"
      ],
      "execution_count": 60,
      "outputs": [
        {
          "output_type": "execute_result",
          "data": {
            "text/plain": [
              "((60, 1), (139, 1))"
            ]
          },
          "metadata": {
            "tags": []
          },
          "execution_count": 60
        }
      ]
    },
    {
      "cell_type": "markdown",
      "metadata": {
        "id": "AQhuDXvP5Qq2"
      },
      "source": [
        "## 모델생성"
      ]
    },
    {
      "cell_type": "code",
      "metadata": {
        "colab": {
          "base_uri": "https://localhost:8080/"
        },
        "id": "trDnE4wxtDzr",
        "outputId": "d5d7354e-2a38-4eff-a6e2-870060ab9644"
      },
      "source": [
        "# 모델 생성하기\n",
        "md = Sequential()\n",
        "md.add(LSTM(units= 16, activation='relu', return_sequences=False, input_shape=(window_size,5)))\n",
        "# md.add(Dropout(1))\n",
        "# md.add(LSTM(units=10, activation='relu'))\n",
        "# md.add(Dropout(0.1))\n",
        "md.add(Dense(units=1))\n",
        "md.summary()"
      ],
      "execution_count": 87,
      "outputs": [
        {
          "output_type": "stream",
          "text": [
            "Model: \"sequential_5\"\n",
            "_________________________________________________________________\n",
            "Layer (type)                 Output Shape              Param #   \n",
            "=================================================================\n",
            "lstm_6 (LSTM)                (None, 16)                1408      \n",
            "_________________________________________________________________\n",
            "dense_5 (Dense)              (None, 1)                 17        \n",
            "=================================================================\n",
            "Total params: 1,425\n",
            "Trainable params: 1,425\n",
            "Non-trainable params: 0\n",
            "_________________________________________________________________\n"
          ],
          "name": "stdout"
        }
      ]
    },
    {
      "cell_type": "code",
      "metadata": {
        "colab": {
          "base_uri": "https://localhost:8080/",
          "height": 312
        },
        "id": "KP-vzoPHvtTv",
        "outputId": "5a93c0e5-e2a2-4d4f-af4a-bab52a092957"
      },
      "source": [
        "keras.utils.plot_model(md, show_shapes=True)"
      ],
      "execution_count": 88,
      "outputs": [
        {
          "output_type": "execute_result",
          "data": {
            "image/png": "[encoded data removed]",
            "text/plain": [
              "<IPython.core.display.Image object>"
            ]
          },
          "metadata": {
            "tags": []
          },
          "execution_count": 88
        }
      ]
    },
    {
      "cell_type": "code",
      "metadata": {
        "id": "HgF-Suzpv-PD"
      },
      "source": [
        "# 모델컴파일\n",
        "md.compile(optimizer='adam', loss='mean_squared_error') #> 손실 함수는 평균 제곱오차(MSE)를 사용"
      ],
      "execution_count": 89,
      "outputs": []
    },
    {
      "cell_type": "code",
      "metadata": {
        "id": "iyQu08kHwf9X"
      },
      "source": [
        "# 콜백(조기 종료, 상태 저장)\n",
        "early_stop = keras.callbacks.EarlyStopping(patience=10, restore_best_weights=True)\n",
        "check_point = keras.callbacks.ModelCheckpoint('stock_model.h5', save_best_only=True)"
      ],
      "execution_count": 90,
      "outputs": []
    },
    {
      "cell_type": "markdown",
      "metadata": {
        "id": "MTmYmGR05Uot"
      },
      "source": [
        "## 모델훈련"
      ]
    },
    {
      "cell_type": "code",
      "metadata": {
        "id": "w0JIN7Wfwliq"
      },
      "source": [
        "# 훈련\n",
        "history = md.fit(X_tr,y_tr,batch_size=3, epochs=100, #> batch_size ; 한번에 제공되는 훈련 데이터 갯수 \n",
        "                #  validation_data=(X_ts,y_ts),    \n",
        "                # callbacks=[early_stop,check_point]\n",
        "                 )"
      ],
      "execution_count": null,
      "outputs": []
    },
    {
      "cell_type": "code",
      "metadata": {
        "id": "Y0dxuJJt1C3q"
      },
      "source": [
        "y_prd = md.predict(X_ts)"
      ],
      "execution_count": 93,
      "outputs": []
    },
    {
      "cell_type": "code",
      "metadata": {
        "colab": {
          "base_uri": "https://localhost:8080/",
          "height": 279
        },
        "id": "u1UYe8Lk0VcY",
        "outputId": "54fcaab6-cbec-49ee-c2ca-38206424ce4d"
      },
      "source": [
        "plt.figure()\n",
        "plt.plot(y_ts, color='red', label='real SEC stock price')\n",
        "plt.plot(y_prd, color='blue', label='Predicted SEC stock price')\n",
        "plt.xlabel('time')\n",
        "plt.ylabel('stock price')\n",
        "plt.legend()\n",
        "plt.show()"
      ],
      "execution_count": 94,
      "outputs": [
        {
          "output_type": "display_data",
          "data": {
            "image/png": "[encoded data removed]",
            "text/plain": [
              "<Figure size 432x288 with 1 Axes>"
            ]
          },
          "metadata": {
            "tags": [],
            "needs_background": "light"
          }
        }
      ]
    },
    {
      "cell_type": "code",
      "metadata": {
        "id": "VznYdWC_DHb7"
      },
      "source": [
        "# 다음날 예측 종가\n",
        "a = int(stock_ss['Close'][-1]*y_prd[-1]/dfy['Close'][-1])\n",
        "# 실제 종가\n",
        "b = fdr.DataReader('005930', start='2021-04-17', end='2021-04-20')\n",
        "c = b['Close'][1]"
      ],
      "execution_count": 101,
      "outputs": []
    },
    {
      "cell_type": "code",
      "metadata": {
        "id": "bYRg8bXO48V7",
        "colab": {
          "base_uri": "https://localhost:8080/"
        },
        "outputId": "f61d6d92-7203-4a0d-cc55-19ed4cb1d393"
      },
      "source": [
        "# 결과 출력\n",
        "print('predict:', a)\n",
        "print('actual:', c)\n",
        "print('variance:', a-c)"
      ],
      "execution_count": 102,
      "outputs": [
        {
          "output_type": "stream",
          "text": [
            "predict: 82705\n",
            "actual: 83900\n",
            "variance: -1195\n"
          ],
          "name": "stdout"
        }
      ]
    }
  ]
}