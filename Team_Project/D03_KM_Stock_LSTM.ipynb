{
  "nbformat": 4,
  "nbformat_minor": 0,
  "metadata": {
    "colab": {
      "name": "D03_KM_Stock_LSTM.ipynb",
      "provenance": [],
      "collapsed_sections": [],
      "toc_visible": true,
      "mount_file_id": "1Yo3ehODa3kaQRSbkcfD0h106UIOeam-9",
      "authorship_tag": "ABX9TyMuEy4a5G22Hmd3MZ4veLRf",
      "include_colab_link": true
    },
    "kernelspec": {
      "name": "python3",
      "display_name": "Python 3"
    },
    "language_info": {
      "name": "python"
    }
  },
  "cells": [
    {
      "cell_type": "markdown",
      "metadata": {
        "id": "view-in-github",
        "colab_type": "text"
      },
      "source": [
        "<a href=\"https://colab.research.google.com/github/KyoungmiKwon/Bigdata_Training_at_ITwill/blob/main/Team_Project/D03_KM_Stock_LSTM.ipynb\" target=\"_parent\"><img src=\"https://colab.research.google.com/assets/colab-badge.svg\" alt=\"Open In Colab\"/></a>"
      ]
    },
    {
      "cell_type": "markdown",
      "metadata": {
        "id": "2XfOS_Z2fauv"
      },
      "source": [
        "# install_finance-datareader"
      ]
    },
    {
      "cell_type": "code",
      "metadata": {
        "id": "ZXbiCuKXfZG5"
      },
      "source": [
        "!pip install finance-datareader"
      ],
      "execution_count": null,
      "outputs": []
    },
    {
      "cell_type": "markdown",
      "metadata": {
        "id": "uP46NkwYcg8C"
      },
      "source": [
        "# import"
      ]
    },
    {
      "cell_type": "code",
      "metadata": {
        "id": "E13PXqL7cYXc"
      },
      "source": [
        "import numpy as np\n",
        "import pandas as pd\n",
        "\n",
        "import FinanceDataReader as fdr\n",
        "\n",
        "import datetime\n",
        "import matplotlib.pyplot as plt\n",
        "import seaborn as sns\n",
        "\n",
        "from sklearn.model_selection import train_test_split\n",
        "\n",
        "import keras as keras\n",
        "from keras.models import Sequential\n",
        "from keras.layers import Dense, LSTM, Dropout\n",
        "from keras.callbacks import EarlyStopping, ModelCheckpoint"
      ],
      "execution_count": 64,
      "outputs": []
    },
    {
      "cell_type": "markdown",
      "metadata": {
        "id": "Xk2PIFlYTb8E"
      },
      "source": [
        "# 주가 데이터 불러오기"
      ]
    },
    {
      "cell_type": "code",
      "metadata": {
        "id": "gQC_R_2Gci8h"
      },
      "source": [
        "path = '/content/drive/MyDrive/Colab Notebooks/Project/B05_KM_StockPrice_for_regression.xlsx'\n",
        "\n",
        "#> '122870' : YG      -> KOSDAQ\n",
        "#> '035900' : JYP     -> KOSDAQ\n",
        "#> '005930' : 삼성전자\n",
        "#> '066570' : LG전자\n",
        "\n",
        "\n",
        "# 주가 데이터 불러오기\n",
        "stock_ss = pd.read_excel(path,sheet_name = '005930_1', header=0)\n",
        "stock_lg = pd.read_excel(path,sheet_name = '066570_1', header=0)\n",
        "stock_yg = pd.read_excel(path,sheet_name = '122870_1', header=0)\n",
        "stock_jy = pd.read_excel(path,sheet_name = '035900_1', header=0)"
      ],
      "execution_count": 5,
      "outputs": []
    },
    {
      "cell_type": "markdown",
      "metadata": {
        "id": "2Gu5VYjfbHU7"
      },
      "source": [
        "# Samsung"
      ]
    },
    {
      "cell_type": "code",
      "metadata": {
        "colab": {
          "base_uri": "https://localhost:8080/",
          "height": 136
        },
        "id": "ZNpii5y3fqvl",
        "outputId": "18eb313a-afef-4a1e-c6bc-f7251a0800bb"
      },
      "source": [
        "# 데이터 불러오기\n",
        "\n",
        "com_code = '005930'   \n",
        "start_date = '2020-06-01'\n",
        "end_date = '2021-04-16'\n",
        "\n",
        "stock_ss = fdr.DataReader(com_code, start=start_date, end=end_date)\n",
        "stock_ss[:2]"
      ],
      "execution_count": 18,
      "outputs": [
        {
          "output_type": "execute_result",
          "data": {
            "text/html": [
              "<div>\n",
              "<style scoped>\n",
              "    .dataframe tbody tr th:only-of-type {\n",
              "        vertical-align: middle;\n",
              "    }\n",
              "\n",
              "    .dataframe tbody tr th {\n",
              "        vertical-align: top;\n",
              "    }\n",
              "\n",
              "    .dataframe thead th {\n",
              "        text-align: right;\n",
              "    }\n",
              "</style>\n",
              "<table border=\"1\" class=\"dataframe\">\n",
              "  <thead>\n",
              "    <tr style=\"text-align: right;\">\n",
              "      <th></th>\n",
              "      <th>Open</th>\n",
              "      <th>High</th>\n",
              "      <th>Low</th>\n",
              "      <th>Close</th>\n",
              "      <th>Volume</th>\n",
              "      <th>Change</th>\n",
              "    </tr>\n",
              "    <tr>\n",
              "      <th>Date</th>\n",
              "      <th></th>\n",
              "      <th></th>\n",
              "      <th></th>\n",
              "      <th></th>\n",
              "      <th></th>\n",
              "      <th></th>\n",
              "    </tr>\n",
              "  </thead>\n",
              "  <tbody>\n",
              "    <tr>\n",
              "      <th>2020-06-01</th>\n",
              "      <td>50800</td>\n",
              "      <td>51200</td>\n",
              "      <td>50600</td>\n",
              "      <td>51200</td>\n",
              "      <td>16949183</td>\n",
              "      <td>0.009862</td>\n",
              "    </tr>\n",
              "    <tr>\n",
              "      <th>2020-06-02</th>\n",
              "      <td>51000</td>\n",
              "      <td>51500</td>\n",
              "      <td>50800</td>\n",
              "      <td>51400</td>\n",
              "      <td>14247933</td>\n",
              "      <td>0.003906</td>\n",
              "    </tr>\n",
              "  </tbody>\n",
              "</table>\n",
              "</div>"
            ],
            "text/plain": [
              "             Open   High    Low  Close    Volume    Change\n",
              "Date                                                      \n",
              "2020-06-01  50800  51200  50600  51200  16949183  0.009862\n",
              "2020-06-02  51000  51500  50800  51400  14247933  0.003906"
            ]
          },
          "metadata": {
            "tags": []
          },
          "execution_count": 18
        }
      ]
    },
    {
      "cell_type": "code",
      "metadata": {
        "colab": {
          "base_uri": "https://localhost:8080/"
        },
        "id": "KwnffM7tg6RG",
        "outputId": "69b316cd-2e59-46a7-ee01-7772dd0b41d7"
      },
      "source": [
        "stock_ss.columns"
      ],
      "execution_count": 23,
      "outputs": [
        {
          "output_type": "execute_result",
          "data": {
            "text/plain": [
              "Index(['Open', 'High', 'Low', 'Close', 'Volume', 'Change'], dtype='object')"
            ]
          },
          "metadata": {
            "tags": []
          },
          "execution_count": 23
        }
      ]
    },
    {
      "cell_type": "code",
      "metadata": {
        "colab": {
          "base_uri": "https://localhost:8080/",
          "height": 538
        },
        "id": "28GBtyTHiUp3",
        "outputId": "738fbdad-a980-4462-f041-976d1caaaa6d"
      },
      "source": [
        "# 삼성 종가 시계열\n",
        "plt.figure(figsize=(16,9))\n",
        "stock_ss['Close'].plot(title='Stock Index',color='blue', label='samsung')\n",
        "\n",
        "plt.grid()\n",
        "plt.show()"
      ],
      "execution_count": 32,
      "outputs": [
        {
          "output_type": "display_data",
          "data": {
            "image/png": "[encoded data removed]",
            "text/plain": [
              "<Figure size 1152x648 with 1 Axes>"
            ]
          },
          "metadata": {
            "tags": [],
            "needs_background": "light"
          }
        }
      ]
    },
    {
      "cell_type": "code",
      "metadata": {
        "id": "VnYykVsgc7HY"
      },
      "source": [
        "# 정규화\n",
        "\n",
        "def MinMaxScaler(data):\n",
        "    \"\"\"최솟값과 최댓값을 이용하여 0~1 값으로 변환\"\"\"\n",
        "    numerator = data - np.min(data,0)\n",
        "    denominator = np.max(data,0) - np.min(data,0)\n",
        "    return numerator / (denominator + 0.0000001 )"
      ],
      "execution_count": 39,
      "outputs": []
    },
    {
      "cell_type": "code",
      "metadata": {
        "id": "yaeejMYMcGmB"
      },
      "source": [
        "dfx = stock_ss[['Open', 'High', 'Low', 'Close', 'Volume']]\n",
        "dfx = MinMaxScaler(dfx)\n",
        "dfy = dfx[['Close']]\n",
        "\n",
        "x = dfx.values.tolist()\n",
        "y = dfy.values.tolist()"
      ],
      "execution_count": 46,
      "outputs": []
    },
    {
      "cell_type": "code",
      "metadata": {
        "colab": {
          "base_uri": "https://localhost:8080/"
        },
        "id": "AJULA4mHlqf3",
        "outputId": "45065b41-aa01-42b6-e219-d493d237076e"
      },
      "source": [
        "dfx.info()"
      ],
      "execution_count": 47,
      "outputs": [
        {
          "output_type": "stream",
          "text": [
            "<class 'pandas.core.frame.DataFrame'>\n",
            "DatetimeIndex: 219 entries, 2020-06-01 to 2021-04-16\n",
            "Data columns (total 5 columns):\n",
            " #   Column  Non-Null Count  Dtype  \n",
            "---  ------  --------------  -----  \n",
            " 0   Open    219 non-null    float64\n",
            " 1   High    219 non-null    float64\n",
            " 2   Low     219 non-null    float64\n",
            " 3   Close   219 non-null    float64\n",
            " 4   Volume  219 non-null    float64\n",
            "dtypes: float64(5)\n",
            "memory usage: 10.3 KB\n"
          ],
          "name": "stdout"
        }
      ]
    },
    {
      "cell_type": "code",
      "metadata": {
        "colab": {
          "base_uri": "https://localhost:8080/"
        },
        "id": "W0DhINpDlsMY",
        "outputId": "b74a8b9f-ab05-426a-eb5e-b1bb9a42365e"
      },
      "source": [
        "dfy.info()"
      ],
      "execution_count": 48,
      "outputs": [
        {
          "output_type": "stream",
          "text": [
            "<class 'pandas.core.frame.DataFrame'>\n",
            "DatetimeIndex: 219 entries, 2020-06-01 to 2021-04-16\n",
            "Data columns (total 1 columns):\n",
            " #   Column  Non-Null Count  Dtype  \n",
            "---  ------  --------------  -----  \n",
            " 0   Close   219 non-null    float64\n",
            "dtypes: float64(1)\n",
            "memory usage: 3.4 KB\n"
          ],
          "name": "stdout"
        }
      ]
    },
    {
      "cell_type": "code",
      "metadata": {
        "colab": {
          "base_uri": "https://localhost:8080/"
        },
        "id": "pLwvoVfDlvOp",
        "outputId": "ca8dd8ab-cec7-4f27-df5f-b85088349b73"
      },
      "source": [
        "x[-1:]"
      ],
      "execution_count": 49,
      "outputs": [
        {
          "output_type": "execute_result",
          "data": {
            "text/plain": [
              "[[0.858227848099093,\n",
              "  0.7346491228054065,\n",
              "  0.8510101010079519,\n",
              "  0.8272506082704932,\n",
              "  0.0754135896936114]]"
            ]
          },
          "metadata": {
            "tags": []
          },
          "execution_count": 49
        }
      ]
    },
    {
      "cell_type": "code",
      "metadata": {
        "colab": {
          "base_uri": "https://localhost:8080/"
        },
        "id": "A2Fl82RcmIU8",
        "outputId": "30e6429b-d98f-4670-99c2-dad3cea7f90d"
      },
      "source": [
        "y[-2:]"
      ],
      "execution_count": 50,
      "outputs": [
        {
          "output_type": "execute_result",
          "data": {
            "text/plain": [
              "[[0.8321167883191433], [0.8272506082704932]]"
            ]
          },
          "metadata": {
            "tags": []
          },
          "execution_count": 50
        }
      ]
    },
    {
      "cell_type": "code",
      "metadata": {
        "id": "4d9Y-j5gooXY"
      },
      "source": [
        "# 데이터셋 준비\n",
        "\n",
        "data_x = []\n",
        "data_y = []\n",
        "\n",
        "window_size = 10 # 전날 10일 동안의 모든 데이터를 사용하여 다음날 종가를 예측\n",
        "\n",
        "for i in range(len(y) - window_size):\n",
        "    _x = x[i: i+ window_size] # window_size 만큼 종가 예) 1~10일 종가\n",
        "    _y = y[i+ window_size]    # 11일 종가\n",
        "    data_x.append(_x)\n",
        "    data_y.append(_y)"
      ],
      "execution_count": 57,
      "outputs": []
    },
    {
      "cell_type": "code",
      "metadata": {
        "id": "06K7toK0seeG"
      },
      "source": [
        "# 셋트 분리\n",
        "\n",
        "tr_size = int(len(data_x)*0.7)\n",
        "\n",
        "X_tr = np.array(data_x[0:tr_size])\n",
        "y_tr = np.array(data_y[0:tr_size])\n",
        "\n",
        "X_ts = np.array(data_x[tr_size:])\n",
        "y_ts = np.array(data_y[tr_size:])"
      ],
      "execution_count": 58,
      "outputs": []
    },
    {
      "cell_type": "code",
      "metadata": {
        "colab": {
          "base_uri": "https://localhost:8080/"
        },
        "id": "kd58MnQcy7g4",
        "outputId": "82455f19-e2cf-4f6a-9b9c-8b3426affea2"
      },
      "source": [
        "len(X_tr),len(y_tr)"
      ],
      "execution_count": 97,
      "outputs": [
        {
          "output_type": "execute_result",
          "data": {
            "text/plain": [
              "(146, 146)"
            ]
          },
          "metadata": {
            "tags": []
          },
          "execution_count": 97
        }
      ]
    },
    {
      "cell_type": "code",
      "metadata": {
        "colab": {
          "base_uri": "https://localhost:8080/"
        },
        "id": "trDnE4wxtDzr",
        "outputId": "2d2832c3-df7a-4e3a-fd10-222deb38b7bb"
      },
      "source": [
        "# 모델 생성하기\n",
        "md = Sequential()\n",
        "md.add(LSTM(units= 10, activation='relu', return_sequences=True, input_shape=(window_size,5)))\n",
        "md.add(Dropout(0.1))\n",
        "md.add(LSTM(units=10, activation='relu'))\n",
        "md.add(Dropout(0.1))\n",
        "md.add(Dense(units=1))\n",
        "md.summary()"
      ],
      "execution_count": 89,
      "outputs": [
        {
          "output_type": "stream",
          "text": [
            "Model: \"sequential_4\"\n",
            "_________________________________________________________________\n",
            "Layer (type)                 Output Shape              Param #   \n",
            "=================================================================\n",
            "lstm_8 (LSTM)                (None, 10, 10)            640       \n",
            "_________________________________________________________________\n",
            "dropout_8 (Dropout)          (None, 10, 10)            0         \n",
            "_________________________________________________________________\n",
            "lstm_9 (LSTM)                (None, 10)                840       \n",
            "_________________________________________________________________\n",
            "dropout_9 (Dropout)          (None, 10)                0         \n",
            "_________________________________________________________________\n",
            "dense_4 (Dense)              (None, 1)                 11        \n",
            "=================================================================\n",
            "Total params: 1,491\n",
            "Trainable params: 1,491\n",
            "Non-trainable params: 0\n",
            "_________________________________________________________________\n"
          ],
          "name": "stdout"
        }
      ]
    },
    {
      "cell_type": "code",
      "metadata": {
        "colab": {
          "base_uri": "https://localhost:8080/",
          "height": 644
        },
        "id": "KP-vzoPHvtTv",
        "outputId": "dd52edbc-e8c3-417a-c251-4528f0b5ca99"
      },
      "source": [
        "keras.utils.plot_model(md, show_shapes=True)"
      ],
      "execution_count": 90,
      "outputs": [
        {
          "output_type": "execute_result",
          "data": {
            "image/png": "[encoded data removed]",
            "text/plain": [
              "<IPython.core.display.Image object>"
            ]
          },
          "metadata": {
            "tags": []
          },
          "execution_count": 90
        }
      ]
    },
    {
      "cell_type": "code",
      "metadata": {
        "id": "HgF-Suzpv-PD"
      },
      "source": [
        "# 모델컴파일\n",
        "md.compile(optimizer='adam', loss='mean_squared_error') #> 손실 함수는 평균 제곱오차(MSE)를 사용"
      ],
      "execution_count": 98,
      "outputs": []
    },
    {
      "cell_type": "code",
      "metadata": {
        "id": "iyQu08kHwf9X"
      },
      "source": [
        "# # 콜백(조기 종료, 상태 저장)\n",
        "# early_stop = keras.callbacks.EarlyStopping(patience=10, restore_best_weights=True)\n",
        "# check_point = keras.callbacks.ModelCheckpoint('bert_model.h5', save_best_only=True)"
      ],
      "execution_count": 92,
      "outputs": []
    },
    {
      "cell_type": "code",
      "metadata": {
        "colab": {
          "base_uri": "https://localhost:8080/"
        },
        "id": "w0JIN7Wfwliq",
        "outputId": "e5d81856-662d-4ce3-b741-102774bdb716"
      },
      "source": [
        "# 훈련\n",
        "history = md.fit(X_tr,y_tr,\n",
        "                    batch_size=30, epochs=100)                       #> batch_size ; 한번에 제공되는 훈련 데이터 갯수\n",
        "                    # callbacks=[early_stop,check_point])"
      ],
      "execution_count": 99,
      "outputs": [
        {
          "output_type": "stream",
          "text": [
            "Epoch 1/100\n",
            "5/5 [==============================] - 2s 8ms/step - loss: 0.0052\n",
            "Epoch 2/100\n",
            "5/5 [==============================] - 0s 9ms/step - loss: 0.0046\n",
            "Epoch 3/100\n",
            "5/5 [==============================] - 0s 10ms/step - loss: 0.0037\n",
            "Epoch 4/100\n",
            "5/5 [==============================] - 0s 9ms/step - loss: 0.0074\n",
            "Epoch 5/100\n",
            "5/5 [==============================] - 0s 9ms/step - loss: 0.0050\n",
            "Epoch 6/100\n",
            "5/5 [==============================] - 0s 10ms/step - loss: 0.0057\n",
            "Epoch 7/100\n",
            "5/5 [==============================] - 0s 9ms/step - loss: 0.0047\n",
            "Epoch 8/100\n",
            "5/5 [==============================] - 0s 10ms/step - loss: 0.0049\n",
            "Epoch 9/100\n",
            "5/5 [==============================] - 0s 9ms/step - loss: 0.0053\n",
            "Epoch 10/100\n",
            "5/5 [==============================] - 0s 12ms/step - loss: 0.0044\n",
            "Epoch 11/100\n",
            "5/5 [==============================] - 0s 9ms/step - loss: 0.0083\n",
            "Epoch 12/100\n",
            "5/5 [==============================] - 0s 10ms/step - loss: 0.0051\n",
            "Epoch 13/100\n",
            "5/5 [==============================] - 0s 9ms/step - loss: 0.0048\n",
            "Epoch 14/100\n",
            "5/5 [==============================] - 0s 8ms/step - loss: 0.0051\n",
            "Epoch 15/100\n",
            "5/5 [==============================] - 0s 9ms/step - loss: 0.0056\n",
            "Epoch 16/100\n",
            "5/5 [==============================] - 0s 8ms/step - loss: 0.0055\n",
            "Epoch 17/100\n",
            "5/5 [==============================] - 0s 9ms/step - loss: 0.0064\n",
            "Epoch 18/100\n",
            "5/5 [==============================] - 0s 9ms/step - loss: 0.0058\n",
            "Epoch 19/100\n",
            "5/5 [==============================] - 0s 9ms/step - loss: 0.0040\n",
            "Epoch 20/100\n",
            "5/5 [==============================] - 0s 10ms/step - loss: 0.0071\n",
            "Epoch 21/100\n",
            "5/5 [==============================] - 0s 8ms/step - loss: 0.0059\n",
            "Epoch 22/100\n",
            "5/5 [==============================] - 0s 9ms/step - loss: 0.0062\n",
            "Epoch 23/100\n",
            "5/5 [==============================] - 0s 9ms/step - loss: 0.0058\n",
            "Epoch 24/100\n",
            "5/5 [==============================] - 0s 10ms/step - loss: 0.0054\n",
            "Epoch 25/100\n",
            "5/5 [==============================] - 0s 12ms/step - loss: 0.0039\n",
            "Epoch 26/100\n",
            "5/5 [==============================] - 0s 9ms/step - loss: 0.0037\n",
            "Epoch 27/100\n",
            "5/5 [==============================] - 0s 8ms/step - loss: 0.0065\n",
            "Epoch 28/100\n",
            "5/5 [==============================] - 0s 9ms/step - loss: 0.0039\n",
            "Epoch 29/100\n",
            "5/5 [==============================] - 0s 8ms/step - loss: 0.0060\n",
            "Epoch 30/100\n",
            "5/5 [==============================] - 0s 8ms/step - loss: 0.0051\n",
            "Epoch 31/100\n",
            "5/5 [==============================] - 0s 8ms/step - loss: 0.0034\n",
            "Epoch 32/100\n",
            "5/5 [==============================] - 0s 10ms/step - loss: 0.0039\n",
            "Epoch 33/100\n",
            "5/5 [==============================] - 0s 9ms/step - loss: 0.0106\n",
            "Epoch 34/100\n",
            "5/5 [==============================] - 0s 9ms/step - loss: 0.0053\n",
            "Epoch 35/100\n",
            "5/5 [==============================] - 0s 9ms/step - loss: 0.0049\n",
            "Epoch 36/100\n",
            "5/5 [==============================] - 0s 8ms/step - loss: 0.0049\n",
            "Epoch 37/100\n",
            "5/5 [==============================] - 0s 10ms/step - loss: 0.0070\n",
            "Epoch 38/100\n",
            "5/5 [==============================] - 0s 9ms/step - loss: 0.0076\n",
            "Epoch 39/100\n",
            "5/5 [==============================] - 0s 8ms/step - loss: 0.0051\n",
            "Epoch 40/100\n",
            "5/5 [==============================] - 0s 10ms/step - loss: 0.0051\n",
            "Epoch 41/100\n",
            "5/5 [==============================] - 0s 10ms/step - loss: 0.0047\n",
            "Epoch 42/100\n",
            "5/5 [==============================] - 0s 12ms/step - loss: 0.0052\n",
            "Epoch 43/100\n",
            "5/5 [==============================] - 0s 10ms/step - loss: 0.0062\n",
            "Epoch 44/100\n",
            "5/5 [==============================] - 0s 12ms/step - loss: 0.0038\n",
            "Epoch 45/100\n",
            "5/5 [==============================] - 0s 10ms/step - loss: 0.0055\n",
            "Epoch 46/100\n",
            "5/5 [==============================] - 0s 10ms/step - loss: 0.0053\n",
            "Epoch 47/100\n",
            "5/5 [==============================] - 0s 11ms/step - loss: 0.0047\n",
            "Epoch 48/100\n",
            "5/5 [==============================] - 0s 11ms/step - loss: 0.0062\n",
            "Epoch 49/100\n",
            "5/5 [==============================] - 0s 9ms/step - loss: 0.0046\n",
            "Epoch 50/100\n",
            "5/5 [==============================] - 0s 10ms/step - loss: 0.0038\n",
            "Epoch 51/100\n",
            "5/5 [==============================] - 0s 11ms/step - loss: 0.0050\n",
            "Epoch 52/100\n",
            "5/5 [==============================] - 0s 10ms/step - loss: 0.0045\n",
            "Epoch 53/100\n",
            "5/5 [==============================] - 0s 10ms/step - loss: 0.0037\n",
            "Epoch 54/100\n",
            "5/5 [==============================] - 0s 11ms/step - loss: 0.0046\n",
            "Epoch 55/100\n",
            "5/5 [==============================] - 0s 12ms/step - loss: 0.0038\n",
            "Epoch 56/100\n",
            "5/5 [==============================] - 0s 11ms/step - loss: 0.0044\n",
            "Epoch 57/100\n",
            "5/5 [==============================] - 0s 11ms/step - loss: 0.0031\n",
            "Epoch 58/100\n",
            "5/5 [==============================] - 0s 9ms/step - loss: 0.0040\n",
            "Epoch 59/100\n",
            "5/5 [==============================] - 0s 9ms/step - loss: 0.0044\n",
            "Epoch 60/100\n",
            "5/5 [==============================] - 0s 10ms/step - loss: 0.0054\n",
            "Epoch 61/100\n",
            "5/5 [==============================] - 0s 8ms/step - loss: 0.0054\n",
            "Epoch 62/100\n",
            "5/5 [==============================] - 0s 8ms/step - loss: 0.0032\n",
            "Epoch 63/100\n",
            "5/5 [==============================] - 0s 9ms/step - loss: 0.0042\n",
            "Epoch 64/100\n",
            "5/5 [==============================] - 0s 8ms/step - loss: 0.0055\n",
            "Epoch 65/100\n",
            "5/5 [==============================] - 0s 9ms/step - loss: 0.0035\n",
            "Epoch 66/100\n",
            "5/5 [==============================] - 0s 8ms/step - loss: 0.0031\n",
            "Epoch 67/100\n",
            "5/5 [==============================] - 0s 10ms/step - loss: 0.0047\n",
            "Epoch 68/100\n",
            "5/5 [==============================] - 0s 8ms/step - loss: 0.0044\n",
            "Epoch 69/100\n",
            "5/5 [==============================] - 0s 8ms/step - loss: 0.0036\n",
            "Epoch 70/100\n",
            "5/5 [==============================] - 0s 10ms/step - loss: 0.0039\n",
            "Epoch 71/100\n",
            "5/5 [==============================] - 0s 9ms/step - loss: 0.0027\n",
            "Epoch 72/100\n",
            "5/5 [==============================] - 0s 13ms/step - loss: 0.0042\n",
            "Epoch 73/100\n",
            "5/5 [==============================] - 0s 9ms/step - loss: 0.0037\n",
            "Epoch 74/100\n",
            "5/5 [==============================] - 0s 10ms/step - loss: 0.0034\n",
            "Epoch 75/100\n",
            "5/5 [==============================] - 0s 9ms/step - loss: 0.0042\n",
            "Epoch 76/100\n",
            "5/5 [==============================] - 0s 9ms/step - loss: 0.0033\n",
            "Epoch 77/100\n",
            "5/5 [==============================] - 0s 8ms/step - loss: 0.0052\n",
            "Epoch 78/100\n",
            "5/5 [==============================] - 0s 8ms/step - loss: 0.0047\n",
            "Epoch 79/100\n",
            "5/5 [==============================] - 0s 9ms/step - loss: 0.0030\n",
            "Epoch 80/100\n",
            "5/5 [==============================] - 0s 9ms/step - loss: 0.0055\n",
            "Epoch 81/100\n",
            "5/5 [==============================] - 0s 10ms/step - loss: 0.0043\n",
            "Epoch 82/100\n",
            "5/5 [==============================] - 0s 10ms/step - loss: 0.0038\n",
            "Epoch 83/100\n",
            "5/5 [==============================] - 0s 9ms/step - loss: 0.0036\n",
            "Epoch 84/100\n",
            "5/5 [==============================] - 0s 9ms/step - loss: 0.0040\n",
            "Epoch 85/100\n",
            "5/5 [==============================] - 0s 9ms/step - loss: 0.0038\n",
            "Epoch 86/100\n",
            "5/5 [==============================] - 0s 9ms/step - loss: 0.0027\n",
            "Epoch 87/100\n",
            "5/5 [==============================] - 0s 9ms/step - loss: 0.0045\n",
            "Epoch 88/100\n",
            "5/5 [==============================] - 0s 10ms/step - loss: 0.0033\n",
            "Epoch 89/100\n",
            "5/5 [==============================] - 0s 9ms/step - loss: 0.0038\n",
            "Epoch 90/100\n",
            "5/5 [==============================] - 0s 8ms/step - loss: 0.0065\n",
            "Epoch 91/100\n",
            "5/5 [==============================] - 0s 8ms/step - loss: 0.0043\n",
            "Epoch 92/100\n",
            "5/5 [==============================] - 0s 9ms/step - loss: 0.0036\n",
            "Epoch 93/100\n",
            "5/5 [==============================] - 0s 9ms/step - loss: 0.0033\n",
            "Epoch 94/100\n",
            "5/5 [==============================] - 0s 8ms/step - loss: 0.0030\n",
            "Epoch 95/100\n",
            "5/5 [==============================] - 0s 8ms/step - loss: 0.0031\n",
            "Epoch 96/100\n",
            "5/5 [==============================] - 0s 9ms/step - loss: 0.0053\n",
            "Epoch 97/100\n",
            "5/5 [==============================] - 0s 9ms/step - loss: 0.0042\n",
            "Epoch 98/100\n",
            "5/5 [==============================] - 0s 9ms/step - loss: 0.0037\n",
            "Epoch 99/100\n",
            "5/5 [==============================] - 0s 10ms/step - loss: 0.0034\n",
            "Epoch 100/100\n",
            "5/5 [==============================] - 0s 11ms/step - loss: 0.0025\n"
          ],
          "name": "stdout"
        }
      ]
    },
    {
      "cell_type": "code",
      "metadata": {
        "id": "Y0dxuJJt1C3q"
      },
      "source": [
        "y_prd = md.predict(X_ts)"
      ],
      "execution_count": 100,
      "outputs": []
    },
    {
      "cell_type": "code",
      "metadata": {
        "colab": {
          "base_uri": "https://localhost:8080/",
          "height": 279
        },
        "id": "u1UYe8Lk0VcY",
        "outputId": "99a7f4a1-4662-4648-8e24-c9410c847a40"
      },
      "source": [
        "plt.figure()\n",
        "plt.plot(y_ts, color='red', label='real SEC stock price')\n",
        "plt.plot(y_prd, color='blue', label='Predicted SEC stock price')\n",
        "plt.xlabel('time')\n",
        "plt.ylabel('stock price')\n",
        "plt.legend()\n",
        "plt.show()"
      ],
      "execution_count": 101,
      "outputs": [
        {
          "output_type": "display_data",
          "data": {
            "image/png": "[encoded data removed]",
            "text/plain": [
              "<Figure size 432x288 with 1 Axes>"
            ]
          },
          "metadata": {
            "tags": [],
            "needs_background": "light"
          }
        }
      ]
    }
  ]
}