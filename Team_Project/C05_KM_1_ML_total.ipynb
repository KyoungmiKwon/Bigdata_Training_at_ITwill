{
  "nbformat": 4,
  "nbformat_minor": 0,
  "metadata": {
    "colab": {
      "name": "C05_KM_1_ML_total.ipynb",
      "provenance": [],
      "collapsed_sections": [],
      "mount_file_id": "11riAfNYbs1YOUc2_2NTuttLxSeKc0T9G",
      "authorship_tag": "ABX9TyM44cstisSsEnK6B2s0D2M6",
      "include_colab_link": true
    },
    "kernelspec": {
      "name": "python3",
      "display_name": "Python 3"
    },
    "language_info": {
      "name": "python"
    }
  },
  "cells": [
    {
      "cell_type": "markdown",
      "metadata": {
        "id": "view-in-github",
        "colab_type": "text"
      },
      "source": [
        "<a href=\"https://colab.research.google.com/github/KyoungmiKwon/Bigdata_Training_at_ITwill/blob/main/Team_Project/C05_KM_1_ML_total.ipynb\" target=\"_parent\"><img src=\"https://colab.research.google.com/assets/colab-badge.svg\" alt=\"Open In Colab\"/></a>"
      ]
    },
    {
      "cell_type": "markdown",
      "metadata": {
        "id": "ABpcSHSPLUUv"
      },
      "source": [
        "# import"
      ]
    },
    {
      "cell_type": "code",
      "metadata": {
        "id": "KmaWmO2lG2hU"
      },
      "source": [
        "import pandas as pd\n",
        "import numpy as np\n",
        "import matplotlib.pyplot as plt\n",
        "\n",
        "# 벡터화\n",
        "import logging # word2vec 학습과정에서 로그 메세지를 양식에 맞는 info 수준으로 볼 수 있다.\n",
        "from gensim.models import word2vec # word2vec\n",
        "\n",
        "from sklearn.feature_extraction.text import TfidfVectorizer # TF-IDF\n",
        "from gensim.models.doc2vec import TaggedDocument,Doc2Vec # Doc2vec\n",
        "\n",
        "# 머신러닝\n",
        "from sklearn.model_selection import train_test_split, cross_validate, cross_val_score\n",
        "\n",
        "from sklearn.svm import SVC\n",
        "\n",
        "from sklearn.neighbors import KNeighborsClassifier \n",
        "\n",
        "from sklearn.linear_model import LogisticRegression\n",
        "\n",
        "from sklearn.linear_model import SGDClassifier\n",
        "from sklearn.metrics import confusion_matrix, classification_report\n",
        "\n",
        "from sklearn.preprocessing import StandardScaler\n",
        "\n",
        "from sklearn.model_selection import GridSearchCV,RandomizedSearchCV # 하이퍼 파라미터 튜닝\n",
        "from sklearn.tree import DecisionTreeClassifier, plot_tree\n",
        "from sklearn.metrics import confusion_matrix, classification_report\n",
        "\n",
        "from sklearn.ensemble import RandomForestClassifier, VotingClassifier, BaggingClassifier\n",
        "from sklearn.ensemble import ExtraTreesClassifier, GradientBoostingClassifier\n",
        "from xgboost import XGBClassifier"
      ],
      "execution_count": null,
      "outputs": []
    },
    {
      "cell_type": "markdown",
      "metadata": {
        "id": "Ivdt3X4wLWRk"
      },
      "source": [
        "# 데이터불러오기"
      ]
    },
    {
      "cell_type": "code",
      "metadata": {
        "id": "vgSodOiNLLjd"
      },
      "source": [
        "file_path = '/content/drive/MyDrive/Colab Notebooks/Project/C03_KM_Text_Preprocessing_2.xlsx'\n",
        "data = pd.read_excel(file_path,sheet_name='all_resize',header=0)"
      ],
      "execution_count": null,
      "outputs": []
    },
    {
      "cell_type": "code",
      "metadata": {
        "id": "SiVlaomOLfnL"
      },
      "source": [
        "len(data)\n",
        "text = data['seperate']"
      ],
      "execution_count": null,
      "outputs": []
    },
    {
      "cell_type": "markdown",
      "metadata": {
        "id": "clLUCvBuMaW-"
      },
      "source": [
        "# Word2Vec"
      ]
    },
    {
      "cell_type": "markdown",
      "metadata": {
        "id": "gq6g30BgLm6D"
      },
      "source": [
        "## 벡터화"
      ]
    },
    {
      "cell_type": "code",
      "metadata": {
        "id": "esAB_nVjL6Kr"
      },
      "source": [
        "def get_vector(words, model, num_features):\n",
        "    \"\"\"하나의 리뷰에 대해 전체 단어에 대한 개별 단어의 평균값을 계산하는 함수\n",
        "    words :  리뷰 하나 (단어 모음집)\n",
        "    model :  학습한 모델\n",
        "    num_features : Word2Vec embedding 할 때 정했던 벡터의 차원 수\"\"\"\n",
        "\n",
        "    # 출력 벡터 초기화 - np.zero 벡터 생성\n",
        "    vec = np.zeros((num_features), dtype=np.float32)\n",
        "\n",
        "    num_words = 0\n",
        "    # 어휘 사전 준비\n",
        "    idx2word_set = set(model.wv.index2word)\n",
        "\n",
        "    for w in words:\n",
        "        if w in idx2word_set: # 사전에 해당하는 단어가 있으면,\n",
        "            num_words = 1 \n",
        "            # 해당 단어에 대해 단어 벡터를 더함 (기본값이 0이므로, 벡터값을 더해 줌으로서 단어의 벡터값으로 치환하여 주는 것임)\n",
        "            vec = np.add(vec,model[w])\n",
        "    \n",
        "    # 문장의 단어 수 만큼 나누어 벡터의 평균값을 문장 벡터로 함\n",
        "    f_vec = np.divide(vec, num_words)\n",
        "    return f_vec"
      ],
      "execution_count": null,
      "outputs": []
    },
    {
      "cell_type": "code",
      "metadata": {
        "id": "bnggktmfL7SP"
      },
      "source": [
        "def get_vector_dataset(news, model, num_features):\n",
        "    \"\"\" 리뷰 데이터 셋에 대해 리뷰 별(리뷰 하나의)평균 값을 계산하는 함수\n",
        "    news  :  리뷰 데이터 셋\n",
        "    model :  학습한 모델\n",
        "    num_features : embedding 할 때 정했던 벡터의 차원 수\"\"\"\n",
        "    \n",
        "    dataset = []\n",
        "\n",
        "    for s in news:\n",
        "        dataset.append(get_vector(s,model,num_features))\n",
        "\n",
        "    news_vec = np.stack(dataset)\n",
        "    return news_vec"
      ],
      "execution_count": null,
      "outputs": []
    },
    {
      "cell_type": "code",
      "metadata": {
        "id": "Y8dQLcPMLZsl"
      },
      "source": [
        "# 진행 상황 나오는 log 설정\n",
        "logging.basicConfig(format='%(asctime)s: %(levelname)s : %(message)s',level=logging.INFO)\n",
        "# 학습 시 필요한 하이퍼파라미터\n",
        "n_worker = 4        # 프로세스 갯수 ,defalut = 3\n",
        "n_size = 600        # 워드 벡터 특정값 수 (크기),  defalut = 100\n",
        "min_cnt = 10        # 단어에 대한 최소 빈도 단어 수, defalut = 5\n",
        "context =  5        # 컨텍스트 윈도우의 크기, defalut = 5\n",
        "d_sampling = 0.001  # 다운 샘플링 수, defalut = 0.001"
      ],
      "execution_count": null,
      "outputs": []
    },
    {
      "cell_type": "code",
      "metadata": {
        "colab": {
          "base_uri": "https://localhost:8080/"
        },
        "id": "v7msK1_ALxk7",
        "outputId": "be245501-6b67-4c4e-c16e-66f82f570e0d"
      },
      "source": [
        "# 벡터모델 훈련\n",
        "md_word = word2vec.Word2Vec(text,\n",
        "                       workers = n_worker,\n",
        "                       size = n_size,\n",
        "                       min_count = min_cnt,\n",
        "                       window = context,\n",
        "                       sample = d_sampling)"
      ],
      "execution_count": null,
      "outputs": [
        {
          "output_type": "stream",
          "text": [
            "2021-04-30 05:12:15,413: INFO : collecting all words and their counts\n",
            "2021-04-30 05:12:15,416: WARNING : Each 'sentences' item should be a list of words (usually unicode strings). First item here is instead plain <class 'str'>.\n",
            "2021-04-30 05:12:15,419: INFO : PROGRESS: at sentence #0, processed 0 words, keeping 0 word types\n",
            "2021-04-30 05:12:15,574: INFO : collected 452 word types from a corpus of 1006005 raw words and 1352 sentences\n",
            "2021-04-30 05:12:15,578: INFO : Loading a fresh vocabulary\n",
            "2021-04-30 05:12:15,582: INFO : effective_min_count=10 retains 452 unique words (100% of original 452, drops 0)\n",
            "2021-04-30 05:12:15,585: INFO : effective_min_count=10 leaves 1006005 word corpus (100% of original 1006005, drops 0)\n",
            "2021-04-30 05:12:15,593: INFO : deleting the raw counts dictionary of 452 items\n",
            "2021-04-30 05:12:15,595: INFO : sample=0.001 downsamples 29 most-common words\n",
            "2021-04-30 05:12:15,597: INFO : downsampling leaves estimated 372884 word corpus (37.1% of prior 1006005)\n",
            "2021-04-30 05:12:15,602: INFO : estimated required memory for 452 words and 600 dimensions: 2395600 bytes\n",
            "2021-04-30 05:12:15,604: INFO : resetting layer weights\n",
            "2021-04-30 05:12:15,736: INFO : training model with 4 workers on 452 vocabulary and 600 features, using sg=0 hs=0 sample=0.001 negative=5 window=5\n",
            "2021-04-30 05:12:16,747: INFO : EPOCH 1 - PROGRESS: at 69.30% examples, 262589 words/s, in_qsize 6, out_qsize 1\n",
            "2021-04-30 05:12:17,100: INFO : worker thread finished; awaiting finish of 3 more threads\n",
            "2021-04-30 05:12:17,103: INFO : worker thread finished; awaiting finish of 2 more threads\n",
            "2021-04-30 05:12:17,111: INFO : worker thread finished; awaiting finish of 1 more threads\n",
            "2021-04-30 05:12:17,125: INFO : worker thread finished; awaiting finish of 0 more threads\n",
            "2021-04-30 05:12:17,127: INFO : EPOCH - 1 : training on 1006005 raw words (372487 effective words) took 1.4s, 269375 effective words/s\n",
            "2021-04-30 05:12:18,137: INFO : EPOCH 2 - PROGRESS: at 72.12% examples, 273737 words/s, in_qsize 7, out_qsize 0\n",
            "2021-04-30 05:12:18,455: INFO : worker thread finished; awaiting finish of 3 more threads\n",
            "2021-04-30 05:12:18,464: INFO : worker thread finished; awaiting finish of 2 more threads\n",
            "2021-04-30 05:12:18,477: INFO : worker thread finished; awaiting finish of 1 more threads\n",
            "2021-04-30 05:12:18,483: INFO : worker thread finished; awaiting finish of 0 more threads\n",
            "2021-04-30 05:12:18,485: INFO : EPOCH - 2 : training on 1006005 raw words (373033 effective words) took 1.3s, 276336 effective words/s\n",
            "2021-04-30 05:12:19,497: INFO : EPOCH 3 - PROGRESS: at 73.08% examples, 276798 words/s, in_qsize 7, out_qsize 0\n",
            "2021-04-30 05:12:19,809: INFO : worker thread finished; awaiting finish of 3 more threads\n",
            "2021-04-30 05:12:19,814: INFO : worker thread finished; awaiting finish of 2 more threads\n",
            "2021-04-30 05:12:19,825: INFO : worker thread finished; awaiting finish of 1 more threads\n",
            "2021-04-30 05:12:19,832: INFO : worker thread finished; awaiting finish of 0 more threads\n",
            "2021-04-30 05:12:19,833: INFO : EPOCH - 3 : training on 1006005 raw words (372777 effective words) took 1.3s, 278423 effective words/s\n",
            "2021-04-30 05:12:20,850: INFO : EPOCH 4 - PROGRESS: at 73.08% examples, 275014 words/s, in_qsize 8, out_qsize 1\n",
            "2021-04-30 05:12:21,126: INFO : worker thread finished; awaiting finish of 3 more threads\n",
            "2021-04-30 05:12:21,147: INFO : worker thread finished; awaiting finish of 2 more threads\n",
            "2021-04-30 05:12:21,156: INFO : worker thread finished; awaiting finish of 1 more threads\n",
            "2021-04-30 05:12:21,158: INFO : worker thread finished; awaiting finish of 0 more threads\n",
            "2021-04-30 05:12:21,159: INFO : EPOCH - 4 : training on 1006005 raw words (372757 effective words) took 1.3s, 282389 effective words/s\n",
            "2021-04-30 05:12:22,181: INFO : EPOCH 5 - PROGRESS: at 73.89% examples, 278929 words/s, in_qsize 7, out_qsize 0\n",
            "2021-04-30 05:12:22,455: INFO : worker thread finished; awaiting finish of 3 more threads\n",
            "2021-04-30 05:12:22,462: INFO : worker thread finished; awaiting finish of 2 more threads\n",
            "2021-04-30 05:12:22,479: INFO : worker thread finished; awaiting finish of 1 more threads\n",
            "2021-04-30 05:12:22,482: INFO : worker thread finished; awaiting finish of 0 more threads\n",
            "2021-04-30 05:12:22,484: INFO : EPOCH - 5 : training on 1006005 raw words (372915 effective words) took 1.3s, 284107 effective words/s\n",
            "2021-04-30 05:12:22,485: INFO : training on a 5030025 raw words (1863969 effective words) took 6.7s, 276269 effective words/s\n"
          ],
          "name": "stderr"
        }
      ]
    },
    {
      "cell_type": "code",
      "metadata": {
        "colab": {
          "base_uri": "https://localhost:8080/"
        },
        "id": "rwl56UYXL1eb",
        "outputId": "416f965d-cb32-4e8f-bba7-1872aefcd08e"
      },
      "source": [
        "# 벡터화모델 저장\n",
        "# 모델 이름을 하이퍼파라미터 설정 내역으로 하면 나중에 참고하기 좋음.\n",
        "md_name = \"W2V__4_workers__600_size__10_mincnt\"\n",
        "md_word.save(md_name)\n",
        "\n",
        "# Word2Vec.load() 로 다시 사용가능!!"
      ],
      "execution_count": null,
      "outputs": [
        {
          "output_type": "stream",
          "text": [
            "2021-04-30 05:12:22,496: INFO : saving Word2Vec object under W2V__4_workers__600_size__10_mincnt, separately None\n",
            "2021-04-30 05:12:22,499: INFO : not storing attribute vectors_norm\n",
            "2021-04-30 05:12:22,501: INFO : not storing attribute cum_table\n",
            "2021-04-30 05:12:22,539: INFO : saved W2V__4_workers__600_size__10_mincnt\n"
          ],
          "name": "stderr"
        }
      ]
    },
    {
      "cell_type": "code",
      "metadata": {
        "colab": {
          "base_uri": "https://localhost:8080/"
        },
        "id": "Tr6G7EnuMDSz",
        "outputId": "ca895e49-c3c3-4447-d1f0-23c930287699"
      },
      "source": [
        "data_vec_word = get_vector_dataset(text, md_word, n_size) # (데이터셋, 모델, 임베딩 단어수)\n",
        "len(data_vec_word)"
      ],
      "execution_count": null,
      "outputs": [
        {
          "output_type": "stream",
          "text": [
            "/usr/local/lib/python3.7/dist-packages/ipykernel_launcher.py:18: DeprecationWarning: Call to deprecated `__getitem__` (Method will be removed in 4.0.0, use self.wv.__getitem__() instead).\n"
          ],
          "name": "stderr"
        },
        {
          "output_type": "execute_result",
          "data": {
            "text/plain": [
              "1352"
            ]
          },
          "metadata": {
            "tags": []
          },
          "execution_count": 13
        }
      ]
    },
    {
      "cell_type": "code",
      "metadata": {
        "id": "OJOKIDyyMwhi"
      },
      "source": [
        "# 부정,중립,긍정으로 할 경우\n",
        "X = data_vec_word\n",
        "y = np.array(data['S'])"
      ],
      "execution_count": null,
      "outputs": []
    },
    {
      "cell_type": "code",
      "metadata": {
        "id": "UPv8b5IyMzTf"
      },
      "source": [
        "# 긍정, 긍정이 아닌 경우 : 이진분류로 치환시\n",
        "y_1 = data['S'].replace(0,-1)\n",
        "y = np.array(y_1)"
      ],
      "execution_count": null,
      "outputs": []
    },
    {
      "cell_type": "markdown",
      "metadata": {
        "id": "YjC4pKQpNAI-"
      },
      "source": [
        "## 0. 셋트분리"
      ]
    },
    {
      "cell_type": "code",
      "metadata": {
        "id": "4M0XWlgjM5Hv"
      },
      "source": [
        "# for Word2Vec\n",
        "X_tr, X_ts, y_tr, y_ts = train_test_split(X,y,             \n",
        "                                          test_size = 0.2,\n",
        "                                          stratify = y)"
      ],
      "execution_count": null,
      "outputs": []
    },
    {
      "cell_type": "markdown",
      "metadata": {
        "id": "-NLxBq4PWUGt"
      },
      "source": [
        "## 일반 머신러닝 모델 성능"
      ]
    },
    {
      "cell_type": "code",
      "metadata": {
        "id": "kfWSJvxMNNok"
      },
      "source": [
        "# 5개의 머신 러닝 모델(학습기) 생성\n",
        "log_clf = LogisticRegression()\n",
        "sgd_clf = SGDClassifier(loss='log')\n",
        "svm_clf = SVC(probability=True)\n",
        "tree_clf = DecisionTreeClassifier()\n",
        "knn_clf = KNeighborsClassifier()"
      ],
      "execution_count": null,
      "outputs": []
    },
    {
      "cell_type": "code",
      "metadata": {
        "colab": {
          "base_uri": "https://localhost:8080/"
        },
        "id": "pzBpnoIbNaXF",
        "outputId": "e5fbd62e-2c44-4c58-d407-75756c441d33"
      },
      "source": [
        "classifiers = [log_clf, sgd_clf, svm_clf, tree_clf, knn_clf]\n",
        "for clf in classifiers:\n",
        "    clf.fit(X_tr, y_tr)  # 모델 훈련\n",
        "    acc = clf.score(X_ts, y_ts)  # 모델 평가\n",
        "    print(clf.__class__.__name__, 'accuracy:', acc)"
      ],
      "execution_count": null,
      "outputs": [
        {
          "output_type": "stream",
          "text": [
            "/usr/local/lib/python3.7/dist-packages/sklearn/linear_model/_logistic.py:940: ConvergenceWarning: lbfgs failed to converge (status=1):\n",
            "STOP: TOTAL NO. of ITERATIONS REACHED LIMIT.\n",
            "\n",
            "Increase the number of iterations (max_iter) or scale the data as shown in:\n",
            "    https://scikit-learn.org/stable/modules/preprocessing.html\n",
            "Please also refer to the documentation for alternative solver options:\n",
            "    https://scikit-learn.org/stable/modules/linear_model.html#logistic-regression\n",
            "  extra_warning_msg=_LOGISTIC_SOLVER_CONVERGENCE_MSG)\n"
          ],
          "name": "stderr"
        },
        {
          "output_type": "stream",
          "text": [
            "LogisticRegression accuracy: 0.6678966789667896\n",
            "SGDClassifier accuracy: 0.6162361623616236\n",
            "SVC accuracy: 0.6014760147601476\n",
            "DecisionTreeClassifier accuracy: 0.6199261992619927\n",
            "KNeighborsClassifier accuracy: 0.6309963099630996\n"
          ],
          "name": "stdout"
        }
      ]
    },
    {
      "cell_type": "markdown",
      "metadata": {
        "id": "GCtQTsrHOdcz"
      },
      "source": [
        "## Voting Ensemble"
      ]
    },
    {
      "cell_type": "code",
      "metadata": {
        "id": "l5GO2u9hOc3o"
      },
      "source": [
        "# voting ensemble 학습기 생성\n",
        "vote_clf = VotingClassifier(estimators=[('log', log_clf), \n",
        "                                        ('sgd', sgd_clf), \n",
        "                                        ('svm', svm_clf), \n",
        "                                        ('tree', tree_clf), \n",
        "                                        ('knn', knn_clf)], \n",
        "                            voting='soft', \n",
        "                            n_jobs=-1)"
      ],
      "execution_count": null,
      "outputs": []
    },
    {
      "cell_type": "code",
      "metadata": {
        "colab": {
          "base_uri": "https://localhost:8080/"
        },
        "id": "xMkM3kZhOzAL",
        "outputId": "89cb6875-c7e8-4914-c330-06ff08d1c379"
      },
      "source": [
        "# 모델 학습\n",
        "vote_clf.fit(X_tr, y_tr)"
      ],
      "execution_count": null,
      "outputs": [
        {
          "output_type": "execute_result",
          "data": {
            "text/plain": [
              "VotingClassifier(estimators=[('log',\n",
              "                              LogisticRegression(C=1.0, class_weight=None,\n",
              "                                                 dual=False, fit_intercept=True,\n",
              "                                                 intercept_scaling=1,\n",
              "                                                 l1_ratio=None, max_iter=100,\n",
              "                                                 multi_class='auto',\n",
              "                                                 n_jobs=None, penalty='l2',\n",
              "                                                 random_state=None,\n",
              "                                                 solver='lbfgs', tol=0.0001,\n",
              "                                                 verbose=0, warm_start=False)),\n",
              "                             ('sgd',\n",
              "                              SGDClassifier(alpha=0.0001, average=False,\n",
              "                                            class_weight=None,\n",
              "                                            early_stopp...\n",
              "                                                     min_impurity_split=None,\n",
              "                                                     min_samples_leaf=1,\n",
              "                                                     min_samples_split=2,\n",
              "                                                     min_weight_fraction_leaf=0.0,\n",
              "                                                     presort='deprecated',\n",
              "                                                     random_state=None,\n",
              "                                                     splitter='best')),\n",
              "                             ('knn',\n",
              "                              KNeighborsClassifier(algorithm='auto',\n",
              "                                                   leaf_size=30,\n",
              "                                                   metric='minkowski',\n",
              "                                                   metric_params=None,\n",
              "                                                   n_jobs=None, n_neighbors=5,\n",
              "                                                   p=2, weights='uniform'))],\n",
              "                 flatten_transform=True, n_jobs=-1, voting='soft',\n",
              "                 weights=None)"
            ]
          },
          "metadata": {
            "tags": []
          },
          "execution_count": 29
        }
      ]
    },
    {
      "cell_type": "code",
      "metadata": {
        "colab": {
          "base_uri": "https://localhost:8080/"
        },
        "id": "UCR3XfJgPDp0",
        "outputId": "7e1fc98d-ad78-4ec5-b346-33f0ec3432b2"
      },
      "source": [
        "# 모델 평가\n",
        "vote_clf.score(X_ts, y_ts)"
      ],
      "execution_count": null,
      "outputs": [
        {
          "output_type": "execute_result",
          "data": {
            "text/plain": [
              "0.6642066420664207"
            ]
          },
          "metadata": {
            "tags": []
          },
          "execution_count": 31
        }
      ]
    },
    {
      "cell_type": "markdown",
      "metadata": {
        "id": "Ao4-mh7CPaQk"
      },
      "source": [
        "## Bagging Ensemble"
      ]
    },
    {
      "cell_type": "code",
      "metadata": {
        "id": "5a9XeX4SPVaQ"
      },
      "source": [
        "# Bagging 분류기 객체 생성\n",
        "bagging_clf = BaggingClassifier(base_estimator=tree_clf, \n",
        "                                n_estimators=50,\n",
        "                                max_samples=100,\n",
        "                                bootstrap=True,\n",
        "                                oob_score=True,\n",
        "                                n_jobs=-1\n",
        "                                )"
      ],
      "execution_count": null,
      "outputs": []
    },
    {
      "cell_type": "code",
      "metadata": {
        "colab": {
          "base_uri": "https://localhost:8080/"
        },
        "id": "XiPTgLnEP5JN",
        "outputId": "b692b4f8-7426-4322-8a4e-c2b575ed3651"
      },
      "source": [
        "# 모델 훈련\n",
        "bagging_clf.fit(X_tr, y_tr)"
      ],
      "execution_count": null,
      "outputs": [
        {
          "output_type": "execute_result",
          "data": {
            "text/plain": [
              "BaggingClassifier(base_estimator=DecisionTreeClassifier(ccp_alpha=0.0,\n",
              "                                                        class_weight=None,\n",
              "                                                        criterion='gini',\n",
              "                                                        max_depth=None,\n",
              "                                                        max_features=None,\n",
              "                                                        max_leaf_nodes=None,\n",
              "                                                        min_impurity_decrease=0.0,\n",
              "                                                        min_impurity_split=None,\n",
              "                                                        min_samples_leaf=1,\n",
              "                                                        min_samples_split=2,\n",
              "                                                        min_weight_fraction_leaf=0.0,\n",
              "                                                        presort='deprecated',\n",
              "                                                        random_state=None,\n",
              "                                                        splitter='best'),\n",
              "                  bootstrap=True, bootstrap_features=False, max_features=1.0,\n",
              "                  max_samples=100, n_estimators=50, n_jobs=-1, oob_score=True,\n",
              "                  random_state=None, verbose=0, warm_start=False)"
            ]
          },
          "metadata": {
            "tags": []
          },
          "execution_count": 46
        }
      ]
    },
    {
      "cell_type": "code",
      "metadata": {
        "colab": {
          "base_uri": "https://localhost:8080/"
        },
        "id": "aSRFoRwuP_64",
        "outputId": "0cd0fa5f-9297-414f-f6bc-e4a2ec55c3e0"
      },
      "source": [
        "# 모델 평가\n",
        "bagging_clf.score(X_ts, y_ts)"
      ],
      "execution_count": null,
      "outputs": [
        {
          "output_type": "execute_result",
          "data": {
            "text/plain": [
              "0.6605166051660517"
            ]
          },
          "metadata": {
            "tags": []
          },
          "execution_count": 47
        }
      ]
    },
    {
      "cell_type": "code",
      "metadata": {
        "colab": {
          "base_uri": "https://localhost:8080/"
        },
        "id": "3BO0pHDIQFCn",
        "outputId": "c258fc3c-b1a3-4c2f-8724-67e878e41cfe"
      },
      "source": [
        "# OOB score\n",
        "bagging_clf.oob_score_  #> 보통 테스트 셋의 점수와 비슷."
      ],
      "execution_count": null,
      "outputs": [
        {
          "output_type": "execute_result",
          "data": {
            "text/plain": [
              "0.6577243293246994"
            ]
          },
          "metadata": {
            "tags": []
          },
          "execution_count": 48
        }
      ]
    },
    {
      "cell_type": "markdown",
      "metadata": {
        "id": "p2nrQBT7QOLP"
      },
      "source": [
        "## RandomForest"
      ]
    },
    {
      "cell_type": "code",
      "metadata": {
        "id": "EzCThDDEQJWn"
      },
      "source": [
        "# 모델 생성\n",
        "forest_clf = RandomForestClassifier(n_estimators=50,\n",
        "                                    max_samples=100,\n",
        "                                    oob_score=True,\n",
        "                                    n_jobs=-1\n",
        "                                    )"
      ],
      "execution_count": null,
      "outputs": []
    },
    {
      "cell_type": "code",
      "metadata": {
        "colab": {
          "base_uri": "https://localhost:8080/"
        },
        "id": "wFEvuSaXQUQZ",
        "outputId": "d273b1ba-7074-4fd4-ad0d-e9976499cba7"
      },
      "source": [
        "# 모델 훈련\n",
        "forest_clf.fit(X_tr, y_tr)"
      ],
      "execution_count": null,
      "outputs": [
        {
          "output_type": "execute_result",
          "data": {
            "text/plain": [
              "RandomForestClassifier(bootstrap=True, ccp_alpha=0.0, class_weight=None,\n",
              "                       criterion='gini', max_depth=None, max_features='auto',\n",
              "                       max_leaf_nodes=None, max_samples=100,\n",
              "                       min_impurity_decrease=0.0, min_impurity_split=None,\n",
              "                       min_samples_leaf=1, min_samples_split=2,\n",
              "                       min_weight_fraction_leaf=0.0, n_estimators=50, n_jobs=-1,\n",
              "                       oob_score=True, random_state=None, verbose=0,\n",
              "                       warm_start=False)"
            ]
          },
          "metadata": {
            "tags": []
          },
          "execution_count": 50
        }
      ]
    },
    {
      "cell_type": "code",
      "metadata": {
        "colab": {
          "base_uri": "https://localhost:8080/"
        },
        "id": "InzlF_3uQZ2K",
        "outputId": "545b05c0-f39a-45c7-f278-d4af2ddbf97f"
      },
      "source": [
        "# 테스트 셋 평가\n",
        "forest_clf.score(X_ts, y_ts)"
      ],
      "execution_count": null,
      "outputs": [
        {
          "output_type": "execute_result",
          "data": {
            "text/plain": [
              "0.6199261992619927"
            ]
          },
          "metadata": {
            "tags": []
          },
          "execution_count": 52
        }
      ]
    },
    {
      "cell_type": "code",
      "metadata": {
        "colab": {
          "base_uri": "https://localhost:8080/"
        },
        "id": "E6p9Ftb-QxXu",
        "outputId": "ecea182f-9e7f-4bb6-97a1-7449881b3f04"
      },
      "source": [
        "# OOB 샘플 평가\n",
        "forest_clf.oob_score_  "
      ],
      "execution_count": null,
      "outputs": [
        {
          "output_type": "execute_result",
          "data": {
            "text/plain": [
              "0.6641998149861239"
            ]
          },
          "metadata": {
            "tags": []
          },
          "execution_count": 54
        }
      ]
    },
    {
      "cell_type": "markdown",
      "metadata": {
        "id": "UQanQKPPRDE5"
      },
      "source": [
        "## Gradient Boosting"
      ]
    },
    {
      "cell_type": "code",
      "metadata": {
        "id": "459IaBEgQ5IL"
      },
      "source": [
        "# 모델 생성\n",
        "gb_clf = GradientBoostingClassifier()"
      ],
      "execution_count": null,
      "outputs": []
    },
    {
      "cell_type": "code",
      "metadata": {
        "colab": {
          "base_uri": "https://localhost:8080/"
        },
        "id": "8empielaROBf",
        "outputId": "2698c06c-5267-47ad-e47e-05cda0b98963"
      },
      "source": [
        "# 모델 훈련\n",
        "gb_clf.fit(X_tr, y_tr)"
      ],
      "execution_count": null,
      "outputs": [
        {
          "output_type": "execute_result",
          "data": {
            "text/plain": [
              "GradientBoostingClassifier(ccp_alpha=0.0, criterion='friedman_mse', init=None,\n",
              "                           learning_rate=0.1, loss='deviance', max_depth=3,\n",
              "                           max_features=None, max_leaf_nodes=None,\n",
              "                           min_impurity_decrease=0.0, min_impurity_split=None,\n",
              "                           min_samples_leaf=1, min_samples_split=2,\n",
              "                           min_weight_fraction_leaf=0.0, n_estimators=100,\n",
              "                           n_iter_no_change=None, presort='deprecated',\n",
              "                           random_state=None, subsample=1.0, tol=0.0001,\n",
              "                           validation_fraction=0.1, verbose=0,\n",
              "                           warm_start=False)"
            ]
          },
          "metadata": {
            "tags": []
          },
          "execution_count": 56
        }
      ]
    },
    {
      "cell_type": "code",
      "metadata": {
        "colab": {
          "base_uri": "https://localhost:8080/"
        },
        "id": "wUNl8xEZRWkk",
        "outputId": "358b5842-8d4a-40f6-8b53-ae3a00504d4e"
      },
      "source": [
        "# 테스트 셋 평가\n",
        "gb_clf.score(X_ts, y_ts)"
      ],
      "execution_count": null,
      "outputs": [
        {
          "output_type": "execute_result",
          "data": {
            "text/plain": [
              "0.6531365313653137"
            ]
          },
          "metadata": {
            "tags": []
          },
          "execution_count": 57
        }
      ]
    },
    {
      "cell_type": "markdown",
      "metadata": {
        "id": "QAoUq5FUR6L4"
      },
      "source": [
        "## XGBoost"
      ]
    },
    {
      "cell_type": "code",
      "metadata": {
        "id": "RHsK1OYlR8o4"
      },
      "source": [
        "xgb_clf = XGBClassifier(tree_method = 'hist')"
      ],
      "execution_count": null,
      "outputs": []
    },
    {
      "cell_type": "code",
      "metadata": {
        "colab": {
          "base_uri": "https://localhost:8080/"
        },
        "id": "4KAmivxOSeSL",
        "outputId": "488a90b8-6a8b-4f9d-9d60-b8546181cb88"
      },
      "source": [
        "xgb_clf.fit(X_tr, y_tr)"
      ],
      "execution_count": null,
      "outputs": [
        {
          "output_type": "execute_result",
          "data": {
            "text/plain": [
              "XGBClassifier(base_score=0.5, booster='gbtree', colsample_bylevel=1,\n",
              "              colsample_bynode=1, colsample_bytree=1, gamma=0,\n",
              "              learning_rate=0.1, max_delta_step=0, max_depth=3,\n",
              "              min_child_weight=1, missing=None, n_estimators=100, n_jobs=1,\n",
              "              nthread=None, objective='binary:logistic', random_state=0,\n",
              "              reg_alpha=0, reg_lambda=1, scale_pos_weight=1, seed=None,\n",
              "              silent=None, subsample=1, tree_method='hist', verbosity=1)"
            ]
          },
          "metadata": {
            "tags": []
          },
          "execution_count": 60
        }
      ]
    },
    {
      "cell_type": "code",
      "metadata": {
        "colab": {
          "base_uri": "https://localhost:8080/"
        },
        "id": "6SWnRj91SrU1",
        "outputId": "d0e84783-2657-4d33-9cbc-871ed8ac349d"
      },
      "source": [
        "xgb_clf.score(X_ts, y_ts)"
      ],
      "execution_count": null,
      "outputs": [
        {
          "output_type": "execute_result",
          "data": {
            "text/plain": [
              "0.6789667896678967"
            ]
          },
          "metadata": {
            "tags": []
          },
          "execution_count": 61
        }
      ]
    },
    {
      "cell_type": "markdown",
      "metadata": {
        "id": "MYdLz0RORscc"
      },
      "source": [
        "# Doc2Vec"
      ]
    },
    {
      "cell_type": "markdown",
      "metadata": {
        "id": "Akx5ZAShR0fS"
      },
      "source": [
        "## 벡터화"
      ]
    },
    {
      "cell_type": "code",
      "metadata": {
        "id": "ncnad__fRrjE"
      },
      "source": [
        "doc = []\n",
        "for i, d in enumerate(text):\n",
        "    a = TaggedDocument(words = d, tags = [i])\n",
        "    doc.append(a)"
      ],
      "execution_count": null,
      "outputs": []
    },
    {
      "cell_type": "code",
      "metadata": {
        "id": "LmF-4AMNTRak"
      },
      "source": [
        "# 학습 시 필요한 하이퍼파라미터 (word2vec과 동일)\n",
        "n_worker = 4        # 프로세스 갯수 ,defalut = 3\n",
        "n_size = 600        # 워드 벡터 특정값 수 (크기),  defalut = 100\n",
        "min_cnt = 10        # 단어에 대한 최소 빈도 단어 수, defalut = 5\n",
        "context =  5        # 컨텍스트 윈도우의 크기, defalut = 5\n",
        "d_sampling = 0.001  # 다운 샘플링 수, defalut = 0.001"
      ],
      "execution_count": null,
      "outputs": []
    },
    {
      "cell_type": "code",
      "metadata": {
        "id": "TlngEtgSTKCz"
      },
      "source": [
        "md_doc = Doc2Vec(doc,\n",
        "                 workers = n_worker,   \n",
        "                 min_count = min_cnt,  \n",
        "                 window = context,     \n",
        "                 vector_size = n_size, \n",
        "                 negative = 5,  #> negative samples 의 개수 , 클수록 느려짐\n",
        "                 epochs = 40,\n",
        "                 sample = d_sampling) "
      ],
      "execution_count": null,
      "outputs": []
    },
    {
      "cell_type": "code",
      "metadata": {
        "colab": {
          "base_uri": "https://localhost:8080/"
        },
        "id": "hLt_YJRVTg_h",
        "outputId": "5f118ff2-c2c4-4cd3-870c-5ebee8faaaf9"
      },
      "source": [
        "# 모델 저장\n",
        "md_name = \"D2V__4_workers__600_size__10_mincnt\"\n",
        "md_doc.save(md_name)"
      ],
      "execution_count": null,
      "outputs": [
        {
          "output_type": "stream",
          "text": [
            "2021-04-30 05:44:40,656: INFO : saving Doc2Vec object under D2V__4_workers__600_size__10_mincnt, separately None\n",
            "2021-04-30 05:44:40,713: INFO : saved D2V__4_workers__600_size__10_mincnt\n"
          ],
          "name": "stderr"
        }
      ]
    },
    {
      "cell_type": "code",
      "metadata": {
        "id": "ZcaN8f74Ti9z"
      },
      "source": [
        "data_vec_doc = get_vector_dataset(text, md_doc, n_size) # (데이터셋, 모델, 임베딩 단어수)"
      ],
      "execution_count": null,
      "outputs": []
    },
    {
      "cell_type": "code",
      "metadata": {
        "id": "X94PkK2qUDOI"
      },
      "source": [
        "X_d = data_vec_doc"
      ],
      "execution_count": null,
      "outputs": []
    },
    {
      "cell_type": "markdown",
      "metadata": {
        "id": "0adXER75Tyd9"
      },
      "source": [
        "## 셋트분리"
      ]
    },
    {
      "cell_type": "code",
      "metadata": {
        "id": "NrCgmXFzT0JT"
      },
      "source": [
        "# for Doc2Vec\n",
        "X_tr_d, X_ts_d, y_tr_d, y_ts_d = train_test_split(X_d,y,             \n",
        "                                          test_size = 0.2,\n",
        "                                          stratify = y)"
      ],
      "execution_count": null,
      "outputs": []
    },
    {
      "cell_type": "markdown",
      "metadata": {
        "id": "lq6lYV24WJbb"
      },
      "source": [
        "## 일반 머신러닝 모델 성능"
      ]
    },
    {
      "cell_type": "code",
      "metadata": {
        "id": "pJc65eFnVymO"
      },
      "source": [
        "# 5개의 머신 러닝 모델(학습기) 생성\n",
        "log_clf = LogisticRegression()\n",
        "sgd_clf = SGDClassifier(loss='log')\n",
        "svm_clf = SVC(probability=True)\n",
        "tree_clf = DecisionTreeClassifier()\n",
        "knn_clf = KNeighborsClassifier()"
      ],
      "execution_count": null,
      "outputs": []
    },
    {
      "cell_type": "code",
      "metadata": {
        "colab": {
          "base_uri": "https://localhost:8080/"
        },
        "id": "vwL-wYH2Vdnk",
        "outputId": "3816b395-ec25-4451-f97f-b7a5443d0e4d"
      },
      "source": [
        "classifiers = [log_clf, sgd_clf, svm_clf, tree_clf, knn_clf]\n",
        "for clf in classifiers:\n",
        "    clf.fit(X_tr_d, y_tr_d)  # 모델 훈련\n",
        "    acc = clf.score(X_ts, y_ts)  # 모델 평가\n",
        "    print(clf.__class__.__name__, 'accuracy:', acc)"
      ],
      "execution_count": null,
      "outputs": [
        {
          "output_type": "stream",
          "text": [
            "/usr/local/lib/python3.7/dist-packages/sklearn/linear_model/_logistic.py:940: ConvergenceWarning: lbfgs failed to converge (status=1):\n",
            "STOP: TOTAL NO. of ITERATIONS REACHED LIMIT.\n",
            "\n",
            "Increase the number of iterations (max_iter) or scale the data as shown in:\n",
            "    https://scikit-learn.org/stable/modules/preprocessing.html\n",
            "Please also refer to the documentation for alternative solver options:\n",
            "    https://scikit-learn.org/stable/modules/linear_model.html#logistic-regression\n",
            "  extra_warning_msg=_LOGISTIC_SOLVER_CONVERGENCE_MSG)\n"
          ],
          "name": "stderr"
        },
        {
          "output_type": "stream",
          "text": [
            "LogisticRegression accuracy: 0.5018450184501845\n",
            "SGDClassifier accuracy: 0.5018450184501845\n",
            "SVC accuracy: 0.5018450184501845\n",
            "DecisionTreeClassifier accuracy: 0.4981549815498155\n",
            "KNeighborsClassifier accuracy: 0.5461254612546126\n"
          ],
          "name": "stdout"
        }
      ]
    },
    {
      "cell_type": "markdown",
      "metadata": {
        "id": "kwe8tzQ3VJeg"
      },
      "source": [
        "##Gradient Boosting"
      ]
    },
    {
      "cell_type": "code",
      "metadata": {
        "colab": {
          "base_uri": "https://localhost:8080/"
        },
        "id": "m0tx-KsZVO3S",
        "outputId": "ce0ed425-e40e-41db-ad4e-da73f561bd53"
      },
      "source": [
        "gb_clf = GradientBoostingClassifier()\n",
        "gb_clf.fit(X_tr_d, y_tr_d)"
      ],
      "execution_count": null,
      "outputs": [
        {
          "output_type": "execute_result",
          "data": {
            "text/plain": [
              "GradientBoostingClassifier(ccp_alpha=0.0, criterion='friedman_mse', init=None,\n",
              "                           learning_rate=0.1, loss='deviance', max_depth=3,\n",
              "                           max_features=None, max_leaf_nodes=None,\n",
              "                           min_impurity_decrease=0.0, min_impurity_split=None,\n",
              "                           min_samples_leaf=1, min_samples_split=2,\n",
              "                           min_weight_fraction_leaf=0.0, n_estimators=100,\n",
              "                           n_iter_no_change=None, presort='deprecated',\n",
              "                           random_state=None, subsample=1.0, tol=0.0001,\n",
              "                           validation_fraction=0.1, verbose=0,\n",
              "                           warm_start=False)"
            ]
          },
          "metadata": {
            "tags": []
          },
          "execution_count": 82
        }
      ]
    },
    {
      "cell_type": "code",
      "metadata": {
        "colab": {
          "base_uri": "https://localhost:8080/"
        },
        "id": "ylyKoIcXVVM4",
        "outputId": "796d605a-2b64-44da-ab3d-012344250080"
      },
      "source": [
        "gb_clf.score(X_ts_d, y_ts_d)"
      ],
      "execution_count": null,
      "outputs": [
        {
          "output_type": "execute_result",
          "data": {
            "text/plain": [
              "0.6383763837638377"
            ]
          },
          "metadata": {
            "tags": []
          },
          "execution_count": 83
        }
      ]
    },
    {
      "cell_type": "markdown",
      "metadata": {
        "id": "nsmkeg5jUgiJ"
      },
      "source": [
        "## XGBoost"
      ]
    },
    {
      "cell_type": "code",
      "metadata": {
        "colab": {
          "base_uri": "https://localhost:8080/"
        },
        "id": "eDcO_HZlUfnG",
        "outputId": "885171de-deb2-4d07-9082-002038cb0d85"
      },
      "source": [
        "xgb_clf = XGBClassifier(tree_method = 'hist')\n",
        "xgb_clf.fit(X_tr_d, y_tr_d)"
      ],
      "execution_count": null,
      "outputs": [
        {
          "output_type": "execute_result",
          "data": {
            "text/plain": [
              "XGBClassifier(base_score=0.5, booster='gbtree', colsample_bylevel=1,\n",
              "              colsample_bynode=1, colsample_bytree=1, gamma=0,\n",
              "              learning_rate=0.1, max_delta_step=0, max_depth=3,\n",
              "              min_child_weight=1, missing=None, n_estimators=100, n_jobs=1,\n",
              "              nthread=None, objective='binary:logistic', random_state=0,\n",
              "              reg_alpha=0, reg_lambda=1, scale_pos_weight=1, seed=None,\n",
              "              silent=None, subsample=1, tree_method='hist', verbosity=1)"
            ]
          },
          "metadata": {
            "tags": []
          },
          "execution_count": 81
        }
      ]
    },
    {
      "cell_type": "code",
      "metadata": {
        "colab": {
          "base_uri": "https://localhost:8080/"
        },
        "id": "tWQgoQtpVBIx",
        "outputId": "c70667d2-6ba3-402c-e350-aa8f11368eb8"
      },
      "source": [
        "xgb_clf.score(X_ts_d, y_ts_d)"
      ],
      "execution_count": null,
      "outputs": [
        {
          "output_type": "execute_result",
          "data": {
            "text/plain": [
              "0.6494464944649446"
            ]
          },
          "metadata": {
            "tags": []
          },
          "execution_count": 80
        }
      ]
    },
    {
      "cell_type": "markdown",
      "metadata": {
        "id": "0OJwMdzXWBzj"
      },
      "source": [
        "# TF-IDF"
      ]
    },
    {
      "cell_type": "markdown",
      "metadata": {
        "id": "1d67j83kWY9d"
      },
      "source": [
        "## 벡터화"
      ]
    },
    {
      "cell_type": "code",
      "metadata": {
        "id": "tpGV2cqXWFJZ"
      },
      "source": [
        "vectorizer = TfidfVectorizer(\n",
        "            min_df = 0.0,\n",
        "            analyzer = \"word\",\n",
        "            sublinear_tf = True,\n",
        "            ngram_range = (1,3),\n",
        "            max_features = 300\n",
        "        )"
      ],
      "execution_count": null,
      "outputs": []
    },
    {
      "cell_type": "code",
      "metadata": {
        "id": "bufu2iPsWjWd"
      },
      "source": [
        "X_TI = vectorizer.fit_transform(list(data['Text']))"
      ],
      "execution_count": null,
      "outputs": []
    },
    {
      "cell_type": "markdown",
      "metadata": {
        "id": "to9LFuxMWqt8"
      },
      "source": [
        "## 셋트분리"
      ]
    },
    {
      "cell_type": "code",
      "metadata": {
        "id": "VbuNmnLpWpWU"
      },
      "source": [
        "# for TF-IDF\n",
        "X_tr_t, X_ts_t,y_tr_t,y_ts_t = train_test_split(X_TI,y,\n",
        "                                          test_size = 0.2,\n",
        "                                          stratify = y)"
      ],
      "execution_count": null,
      "outputs": []
    },
    {
      "cell_type": "markdown",
      "metadata": {
        "id": "4ahCbgGVYI-5"
      },
      "source": [
        "## 일반머신러닝모델성능"
      ]
    },
    {
      "cell_type": "code",
      "metadata": {
        "id": "3fJHvonoW2T4"
      },
      "source": [
        "# 5개의 머신 러닝 모델(학습기) 생성\n",
        "log_clf = LogisticRegression()\n",
        "sgd_clf = SGDClassifier(loss='log')\n",
        "svm_clf = SVC(probability=True)\n",
        "tree_clf = DecisionTreeClassifier()\n",
        "knn_clf = KNeighborsClassifier()"
      ],
      "execution_count": null,
      "outputs": []
    },
    {
      "cell_type": "code",
      "metadata": {
        "colab": {
          "base_uri": "https://localhost:8080/"
        },
        "id": "Rg2Lj_dcW5F4",
        "outputId": "b9dd85e1-bf8c-4af4-c0f7-52f6f444322d"
      },
      "source": [
        "classifiers = [log_clf, sgd_clf, svm_clf, tree_clf, knn_clf]\n",
        "for clf in classifiers:\n",
        "    clf.fit(X_tr_t, y_tr_t)  # 모델 훈련\n",
        "    acc = clf.score(X_ts_t, y_ts_t)  # 모델 평가\n",
        "    print(clf.__class__.__name__, 'accuracy:', acc)"
      ],
      "execution_count": null,
      "outputs": [
        {
          "output_type": "stream",
          "text": [
            "LogisticRegression accuracy: 0.7195571955719557\n",
            "SGDClassifier accuracy: 0.7047970479704797\n",
            "SVC accuracy: 0.7195571955719557\n",
            "DecisionTreeClassifier accuracy: 0.6826568265682657\n",
            "KNeighborsClassifier accuracy: 0.6789667896678967\n"
          ],
          "name": "stdout"
        }
      ]
    },
    {
      "cell_type": "markdown",
      "metadata": {
        "id": "v8Jhn4-mYBa5"
      },
      "source": [
        "## Gradient Boosting"
      ]
    },
    {
      "cell_type": "code",
      "metadata": {
        "colab": {
          "base_uri": "https://localhost:8080/"
        },
        "id": "dQG2hRO3XC4R",
        "outputId": "917d447c-6736-4dff-8e7c-2d0260421a6a"
      },
      "source": [
        "gb_clf = GradientBoostingClassifier()\n",
        "gb_clf.fit(X_tr_t, y_tr_t)"
      ],
      "execution_count": null,
      "outputs": [
        {
          "output_type": "execute_result",
          "data": {
            "text/plain": [
              "GradientBoostingClassifier(ccp_alpha=0.0, criterion='friedman_mse', init=None,\n",
              "                           learning_rate=0.1, loss='deviance', max_depth=3,\n",
              "                           max_features=None, max_leaf_nodes=None,\n",
              "                           min_impurity_decrease=0.0, min_impurity_split=None,\n",
              "                           min_samples_leaf=1, min_samples_split=2,\n",
              "                           min_weight_fraction_leaf=0.0, n_estimators=100,\n",
              "                           n_iter_no_change=None, presort='deprecated',\n",
              "                           random_state=None, subsample=1.0, tol=0.0001,\n",
              "                           validation_fraction=0.1, verbose=0,\n",
              "                           warm_start=False)"
            ]
          },
          "metadata": {
            "tags": []
          },
          "execution_count": 112
        }
      ]
    },
    {
      "cell_type": "code",
      "metadata": {
        "colab": {
          "base_uri": "https://localhost:8080/"
        },
        "id": "kxhO_uvtXJ0s",
        "outputId": "5e3f8a2a-80fa-4cc3-fa16-df227a652b97"
      },
      "source": [
        "gb_clf.score(X_ts_t, y_ts_t)"
      ],
      "execution_count": null,
      "outputs": [
        {
          "output_type": "execute_result",
          "data": {
            "text/plain": [
              "0.6900369003690037"
            ]
          },
          "metadata": {
            "tags": []
          },
          "execution_count": 113
        }
      ]
    },
    {
      "cell_type": "markdown",
      "metadata": {
        "id": "OhI8c5mbYEl4"
      },
      "source": [
        "## XGBoost"
      ]
    },
    {
      "cell_type": "code",
      "metadata": {
        "colab": {
          "base_uri": "https://localhost:8080/"
        },
        "id": "XaQsP5OJXMU8",
        "outputId": "6f801153-5d41-40d2-dce1-863387688a37"
      },
      "source": [
        "xgb_clf = XGBClassifier(tree_method = 'hist')\n",
        "xgb_clf.fit(X_tr_t, y_tr_t)"
      ],
      "execution_count": null,
      "outputs": [
        {
          "output_type": "execute_result",
          "data": {
            "text/plain": [
              "XGBClassifier(base_score=0.5, booster='gbtree', colsample_bylevel=1,\n",
              "              colsample_bynode=1, colsample_bytree=1, gamma=0,\n",
              "              learning_rate=0.1, max_delta_step=0, max_depth=3,\n",
              "              min_child_weight=1, missing=None, n_estimators=100, n_jobs=1,\n",
              "              nthread=None, objective='binary:logistic', random_state=0,\n",
              "              reg_alpha=0, reg_lambda=1, scale_pos_weight=1, seed=None,\n",
              "              silent=None, subsample=1, tree_method='hist', verbosity=1)"
            ]
          },
          "metadata": {
            "tags": []
          },
          "execution_count": 114
        }
      ]
    },
    {
      "cell_type": "code",
      "metadata": {
        "colab": {
          "base_uri": "https://localhost:8080/"
        },
        "id": "1RqB6qRhXWEt",
        "outputId": "a049f70b-1714-4dff-f029-6baec39e4e2a"
      },
      "source": [
        "xgb_clf.score(X_ts_t, y_ts_t)"
      ],
      "execution_count": null,
      "outputs": [
        {
          "output_type": "execute_result",
          "data": {
            "text/plain": [
              "0.6789667896678967"
            ]
          },
          "metadata": {
            "tags": []
          },
          "execution_count": 115
        }
      ]
    }
  ]
}