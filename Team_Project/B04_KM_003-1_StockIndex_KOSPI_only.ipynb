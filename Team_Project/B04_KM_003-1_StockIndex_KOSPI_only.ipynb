{
 "metadata": {
  "language_info": {
   "codemirror_mode": {
    "name": "ipython",
    "version": 3
   },
   "file_extension": ".py",
   "mimetype": "text/x-python",
   "name": "python",
   "nbconvert_exporter": "python",
   "pygments_lexer": "ipython3",
   "version": "3.8.8"
  },
  "orig_nbformat": 2,
  "kernelspec": {
   "name": "python3",
   "display_name": "Python 3.8.8 64-bit",
   "metadata": {
    "interpreter": {
     "hash": "dddb17ea93c18165eccab44a79c5ce0b5c677e2de303579c5906a1a0ad969dde"
    }
   }
  }
 },
 "nbformat": 4,
 "nbformat_minor": 2,
 "cells": [
  {
   "cell_type": "code",
   "execution_count": 1,
   "metadata": {},
   "outputs": [
    {
     "output_type": "stream",
     "name": "stdout",
     "text": [
      "               High      Low     Open    Close      Volume     Adj Close\nDate                                                                    \n2020-06-01  51200.0  50600.0  50800.0  51200.0  16949183.0  49308.062500\n2020-06-02  51500.0  50800.0  51000.0  51400.0  14247933.0  49500.671875\n2020-06-03  55000.0  51700.0  51800.0  54500.0  49257814.0  52486.125000\n2020-06-04  57000.0  54600.0  55800.0  54600.0  40220334.0  52582.433594\n2020-06-05  55900.0  54000.0  54400.0  55500.0  22743629.0  53449.171875\n"
     ]
    }
   ],
   "source": [
    "from pandas_datareader import data\n",
    "import pandas as pd\n",
    "\n",
    "#> '122870' : YG\n",
    "#> '035900' : JYP\n",
    "#> '005930' : 삼성전자\n",
    "#> '066570' : LG전자\n",
    "#> '^KS11'  : KOSPI 지수\n",
    "#> '^KQ11'  : KOSPI 지수\n",
    "\n",
    "com_code = '005930.ks'\n",
    "source = 'yahoo'         # 'yahoo finance\n",
    "start_date = '2020-06-01'\n",
    "end_date = '2021-04-16'\n",
    "\n",
    "data = data.DataReader(com_code, source, start_date, end_date)\n",
    "\n",
    "\n",
    "# excel 파일로 저장\n",
    "data.to_excel('C:\\Lab\\kyoungmi_test1.xlsx')\n",
    "\n",
    "print(data.head(5))"
   ]
  },
  {
   "cell_type": "code",
   "execution_count": null,
   "metadata": {},
   "outputs": [],
   "source": []
  }
 ]
}
