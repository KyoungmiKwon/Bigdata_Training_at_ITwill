{
  "nbformat": 4,
  "nbformat_minor": 0,
  "metadata": {
    "colab": {
      "name": "install_selenium.ipynb",
      "provenance": [],
      "authorship_tag": "ABX9TyOnuoUjZdmRGbABlIuQSAsJ",
      "include_colab_link": true
    },
    "kernelspec": {
      "name": "python3",
      "display_name": "Python 3"
    },
    "language_info": {
      "name": "python"
    }
  },
  "cells": [
    {
      "cell_type": "markdown",
      "metadata": {
        "id": "view-in-github",
        "colab_type": "text"
      },
      "source": [
        "<a href=\"https://colab.research.google.com/github/KyoungmiKwon/Bigdata_Training_at_ITwill/blob/main/Team_Project/install_selenium.ipynb\" target=\"_parent\"><img src=\"https://colab.research.google.com/assets/colab-badge.svg\" alt=\"Open In Colab\"/></a>"
      ]
    },
    {
      "cell_type": "code",
      "metadata": {
        "colab": {
          "base_uri": "https://localhost:8080/"
        },
        "id": "EkPVoUoyu9EN",
        "outputId": "d86677a2-f3af-44da-d76b-a8fb0029b378"
      },
      "source": [
        "!pip install selenium"
      ],
      "execution_count": 1,
      "outputs": [
        {
          "output_type": "stream",
          "text": [
            "Collecting selenium\n",
            "\u001b[?25l  Downloading https://files.pythonhosted.org/packages/80/d6/4294f0b4bce4de0abf13e17190289f9d0613b0a44e5dd6a7f5ca98459853/selenium-3.141.0-py2.py3-none-any.whl (904kB)\n",
            "\r\u001b[K     |▍                               | 10kB 15.9MB/s eta 0:00:01\r\u001b[K     |▊                               | 20kB 22.0MB/s eta 0:00:01\r\u001b[K     |█                               | 30kB 17.1MB/s eta 0:00:01\r\u001b[K     |█▌                              | 40kB 17.8MB/s eta 0:00:01\r\u001b[K     |█▉                              | 51kB 13.4MB/s eta 0:00:01\r\u001b[K     |██▏                             | 61kB 14.6MB/s eta 0:00:01\r\u001b[K     |██▌                             | 71kB 10.8MB/s eta 0:00:01\r\u001b[K     |███                             | 81kB 11.6MB/s eta 0:00:01\r\u001b[K     |███▎                            | 92kB 12.7MB/s eta 0:00:01\r\u001b[K     |███▋                            | 102kB 12.5MB/s eta 0:00:01\r\u001b[K     |████                            | 112kB 12.5MB/s eta 0:00:01\r\u001b[K     |████▍                           | 122kB 12.5MB/s eta 0:00:01\r\u001b[K     |████▊                           | 133kB 12.5MB/s eta 0:00:01\r\u001b[K     |█████                           | 143kB 12.5MB/s eta 0:00:01\r\u001b[K     |█████▍                          | 153kB 12.5MB/s eta 0:00:01\r\u001b[K     |█████▉                          | 163kB 12.5MB/s eta 0:00:01\r\u001b[K     |██████▏                         | 174kB 12.5MB/s eta 0:00:01\r\u001b[K     |██████▌                         | 184kB 12.5MB/s eta 0:00:01\r\u001b[K     |██████▉                         | 194kB 12.5MB/s eta 0:00:01\r\u001b[K     |███████▎                        | 204kB 12.5MB/s eta 0:00:01\r\u001b[K     |███████▋                        | 215kB 12.5MB/s eta 0:00:01\r\u001b[K     |████████                        | 225kB 12.5MB/s eta 0:00:01\r\u001b[K     |████████▎                       | 235kB 12.5MB/s eta 0:00:01\r\u001b[K     |████████▊                       | 245kB 12.5MB/s eta 0:00:01\r\u001b[K     |█████████                       | 256kB 12.5MB/s eta 0:00:01\r\u001b[K     |█████████▍                      | 266kB 12.5MB/s eta 0:00:01\r\u001b[K     |█████████▉                      | 276kB 12.5MB/s eta 0:00:01\r\u001b[K     |██████████▏                     | 286kB 12.5MB/s eta 0:00:01\r\u001b[K     |██████████▌                     | 296kB 12.5MB/s eta 0:00:01\r\u001b[K     |██████████▉                     | 307kB 12.5MB/s eta 0:00:01\r\u001b[K     |███████████▎                    | 317kB 12.5MB/s eta 0:00:01\r\u001b[K     |███████████▋                    | 327kB 12.5MB/s eta 0:00:01\r\u001b[K     |████████████                    | 337kB 12.5MB/s eta 0:00:01\r\u001b[K     |████████████▎                   | 348kB 12.5MB/s eta 0:00:01\r\u001b[K     |████████████▊                   | 358kB 12.5MB/s eta 0:00:01\r\u001b[K     |█████████████                   | 368kB 12.5MB/s eta 0:00:01\r\u001b[K     |█████████████▍                  | 378kB 12.5MB/s eta 0:00:01\r\u001b[K     |█████████████▊                  | 389kB 12.5MB/s eta 0:00:01\r\u001b[K     |██████████████▏                 | 399kB 12.5MB/s eta 0:00:01\r\u001b[K     |██████████████▌                 | 409kB 12.5MB/s eta 0:00:01\r\u001b[K     |██████████████▉                 | 419kB 12.5MB/s eta 0:00:01\r\u001b[K     |███████████████▏                | 430kB 12.5MB/s eta 0:00:01\r\u001b[K     |███████████████▋                | 440kB 12.5MB/s eta 0:00:01\r\u001b[K     |████████████████                | 450kB 12.5MB/s eta 0:00:01\r\u001b[K     |████████████████▎               | 460kB 12.5MB/s eta 0:00:01\r\u001b[K     |████████████████▋               | 471kB 12.5MB/s eta 0:00:01\r\u001b[K     |█████████████████               | 481kB 12.5MB/s eta 0:00:01\r\u001b[K     |█████████████████▍              | 491kB 12.5MB/s eta 0:00:01\r\u001b[K     |█████████████████▊              | 501kB 12.5MB/s eta 0:00:01\r\u001b[K     |██████████████████▏             | 512kB 12.5MB/s eta 0:00:01\r\u001b[K     |██████████████████▌             | 522kB 12.5MB/s eta 0:00:01\r\u001b[K     |██████████████████▉             | 532kB 12.5MB/s eta 0:00:01\r\u001b[K     |███████████████████▏            | 542kB 12.5MB/s eta 0:00:01\r\u001b[K     |███████████████████▋            | 552kB 12.5MB/s eta 0:00:01\r\u001b[K     |████████████████████            | 563kB 12.5MB/s eta 0:00:01\r\u001b[K     |████████████████████▎           | 573kB 12.5MB/s eta 0:00:01\r\u001b[K     |████████████████████▋           | 583kB 12.5MB/s eta 0:00:01\r\u001b[K     |█████████████████████           | 593kB 12.5MB/s eta 0:00:01\r\u001b[K     |█████████████████████▍          | 604kB 12.5MB/s eta 0:00:01\r\u001b[K     |█████████████████████▊          | 614kB 12.5MB/s eta 0:00:01\r\u001b[K     |██████████████████████          | 624kB 12.5MB/s eta 0:00:01\r\u001b[K     |██████████████████████▌         | 634kB 12.5MB/s eta 0:00:01\r\u001b[K     |██████████████████████▉         | 645kB 12.5MB/s eta 0:00:01\r\u001b[K     |███████████████████████▏        | 655kB 12.5MB/s eta 0:00:01\r\u001b[K     |███████████████████████▌        | 665kB 12.5MB/s eta 0:00:01\r\u001b[K     |████████████████████████        | 675kB 12.5MB/s eta 0:00:01\r\u001b[K     |████████████████████████▎       | 686kB 12.5MB/s eta 0:00:01\r\u001b[K     |████████████████████████▋       | 696kB 12.5MB/s eta 0:00:01\r\u001b[K     |█████████████████████████       | 706kB 12.5MB/s eta 0:00:01\r\u001b[K     |█████████████████████████▍      | 716kB 12.5MB/s eta 0:00:01\r\u001b[K     |█████████████████████████▊      | 727kB 12.5MB/s eta 0:00:01\r\u001b[K     |██████████████████████████      | 737kB 12.5MB/s eta 0:00:01\r\u001b[K     |██████████████████████████▍     | 747kB 12.5MB/s eta 0:00:01\r\u001b[K     |██████████████████████████▉     | 757kB 12.5MB/s eta 0:00:01\r\u001b[K     |███████████████████████████▏    | 768kB 12.5MB/s eta 0:00:01\r\u001b[K     |███████████████████████████▌    | 778kB 12.5MB/s eta 0:00:01\r\u001b[K     |████████████████████████████    | 788kB 12.5MB/s eta 0:00:01\r\u001b[K     |████████████████████████████▎   | 798kB 12.5MB/s eta 0:00:01\r\u001b[K     |████████████████████████████▋   | 808kB 12.5MB/s eta 0:00:01\r\u001b[K     |█████████████████████████████   | 819kB 12.5MB/s eta 0:00:01\r\u001b[K     |█████████████████████████████▍  | 829kB 12.5MB/s eta 0:00:01\r\u001b[K     |█████████████████████████████▊  | 839kB 12.5MB/s eta 0:00:01\r\u001b[K     |██████████████████████████████  | 849kB 12.5MB/s eta 0:00:01\r\u001b[K     |██████████████████████████████▍ | 860kB 12.5MB/s eta 0:00:01\r\u001b[K     |██████████████████████████████▉ | 870kB 12.5MB/s eta 0:00:01\r\u001b[K     |███████████████████████████████▏| 880kB 12.5MB/s eta 0:00:01\r\u001b[K     |███████████████████████████████▌| 890kB 12.5MB/s eta 0:00:01\r\u001b[K     |███████████████████████████████▉| 901kB 12.5MB/s eta 0:00:01\r\u001b[K     |████████████████████████████████| 911kB 12.5MB/s \n",
            "\u001b[?25hRequirement already satisfied: urllib3 in /usr/local/lib/python3.7/dist-packages (from selenium) (1.24.3)\n",
            "Installing collected packages: selenium\n",
            "Successfully installed selenium-3.141.0\n"
          ],
          "name": "stdout"
        }
      ]
    },
    {
      "cell_type": "code",
      "metadata": {
        "id": "mxbSijb0vKhe"
      },
      "source": [
        "from selenium import webdriver"
      ],
      "execution_count": 2,
      "outputs": []
    },
    {
      "cell_type": "code",
      "metadata": {
        "id": "JZtFETKmvU4_"
      },
      "source": [
        ""
      ],
      "execution_count": null,
      "outputs": []
    }
  ]
}