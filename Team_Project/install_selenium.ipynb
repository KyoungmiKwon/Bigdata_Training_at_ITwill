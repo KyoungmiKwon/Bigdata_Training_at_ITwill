{
  "nbformat": 4,
  "nbformat_minor": 0,
  "metadata": {
    "colab": {
      "name": "install_selenium.ipynb",
      "provenance": [],
      "authorship_tag": "ABX9TyM21vZifFOU/X4fUEPGXBb8",
      "include_colab_link": true
    },
    "kernelspec": {
      "name": "python3",
      "display_name": "Python 3"
    },
    "language_info": {
      "name": "python"
    }
  },
  "cells": [
    {
      "cell_type": "markdown",
      "metadata": {
        "id": "view-in-github",
        "colab_type": "text"
      },
      "source": [
        "<a href=\"https://colab.research.google.com/github/KyoungmiKwon/Bigdata_Training_at_ITwill/blob/main/Team_Project/install_selenium.ipynb\" target=\"_parent\"><img src=\"https://colab.research.google.com/assets/colab-badge.svg\" alt=\"Open In Colab\"/></a>"
      ]
    },
    {
      "cell_type": "code",
      "metadata": {
        "colab": {
          "base_uri": "https://localhost:8080/"
        },
        "id": "EkPVoUoyu9EN",
        "outputId": "d86677a2-f3af-44da-d76b-a8fb0029b378"
      },
      "source": [
        "!pip install selenium"
      ],
      "execution_count": 1,
      "outputs": [
        {
          "output_type": "stream",
          "text": [
            "Collecting selenium\n",
            "\u001b[?25l  Downloading https://files.pythonhosted.org/packages/80/d6/4294f0b4bce4de0abf13e17190289f9d0613b0a44e5dd6a7f5ca98459853/selenium-3.141.0-py2.py3-none-any.whl (904kB)\n",
            "\r\u001b[K     |▍                               | 10kB 15.9MB/s eta 0:00:01\r\u001b[K     |▊                               | 20kB 22.0MB/s eta 0:00:01\r\u001b[K     |█                               | 30kB 17.1MB/s eta 0:00:01\r\u001b[K     |█▌                              | 40kB 17.8MB/s eta 0:00:01\r\u001b[K     |█▉                              | 51kB 13.4MB/s eta 0:00:01\r\u001b[K     |██▏                             | 61kB 14.6MB/s eta 0:00:01\r\u001b[K     |██▌                             | 71kB 10.8MB/s eta 0:00:01\r\u001b[K     |███                             | 81kB 11.6MB/s eta 0:00:01\r\u001b[K     |███▎                            | 92kB 12.7MB/s eta 0:00:01\r\u001b[K     |███▋                            | 102kB 12.5MB/s eta 0:00:01\r\u001b[K     |████                            | 112kB 12.5MB/s eta 0:00:01\r\u001b[K     |████▍                           | 122kB 12.5MB/s eta 0:00:01\r\u001b[K     |████▊                           | 133kB 12.5MB/s eta 0:00:01\r\u001b[K     |█████                           | 143kB 12.5MB/s eta 0:00:01\r\u001b[K     |█████▍                          | 153kB 12.5MB/s eta 0:00:01\r\u001b[K     |█████▉                          | 163kB 12.5MB/s eta 0:00:01\r\u001b[K     |██████▏                         | 174kB 12.5MB/s eta 0:00:01\r\u001b[K     |██████▌                         | 184kB 12.5MB/s eta 0:00:01\r\u001b[K     |██████▉                         | 194kB 12.5MB/s eta 0:00:01\r\u001b[K     |███████▎                        | 204kB 12.5MB/s eta 0:00:01\r\u001b[K     |███████▋                        | 215kB 12.5MB/s eta 0:00:01\r\u001b[K     |████████                        | 225kB 12.5MB/s eta 0:00:01\r\u001b[K     |████████▎                       | 235kB 12.5MB/s eta 0:00:01\r\u001b[K     |████████▊                       | 245kB 12.5MB/s eta 0:00:01\r\u001b[K     |█████████                       | 256kB 12.5MB/s eta 0:00:01\r\u001b[K     |█████████▍                      | 266kB 12.5MB/s eta 0:00:01\r\u001b[K     |█████████▉                      | 276kB 12.5MB/s eta 0:00:01\r\u001b[K     |██████████▏                     | 286kB 12.5MB/s eta 0:00:01\r\u001b[K     |██████████▌                     | 296kB 12.5MB/s eta 0:00:01\r\u001b[K     |██████████▉                     | 307kB 12.5MB/s eta 0:00:01\r\u001b[K     |███████████▎                    | 317kB 12.5MB/s eta 0:00:01\r\u001b[K     |███████████▋                    | 327kB 12.5MB/s eta 0:00:01\r\u001b[K     |████████████                    | 337kB 12.5MB/s eta 0:00:01\r\u001b[K     |████████████▎                   | 348kB 12.5MB/s eta 0:00:01\r\u001b[K     |████████████▊                   | 358kB 12.5MB/s eta 0:00:01\r\u001b[K     |█████████████                   | 368kB 12.5MB/s eta 0:00:01\r\u001b[K     |█████████████▍                  | 378kB 12.5MB/s eta 0:00:01\r\u001b[K     |█████████████▊                  | 389kB 12.5MB/s eta 0:00:01\r\u001b[K     |██████████████▏                 | 399kB 12.5MB/s eta 0:00:01\r\u001b[K     |██████████████▌                 | 409kB 12.5MB/s eta 0:00:01\r\u001b[K     |██████████████▉                 | 419kB 12.5MB/s eta 0:00:01\r\u001b[K     |███████████████▏                | 430kB 12.5MB/s eta 0:00:01\r\u001b[K     |███████████████▋                | 440kB 12.5MB/s eta 0:00:01\r\u001b[K     |████████████████                | 450kB 12.5MB/s eta 0:00:01\r\u001b[K     |████████████████▎               | 460kB 12.5MB/s eta 0:00:01\r\u001b[K     |████████████████▋               | 471kB 12.5MB/s eta 0:00:01\r\u001b[K     |█████████████████               | 481kB 12.5MB/s eta 0:00:01\r\u001b[K     |█████████████████▍              | 491kB 12.5MB/s eta 0:00:01\r\u001b[K     |█████████████████▊              | 501kB 12.5MB/s eta 0:00:01\r\u001b[K     |██████████████████▏             | 512kB 12.5MB/s eta 0:00:01\r\u001b[K     |██████████████████▌             | 522kB 12.5MB/s eta 0:00:01\r\u001b[K     |██████████████████▉             | 532kB 12.5MB/s eta 0:00:01\r\u001b[K     |███████████████████▏            | 542kB 12.5MB/s eta 0:00:01\r\u001b[K     |███████████████████▋            | 552kB 12.5MB/s eta 0:00:01\r\u001b[K     |████████████████████            | 563kB 12.5MB/s eta 0:00:01\r\u001b[K     |████████████████████▎           | 573kB 12.5MB/s eta 0:00:01\r\u001b[K     |████████████████████▋           | 583kB 12.5MB/s eta 0:00:01\r\u001b[K     |█████████████████████           | 593kB 12.5MB/s eta 0:00:01\r\u001b[K     |█████████████████████▍          | 604kB 12.5MB/s eta 0:00:01\r\u001b[K     |█████████████████████▊          | 614kB 12.5MB/s eta 0:00:01\r\u001b[K     |██████████████████████          | 624kB 12.5MB/s eta 0:00:01\r\u001b[K     |██████████████████████▌         | 634kB 12.5MB/s eta 0:00:01\r\u001b[K     |██████████████████████▉         | 645kB 12.5MB/s eta 0:00:01\r\u001b[K     |███████████████████████▏        | 655kB 12.5MB/s eta 0:00:01\r\u001b[K     |███████████████████████▌        | 665kB 12.5MB/s eta 0:00:01\r\u001b[K     |████████████████████████        | 675kB 12.5MB/s eta 0:00:01\r\u001b[K     |████████████████████████▎       | 686kB 12.5MB/s eta 0:00:01\r\u001b[K     |████████████████████████▋       | 696kB 12.5MB/s eta 0:00:01\r\u001b[K     |█████████████████████████       | 706kB 12.5MB/s eta 0:00:01\r\u001b[K     |█████████████████████████▍      | 716kB 12.5MB/s eta 0:00:01\r\u001b[K     |█████████████████████████▊      | 727kB 12.5MB/s eta 0:00:01\r\u001b[K     |██████████████████████████      | 737kB 12.5MB/s eta 0:00:01\r\u001b[K     |██████████████████████████▍     | 747kB 12.5MB/s eta 0:00:01\r\u001b[K     |██████████████████████████▉     | 757kB 12.5MB/s eta 0:00:01\r\u001b[K     |███████████████████████████▏    | 768kB 12.5MB/s eta 0:00:01\r\u001b[K     |███████████████████████████▌    | 778kB 12.5MB/s eta 0:00:01\r\u001b[K     |████████████████████████████    | 788kB 12.5MB/s eta 0:00:01\r\u001b[K     |████████████████████████████▎   | 798kB 12.5MB/s eta 0:00:01\r\u001b[K     |████████████████████████████▋   | 808kB 12.5MB/s eta 0:00:01\r\u001b[K     |█████████████████████████████   | 819kB 12.5MB/s eta 0:00:01\r\u001b[K     |█████████████████████████████▍  | 829kB 12.5MB/s eta 0:00:01\r\u001b[K     |█████████████████████████████▊  | 839kB 12.5MB/s eta 0:00:01\r\u001b[K     |██████████████████████████████  | 849kB 12.5MB/s eta 0:00:01\r\u001b[K     |██████████████████████████████▍ | 860kB 12.5MB/s eta 0:00:01\r\u001b[K     |██████████████████████████████▉ | 870kB 12.5MB/s eta 0:00:01\r\u001b[K     |███████████████████████████████▏| 880kB 12.5MB/s eta 0:00:01\r\u001b[K     |███████████████████████████████▌| 890kB 12.5MB/s eta 0:00:01\r\u001b[K     |███████████████████████████████▉| 901kB 12.5MB/s eta 0:00:01\r\u001b[K     |████████████████████████████████| 911kB 12.5MB/s \n",
            "\u001b[?25hRequirement already satisfied: urllib3 in /usr/local/lib/python3.7/dist-packages (from selenium) (1.24.3)\n",
            "Installing collected packages: selenium\n",
            "Successfully installed selenium-3.141.0\n"
          ],
          "name": "stdout"
        }
      ]
    },
    {
      "cell_type": "code",
      "metadata": {
        "colab": {
          "base_uri": "https://localhost:8080/"
        },
        "id": "JZtFETKmvU4_",
        "outputId": "70086534-4e86-40a7-9cc8-f81ce380c6c8"
      },
      "source": [
        "# 설치(20.08 코랩 기준)\n",
        "!apt-get update # to update ubuntu to correctly run apt install\n",
        "\n",
        "!apt install chromium-chromedriver"
      ],
      "execution_count": 3,
      "outputs": [
        {
          "output_type": "stream",
          "text": [
            "\r0% [Working]\r            \rGet:1 http://ppa.launchpad.net/c2d4u.team/c2d4u4.0+/ubuntu bionic InRelease [15.9 kB]\n",
            "\r0% [Connecting to archive.ubuntu.com (91.189.88.152)] [Waiting for headers] [Co\r                                                                               \rGet:2 http://security.ubuntu.com/ubuntu bionic-security InRelease [88.7 kB]\n",
            "\r0% [Connecting to archive.ubuntu.com (91.189.88.152)] [2 InRelease 0 B/88.7 kB \r                                                                               \rHit:3 http://archive.ubuntu.com/ubuntu bionic InRelease\n",
            "\r0% [2 InRelease 88.7 kB/88.7 kB 100%] [Connected to cloud.r-project.org (13.227\r                                                                               \rGet:4 http://archive.ubuntu.com/ubuntu bionic-updates InRelease [88.7 kB]\n",
            "\r                                                                               \rGet:5 https://cloud.r-project.org/bin/linux/ubuntu bionic-cran40/ InRelease [3,626 B]\n",
            "\r                                                                               \rHit:6 http://ppa.launchpad.net/cran/libgit2/ubuntu bionic InRelease\n",
            "\r0% [4 InRelease 82.2 kB/88.7 kB 93%] [Waiting for headers] [Waiting for headers\r0% [3 InRelease gpgv 242 kB] [4 InRelease 82.2 kB/88.7 kB 93%] [Waiting for hea\r                                                                               \r0% [3 InRelease gpgv 242 kB] [Waiting for headers] [Waiting for headers]\r                                                                        \rGet:7 http://ppa.launchpad.net/deadsnakes/ppa/ubuntu bionic InRelease [15.9 kB]\n",
            "\r0% [3 InRelease gpgv 242 kB] [Waiting for headers] [7 InRelease 2,572 B/15.9 kB\r                                                                               \rGet:8 http://archive.ubuntu.com/ubuntu bionic-backports InRelease [74.6 kB]\n",
            "\r0% [3 InRelease gpgv 242 kB] [8 InRelease 20.0 kB/74.6 kB 27%] [7 InRelease 2,5\r0% [3 InRelease gpgv 242 kB] [7 InRelease 8,364 B/15.9 kB 53%] [Waiting for hea\r0% [3 InRelease gpgv 242 kB] [Connecting to ppa.launchpad.net (91.189.95.85)] [\r                                                                               \rHit:9 http://ppa.launchpad.net/graphics-drivers/ppa/ubuntu bionic InRelease\n",
            "Ign:10 https://developer.download.nvidia.com/compute/cuda/repos/ubuntu1804/x86_64  InRelease\n",
            "Ign:11 https://developer.download.nvidia.com/compute/machine-learning/repos/ubuntu1804/x86_64  InRelease\n",
            "Hit:12 https://developer.download.nvidia.com/compute/cuda/repos/ubuntu1804/x86_64  Release\n",
            "Hit:13 https://developer.download.nvidia.com/compute/machine-learning/repos/ubuntu1804/x86_64  Release\n",
            "Get:14 http://ppa.launchpad.net/c2d4u.team/c2d4u4.0+/ubuntu bionic/main Sources [1,750 kB]\n",
            "Get:15 http://ppa.launchpad.net/c2d4u.team/c2d4u4.0+/ubuntu bionic/main amd64 Packages [895 kB]\n",
            "Get:16 http://archive.ubuntu.com/ubuntu bionic-updates/universe amd64 Packages [2,173 kB]\n",
            "Get:17 http://archive.ubuntu.com/ubuntu bionic-updates/main amd64 Packages [2,476 kB]\n",
            "Get:18 http://ppa.launchpad.net/deadsnakes/ppa/ubuntu bionic/main amd64 Packages [39.5 kB]\n",
            "Fetched 7,621 kB in 3s (2,891 kB/s)\n",
            "Reading package lists... Done\n",
            "Reading package lists... Done\n",
            "Building dependency tree       \n",
            "Reading state information... Done\n",
            "The following additional packages will be installed:\n",
            "  chromium-browser chromium-browser-l10n chromium-codecs-ffmpeg-extra\n",
            "Suggested packages:\n",
            "  webaccounts-chromium-extension unity-chromium-extension\n",
            "The following NEW packages will be installed:\n",
            "  chromium-browser chromium-browser-l10n chromium-chromedriver\n",
            "  chromium-codecs-ffmpeg-extra\n",
            "0 upgraded, 4 newly installed, 0 to remove and 34 not upgraded.\n",
            "Need to get 83.2 MB of archives.\n",
            "After this operation, 282 MB of additional disk space will be used.\n",
            "Get:1 http://archive.ubuntu.com/ubuntu bionic-updates/universe amd64 chromium-codecs-ffmpeg-extra amd64 89.0.4389.90-0ubuntu0.18.04.2 [1,127 kB]\n",
            "Get:2 http://archive.ubuntu.com/ubuntu bionic-updates/universe amd64 chromium-browser amd64 89.0.4389.90-0ubuntu0.18.04.2 [73.6 MB]\n",
            "Get:3 http://archive.ubuntu.com/ubuntu bionic-updates/universe amd64 chromium-browser-l10n all 89.0.4389.90-0ubuntu0.18.04.2 [3,809 kB]\n",
            "Get:4 http://archive.ubuntu.com/ubuntu bionic-updates/universe amd64 chromium-chromedriver amd64 89.0.4389.90-0ubuntu0.18.04.2 [4,697 kB]\n",
            "Fetched 83.2 MB in 2s (50.9 MB/s)\n",
            "Selecting previously unselected package chromium-codecs-ffmpeg-extra.\n",
            "(Reading database ... 160983 files and directories currently installed.)\n",
            "Preparing to unpack .../chromium-codecs-ffmpeg-extra_89.0.4389.90-0ubuntu0.18.04.2_amd64.deb ...\n",
            "Unpacking chromium-codecs-ffmpeg-extra (89.0.4389.90-0ubuntu0.18.04.2) ...\n",
            "Selecting previously unselected package chromium-browser.\n",
            "Preparing to unpack .../chromium-browser_89.0.4389.90-0ubuntu0.18.04.2_amd64.deb ...\n",
            "Unpacking chromium-browser (89.0.4389.90-0ubuntu0.18.04.2) ...\n",
            "Selecting previously unselected package chromium-browser-l10n.\n",
            "Preparing to unpack .../chromium-browser-l10n_89.0.4389.90-0ubuntu0.18.04.2_all.deb ...\n",
            "Unpacking chromium-browser-l10n (89.0.4389.90-0ubuntu0.18.04.2) ...\n",
            "Selecting previously unselected package chromium-chromedriver.\n",
            "Preparing to unpack .../chromium-chromedriver_89.0.4389.90-0ubuntu0.18.04.2_amd64.deb ...\n",
            "Unpacking chromium-chromedriver (89.0.4389.90-0ubuntu0.18.04.2) ...\n",
            "Setting up chromium-codecs-ffmpeg-extra (89.0.4389.90-0ubuntu0.18.04.2) ...\n",
            "Setting up chromium-browser (89.0.4389.90-0ubuntu0.18.04.2) ...\n",
            "update-alternatives: using /usr/bin/chromium-browser to provide /usr/bin/x-www-browser (x-www-browser) in auto mode\n",
            "update-alternatives: using /usr/bin/chromium-browser to provide /usr/bin/gnome-www-browser (gnome-www-browser) in auto mode\n",
            "Setting up chromium-chromedriver (89.0.4389.90-0ubuntu0.18.04.2) ...\n",
            "Setting up chromium-browser-l10n (89.0.4389.90-0ubuntu0.18.04.2) ...\n",
            "Processing triggers for man-db (2.8.3-2ubuntu0.1) ...\n",
            "Processing triggers for hicolor-icon-theme (0.17-2) ...\n",
            "Processing triggers for mime-support (3.60ubuntu1) ...\n",
            "Processing triggers for libc-bin (2.27-3ubuntu1.2) ...\n",
            "/sbin/ldconfig.real: /usr/local/lib/python3.7/dist-packages/ideep4py/lib/libmkldnn.so.0 is not a symbolic link\n",
            "\n"
          ],
          "name": "stdout"
        }
      ]
    },
    {
      "cell_type": "code",
      "metadata": {
        "colab": {
          "base_uri": "https://localhost:8080/"
        },
        "id": "ZSPulLtr2UwH",
        "outputId": "3e71680f-4856-4106-e0c9-16c563a21fe1"
      },
      "source": [
        "# import 코드\n",
        "from selenium import webdriver\n",
        "\n",
        "chrome_options = webdriver.ChromeOptions()\n",
        "chrome_options.add_argument('--headless') #내부 창을 띄울 수 없으므로 설정\n",
        "chrome_options.add_argument('--no-sandbox')\n",
        "chrome_options.add_argument('--disable-dev-shm-usage')\n",
        "wd = webdriver.Chrome('chromedriver',chrome_options=chrome_options)\n",
        "\n",
        "wd.get(\"http://naver.com\")"
      ],
      "execution_count": 4,
      "outputs": [
        {
          "output_type": "stream",
          "text": [
            "/usr/local/lib/python3.7/dist-packages/ipykernel_launcher.py:8: DeprecationWarning: use options instead of chrome_options\n",
            "  \n"
          ],
          "name": "stderr"
        }
      ]
    }
  ]
}