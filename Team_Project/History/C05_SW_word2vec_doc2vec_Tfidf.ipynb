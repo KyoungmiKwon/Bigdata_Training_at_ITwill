{
  "nbformat": 4,
  "nbformat_minor": 0,
  "metadata": {
    "colab": {
      "name": "word2vec_Tfidf.ipynb",
      "provenance": [],
      "collapsed_sections": [
        "jaKuPkQ8hpDV",
        "7hfG_OPpybjS"
      ]
    },
    "kernelspec": {
      "display_name": "Python 3",
      "name": "python3"
    },
    "language_info": {
      "name": "python"
    }
  },
  "cells": [
    {
      "cell_type": "markdown",
      "metadata": {
        "id": "jaKuPkQ8hpDV"
      },
      "source": [
        "# mecab colab에 설치"
      ]
    },
    {
      "cell_type": "code",
      "metadata": {
        "id": "U4BNcHLpckN-"
      },
      "source": [
        "%%bash\n",
        "apt-get update\n",
        "apt-get install g++ openjdk-8-jdk python-dev python3-dev\n",
        "pip3 install JPype1\n",
        "pip3 install konlpy"
      ],
      "execution_count": null,
      "outputs": []
    },
    {
      "cell_type": "code",
      "metadata": {
        "colab": {
          "base_uri": "https://localhost:8080/"
        },
        "id": "-eER4q12crn0",
        "outputId": "e7e8033e-9a0c-4521-c2bb-2eb6bfa6fe08"
      },
      "source": [
        "%env JAVA_HOME \"/usr/lib/jvm/java-8-openjdk-amd64\""
      ],
      "execution_count": 4,
      "outputs": [
        {
          "output_type": "stream",
          "text": [
            "env: JAVA_HOME=\"/usr/lib/jvm/java-8-openjdk-amd64\"\n"
          ],
          "name": "stdout"
        }
      ]
    },
    {
      "cell_type": "code",
      "metadata": {
        "id": "XdV3hjqLbar5"
      },
      "source": [
        "%%bash\n",
        "bash <(curl -s https://raw.githubusercontent.com/konlpy/konlpy/master/scripts/mecab.sh)\n",
        "pip3 install /tmp/mecab-python-0.996"
      ],
      "execution_count": null,
      "outputs": []
    },
    {
      "cell_type": "code",
      "metadata": {
        "id": "7tP69c-t7Kw_"
      },
      "source": [
        "#! git clone https://github.com/SOMJANG/Mecab-ko-for-Google-Colab.git\n",
        "#ls\n",
        "#cd /content/Mecab-ko-for-Google-Colab\n",
        "#! bash install_mecab-ko_on_colab190912.sh"
      ],
      "execution_count": 6,
      "outputs": []
    },
    {
      "cell_type": "markdown",
      "metadata": {
        "id": "ISSIGAYlhuGm"
      },
      "source": [
        "# imports"
      ]
    },
    {
      "cell_type": "code",
      "metadata": {
        "id": "y99AXPpCbkqK"
      },
      "source": [
        "import konlpy\n",
        "from konlpy.tag import Mecab"
      ],
      "execution_count": 250,
      "outputs": []
    },
    {
      "cell_type": "code",
      "metadata": {
        "id": "yV6S4XfggupM"
      },
      "source": [
        "import pandas as pd\n",
        "import numpy as np\n",
        "import matplotlib.pyplot as plt"
      ],
      "execution_count": 251,
      "outputs": []
    },
    {
      "cell_type": "code",
      "metadata": {
        "id": "2kTYVPIXbLD2"
      },
      "source": [
        "from sklearn.model_selection import train_test_split"
      ],
      "execution_count": 252,
      "outputs": []
    },
    {
      "cell_type": "code",
      "metadata": {
        "id": "UndjBiZXiyaX"
      },
      "source": [
        "from sklearn.linear_model import LogisticRegression"
      ],
      "execution_count": 253,
      "outputs": []
    },
    {
      "cell_type": "code",
      "metadata": {
        "id": "lDbv7LNqWtoe"
      },
      "source": [
        "from gensim.models import word2vec"
      ],
      "execution_count": 254,
      "outputs": []
    },
    {
      "cell_type": "code",
      "metadata": {
        "id": "yZTnE49zRvwV"
      },
      "source": [
        "from gensim.models import Doc2Vec"
      ],
      "execution_count": 255,
      "outputs": []
    },
    {
      "cell_type": "code",
      "metadata": {
        "id": "Bye_Nrq4nzzE"
      },
      "source": [
        "from sklearn.feature_extraction.text import TfidfVectorizer"
      ],
      "execution_count": 256,
      "outputs": []
    },
    {
      "cell_type": "code",
      "metadata": {
        "id": "DDrff-H4Woqq"
      },
      "source": [
        "# 진행 상황 나오는 log 설정\n",
        "# import logging\n",
        "# logging.basicConfig(format='%(asctime)s : %(levelname)s : %(message)s',\\\n",
        "#    level=logging.INFO)"
      ],
      "execution_count": 257,
      "outputs": []
    },
    {
      "cell_type": "markdown",
      "metadata": {
        "id": "fNzYMfWuhwtq"
      },
      "source": [
        "# 뉴스기사 불러오기"
      ]
    },
    {
      "cell_type": "code",
      "metadata": {
        "id": "ycd1v6JDgzfj"
      },
      "source": [
        "# 기사 excel 파일 load\n",
        "url = 'https://github.com/KyoungmiKwon/Bigdata_Training_at_ITwill/raw/main/Team_Project/C01_KM_Labeled.xlsx'\n",
        "news = pd.read_excel(url, header=1, usecols=['Code', 'Date', 'Journal', 'Title','Text','URL', 'Sentiment'])"
      ],
      "execution_count": 258,
      "outputs": []
    },
    {
      "cell_type": "code",
      "metadata": {
        "id": "m1Ydg152jvld"
      },
      "source": [
        "# 중복 제거 (labeling에 '중복' 적힌것 있음)\n",
        "news = news.drop_duplicates(subset=['Date', 'Text'], keep='first')"
      ],
      "execution_count": 259,
      "outputs": []
    },
    {
      "cell_type": "code",
      "metadata": {
        "colab": {
          "base_uri": "https://localhost:8080/"
        },
        "id": "Npt6gmP4vlmc",
        "outputId": "d5ad4761-b841-462e-cc0c-ca38286ed710"
      },
      "source": [
        "# 기사 본문 기자의 이메일 OOOO @ asdfas.com 에서 @ 전 까지의 내용으로 저장\n",
        "for i in range(len(news)):\n",
        "    news.iloc[i]['Text'] = news.iloc[i]['Text'].split(sep='@')[0]"
      ],
      "execution_count": 260,
      "outputs": [
        {
          "output_type": "stream",
          "text": [
            "/usr/local/lib/python3.7/dist-packages/ipykernel_launcher.py:3: SettingWithCopyWarning: \n",
            "A value is trying to be set on a copy of a slice from a DataFrame\n",
            "\n",
            "See the caveats in the documentation: https://pandas.pydata.org/pandas-docs/stable/user_guide/indexing.html#returning-a-view-versus-a-copy\n",
            "  This is separate from the ipykernel package so we can avoid doing imports until\n"
          ],
          "name": "stderr"
        }
      ]
    },
    {
      "cell_type": "code",
      "metadata": {
        "colab": {
          "base_uri": "https://localhost:8080/",
          "height": 186
        },
        "id": "Bu0Zv9y7hdMN",
        "outputId": "3cf3df41-fdb8-4b0b-b131-7daa3de7f546"
      },
      "source": [
        "news[:3]"
      ],
      "execution_count": 261,
      "outputs": [
        {
          "output_type": "execute_result",
          "data": {
            "text/html": [
              "<div>\n",
              "<style scoped>\n",
              "    .dataframe tbody tr th:only-of-type {\n",
              "        vertical-align: middle;\n",
              "    }\n",
              "\n",
              "    .dataframe tbody tr th {\n",
              "        vertical-align: top;\n",
              "    }\n",
              "\n",
              "    .dataframe thead th {\n",
              "        text-align: right;\n",
              "    }\n",
              "</style>\n",
              "<table border=\"1\" class=\"dataframe\">\n",
              "  <thead>\n",
              "    <tr style=\"text-align: right;\">\n",
              "      <th></th>\n",
              "      <th>Code</th>\n",
              "      <th>Date</th>\n",
              "      <th>Journal</th>\n",
              "      <th>Title</th>\n",
              "      <th>Text</th>\n",
              "      <th>URL</th>\n",
              "      <th>Sentiment</th>\n",
              "    </tr>\n",
              "  </thead>\n",
              "  <tbody>\n",
              "    <tr>\n",
              "      <th>0</th>\n",
              "      <td>5930</td>\n",
              "      <td>2021.04.13 17:50</td>\n",
              "      <td>파이낸셜뉴스</td>\n",
              "      <td>삼성전자 사내식당 2곳, 신세계·풀무원이 운영한다</td>\n",
              "      <td>삼성전자가 사내식당 2곳에 대해 실시한 외부 급식업체 경쟁입찰에서 '신세계푸드'와 ...</td>\n",
              "      <td>https://finance.naver.com/item/news_read.nhn?a...</td>\n",
              "      <td>1</td>\n",
              "    </tr>\n",
              "    <tr>\n",
              "      <th>1</th>\n",
              "      <td>5930</td>\n",
              "      <td>2021.04.13 03:11</td>\n",
              "      <td>파이낸셜뉴스</td>\n",
              "      <td>삼성전자 초청, 美 '반도체 회담'‥백악관 \"즉각적 결정 없을 것\"</td>\n",
              "      <td>조 바이든 미국 대통령이 12일(현지시간) '반도체 공급망 강화 온라인 회담'에 참...</td>\n",
              "      <td>https://finance.naver.com/item/news_read.nhn?a...</td>\n",
              "      <td>-1</td>\n",
              "    </tr>\n",
              "    <tr>\n",
              "      <th>2</th>\n",
              "      <td>5930</td>\n",
              "      <td>2021.04.08 14:55</td>\n",
              "      <td>파이낸셜뉴스</td>\n",
              "      <td>[특징주]로보스타, 삼성-LG전자 미래 신성장 동력 ‘로봇산업’ 육성 ...</td>\n",
              "      <td>[파이낸셜뉴스]미래 신성장 동력인 로봇산업에 삼성전자와 LG전자가 힘을 쏟을 것이란...</td>\n",
              "      <td>https://finance.naver.com/item/news_read.nhn?a...</td>\n",
              "      <td>1</td>\n",
              "    </tr>\n",
              "  </tbody>\n",
              "</table>\n",
              "</div>"
            ],
            "text/plain": [
              "   Code  ... Sentiment\n",
              "0  5930  ...         1\n",
              "1  5930  ...        -1\n",
              "2  5930  ...         1\n",
              "\n",
              "[3 rows x 7 columns]"
            ]
          },
          "metadata": {
            "tags": []
          },
          "execution_count": 261
        }
      ]
    },
    {
      "cell_type": "markdown",
      "metadata": {
        "id": "dccH1Gb1puKO"
      },
      "source": [
        "# word2vec"
      ]
    },
    {
      "cell_type": "code",
      "metadata": {
        "id": "FCmVbzHkWNwT"
      },
      "source": [
        "# https://devtimes.com/nb-text-classification-word2vec"
      ],
      "execution_count": 262,
      "outputs": []
    },
    {
      "cell_type": "code",
      "metadata": {
        "id": "hYeqn8s2c93r"
      },
      "source": [
        "mecab = Mecab()"
      ],
      "execution_count": 263,
      "outputs": []
    },
    {
      "cell_type": "code",
      "metadata": {
        "id": "dpFcaRLaXDub"
      },
      "source": [
        "tag_classes = ['NNP', 'NNG', 'VV+EC', 'XSV+EP']   # 추출할 품사 종류\n",
        "stopwords = [np.nan, '삼성전자', '삼성', '인텔', '데일리', '기자', 'LG전자', 'LG', 'YG', 'JYP', '뉴스', '파이낸셜'] # 불용어 처리\n",
        "Text = []\n",
        "for main in news['Text']:    # 표에서 메인 기사 개수만큼 반복\n",
        "    temp=[]                     # 임시저장할 배열\n",
        "    for word in mecab.pos(main):        # 기사에서 (단어, 품사) 형태의 word 뽑아내서 하나씩 사용\n",
        "        if word[1] in tag_classes:      # word[1]=>품사 가 추출할 품사종류에 들어 있으면\n",
        "            if word[0] not in stopwords:    # 불용어에 들어있지 않으면\n",
        "                temp.append(word[0])           # temp배열에 단어=> word[0] 추가\n",
        "    Text.append(temp)         # test 셋 배열에 저장"
      ],
      "execution_count": 264,
      "outputs": []
    },
    {
      "cell_type": "code",
      "metadata": {
        "colab": {
          "base_uri": "https://localhost:8080/"
        },
        "id": "Ba7wXPD4XDpw",
        "outputId": "40d8da11-e13b-496a-c109-e08777d628d3"
      },
      "source": [
        "len(Text)"
      ],
      "execution_count": 265,
      "outputs": [
        {
          "output_type": "execute_result",
          "data": {
            "text/plain": [
              "1592"
            ]
          },
          "metadata": {
            "tags": []
          },
          "execution_count": 265
        }
      ]
    },
    {
      "cell_type": "markdown",
      "metadata": {
        "id": "sVq7YHeuWcyJ"
      },
      "source": [
        "* num_fratures : 각 단어에 대한 임베딩된 벡터의 차원을 정한다.\n",
        "* minwordcount : 모델에 의미 있는 단어를 가지고 학습하기 위해 적은 빈도 수의 단어들은 학습하지 않는다.\n",
        "* num_workers : 모델에 의미 있는 단어를 가지고 학습하기 위해 적은 빈도 수의 단어들은 학습하지 않는다.\n",
        "* context : word2vec을 수행하기 위한 컨텍스트 윈도우 크기를 지정한다.\n",
        "* downsampling : word2vec 학습을 수행할 때 더 빠른 학습을 위해 정답 단어 라벨에 대한 다운샘플링 비율을 지정한다. (보통 0.001이 좋은 성능을 낸다고 한다)"
      ]
    },
    {
      "cell_type": "code",
      "metadata": {
        "id": "N9iC0zu2WPoC"
      },
      "source": [
        "# 학습 시 필요한 하이퍼 파라미터\n",
        "num_features = 1500    # 워드 백터 특정값 수\n",
        "min_word_count = 2   # 단어에 대한 최소 빈도 수\n",
        "num_workers = 4       # 프로세스 개수\n",
        "context = 5         # 컨텍스트 윈도우 크기, 앞 뒤 5개씩 관련\n",
        "downsampling = 1e-3   # 다운 샘플링 비율"
      ],
      "execution_count": 266,
      "outputs": []
    },
    {
      "cell_type": "code",
      "metadata": {
        "id": "CZu-OdNHWz-K"
      },
      "source": [
        "model = word2vec.Word2Vec(Text,\n",
        "                        workers=num_workers,\n",
        "                        size=num_features,\n",
        "                        min_count=min_word_count,\n",
        "                        window=context,\n",
        "                        sample=downsampling) #epoch= 횟수 추가할수있음"
      ],
      "execution_count": null,
      "outputs": []
    },
    {
      "cell_type": "code",
      "metadata": {
        "colab": {
          "base_uri": "https://localhost:8080/"
        },
        "id": "vG7-XtRgXhJ0",
        "outputId": "8740dad7-dfe3-4bf7-bce1-5c0de11d2892"
      },
      "source": [
        "# 모델의 하이퍼파라미터를 설정한 내용을 모델 이름에 담는다면 나중에 참고하기 용이하다.\n",
        "# 모델을 저장하면 Word2Vec.load()를 통해 다시 사용할 수 있다.\n",
        "model_name = \"word2_model\"\n",
        "model.save(model_name)"
      ],
      "execution_count": 268,
      "outputs": [
        {
          "output_type": "stream",
          "text": [
            "2021-04-23 07:50:49,000 : INFO : saving Word2Vec object under word2_model, separately None\n",
            "2021-04-23 07:50:49,006 : INFO : storing np array 'vectors' to word2_model.wv.vectors.npy\n",
            "2021-04-23 07:50:49,062 : INFO : not storing attribute vectors_norm\n",
            "2021-04-23 07:50:49,066 : INFO : storing np array 'syn1neg' to word2_model.trainables.syn1neg.npy\n",
            "2021-04-23 07:50:49,120 : INFO : not storing attribute cum_table\n",
            "2021-04-23 07:50:49,143 : INFO : saved word2_model\n"
          ],
          "name": "stderr"
        }
      ]
    },
    {
      "cell_type": "markdown",
      "metadata": {
        "id": "DulOnIUTYNHY"
      },
      "source": [
        "* words : 단어의 모음인 하나의 리뷰가 들어간다.\n",
        "* model : word2vec 모델을 넣는 공이며, 우리가 학습한 word2vec 모델이 들어간다.\n",
        "* num_features : word2vec으로 임베딩할 때 정했던 벡터의 차원 수를 뜻한다.\n",
        "\n",
        "하나의 벡터를 만드는 과정을 빠르게 하기 위해 np.zeros를 사용해 미리 모두 0값을 가지는 벡터를 만든다. 그리고 문장의 단어가 모델 단어사전에 속하는지 보기 위해 model.wv.index2word를 set객체로 생성해서 index2word_set 변수에 할당한다. 다음 반복문을 통해 리뷰를 구성하는 단어에 대해 임베딩된 벡터가 있는 단어 벡터의 합을 구하고 사용한 단어의 전체 개수로 나누어 평균 벡터의 값을 구한다.\n"
      ]
    },
    {
      "cell_type": "code",
      "metadata": {
        "id": "83dJL_nDX-N5"
      },
      "source": [
        "def get_features(words, model, num_features):\n",
        "    # 출력 벡터 초기화\n",
        "    feature_vector = np.zeros((num_features), dtype=np.float32)\n",
        "    \n",
        "    num_words = 0\n",
        "    # 어휘 사전 준비\n",
        "    index2word_set = set(model.wv.index2word)\n",
        "    \n",
        "    for w in words:\n",
        "        if w in index2word_set:\n",
        "            num_words = 1\n",
        "            # 사전에 해당하는 단어에 대해 단어 벡터를 더함\n",
        "            feature_vector = np.add(feature_vector, model[w])\n",
        "            \n",
        "    # 문장의 단어 수만큼 나누어 단어 벡터의 평균값을 문장 벡터로 함\n",
        "    feature_vector = np.divide(feature_vector, num_words)\n",
        "    return feature_vector"
      ],
      "execution_count": 269,
      "outputs": []
    },
    {
      "cell_type": "markdown",
      "metadata": {
        "id": "gCzG7ua3Yt2J"
      },
      "source": [
        "* news : 학습 데이터인 전체 리뷰 데이터를 입력\n",
        "* model : word2vec 모델을 입력\n",
        "* num_features : word2vec으로 임베딩할 때 정했던 벡터의 차원 수"
      ]
    },
    {
      "cell_type": "code",
      "metadata": {
        "id": "j76A6b0PYVDD"
      },
      "source": [
        "def get_dataset(news, model, num_features):\n",
        "    dataset = list()\n",
        "    \n",
        "    for s in news:\n",
        "        dataset.append(get_features(s, model, num_features))\n",
        "        \n",
        "    NewsFeatureVecs = np.stack(dataset)\n",
        "    return NewsFeatureVecs"
      ],
      "execution_count": 270,
      "outputs": []
    },
    {
      "cell_type": "code",
      "metadata": {
        "colab": {
          "base_uri": "https://localhost:8080/"
        },
        "id": "ALs_fQUhYhwQ",
        "outputId": "6c3a1424-3168-4c57-faf3-fc95d02f299e"
      },
      "source": [
        "test_data_vecs = get_dataset(Text, model, num_features)"
      ],
      "execution_count": 271,
      "outputs": [
        {
          "output_type": "stream",
          "text": [
            "/usr/local/lib/python3.7/dist-packages/ipykernel_launcher.py:13: DeprecationWarning: Call to deprecated `__getitem__` (Method will be removed in 4.0.0, use self.wv.__getitem__() instead).\n",
            "  del sys.path[0]\n"
          ],
          "name": "stderr"
        }
      ]
    },
    {
      "cell_type": "code",
      "metadata": {
        "colab": {
          "base_uri": "https://localhost:8080/"
        },
        "id": "TIiactoDaSR_",
        "outputId": "d6133f5d-006d-4a25-9ffc-b355fec4a45b"
      },
      "source": [
        "len(test_data_vecs)"
      ],
      "execution_count": 272,
      "outputs": [
        {
          "output_type": "execute_result",
          "data": {
            "text/plain": [
              "1592"
            ]
          },
          "metadata": {
            "tags": []
          },
          "execution_count": 272
        }
      ]
    },
    {
      "cell_type": "code",
      "metadata": {
        "id": "hm6ZQDjIbR-i"
      },
      "source": [
        "X = test_data_vecs\n",
        "y = np.array(news['Sentiment'])\n",
        "\n",
        "X_train, X_test, y_train, y_test = train_test_split(X, y,\n",
        "                                                    test_size = 0.2,\n",
        "                                                    random_state=42)"
      ],
      "execution_count": 273,
      "outputs": []
    },
    {
      "cell_type": "code",
      "metadata": {
        "colab": {
          "base_uri": "https://localhost:8080/"
        },
        "id": "k-nYjmG8ck11",
        "outputId": "656d304b-a72f-4084-9095-210400017068"
      },
      "source": [
        "log_reg = LogisticRegression(class_weight='balanced', max_iter=1200)\n",
        "log_reg.fit(X_train, y_train)"
      ],
      "execution_count": 274,
      "outputs": [
        {
          "output_type": "stream",
          "text": [
            "/usr/local/lib/python3.7/dist-packages/sklearn/linear_model/_logistic.py:940: ConvergenceWarning: lbfgs failed to converge (status=1):\n",
            "STOP: TOTAL NO. of ITERATIONS REACHED LIMIT.\n",
            "\n",
            "Increase the number of iterations (max_iter) or scale the data as shown in:\n",
            "    https://scikit-learn.org/stable/modules/preprocessing.html\n",
            "Please also refer to the documentation for alternative solver options:\n",
            "    https://scikit-learn.org/stable/modules/linear_model.html#logistic-regression\n",
            "  extra_warning_msg=_LOGISTIC_SOLVER_CONVERGENCE_MSG)\n"
          ],
          "name": "stderr"
        },
        {
          "output_type": "execute_result",
          "data": {
            "text/plain": [
              "LogisticRegression(C=1.0, class_weight='balanced', dual=False,\n",
              "                   fit_intercept=True, intercept_scaling=1, l1_ratio=None,\n",
              "                   max_iter=1200, multi_class='auto', n_jobs=None, penalty='l2',\n",
              "                   random_state=None, solver='lbfgs', tol=0.0001, verbose=0,\n",
              "                   warm_start=False)"
            ]
          },
          "metadata": {
            "tags": []
          },
          "execution_count": 274
        }
      ]
    },
    {
      "cell_type": "code",
      "metadata": {
        "colab": {
          "base_uri": "https://localhost:8080/"
        },
        "id": "tirhje2Jc4hj",
        "outputId": "c559a1de-7020-4b89-908d-8a457d313050"
      },
      "source": [
        "log_reg.score(X_train, y_train)"
      ],
      "execution_count": 275,
      "outputs": [
        {
          "output_type": "execute_result",
          "data": {
            "text/plain": [
              "0.6362922230950511"
            ]
          },
          "metadata": {
            "tags": []
          },
          "execution_count": 275
        }
      ]
    },
    {
      "cell_type": "code",
      "metadata": {
        "colab": {
          "base_uri": "https://localhost:8080/"
        },
        "id": "tTuII_eBjPxz",
        "outputId": "d9a071ce-55df-4610-fb6a-acb0815f5366"
      },
      "source": [
        "log_reg.score(X_test, y_test)"
      ],
      "execution_count": 276,
      "outputs": [
        {
          "output_type": "execute_result",
          "data": {
            "text/plain": [
              "0.6206896551724138"
            ]
          },
          "metadata": {
            "tags": []
          },
          "execution_count": 276
        }
      ]
    },
    {
      "cell_type": "code",
      "metadata": {
        "id": "FBu35AM5kSZI",
        "colab": {
          "base_uri": "https://localhost:8080/"
        },
        "outputId": "08e529e9-a0fd-4efc-f2ce-03333dffdb03"
      },
      "source": [
        "x = range(100, 2000, 100)\n",
        "test_score = []\n",
        "train_score = []\n",
        "for i in x:\n",
        "    log_reg = LogisticRegression(class_weight='balanced', max_iter=i)\n",
        "    log_reg.fit(X_train, y_train)\n",
        "    train_score.append(log_reg.score(X_train, y_train))\n",
        "    test_score.append(log_reg.score(X_test, y_test))"
      ],
      "execution_count": 277,
      "outputs": [
        {
          "output_type": "stream",
          "text": [
            "/usr/local/lib/python3.7/dist-packages/sklearn/linear_model/_logistic.py:940: ConvergenceWarning: lbfgs failed to converge (status=1):\n",
            "STOP: TOTAL NO. of ITERATIONS REACHED LIMIT.\n",
            "\n",
            "Increase the number of iterations (max_iter) or scale the data as shown in:\n",
            "    https://scikit-learn.org/stable/modules/preprocessing.html\n",
            "Please also refer to the documentation for alternative solver options:\n",
            "    https://scikit-learn.org/stable/modules/linear_model.html#logistic-regression\n",
            "  extra_warning_msg=_LOGISTIC_SOLVER_CONVERGENCE_MSG)\n",
            "/usr/local/lib/python3.7/dist-packages/sklearn/linear_model/_logistic.py:940: ConvergenceWarning: lbfgs failed to converge (status=1):\n",
            "STOP: TOTAL NO. of ITERATIONS REACHED LIMIT.\n",
            "\n",
            "Increase the number of iterations (max_iter) or scale the data as shown in:\n",
            "    https://scikit-learn.org/stable/modules/preprocessing.html\n",
            "Please also refer to the documentation for alternative solver options:\n",
            "    https://scikit-learn.org/stable/modules/linear_model.html#logistic-regression\n",
            "  extra_warning_msg=_LOGISTIC_SOLVER_CONVERGENCE_MSG)\n"
          ],
          "name": "stderr"
        }
      ]
    },
    {
      "cell_type": "code",
      "metadata": {
        "colab": {
          "base_uri": "https://localhost:8080/",
          "height": 265
        },
        "id": "GgqcZWM_lX4p",
        "outputId": "7f9c0aaf-101e-4364-8b8b-f0f1d97fd4b4"
      },
      "source": [
        "plt.plot(x, train_score, label='train')\n",
        "plt.plot(x, test_score, label='test')\n",
        "plt.grid()\n",
        "plt.legend()\n",
        "plt.show()"
      ],
      "execution_count": 278,
      "outputs": [
        {
          "output_type": "display_data",
          "data": {
            "image/png": "[encoded data removed]",
            "text/plain": [
              "<Figure size 432x288 with 1 Axes>"
            ]
          },
          "metadata": {
            "tags": [],
            "needs_background": "light"
          }
        }
      ]
    },
    {
      "cell_type": "code",
      "metadata": {
        "id": "yrAhbjKrl1L2"
      },
      "source": [
        "## 라벨링 안되어 있는거 하는 순서\n",
        "# test_data = pd.read_csv(DATA_IN_PATH + TEST_CLEAN_DATA)\n",
        "# test_news = list(test_data['Text'])\n",
        "# test_sentences = []\n",
        "# for review in test_review:\n",
        "#     test_sentences.append(news.split())\n",
        "#test_data_vecs = get_dataset(test_sentences, model, num_features)\n",
        "#test_predicted = log_reg.predict(test_data_vecs)"
      ],
      "execution_count": 279,
      "outputs": []
    },
    {
      "cell_type": "code",
      "metadata": {
        "id": "sxY9dpREeVSA"
      },
      "source": [
        "url = 'https://github.com/KyoungmiKwon/Bigdata_Training_at_ITwill/raw/main/Team_Project/C01_KM_NotLabeled.xlsx'\n",
        "test_data = pd.read_excel(url, header=0, usecols=['Code', 'Date', 'Journal', 'Title','Text','URL', 'Sentiment'])\n",
        "test_news = list(test_data['Text'])"
      ],
      "execution_count": 280,
      "outputs": []
    },
    {
      "cell_type": "code",
      "metadata": {
        "id": "Ph-62XK7eVMj"
      },
      "source": [
        "tag_classes = ['NNP', 'NNG', 'VV+EC', 'XSV+EP']   # 추출할 품사 종류\n",
        "stopwords = ['삼성전자', '삼성', '인텔', '데일리', '기자', 'LG전자', 'LG', 'YG', 'JYP', '뉴스', '파이낸셜'] # 불용어 처리\n",
        "Test_text = []\n",
        "for main in test_news:    # 표에서 메인 기사 개수만큼 반복\n",
        "    temp=[]                     # 임시저장할 배열\n",
        "    for word in mecab.pos(main):        # 기사에서 (단어, 품사) 형태의 word 뽑아내서 하나씩 사용\n",
        "        if word[1] in tag_classes:      # word[1]=>품사 가 추출할 품사종류에 들어 있으면\n",
        "            if word[0] not in stopwords:    # 불용어에 들어있지 않으면\n",
        "                temp.append(word[0])           # temp배열에 단어=> word[0] 추가\n",
        "    Test_text.append(temp)         # test 셋 배열에 저장"
      ],
      "execution_count": 281,
      "outputs": []
    },
    {
      "cell_type": "code",
      "metadata": {
        "colab": {
          "base_uri": "https://localhost:8080/"
        },
        "id": "_REqe0T1g_WX",
        "outputId": "a4dcd35a-4b12-40d0-e623-1e1b8f063302"
      },
      "source": [
        "test_data_vecs = get_dataset(Test_text, word2vec.Word2Vec.load('/content/word2_model'), num_features) # num_features=1500"
      ],
      "execution_count": 282,
      "outputs": [
        {
          "output_type": "stream",
          "text": [
            "2021-04-23 07:55:04,297 : INFO : loading Word2Vec object from /content/word2_model\n",
            "2021-04-23 07:55:04,341 : INFO : loading wv recursively from /content/word2_model.wv.* with mmap=None\n",
            "2021-04-23 07:55:04,343 : INFO : loading vectors from /content/word2_model.wv.vectors.npy with mmap=None\n",
            "2021-04-23 07:55:04,363 : INFO : setting ignored attribute vectors_norm to None\n",
            "2021-04-23 07:55:04,365 : INFO : loading vocabulary recursively from /content/word2_model.vocabulary.* with mmap=None\n",
            "2021-04-23 07:55:04,367 : INFO : loading trainables recursively from /content/word2_model.trainables.* with mmap=None\n",
            "2021-04-23 07:55:04,369 : INFO : loading syn1neg from /content/word2_model.trainables.syn1neg.npy with mmap=None\n",
            "2021-04-23 07:55:04,388 : INFO : setting ignored attribute cum_table to None\n",
            "2021-04-23 07:55:04,390 : INFO : loaded /content/word2_model\n",
            "/usr/local/lib/python3.7/dist-packages/ipykernel_launcher.py:13: DeprecationWarning: Call to deprecated `__getitem__` (Method will be removed in 4.0.0, use self.wv.__getitem__() instead).\n",
            "  del sys.path[0]\n"
          ],
          "name": "stderr"
        }
      ]
    },
    {
      "cell_type": "code",
      "metadata": {
        "id": "fLtS73Fxg_Nq"
      },
      "source": [
        "sentiment = log_reg.predict(test_data_vecs)"
      ],
      "execution_count": 283,
      "outputs": []
    },
    {
      "cell_type": "code",
      "metadata": {
        "id": "tki7ZDU7jefl"
      },
      "source": [
        "test_data['Sentiment'] = sentiment"
      ],
      "execution_count": 284,
      "outputs": []
    },
    {
      "cell_type": "code",
      "metadata": {
        "colab": {
          "base_uri": "https://localhost:8080/",
          "height": 511
        },
        "id": "WXl8epZWku_v",
        "outputId": "d3ea017c-d4cd-4b0a-eed1-bc69026e6ef5"
      },
      "source": [
        "test_data[-10:]"
      ],
      "execution_count": 285,
      "outputs": [
        {
          "output_type": "execute_result",
          "data": {
            "text/html": [
              "<div>\n",
              "<style scoped>\n",
              "    .dataframe tbody tr th:only-of-type {\n",
              "        vertical-align: middle;\n",
              "    }\n",
              "\n",
              "    .dataframe tbody tr th {\n",
              "        vertical-align: top;\n",
              "    }\n",
              "\n",
              "    .dataframe thead th {\n",
              "        text-align: right;\n",
              "    }\n",
              "</style>\n",
              "<table border=\"1\" class=\"dataframe\">\n",
              "  <thead>\n",
              "    <tr style=\"text-align: right;\">\n",
              "      <th></th>\n",
              "      <th>Code</th>\n",
              "      <th>Date</th>\n",
              "      <th>Journal</th>\n",
              "      <th>Title</th>\n",
              "      <th>Text</th>\n",
              "      <th>URL</th>\n",
              "      <th>Sentiment</th>\n",
              "    </tr>\n",
              "  </thead>\n",
              "  <tbody>\n",
              "    <tr>\n",
              "      <th>6391</th>\n",
              "      <td>66570</td>\n",
              "      <td>2020.10.14 10:10</td>\n",
              "      <td>서울경제</td>\n",
              "      <td>\"노인돌봄, 디지털로 진화한다\"···LG유플러스-한컴위드-LG전자 협업</td>\n",
              "      <td>시니어케어 산업 함께 성장하는 생태계 조성박종욱(왼쪽부터) LG유플러스 CSO 전무...</td>\n",
              "      <td>https://finance.naver.com/item/news_read.nhn?a...</td>\n",
              "      <td>1</td>\n",
              "    </tr>\n",
              "    <tr>\n",
              "      <th>6392</th>\n",
              "      <td>66570</td>\n",
              "      <td>2020.10.13 17:38</td>\n",
              "      <td>한국경제</td>\n",
              "      <td>LG전자, ‘LG 퓨리케어 정수기’ 2020년도 9관왕 수상 기념 특별...</td>\n",
              "      <td>브랜드·환경·디자인 등 다분야 수상 석권… 총 9개 부문 수상▲사진 제공 : LG전...</td>\n",
              "      <td>https://finance.naver.com/item/news_read.nhn?a...</td>\n",
              "      <td>1</td>\n",
              "    </tr>\n",
              "    <tr>\n",
              "      <th>6393</th>\n",
              "      <td>66570</td>\n",
              "      <td>2020.10.13 11:11</td>\n",
              "      <td>서울경제</td>\n",
              "      <td>LG전자 로봇청소기 광고영상 1,000만뷰 돌파</td>\n",
              "      <td>물걸레 전용 로봇청소기 ‘코드제로 M9 씽큐’편리함 소개 광고들 잇따라 ‘천만 조회...</td>\n",
              "      <td>https://finance.naver.com/item/news_read.nhn?a...</td>\n",
              "      <td>1</td>\n",
              "    </tr>\n",
              "    <tr>\n",
              "      <th>6394</th>\n",
              "      <td>66570</td>\n",
              "      <td>2020.10.13 11:01</td>\n",
              "      <td>헤럴드경제</td>\n",
              "      <td>LG전자 물걸레 전용 로봇청소기 광고 잇따라 1000만뷰</td>\n",
              "      <td>더럽히는 로봇과 코드제로 M9 씽큐 청소 대결박상현 캐스터와 김동준 해설가의 중계로...</td>\n",
              "      <td>https://finance.naver.com/item/news_read.nhn?a...</td>\n",
              "      <td>0</td>\n",
              "    </tr>\n",
              "    <tr>\n",
              "      <th>6395</th>\n",
              "      <td>66570</td>\n",
              "      <td>2020.10.13 11:01</td>\n",
              "      <td>이데일리</td>\n",
              "      <td>LG전자, 로봇청소기 광고영상 1000만뷰 돌파</td>\n",
              "      <td>[이데일리 신민준 기자] LG전자(066570)가 최근 출시한 물걸레 전용 로봇청소...</td>\n",
              "      <td>https://finance.naver.com/item/news_read.nhn?a...</td>\n",
              "      <td>1</td>\n",
              "    </tr>\n",
              "    <tr>\n",
              "      <th>6396</th>\n",
              "      <td>66570</td>\n",
              "      <td>2020.10.12 15:48</td>\n",
              "      <td>이데일리</td>\n",
              "      <td>\"펜트업 수요 폭발\"…삼성·LG전자, TV기술 경쟁 후끈</td>\n",
              "      <td>LG, 오는 14일부터 VVIP 대상 롤러블TV 예약 판매삼성, 미니LED TV로 ...</td>\n",
              "      <td>https://finance.naver.com/item/news_read.nhn?a...</td>\n",
              "      <td>1</td>\n",
              "    </tr>\n",
              "    <tr>\n",
              "      <th>6397</th>\n",
              "      <td>66570</td>\n",
              "      <td>2020.10.12 15:37</td>\n",
              "      <td>머니투데이</td>\n",
              "      <td>베트남에 전장 R&amp;D센터 확대하는 LG전자…흑자전환 '드라이브'</td>\n",
              "      <td>[머니투데이 박소연 기자] [3분기, 상반기 부진 딛고 적자폭 크게 줄어…내년 2분...</td>\n",
              "      <td>https://finance.naver.com/item/news_read.nhn?a...</td>\n",
              "      <td>0</td>\n",
              "    </tr>\n",
              "    <tr>\n",
              "      <th>6398</th>\n",
              "      <td>66570</td>\n",
              "      <td>2020.10.12 14:00</td>\n",
              "      <td>서울경제</td>\n",
              "      <td>\"LG전자, 올 홈엔터 최고 브랜드\"</td>\n",
              "      <td>英 전문매체 선정···韓기업 유일TV 종합평가서도 상위권 싹쓸이호주 시드니에 위치한...</td>\n",
              "      <td>https://finance.naver.com/item/news_read.nhn?a...</td>\n",
              "      <td>1</td>\n",
              "    </tr>\n",
              "    <tr>\n",
              "      <th>6399</th>\n",
              "      <td>66570</td>\n",
              "      <td>2020.10.12 11:23</td>\n",
              "      <td>헤럴드경제</td>\n",
              "      <td>LG전자, 英서 최고 ‘홈엔터테인먼트 브랜드’</td>\n",
              "      <td>유력 소비자 전문매체 ‘위치’ 선정영국 유력 소비자 전문매체 ‘위치’로부터 최고 평...</td>\n",
              "      <td>https://finance.naver.com/item/news_read.nhn?a...</td>\n",
              "      <td>1</td>\n",
              "    </tr>\n",
              "    <tr>\n",
              "      <th>6400</th>\n",
              "      <td>66570</td>\n",
              "      <td>2020.10.12 10:39</td>\n",
              "      <td>서울경제</td>\n",
              "      <td>LG전자, 탈모인 100명에 ‘LG 프라엘 메디헤어’ 쏜다</td>\n",
              "      <td>이달 말 정식 출시 앞둔헬맷 탈모 치료용 의료기기식약처 허가·美 FDA 인가 획득“...</td>\n",
              "      <td>https://finance.naver.com/item/news_read.nhn?a...</td>\n",
              "      <td>1</td>\n",
              "    </tr>\n",
              "  </tbody>\n",
              "</table>\n",
              "</div>"
            ],
            "text/plain": [
              "       Code  ... Sentiment\n",
              "6391  66570  ...         1\n",
              "6392  66570  ...         1\n",
              "6393  66570  ...         1\n",
              "6394  66570  ...         0\n",
              "6395  66570  ...         1\n",
              "6396  66570  ...         1\n",
              "6397  66570  ...         0\n",
              "6398  66570  ...         1\n",
              "6399  66570  ...         1\n",
              "6400  66570  ...         1\n",
              "\n",
              "[10 rows x 7 columns]"
            ]
          },
          "metadata": {
            "tags": []
          },
          "execution_count": 285
        }
      ]
    },
    {
      "cell_type": "code",
      "metadata": {
        "id": "UrGAIDxBthkC"
      },
      "source": [
        "test_data.to_excel(\"article.xlsx\")"
      ],
      "execution_count": null,
      "outputs": []
    },
    {
      "cell_type": "markdown",
      "metadata": {
        "id": "eeCXlJDKPBL8"
      },
      "source": [
        "# Doc2vec"
      ]
    },
    {
      "cell_type": "code",
      "metadata": {
        "id": "39Ol2wlOREWa"
      },
      "source": [
        "# Doc2vec 파라미터 설명\n",
        "# https://roboreport.co.kr/doc2vec-%ED%9B%88%EB%A0%A8-%ED%8C%8C%EB%9D%BC%EB%AF%B8%ED%84%B0-%EC%84%A4%EB%AA%85/"
      ],
      "execution_count": 286,
      "outputs": []
    },
    {
      "cell_type": "code",
      "metadata": {
        "id": "3GWMzihcVkN2"
      },
      "source": [
        "from gensim.models.doc2vec import TaggedDocument\n",
        "documents = [TaggedDocument(doc, [i]) for i, doc in enumerate(Text)]"
      ],
      "execution_count": 348,
      "outputs": []
    },
    {
      "cell_type": "code",
      "metadata": {
        "colab": {
          "base_uri": "https://localhost:8080/"
        },
        "id": "kgkUzIbjPDYS",
        "outputId": "07106711-a55a-475a-d6f9-3ab394e07ba8"
      },
      "source": [
        "model = Doc2Vec(documents, min_count=2, window=10, vector_size=num_features, neagtive=5, sample=1e-4, workers=4) "
      ],
      "execution_count": 349,
      "outputs": [
        {
          "output_type": "stream",
          "text": [
            "2021-04-23 08:12:12,348 : INFO : worker thread finished; awaiting finish of 3 more threads\n",
            "2021-04-23 08:12:12,392 : INFO : worker thread finished; awaiting finish of 2 more threads\n",
            "2021-04-23 08:12:12,438 : INFO : worker thread finished; awaiting finish of 1 more threads\n",
            "2021-04-23 08:12:12,480 : INFO : worker thread finished; awaiting finish of 0 more threads\n",
            "2021-04-23 08:12:12,482 : INFO : EPOCH - 5 : training on 331077 raw words (196164 effective words) took 2.3s, 84446 effective words/s\n",
            "2021-04-23 08:12:12,491 : INFO : training on a 1655385 raw words (980321 effective words) took 11.6s, 84718 effective words/s\n"
          ],
          "name": "stderr"
        }
      ]
    },
    {
      "cell_type": "code",
      "metadata": {
        "colab": {
          "base_uri": "https://localhost:8080/"
        },
        "id": "1863rZ7-PDU3",
        "outputId": "ac8e93fa-a63f-4899-85ed-e175fd4b4397"
      },
      "source": [
        "model_name = \"Doc2_model\"\n",
        "model.save(model_name)"
      ],
      "execution_count": 289,
      "outputs": [
        {
          "output_type": "stream",
          "text": [
            "2021-04-23 07:55:30,079 : INFO : saving Doc2Vec object under Doc2_model, separately None\n",
            "2021-04-23 07:55:30,082 : INFO : storing np array 'syn1neg' to Doc2_model.trainables.syn1neg.npy\n",
            "2021-04-23 07:55:30,139 : INFO : storing np array 'vectors' to Doc2_model.wv.vectors.npy\n",
            "2021-04-23 07:55:30,305 : INFO : saved Doc2_model\n"
          ],
          "name": "stderr"
        }
      ]
    },
    {
      "cell_type": "code",
      "metadata": {
        "colab": {
          "base_uri": "https://localhost:8080/"
        },
        "id": "UF6-FUY1PDSK",
        "outputId": "58d3bbf4-2d8e-4271-d26f-486d51372ca7"
      },
      "source": [
        "test_data_vecs = get_dataset(Text, Doc2Vec.load('/content/Doc2_model'), num_features)"
      ],
      "execution_count": 290,
      "outputs": [
        {
          "output_type": "stream",
          "text": [
            "2021-04-23 07:55:30,315 : INFO : loading Doc2Vec object from /content/Doc2_model\n",
            "2021-04-23 07:55:30,601 : INFO : loading vocabulary recursively from /content/Doc2_model.vocabulary.* with mmap=None\n",
            "2021-04-23 07:55:30,603 : INFO : loading trainables recursively from /content/Doc2_model.trainables.* with mmap=None\n",
            "2021-04-23 07:55:30,606 : INFO : loading syn1neg from /content/Doc2_model.trainables.syn1neg.npy with mmap=None\n",
            "2021-04-23 07:55:30,623 : INFO : loading wv recursively from /content/Doc2_model.wv.* with mmap=None\n",
            "2021-04-23 07:55:30,625 : INFO : loading vectors from /content/Doc2_model.wv.vectors.npy with mmap=None\n",
            "2021-04-23 07:55:30,643 : INFO : loading docvecs recursively from /content/Doc2_model.docvecs.* with mmap=None\n",
            "2021-04-23 07:55:30,647 : INFO : loaded /content/Doc2_model\n"
          ],
          "name": "stderr"
        }
      ]
    },
    {
      "cell_type": "code",
      "metadata": {
        "colab": {
          "base_uri": "https://localhost:8080/"
        },
        "id": "ZKDJgIpcUJUe",
        "outputId": "7d9b59ad-38cc-4b11-9bc2-b6d26b8839ad"
      },
      "source": [
        "len(test_data_vecs)"
      ],
      "execution_count": 291,
      "outputs": [
        {
          "output_type": "execute_result",
          "data": {
            "text/plain": [
              "1592"
            ]
          },
          "metadata": {
            "tags": []
          },
          "execution_count": 291
        }
      ]
    },
    {
      "cell_type": "code",
      "metadata": {
        "id": "MF3drAK0ULDv"
      },
      "source": [
        "X = test_data_vecs\n",
        "y = np.array(news['Sentiment'])\n",
        "\n",
        "X_train, X_test, y_train, y_test = train_test_split(X, y,\n",
        "                                                    test_size = 0.2,\n",
        "                                                    random_state=42)"
      ],
      "execution_count": 292,
      "outputs": []
    },
    {
      "cell_type": "code",
      "metadata": {
        "colab": {
          "base_uri": "https://localhost:8080/"
        },
        "id": "CXImyghtULA5",
        "outputId": "9ab61f7e-16ce-4f08-81fe-d3e59d238eb7"
      },
      "source": [
        "log_reg = LogisticRegression(class_weight='balanced', max_iter=1200)\n",
        "log_reg.fit(X_train, y_train)"
      ],
      "execution_count": 293,
      "outputs": [
        {
          "output_type": "stream",
          "text": [
            "/usr/local/lib/python3.7/dist-packages/sklearn/linear_model/_logistic.py:940: ConvergenceWarning: lbfgs failed to converge (status=1):\n",
            "STOP: TOTAL NO. of ITERATIONS REACHED LIMIT.\n",
            "\n",
            "Increase the number of iterations (max_iter) or scale the data as shown in:\n",
            "    https://scikit-learn.org/stable/modules/preprocessing.html\n",
            "Please also refer to the documentation for alternative solver options:\n",
            "    https://scikit-learn.org/stable/modules/linear_model.html#logistic-regression\n",
            "  extra_warning_msg=_LOGISTIC_SOLVER_CONVERGENCE_MSG)\n"
          ],
          "name": "stderr"
        },
        {
          "output_type": "execute_result",
          "data": {
            "text/plain": [
              "LogisticRegression(C=1.0, class_weight='balanced', dual=False,\n",
              "                   fit_intercept=True, intercept_scaling=1, l1_ratio=None,\n",
              "                   max_iter=1200, multi_class='auto', n_jobs=None, penalty='l2',\n",
              "                   random_state=None, solver='lbfgs', tol=0.0001, verbose=0,\n",
              "                   warm_start=False)"
            ]
          },
          "metadata": {
            "tags": []
          },
          "execution_count": 293
        }
      ]
    },
    {
      "cell_type": "code",
      "metadata": {
        "colab": {
          "base_uri": "https://localhost:8080/"
        },
        "id": "ES7guxzLUT_2",
        "outputId": "90682355-af16-4761-b99c-7f6f1bb3531d"
      },
      "source": [
        "log_reg.score(X_train, y_train)"
      ],
      "execution_count": 294,
      "outputs": [
        {
          "output_type": "execute_result",
          "data": {
            "text/plain": [
              "0.6284367635506677"
            ]
          },
          "metadata": {
            "tags": []
          },
          "execution_count": 294
        }
      ]
    },
    {
      "cell_type": "code",
      "metadata": {
        "colab": {
          "base_uri": "https://localhost:8080/"
        },
        "id": "0me-y5e7UT7v",
        "outputId": "9b27b365-dbf8-4dbd-db1a-69380e62da99"
      },
      "source": [
        "log_reg.score(X_test, y_test)"
      ],
      "execution_count": 295,
      "outputs": [
        {
          "output_type": "execute_result",
          "data": {
            "text/plain": [
              "0.5956112852664577"
            ]
          },
          "metadata": {
            "tags": []
          },
          "execution_count": 295
        }
      ]
    },
    {
      "cell_type": "code",
      "metadata": {
        "id": "elMkOHptUT5G"
      },
      "source": [
        "x = range(100, 2000, 100)\n",
        "test_score = []\n",
        "train_score = []\n",
        "for i in x:\n",
        "    log_reg = LogisticRegression(class_weight='balanced', max_iter=i)\n",
        "    log_reg.fit(X_train, y_train)\n",
        "    train_score.append(log_reg.score(X_train, y_train))\n",
        "    test_score.append(log_reg.score(X_test, y_test))"
      ],
      "execution_count": null,
      "outputs": []
    },
    {
      "cell_type": "code",
      "metadata": {
        "colab": {
          "base_uri": "https://localhost:8080/",
          "height": 265
        },
        "id": "-DP2F2KwUT2N",
        "outputId": "b3ffcb79-50b2-431a-d462-b4fa715785db"
      },
      "source": [
        "plt.plot(x, train_score, label='train')\n",
        "plt.plot(x, test_score, label='test')\n",
        "plt.grid()\n",
        "plt.legend()\n",
        "plt.show()"
      ],
      "execution_count": 297,
      "outputs": [
        {
          "output_type": "display_data",
          "data": {
            "image/png": "[encoded data removed]",
            "text/plain": [
              "<Figure size 432x288 with 1 Axes>"
            ]
          },
          "metadata": {
            "tags": [],
            "needs_background": "light"
          }
        }
      ]
    },
    {
      "cell_type": "markdown",
      "metadata": {
        "id": "7hfG_OPpybjS"
      },
      "source": [
        "## Doc2vec vector_size에 따른 정확도 변화"
      ]
    },
    {
      "cell_type": "code",
      "metadata": {
        "id": "IgEemzdyybLA"
      },
      "source": [
        "for i in range(1000, 5001, 500):\n",
        "    model = Doc2Vec(documents, min_count=2, window=5, vector_size=i, neagtive=5, sample=1e-4, workers=4) \n",
        "    model_name = f'Doc2_{i}_model'\n",
        "    model.save(model_name)    "
      ],
      "execution_count": null,
      "outputs": []
    },
    {
      "cell_type": "code",
      "metadata": {
        "colab": {
          "base_uri": "https://localhost:8080/"
        },
        "id": "ycGNyqd4y2Vf",
        "outputId": "f559db94-cd19-4801-fa4f-487c2468a724"
      },
      "source": [
        "train_score = []\n",
        "test_score = []\n",
        "for i in range(1000, 5001, 500):\n",
        "    test_data_vecs = get_dataset(Text, Doc2Vec.load(f'/content/Doc2_{i}_model'), num_features=i)\n",
        "    X = test_data_vecs\n",
        "    y = np.array(news['Sentiment'])\n",
        "\n",
        "    X_train, X_test, y_train, y_test = train_test_split(X, y, test_size = 0.2, random_state=42)\n",
        "    log_reg = LogisticRegression(class_weight='balanced', max_iter=1200)\n",
        "    log_reg.fit(X_train, y_train)\n",
        "    \n",
        "    train_score.append(log_reg.score(X_train, y_train))\n",
        "    test_score.append(log_reg.score(X_test, y_test))"
      ],
      "execution_count": 353,
      "outputs": [
        {
          "output_type": "stream",
          "text": [
            "/usr/local/lib/python3.7/dist-packages/sklearn/linear_model/_logistic.py:940: ConvergenceWarning: lbfgs failed to converge (status=1):\n",
            "STOP: TOTAL NO. of ITERATIONS REACHED LIMIT.\n",
            "\n",
            "Increase the number of iterations (max_iter) or scale the data as shown in:\n",
            "    https://scikit-learn.org/stable/modules/preprocessing.html\n",
            "Please also refer to the documentation for alternative solver options:\n",
            "    https://scikit-learn.org/stable/modules/linear_model.html#logistic-regression\n",
            "  extra_warning_msg=_LOGISTIC_SOLVER_CONVERGENCE_MSG)\n"
          ],
          "name": "stderr"
        }
      ]
    },
    {
      "cell_type": "code",
      "metadata": {
        "colab": {
          "base_uri": "https://localhost:8080/",
          "height": 265
        },
        "id": "1i2QpYFt1CR2",
        "outputId": "88725854-ac74-4c53-9127-f15a78a0498e"
      },
      "source": [
        "plt.plot(range(1000, 5001, 500), train_score, label='train score')\n",
        "plt.plot(range(1000, 5001, 500), test_score, label='test score')\n",
        "\n",
        "plt.grid()\n",
        "plt.legend()\n",
        "plt.show()"
      ],
      "execution_count": 354,
      "outputs": [
        {
          "output_type": "display_data",
          "data": {
            "image/png": "[encoded data removed]",
            "text/plain": [
              "<Figure size 432x288 with 1 Axes>"
            ]
          },
          "metadata": {
            "tags": [],
            "needs_background": "light"
          }
        }
      ]
    },
    {
      "cell_type": "markdown",
      "metadata": {
        "id": "nDKHF8gOpoHZ"
      },
      "source": [
        "# TF-IDF"
      ]
    },
    {
      "cell_type": "markdown",
      "metadata": {
        "id": "yrIPOslSwAKT"
      },
      "source": [
        "* https://chan-lab.tistory.com/27\n",
        "* https://devtimes.com/nb-text-classification-tf-idf"
      ]
    },
    {
      "cell_type": "markdown",
      "metadata": {
        "id": "DCsnHr21pk5c"
      },
      "source": [
        "TF-IDF : TF(Term Frequency, 단어의 빈도), IDF(역문서 빈도, Inverse Document Frequency) 쉽게 말하자면 문장에서 단어의 빈도수를 계산하되 너무 자주 등장하는 단어는 크게 의미를 두지 않도록 가중치를 낮게 주자는 의미.\n",
        "\n"
      ]
    },
    {
      "cell_type": "markdown",
      "metadata": {
        "id": "AN2gYWiwpaxK"
      },
      "source": [
        "* min_df : 설정한 값보다 특정 토큰의 df값이 더 적게 나오면 벡터화 과정에서 제거\n",
        "* analyzer : 분석하기 위한 기준 단위(word:단어 하나를 단위로, char:문자 하나를 단위로)\n",
        "* sublinear_tf : 문서의 단어 빈도 수에 대한 스무딩(smoothing) 여부\n",
        "* ngram_range : 빈도의 기본 단위를 설정할 n-gram 범위\n",
        "* max_features : 각 벡터의 최대 길이\n"
      ]
    },
    {
      "cell_type": "code",
      "metadata": {
        "id": "lCq7LwU7oDlZ"
      },
      "source": [
        "vectorizer = TfidfVectorizer(\n",
        "            min_df=2,             # 등장하는 문서의 최소 빈도값 \n",
        "            analyzer='word',      # word = 단어(nice), char = 글자(a,b,c)\n",
        "            sublinear_tf=True,    # tf => 1 + ln(tf), 완만하게 해줌.\n",
        "            ngram_range=(1,3),    # 1~3개까지의 단어 묶음을 인덱싱하겠다. -> vocabulary_ 보면 알 수 있음.\n",
        "            max_features=10000     # 차원 수, 정확도에 영향 많음.\n",
        "        )"
      ],
      "execution_count": 409,
      "outputs": []
    },
    {
      "cell_type": "code",
      "metadata": {
        "id": "iYhnm7Qg3hGj"
      },
      "source": [
        "words = []\n",
        "for content in Text:\n",
        "    for word in content:\n",
        "        words.extend(word.split())\n",
        "#for content in Test_text:\n",
        "#    for word in content:\n",
        "#        words.extend(word.split())"
      ],
      "execution_count": 410,
      "outputs": []
    },
    {
      "cell_type": "code",
      "metadata": {
        "id": "7wBG9S-hY2vS"
      },
      "source": [
        "vectorizer.fit(words)\n",
        "X = vectorizer.transform(list(news['Text']))\n",
        "\n",
        "# 이게 성능이 더 좋음..\n",
        "#X = vectorizer.fit_transform(list(news['Text']))"
      ],
      "execution_count": 411,
      "outputs": []
    },
    {
      "cell_type": "code",
      "metadata": {
        "colab": {
          "base_uri": "https://localhost:8080/"
        },
        "id": "MWkX_dYFbIt3",
        "outputId": "5147aef0-e7de-459f-c1ec-c51677955eee"
      },
      "source": [
        "len(vectorizer.vocabulary_)"
      ],
      "execution_count": 404,
      "outputs": [
        {
          "output_type": "execute_result",
          "data": {
            "text/plain": [
              "8441"
            ]
          },
          "metadata": {
            "tags": []
          },
          "execution_count": 404
        }
      ]
    },
    {
      "cell_type": "code",
      "metadata": {
        "colab": {
          "base_uri": "https://localhost:8080/"
        },
        "id": "F_V0nuwEoaV_",
        "outputId": "244f5452-10b5-4f33-8527-a6c8d2d88e12"
      },
      "source": [
        "y = np.array(news['Sentiment'])\n",
        "X_train, X_test, y_train, y_test = train_test_split(X, y,\n",
        "                                                    test_size = 0.2,\n",
        "                                                    random_state=42)\n",
        "log_reg = LogisticRegression(class_weight = 'balanced')\n",
        "log_reg.fit(X_train, y_train)"
      ],
      "execution_count": 405,
      "outputs": [
        {
          "output_type": "execute_result",
          "data": {
            "text/plain": [
              "LogisticRegression(C=1.0, class_weight='balanced', dual=False,\n",
              "                   fit_intercept=True, intercept_scaling=1, l1_ratio=None,\n",
              "                   max_iter=100, multi_class='auto', n_jobs=None, penalty='l2',\n",
              "                   random_state=None, solver='lbfgs', tol=0.0001, verbose=0,\n",
              "                   warm_start=False)"
            ]
          },
          "metadata": {
            "tags": []
          },
          "execution_count": 405
        }
      ]
    },
    {
      "cell_type": "code",
      "metadata": {
        "colab": {
          "base_uri": "https://localhost:8080/"
        },
        "id": "AFobBCN1o5J2",
        "outputId": "1f52129f-bdaf-44c3-e048-702e68046267"
      },
      "source": [
        "log_reg.score(X_train, y_train)"
      ],
      "execution_count": 406,
      "outputs": [
        {
          "output_type": "execute_result",
          "data": {
            "text/plain": [
              "0.8955223880597015"
            ]
          },
          "metadata": {
            "tags": []
          },
          "execution_count": 406
        }
      ]
    },
    {
      "cell_type": "code",
      "metadata": {
        "colab": {
          "base_uri": "https://localhost:8080/"
        },
        "id": "WzBFixsxpDtN",
        "outputId": "28b70ef1-e827-4696-aea2-2144866fbb56"
      },
      "source": [
        "log_reg.score(X_test, y_test)"
      ],
      "execution_count": 407,
      "outputs": [
        {
          "output_type": "execute_result",
          "data": {
            "text/plain": [
              "0.7084639498432602"
            ]
          },
          "metadata": {
            "tags": []
          },
          "execution_count": 407
        }
      ]
    },
    {
      "cell_type": "code",
      "metadata": {
        "id": "W9ggO9lY228X"
      },
      "source": [
        ""
      ],
      "execution_count": null,
      "outputs": []
    }
  ]
}