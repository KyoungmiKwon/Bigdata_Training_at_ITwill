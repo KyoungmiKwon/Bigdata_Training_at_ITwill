{
 "metadata": {
  "language_info": {
   "codemirror_mode": {
    "name": "ipython",
    "version": 3
   },
   "file_extension": ".py",
   "mimetype": "text/x-python",
   "name": "python",
   "nbconvert_exporter": "python",
   "pygments_lexer": "ipython3",
   "version": "3.8.8"
  },
  "orig_nbformat": 2,
  "kernelspec": {
   "name": "python3",
   "display_name": "Python 3.8.8 64-bit",
   "metadata": {
    "interpreter": {
     "hash": "dddb17ea93c18165eccab44a79c5ce0b5c677e2de303579c5906a1a0ad969dde"
    }
   }
  }
 },
 "nbformat": 4,
 "nbformat_minor": 2,
 "cells": [
  {
   "cell_type": "code",
   "execution_count": 1,
   "metadata": {},
   "outputs": [],
   "source": [
    "# !pip install finance-datareader"
   ]
  },
  {
   "cell_type": "code",
   "execution_count": 2,
   "metadata": {},
   "outputs": [
    {
     "output_type": "execute_result",
     "data": {
      "text/plain": [
       "             Open   High    Low  Close   Volume    Change\n",
       "Date                                                     \n",
       "2020-06-01  59000  59500  58500  59200   550906 -0.001686\n",
       "2020-06-02  59200  61000  59200  60000   846026  0.013514\n",
       "2020-06-03  60500  62400  60500  62100  1433963  0.035000\n",
       "2020-06-04  62800  63100  61200  62200   934862  0.001610\n",
       "2020-06-05  62200  63000  61700  63000   860924  0.012862"
      ],
      "text/html": "<div>\n<style scoped>\n    .dataframe tbody tr th:only-of-type {\n        vertical-align: middle;\n    }\n\n    .dataframe tbody tr th {\n        vertical-align: top;\n    }\n\n    .dataframe thead th {\n        text-align: right;\n    }\n</style>\n<table border=\"1\" class=\"dataframe\">\n  <thead>\n    <tr style=\"text-align: right;\">\n      <th></th>\n      <th>Open</th>\n      <th>High</th>\n      <th>Low</th>\n      <th>Close</th>\n      <th>Volume</th>\n      <th>Change</th>\n    </tr>\n    <tr>\n      <th>Date</th>\n      <th></th>\n      <th></th>\n      <th></th>\n      <th></th>\n      <th></th>\n      <th></th>\n    </tr>\n  </thead>\n  <tbody>\n    <tr>\n      <th>2020-06-01</th>\n      <td>59000</td>\n      <td>59500</td>\n      <td>58500</td>\n      <td>59200</td>\n      <td>550906</td>\n      <td>-0.001686</td>\n    </tr>\n    <tr>\n      <th>2020-06-02</th>\n      <td>59200</td>\n      <td>61000</td>\n      <td>59200</td>\n      <td>60000</td>\n      <td>846026</td>\n      <td>0.013514</td>\n    </tr>\n    <tr>\n      <th>2020-06-03</th>\n      <td>60500</td>\n      <td>62400</td>\n      <td>60500</td>\n      <td>62100</td>\n      <td>1433963</td>\n      <td>0.035000</td>\n    </tr>\n    <tr>\n      <th>2020-06-04</th>\n      <td>62800</td>\n      <td>63100</td>\n      <td>61200</td>\n      <td>62200</td>\n      <td>934862</td>\n      <td>0.001610</td>\n    </tr>\n    <tr>\n      <th>2020-06-05</th>\n      <td>62200</td>\n      <td>63000</td>\n      <td>61700</td>\n      <td>63000</td>\n      <td>860924</td>\n      <td>0.012862</td>\n    </tr>\n  </tbody>\n</table>\n</div>"
     },
     "metadata": {},
     "execution_count": 2
    }
   ],
   "source": [
    "import FinanceDataReader as fdr\n",
    "\n",
    "#> '122870' : YG      -> KOSDAQ\n",
    "#> '035900' : JYP     -> KOSDAQ\n",
    "#> '005930' : 삼성전자\n",
    "#> '066570' : LG전자\n",
    "\n",
    "\n",
    "com_code = '066570'   \n",
    "start_date = '2020-06-01'\n",
    "end_date = '2021-04-16'\n",
    "\n",
    "data = fdr.DataReader(com_code, start=start_date, end=end_date)\n",
    "\n",
    "# excel 파일로 저장\n",
    "data.to_excel('C:\\Lab\\kyoungmi_test1.xlsx')\n",
    "\n",
    "data.head(5)"
   ]
  },
  {
   "cell_type": "code",
   "execution_count": 3,
   "metadata": {},
   "outputs": [
    {
     "output_type": "execute_result",
     "data": {
      "text/plain": [
       "pandas.core.frame.DataFrame"
      ]
     },
     "metadata": {},
     "execution_count": 3
    }
   ],
   "source": [
    "type(data)"
   ]
  }
 ]
}