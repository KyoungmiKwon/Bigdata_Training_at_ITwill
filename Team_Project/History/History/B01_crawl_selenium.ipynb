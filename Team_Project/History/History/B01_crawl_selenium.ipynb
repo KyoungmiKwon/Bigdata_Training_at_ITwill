{
  "nbformat": 4,
  "nbformat_minor": 0,
  "metadata": {
    "colab": {
      "name": "B01_crawl_selenium.ipynb",
      "provenance": [],
      "collapsed_sections": [],
      "authorship_tag": "ABX9TyODiNyyTVohIEUCOIAjJtSg",
      "include_colab_link": true
    },
    "kernelspec": {
      "name": "python3",
      "display_name": "Python 3"
    },
    "language_info": {
      "name": "python"
    }
  },
  "cells": [
    {
      "cell_type": "markdown",
      "metadata": {
        "id": "view-in-github",
        "colab_type": "text"
      },
      "source": [
        "<a href=\"https://colab.research.google.com/github/KyoungmiKwon/Bigdata_Training_at_ITwill/blob/main/Team_Project/B01_crawl_selenium.ipynb\" target=\"_parent\"><img src=\"https://colab.research.google.com/assets/colab-badge.svg\" alt=\"Open In Colab\"/></a>"
      ]
    },
    {
      "cell_type": "code",
      "metadata": {
        "colab": {
          "base_uri": "https://localhost:8080/"
        },
        "id": "ZhHwIf02iP2V",
        "outputId": "b44dda3e-d34d-42f6-b25b-c9afd72329f8"
      },
      "source": [
        "!pip install selenium\n",
        "!apt-get update\n",
        "!apt install chromium-chromedriver\n",
        "!cp /usr/lib/chromium-browser/chromedriver /usr/bin\n",
        "import sys\n",
        "sys.path.insert(0,'/usr/lib/chromium-browser/chromedriver')\n",
        "from selenium import webdriver\n",
        "chrome_options = webdriver.ChromeOptions()\n",
        "chrome_options.add_argument('--headless')\n",
        "chrome_options.add_argument('--no-sandbox')\n",
        "chrome_options.add_argument('--disable-dev-shm-usage')\n",
        "wd = webdriver.Chrome('chromedriver',chrome_options=chrome_options)\n",
        "wd.get(\"https://www.webite-url.com\")\n",
        "from bs4 import BeautifulSoup\n"
      ],
      "execution_count": 2,
      "outputs": [
        {
          "output_type": "stream",
          "text": [
            "Collecting selenium\n",
            "\u001b[?25l  Downloading https://files.pythonhosted.org/packages/80/d6/4294f0b4bce4de0abf13e17190289f9d0613b0a44e5dd6a7f5ca98459853/selenium-3.141.0-py2.py3-none-any.whl (904kB)\n",
            "\r\u001b[K     |▍                               | 10kB 21.0MB/s eta 0:00:01\r\u001b[K     |▊                               | 20kB 30.4MB/s eta 0:00:01\r\u001b[K     |█                               | 30kB 22.1MB/s eta 0:00:01\r\u001b[K     |█▌                              | 40kB 16.8MB/s eta 0:00:01\r\u001b[K     |█▉                              | 51kB 15.3MB/s eta 0:00:01\r\u001b[K     |██▏                             | 61kB 17.6MB/s eta 0:00:01\r\u001b[K     |██▌                             | 71kB 15.3MB/s eta 0:00:01\r\u001b[K     |███                             | 81kB 13.3MB/s eta 0:00:01\r\u001b[K     |███▎                            | 92kB 13.3MB/s eta 0:00:01\r\u001b[K     |███▋                            | 102kB 12.3MB/s eta 0:00:01\r\u001b[K     |████                            | 112kB 12.3MB/s eta 0:00:01\r\u001b[K     |████▍                           | 122kB 12.3MB/s eta 0:00:01\r\u001b[K     |████▊                           | 133kB 12.3MB/s eta 0:00:01\r\u001b[K     |█████                           | 143kB 12.3MB/s eta 0:00:01\r\u001b[K     |█████▍                          | 153kB 12.3MB/s eta 0:00:01\r\u001b[K     |█████▉                          | 163kB 12.3MB/s eta 0:00:01\r\u001b[K     |██████▏                         | 174kB 12.3MB/s eta 0:00:01\r\u001b[K     |██████▌                         | 184kB 12.3MB/s eta 0:00:01\r\u001b[K     |██████▉                         | 194kB 12.3MB/s eta 0:00:01\r\u001b[K     |███████▎                        | 204kB 12.3MB/s eta 0:00:01\r\u001b[K     |███████▋                        | 215kB 12.3MB/s eta 0:00:01\r\u001b[K     |████████                        | 225kB 12.3MB/s eta 0:00:01\r\u001b[K     |████████▎                       | 235kB 12.3MB/s eta 0:00:01\r\u001b[K     |████████▊                       | 245kB 12.3MB/s eta 0:00:01\r\u001b[K     |█████████                       | 256kB 12.3MB/s eta 0:00:01\r\u001b[K     |█████████▍                      | 266kB 12.3MB/s eta 0:00:01\r\u001b[K     |█████████▉                      | 276kB 12.3MB/s eta 0:00:01\r\u001b[K     |██████████▏                     | 286kB 12.3MB/s eta 0:00:01\r\u001b[K     |██████████▌                     | 296kB 12.3MB/s eta 0:00:01\r\u001b[K     |██████████▉                     | 307kB 12.3MB/s eta 0:00:01\r\u001b[K     |███████████▎                    | 317kB 12.3MB/s eta 0:00:01\r\u001b[K     |███████████▋                    | 327kB 12.3MB/s eta 0:00:01\r\u001b[K     |████████████                    | 337kB 12.3MB/s eta 0:00:01\r\u001b[K     |████████████▎                   | 348kB 12.3MB/s eta 0:00:01\r\u001b[K     |████████████▊                   | 358kB 12.3MB/s eta 0:00:01\r\u001b[K     |█████████████                   | 368kB 12.3MB/s eta 0:00:01\r\u001b[K     |█████████████▍                  | 378kB 12.3MB/s eta 0:00:01\r\u001b[K     |█████████████▊                  | 389kB 12.3MB/s eta 0:00:01\r\u001b[K     |██████████████▏                 | 399kB 12.3MB/s eta 0:00:01\r\u001b[K     |██████████████▌                 | 409kB 12.3MB/s eta 0:00:01\r\u001b[K     |██████████████▉                 | 419kB 12.3MB/s eta 0:00:01\r\u001b[K     |███████████████▏                | 430kB 12.3MB/s eta 0:00:01\r\u001b[K     |███████████████▋                | 440kB 12.3MB/s eta 0:00:01\r\u001b[K     |████████████████                | 450kB 12.3MB/s eta 0:00:01\r\u001b[K     |████████████████▎               | 460kB 12.3MB/s eta 0:00:01\r\u001b[K     |████████████████▋               | 471kB 12.3MB/s eta 0:00:01\r\u001b[K     |█████████████████               | 481kB 12.3MB/s eta 0:00:01\r\u001b[K     |█████████████████▍              | 491kB 12.3MB/s eta 0:00:01\r\u001b[K     |█████████████████▊              | 501kB 12.3MB/s eta 0:00:01\r\u001b[K     |██████████████████▏             | 512kB 12.3MB/s eta 0:00:01\r\u001b[K     |██████████████████▌             | 522kB 12.3MB/s eta 0:00:01\r\u001b[K     |██████████████████▉             | 532kB 12.3MB/s eta 0:00:01\r\u001b[K     |███████████████████▏            | 542kB 12.3MB/s eta 0:00:01\r\u001b[K     |███████████████████▋            | 552kB 12.3MB/s eta 0:00:01\r\u001b[K     |████████████████████            | 563kB 12.3MB/s eta 0:00:01\r\u001b[K     |████████████████████▎           | 573kB 12.3MB/s eta 0:00:01\r\u001b[K     |████████████████████▋           | 583kB 12.3MB/s eta 0:00:01\r\u001b[K     |█████████████████████           | 593kB 12.3MB/s eta 0:00:01\r\u001b[K     |█████████████████████▍          | 604kB 12.3MB/s eta 0:00:01\r\u001b[K     |█████████████████████▊          | 614kB 12.3MB/s eta 0:00:01\r\u001b[K     |██████████████████████          | 624kB 12.3MB/s eta 0:00:01\r\u001b[K     |██████████████████████▌         | 634kB 12.3MB/s eta 0:00:01\r\u001b[K     |██████████████████████▉         | 645kB 12.3MB/s eta 0:00:01\r\u001b[K     |███████████████████████▏        | 655kB 12.3MB/s eta 0:00:01\r\u001b[K     |███████████████████████▌        | 665kB 12.3MB/s eta 0:00:01\r\u001b[K     |████████████████████████        | 675kB 12.3MB/s eta 0:00:01\r\u001b[K     |████████████████████████▎       | 686kB 12.3MB/s eta 0:00:01\r\u001b[K     |████████████████████████▋       | 696kB 12.3MB/s eta 0:00:01\r\u001b[K     |█████████████████████████       | 706kB 12.3MB/s eta 0:00:01\r\u001b[K     |█████████████████████████▍      | 716kB 12.3MB/s eta 0:00:01\r\u001b[K     |█████████████████████████▊      | 727kB 12.3MB/s eta 0:00:01\r\u001b[K     |██████████████████████████      | 737kB 12.3MB/s eta 0:00:01\r\u001b[K     |██████████████████████████▍     | 747kB 12.3MB/s eta 0:00:01\r\u001b[K     |██████████████████████████▉     | 757kB 12.3MB/s eta 0:00:01\r\u001b[K     |███████████████████████████▏    | 768kB 12.3MB/s eta 0:00:01\r\u001b[K     |███████████████████████████▌    | 778kB 12.3MB/s eta 0:00:01\r\u001b[K     |████████████████████████████    | 788kB 12.3MB/s eta 0:00:01\r\u001b[K     |████████████████████████████▎   | 798kB 12.3MB/s eta 0:00:01\r\u001b[K     |████████████████████████████▋   | 808kB 12.3MB/s eta 0:00:01\r\u001b[K     |█████████████████████████████   | 819kB 12.3MB/s eta 0:00:01\r\u001b[K     |█████████████████████████████▍  | 829kB 12.3MB/s eta 0:00:01\r\u001b[K     |█████████████████████████████▊  | 839kB 12.3MB/s eta 0:00:01\r\u001b[K     |██████████████████████████████  | 849kB 12.3MB/s eta 0:00:01\r\u001b[K     |██████████████████████████████▍ | 860kB 12.3MB/s eta 0:00:01\r\u001b[K     |██████████████████████████████▉ | 870kB 12.3MB/s eta 0:00:01\r\u001b[K     |███████████████████████████████▏| 880kB 12.3MB/s eta 0:00:01\r\u001b[K     |███████████████████████████████▌| 890kB 12.3MB/s eta 0:00:01\r\u001b[K     |███████████████████████████████▉| 901kB 12.3MB/s eta 0:00:01\r\u001b[K     |████████████████████████████████| 911kB 12.3MB/s \n",
            "\u001b[?25hRequirement already satisfied: urllib3 in /usr/local/lib/python3.7/dist-packages (from selenium) (1.24.3)\n",
            "Installing collected packages: selenium\n",
            "Successfully installed selenium-3.141.0\n",
            "Get:1 http://ppa.launchpad.net/c2d4u.team/c2d4u4.0+/ubuntu bionic InRelease [15.9 kB]\n",
            "Get:2 http://security.ubuntu.com/ubuntu bionic-security InRelease [88.7 kB]\n",
            "Hit:3 http://archive.ubuntu.com/ubuntu bionic InRelease\n",
            "Get:4 http://archive.ubuntu.com/ubuntu bionic-updates InRelease [88.7 kB]\n",
            "Get:5 https://cloud.r-project.org/bin/linux/ubuntu bionic-cran40/ InRelease [3,626 B]\n",
            "Hit:6 http://ppa.launchpad.net/cran/libgit2/ubuntu bionic InRelease\n",
            "Hit:7 http://ppa.launchpad.net/deadsnakes/ppa/ubuntu bionic InRelease\n",
            "Get:8 http://archive.ubuntu.com/ubuntu bionic-backports InRelease [74.6 kB]\n",
            "Hit:9 http://ppa.launchpad.net/graphics-drivers/ppa/ubuntu bionic InRelease\n",
            "Ign:10 https://developer.download.nvidia.com/compute/cuda/repos/ubuntu1804/x86_64  InRelease\n",
            "Get:11 http://ppa.launchpad.net/c2d4u.team/c2d4u4.0+/ubuntu bionic/main Sources [1,757 kB]\n",
            "Ign:12 https://developer.download.nvidia.com/compute/machine-learning/repos/ubuntu1804/x86_64  InRelease\n",
            "Get:13 https://developer.download.nvidia.com/compute/cuda/repos/ubuntu1804/x86_64  Release [697 B]\n",
            "Hit:14 https://developer.download.nvidia.com/compute/machine-learning/repos/ubuntu1804/x86_64  Release\n",
            "Get:15 https://developer.download.nvidia.com/compute/cuda/repos/ubuntu1804/x86_64  Release.gpg [836 B]\n",
            "Get:16 http://ppa.launchpad.net/c2d4u.team/c2d4u4.0+/ubuntu bionic/main amd64 Packages [899 kB]\n",
            "Get:17 https://cloud.r-project.org/bin/linux/ubuntu bionic-cran40/ Packages [53.1 kB]\n",
            "Get:18 http://security.ubuntu.com/ubuntu bionic-security/main amd64 Packages [2,116 kB]\n",
            "Get:19 http://security.ubuntu.com/ubuntu bionic-security/multiverse amd64 Packages [24.7 kB]\n",
            "Get:20 http://security.ubuntu.com/ubuntu bionic-security/universe amd64 Packages [1,410 kB]\n",
            "Get:21 http://security.ubuntu.com/ubuntu bionic-security/restricted amd64 Packages [396 kB]\n",
            "Get:22 http://archive.ubuntu.com/ubuntu bionic-updates/universe amd64 Packages [2,182 kB]\n",
            "Get:23 http://archive.ubuntu.com/ubuntu bionic-updates/multiverse amd64 Packages [31.6 kB]\n",
            "Get:24 http://archive.ubuntu.com/ubuntu bionic-updates/main amd64 Packages [2,546 kB]\n",
            "Get:25 http://archive.ubuntu.com/ubuntu bionic-updates/restricted amd64 Packages [426 kB]\n",
            "Ign:27 https://developer.download.nvidia.com/compute/cuda/repos/ubuntu1804/x86_64  Packages\n",
            "Get:27 https://developer.download.nvidia.com/compute/cuda/repos/ubuntu1804/x86_64  Packages [742 kB]\n",
            "Fetched 12.9 MB in 3s (4,642 kB/s)\n",
            "Reading package lists... Done\n",
            "Reading package lists... Done\n",
            "Building dependency tree       \n",
            "Reading state information... Done\n",
            "The following package was automatically installed and is no longer required:\n",
            "  libnvidia-common-460\n",
            "Use 'apt autoremove' to remove it.\n",
            "The following additional packages will be installed:\n",
            "  chromium-browser chromium-browser-l10n chromium-codecs-ffmpeg-extra\n",
            "Suggested packages:\n",
            "  webaccounts-chromium-extension unity-chromium-extension\n",
            "The following NEW packages will be installed:\n",
            "  chromium-browser chromium-browser-l10n chromium-chromedriver\n",
            "  chromium-codecs-ffmpeg-extra\n",
            "0 upgraded, 4 newly installed, 0 to remove and 45 not upgraded.\n",
            "Need to get 86.6 MB of archives.\n",
            "After this operation, 300 MB of additional disk space will be used.\n",
            "Get:1 http://archive.ubuntu.com/ubuntu bionic-updates/universe amd64 chromium-codecs-ffmpeg-extra amd64 90.0.4430.72-0ubuntu0.18.04.1 [1,128 kB]\n",
            "Get:2 http://archive.ubuntu.com/ubuntu bionic-updates/universe amd64 chromium-browser amd64 90.0.4430.72-0ubuntu0.18.04.1 [76.9 MB]\n",
            "Get:3 http://archive.ubuntu.com/ubuntu bionic-updates/universe amd64 chromium-browser-l10n all 90.0.4430.72-0ubuntu0.18.04.1 [3,858 kB]\n",
            "Get:4 http://archive.ubuntu.com/ubuntu bionic-updates/universe amd64 chromium-chromedriver amd64 90.0.4430.72-0ubuntu0.18.04.1 [4,743 kB]\n",
            "Fetched 86.6 MB in 1s (67.0 MB/s)\n",
            "Selecting previously unselected package chromium-codecs-ffmpeg-extra.\n",
            "(Reading database ... 160690 files and directories currently installed.)\n",
            "Preparing to unpack .../chromium-codecs-ffmpeg-extra_90.0.4430.72-0ubuntu0.18.04.1_amd64.deb ...\n",
            "Unpacking chromium-codecs-ffmpeg-extra (90.0.4430.72-0ubuntu0.18.04.1) ...\n",
            "Selecting previously unselected package chromium-browser.\n",
            "Preparing to unpack .../chromium-browser_90.0.4430.72-0ubuntu0.18.04.1_amd64.deb ...\n",
            "Unpacking chromium-browser (90.0.4430.72-0ubuntu0.18.04.1) ...\n",
            "Selecting previously unselected package chromium-browser-l10n.\n",
            "Preparing to unpack .../chromium-browser-l10n_90.0.4430.72-0ubuntu0.18.04.1_all.deb ...\n",
            "Unpacking chromium-browser-l10n (90.0.4430.72-0ubuntu0.18.04.1) ...\n",
            "Selecting previously unselected package chromium-chromedriver.\n",
            "Preparing to unpack .../chromium-chromedriver_90.0.4430.72-0ubuntu0.18.04.1_amd64.deb ...\n",
            "Unpacking chromium-chromedriver (90.0.4430.72-0ubuntu0.18.04.1) ...\n",
            "Setting up chromium-codecs-ffmpeg-extra (90.0.4430.72-0ubuntu0.18.04.1) ...\n",
            "Setting up chromium-browser (90.0.4430.72-0ubuntu0.18.04.1) ...\n",
            "update-alternatives: using /usr/bin/chromium-browser to provide /usr/bin/x-www-browser (x-www-browser) in auto mode\n",
            "update-alternatives: using /usr/bin/chromium-browser to provide /usr/bin/gnome-www-browser (gnome-www-browser) in auto mode\n",
            "Setting up chromium-chromedriver (90.0.4430.72-0ubuntu0.18.04.1) ...\n",
            "Setting up chromium-browser-l10n (90.0.4430.72-0ubuntu0.18.04.1) ...\n",
            "Processing triggers for man-db (2.8.3-2ubuntu0.1) ...\n",
            "Processing triggers for hicolor-icon-theme (0.17-2) ...\n",
            "Processing triggers for mime-support (3.60ubuntu1) ...\n",
            "Processing triggers for libc-bin (2.27-3ubuntu1.2) ...\n",
            "/sbin/ldconfig.real: /usr/local/lib/python3.7/dist-packages/ideep4py/lib/libmkldnn.so.0 is not a symbolic link\n",
            "\n",
            "cp: '/usr/lib/chromium-browser/chromedriver' and '/usr/bin/chromedriver' are the same file\n"
          ],
          "name": "stdout"
        },
        {
          "output_type": "stream",
          "text": [
            "/usr/local/lib/python3.7/dist-packages/ipykernel_launcher.py:12: DeprecationWarning: use options instead of chrome_options\n",
            "  if sys.path[0] == '':\n"
          ],
          "name": "stderr"
        }
      ]
    },
    {
      "cell_type": "code",
      "metadata": {
        "id": "Ri2nksIcmFt9"
      },
      "source": [
        "wd.get('https://www.deepsearch.com/analytics/company-analysis/KRX:005930?c-symbol=KRX%3A005930&c-name=%EC%82%BC%EC%84%B1%EC%A0%84%EC%9E%90&doc-senti=1')\n"
      ],
      "execution_count": 15,
      "outputs": []
    },
    {
      "cell_type": "code",
      "metadata": {
        "colab": {
          "base_uri": "https://localhost:8080/"
        },
        "id": "Zo-9f-oJmkX8",
        "outputId": "0e5023a1-84fd-4cb6-89e5-f486737fdceb"
      },
      "source": [
        "print(\"+\" * 100)\n",
        "print(wd.title)\n",
        "print(wd.current_url)\n",
        "print(\"긍부정 크롤링\")\n",
        "print(\"-\" * 100)"
      ],
      "execution_count": 16,
      "outputs": [
        {
          "output_type": "stream",
          "text": [
            "++++++++++++++++++++++++++++++++++++++++++++++++++++++++++++++++++++++++++++++++++++++++++++++++++++\n",
            "DeepSearch | Data for your decisions\n",
            "https://www.deepsearch.com/analytics/company-analysis/KRX:005930?c-symbol=KRX%3A005930&c-name=%EC%82%BC%EC%84%B1%EC%A0%84%EC%9E%90&doc-senti=1\n",
            "긍부정 크롤링\n",
            "----------------------------------------------------------------------------------------------------\n"
          ],
          "name": "stdout"
        }
      ]
    },
    {
      "cell_type": "code",
      "metadata": {
        "id": "EnQM55sUm_-M"
      },
      "source": [
        "samsung_crawl = wd.find_element_by_css_selector('#documents > div > div.ds.card-layout.company-document-search > div.sentiment-document-view > div.document-search-result-view > div.result-list > div:nth-child(1) > div.document-item-container > div.document-item-text-container > div.document-item-title ')"
      ],
      "execution_count": 22,
      "outputs": []
    },
    {
      "cell_type": "code",
      "metadata": {
        "id": "2swgWomZnOQj",
        "colab": {
          "base_uri": "https://localhost:8080/"
        },
        "outputId": "20a80dad-109c-4954-a553-e7de56af3cb4"
      },
      "source": [
        "samsung_crawl"
      ],
      "execution_count": 23,
      "outputs": [
        {
          "output_type": "execute_result",
          "data": {
            "text/plain": [
              "<selenium.webdriver.remote.webelement.WebElement (session=\"7b7791a20d83d5de3791cd749f6baf10\", element=\"a59b1609-3d90-4fac-8c85-ea458b005952\")>"
            ]
          },
          "metadata": {
            "tags": []
          },
          "execution_count": 23
        }
      ]
    },
    {
      "cell_type": "code",
      "metadata": {
        "colab": {
          "base_uri": "https://localhost:8080/",
          "height": 35
        },
        "id": "dWry3ufDEyLi",
        "outputId": "904bc9ff-06bb-4bfc-94b4-5da39e669164"
      },
      "source": [
        "# 크롤링 안되는거 같습니다...ㅜㅜ다른 방법이 있는지..\n",
        "\n",
        "samsung_crawl.find_element_by_tag_name('span').text\n"
      ],
      "execution_count": 24,
      "outputs": [
        {
          "output_type": "execute_result",
          "data": {
            "application/vnd.google.colaboratory.intrinsic+json": {
              "type": "string"
            },
            "text/plain": [
              "''"
            ]
          },
          "metadata": {
            "tags": []
          },
          "execution_count": 24
        }
      ]
    },
    {
      "cell_type": "markdown",
      "metadata": {
        "id": "ajD5RhjKFY2A"
      },
      "source": [
        "# **연습**"
      ]
    },
    {
      "cell_type": "code",
      "metadata": {
        "id": "_XiRNI8bpdiN",
        "colab": {
          "base_uri": "https://localhost:8080/"
        },
        "outputId": "b9be49e0-6e4f-4f49-8959-38a2f9ea9f48"
      },
      "source": [
        "wd.get('https://auto.naver.com/bike/mainList.nhn')\n",
        "bikeCompanyAllBtn = wd.find_element_by_css_selector(\"#container > div.spot_main > div.spot_aside > div.tit > a\")\n",
        "bikeCompanyAllBtn"
      ],
      "execution_count": 9,
      "outputs": [
        {
          "output_type": "execute_result",
          "data": {
            "text/plain": [
              "<selenium.webdriver.remote.webelement.WebElement (session=\"7b7791a20d83d5de3791cd749f6baf10\", element=\"2e4ec780-6985-41e1-80f3-b152f63c7fec\")>"
            ]
          },
          "metadata": {
            "tags": []
          },
          "execution_count": 9
        }
      ]
    },
    {
      "cell_type": "code",
      "metadata": {
        "id": "wPH5g-DRps47",
        "colab": {
          "base_uri": "https://localhost:8080/"
        },
        "outputId": "2134195d-d676-4537-b5c3-1633b1778ade"
      },
      "source": [
        "allBikeCompanyElement = wd.find_elements_by_css_selector(\n",
        "    \"#_vendor_select_layer > div > div.maker_group div.emblem_area > ul > li\")\n",
        "allBikeCompanyElement"
      ],
      "execution_count": 10,
      "outputs": [
        {
          "output_type": "execute_result",
          "data": {
            "text/plain": [
              "[<selenium.webdriver.remote.webelement.WebElement (session=\"7b7791a20d83d5de3791cd749f6baf10\", element=\"0762f609-91d9-473c-b5f5-55d00ff2e3a1\")>,\n",
              " <selenium.webdriver.remote.webelement.WebElement (session=\"7b7791a20d83d5de3791cd749f6baf10\", element=\"6acfe3bc-b9b2-44cc-8cc4-a0eb42b6bdc2\")>,\n",
              " <selenium.webdriver.remote.webelement.WebElement (session=\"7b7791a20d83d5de3791cd749f6baf10\", element=\"64428e8d-a636-4011-b7a9-6af8d6b13bfc\")>,\n",
              " <selenium.webdriver.remote.webelement.WebElement (session=\"7b7791a20d83d5de3791cd749f6baf10\", element=\"095811c5-6f67-41a5-87ef-2a5d1100c9c9\")>,\n",
              " <selenium.webdriver.remote.webelement.WebElement (session=\"7b7791a20d83d5de3791cd749f6baf10\", element=\"87bce15c-9221-4302-b970-161820c9ffb3\")>,\n",
              " <selenium.webdriver.remote.webelement.WebElement (session=\"7b7791a20d83d5de3791cd749f6baf10\", element=\"d6779f69-ad76-4cb6-99ec-54613191fe20\")>,\n",
              " <selenium.webdriver.remote.webelement.WebElement (session=\"7b7791a20d83d5de3791cd749f6baf10\", element=\"9c88a528-1ef5-4ef0-a1ff-e91c2c4e27a0\")>,\n",
              " <selenium.webdriver.remote.webelement.WebElement (session=\"7b7791a20d83d5de3791cd749f6baf10\", element=\"98f10490-2183-457f-9ed2-cf587d92e4ff\")>,\n",
              " <selenium.webdriver.remote.webelement.WebElement (session=\"7b7791a20d83d5de3791cd749f6baf10\", element=\"21a05093-0b70-4edb-919d-99dff4046174\")>,\n",
              " <selenium.webdriver.remote.webelement.WebElement (session=\"7b7791a20d83d5de3791cd749f6baf10\", element=\"0db97f73-0296-4419-9c60-2b3b6b25c285\")>,\n",
              " <selenium.webdriver.remote.webelement.WebElement (session=\"7b7791a20d83d5de3791cd749f6baf10\", element=\"3f3b0c27-a4d1-41c6-8723-a59703c66351\")>,\n",
              " <selenium.webdriver.remote.webelement.WebElement (session=\"7b7791a20d83d5de3791cd749f6baf10\", element=\"39f7bf85-57c6-4c57-bf66-02d89766a179\")>,\n",
              " <selenium.webdriver.remote.webelement.WebElement (session=\"7b7791a20d83d5de3791cd749f6baf10\", element=\"a80cd313-0882-40a9-8a40-97dfbf8843dc\")>,\n",
              " <selenium.webdriver.remote.webelement.WebElement (session=\"7b7791a20d83d5de3791cd749f6baf10\", element=\"11281d5f-6d80-4220-97d5-00dd0a9844a8\")>,\n",
              " <selenium.webdriver.remote.webelement.WebElement (session=\"7b7791a20d83d5de3791cd749f6baf10\", element=\"52fc7752-70bb-417f-967b-d6130a4ded27\")>,\n",
              " <selenium.webdriver.remote.webelement.WebElement (session=\"7b7791a20d83d5de3791cd749f6baf10\", element=\"8d0b2131-42ea-48dc-b358-1a6cea359f99\")>,\n",
              " <selenium.webdriver.remote.webelement.WebElement (session=\"7b7791a20d83d5de3791cd749f6baf10\", element=\"b071ba7b-74c2-4fe5-aa40-f72b66a40a7c\")>,\n",
              " <selenium.webdriver.remote.webelement.WebElement (session=\"7b7791a20d83d5de3791cd749f6baf10\", element=\"2905cbc9-a34e-4298-9cfb-cd1f340b29f7\")>,\n",
              " <selenium.webdriver.remote.webelement.WebElement (session=\"7b7791a20d83d5de3791cd749f6baf10\", element=\"44fd5075-e573-442b-a41f-6a195fdb52dc\")>,\n",
              " <selenium.webdriver.remote.webelement.WebElement (session=\"7b7791a20d83d5de3791cd749f6baf10\", element=\"b34fcb11-d9a0-4577-b0e0-0ef314f8a686\")>,\n",
              " <selenium.webdriver.remote.webelement.WebElement (session=\"7b7791a20d83d5de3791cd749f6baf10\", element=\"ae613583-bc96-45f5-abb2-c26cdd4dba9f\")>,\n",
              " <selenium.webdriver.remote.webelement.WebElement (session=\"7b7791a20d83d5de3791cd749f6baf10\", element=\"045fb2ae-6be0-441f-aee5-2bbffae1e556\")>,\n",
              " <selenium.webdriver.remote.webelement.WebElement (session=\"7b7791a20d83d5de3791cd749f6baf10\", element=\"1729ae9f-3b6f-46bc-8350-3ec35b2323f1\")>,\n",
              " <selenium.webdriver.remote.webelement.WebElement (session=\"7b7791a20d83d5de3791cd749f6baf10\", element=\"fb6db6a7-45a5-4fb0-881d-58ba7de5c90d\")>,\n",
              " <selenium.webdriver.remote.webelement.WebElement (session=\"7b7791a20d83d5de3791cd749f6baf10\", element=\"7077ef33-3090-40e6-a245-ff3fe7ad4776\")>,\n",
              " <selenium.webdriver.remote.webelement.WebElement (session=\"7b7791a20d83d5de3791cd749f6baf10\", element=\"c32a21df-705e-4ea7-9343-169ee0f5a55c\")>,\n",
              " <selenium.webdriver.remote.webelement.WebElement (session=\"7b7791a20d83d5de3791cd749f6baf10\", element=\"f39743ac-0d7d-4d27-967e-06837c1d3d99\")>,\n",
              " <selenium.webdriver.remote.webelement.WebElement (session=\"7b7791a20d83d5de3791cd749f6baf10\", element=\"19c95281-e0c3-4076-9f9c-3fe4719a153a\")>,\n",
              " <selenium.webdriver.remote.webelement.WebElement (session=\"7b7791a20d83d5de3791cd749f6baf10\", element=\"98fc28ff-5deb-4e78-a548-39edce340c7f\")>,\n",
              " <selenium.webdriver.remote.webelement.WebElement (session=\"7b7791a20d83d5de3791cd749f6baf10\", element=\"c375cdf2-2bba-40ed-8a5f-f54fc6293d80\")>,\n",
              " <selenium.webdriver.remote.webelement.WebElement (session=\"7b7791a20d83d5de3791cd749f6baf10\", element=\"51466e27-2558-4766-8131-647fc11fb1d9\")>,\n",
              " <selenium.webdriver.remote.webelement.WebElement (session=\"7b7791a20d83d5de3791cd749f6baf10\", element=\"f202da03-4100-4c10-808e-10f43b956a91\")>,\n",
              " <selenium.webdriver.remote.webelement.WebElement (session=\"7b7791a20d83d5de3791cd749f6baf10\", element=\"b1054a5d-aa8f-4fa5-b014-e5498a4df01c\")>,\n",
              " <selenium.webdriver.remote.webelement.WebElement (session=\"7b7791a20d83d5de3791cd749f6baf10\", element=\"7f10f63b-6cb9-4707-9810-7dda33bd9b3c\")>,\n",
              " <selenium.webdriver.remote.webelement.WebElement (session=\"7b7791a20d83d5de3791cd749f6baf10\", element=\"ada104f6-9190-4609-9f75-e1b2b18dc7c9\")>,\n",
              " <selenium.webdriver.remote.webelement.WebElement (session=\"7b7791a20d83d5de3791cd749f6baf10\", element=\"32caefa2-85e4-45b7-8ec0-d95c4cf8301b\")>,\n",
              " <selenium.webdriver.remote.webelement.WebElement (session=\"7b7791a20d83d5de3791cd749f6baf10\", element=\"d807467e-bd70-4419-87a2-98788d158a18\")>,\n",
              " <selenium.webdriver.remote.webelement.WebElement (session=\"7b7791a20d83d5de3791cd749f6baf10\", element=\"aa67e7a1-3fdb-41fe-a24c-d57305380d1e\")>,\n",
              " <selenium.webdriver.remote.webelement.WebElement (session=\"7b7791a20d83d5de3791cd749f6baf10\", element=\"d794c4a8-160f-41d9-ba11-436a14aea696\")>,\n",
              " <selenium.webdriver.remote.webelement.WebElement (session=\"7b7791a20d83d5de3791cd749f6baf10\", element=\"c4ad199a-79e1-4bc9-a5fc-1c7a1792a117\")>,\n",
              " <selenium.webdriver.remote.webelement.WebElement (session=\"7b7791a20d83d5de3791cd749f6baf10\", element=\"db6d2a16-af0c-4894-8a71-ae0140820a02\")>,\n",
              " <selenium.webdriver.remote.webelement.WebElement (session=\"7b7791a20d83d5de3791cd749f6baf10\", element=\"53666160-1864-40bc-9414-d1342f3ad9f6\")>,\n",
              " <selenium.webdriver.remote.webelement.WebElement (session=\"7b7791a20d83d5de3791cd749f6baf10\", element=\"7dd815a4-cba2-475b-b957-2d2a00083833\")>,\n",
              " <selenium.webdriver.remote.webelement.WebElement (session=\"7b7791a20d83d5de3791cd749f6baf10\", element=\"379f1480-be5d-452d-b0a2-81857be7226c\")>]"
            ]
          },
          "metadata": {
            "tags": []
          },
          "execution_count": 10
        }
      ]
    },
    {
      "cell_type": "code",
      "metadata": {
        "id": "rhYEVKYgpowb",
        "colab": {
          "base_uri": "https://localhost:8080/"
        },
        "outputId": "662b4f17-cbca-4b25-9916-c716a12fe6b2"
      },
      "source": [
        "for item in allBikeCompanyElement:\n",
        "    bikeComName = item.find_element_by_tag_name(\"span\").text\n",
        "    print(bikeComName)\n"
      ],
      "execution_count": 26,
      "outputs": [
        {
          "output_type": "stream",
          "text": [
            "BMW\n",
            "DNA모터스\n",
            "KR모터스\n",
            "KTM\n",
            "MV아구스타\n",
            "SYM\n",
            "가와사키\n",
            "고고로\n",
            "니우\n",
            "다임러\n",
            "닷지\n",
            "두카티\n",
            "로얄엔필드\n",
            "모토구찌\n",
            "모헤닉\n",
            "베넬리\n",
            "베스파\n",
            "베타\n",
            "벡트릭스\n",
            "브라모\n",
            "블루샤크\n",
            "비모타\n",
            "빅토리\n",
            "스즈키\n",
            "아치\n",
            "아프릴리아\n",
            "야마하\n",
            "우랄\n",
            "이탈젯\n",
            "인디언\n",
            "제로\n",
            "질레라\n",
            "캔암 BRP\n",
            "킴코\n",
            "트라이엄프\n",
            "\n",
            "\n",
            "\n",
            "\n",
            "\n",
            "\n",
            "\n",
            "\n",
            "\n"
          ],
          "name": "stdout"
        }
      ]
    },
    {
      "cell_type": "code",
      "metadata": {
        "colab": {
          "base_uri": "https://localhost:8080/"
        },
        "id": "MTb9o8N9Fm0Z",
        "outputId": "8971c8c7-8ed7-4522-90c2-85e8ed6baf21"
      },
      "source": [
        "for item in allBikeCompanyElement:\n",
        "    bikeComName = item.find_element_by_tag_name(\"span\").text\n",
        "    if (bikeComName != ''):\n",
        "        print(\"바이크 회사명:\" + bikeComName)\n",
        "        ahref = item.find_element_by_tag_name(\"a\").get_attribute(\"href\")\n",
        "        print('네이버 자동차 바이크제조사 홈 sub url:', ahref)\n",
        "        imgUrl = item.find_element_by_tag_name(\"img\").get_attribute(\"src\")\n",
        "        print('바이크 회사 엠블럼:', imgUrl)"
      ],
      "execution_count": 27,
      "outputs": [
        {
          "output_type": "stream",
          "text": [
            "바이크 회사명:BMW\n",
            "네이버 자동차 바이크제조사 홈 sub url: https://auto.naver.com/bike/mnfcoMain.nhn?mnfcoNo=1\n",
            "바이크 회사 엠블럼: https://imgauto-phinf.pstatic.net/20200310_295/auto_1583815693764w1MIK_PNG/20200310134808_90XTo2CB.png?type=f30_30\n",
            "바이크 회사명:DNA모터스\n",
            "네이버 자동차 바이크제조사 홈 sub url: https://auto.naver.com/bike/mnfcoMain.nhn?mnfcoNo=9\n",
            "바이크 회사 엠블럼: https://imgauto-phinf.pstatic.net/20200306_144/auto_15834768484981kxOH_PNG/20200306154043_IDCmgkrX.png?type=f30_30\n",
            "바이크 회사명:KR모터스\n",
            "네이버 자동차 바이크제조사 홈 sub url: https://auto.naver.com/bike/mnfcoMain.nhn?mnfcoNo=8\n",
            "바이크 회사 엠블럼: https://imgauto-phinf.pstatic.net/20170707_35/auto_1499403672996veFiV_PNG/20170707140110_ZApVlmYd.png?type=f30_30\n",
            "바이크 회사명:KTM\n",
            "네이버 자동차 바이크제조사 홈 sub url: https://auto.naver.com/bike/mnfcoMain.nhn?mnfcoNo=2\n",
            "바이크 회사 엠블럼: https://imgauto-phinf.pstatic.net/20170707_86/auto_1499403489069IzvOn_PNG/20170707135806_pkMHEZto.png?type=f30_30\n",
            "바이크 회사명:MV아구스타\n",
            "네이버 자동차 바이크제조사 홈 sub url: https://auto.naver.com/bike/mnfcoMain.nhn?mnfcoNo=3\n",
            "바이크 회사 엠블럼: https://imgauto-phinf.pstatic.net/20200106_247/auto_1578277573120pRONl_PNG/20200106112605_VEPQ942y.png?type=f30_30\n",
            "바이크 회사명:SYM\n",
            "네이버 자동차 바이크제조사 홈 sub url: https://auto.naver.com/bike/mnfcoMain.nhn?mnfcoNo=10\n",
            "바이크 회사 엠블럼: https://imgauto-phinf.pstatic.net/20170707_69/auto_1499403691607hzmLc_PNG/20170707140129_Xm9IraXN.png?type=f30_30\n",
            "바이크 회사명:가와사키\n",
            "네이버 자동차 바이크제조사 홈 sub url: https://auto.naver.com/bike/mnfcoMain.nhn?mnfcoNo=41\n",
            "바이크 회사 엠블럼: https://imgauto-phinf.pstatic.net/20170707_59/auto_149940389771698gvt_PNG/20170707140453_6HUCrEO2.png?type=f30_30\n",
            "바이크 회사명:고고로\n",
            "네이버 자동차 바이크제조사 홈 sub url: https://auto.naver.com/bike/mnfcoMain.nhn?mnfcoNo=53\n",
            "바이크 회사 엠블럼: https://imgauto-phinf.pstatic.net/20200416_104/auto_1586997772907Atf4o_PNG/20200416094251_R0tdenWI.png?type=f30_30\n",
            "바이크 회사명:니우\n",
            "네이버 자동차 바이크제조사 홈 sub url: https://auto.naver.com/bike/mnfcoMain.nhn?mnfcoNo=57\n",
            "바이크 회사 엠블럼: https://imgauto-phinf.pstatic.net/20200211_29/auto_1581399734416yzf4y_PNG/20200211144210_pcR4hM1R.png?type=f30_30\n",
            "바이크 회사명:다임러\n",
            "네이버 자동차 바이크제조사 홈 sub url: https://auto.naver.com/bike/mnfcoMain.nhn?mnfcoNo=55\n",
            "바이크 회사 엠블럼: https://imgauto-phinf.pstatic.net/20191001_115/auto_1569895638495sGCl3_PNG/20191001110710_0Iz3JxnE.png?type=f30_30\n",
            "바이크 회사명:닷지\n",
            "네이버 자동차 바이크제조사 홈 sub url: https://auto.naver.com/bike/mnfcoMain.nhn?mnfcoNo=49\n",
            "바이크 회사 엠블럼: https://imgauto-phinf.pstatic.net/20210105_214/auto_1609829278733SBqbs_PNG/20210105154752_NSfj620M.png?type=f30_30\n",
            "바이크 회사명:두카티\n",
            "네이버 자동차 바이크제조사 홈 sub url: https://auto.naver.com/bike/mnfcoMain.nhn?mnfcoNo=4\n",
            "바이크 회사 엠블럼: https://imgauto-phinf.pstatic.net/20200313_207/auto_1584071057990xwXn8_PNG/20200313124412_nttDZ26D.png?type=f30_30\n",
            "바이크 회사명:로얄엔필드\n",
            "네이버 자동차 바이크제조사 홈 sub url: https://auto.naver.com/bike/mnfcoMain.nhn?mnfcoNo=42\n",
            "바이크 회사 엠블럼: https://imgauto-phinf.pstatic.net/20200306_19/auto_1583477817595DPct8_PNG/20200306155650_3gvEUisW.png?type=f30_30\n",
            "바이크 회사명:모토구찌\n",
            "네이버 자동차 바이크제조사 홈 sub url: https://auto.naver.com/bike/mnfcoMain.nhn?mnfcoNo=29\n",
            "바이크 회사 엠블럼: https://imgauto-phinf.pstatic.net/20170707_99/auto_1499403620377SUY2j_PNG/20170707140017_av0Q5DJc.png?type=f30_30\n",
            "바이크 회사명:모헤닉\n",
            "네이버 자동차 바이크제조사 홈 sub url: https://auto.naver.com/bike/mnfcoMain.nhn?mnfcoNo=63\n",
            "바이크 회사 엠블럼: https://imgauto-phinf.pstatic.net/20210128_107/auto_1611802036852yKlsH_PNG/20210128114656_FZwOEOEF.png?type=f30_30\n",
            "바이크 회사명:베넬리\n",
            "네이버 자동차 바이크제조사 홈 sub url: https://auto.naver.com/bike/mnfcoMain.nhn?mnfcoNo=43\n",
            "바이크 회사 엠블럼: https://imgauto-phinf.pstatic.net/20170707_298/auto_149940364282830FB7_PNG/20170707140039_OqhQgzrP.png?type=f30_30\n",
            "바이크 회사명:베스파\n",
            "네이버 자동차 바이크제조사 홈 sub url: https://auto.naver.com/bike/mnfcoMain.nhn?mnfcoNo=18\n",
            "바이크 회사 엠블럼: https://imgauto-phinf.pstatic.net/20200327_83/auto_1585299495007d9vwj_PNG/20200327175807_32P7N286.png?type=f30_30\n",
            "바이크 회사명:베타\n",
            "네이버 자동차 바이크제조사 홈 sub url: https://auto.naver.com/bike/mnfcoMain.nhn?mnfcoNo=48\n",
            "바이크 회사 엠블럼: https://imgauto-phinf.pstatic.net/20170707_243/auto_14994036600550xR8J_PNG/20170707140054_w9OPzFyf.png?type=f30_30\n",
            "바이크 회사명:벡트릭스\n",
            "네이버 자동차 바이크제조사 홈 sub url: https://auto.naver.com/bike/mnfcoMain.nhn?mnfcoNo=21\n",
            "바이크 회사 엠블럼: https://imgauto-phinf.pstatic.net/20200210_173/auto_1581309211901Ln2bN_PNG/20200210133325_SXnXm7QZ.png?type=f30_30\n",
            "바이크 회사명:브라모\n",
            "네이버 자동차 바이크제조사 홈 sub url: https://auto.naver.com/bike/mnfcoMain.nhn?mnfcoNo=37\n",
            "바이크 회사 엠블럼: https://imgauto-phinf.pstatic.net/20200210_57/auto_1581309461684tMTzd_PNG/20200210133737_ctyiecRp.png?type=f30_30\n",
            "바이크 회사명:블루샤크\n",
            "네이버 자동차 바이크제조사 홈 sub url: https://auto.naver.com/bike/mnfcoMain.nhn?mnfcoNo=59\n",
            "바이크 회사 엠블럼: https://imgauto-phinf.pstatic.net/20200508_160/auto_1588926919938O09H0_PNG/20200508173447_Baivq88R.png?type=f30_30\n",
            "바이크 회사명:비모타\n",
            "네이버 자동차 바이크제조사 홈 sub url: https://auto.naver.com/bike/mnfcoMain.nhn?mnfcoNo=33\n",
            "바이크 회사 엠블럼: https://imgauto-phinf.pstatic.net/20200210_3/auto_1581309342460Cq8L8_PNG/20200210133537_wb4NnXGT.png?type=f30_30\n",
            "바이크 회사명:빅토리\n",
            "네이버 자동차 바이크제조사 홈 sub url: https://auto.naver.com/bike/mnfcoMain.nhn?mnfcoNo=12\n",
            "바이크 회사 엠블럼: https://imgauto-phinf.pstatic.net/20170707_250/auto_14994037310380lT41_PNG/20170707140207_nsPJJvuu.png?type=f30_30\n",
            "바이크 회사명:스즈키\n",
            "네이버 자동차 바이크제조사 홈 sub url: https://auto.naver.com/bike/mnfcoMain.nhn?mnfcoNo=15\n",
            "바이크 회사 엠블럼: https://imgauto-phinf.pstatic.net/20200207_262/auto_1581063025431IYOlm_PNG/20200207171020_tdJyUmbe.png?type=f30_30\n",
            "바이크 회사명:아치\n",
            "네이버 자동차 바이크제조사 홈 sub url: https://auto.naver.com/bike/mnfcoMain.nhn?mnfcoNo=13\n",
            "바이크 회사 엠블럼: https://imgauto-phinf.pstatic.net/20191211_152/auto_1576030127296ldgoj_PNG/20191211110842_ss6wvddP.png?type=f30_30\n",
            "바이크 회사명:아프릴리아\n",
            "네이버 자동차 바이크제조사 홈 sub url: https://auto.naver.com/bike/mnfcoMain.nhn?mnfcoNo=5\n",
            "바이크 회사 엠블럼: https://imgauto-phinf.pstatic.net/20170707_51/auto_149940352335462EyU_PNG/20170707135841_A8okFmzI.png?type=f30_30\n",
            "바이크 회사명:야마하\n",
            "네이버 자동차 바이크제조사 홈 sub url: https://auto.naver.com/bike/mnfcoMain.nhn?mnfcoNo=16\n",
            "바이크 회사 엠블럼: https://imgauto-phinf.pstatic.net/20200911_42/auto_1599799255742BjqgS_PNG/20200911134050_SEZqfGZQ.png?type=f30_30\n",
            "바이크 회사명:우랄\n",
            "네이버 자동차 바이크제조사 홈 sub url: https://auto.naver.com/bike/mnfcoMain.nhn?mnfcoNo=51\n",
            "바이크 회사 엠블럼: https://imgauto-phinf.pstatic.net/20200511_32/auto_15891568939650ytfw_PNG/20200511092807_YSQPYQ6H.png?type=f30_30\n",
            "바이크 회사명:이탈젯\n",
            "네이버 자동차 바이크제조사 홈 sub url: https://auto.naver.com/bike/mnfcoMain.nhn?mnfcoNo=20\n",
            "바이크 회사 엠블럼: https://imgauto-phinf.pstatic.net/20170707_35/auto_1499403573966MA2Ky_PNG/20170707135931_xisfE6sK.png?type=f30_30\n",
            "바이크 회사명:인디언\n",
            "네이버 자동차 바이크제조사 홈 sub url: https://auto.naver.com/bike/mnfcoMain.nhn?mnfcoNo=19\n",
            "바이크 회사 엠블럼: https://imgauto-phinf.pstatic.net/20200306_94/auto_1583478005716frPcW_PNG/20200306160000_F7jTJnAI.png?type=f30_30\n",
            "바이크 회사명:제로\n",
            "네이버 자동차 바이크제조사 홈 sub url: https://auto.naver.com/bike/mnfcoMain.nhn?mnfcoNo=45\n",
            "바이크 회사 엠블럼: https://imgauto-phinf.pstatic.net/20200211_86/auto_1581399544042tVyrG_PNG/20200211143900_Aak3gllx.png?type=f30_30\n",
            "바이크 회사명:질레라\n",
            "네이버 자동차 바이크제조사 홈 sub url: https://auto.naver.com/bike/mnfcoMain.nhn?mnfcoNo=6\n",
            "바이크 회사 엠블럼: https://imgauto-phinf.pstatic.net/20170707_150/auto_1499403534722ObiKh_PNG/20170707135852_N2uEr3sk.png?type=f30_30\n",
            "바이크 회사명:캔암 BRP\n",
            "네이버 자동차 바이크제조사 홈 sub url: https://auto.naver.com/bike/mnfcoMain.nhn?mnfcoNo=35\n",
            "바이크 회사 엠블럼: https://imgauto-phinf.pstatic.net/20170707_228/auto_1499403938849PIyMC_PNG/20170707140536_X569kcW8.png?type=f30_30\n",
            "바이크 회사명:킴코\n",
            "네이버 자동차 바이크제조사 홈 sub url: https://auto.naver.com/bike/mnfcoMain.nhn?mnfcoNo=11\n",
            "바이크 회사 엠블럼: https://imgauto-phinf.pstatic.net/20201231_221/auto_16093853338058lJ22_PNG/20201231122846_qOxSdZtd.png?type=f30_30\n",
            "바이크 회사명:트라이엄프\n",
            "네이버 자동차 바이크제조사 홈 sub url: https://auto.naver.com/bike/mnfcoMain.nhn?mnfcoNo=31\n",
            "바이크 회사 엠블럼: https://imgauto-phinf.pstatic.net/20200306_108/auto_1583477219918l17tk_PNG/20200306154654_VfKRcDoV.png?type=f30_30\n"
          ],
          "name": "stdout"
        }
      ]
    },
    {
      "cell_type": "code",
      "metadata": {
        "id": "S0nIBWSnp2gk",
        "colab": {
          "base_uri": "https://localhost:8080/"
        },
        "outputId": "00ba80f0-b29f-4e50-d1d5-24895d92e930"
      },
      "source": [
        "driver= webdriver.Chrome('chromedriver',chrome_options=chrome_options)\n",
        "\n",
        "driver.get('https://auto.naver.com/bike/mainList.nhn')\n",
        "\n",
        "print(\"+\" * 100)\n",
        "print(driver.title)\n",
        "print(driver.current_url)\n",
        "print(\"바이크 브랜드 크롤링\")\n",
        "print(\"-\" * 100)\n",
        "\n",
        "# 바이크 제조사 전체 페이지 버튼 클릭\n",
        "bikeCompanyAllBtn = driver.find_element_by_css_selector(\"#container > div.spot_main > div.spot_aside > div.tit > a\")\n",
        "bikeCompanyAllBtn.click()\n",
        "\n",
        "\n",
        "\n",
        "# 바이크 제조사 1번 페이지 진입해서 바이크 리스트 추출\n",
        "allBikeCompanyElement = driver.find_elements_by_css_selector(\n",
        "    \"#_vendor_select_layer > div > div.maker_group div.emblem_area > ul > li\")\n",
        "\n",
        "# 바이크 첫 페이지 크롤링\n",
        "for item in allBikeCompanyElement:\n",
        "    bikeComName = item.find_element_by_tag_name(\"span\").text\n",
        "    if (bikeComName != ''):\n",
        "        print(\"바이크 회사명:\" + bikeComName)\n",
        "        ahref = item.find_element_by_tag_name(\"a\").get_attribute(\"href\")\n",
        "        print('네이버 자동차 바이크제조사 홈 sub url:', ahref)\n",
        "        imgUrl = item.find_element_by_tag_name(\"img\").get_attribute(\"src\")\n",
        "        print('바이크 회사 엠블럼:', imgUrl)\n",
        "\n",
        "\n",
        "\n",
        "# # 바이크 제조사 리스트의 다음 페이지 버튼을 찾아서 클릭하자.\n",
        "# nextBtn = driver.find_element_by_css_selector(\n",
        "#     \"#_vendor_select_layer > div > div.maker_group > div.rolling_btn > button.next\")\n",
        "# # 다음 바이크 제조사 페이지 버튼이 활성화 여부\n",
        "# isExistNextPage = nextBtn.is_enabled()\n",
        "\n",
        "# if (isExistNextPage == True):\n",
        "#     print(\"다음 페이지 존재함=======================================>\")\n",
        "#     nextBtn.click()\n",
        "#     allBikeCompanyElement = driver.find_elements_by_css_selector(\n",
        "#         \"#_vendor_select_layer > div > div.maker_group div.emblem_area > ul > li\")\n",
        "#     for item in allBikeCompanyElement:\n",
        "#         bikeComName = item.find_element_by_tag_name(\"span\").text\n",
        "#         if (bikeComName != ''):\n",
        "#             print(\"바이크 회사명:\" + bikeComName)\n",
        "#             ahref = item.find_element_by_tag_name(\"a\").get_attribute(\"href\")\n",
        "#             print('네이버 자동차 바이크제조사 홈 sub url:', ahref)\n",
        "#             imgUrl = item.find_element_by_tag_name(\"img\").get_attribute(\"src\")\n",
        "#             print('바이크 회사 엠블럼:', imgUrl)\n"
      ],
      "execution_count": 12,
      "outputs": [
        {
          "output_type": "stream",
          "text": [
            "/usr/local/lib/python3.7/dist-packages/ipykernel_launcher.py:1: DeprecationWarning: use options instead of chrome_options\n",
            "  \"\"\"Entry point for launching an IPython kernel.\n"
          ],
          "name": "stderr"
        },
        {
          "output_type": "stream",
          "text": [
            "++++++++++++++++++++++++++++++++++++++++++++++++++++++++++++++++++++++++++++++++++++++++++++++++++++\n",
            "네이버 자동차\n",
            "https://auto.naver.com/bike/mainList.nhn\n",
            "바이크 브랜드 크롤링\n",
            "----------------------------------------------------------------------------------------------------\n",
            "바이크 회사명:BMW\n",
            "네이버 자동차 바이크제조사 홈 sub url: https://auto.naver.com/bike/mnfcoMain.nhn?mnfcoNo=1\n",
            "바이크 회사 엠블럼: https://imgauto-phinf.pstatic.net/20200310_295/auto_1583815693764w1MIK_PNG/20200310134808_90XTo2CB.png?type=f30_30\n",
            "바이크 회사명:DNA모터스\n",
            "네이버 자동차 바이크제조사 홈 sub url: https://auto.naver.com/bike/mnfcoMain.nhn?mnfcoNo=9\n",
            "바이크 회사 엠블럼: https://imgauto-phinf.pstatic.net/20200306_144/auto_15834768484981kxOH_PNG/20200306154043_IDCmgkrX.png?type=f30_30\n",
            "바이크 회사명:KR모터스\n",
            "네이버 자동차 바이크제조사 홈 sub url: https://auto.naver.com/bike/mnfcoMain.nhn?mnfcoNo=8\n",
            "바이크 회사 엠블럼: https://imgauto-phinf.pstatic.net/20170707_35/auto_1499403672996veFiV_PNG/20170707140110_ZApVlmYd.png?type=f30_30\n",
            "바이크 회사명:KTM\n",
            "네이버 자동차 바이크제조사 홈 sub url: https://auto.naver.com/bike/mnfcoMain.nhn?mnfcoNo=2\n",
            "바이크 회사 엠블럼: https://imgauto-phinf.pstatic.net/20170707_86/auto_1499403489069IzvOn_PNG/20170707135806_pkMHEZto.png?type=f30_30\n",
            "바이크 회사명:MV아구스타\n",
            "네이버 자동차 바이크제조사 홈 sub url: https://auto.naver.com/bike/mnfcoMain.nhn?mnfcoNo=3\n",
            "바이크 회사 엠블럼: https://imgauto-phinf.pstatic.net/20200106_247/auto_1578277573120pRONl_PNG/20200106112605_VEPQ942y.png?type=f30_30\n",
            "바이크 회사명:SYM\n",
            "네이버 자동차 바이크제조사 홈 sub url: https://auto.naver.com/bike/mnfcoMain.nhn?mnfcoNo=10\n",
            "바이크 회사 엠블럼: https://imgauto-phinf.pstatic.net/20170707_69/auto_1499403691607hzmLc_PNG/20170707140129_Xm9IraXN.png?type=f30_30\n",
            "바이크 회사명:가와사키\n",
            "네이버 자동차 바이크제조사 홈 sub url: https://auto.naver.com/bike/mnfcoMain.nhn?mnfcoNo=41\n",
            "바이크 회사 엠블럼: https://imgauto-phinf.pstatic.net/20170707_59/auto_149940389771698gvt_PNG/20170707140453_6HUCrEO2.png?type=f30_30\n",
            "바이크 회사명:고고로\n",
            "네이버 자동차 바이크제조사 홈 sub url: https://auto.naver.com/bike/mnfcoMain.nhn?mnfcoNo=53\n",
            "바이크 회사 엠블럼: https://imgauto-phinf.pstatic.net/20200416_104/auto_1586997772907Atf4o_PNG/20200416094251_R0tdenWI.png?type=f30_30\n",
            "바이크 회사명:니우\n",
            "네이버 자동차 바이크제조사 홈 sub url: https://auto.naver.com/bike/mnfcoMain.nhn?mnfcoNo=57\n",
            "바이크 회사 엠블럼: https://imgauto-phinf.pstatic.net/20200211_29/auto_1581399734416yzf4y_PNG/20200211144210_pcR4hM1R.png?type=f30_30\n",
            "바이크 회사명:다임러\n",
            "네이버 자동차 바이크제조사 홈 sub url: https://auto.naver.com/bike/mnfcoMain.nhn?mnfcoNo=55\n",
            "바이크 회사 엠블럼: https://imgauto-phinf.pstatic.net/20191001_115/auto_1569895638495sGCl3_PNG/20191001110710_0Iz3JxnE.png?type=f30_30\n",
            "바이크 회사명:닷지\n",
            "네이버 자동차 바이크제조사 홈 sub url: https://auto.naver.com/bike/mnfcoMain.nhn?mnfcoNo=49\n",
            "바이크 회사 엠블럼: https://imgauto-phinf.pstatic.net/20210105_214/auto_1609829278733SBqbs_PNG/20210105154752_NSfj620M.png?type=f30_30\n",
            "바이크 회사명:두카티\n",
            "네이버 자동차 바이크제조사 홈 sub url: https://auto.naver.com/bike/mnfcoMain.nhn?mnfcoNo=4\n",
            "바이크 회사 엠블럼: https://imgauto-phinf.pstatic.net/20200313_207/auto_1584071057990xwXn8_PNG/20200313124412_nttDZ26D.png?type=f30_30\n",
            "바이크 회사명:로얄엔필드\n",
            "네이버 자동차 바이크제조사 홈 sub url: https://auto.naver.com/bike/mnfcoMain.nhn?mnfcoNo=42\n",
            "바이크 회사 엠블럼: https://imgauto-phinf.pstatic.net/20200306_19/auto_1583477817595DPct8_PNG/20200306155650_3gvEUisW.png?type=f30_30\n",
            "바이크 회사명:모토구찌\n",
            "네이버 자동차 바이크제조사 홈 sub url: https://auto.naver.com/bike/mnfcoMain.nhn?mnfcoNo=29\n",
            "바이크 회사 엠블럼: https://imgauto-phinf.pstatic.net/20170707_99/auto_1499403620377SUY2j_PNG/20170707140017_av0Q5DJc.png?type=f30_30\n",
            "바이크 회사명:모헤닉\n",
            "네이버 자동차 바이크제조사 홈 sub url: https://auto.naver.com/bike/mnfcoMain.nhn?mnfcoNo=63\n",
            "바이크 회사 엠블럼: https://imgauto-phinf.pstatic.net/20210128_107/auto_1611802036852yKlsH_PNG/20210128114656_FZwOEOEF.png?type=f30_30\n",
            "바이크 회사명:베넬리\n",
            "네이버 자동차 바이크제조사 홈 sub url: https://auto.naver.com/bike/mnfcoMain.nhn?mnfcoNo=43\n",
            "바이크 회사 엠블럼: https://imgauto-phinf.pstatic.net/20170707_298/auto_149940364282830FB7_PNG/20170707140039_OqhQgzrP.png?type=f30_30\n",
            "바이크 회사명:베스파\n",
            "네이버 자동차 바이크제조사 홈 sub url: https://auto.naver.com/bike/mnfcoMain.nhn?mnfcoNo=18\n",
            "바이크 회사 엠블럼: https://imgauto-phinf.pstatic.net/20200327_83/auto_1585299495007d9vwj_PNG/20200327175807_32P7N286.png?type=f30_30\n",
            "바이크 회사명:베타\n",
            "네이버 자동차 바이크제조사 홈 sub url: https://auto.naver.com/bike/mnfcoMain.nhn?mnfcoNo=48\n",
            "바이크 회사 엠블럼: https://imgauto-phinf.pstatic.net/20170707_243/auto_14994036600550xR8J_PNG/20170707140054_w9OPzFyf.png?type=f30_30\n",
            "바이크 회사명:벡트릭스\n",
            "네이버 자동차 바이크제조사 홈 sub url: https://auto.naver.com/bike/mnfcoMain.nhn?mnfcoNo=21\n",
            "바이크 회사 엠블럼: https://imgauto-phinf.pstatic.net/20200210_173/auto_1581309211901Ln2bN_PNG/20200210133325_SXnXm7QZ.png?type=f30_30\n",
            "바이크 회사명:브라모\n",
            "네이버 자동차 바이크제조사 홈 sub url: https://auto.naver.com/bike/mnfcoMain.nhn?mnfcoNo=37\n",
            "바이크 회사 엠블럼: https://imgauto-phinf.pstatic.net/20200210_57/auto_1581309461684tMTzd_PNG/20200210133737_ctyiecRp.png?type=f30_30\n",
            "바이크 회사명:블루샤크\n",
            "네이버 자동차 바이크제조사 홈 sub url: https://auto.naver.com/bike/mnfcoMain.nhn?mnfcoNo=59\n",
            "바이크 회사 엠블럼: https://imgauto-phinf.pstatic.net/20200508_160/auto_1588926919938O09H0_PNG/20200508173447_Baivq88R.png?type=f30_30\n",
            "바이크 회사명:비모타\n",
            "네이버 자동차 바이크제조사 홈 sub url: https://auto.naver.com/bike/mnfcoMain.nhn?mnfcoNo=33\n",
            "바이크 회사 엠블럼: https://imgauto-phinf.pstatic.net/20200210_3/auto_1581309342460Cq8L8_PNG/20200210133537_wb4NnXGT.png?type=f30_30\n",
            "바이크 회사명:빅토리\n",
            "네이버 자동차 바이크제조사 홈 sub url: https://auto.naver.com/bike/mnfcoMain.nhn?mnfcoNo=12\n",
            "바이크 회사 엠블럼: https://imgauto-phinf.pstatic.net/20170707_250/auto_14994037310380lT41_PNG/20170707140207_nsPJJvuu.png?type=f30_30\n",
            "바이크 회사명:스즈키\n",
            "네이버 자동차 바이크제조사 홈 sub url: https://auto.naver.com/bike/mnfcoMain.nhn?mnfcoNo=15\n",
            "바이크 회사 엠블럼: https://imgauto-phinf.pstatic.net/20200207_262/auto_1581063025431IYOlm_PNG/20200207171020_tdJyUmbe.png?type=f30_30\n",
            "바이크 회사명:아치\n",
            "네이버 자동차 바이크제조사 홈 sub url: https://auto.naver.com/bike/mnfcoMain.nhn?mnfcoNo=13\n",
            "바이크 회사 엠블럼: https://imgauto-phinf.pstatic.net/20191211_152/auto_1576030127296ldgoj_PNG/20191211110842_ss6wvddP.png?type=f30_30\n",
            "바이크 회사명:아프릴리아\n",
            "네이버 자동차 바이크제조사 홈 sub url: https://auto.naver.com/bike/mnfcoMain.nhn?mnfcoNo=5\n",
            "바이크 회사 엠블럼: https://imgauto-phinf.pstatic.net/20170707_51/auto_149940352335462EyU_PNG/20170707135841_A8okFmzI.png?type=f30_30\n",
            "바이크 회사명:야마하\n",
            "네이버 자동차 바이크제조사 홈 sub url: https://auto.naver.com/bike/mnfcoMain.nhn?mnfcoNo=16\n",
            "바이크 회사 엠블럼: https://imgauto-phinf.pstatic.net/20200911_42/auto_1599799255742BjqgS_PNG/20200911134050_SEZqfGZQ.png?type=f30_30\n",
            "바이크 회사명:우랄\n",
            "네이버 자동차 바이크제조사 홈 sub url: https://auto.naver.com/bike/mnfcoMain.nhn?mnfcoNo=51\n",
            "바이크 회사 엠블럼: https://imgauto-phinf.pstatic.net/20200511_32/auto_15891568939650ytfw_PNG/20200511092807_YSQPYQ6H.png?type=f30_30\n",
            "바이크 회사명:이탈젯\n",
            "네이버 자동차 바이크제조사 홈 sub url: https://auto.naver.com/bike/mnfcoMain.nhn?mnfcoNo=20\n",
            "바이크 회사 엠블럼: https://imgauto-phinf.pstatic.net/20170707_35/auto_1499403573966MA2Ky_PNG/20170707135931_xisfE6sK.png?type=f30_30\n",
            "바이크 회사명:인디언\n",
            "네이버 자동차 바이크제조사 홈 sub url: https://auto.naver.com/bike/mnfcoMain.nhn?mnfcoNo=19\n",
            "바이크 회사 엠블럼: https://imgauto-phinf.pstatic.net/20200306_94/auto_1583478005716frPcW_PNG/20200306160000_F7jTJnAI.png?type=f30_30\n",
            "바이크 회사명:제로\n",
            "네이버 자동차 바이크제조사 홈 sub url: https://auto.naver.com/bike/mnfcoMain.nhn?mnfcoNo=45\n",
            "바이크 회사 엠블럼: https://imgauto-phinf.pstatic.net/20200211_86/auto_1581399544042tVyrG_PNG/20200211143900_Aak3gllx.png?type=f30_30\n",
            "바이크 회사명:질레라\n",
            "네이버 자동차 바이크제조사 홈 sub url: https://auto.naver.com/bike/mnfcoMain.nhn?mnfcoNo=6\n",
            "바이크 회사 엠블럼: https://imgauto-phinf.pstatic.net/20170707_150/auto_1499403534722ObiKh_PNG/20170707135852_N2uEr3sk.png?type=f30_30\n",
            "바이크 회사명:캔암 BRP\n",
            "네이버 자동차 바이크제조사 홈 sub url: https://auto.naver.com/bike/mnfcoMain.nhn?mnfcoNo=35\n",
            "바이크 회사 엠블럼: https://imgauto-phinf.pstatic.net/20170707_228/auto_1499403938849PIyMC_PNG/20170707140536_X569kcW8.png?type=f30_30\n",
            "바이크 회사명:킴코\n",
            "네이버 자동차 바이크제조사 홈 sub url: https://auto.naver.com/bike/mnfcoMain.nhn?mnfcoNo=11\n",
            "바이크 회사 엠블럼: https://imgauto-phinf.pstatic.net/20201231_221/auto_16093853338058lJ22_PNG/20201231122846_qOxSdZtd.png?type=f30_30\n",
            "바이크 회사명:트라이엄프\n",
            "네이버 자동차 바이크제조사 홈 sub url: https://auto.naver.com/bike/mnfcoMain.nhn?mnfcoNo=31\n",
            "바이크 회사 엠블럼: https://imgauto-phinf.pstatic.net/20200306_108/auto_1583477219918l17tk_PNG/20200306154654_VfKRcDoV.png?type=f30_30\n"
          ],
          "name": "stdout"
        }
      ]
    }
  ]
}