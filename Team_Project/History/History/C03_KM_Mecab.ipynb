{
  "nbformat": 4,
  "nbformat_minor": 0,
  "metadata": {
    "colab": {
      "name": "C03_KM_Mecab.ipynb",
      "provenance": [],
      "collapsed_sections": [
        "Hb3cPwkr_Dv8",
        "FTaZEJ1YO9he"
      ],
      "mount_file_id": "1jfZlICskRukBDiwFm_ZpjLxiaKYHCe8t",
      "authorship_tag": "ABX9TyNveLzU2xkU09LZ2RmdUSVH",
      "include_colab_link": true
    },
    "kernelspec": {
      "name": "python3",
      "display_name": "Python 3"
    },
    "language_info": {
      "name": "python"
    }
  },
  "cells": [
    {
      "cell_type": "markdown",
      "metadata": {
        "id": "view-in-github",
        "colab_type": "text"
      },
      "source": [
        "<a href=\"https://colab.research.google.com/github/KyoungmiKwon/Bigdata_Training_at_ITwill/blob/main/Team_Project/C03_KM_Mecab.ipynb\" target=\"_parent\"><img src=\"https://colab.research.google.com/assets/colab-badge.svg\" alt=\"Open In Colab\"/></a>"
      ]
    },
    {
      "cell_type": "markdown",
      "metadata": {
        "id": "N0OWQT295Q_r"
      },
      "source": [
        "#Mecab Colab 설치하기"
      ]
    },
    {
      "cell_type": "code",
      "metadata": {
        "colab": {
          "base_uri": "https://localhost:8080/"
        },
        "id": "fr9RzSx95AqD",
        "outputId": "56ed3f5c-7ac4-4f44-82e6-3c00b3537ef5"
      },
      "source": [
        "%%bash\n",
        "apt-get update\n",
        "apt-get install g++ openjdk-8-jdk python-dev python3-dev\n",
        "pip3 install JPype1\n",
        "pip3 install konlpy"
      ],
      "execution_count": 2,
      "outputs": [
        {
          "output_type": "stream",
          "text": [
            "Hit:1 http://security.ubuntu.com/ubuntu bionic-security InRelease\n",
            "Hit:2 https://cloud.r-project.org/bin/linux/ubuntu bionic-cran40/ InRelease\n",
            "Ign:3 https://developer.download.nvidia.com/compute/cuda/repos/ubuntu1804/x86_64  InRelease\n",
            "Hit:4 http://archive.ubuntu.com/ubuntu bionic InRelease\n",
            "Hit:5 http://ppa.launchpad.net/c2d4u.team/c2d4u4.0+/ubuntu bionic InRelease\n",
            "Ign:6 https://developer.download.nvidia.com/compute/machine-learning/repos/ubuntu1804/x86_64  InRelease\n",
            "Hit:7 https://developer.download.nvidia.com/compute/cuda/repos/ubuntu1804/x86_64  Release\n",
            "Hit:8 https://developer.download.nvidia.com/compute/machine-learning/repos/ubuntu1804/x86_64  Release\n",
            "Hit:9 http://archive.ubuntu.com/ubuntu bionic-updates InRelease\n",
            "Hit:10 http://archive.ubuntu.com/ubuntu bionic-backports InRelease\n",
            "Hit:11 http://ppa.launchpad.net/cran/libgit2/ubuntu bionic InRelease\n",
            "Hit:12 http://ppa.launchpad.net/deadsnakes/ppa/ubuntu bionic InRelease\n",
            "Hit:13 http://ppa.launchpad.net/graphics-drivers/ppa/ubuntu bionic InRelease\n",
            "Reading package lists...\n",
            "Reading package lists...\n",
            "Building dependency tree...\n",
            "Reading state information...\n",
            "python-dev is already the newest version (2.7.15~rc1-1).\n",
            "g++ is already the newest version (4:7.4.0-1ubuntu2.3).\n",
            "python3-dev is already the newest version (3.6.7-1~18.04).\n",
            "openjdk-8-jdk is already the newest version (8u282-b08-0ubuntu1~18.04).\n",
            "The following package was automatically installed and is no longer required:\n",
            "  libnvidia-common-460\n",
            "Use 'apt autoremove' to remove it.\n",
            "0 upgraded, 0 newly installed, 0 to remove and 36 not upgraded.\n",
            "Requirement already satisfied: JPype1 in /usr/local/lib/python3.7/dist-packages (1.2.1)\n",
            "Requirement already satisfied: typing-extensions; python_version < \"3.8\" in /usr/local/lib/python3.7/dist-packages (from JPype1) (3.7.4.3)\n",
            "Requirement already satisfied: konlpy in /usr/local/lib/python3.7/dist-packages (0.5.2)\n",
            "Requirement already satisfied: JPype1>=0.7.0 in /usr/local/lib/python3.7/dist-packages (from konlpy) (1.2.1)\n",
            "Requirement already satisfied: tweepy>=3.7.0 in /usr/local/lib/python3.7/dist-packages (from konlpy) (3.10.0)\n",
            "Requirement already satisfied: numpy>=1.6 in /usr/local/lib/python3.7/dist-packages (from konlpy) (1.19.5)\n",
            "Requirement already satisfied: colorama in /usr/local/lib/python3.7/dist-packages (from konlpy) (0.4.4)\n",
            "Requirement already satisfied: beautifulsoup4==4.6.0 in /usr/local/lib/python3.7/dist-packages (from konlpy) (4.6.0)\n",
            "Requirement already satisfied: lxml>=4.1.0 in /usr/local/lib/python3.7/dist-packages (from konlpy) (4.2.6)\n",
            "Requirement already satisfied: typing-extensions; python_version < \"3.8\" in /usr/local/lib/python3.7/dist-packages (from JPype1>=0.7.0->konlpy) (3.7.4.3)\n",
            "Requirement already satisfied: requests[socks]>=2.11.1 in /usr/local/lib/python3.7/dist-packages (from tweepy>=3.7.0->konlpy) (2.23.0)\n",
            "Requirement already satisfied: requests-oauthlib>=0.7.0 in /usr/local/lib/python3.7/dist-packages (from tweepy>=3.7.0->konlpy) (1.3.0)\n",
            "Requirement already satisfied: six>=1.10.0 in /usr/local/lib/python3.7/dist-packages (from tweepy>=3.7.0->konlpy) (1.15.0)\n",
            "Requirement already satisfied: chardet<4,>=3.0.2 in /usr/local/lib/python3.7/dist-packages (from requests[socks]>=2.11.1->tweepy>=3.7.0->konlpy) (3.0.4)\n",
            "Requirement already satisfied: urllib3!=1.25.0,!=1.25.1,<1.26,>=1.21.1 in /usr/local/lib/python3.7/dist-packages (from requests[socks]>=2.11.1->tweepy>=3.7.0->konlpy) (1.24.3)\n",
            "Requirement already satisfied: idna<3,>=2.5 in /usr/local/lib/python3.7/dist-packages (from requests[socks]>=2.11.1->tweepy>=3.7.0->konlpy) (2.10)\n",
            "Requirement already satisfied: certifi>=2017.4.17 in /usr/local/lib/python3.7/dist-packages (from requests[socks]>=2.11.1->tweepy>=3.7.0->konlpy) (2020.12.5)\n",
            "Requirement already satisfied: PySocks!=1.5.7,>=1.5.6; extra == \"socks\" in /usr/local/lib/python3.7/dist-packages (from requests[socks]>=2.11.1->tweepy>=3.7.0->konlpy) (1.7.1)\n",
            "Requirement already satisfied: oauthlib>=3.0.0 in /usr/local/lib/python3.7/dist-packages (from requests-oauthlib>=0.7.0->tweepy>=3.7.0->konlpy) (3.1.0)\n"
          ],
          "name": "stdout"
        }
      ]
    },
    {
      "cell_type": "code",
      "metadata": {
        "colab": {
          "base_uri": "https://localhost:8080/"
        },
        "id": "krJXDTJa6UpP",
        "outputId": "d5ceb1a9-f33b-45e1-e0ee-d3355368f8cd"
      },
      "source": [
        "%env JAVA_HOME \"/user/lib/jvm/java-8-openjdk-amd64\""
      ],
      "execution_count": 3,
      "outputs": [
        {
          "output_type": "stream",
          "text": [
            "env: JAVA_HOME=\"/user/lib/jvm/java-8-openjdk-amd64\"\n"
          ],
          "name": "stdout"
        }
      ]
    },
    {
      "cell_type": "code",
      "metadata": {
        "colab": {
          "base_uri": "https://localhost:8080/"
        },
        "id": "ybKt5Zm17SVb",
        "outputId": "2f2dbab0-2a63-43ed-a9ff-134b7196f0ef"
      },
      "source": [
        "%%bash\n",
        "bash <(curl -s https://raw.githubusercontent.com/konlpy/konlpy/master/scripts/mecab.sh)\n",
        "pip3 install /tmp/mecab-python-0.996"
      ],
      "execution_count": 5,
      "outputs": [
        {
          "output_type": "stream",
          "text": [
            "mecab-ko is already installed\n",
            "mecab-ko-dic is already installed\n",
            "mecab-python is already installed\n",
            "Done.\n",
            "Processing /tmp/mecab-python-0.996\n",
            "Building wheels for collected packages: mecab-python\n",
            "  Building wheel for mecab-python (setup.py): started\n",
            "  Building wheel for mecab-python (setup.py): finished with status 'done'\n",
            "  Created wheel for mecab-python: filename=mecab_python-0.996_ko_0.9.2-cp37-cp37m-linux_x86_64.whl size=141807 sha256=1b05f715908826dd847bd9454b3f51d9f26af46c79a732f85cb30cec1527be72\n",
            "  Stored in directory: /root/.cache/pip/wheels/99/75/a6/e9e73a1dbd73579383644942ef18a6d17ad728a3052a1147fb\n",
            "Successfully built mecab-python\n",
            "Installing collected packages: mecab-python\n",
            "  Found existing installation: mecab-python 0.996-ko-0.9.2\n",
            "    Uninstalling mecab-python-0.996-ko-0.9.2:\n",
            "      Successfully uninstalled mecab-python-0.996-ko-0.9.2\n",
            "Successfully installed mecab-python-0.996-ko-0.9.2\n"
          ],
          "name": "stdout"
        }
      ]
    },
    {
      "cell_type": "markdown",
      "metadata": {
        "id": "SLNlNXfs8QtF"
      },
      "source": [
        "#import"
      ]
    },
    {
      "cell_type": "code",
      "metadata": {
        "id": "tU-OG1xy7vp5"
      },
      "source": [
        "import konlpy\n",
        "from konlpy.tag import Mecab"
      ],
      "execution_count": 6,
      "outputs": []
    },
    {
      "cell_type": "code",
      "metadata": {
        "id": "A4fKLLIJ-mvD"
      },
      "source": [
        "from tensorflow.keras.preprocessing.text import Tokenizer # 토큰화\n",
        "import pandas as pd                                       # 파일읽기\n",
        "import numpy as np                                        #\n",
        "import matplotlib.pyplot as plt                           # 그래프"
      ],
      "execution_count": 7,
      "outputs": []
    },
    {
      "cell_type": "markdown",
      "metadata": {
        "id": "Hb3cPwkr_Dv8"
      },
      "source": [
        "#뉴스 기사 데이터 불러오기"
      ]
    },
    {
      "cell_type": "code",
      "metadata": {
        "id": "QbGy81dm-5WJ"
      },
      "source": [
        "data = pd.read_excel('/content/drive/MyDrive/Colab Notebooks/Project/C01_KM_Data_LabelingResult.xlsx',sheet_name='Sheet2',header=0)"
      ],
      "execution_count": 8,
      "outputs": []
    },
    {
      "cell_type": "code",
      "metadata": {
        "colab": {
          "base_uri": "https://localhost:8080/",
          "height": 744
        },
        "id": "R5DfpP5WB4Jq",
        "outputId": "6e31a99d-ad16-430b-a74c-8f39c33135d5"
      },
      "source": [
        "data[:2]"
      ],
      "execution_count": 9,
      "outputs": [
        {
          "output_type": "execute_result",
          "data": {
            "text/html": [
              "<div>\n",
              "<style scoped>\n",
              "    .dataframe tbody tr th:only-of-type {\n",
              "        vertical-align: middle;\n",
              "    }\n",
              "\n",
              "    .dataframe tbody tr th {\n",
              "        vertical-align: top;\n",
              "    }\n",
              "\n",
              "    .dataframe thead th {\n",
              "        text-align: right;\n",
              "    }\n",
              "</style>\n",
              "<table border=\"1\" class=\"dataframe\">\n",
              "  <thead>\n",
              "    <tr style=\"text-align: right;\">\n",
              "      <th></th>\n",
              "      <th>No</th>\n",
              "      <th>Code</th>\n",
              "      <th>Data</th>\n",
              "      <th>Journal</th>\n",
              "      <th>Title</th>\n",
              "      <th>Text</th>\n",
              "      <th>URL</th>\n",
              "      <th>Sample Y/N</th>\n",
              "      <th>In Charge</th>\n",
              "      <th>-1 / 0 / 1</th>\n",
              "    </tr>\n",
              "  </thead>\n",
              "  <tbody>\n",
              "    <tr>\n",
              "      <th>0</th>\n",
              "      <td>52</td>\n",
              "      <td>5930</td>\n",
              "      <td>2021.04.13 17:50</td>\n",
              "      <td>파이낸셜뉴스</td>\n",
              "      <td>삼성전자 사내식당 2곳, 신세계·풀무원이 운영한다</td>\n",
              "      <td>삼성전자가 사내식당 2곳에 대해 실시한 외부 급식업체 경쟁입찰에서 '신세계푸드'와 ...</td>\n",
              "      <td>https://finance.naver.com/item/news_read.nhn?a...</td>\n",
              "      <td>Y</td>\n",
              "      <td>JY</td>\n",
              "      <td>1</td>\n",
              "    </tr>\n",
              "    <tr>\n",
              "      <th>1</th>\n",
              "      <td>87</td>\n",
              "      <td>5930</td>\n",
              "      <td>2021.04.13 03:11</td>\n",
              "      <td>파이낸셜뉴스</td>\n",
              "      <td>삼성전자 초청, 美 '반도체 회담'‥백악관 \"즉각적 결정 없을 것\"</td>\n",
              "      <td>조 바이든 미국 대통령이 12일(현지시간) '반도체 공급망 강화 온라인 회담'에 참...</td>\n",
              "      <td>https://finance.naver.com/item/news_read.nhn?a...</td>\n",
              "      <td>Y</td>\n",
              "      <td>JY</td>\n",
              "      <td>-1</td>\n",
              "    </tr>\n",
              "  </tbody>\n",
              "</table>\n",
              "</div>"
            ],
            "text/plain": [
              "   No  Code              Data  ... Sample Y/N In Charge -1 / 0 / 1\n",
              "0  52  5930  2021.04.13 17:50  ...          Y        JY          1\n",
              "1  87  5930  2021.04.13 03:11  ...          Y        JY         -1\n",
              "\n",
              "[2 rows x 10 columns]"
            ]
          },
          "metadata": {
            "tags": []
          },
          "execution_count": 9
        }
      ]
    },
    {
      "cell_type": "code",
      "metadata": {
        "id": "yLZL_sseHBl8",
        "colab": {
          "base_uri": "https://localhost:8080/",
          "height": 1000
        },
        "outputId": "07b83870-06db-4cff-e2b0-424d12791c13"
      },
      "source": [
        "news = data[:10]\n",
        "news"
      ],
      "execution_count": 10,
      "outputs": [
        {
          "output_type": "execute_result",
          "data": {
            "text/html": [
              "<div>\n",
              "<style scoped>\n",
              "    .dataframe tbody tr th:only-of-type {\n",
              "        vertical-align: middle;\n",
              "    }\n",
              "\n",
              "    .dataframe tbody tr th {\n",
              "        vertical-align: top;\n",
              "    }\n",
              "\n",
              "    .dataframe thead th {\n",
              "        text-align: right;\n",
              "    }\n",
              "</style>\n",
              "<table border=\"1\" class=\"dataframe\">\n",
              "  <thead>\n",
              "    <tr style=\"text-align: right;\">\n",
              "      <th></th>\n",
              "      <th>No</th>\n",
              "      <th>Code</th>\n",
              "      <th>Data</th>\n",
              "      <th>Journal</th>\n",
              "      <th>Title</th>\n",
              "      <th>Text</th>\n",
              "      <th>URL</th>\n",
              "      <th>Sample Y/N</th>\n",
              "      <th>In Charge</th>\n",
              "      <th>-1 / 0 / 1</th>\n",
              "    </tr>\n",
              "  </thead>\n",
              "  <tbody>\n",
              "    <tr>\n",
              "      <th>0</th>\n",
              "      <td>52</td>\n",
              "      <td>5930</td>\n",
              "      <td>2021.04.13 17:50</td>\n",
              "      <td>파이낸셜뉴스</td>\n",
              "      <td>삼성전자 사내식당 2곳, 신세계·풀무원이 운영한다</td>\n",
              "      <td>삼성전자가 사내식당 2곳에 대해 실시한 외부 급식업체 경쟁입찰에서 '신세계푸드'와 ...</td>\n",
              "      <td>https://finance.naver.com/item/news_read.nhn?a...</td>\n",
              "      <td>Y</td>\n",
              "      <td>JY</td>\n",
              "      <td>1</td>\n",
              "    </tr>\n",
              "    <tr>\n",
              "      <th>1</th>\n",
              "      <td>87</td>\n",
              "      <td>5930</td>\n",
              "      <td>2021.04.13 03:11</td>\n",
              "      <td>파이낸셜뉴스</td>\n",
              "      <td>삼성전자 초청, 美 '반도체 회담'‥백악관 \"즉각적 결정 없을 것\"</td>\n",
              "      <td>조 바이든 미국 대통령이 12일(현지시간) '반도체 공급망 강화 온라인 회담'에 참...</td>\n",
              "      <td>https://finance.naver.com/item/news_read.nhn?a...</td>\n",
              "      <td>Y</td>\n",
              "      <td>JY</td>\n",
              "      <td>-1</td>\n",
              "    </tr>\n",
              "    <tr>\n",
              "      <th>2</th>\n",
              "      <td>190</td>\n",
              "      <td>5930</td>\n",
              "      <td>2021.04.08 14:55</td>\n",
              "      <td>파이낸셜뉴스</td>\n",
              "      <td>[특징주]로보스타, 삼성-LG전자 미래 신성장 동력 ‘로봇산업’ 육성 ...</td>\n",
              "      <td>[파이낸셜뉴스]미래 신성장 동력인 로봇산업에 삼성전자와 LG전자가 힘을 쏟을 것이란...</td>\n",
              "      <td>https://finance.naver.com/item/news_read.nhn?a...</td>\n",
              "      <td>Y</td>\n",
              "      <td>JY</td>\n",
              "      <td>1</td>\n",
              "    </tr>\n",
              "    <tr>\n",
              "      <th>3</th>\n",
              "      <td>207</td>\n",
              "      <td>5930</td>\n",
              "      <td>2021.04.07 20:41</td>\n",
              "      <td>파이낸셜뉴스</td>\n",
              "      <td>삼성전자 1분기'역대급 성적표'</td>\n",
              "      <td>영업익 전망 웃도는 9조3000억LG전자, 1조5178억 사상 최대  삼성전자와 L...</td>\n",
              "      <td>https://finance.naver.com/item/news_read.nhn?a...</td>\n",
              "      <td>Y</td>\n",
              "      <td>JY</td>\n",
              "      <td>1</td>\n",
              "    </tr>\n",
              "    <tr>\n",
              "      <th>4</th>\n",
              "      <td>233</td>\n",
              "      <td>5930</td>\n",
              "      <td>2021.04.07 15:04</td>\n",
              "      <td>조선비즈</td>\n",
              "      <td>삼성전자, 1분기 깜짝 실적에도 주가 하락</td>\n",
              "      <td>삼성전자(005930)가 올해 1분기 깜짝 실적을 기록했는데도 주가가 하락하고 있다...</td>\n",
              "      <td>https://finance.naver.com/item/news_read.nhn?a...</td>\n",
              "      <td>Y</td>\n",
              "      <td>JY</td>\n",
              "      <td>-1</td>\n",
              "    </tr>\n",
              "    <tr>\n",
              "      <th>5</th>\n",
              "      <td>243</td>\n",
              "      <td>5930</td>\n",
              "      <td>2021.04.07 09:26</td>\n",
              "      <td>파이낸셜뉴스</td>\n",
              "      <td>삼성운용, ‘2021 내 마음속 원픽 펀드’ 이벤트 진행</td>\n",
              "      <td>2021년 베스트펀드 운용 펀드매니저가 직접 유튜브에 출연   [파이낸셜뉴스] 삼성...</td>\n",
              "      <td>https://finance.naver.com/item/news_read.nhn?a...</td>\n",
              "      <td>Y</td>\n",
              "      <td>JY</td>\n",
              "      <td>1</td>\n",
              "    </tr>\n",
              "    <tr>\n",
              "      <th>6</th>\n",
              "      <td>357</td>\n",
              "      <td>5930</td>\n",
              "      <td>2021.04.05 18:33</td>\n",
              "      <td>파이낸셜뉴스</td>\n",
              "      <td>‘삼성 독주 체제’ 선택권 축소 우려 \"단말기 가격 오르나\" 소비자 부...</td>\n",
              "      <td>국내 휴대폰 시장 영향은  LG전자가 스마트폰 사업에서 철수를 결정하면서 국내 스마...</td>\n",
              "      <td>https://finance.naver.com/item/news_read.nhn?a...</td>\n",
              "      <td>Y</td>\n",
              "      <td>JY</td>\n",
              "      <td>-1</td>\n",
              "    </tr>\n",
              "    <tr>\n",
              "      <th>7</th>\n",
              "      <td>360</td>\n",
              "      <td>5930</td>\n",
              "      <td>2021.04.05 14:00</td>\n",
              "      <td>파이낸셜뉴스</td>\n",
              "      <td>삼성전자, 올해도 기초과학 분야에 464억 '통 큰 지원'</td>\n",
              "      <td>2021년 상반기 삼성미래기술육성사업 지원과제에 선정된 (왼쪽부터)서울대학교 류경석...</td>\n",
              "      <td>https://finance.naver.com/item/news_read.nhn?a...</td>\n",
              "      <td>Y</td>\n",
              "      <td>JY</td>\n",
              "      <td>1</td>\n",
              "    </tr>\n",
              "    <tr>\n",
              "      <th>8</th>\n",
              "      <td>378</td>\n",
              "      <td>5930</td>\n",
              "      <td>2021.04.05 11:00</td>\n",
              "      <td>파이낸셜뉴스</td>\n",
              "      <td>관리의 삼성', 차세대 경영혁신 플랫폼 N-ERP 도입</td>\n",
              "      <td>삼성전자의 새로운 비지니스 플랫폼인 'N-ERP'의 로고  [파이낸셜뉴스] 삼성전자...</td>\n",
              "      <td>https://finance.naver.com/item/news_read.nhn?a...</td>\n",
              "      <td>Y</td>\n",
              "      <td>JY</td>\n",
              "      <td>1</td>\n",
              "    </tr>\n",
              "    <tr>\n",
              "      <th>9</th>\n",
              "      <td>400</td>\n",
              "      <td>5930</td>\n",
              "      <td>2021.04.05 06:03</td>\n",
              "      <td>조선비즈</td>\n",
              "      <td>[주간증시전망] 삼성전자와 미국의 성적표를 살펴보자</td>\n",
              "      <td>지난주(3월29일~4월2일) 코스피지수는 3025.39(29일 최저치)~3121.5...</td>\n",
              "      <td>https://finance.naver.com/item/news_read.nhn?a...</td>\n",
              "      <td>Y</td>\n",
              "      <td>JY</td>\n",
              "      <td>0</td>\n",
              "    </tr>\n",
              "  </tbody>\n",
              "</table>\n",
              "</div>"
            ],
            "text/plain": [
              "    No  Code              Data  ... Sample Y/N In Charge -1 / 0 / 1\n",
              "0   52  5930  2021.04.13 17:50  ...          Y        JY          1\n",
              "1   87  5930  2021.04.13 03:11  ...          Y        JY         -1\n",
              "2  190  5930  2021.04.08 14:55  ...          Y        JY          1\n",
              "3  207  5930  2021.04.07 20:41  ...          Y        JY          1\n",
              "4  233  5930  2021.04.07 15:04  ...          Y        JY         -1\n",
              "5  243  5930  2021.04.07 09:26  ...          Y        JY          1\n",
              "6  357  5930  2021.04.05 18:33  ...          Y        JY         -1\n",
              "7  360  5930  2021.04.05 14:00  ...          Y        JY          1\n",
              "8  378  5930  2021.04.05 11:00  ...          Y        JY          1\n",
              "9  400  5930  2021.04.05 06:03  ...          Y        JY          0\n",
              "\n",
              "[10 rows x 10 columns]"
            ]
          },
          "metadata": {
            "tags": []
          },
          "execution_count": 10
        }
      ]
    },
    {
      "cell_type": "markdown",
      "metadata": {
        "id": "gSZ6EGLBGyQr"
      },
      "source": [
        "# 텍스트 정제"
      ]
    },
    {
      "cell_type": "code",
      "metadata": {
        "id": "7IuJDpsPB7z5",
        "colab": {
          "base_uri": "https://localhost:8080/",
          "height": 52
        },
        "outputId": "d2a0c39b-7bc1-4a0d-8918-4253c6b6e720"
      },
      "source": [
        "mc = Mecab() # 품사태그 사전\n",
        "\n",
        "''' # Mecab Method #\n",
        "Mecab.nouns()  # 명사 추출\n",
        "Mecab.morphs() # 형태소 추출\n",
        "Mecab.pos()    # 품사 부착\n",
        "'''"
      ],
      "execution_count": 11,
      "outputs": [
        {
          "output_type": "execute_result",
          "data": {
            "application/vnd.google.colaboratory.intrinsic+json": {
              "type": "string"
            },
            "text/plain": [
              "' # Mecab Method #\\nMecab.nouns()  # 명사 추출\\nMecab.morphs() # 형태소 추출\\nMecab.pos()    # 품사 부착\\n'"
            ]
          },
          "metadata": {
            "tags": []
          },
          "execution_count": 11
        }
      ]
    },
    {
      "cell_type": "markdown",
      "metadata": {
        "id": "FTaZEJ1YO9he"
      },
      "source": [
        "## 1) 한글 제외한 문자 제거"
      ]
    },
    {
      "cell_type": "code",
      "metadata": {
        "colab": {
          "base_uri": "https://localhost:8080/"
        },
        "id": "kzqkd8t_Nz-w",
        "outputId": "f9ef017b-dae9-4947-cd8f-e9c7072053f0"
      },
      "source": [
        "# 기사에서 한글 제외하고 모두 제거\n",
        "news['Text'] = news['Text'].str.replace(\"[^ㄱ-ㅎ ㅏ-ㅣ 가-힣]\",\"\")"
      ],
      "execution_count": 12,
      "outputs": [
        {
          "output_type": "stream",
          "text": [
            "/usr/local/lib/python3.7/dist-packages/ipykernel_launcher.py:2: SettingWithCopyWarning: \n",
            "A value is trying to be set on a copy of a slice from a DataFrame.\n",
            "Try using .loc[row_indexer,col_indexer] = value instead\n",
            "\n",
            "See the caveats in the documentation: https://pandas.pydata.org/pandas-docs/stable/user_guide/indexing.html#returning-a-view-versus-a-copy\n",
            "  \n"
          ],
          "name": "stderr"
        }
      ]
    },
    {
      "cell_type": "markdown",
      "metadata": {
        "id": "OWa9k1xyWQlz"
      },
      "source": [
        "## 2) 특정 품사만 추출"
      ]
    },
    {
      "cell_type": "markdown",
      "metadata": {
        "id": "sonIpDRQHdyb"
      },
      "source": [
        "[Mecab 품사사전](https://docs.google.com/spreadsheets/d/1-9blXKjtjeKZqsf4NzHeYJCrr49-nXeRF6D80udfcwY/edit#gid=589544265)"
      ]
    },
    {
      "cell_type": "code",
      "metadata": {
        "colab": {
          "base_uri": "https://localhost:8080/"
        },
        "id": "THmqpYHYOxOu",
        "outputId": "c0202fd7-7ff1-4b59-a5b6-20155452d953"
      },
      "source": [
        "# 1) 기사에서 특정 품사 추출 (기사별)\n",
        "\n",
        "tag_cls = ['NNG','VV+EC','XSV+EP', 'SL']\n",
        "# NNG = 일반명사, VV = 동사, EC = 연결어미, XSV = 동사파생접미사, EP = 선어말 어미, SL = 외국어\n",
        "\n",
        "artc = []\n",
        "for line in news['Text'][:]:\n",
        "    temp = []  \n",
        "    for word in mc.pos(line):\n",
        "        if word[1] in tag_cls:\n",
        "            temp.append(word[0])\n",
        "    artc.append(temp)\n",
        "\n",
        "print(artc[:])\n",
        "print(len(artc))"
      ],
      "execution_count": 13,
      "outputs": [
        {
          "output_type": "stream",
          "text": [
            "[['사내', '식당', '곳', '대해', '실시', '외부', '급식', '업체', '경쟁', '입찰', '신세계', '푸드', '푸드', '컬처', '운영', '업체', '선정', '됐', '일', '월', '단체', '급식', '다양', '메뉴', '향상', '서비스', '통해', '임직원', '복리', '후생', '향상', '사업장', '기흥', '사업장', '사내', '식당', '곳', '대해', '공개', '입찰', '공고', '했', '업체', '참여', '이번', '입찰', '서류', '심사', '거쳐', '메뉴', '구성', '서비스', '평가', '프레젠테이션', '업체', '인프라', '위생', '점검', '현장', '실사', '임직원', '음식', '품평회', '단계', '공정', '절차', '통해', '진행', '됐', '기존', '단체', '급식', '공급', '했', '스토리', '입찰', '배제', '됐', '최종', '선정', '신세계', '푸드', '푸드', '컬처', '반', '동안', '고용', '승계', '업무', '인수', '후', '월', '일', '운영', '시작', '예정', '관계자', '신규', '업체', '임직원', '만족도', '운영', '보완', '점', '검토', '후', '사내', '식당', '대해서', '경쟁', '입찰', '확대', '계획', '말', '했', '기자', '저작', '뉴스', '무단', '전재', '배포', '금지', '뉴스'], ['대통령', '현지', '시간', '반도체', '공급', '망', '강화', '온라인', '회담', '참석', '인사말', '실시간', '중계', '뉴스', '백악관', '세계', '기업', '불러', '반도체', '공급', '부족', '대해', '기업', '의견', '가운데', '이번', '회담', '결정', '발표', '백악관', '대변인', '현지', '시간', '정례', '브리핑', '대통령', '회의', '참석', '이유', '기업', '의견', '문제', '지속', '논의', '일부', '설명', '했', '산업', '협력', '의회', '합의', '이뤄져야', '향후', '부족', '사태', '방지', '국가', '산업', '차원', '합의', '이뤄져야', '이날', '백악관', '국가', '안보', '보좌관', '국가', '경제', '위원회', '위원장', '주재', '세계', '반도체', '부족', '해소', '온라인', '화상', '회의', '대통령', '합류', '일정', '참석', '인사말', '이날', '백악관', '초대', '기업', '포함', '구글', '모회사', '알파벳', '테크놀로지', '글로벌', '마이크', '피스톤', '그룹', '워터', '테크놀로지', '개사', '포함', '됐', '사업', '부장', '사장', '참석', '했', '이날', '대통령', '칩', '부족', '문제', '해결', '의회', '폭', '지지', '공급', '망', '강화', '규모', '인프라', '연구', '개발', '관련', '일자리', '계획', '대해', '강조', '했', '백악관', '이중', '반도체', '배정', '했', '투자', '제안', '실행', '옮겨', '시간', '중', '단기', '해결', '방안', '모색', '자동차', '업계', '세계', '반도체', '부족', '올해', '자동차', '생산량', '만대', '간', '생산', '방해', '경고', '했', '주말', '공장', '곳', '트럭', '생산', '교대', '근무', '취소', '기자', '저작', '뉴스', '무단', '전재', '배포', '금지', '뉴스'], ['뉴스', '미래', '성장', '동력', '전자', '힘', '관측', '스타', '강세', '전자', '사업', '완전', '철수', '확정', '로봇', '사업', '주력', '로봇', '사업', '전담', '팀', '신설', '상태', '오후', '거래일', '대비', '원', '거래', '앞서', '전자', '일', '월부', '사업', '철수', '전자', '미래', '먹거리', '사업', '전기', '자동차', '부품', '로봇', '공학', '인공', '지능', '집중', '전망', '제기', '됐', '전자', '설립', '로봇', '사업', '센터', '비즈니스', '본부', '이관', '했', '사업', '본부', '글로벌', '영업', '인프라', '역량', '활용', '글로벌', '로봇', '시장', '진출', '교두보', '마련', '계획', '전자', '로봇', '제조', '전문', '기업', '스타', '지분', '인수', '스타', '투자', '로봇', '산업', '개발', '속력', '월', '소비자', '부문장', '직속', '로봇', '사업', '전담', '팀', '신설', '과거', '통합', '연구', '조직', '리서치', '로봇', '연구', '진행', '부문', '팀', '신설', '했', '로봇', '상용', '본격', '속도', '읽힌다', '한편', '전자', '로봇', '제조사', '스타', '지분', '투자', '했', '이후', '스타', '협업', '통해', '로봇', '플랫', '폼', '매출', '계획', '기자', '저작', '뉴스', '무단', '전재', '배포', '금지', '뉴스'], ['영업', '익', '전망', '조억', '전자', '사상', '최대', '전자', '장기', '올해', '분기', '시장', '전망', '실적', '기록', '했', '반도체', '부진', '전자', '프리미엄', '가전', '역대', '급', '실적', '견인', '했', '일', '분기', '매출', '조원', '영업', '이익', '달성', '했', '지난해', '증가', '수준', '당초', '시장', '예상', '했', '영업', '조원', '조억', '원대', '이날', '부문', '실적', '공개', '시장', '반도체', '한파', '영향', '휴대폰', '가전', '부문', '성장', '실적', '견인', '했', '분석', '했', '시장', '예상', '반도체', '부문', '영업', '익', '가량', '공장', '한파', '원대', '손실', '추정', '무선', '부문', '영업', '익', '예상', '수준', '소비자', '부문', '예상', '전자', '분기', '잠정', '실적', '분기', '사상', '역대', '최대치', '기록', '영업', '이익', '최고', '기록', '매출', '영업', '이익', '전년', '동기', '비', '영업', '이익', '종전', '최고', '분기', '생활', '가전', '부문', '분기', '영업', '이익', '사상', '최초', '매출', '조원', '돌파', '했', '추정', '부문', '영업', '익', '매출', '예상', '기자', '저작', '뉴스', '무단', '전재', '배포', '금지', '뉴스'], ['올해', '분기', '실적', '기록', '했', '주가', '하락', '오후', '기준', '전날', '원', '하락', '기록', '외국인', '매수', '반면', '기관', '순매도', '하락세', '미뤄', '개인', '순매도', '대신', '증권', '연구원', '실적', '기록', '기관', '개인', '차익', '실현', '매물', '쏟아져', '설명', '했', '이날', '이날', '분기', '영업', '이익', '전년', '동기', '대비', '증가', '잠정', '집계', '됐', '증권가', '전망', '치인', '가량', '매출액', '조원', '전년', '동기', '대비', '직전', '분기', '대비', '증가', '했', '분기', '기준', '역대', '최대', '실적', '해당', '기자', '저작', '비즈', '무단', '전재', '배포', '금지', '비즈'], ['년', '베스트', '펀드', '운용', '펀드', '매니저', '출연', '뉴스', '자사', '통해', '마음속', '원', '픽', '펀드', '이벤트', '실시', '이벤트', '참여', '구독', '후', '업로드', '영상', '속', '등장', '펀드', '올해', '주목', '펀드', '선택', '퀴즈', '설문', '통해', '구독', '화면', '제출', '된다', '이번', '영상', '펀드', '매니저', '출연', '각각', '상품', '장점', '설명', '친환경', '신재', '에너지', '관련', '세계', '기업', '투자', '에너지', '펀드', '반도체', '슈퍼', '사이클', '최대', '수혜', '국인', '주요', '반도체', '기업', '투자', '중심', '핵심', '개국', '성장', '기업', '투자', '펀드', '소개', '한편', '이벤트', '기간', '오늘', '일', '당첨자', '추첨', '통해', '월', '성자', '산운', '공식', '채널', '발표', '미니', '케이크', '교환', '증정', '이벤트', '사항', '공식', '채널', '확인', '펀드', '매니저', '펀드', '마음속', '원', '픽', '펀드', '이벤트', '기자', '저작', '뉴스', '무단', '전재', '배포', '금지', '뉴스'], ['국내', '휴대폰', '시장', '영향', '전자', '사업', '철수', '결정', '국내', '시장', '강', '구도', '전망', '시장', '점유', '유일', '국내', '사업자', '사업', '쏠림', '현상', '가중', '보인다', '국내', '이동', '통신', '시장', '경쟁', '저하', '소비자', '부담', '가중', '우려', '목소리', '통업', '전자', '사업', '철수', '결정', '통사', '판매', '밖', '존재', '국내', '판매', '시장', '점유', '전자', '사업', '발', '국내', '시장', '점유', '이상', '관측', '국내', '시장', '독점', '위치', '소비자', '선택', '제한', '우려', '현실', '과거', '국내', '제조사', '시장', '경쟁', '때', '프리미엄', '중저가', '단말', '소비자', '선호도', '따라', '국내', '제조사', '소비자', '선택지', '단일', '제조사', '이동', '통신', '사와', '협상력', '우위', '단말기', '가격', '상승', '우려', '국내', '제조사', '통사', '판매', '장려금', '지급', '최신', '경쟁사', '모델', '비해', '판매', '통사', '제조사', '판매', '장려금', '자체', '마케팅', '비용', '배합', '소비자', '지원금', '제공', '과정', '제조사', '통사', '요구', '따라', '배합', '비율', '국내', '유일', '제조사', '점', '감안', '향후', '판매', '장려금', '사용', '유인', '과거', '비해', '제품', '출시', '시기', '맞춰', '경쟁', '필요', '판매', '장려금', '일시', '통사', '조사', '경쟁', '지원금', '필요', '소비자', '최종', '구매', '단말기', '가격', '과거', '가능', '통업', '관계자', '전자', '사업', '철수', '국내', '제조사', '돼', '소비자', '선택', '단말', '가격', '상승', '우려', '사실', '말', '했', '기자', '저작', '뉴스', '무단', '전재', '배포', '금지', '뉴스'], ['년', '상반기', '미래', '기술', '육성', '사업', '지원', '과제', '선정', '왼쪽', '대학교', '류경', '석', '교수', '포스', '텍', '교수', '학교', '교수', '디', '트', '교수', '대학교', '교수', '대학교', '교수', '제공', '뉴스', '성', '미래', '기술', '육성', '사업', '통해', '올해', '상반기', '지원', '연구', '과제', '발표', '했', '올해', '선정', '과제', '기초', '과학', '분야', '개', '소재', '분야', '개', '정보', '통신', '기술', '분야', '개', '연구비', '지원', '이번', '발표', '연구', '과제', '포함', '지금', '기초', '과학', '분야', '개', '소재', '분야', '개', '분야', '개', '연구', '과제', '연구비', '지원', '했', '올해', '기초', '과학', '분야', '독창', '아이디어', '과제', '성공', '세계', '최초', '파급', '효과', '기대', '과제', '포함', '선정', '됐', '대학교', '수리', '류경', '석', '교수', '머신', '러닝', '사용', '학습', '모델', '공통점', '세계', '최초', '수학', '규명', '연구', '도전', '포스', '텍', '화학', '교수', '왕관', '모양', '생겨', '크라운', '에테르', '분자', '화학', '촉매', '사용', '물질', '변환', '효율', '향상', '계획', '크라운', '에테르', '분자', '인해', '생성', '국소', '전기장', '활용', '온난화', '원인', '이산화', '탄소', '분해', '난제', '해결', '기여', '전망', '소재', '분야', '해독', '양자', '광원', '연구', '분야', '개', '과제', '지원', '학교', '화학', '교수', '인간', '게놈', '프로젝트', '통해서', '밝혀', '염색체', '서열', '해독', '연구', '수행', '물질', '과학', '전공', '교수', '양자', '통신', '광원', '기술', '개발', '분야', '접촉', '생체', '전기', '신호', '측정', '미래', '산업', '경쟁력', '강화', '핵심', '기술', '연구', '분야', '개', '과제', '선정', '됐', '대학교', '컴퓨터', '공학부', '교수', '기술', '발전', '따라', '발생', '개인', '정보', '침해', '성별', '편향', '사실', '관계', '오류', '문제', '해결', '위해', '나선다', '대학교', '전산', '학부', '교수', '심전', '뇌전도', '생체', '발생', '전기', '신호', '접촉', '방식', '측정', '기술', '개발', '예정', '한편', '미래', '기술', '육성', '사업', '나라', '미래', '과학', '기술', '육성', '지원', '목표', '년', '출연', '시행', '연구', '지원', '공익사업', '상하', '반기', '기초', '과학', '소재', '분야', '지원', '과제', '선정', '실시', '지정', '테마', '과제', '공모', '통해', '국가', '필요', '미래', '기술', '분야', '지정', '해당', '연구', '지원', '기자', '저작', '뉴스', '무단', '전재', '배포', '금지', '뉴스'], ['비지니스', '플랫', '폼', '의', '로고', '뉴스', '차세대', '전사', '자원', '관리', '시스템', '도입', '했', '일', '기업', '물', '재무', '자원', '통합', '관리', '경영', '정보', '투명', '공유', '효율', '업무', '처리', '해', '시스템', '비지니스', '등장', '융', '복합', '미래', '경영', '환경', '변화', '지원', '혁신', '플랫', '폼', '마련', '위해', '최신', '기술', '전문', '패키지', '기반', '간', '시스템', '개발', '했', '시스템', '동서', '법인', '적용', '됐', '내년', '월', '세계', '법인', '순차', '도입', '예정', '대용량', '데이터', '처리', '시스템', '성능', '향상', '비즈니스', '대응', '위해', '아키텍처', '프로세스', '구축', '업무', '의사', '결정', '지원', '광학', '문자', '판독', '활용', '업무', '자동', '기술', '도입', '특징', '데이터', '처리', '분석', '속도', '향상', '위해', '인', '메모리', '데이터베이스', '시스템', '적용', '했', '대용량', '하드웨어', '병렬', '연결', '추가', '비지니스', '확대', '급속', '데이터', '증가', '대응', '회사', '시스템', '이용', '최근', '온라인', '판매', '확대', '대량', '소비자', '주문', '현황', '전체', '공급', '망', '상황', '실시간', '분석', '데이터', '기반', '경영', '시뮬레이션', '가능', '임직원', '합리', '의사', '결정', '된다고', '설명', '했', '비지니스', '지원', '미래', '경영', '환경', '변화', '효과', '대응', '위해', '시스템', '강화', '프로세스', '효율', '시켰', '사내', '시스템', '데이터', '실시간', '연계', '외부', '조직', '전체', '협업', '효과', '이뤄지도록', '기반', '전문', '도입', '업무', '환경', '신속', '효율', '업무', '지원', '의사', '결정', '지원', '머신', '러닝', '문자', '인식', '채팅', '통해', '업무', '처리', '챗', '봇', '프로세스', '자동', '플랫', '폼', '구축', '임직원', '시스템', '사용', '핵심', '업무', '집중', '경영', '혁신', '센터', '장', '전무', '최신', '기술', '기반', '시스템', '구축', '글로벌', '기업', '선도', '사례', '디지털', '혁신', '받쳐', '중요', '플랫', '폼', '역할', '수행', '말', '했', '기자', '저작', '뉴스', '무단', '전재', '배포', '금지', '뉴스'], ['지난주', '월일', '월일', '지수', '일', '최저치', '최고', '사이', '기간', '국내', '증시', '악재', '호재', '혼재', '초반', '헤지', '펀드', '캐피털', '매니지먼트', '마진', '콜', '사태', '증시', '하락', '국내', '주식', '시장', '투자', '심리', '악화', '됐', '규모', '인프라', '투자', '확정', '경기', '회복', '기대감', '지수', '반등', '했', '동안', '시장', '외국인', '투자자', '어치', '외국인', '매수', '했', '종목', '매수', '액', '반면', '기관', '개인', '주식', '보유', '기관', '순매도', '했', '순매도', '액', '개인', '순매도', '했', '일', '분기', '잠정', '실적', '발표', '사진', '경기', '위치', '반도체', '공장', '증권', '업계', '전문가', '전망', '이번', '주일', '증시', '흐름', '견조', '수준', '투자', '증권', '지수', '포인트', '등락', '투자', '증권', '전망', '포인트', '금융', '투자', '전망', '포인트', '금융', '투자', '연구원', '미', '국채', '금리', '상승', '경제', '정상', '인식', '학습', '효과', '생겨', '채권', '금리', '상승', '성장주', '하락', '폭', '상태', '대형주', '위주', '외국인', '매수세', '가능', '전망', '했', '증시', '전망', '긍정', '이슈', '필요', '분기', '실적', '월', '물가', '지표', '연방', '공개', '시장', '위원회', '의사록', '내용', '주식', '시장', '영향', '점검', '분기', '잠정', '실적', '발표', '국내', '상', '장사', '본격', '분기', '실적', '발표', '앞서', '일', '잠정', '실적', '발표', '예정', '영업', '이익', '센서스', '증권사', '평균', '전망', '만약', '센서스', '나온다면', '주가', '지수', '박스', '상단', '상승세', '최근', '국내', '증권사', '반도체', '주', '실적', '개선', '전망', '대훈', '증권', '연구원', '반도체', '철강', '화학', '경기', '민감', '업종', '수출', '증가세', '반도체', '행정부', '인프라', '투자', '수혜', '가능', '설명', '했', '인프라', '투자', '발표', '여파', '주목', '규모', '인프라', '투자', '계획', '발표', '종목', '수혜', '볼지', '관심사', '지난달', '현지', '시각', '미', '행정부', '향후', '간', '인프라', '투자', '발표', '했', '친환경', '에너지', '관련', '자금', '비중', '다조', '대통령', '현지', '시각', '인프라', '투자', '계획', '공식', '발표', '증권', '업계', '전문가', '인프라', '정책', '영향', '전기', '차', '관련', '주', '상승', '가능', '본다', '도로', '인프라', '세부', '계획안', '인', '관련', '인프라', '예산', '배정', '됐', '차', '전지', '전기', '차', '관련', '주', '최근', '가격', '하락', '밸류', '션', '기업', '가치', '대비', '주가', '수준', '상황', '경기', '물가', '지표', '발표', '경기', '물가', '지표', '향방', '국내', '증시', '영향', '가능', '현지', '시각', '월', '고용', '지표', '발표', '됐', '농업', '부문', '일자리', '지난해', '달', '증가', '했', '월', '전년', '동월', '대비', '증가', '실업', '기록', '월', '실업', '일', '현지', '시각', '월', '생산자', '물가', '지수', '발표', '예정', '생산자', '물가', '지수', '전년', '동월', '대비', '상승', '했', '전망', '월', '생산자', '물가', '지수', '전년', '동월', '대비', '투자', '증권', '연구원', '경기', '회복', '물가', '상승', '정도', '따라', '미', '국채', '금리', '분석', '했', '미', '연방', '준비', '제도', '국채', '금리', '상승세', '경기', '회복세', '이유', '양', '완화', '축소', '테이퍼', '링', '상황', '연구원', '물가', '경기', '지수', '양호', '나온다면', '경기', '개선', '됐', '신호', '인식', '국채', '금리', '가능', '말', '했', '기준', '금리', '조기', '인상', '가능', '연구원', '생산자', '물가', '근원', '물가', '상승', '전년', '동월', '대비', '수준', '고용', '회복세', '수준', '기준', '금리', '인상', '시기', '가능', '설명', '했', '의사록', '미', '의사록', '공개', '증시', '영향', '요인', '일', '현지', '시각', '지난달', '의사록', '공개', '당시', '사회', '의장', '물가', '상승', '일시', '안정', '양', '완화', '축소', '필요', '견해', '점도표', '이사', '총재', '기준', '금리', '인상', '시기', '예상', '점', '표', '조기', '금리', '인상', '전망', '의사록', '통해', '당시', '위원', '사이', '논의', '확인', '필요', '지난달', '종료', '후', '공개', '점도표', '위원', '내년', '기준', '금리', '인상', '전망', '했', '지난해', '월', '점도표', '기준', '금리', '년', '인상', '위원', '명', '연구원', '의장', '발표', '구체', '내용', '빠져', '의사록', '위원', '말', '기록', '시중', '금리', '시장', '참여', '인식', '괴리', '상황', '당시', '위원', '입장', '확인', '중요', '말', '했', '자운', '기자', '저작', '비즈', '무단', '전재', '배포', '금지', '비즈']]\n",
            "10\n"
          ],
          "name": "stdout"
        }
      ]
    },
    {
      "cell_type": "code",
      "metadata": {
        "colab": {
          "base_uri": "https://localhost:8080/"
        },
        "id": "vBPXjs3Axbv-",
        "outputId": "5749ca81-3484-49ac-c07c-2fca038ff050"
      },
      "source": [
        "# 2) 기사에서 특정품사 추출 (모든 기사에서) -- \n",
        "\n",
        "tag_cls = ['NNG','VV+EC','XSV+EP', 'SL']\n",
        "# NNG = 일반명사, VV = 동사, EC = 연결어미, XSV = 동사파생접미사, EP = 선어말 어미, SL = 외국어\n",
        "\n",
        "voca = []\n",
        "for line in news['Text'][:]:\n",
        "    temp = []  \n",
        "    for word in mc.pos(line):\n",
        "        if word[1] in tag_cls:\n",
        "            voca.append(word[0])\n",
        "\n",
        "print(voca[:])\n",
        "print(len(voca))"
      ],
      "execution_count": 57,
      "outputs": [
        {
          "output_type": "stream",
          "text": [
            "['사내', '식당', '곳', '대해', '실시', '외부', '급식', '업체', '경쟁', '입찰', '신세계', '푸드', '푸드', '컬처', '운영', '업체', '선정', '됐', '일', '월', '단체', '급식', '다양', '메뉴', '향상', '서비스', '통해', '임직원', '복리', '후생', '향상', '사업장', '기흥', '사업장', '사내', '식당', '곳', '대해', '공개', '입찰', '공고', '했', '업체', '참여', '이번', '입찰', '서류', '심사', '거쳐', '메뉴', '구성', '서비스', '평가', '프레젠테이션', '업체', '인프라', '위생', '점검', '현장', '실사', '임직원', '음식', '품평회', '단계', '공정', '절차', '통해', '진행', '됐', '기존', '단체', '급식', '공급', '했', '스토리', '입찰', '배제', '됐', '최종', '선정', '신세계', '푸드', '푸드', '컬처', '반', '동안', '고용', '승계', '업무', '인수', '후', '월', '일', '운영', '시작', '예정', '관계자', '신규', '업체', '임직원', '만족도', '운영', '보완', '점', '검토', '후', '사내', '식당', '대해서', '경쟁', '입찰', '확대', '계획', '말', '했', '기자', '저작', '뉴스', '무단', '전재', '배포', '금지', '뉴스', '대통령', '현지', '시간', '반도체', '공급', '망', '강화', '온라인', '회담', '참석', '인사말', '실시간', '중계', '뉴스', '백악관', '세계', '기업', '불러', '반도체', '공급', '부족', '대해', '기업', '의견', '가운데', '이번', '회담', '결정', '발표', '백악관', '대변인', '현지', '시간', '정례', '브리핑', '대통령', '회의', '참석', '이유', '기업', '의견', '문제', '지속', '논의', '일부', '설명', '했', '산업', '협력', '의회', '합의', '이뤄져야', '향후', '부족', '사태', '방지', '국가', '산업', '차원', '합의', '이뤄져야', '이날', '백악관', '국가', '안보', '보좌관', '국가', '경제', '위원회', '위원장', '주재', '세계', '반도체', '부족', '해소', '온라인', '화상', '회의', '대통령', '합류', '일정', '참석', '인사말', '이날', '백악관', '초대', '기업', '포함', '구글', '모회사', '알파벳', '테크놀로지', '글로벌', '마이크', '피스톤', '그룹', '워터', '테크놀로지', '개사', '포함', '됐', '사업', '부장', '사장', '참석', '했', '이날', '대통령', '칩', '부족', '문제', '해결', '의회', '폭', '지지', '공급', '망', '강화', '규모', '인프라', '연구', '개발', '관련', '일자리', '계획', '대해', '강조', '했', '백악관', '이중', '반도체', '배정', '했', '투자', '제안', '실행', '옮겨', '시간', '중', '단기', '해결', '방안', '모색', '자동차', '업계', '세계', '반도체', '부족', '올해', '자동차', '생산량', '만대', '간', '생산', '방해', '경고', '했', '주말', '공장', '곳', '트럭', '생산', '교대', '근무', '취소', '기자', '저작', '뉴스', '무단', '전재', '배포', '금지', '뉴스', '뉴스', '미래', '성장', '동력', '전자', '힘', '관측', '스타', '강세', '전자', '사업', '완전', '철수', '확정', '로봇', '사업', '주력', '로봇', '사업', '전담', '팀', '신설', '상태', '오후', '거래일', '대비', '원', '거래', '앞서', '전자', '일', '월부', '사업', '철수', '전자', '미래', '먹거리', '사업', '전기', '자동차', '부품', '로봇', '공학', '인공', '지능', '집중', '전망', '제기', '됐', '전자', '설립', '로봇', '사업', '센터', '비즈니스', '본부', '이관', '했', '사업', '본부', '글로벌', '영업', '인프라', '역량', '활용', '글로벌', '로봇', '시장', '진출', '교두보', '마련', '계획', '전자', '로봇', '제조', '전문', '기업', '스타', '지분', '인수', '스타', '투자', '로봇', '산업', '개발', '속력', '월', '소비자', '부문장', '직속', '로봇', '사업', '전담', '팀', '신설', '과거', '통합', '연구', '조직', '리서치', '로봇', '연구', '진행', '부문', '팀', '신설', '했', '로봇', '상용', '본격', '속도', '읽힌다', '한편', '전자', '로봇', '제조사', '스타', '지분', '투자', '했', '이후', '스타', '협업', '통해', '로봇', '플랫', '폼', '매출', '계획', '기자', '저작', '뉴스', '무단', '전재', '배포', '금지', '뉴스', '영업', '익', '전망', '조억', '전자', '사상', '최대', '전자', '장기', '올해', '분기', '시장', '전망', '실적', '기록', '했', '반도체', '부진', '전자', '프리미엄', '가전', '역대', '급', '실적', '견인', '했', '일', '분기', '매출', '조원', '영업', '이익', '달성', '했', '지난해', '증가', '수준', '당초', '시장', '예상', '했', '영업', '조원', '조억', '원대', '이날', '부문', '실적', '공개', '시장', '반도체', '한파', '영향', '휴대폰', '가전', '부문', '성장', '실적', '견인', '했', '분석', '했', '시장', '예상', '반도체', '부문', '영업', '익', '가량', '공장', '한파', '원대', '손실', '추정', '무선', '부문', '영업', '익', '예상', '수준', '소비자', '부문', '예상', '전자', '분기', '잠정', '실적', '분기', '사상', '역대', '최대치', '기록', '영업', '이익', '최고', '기록', '매출', '영업', '이익', '전년', '동기', '비', '영업', '이익', '종전', '최고', '분기', '생활', '가전', '부문', '분기', '영업', '이익', '사상', '최초', '매출', '조원', '돌파', '했', '추정', '부문', '영업', '익', '매출', '예상', '기자', '저작', '뉴스', '무단', '전재', '배포', '금지', '뉴스', '올해', '분기', '실적', '기록', '했', '주가', '하락', '오후', '기준', '전날', '원', '하락', '기록', '외국인', '매수', '반면', '기관', '순매도', '하락세', '미뤄', '개인', '순매도', '대신', '증권', '연구원', '실적', '기록', '기관', '개인', '차익', '실현', '매물', '쏟아져', '설명', '했', '이날', '이날', '분기', '영업', '이익', '전년', '동기', '대비', '증가', '잠정', '집계', '됐', '증권가', '전망', '치인', '가량', '매출액', '조원', '전년', '동기', '대비', '직전', '분기', '대비', '증가', '했', '분기', '기준', '역대', '최대', '실적', '해당', '기자', '저작', '비즈', '무단', '전재', '배포', '금지', '비즈', '년', '베스트', '펀드', '운용', '펀드', '매니저', '출연', '뉴스', '자사', '통해', '마음속', '원', '픽', '펀드', '이벤트', '실시', '이벤트', '참여', '구독', '후', '업로드', '영상', '속', '등장', '펀드', '올해', '주목', '펀드', '선택', '퀴즈', '설문', '통해', '구독', '화면', '제출', '된다', '이번', '영상', '펀드', '매니저', '출연', '각각', '상품', '장점', '설명', '친환경', '신재', '에너지', '관련', '세계', '기업', '투자', '에너지', '펀드', '반도체', '슈퍼', '사이클', '최대', '수혜', '국인', '주요', '반도체', '기업', '투자', '중심', '핵심', '개국', '성장', '기업', '투자', '펀드', '소개', '한편', '이벤트', '기간', '오늘', '일', '당첨자', '추첨', '통해', '월', '성자', '산운', '공식', '채널', '발표', '미니', '케이크', '교환', '증정', '이벤트', '사항', '공식', '채널', '확인', '펀드', '매니저', '펀드', '마음속', '원', '픽', '펀드', '이벤트', '기자', '저작', '뉴스', '무단', '전재', '배포', '금지', '뉴스', '국내', '휴대폰', '시장', '영향', '전자', '사업', '철수', '결정', '국내', '시장', '강', '구도', '전망', '시장', '점유', '유일', '국내', '사업자', '사업', '쏠림', '현상', '가중', '보인다', '국내', '이동', '통신', '시장', '경쟁', '저하', '소비자', '부담', '가중', '우려', '목소리', '통업', '전자', '사업', '철수', '결정', '통사', '판매', '밖', '존재', '국내', '판매', '시장', '점유', '전자', '사업', '발', '국내', '시장', '점유', '이상', '관측', '국내', '시장', '독점', '위치', '소비자', '선택', '제한', '우려', '현실', '과거', '국내', '제조사', '시장', '경쟁', '때', '프리미엄', '중저가', '단말', '소비자', '선호도', '따라', '국내', '제조사', '소비자', '선택지', '단일', '제조사', '이동', '통신', '사와', '협상력', '우위', '단말기', '가격', '상승', '우려', '국내', '제조사', '통사', '판매', '장려금', '지급', '최신', '경쟁사', '모델', '비해', '판매', '통사', '제조사', '판매', '장려금', '자체', '마케팅', '비용', '배합', '소비자', '지원금', '제공', '과정', '제조사', '통사', '요구', '따라', '배합', '비율', '국내', '유일', '제조사', '점', '감안', '향후', '판매', '장려금', '사용', '유인', '과거', '비해', '제품', '출시', '시기', '맞춰', '경쟁', '필요', '판매', '장려금', '일시', '통사', '조사', '경쟁', '지원금', '필요', '소비자', '최종', '구매', '단말기', '가격', '과거', '가능', '통업', '관계자', '전자', '사업', '철수', '국내', '제조사', '돼', '소비자', '선택', '단말', '가격', '상승', '우려', '사실', '말', '했', '기자', '저작', '뉴스', '무단', '전재', '배포', '금지', '뉴스', '년', '상반기', '미래', '기술', '육성', '사업', '지원', '과제', '선정', '왼쪽', '대학교', '류경', '석', '교수', '포스', '텍', '교수', '학교', '교수', '디', '트', '교수', '대학교', '교수', '대학교', '교수', '제공', '뉴스', '성', '미래', '기술', '육성', '사업', '통해', '올해', '상반기', '지원', '연구', '과제', '발표', '했', '올해', '선정', '과제', '기초', '과학', '분야', '개', '소재', '분야', '개', '정보', '통신', '기술', '분야', '개', '연구비', '지원', '이번', '발표', '연구', '과제', '포함', '지금', '기초', '과학', '분야', '개', '소재', '분야', '개', '분야', '개', '연구', '과제', '연구비', '지원', '했', '올해', '기초', '과학', '분야', '독창', '아이디어', '과제', '성공', '세계', '최초', '파급', '효과', '기대', '과제', '포함', '선정', '됐', '대학교', '수리', '류경', '석', '교수', '머신', '러닝', '사용', '학습', '모델', '공통점', '세계', '최초', '수학', '규명', '연구', '도전', '포스', '텍', '화학', '교수', '왕관', '모양', '생겨', '크라운', '에테르', '분자', '화학', '촉매', '사용', '물질', '변환', '효율', '향상', '계획', '크라운', '에테르', '분자', '인해', '생성', '국소', '전기장', '활용', '온난화', '원인', '이산화', '탄소', '분해', '난제', '해결', '기여', '전망', '소재', '분야', '해독', '양자', '광원', '연구', '분야', '개', '과제', '지원', '학교', '화학', '교수', '인간', '게놈', '프로젝트', '통해서', '밝혀', '염색체', '서열', '해독', '연구', '수행', '물질', '과학', '전공', '교수', '양자', '통신', '광원', '기술', '개발', '분야', '접촉', '생체', '전기', '신호', '측정', '미래', '산업', '경쟁력', '강화', '핵심', '기술', '연구', '분야', '개', '과제', '선정', '됐', '대학교', '컴퓨터', '공학부', '교수', '기술', '발전', '따라', '발생', '개인', '정보', '침해', '성별', '편향', '사실', '관계', '오류', '문제', '해결', '위해', '나선다', '대학교', '전산', '학부', '교수', '심전', '뇌전도', '생체', '발생', '전기', '신호', '접촉', '방식', '측정', '기술', '개발', '예정', '한편', '미래', '기술', '육성', '사업', '나라', '미래', '과학', '기술', '육성', '지원', '목표', '년', '출연', '시행', '연구', '지원', '공익사업', '상하', '반기', '기초', '과학', '소재', '분야', '지원', '과제', '선정', '실시', '지정', '테마', '과제', '공모', '통해', '국가', '필요', '미래', '기술', '분야', '지정', '해당', '연구', '지원', '기자', '저작', '뉴스', '무단', '전재', '배포', '금지', '뉴스', '비지니스', '플랫', '폼', '의', '로고', '뉴스', '차세대', '전사', '자원', '관리', '시스템', '도입', '했', '일', '기업', '물', '재무', '자원', '통합', '관리', '경영', '정보', '투명', '공유', '효율', '업무', '처리', '해', '시스템', '비지니스', '등장', '융', '복합', '미래', '경영', '환경', '변화', '지원', '혁신', '플랫', '폼', '마련', '위해', '최신', '기술', '전문', '패키지', '기반', '간', '시스템', '개발', '했', '시스템', '동서', '법인', '적용', '됐', '내년', '월', '세계', '법인', '순차', '도입', '예정', '대용량', '데이터', '처리', '시스템', '성능', '향상', '비즈니스', '대응', '위해', '아키텍처', '프로세스', '구축', '업무', '의사', '결정', '지원', '광학', '문자', '판독', '활용', '업무', '자동', '기술', '도입', '특징', '데이터', '처리', '분석', '속도', '향상', '위해', '인', '메모리', '데이터베이스', '시스템', '적용', '했', '대용량', '하드웨어', '병렬', '연결', '추가', '비지니스', '확대', '급속', '데이터', '증가', '대응', '회사', '시스템', '이용', '최근', '온라인', '판매', '확대', '대량', '소비자', '주문', '현황', '전체', '공급', '망', '상황', '실시간', '분석', '데이터', '기반', '경영', '시뮬레이션', '가능', '임직원', '합리', '의사', '결정', '된다고', '설명', '했', '비지니스', '지원', '미래', '경영', '환경', '변화', '효과', '대응', '위해', '시스템', '강화', '프로세스', '효율', '시켰', '사내', '시스템', '데이터', '실시간', '연계', '외부', '조직', '전체', '협업', '효과', '이뤄지도록', '기반', '전문', '도입', '업무', '환경', '신속', '효율', '업무', '지원', '의사', '결정', '지원', '머신', '러닝', '문자', '인식', '채팅', '통해', '업무', '처리', '챗', '봇', '프로세스', '자동', '플랫', '폼', '구축', '임직원', '시스템', '사용', '핵심', '업무', '집중', '경영', '혁신', '센터', '장', '전무', '최신', '기술', '기반', '시스템', '구축', '글로벌', '기업', '선도', '사례', '디지털', '혁신', '받쳐', '중요', '플랫', '폼', '역할', '수행', '말', '했', '기자', '저작', '뉴스', '무단', '전재', '배포', '금지', '뉴스', '지난주', '월일', '월일', '지수', '일', '최저치', '최고', '사이', '기간', '국내', '증시', '악재', '호재', '혼재', '초반', '헤지', '펀드', '캐피털', '매니지먼트', '마진', '콜', '사태', '증시', '하락', '국내', '주식', '시장', '투자', '심리', '악화', '됐', '규모', '인프라', '투자', '확정', '경기', '회복', '기대감', '지수', '반등', '했', '동안', '시장', '외국인', '투자자', '어치', '외국인', '매수', '했', '종목', '매수', '액', '반면', '기관', '개인', '주식', '보유', '기관', '순매도', '했', '순매도', '액', '개인', '순매도', '했', '일', '분기', '잠정', '실적', '발표', '사진', '경기', '위치', '반도체', '공장', '증권', '업계', '전문가', '전망', '이번', '주일', '증시', '흐름', '견조', '수준', '투자', '증권', '지수', '포인트', '등락', '투자', '증권', '전망', '포인트', '금융', '투자', '전망', '포인트', '금융', '투자', '연구원', '미', '국채', '금리', '상승', '경제', '정상', '인식', '학습', '효과', '생겨', '채권', '금리', '상승', '성장주', '하락', '폭', '상태', '대형주', '위주', '외국인', '매수세', '가능', '전망', '했', '증시', '전망', '긍정', '이슈', '필요', '분기', '실적', '월', '물가', '지표', '연방', '공개', '시장', '위원회', '의사록', '내용', '주식', '시장', '영향', '점검', '분기', '잠정', '실적', '발표', '국내', '상', '장사', '본격', '분기', '실적', '발표', '앞서', '일', '잠정', '실적', '발표', '예정', '영업', '이익', '센서스', '증권사', '평균', '전망', '만약', '센서스', '나온다면', '주가', '지수', '박스', '상단', '상승세', '최근', '국내', '증권사', '반도체', '주', '실적', '개선', '전망', '대훈', '증권', '연구원', '반도체', '철강', '화학', '경기', '민감', '업종', '수출', '증가세', '반도체', '행정부', '인프라', '투자', '수혜', '가능', '설명', '했', '인프라', '투자', '발표', '여파', '주목', '규모', '인프라', '투자', '계획', '발표', '종목', '수혜', '볼지', '관심사', '지난달', '현지', '시각', '미', '행정부', '향후', '간', '인프라', '투자', '발표', '했', '친환경', '에너지', '관련', '자금', '비중', '다조', '대통령', '현지', '시각', '인프라', '투자', '계획', '공식', '발표', '증권', '업계', '전문가', '인프라', '정책', '영향', '전기', '차', '관련', '주', '상승', '가능', '본다', '도로', '인프라', '세부', '계획안', '인', '관련', '인프라', '예산', '배정', '됐', '차', '전지', '전기', '차', '관련', '주', '최근', '가격', '하락', '밸류', '션', '기업', '가치', '대비', '주가', '수준', '상황', '경기', '물가', '지표', '발표', '경기', '물가', '지표', '향방', '국내', '증시', '영향', '가능', '현지', '시각', '월', '고용', '지표', '발표', '됐', '농업', '부문', '일자리', '지난해', '달', '증가', '했', '월', '전년', '동월', '대비', '증가', '실업', '기록', '월', '실업', '일', '현지', '시각', '월', '생산자', '물가', '지수', '발표', '예정', '생산자', '물가', '지수', '전년', '동월', '대비', '상승', '했', '전망', '월', '생산자', '물가', '지수', '전년', '동월', '대비', '투자', '증권', '연구원', '경기', '회복', '물가', '상승', '정도', '따라', '미', '국채', '금리', '분석', '했', '미', '연방', '준비', '제도', '국채', '금리', '상승세', '경기', '회복세', '이유', '양', '완화', '축소', '테이퍼', '링', '상황', '연구원', '물가', '경기', '지수', '양호', '나온다면', '경기', '개선', '됐', '신호', '인식', '국채', '금리', '가능', '말', '했', '기준', '금리', '조기', '인상', '가능', '연구원', '생산자', '물가', '근원', '물가', '상승', '전년', '동월', '대비', '수준', '고용', '회복세', '수준', '기준', '금리', '인상', '시기', '가능', '설명', '했', '의사록', '미', '의사록', '공개', '증시', '영향', '요인', '일', '현지', '시각', '지난달', '의사록', '공개', '당시', '사회', '의장', '물가', '상승', '일시', '안정', '양', '완화', '축소', '필요', '견해', '점도표', '이사', '총재', '기준', '금리', '인상', '시기', '예상', '점', '표', '조기', '금리', '인상', '전망', '의사록', '통해', '당시', '위원', '사이', '논의', '확인', '필요', '지난달', '종료', '후', '공개', '점도표', '위원', '내년', '기준', '금리', '인상', '전망', '했', '지난해', '월', '점도표', '기준', '금리', '년', '인상', '위원', '명', '연구원', '의장', '발표', '구체', '내용', '빠져', '의사록', '위원', '말', '기록', '시중', '금리', '시장', '참여', '인식', '괴리', '상황', '당시', '위원', '입장', '확인', '중요', '말', '했', '자운', '기자', '저작', '비즈', '무단', '전재', '배포', '금지', '비즈']\n",
            "1958\n"
          ],
          "name": "stdout"
        }
      ]
    },
    {
      "cell_type": "markdown",
      "metadata": {
        "id": "KozqVmpEPFnS"
      },
      "source": [
        "## 3) 불용어처리\n",
        "        불용어 list 생성 -> 불용어 제외 한 단어만 append"
      ]
    },
    {
      "cell_type": "code",
      "metadata": {
        "id": "BSUmtuTssKir",
        "colab": {
          "base_uri": "https://localhost:8080/"
        },
        "outputId": "b715be9c-344d-4a9f-dffb-9c521157e727"
      },
      "source": [
        "swords = ['삼성전자','삼성','기자','인텔','신세계','풀무원','원','픽','내','마음속','억','통','곳','것','파이낸셜','뉴스','억','명','김','말','간','조선','비즈','조선비즈',\n",
        "          '저작','무단','전재','배포','금지','월일']\n",
        "\n",
        "X_ts = [] # 신문 기사별, 단어 저장할 리스트\n",
        "\n",
        "for word in voca:            # 단어를 사전에서 꺼내서\n",
        "    if word not in swords:   # 불용어 리스트에 단어가 없다면\n",
        "        X_ts.append(word)    # X_ts에 추가\n",
        "\n",
        "len(X_ts)"
      ],
      "execution_count": 58,
      "outputs": [
        {
          "output_type": "execute_result",
          "data": {
            "text/plain": [
              "1848"
            ]
          },
          "metadata": {
            "tags": []
          },
          "execution_count": 58
        }
      ]
    },
    {
      "cell_type": "code",
      "metadata": {
        "colab": {
          "base_uri": "https://localhost:8080/"
        },
        "id": "KtPD3yduPDsD",
        "outputId": "05104d0d-ae5a-4346-dfd0-07783140efc5"
      },
      "source": [
        "X_ts[:5]"
      ],
      "execution_count": 27,
      "outputs": [
        {
          "output_type": "execute_result",
          "data": {
            "text/plain": [
              "['사내', '식당', '대해', '실시', '외부']"
            ]
          },
          "metadata": {
            "tags": []
          },
          "execution_count": 27
        }
      ]
    },
    {
      "cell_type": "markdown",
      "metadata": {
        "id": "R-N6jyh0kj6K"
      },
      "source": [
        "## 4) 길이가 짧은 글자 제거 (optional)"
      ]
    },
    {
      "cell_type": "code",
      "metadata": {
        "colab": {
          "base_uri": "https://localhost:8080/"
        },
        "id": "xJbcaKF9keJU",
        "outputId": "477dbdaf-9bde-4618-c2a4-b9c3dc679503"
      },
      "source": [
        "X_ts_=[]\n",
        "for word in X_ts:\n",
        "    if len(word) > 1:\n",
        "        X_ts_.append(word)\n",
        "print(X_ts_)"
      ],
      "execution_count": 59,
      "outputs": [
        {
          "output_type": "stream",
          "text": [
            "['사내', '식당', '대해', '실시', '외부', '급식', '업체', '경쟁', '입찰', '푸드', '푸드', '컬처', '운영', '업체', '선정', '단체', '급식', '다양', '메뉴', '향상', '서비스', '통해', '임직원', '복리', '후생', '향상', '사업장', '기흥', '사업장', '사내', '식당', '대해', '공개', '입찰', '공고', '업체', '참여', '이번', '입찰', '서류', '심사', '거쳐', '메뉴', '구성', '서비스', '평가', '프레젠테이션', '업체', '인프라', '위생', '점검', '현장', '실사', '임직원', '음식', '품평회', '단계', '공정', '절차', '통해', '진행', '기존', '단체', '급식', '공급', '스토리', '입찰', '배제', '최종', '선정', '푸드', '푸드', '컬처', '동안', '고용', '승계', '업무', '인수', '운영', '시작', '예정', '관계자', '신규', '업체', '임직원', '만족도', '운영', '보완', '검토', '사내', '식당', '대해서', '경쟁', '입찰', '확대', '계획', '대통령', '현지', '시간', '반도체', '공급', '강화', '온라인', '회담', '참석', '인사말', '실시간', '중계', '백악관', '세계', '기업', '불러', '반도체', '공급', '부족', '대해', '기업', '의견', '가운데', '이번', '회담', '결정', '발표', '백악관', '대변인', '현지', '시간', '정례', '브리핑', '대통령', '회의', '참석', '이유', '기업', '의견', '문제', '지속', '논의', '일부', '설명', '산업', '협력', '의회', '합의', '이뤄져야', '향후', '부족', '사태', '방지', '국가', '산업', '차원', '합의', '이뤄져야', '이날', '백악관', '국가', '안보', '보좌관', '국가', '경제', '위원회', '위원장', '주재', '세계', '반도체', '부족', '해소', '온라인', '화상', '회의', '대통령', '합류', '일정', '참석', '인사말', '이날', '백악관', '초대', '기업', '포함', '구글', '모회사', '알파벳', '테크놀로지', '글로벌', '마이크', '피스톤', '그룹', '워터', '테크놀로지', '개사', '포함', '사업', '부장', '사장', '참석', '이날', '대통령', '부족', '문제', '해결', '의회', '지지', '공급', '강화', '규모', '인프라', '연구', '개발', '관련', '일자리', '계획', '대해', '강조', '백악관', '이중', '반도체', '배정', '투자', '제안', '실행', '옮겨', '시간', '단기', '해결', '방안', '모색', '자동차', '업계', '세계', '반도체', '부족', '올해', '자동차', '생산량', '만대', '생산', '방해', '경고', '주말', '공장', '트럭', '생산', '교대', '근무', '취소', '미래', '성장', '동력', '전자', '관측', '스타', '강세', '전자', '사업', '완전', '철수', '확정', '로봇', '사업', '주력', '로봇', '사업', '전담', '신설', '상태', '오후', '거래일', '대비', '거래', '앞서', '전자', '월부', '사업', '철수', '전자', '미래', '먹거리', '사업', '전기', '자동차', '부품', '로봇', '공학', '인공', '지능', '집중', '전망', '제기', '전자', '설립', '로봇', '사업', '센터', '비즈니스', '본부', '이관', '사업', '본부', '글로벌', '영업', '인프라', '역량', '활용', '글로벌', '로봇', '시장', '진출', '교두보', '마련', '계획', '전자', '로봇', '제조', '전문', '기업', '스타', '지분', '인수', '스타', '투자', '로봇', '산업', '개발', '속력', '소비자', '부문장', '직속', '로봇', '사업', '전담', '신설', '과거', '통합', '연구', '조직', '리서치', '로봇', '연구', '진행', '부문', '신설', '로봇', '상용', '본격', '속도', '읽힌다', '한편', '전자', '로봇', '제조사', '스타', '지분', '투자', '이후', '스타', '협업', '통해', '로봇', '플랫', '매출', '계획', '영업', '전망', '조억', '전자', '사상', '최대', '전자', '장기', '올해', '분기', '시장', '전망', '실적', '기록', '반도체', '부진', '전자', '프리미엄', '가전', '역대', '실적', '견인', '분기', '매출', '조원', '영업', '이익', '달성', '지난해', '증가', '수준', '당초', '시장', '예상', '영업', '조원', '조억', '원대', '이날', '부문', '실적', '공개', '시장', '반도체', '한파', '영향', '휴대폰', '가전', '부문', '성장', '실적', '견인', '분석', '시장', '예상', '반도체', '부문', '영업', '가량', '공장', '한파', '원대', '손실', '추정', '무선', '부문', '영업', '예상', '수준', '소비자', '부문', '예상', '전자', '분기', '잠정', '실적', '분기', '사상', '역대', '최대치', '기록', '영업', '이익', '최고', '기록', '매출', '영업', '이익', '전년', '동기', '영업', '이익', '종전', '최고', '분기', '생활', '가전', '부문', '분기', '영업', '이익', '사상', '최초', '매출', '조원', '돌파', '추정', '부문', '영업', '매출', '예상', '올해', '분기', '실적', '기록', '주가', '하락', '오후', '기준', '전날', '하락', '기록', '외국인', '매수', '반면', '기관', '순매도', '하락세', '미뤄', '개인', '순매도', '대신', '증권', '연구원', '실적', '기록', '기관', '개인', '차익', '실현', '매물', '쏟아져', '설명', '이날', '이날', '분기', '영업', '이익', '전년', '동기', '대비', '증가', '잠정', '집계', '증권가', '전망', '치인', '가량', '매출액', '조원', '전년', '동기', '대비', '직전', '분기', '대비', '증가', '분기', '기준', '역대', '최대', '실적', '해당', '베스트', '펀드', '운용', '펀드', '매니저', '출연', '자사', '통해', '펀드', '이벤트', '실시', '이벤트', '참여', '구독', '업로드', '영상', '등장', '펀드', '올해', '주목', '펀드', '선택', '퀴즈', '설문', '통해', '구독', '화면', '제출', '된다', '이번', '영상', '펀드', '매니저', '출연', '각각', '상품', '장점', '설명', '친환경', '신재', '에너지', '관련', '세계', '기업', '투자', '에너지', '펀드', '반도체', '슈퍼', '사이클', '최대', '수혜', '국인', '주요', '반도체', '기업', '투자', '중심', '핵심', '개국', '성장', '기업', '투자', '펀드', '소개', '한편', '이벤트', '기간', '오늘', '당첨자', '추첨', '통해', '성자', '산운', '공식', '채널', '발표', '미니', '케이크', '교환', '증정', '이벤트', '사항', '공식', '채널', '확인', '펀드', '매니저', '펀드', '펀드', '이벤트', '국내', '휴대폰', '시장', '영향', '전자', '사업', '철수', '결정', '국내', '시장', '구도', '전망', '시장', '점유', '유일', '국내', '사업자', '사업', '쏠림', '현상', '가중', '보인다', '국내', '이동', '통신', '시장', '경쟁', '저하', '소비자', '부담', '가중', '우려', '목소리', '통업', '전자', '사업', '철수', '결정', '통사', '판매', '존재', '국내', '판매', '시장', '점유', '전자', '사업', '국내', '시장', '점유', '이상', '관측', '국내', '시장', '독점', '위치', '소비자', '선택', '제한', '우려', '현실', '과거', '국내', '제조사', '시장', '경쟁', '프리미엄', '중저가', '단말', '소비자', '선호도', '따라', '국내', '제조사', '소비자', '선택지', '단일', '제조사', '이동', '통신', '사와', '협상력', '우위', '단말기', '가격', '상승', '우려', '국내', '제조사', '통사', '판매', '장려금', '지급', '최신', '경쟁사', '모델', '비해', '판매', '통사', '제조사', '판매', '장려금', '자체', '마케팅', '비용', '배합', '소비자', '지원금', '제공', '과정', '제조사', '통사', '요구', '따라', '배합', '비율', '국내', '유일', '제조사', '감안', '향후', '판매', '장려금', '사용', '유인', '과거', '비해', '제품', '출시', '시기', '맞춰', '경쟁', '필요', '판매', '장려금', '일시', '통사', '조사', '경쟁', '지원금', '필요', '소비자', '최종', '구매', '단말기', '가격', '과거', '가능', '통업', '관계자', '전자', '사업', '철수', '국내', '제조사', '소비자', '선택', '단말', '가격', '상승', '우려', '사실', '상반기', '미래', '기술', '육성', '사업', '지원', '과제', '선정', '왼쪽', '대학교', '류경', '교수', '포스', '교수', '학교', '교수', '교수', '대학교', '교수', '대학교', '교수', '제공', '미래', '기술', '육성', '사업', '통해', '올해', '상반기', '지원', '연구', '과제', '발표', '올해', '선정', '과제', '기초', '과학', '분야', '소재', '분야', '정보', '통신', '기술', '분야', '연구비', '지원', '이번', '발표', '연구', '과제', '포함', '지금', '기초', '과학', '분야', '소재', '분야', '분야', '연구', '과제', '연구비', '지원', '올해', '기초', '과학', '분야', '독창', '아이디어', '과제', '성공', '세계', '최초', '파급', '효과', '기대', '과제', '포함', '선정', '대학교', '수리', '류경', '교수', '머신', '러닝', '사용', '학습', '모델', '공통점', '세계', '최초', '수학', '규명', '연구', '도전', '포스', '화학', '교수', '왕관', '모양', '생겨', '크라운', '에테르', '분자', '화학', '촉매', '사용', '물질', '변환', '효율', '향상', '계획', '크라운', '에테르', '분자', '인해', '생성', '국소', '전기장', '활용', '온난화', '원인', '이산화', '탄소', '분해', '난제', '해결', '기여', '전망', '소재', '분야', '해독', '양자', '광원', '연구', '분야', '과제', '지원', '학교', '화학', '교수', '인간', '게놈', '프로젝트', '통해서', '밝혀', '염색체', '서열', '해독', '연구', '수행', '물질', '과학', '전공', '교수', '양자', '통신', '광원', '기술', '개발', '분야', '접촉', '생체', '전기', '신호', '측정', '미래', '산업', '경쟁력', '강화', '핵심', '기술', '연구', '분야', '과제', '선정', '대학교', '컴퓨터', '공학부', '교수', '기술', '발전', '따라', '발생', '개인', '정보', '침해', '성별', '편향', '사실', '관계', '오류', '문제', '해결', '위해', '나선다', '대학교', '전산', '학부', '교수', '심전', '뇌전도', '생체', '발생', '전기', '신호', '접촉', '방식', '측정', '기술', '개발', '예정', '한편', '미래', '기술', '육성', '사업', '나라', '미래', '과학', '기술', '육성', '지원', '목표', '출연', '시행', '연구', '지원', '공익사업', '상하', '반기', '기초', '과학', '소재', '분야', '지원', '과제', '선정', '실시', '지정', '테마', '과제', '공모', '통해', '국가', '필요', '미래', '기술', '분야', '지정', '해당', '연구', '지원', '비지니스', '플랫', '로고', '차세대', '전사', '자원', '관리', '시스템', '도입', '기업', '재무', '자원', '통합', '관리', '경영', '정보', '투명', '공유', '효율', '업무', '처리', '시스템', '비지니스', '등장', '복합', '미래', '경영', '환경', '변화', '지원', '혁신', '플랫', '마련', '위해', '최신', '기술', '전문', '패키지', '기반', '시스템', '개발', '시스템', '동서', '법인', '적용', '내년', '세계', '법인', '순차', '도입', '예정', '대용량', '데이터', '처리', '시스템', '성능', '향상', '비즈니스', '대응', '위해', '아키텍처', '프로세스', '구축', '업무', '의사', '결정', '지원', '광학', '문자', '판독', '활용', '업무', '자동', '기술', '도입', '특징', '데이터', '처리', '분석', '속도', '향상', '위해', '메모리', '데이터베이스', '시스템', '적용', '대용량', '하드웨어', '병렬', '연결', '추가', '비지니스', '확대', '급속', '데이터', '증가', '대응', '회사', '시스템', '이용', '최근', '온라인', '판매', '확대', '대량', '소비자', '주문', '현황', '전체', '공급', '상황', '실시간', '분석', '데이터', '기반', '경영', '시뮬레이션', '가능', '임직원', '합리', '의사', '결정', '된다고', '설명', '비지니스', '지원', '미래', '경영', '환경', '변화', '효과', '대응', '위해', '시스템', '강화', '프로세스', '효율', '시켰', '사내', '시스템', '데이터', '실시간', '연계', '외부', '조직', '전체', '협업', '효과', '이뤄지도록', '기반', '전문', '도입', '업무', '환경', '신속', '효율', '업무', '지원', '의사', '결정', '지원', '머신', '러닝', '문자', '인식', '채팅', '통해', '업무', '처리', '프로세스', '자동', '플랫', '구축', '임직원', '시스템', '사용', '핵심', '업무', '집중', '경영', '혁신', '센터', '전무', '최신', '기술', '기반', '시스템', '구축', '글로벌', '기업', '선도', '사례', '디지털', '혁신', '받쳐', '중요', '플랫', '역할', '수행', '지난주', '지수', '최저치', '최고', '사이', '기간', '국내', '증시', '악재', '호재', '혼재', '초반', '헤지', '펀드', '캐피털', '매니지먼트', '마진', '사태', '증시', '하락', '국내', '주식', '시장', '투자', '심리', '악화', '규모', '인프라', '투자', '확정', '경기', '회복', '기대감', '지수', '반등', '동안', '시장', '외국인', '투자자', '어치', '외국인', '매수', '종목', '매수', '반면', '기관', '개인', '주식', '보유', '기관', '순매도', '순매도', '개인', '순매도', '분기', '잠정', '실적', '발표', '사진', '경기', '위치', '반도체', '공장', '증권', '업계', '전문가', '전망', '이번', '주일', '증시', '흐름', '견조', '수준', '투자', '증권', '지수', '포인트', '등락', '투자', '증권', '전망', '포인트', '금융', '투자', '전망', '포인트', '금융', '투자', '연구원', '국채', '금리', '상승', '경제', '정상', '인식', '학습', '효과', '생겨', '채권', '금리', '상승', '성장주', '하락', '상태', '대형주', '위주', '외국인', '매수세', '가능', '전망', '증시', '전망', '긍정', '이슈', '필요', '분기', '실적', '물가', '지표', '연방', '공개', '시장', '위원회', '의사록', '내용', '주식', '시장', '영향', '점검', '분기', '잠정', '실적', '발표', '국내', '장사', '본격', '분기', '실적', '발표', '앞서', '잠정', '실적', '발표', '예정', '영업', '이익', '센서스', '증권사', '평균', '전망', '만약', '센서스', '나온다면', '주가', '지수', '박스', '상단', '상승세', '최근', '국내', '증권사', '반도체', '실적', '개선', '전망', '대훈', '증권', '연구원', '반도체', '철강', '화학', '경기', '민감', '업종', '수출', '증가세', '반도체', '행정부', '인프라', '투자', '수혜', '가능', '설명', '인프라', '투자', '발표', '여파', '주목', '규모', '인프라', '투자', '계획', '발표', '종목', '수혜', '볼지', '관심사', '지난달', '현지', '시각', '행정부', '향후', '인프라', '투자', '발표', '친환경', '에너지', '관련', '자금', '비중', '다조', '대통령', '현지', '시각', '인프라', '투자', '계획', '공식', '발표', '증권', '업계', '전문가', '인프라', '정책', '영향', '전기', '관련', '상승', '가능', '본다', '도로', '인프라', '세부', '계획안', '관련', '인프라', '예산', '배정', '전지', '전기', '관련', '최근', '가격', '하락', '밸류', '기업', '가치', '대비', '주가', '수준', '상황', '경기', '물가', '지표', '발표', '경기', '물가', '지표', '향방', '국내', '증시', '영향', '가능', '현지', '시각', '고용', '지표', '발표', '농업', '부문', '일자리', '지난해', '증가', '전년', '동월', '대비', '증가', '실업', '기록', '실업', '현지', '시각', '생산자', '물가', '지수', '발표', '예정', '생산자', '물가', '지수', '전년', '동월', '대비', '상승', '전망', '생산자', '물가', '지수', '전년', '동월', '대비', '투자', '증권', '연구원', '경기', '회복', '물가', '상승', '정도', '따라', '국채', '금리', '분석', '연방', '준비', '제도', '국채', '금리', '상승세', '경기', '회복세', '이유', '완화', '축소', '테이퍼', '상황', '연구원', '물가', '경기', '지수', '양호', '나온다면', '경기', '개선', '신호', '인식', '국채', '금리', '가능', '기준', '금리', '조기', '인상', '가능', '연구원', '생산자', '물가', '근원', '물가', '상승', '전년', '동월', '대비', '수준', '고용', '회복세', '수준', '기준', '금리', '인상', '시기', '가능', '설명', '의사록', '의사록', '공개', '증시', '영향', '요인', '현지', '시각', '지난달', '의사록', '공개', '당시', '사회', '의장', '물가', '상승', '일시', '안정', '완화', '축소', '필요', '견해', '점도표', '이사', '총재', '기준', '금리', '인상', '시기', '예상', '조기', '금리', '인상', '전망', '의사록', '통해', '당시', '위원', '사이', '논의', '확인', '필요', '지난달', '종료', '공개', '점도표', '위원', '내년', '기준', '금리', '인상', '전망', '지난해', '점도표', '기준', '금리', '인상', '위원', '연구원', '의장', '발표', '구체', '내용', '빠져', '의사록', '위원', '기록', '시중', '금리', '시장', '참여', '인식', '괴리', '상황', '당시', '위원', '입장', '확인', '중요', '자운']\n"
          ],
          "name": "stdout"
        }
      ]
    },
    {
      "cell_type": "markdown",
      "metadata": {
        "id": "HRhfrWsYWjij"
      },
      "source": [
        "## 5) 낮은 빈도 단어 제거"
      ]
    },
    {
      "cell_type": "code",
      "metadata": {
        "colab": {
          "base_uri": "https://localhost:8080/"
        },
        "id": "rmf_-wJGij8A",
        "outputId": "7c0c83f5-986a-4894-e69e-a1c6e5af5527"
      },
      "source": [
        "# step 1) 단어 별 빈도수\n",
        "## 단어의 빈도 수\n",
        "vocab ={}\n",
        "for word in X_ts_:\n",
        "    if word not in vocab:\n",
        "        vocab[word] = 0\n",
        "    vocab[word] += 1\n",
        "print(vocab)\n",
        "print(len(vocab))"
      ],
      "execution_count": 73,
      "outputs": [
        {
          "output_type": "stream",
          "text": [
            "{'사내': 4, '식당': 3, '대해': 4, '실시': 3, '외부': 2, '급식': 3, '업체': 5, '경쟁': 6, '입찰': 5, '푸드': 4, '컬처': 2, '운영': 3, '선정': 7, '단체': 2, '다양': 1, '메뉴': 2, '향상': 5, '서비스': 2, '통해': 10, '임직원': 5, '복리': 1, '후생': 1, '사업장': 2, '기흥': 1, '공개': 6, '공고': 1, '참여': 3, '이번': 5, '서류': 1, '심사': 1, '거쳐': 1, '구성': 1, '평가': 1, '프레젠테이션': 1, '인프라': 12, '위생': 1, '점검': 2, '현장': 1, '실사': 1, '음식': 1, '품평회': 1, '단계': 1, '공정': 1, '절차': 1, '진행': 2, '기존': 1, '공급': 5, '스토리': 1, '배제': 1, '최종': 2, '동안': 2, '고용': 3, '승계': 1, '업무': 8, '인수': 2, '시작': 1, '예정': 5, '관계자': 2, '신규': 1, '만족도': 1, '보완': 1, '검토': 1, '대해서': 1, '확대': 3, '계획': 7, '대통령': 5, '현지': 7, '시간': 3, '반도체': 14, '강화': 4, '온라인': 3, '회담': 2, '참석': 4, '인사말': 2, '실시간': 3, '중계': 1, '백악관': 5, '세계': 7, '기업': 11, '불러': 1, '부족': 5, '의견': 2, '가운데': 1, '결정': 6, '발표': 16, '대변인': 1, '정례': 1, '브리핑': 1, '회의': 2, '이유': 2, '문제': 3, '지속': 1, '논의': 2, '일부': 1, '설명': 6, '산업': 4, '협력': 1, '의회': 2, '합의': 2, '이뤄져야': 2, '향후': 3, '사태': 2, '방지': 1, '국가': 4, '차원': 1, '이날': 6, '안보': 1, '보좌관': 1, '경제': 2, '위원회': 2, '위원장': 1, '주재': 1, '해소': 1, '화상': 1, '합류': 1, '일정': 1, '초대': 1, '포함': 4, '구글': 1, '모회사': 1, '알파벳': 1, '테크놀로지': 2, '글로벌': 4, '마이크': 1, '피스톤': 1, '그룹': 1, '워터': 1, '개사': 1, '사업': 17, '부장': 1, '사장': 1, '해결': 4, '지지': 1, '규모': 3, '연구': 12, '개발': 5, '관련': 6, '일자리': 2, '강조': 1, '이중': 1, '배정': 2, '투자': 18, '제안': 1, '실행': 1, '옮겨': 1, '단기': 1, '방안': 1, '모색': 1, '자동차': 3, '업계': 3, '올해': 7, '생산량': 1, '만대': 1, '생산': 2, '방해': 1, '경고': 1, '주말': 1, '공장': 3, '트럭': 1, '교대': 1, '근무': 1, '취소': 1, '미래': 10, '성장': 3, '동력': 1, '전자': 15, '관측': 2, '스타': 5, '강세': 1, '완전': 1, '철수': 5, '확정': 2, '로봇': 12, '주력': 1, '전담': 2, '신설': 3, '상태': 2, '오후': 2, '거래일': 1, '대비': 9, '거래': 1, '앞서': 2, '월부': 1, '먹거리': 1, '전기': 5, '부품': 1, '공학': 1, '인공': 1, '지능': 1, '집중': 2, '전망': 16, '제기': 1, '설립': 1, '센터': 2, '비즈니스': 2, '본부': 2, '이관': 1, '영업': 13, '역량': 1, '활용': 3, '시장': 18, '진출': 1, '교두보': 1, '마련': 2, '제조': 1, '전문': 3, '지분': 2, '속력': 1, '소비자': 10, '부문장': 1, '직속': 1, '과거': 4, '통합': 2, '조직': 2, '리서치': 1, '부문': 9, '상용': 1, '본격': 2, '속도': 2, '읽힌다': 1, '한편': 3, '제조사': 9, '이후': 1, '협업': 2, '플랫': 5, '매출': 5, '조억': 2, '사상': 3, '최대': 3, '장기': 1, '분기': 14, '실적': 14, '기록': 8, '부진': 1, '프리미엄': 2, '가전': 3, '역대': 3, '견인': 2, '조원': 4, '이익': 7, '달성': 1, '지난해': 3, '증가': 6, '수준': 6, '당초': 1, '예상': 6, '원대': 2, '한파': 2, '영향': 6, '휴대폰': 2, '분석': 4, '가량': 2, '손실': 1, '추정': 2, '무선': 1, '잠정': 5, '최대치': 1, '최고': 3, '전년': 7, '동기': 3, '종전': 1, '생활': 1, '최초': 3, '돌파': 1, '주가': 3, '하락': 5, '기준': 7, '전날': 1, '외국인': 4, '매수': 3, '반면': 2, '기관': 4, '순매도': 5, '하락세': 1, '미뤄': 1, '개인': 5, '대신': 1, '증권': 7, '연구원': 7, '차익': 1, '실현': 1, '매물': 1, '쏟아져': 1, '집계': 1, '증권가': 1, '치인': 1, '매출액': 1, '직전': 1, '해당': 2, '베스트': 1, '펀드': 12, '운용': 1, '매니저': 3, '출연': 3, '자사': 1, '이벤트': 5, '구독': 2, '업로드': 1, '영상': 2, '등장': 2, '주목': 2, '선택': 3, '퀴즈': 1, '설문': 1, '화면': 1, '제출': 1, '된다': 1, '각각': 1, '상품': 1, '장점': 1, '친환경': 2, '신재': 1, '에너지': 3, '슈퍼': 1, '사이클': 1, '수혜': 3, '국인': 1, '주요': 1, '중심': 1, '핵심': 3, '개국': 1, '소개': 1, '기간': 2, '오늘': 1, '당첨자': 1, '추첨': 1, '성자': 1, '산운': 1, '공식': 3, '채널': 2, '미니': 1, '케이크': 1, '교환': 1, '증정': 1, '사항': 1, '확인': 3, '국내': 17, '구도': 1, '점유': 3, '유일': 2, '사업자': 1, '쏠림': 1, '현상': 1, '가중': 2, '보인다': 1, '이동': 2, '통신': 4, '저하': 1, '부담': 1, '우려': 4, '목소리': 1, '통업': 2, '통사': 5, '판매': 8, '존재': 1, '이상': 1, '독점': 1, '위치': 2, '제한': 1, '현실': 1, '중저가': 1, '단말': 2, '선호도': 1, '따라': 4, '선택지': 1, '단일': 1, '사와': 1, '협상력': 1, '우위': 1, '단말기': 2, '가격': 4, '상승': 9, '장려금': 4, '지급': 1, '최신': 3, '경쟁사': 1, '모델': 2, '비해': 2, '자체': 1, '마케팅': 1, '비용': 1, '배합': 2, '지원금': 2, '제공': 2, '과정': 1, '요구': 1, '비율': 1, '감안': 1, '사용': 4, '유인': 1, '제품': 1, '출시': 1, '시기': 3, '맞춰': 1, '필요': 6, '일시': 2, '조사': 1, '구매': 1, '가능': 9, '사실': 2, '상반기': 2, '기술': 13, '육성': 4, '지원': 14, '과제': 11, '왼쪽': 1, '대학교': 6, '류경': 2, '교수': 12, '포스': 2, '학교': 2, '기초': 4, '과학': 6, '분야': 13, '소재': 4, '정보': 3, '연구비': 2, '지금': 1, '독창': 1, '아이디어': 1, '성공': 1, '파급': 1, '효과': 4, '기대': 1, '수리': 1, '머신': 2, '러닝': 2, '학습': 2, '공통점': 1, '수학': 1, '규명': 1, '도전': 1, '화학': 4, '왕관': 1, '모양': 1, '생겨': 2, '크라운': 2, '에테르': 2, '분자': 2, '촉매': 1, '물질': 2, '변환': 1, '효율': 4, '인해': 1, '생성': 1, '국소': 1, '전기장': 1, '온난화': 1, '원인': 1, '이산화': 1, '탄소': 1, '분해': 1, '난제': 1, '기여': 1, '해독': 2, '양자': 2, '광원': 2, '인간': 1, '게놈': 1, '프로젝트': 1, '통해서': 1, '밝혀': 1, '염색체': 1, '서열': 1, '수행': 2, '전공': 1, '접촉': 2, '생체': 2, '신호': 3, '측정': 2, '경쟁력': 1, '컴퓨터': 1, '공학부': 1, '발전': 1, '발생': 2, '침해': 1, '성별': 1, '편향': 1, '관계': 1, '오류': 1, '위해': 5, '나선다': 1, '전산': 1, '학부': 1, '심전': 1, '뇌전도': 1, '방식': 1, '나라': 1, '목표': 1, '시행': 1, '공익사업': 1, '상하': 1, '반기': 1, '지정': 2, '테마': 1, '공모': 1, '비지니스': 4, '로고': 1, '차세대': 1, '전사': 1, '자원': 2, '관리': 2, '시스템': 11, '도입': 4, '재무': 1, '경영': 5, '투명': 1, '공유': 1, '처리': 4, '복합': 1, '환경': 3, '변화': 2, '혁신': 3, '패키지': 1, '기반': 4, '동서': 1, '법인': 2, '적용': 2, '내년': 2, '순차': 1, '대용량': 2, '데이터': 5, '성능': 1, '대응': 3, '아키텍처': 1, '프로세스': 3, '구축': 3, '의사': 3, '광학': 1, '문자': 2, '판독': 1, '자동': 2, '특징': 1, '메모리': 1, '데이터베이스': 1, '하드웨어': 1, '병렬': 1, '연결': 1, '추가': 1, '급속': 1, '회사': 1, '이용': 1, '최근': 3, '대량': 1, '주문': 1, '현황': 1, '전체': 2, '상황': 4, '시뮬레이션': 1, '합리': 1, '된다고': 1, '시켰': 1, '연계': 1, '이뤄지도록': 1, '신속': 1, '인식': 4, '채팅': 1, '전무': 1, '선도': 1, '사례': 1, '디지털': 1, '받쳐': 1, '중요': 2, '역할': 1, '지난주': 1, '지수': 8, '최저치': 1, '사이': 2, '증시': 6, '악재': 1, '호재': 1, '혼재': 1, '초반': 1, '헤지': 1, '캐피털': 1, '매니지먼트': 1, '마진': 1, '주식': 3, '심리': 1, '악화': 1, '경기': 9, '회복': 2, '기대감': 1, '반등': 1, '투자자': 1, '어치': 1, '종목': 2, '보유': 1, '사진': 1, '전문가': 2, '주일': 1, '흐름': 1, '견조': 1, '포인트': 3, '등락': 1, '금융': 2, '국채': 4, '금리': 12, '정상': 1, '채권': 1, '성장주': 1, '대형주': 1, '위주': 1, '매수세': 1, '긍정': 1, '이슈': 1, '물가': 11, '지표': 4, '연방': 2, '의사록': 6, '내용': 2, '장사': 1, '센서스': 2, '증권사': 2, '평균': 1, '만약': 1, '나온다면': 2, '박스': 1, '상단': 1, '상승세': 2, '개선': 2, '대훈': 1, '철강': 1, '민감': 1, '업종': 1, '수출': 1, '증가세': 1, '행정부': 2, '여파': 1, '볼지': 1, '관심사': 1, '지난달': 3, '시각': 5, '자금': 1, '비중': 1, '다조': 1, '정책': 1, '본다': 1, '도로': 1, '세부': 1, '계획안': 1, '예산': 1, '전지': 1, '밸류': 1, '가치': 1, '향방': 1, '농업': 1, '동월': 4, '실업': 2, '생산자': 4, '정도': 1, '준비': 1, '제도': 1, '회복세': 2, '완화': 2, '축소': 2, '테이퍼': 1, '양호': 1, '조기': 2, '인상': 6, '근원': 1, '요인': 1, '당시': 3, '사회': 1, '의장': 2, '안정': 1, '견해': 1, '점도표': 3, '이사': 1, '총재': 1, '위원': 5, '종료': 1, '구체': 1, '빠져': 1, '시중': 1, '괴리': 1, '입장': 1, '자운': 1}\n",
            "678\n"
          ],
          "name": "stdout"
        }
      ]
    },
    {
      "cell_type": "code",
      "metadata": {
        "colab": {
          "base_uri": "https://localhost:8080/"
        },
        "id": "XUlJkDtaRKab",
        "outputId": "43c5d25a-da33-4ca4-e6ca-5a8629e932a9"
      },
      "source": [
        "# step 2) 빈도수 낮은 단어의 삭제 -- 복잡 버전\n",
        "\n",
        "# 1. 빈도수가 높은 순서대로 정렬\n",
        "vocab_sorted = sorted(vocab.items(), key = lambda x:x[1], reverse =True)\n",
        "## print(vocab_sorted)\n",
        "\n",
        "# 2. 빈도수가 높은 순서대로 정수 인덱스 부여\n",
        "word_to_index = {}\n",
        "\n",
        "i=0\n",
        "for (word,freq) in vocab_sorted:\n",
        "    if freq > 1:\n",
        "        i = i+1\n",
        "        word_to_index[word] = i\n",
        "print(word_to_index)\n",
        "\n",
        "# 3. 빈도수 낮은 단어의 선택\n",
        "words_del = {}\n",
        "threshold = 5\n",
        "for word,cnt in word_to_index.items():\n",
        "    if cnt < threshold:\n",
        "        words_del[word]= cnt\n",
        "print(words_del)\n",
        "\n",
        "# 4. 빈도 낮은 단어 인덱스 정보 삭제\n",
        "for w in words_del:\n",
        "    del word_to_index[w] # 해당 단어에 대한 인덱스 정보를 삭제\n",
        "print(word_to_index)\n",
        "\n",
        "# 5.Out-Of_Vocabulary(단어 집합에 없는 단어) 추가\n",
        "word_to_index['OOV'] = len(word_to_index) + 1\n",
        "print(word_to_index)"
      ],
      "execution_count": 64,
      "outputs": [
        {
          "output_type": "stream",
          "text": [
            "{'투자': 1, '시장': 2, '사업': 3, '국내': 4, '발표': 5, '전망': 6, '전자': 7, '반도체': 8, '분기': 9, '실적': 10, '지원': 11, '영업': 12, '기술': 13, '분야': 14, '인프라': 15, '연구': 16, '로봇': 17, '펀드': 18, '교수': 19, '금리': 20, '기업': 21, '과제': 22, '시스템': 23, '물가': 24, '통해': 25, '미래': 26, '소비자': 27, '대비': 28, '부문': 29, '제조사': 30, '상승': 31, '가능': 32, '경기': 33, '업무': 34, '기록': 35, '판매': 36, '지수': 37, '선정': 38, '계획': 39, '현지': 40, '세계': 41, '올해': 42, '이익': 43, '전년': 44, '기준': 45, '증권': 46, '연구원': 47, '경쟁': 48, '공개': 49, '결정': 50, '설명': 51, '이날': 52, '관련': 53, '증가': 54, '수준': 55, '예상': 56, '영향': 57, '필요': 58, '대학교': 59, '과학': 60, '증시': 61, '의사록': 62, '인상': 63, '업체': 64, '입찰': 65, '향상': 66, '임직원': 67, '이번': 68, '공급': 69, '예정': 70, '대통령': 71, '백악관': 72, '부족': 73, '개발': 74, '스타': 75, '철수': 76, '전기': 77, '플랫': 78, '매출': 79, '잠정': 80, '하락': 81, '순매도': 82, '개인': 83, '이벤트': 84, '통사': 85, '위해': 86, '경영': 87, '데이터': 88, '시각': 89, '위원': 90, '사내': 91, '대해': 92, '푸드': 93, '강화': 94, '참석': 95, '산업': 96, '국가': 97, '포함': 98, '글로벌': 99, '해결': 100, '과거': 101, '조원': 102, '분석': 103, '외국인': 104, '기관': 105, '통신': 106, '우려': 107, '따라': 108, '가격': 109, '장려금': 110, '사용': 111, '육성': 112, '기초': 113, '소재': 114, '효과': 115, '화학': 116, '효율': 117, '비지니스': 118, '도입': 119, '처리': 120, '기반': 121, '상황': 122, '인식': 123, '국채': 124, '지표': 125, '동월': 126, '생산자': 127, '식당': 128, '실시': 129, '급식': 130, '운영': 131, '참여': 132, '고용': 133, '확대': 134, '시간': 135, '온라인': 136, '실시간': 137, '문제': 138, '향후': 139, '규모': 140, '자동차': 141, '업계': 142, '공장': 143, '성장': 144, '신설': 145, '활용': 146, '전문': 147, '한편': 148, '사상': 149, '최대': 150, '가전': 151, '역대': 152, '지난해': 153, '최고': 154, '동기': 155, '최초': 156, '주가': 157, '매수': 158, '매니저': 159, '출연': 160, '선택': 161, '에너지': 162, '수혜': 163, '핵심': 164, '공식': 165, '확인': 166, '점유': 167, '최신': 168, '시기': 169, '정보': 170, '신호': 171, '환경': 172, '혁신': 173, '대응': 174, '프로세스': 175, '구축': 176, '의사': 177, '최근': 178, '주식': 179, '포인트': 180, '지난달': 181, '당시': 182, '점도표': 183, '외부': 184, '컬처': 185, '단체': 186, '메뉴': 187, '서비스': 188, '사업장': 189, '점검': 190, '진행': 191, '최종': 192, '동안': 193, '인수': 194, '관계자': 195, '회담': 196, '인사말': 197, '의견': 198, '회의': 199, '이유': 200, '논의': 201, '의회': 202, '합의': 203, '이뤄져야': 204, '사태': 205, '경제': 206, '위원회': 207, '테크놀로지': 208, '일자리': 209, '배정': 210, '생산': 211, '관측': 212, '확정': 213, '전담': 214, '상태': 215, '오후': 216, '앞서': 217, '집중': 218, '센터': 219, '비즈니스': 220, '본부': 221, '마련': 222, '지분': 223, '통합': 224, '조직': 225, '본격': 226, '속도': 227, '협업': 228, '조억': 229, '프리미엄': 230, '견인': 231, '원대': 232, '한파': 233, '휴대폰': 234, '가량': 235, '추정': 236, '반면': 237, '해당': 238, '구독': 239, '영상': 240, '등장': 241, '주목': 242, '친환경': 243, '기간': 244, '채널': 245, '유일': 246, '가중': 247, '이동': 248, '통업': 249, '위치': 250, '단말': 251, '단말기': 252, '모델': 253, '비해': 254, '배합': 255, '지원금': 256, '제공': 257, '일시': 258, '사실': 259, '상반기': 260, '류경': 261, '포스': 262, '학교': 263, '연구비': 264, '머신': 265, '러닝': 266, '학습': 267, '생겨': 268, '크라운': 269, '에테르': 270, '분자': 271, '물질': 272, '해독': 273, '양자': 274, '광원': 275, '수행': 276, '접촉': 277, '생체': 278, '측정': 279, '발생': 280, '지정': 281, '자원': 282, '관리': 283, '변화': 284, '법인': 285, '적용': 286, '내년': 287, '대용량': 288, '문자': 289, '자동': 290, '전체': 291, '중요': 292, '사이': 293, '회복': 294, '종목': 295, '전문가': 296, '금융': 297, '연방': 298, '내용': 299, '센서스': 300, '증권사': 301, '나온다면': 302, '상승세': 303, '개선': 304, '행정부': 305, '실업': 306, '회복세': 307, '완화': 308, '축소': 309, '조기': 310, '의장': 311}\n",
            "{'투자': 1, '시장': 2, '사업': 3, '국내': 4}\n",
            "{'발표': 5, '전망': 6, '전자': 7, '반도체': 8, '분기': 9, '실적': 10, '지원': 11, '영업': 12, '기술': 13, '분야': 14, '인프라': 15, '연구': 16, '로봇': 17, '펀드': 18, '교수': 19, '금리': 20, '기업': 21, '과제': 22, '시스템': 23, '물가': 24, '통해': 25, '미래': 26, '소비자': 27, '대비': 28, '부문': 29, '제조사': 30, '상승': 31, '가능': 32, '경기': 33, '업무': 34, '기록': 35, '판매': 36, '지수': 37, '선정': 38, '계획': 39, '현지': 40, '세계': 41, '올해': 42, '이익': 43, '전년': 44, '기준': 45, '증권': 46, '연구원': 47, '경쟁': 48, '공개': 49, '결정': 50, '설명': 51, '이날': 52, '관련': 53, '증가': 54, '수준': 55, '예상': 56, '영향': 57, '필요': 58, '대학교': 59, '과학': 60, '증시': 61, '의사록': 62, '인상': 63, '업체': 64, '입찰': 65, '향상': 66, '임직원': 67, '이번': 68, '공급': 69, '예정': 70, '대통령': 71, '백악관': 72, '부족': 73, '개발': 74, '스타': 75, '철수': 76, '전기': 77, '플랫': 78, '매출': 79, '잠정': 80, '하락': 81, '순매도': 82, '개인': 83, '이벤트': 84, '통사': 85, '위해': 86, '경영': 87, '데이터': 88, '시각': 89, '위원': 90, '사내': 91, '대해': 92, '푸드': 93, '강화': 94, '참석': 95, '산업': 96, '국가': 97, '포함': 98, '글로벌': 99, '해결': 100, '과거': 101, '조원': 102, '분석': 103, '외국인': 104, '기관': 105, '통신': 106, '우려': 107, '따라': 108, '가격': 109, '장려금': 110, '사용': 111, '육성': 112, '기초': 113, '소재': 114, '효과': 115, '화학': 116, '효율': 117, '비지니스': 118, '도입': 119, '처리': 120, '기반': 121, '상황': 122, '인식': 123, '국채': 124, '지표': 125, '동월': 126, '생산자': 127, '식당': 128, '실시': 129, '급식': 130, '운영': 131, '참여': 132, '고용': 133, '확대': 134, '시간': 135, '온라인': 136, '실시간': 137, '문제': 138, '향후': 139, '규모': 140, '자동차': 141, '업계': 142, '공장': 143, '성장': 144, '신설': 145, '활용': 146, '전문': 147, '한편': 148, '사상': 149, '최대': 150, '가전': 151, '역대': 152, '지난해': 153, '최고': 154, '동기': 155, '최초': 156, '주가': 157, '매수': 158, '매니저': 159, '출연': 160, '선택': 161, '에너지': 162, '수혜': 163, '핵심': 164, '공식': 165, '확인': 166, '점유': 167, '최신': 168, '시기': 169, '정보': 170, '신호': 171, '환경': 172, '혁신': 173, '대응': 174, '프로세스': 175, '구축': 176, '의사': 177, '최근': 178, '주식': 179, '포인트': 180, '지난달': 181, '당시': 182, '점도표': 183, '외부': 184, '컬처': 185, '단체': 186, '메뉴': 187, '서비스': 188, '사업장': 189, '점검': 190, '진행': 191, '최종': 192, '동안': 193, '인수': 194, '관계자': 195, '회담': 196, '인사말': 197, '의견': 198, '회의': 199, '이유': 200, '논의': 201, '의회': 202, '합의': 203, '이뤄져야': 204, '사태': 205, '경제': 206, '위원회': 207, '테크놀로지': 208, '일자리': 209, '배정': 210, '생산': 211, '관측': 212, '확정': 213, '전담': 214, '상태': 215, '오후': 216, '앞서': 217, '집중': 218, '센터': 219, '비즈니스': 220, '본부': 221, '마련': 222, '지분': 223, '통합': 224, '조직': 225, '본격': 226, '속도': 227, '협업': 228, '조억': 229, '프리미엄': 230, '견인': 231, '원대': 232, '한파': 233, '휴대폰': 234, '가량': 235, '추정': 236, '반면': 237, '해당': 238, '구독': 239, '영상': 240, '등장': 241, '주목': 242, '친환경': 243, '기간': 244, '채널': 245, '유일': 246, '가중': 247, '이동': 248, '통업': 249, '위치': 250, '단말': 251, '단말기': 252, '모델': 253, '비해': 254, '배합': 255, '지원금': 256, '제공': 257, '일시': 258, '사실': 259, '상반기': 260, '류경': 261, '포스': 262, '학교': 263, '연구비': 264, '머신': 265, '러닝': 266, '학습': 267, '생겨': 268, '크라운': 269, '에테르': 270, '분자': 271, '물질': 272, '해독': 273, '양자': 274, '광원': 275, '수행': 276, '접촉': 277, '생체': 278, '측정': 279, '발생': 280, '지정': 281, '자원': 282, '관리': 283, '변화': 284, '법인': 285, '적용': 286, '내년': 287, '대용량': 288, '문자': 289, '자동': 290, '전체': 291, '중요': 292, '사이': 293, '회복': 294, '종목': 295, '전문가': 296, '금융': 297, '연방': 298, '내용': 299, '센서스': 300, '증권사': 301, '나온다면': 302, '상승세': 303, '개선': 304, '행정부': 305, '실업': 306, '회복세': 307, '완화': 308, '축소': 309, '조기': 310, '의장': 311}\n",
            "{'발표': 5, '전망': 6, '전자': 7, '반도체': 8, '분기': 9, '실적': 10, '지원': 11, '영업': 12, '기술': 13, '분야': 14, '인프라': 15, '연구': 16, '로봇': 17, '펀드': 18, '교수': 19, '금리': 20, '기업': 21, '과제': 22, '시스템': 23, '물가': 24, '통해': 25, '미래': 26, '소비자': 27, '대비': 28, '부문': 29, '제조사': 30, '상승': 31, '가능': 32, '경기': 33, '업무': 34, '기록': 35, '판매': 36, '지수': 37, '선정': 38, '계획': 39, '현지': 40, '세계': 41, '올해': 42, '이익': 43, '전년': 44, '기준': 45, '증권': 46, '연구원': 47, '경쟁': 48, '공개': 49, '결정': 50, '설명': 51, '이날': 52, '관련': 53, '증가': 54, '수준': 55, '예상': 56, '영향': 57, '필요': 58, '대학교': 59, '과학': 60, '증시': 61, '의사록': 62, '인상': 63, '업체': 64, '입찰': 65, '향상': 66, '임직원': 67, '이번': 68, '공급': 69, '예정': 70, '대통령': 71, '백악관': 72, '부족': 73, '개발': 74, '스타': 75, '철수': 76, '전기': 77, '플랫': 78, '매출': 79, '잠정': 80, '하락': 81, '순매도': 82, '개인': 83, '이벤트': 84, '통사': 85, '위해': 86, '경영': 87, '데이터': 88, '시각': 89, '위원': 90, '사내': 91, '대해': 92, '푸드': 93, '강화': 94, '참석': 95, '산업': 96, '국가': 97, '포함': 98, '글로벌': 99, '해결': 100, '과거': 101, '조원': 102, '분석': 103, '외국인': 104, '기관': 105, '통신': 106, '우려': 107, '따라': 108, '가격': 109, '장려금': 110, '사용': 111, '육성': 112, '기초': 113, '소재': 114, '효과': 115, '화학': 116, '효율': 117, '비지니스': 118, '도입': 119, '처리': 120, '기반': 121, '상황': 122, '인식': 123, '국채': 124, '지표': 125, '동월': 126, '생산자': 127, '식당': 128, '실시': 129, '급식': 130, '운영': 131, '참여': 132, '고용': 133, '확대': 134, '시간': 135, '온라인': 136, '실시간': 137, '문제': 138, '향후': 139, '규모': 140, '자동차': 141, '업계': 142, '공장': 143, '성장': 144, '신설': 145, '활용': 146, '전문': 147, '한편': 148, '사상': 149, '최대': 150, '가전': 151, '역대': 152, '지난해': 153, '최고': 154, '동기': 155, '최초': 156, '주가': 157, '매수': 158, '매니저': 159, '출연': 160, '선택': 161, '에너지': 162, '수혜': 163, '핵심': 164, '공식': 165, '확인': 166, '점유': 167, '최신': 168, '시기': 169, '정보': 170, '신호': 171, '환경': 172, '혁신': 173, '대응': 174, '프로세스': 175, '구축': 176, '의사': 177, '최근': 178, '주식': 179, '포인트': 180, '지난달': 181, '당시': 182, '점도표': 183, '외부': 184, '컬처': 185, '단체': 186, '메뉴': 187, '서비스': 188, '사업장': 189, '점검': 190, '진행': 191, '최종': 192, '동안': 193, '인수': 194, '관계자': 195, '회담': 196, '인사말': 197, '의견': 198, '회의': 199, '이유': 200, '논의': 201, '의회': 202, '합의': 203, '이뤄져야': 204, '사태': 205, '경제': 206, '위원회': 207, '테크놀로지': 208, '일자리': 209, '배정': 210, '생산': 211, '관측': 212, '확정': 213, '전담': 214, '상태': 215, '오후': 216, '앞서': 217, '집중': 218, '센터': 219, '비즈니스': 220, '본부': 221, '마련': 222, '지분': 223, '통합': 224, '조직': 225, '본격': 226, '속도': 227, '협업': 228, '조억': 229, '프리미엄': 230, '견인': 231, '원대': 232, '한파': 233, '휴대폰': 234, '가량': 235, '추정': 236, '반면': 237, '해당': 238, '구독': 239, '영상': 240, '등장': 241, '주목': 242, '친환경': 243, '기간': 244, '채널': 245, '유일': 246, '가중': 247, '이동': 248, '통업': 249, '위치': 250, '단말': 251, '단말기': 252, '모델': 253, '비해': 254, '배합': 255, '지원금': 256, '제공': 257, '일시': 258, '사실': 259, '상반기': 260, '류경': 261, '포스': 262, '학교': 263, '연구비': 264, '머신': 265, '러닝': 266, '학습': 267, '생겨': 268, '크라운': 269, '에테르': 270, '분자': 271, '물질': 272, '해독': 273, '양자': 274, '광원': 275, '수행': 276, '접촉': 277, '생체': 278, '측정': 279, '발생': 280, '지정': 281, '자원': 282, '관리': 283, '변화': 284, '법인': 285, '적용': 286, '내년': 287, '대용량': 288, '문자': 289, '자동': 290, '전체': 291, '중요': 292, '사이': 293, '회복': 294, '종목': 295, '전문가': 296, '금융': 297, '연방': 298, '내용': 299, '센서스': 300, '증권사': 301, '나온다면': 302, '상승세': 303, '개선': 304, '행정부': 305, '실업': 306, '회복세': 307, '완화': 308, '축소': 309, '조기': 310, '의장': 311, 'OOV': 308}\n"
          ],
          "name": "stdout"
        }
      ]
    },
    {
      "cell_type": "code",
      "metadata": {
        "colab": {
          "base_uri": "https://localhost:8080/"
        },
        "id": "MFMWGWK_X5yE",
        "outputId": "ad256e7e-d5ca-42df-f578-b6368abbcbed"
      },
      "source": [
        "# step 2) 빈도수 낮은 단어의 삭제 -- simple 버전\n",
        "\n",
        "# 1. 빈도수가 높은 순서대로 정렬\n",
        "vocab_sorted = sorted(vocab.items(), key = lambda x:x[1], reverse =True)\n",
        "## print(vocab_sorted)\n",
        "\n",
        "# 2. 빈도수가 높은 순서대로 정수 인덱스 부여\n",
        "word_to_index = {}\n",
        "\n",
        "i=0\n",
        "for (word,freq) in vocab_sorted:\n",
        "    if freq > 1:\n",
        "        i = i+1\n",
        "        word_to_index[word] = i\n",
        "print(word_to_index)\n",
        "\n",
        "# 3. 빈도수가 낮은 단어 삭제\n",
        "word_to_index_1 = {}\n",
        "\n",
        "threshold = 5\n",
        "for word,cnt in word_to_index.items():\n",
        "    if cnt >=  threshold:\n",
        "        word_to_index_1[word]= cnt\n",
        "print(word_to_index_1)\n",
        "\n",
        "# 4.Out-Of_Vocabulary(단어 집합에 없는 단어) 추가\n",
        "word_to_index_1['OOV'] = len(word_to_index_1) + 1\n",
        "print(word_to_index_1)\n",
        "print(len(word_to_index_1))"
      ],
      "execution_count": 72,
      "outputs": [
        {
          "output_type": "stream",
          "text": [
            "{'투자': 1, '시장': 2, '사업': 3, '국내': 4, '발표': 5, '전망': 6, '전자': 7, '반도체': 8, '분기': 9, '실적': 10, '지원': 11, '영업': 12, '기술': 13, '분야': 14, '인프라': 15, '연구': 16, '로봇': 17, '펀드': 18, '교수': 19, '금리': 20, '기업': 21, '과제': 22, '시스템': 23, '물가': 24, '통해': 25, '미래': 26, '소비자': 27, '대비': 28, '부문': 29, '제조사': 30, '상승': 31, '가능': 32, '경기': 33, '업무': 34, '기록': 35, '판매': 36, '지수': 37, '선정': 38, '계획': 39, '현지': 40, '세계': 41, '올해': 42, '이익': 43, '전년': 44, '기준': 45, '증권': 46, '연구원': 47, '경쟁': 48, '공개': 49, '결정': 50, '설명': 51, '이날': 52, '관련': 53, '증가': 54, '수준': 55, '예상': 56, '영향': 57, '필요': 58, '대학교': 59, '과학': 60, '증시': 61, '의사록': 62, '인상': 63, '업체': 64, '입찰': 65, '향상': 66, '임직원': 67, '이번': 68, '공급': 69, '예정': 70, '대통령': 71, '백악관': 72, '부족': 73, '개발': 74, '스타': 75, '철수': 76, '전기': 77, '플랫': 78, '매출': 79, '잠정': 80, '하락': 81, '순매도': 82, '개인': 83, '이벤트': 84, '통사': 85, '위해': 86, '경영': 87, '데이터': 88, '시각': 89, '위원': 90, '사내': 91, '대해': 92, '푸드': 93, '강화': 94, '참석': 95, '산업': 96, '국가': 97, '포함': 98, '글로벌': 99, '해결': 100, '과거': 101, '조원': 102, '분석': 103, '외국인': 104, '기관': 105, '통신': 106, '우려': 107, '따라': 108, '가격': 109, '장려금': 110, '사용': 111, '육성': 112, '기초': 113, '소재': 114, '효과': 115, '화학': 116, '효율': 117, '비지니스': 118, '도입': 119, '처리': 120, '기반': 121, '상황': 122, '인식': 123, '국채': 124, '지표': 125, '동월': 126, '생산자': 127, '식당': 128, '실시': 129, '급식': 130, '운영': 131, '참여': 132, '고용': 133, '확대': 134, '시간': 135, '온라인': 136, '실시간': 137, '문제': 138, '향후': 139, '규모': 140, '자동차': 141, '업계': 142, '공장': 143, '성장': 144, '신설': 145, '활용': 146, '전문': 147, '한편': 148, '사상': 149, '최대': 150, '가전': 151, '역대': 152, '지난해': 153, '최고': 154, '동기': 155, '최초': 156, '주가': 157, '매수': 158, '매니저': 159, '출연': 160, '선택': 161, '에너지': 162, '수혜': 163, '핵심': 164, '공식': 165, '확인': 166, '점유': 167, '최신': 168, '시기': 169, '정보': 170, '신호': 171, '환경': 172, '혁신': 173, '대응': 174, '프로세스': 175, '구축': 176, '의사': 177, '최근': 178, '주식': 179, '포인트': 180, '지난달': 181, '당시': 182, '점도표': 183, '외부': 184, '컬처': 185, '단체': 186, '메뉴': 187, '서비스': 188, '사업장': 189, '점검': 190, '진행': 191, '최종': 192, '동안': 193, '인수': 194, '관계자': 195, '회담': 196, '인사말': 197, '의견': 198, '회의': 199, '이유': 200, '논의': 201, '의회': 202, '합의': 203, '이뤄져야': 204, '사태': 205, '경제': 206, '위원회': 207, '테크놀로지': 208, '일자리': 209, '배정': 210, '생산': 211, '관측': 212, '확정': 213, '전담': 214, '상태': 215, '오후': 216, '앞서': 217, '집중': 218, '센터': 219, '비즈니스': 220, '본부': 221, '마련': 222, '지분': 223, '통합': 224, '조직': 225, '본격': 226, '속도': 227, '협업': 228, '조억': 229, '프리미엄': 230, '견인': 231, '원대': 232, '한파': 233, '휴대폰': 234, '가량': 235, '추정': 236, '반면': 237, '해당': 238, '구독': 239, '영상': 240, '등장': 241, '주목': 242, '친환경': 243, '기간': 244, '채널': 245, '유일': 246, '가중': 247, '이동': 248, '통업': 249, '위치': 250, '단말': 251, '단말기': 252, '모델': 253, '비해': 254, '배합': 255, '지원금': 256, '제공': 257, '일시': 258, '사실': 259, '상반기': 260, '류경': 261, '포스': 262, '학교': 263, '연구비': 264, '머신': 265, '러닝': 266, '학습': 267, '생겨': 268, '크라운': 269, '에테르': 270, '분자': 271, '물질': 272, '해독': 273, '양자': 274, '광원': 275, '수행': 276, '접촉': 277, '생체': 278, '측정': 279, '발생': 280, '지정': 281, '자원': 282, '관리': 283, '변화': 284, '법인': 285, '적용': 286, '내년': 287, '대용량': 288, '문자': 289, '자동': 290, '전체': 291, '중요': 292, '사이': 293, '회복': 294, '종목': 295, '전문가': 296, '금융': 297, '연방': 298, '내용': 299, '센서스': 300, '증권사': 301, '나온다면': 302, '상승세': 303, '개선': 304, '행정부': 305, '실업': 306, '회복세': 307, '완화': 308, '축소': 309, '조기': 310, '의장': 311}\n",
            "{'발표': 5, '전망': 6, '전자': 7, '반도체': 8, '분기': 9, '실적': 10, '지원': 11, '영업': 12, '기술': 13, '분야': 14, '인프라': 15, '연구': 16, '로봇': 17, '펀드': 18, '교수': 19, '금리': 20, '기업': 21, '과제': 22, '시스템': 23, '물가': 24, '통해': 25, '미래': 26, '소비자': 27, '대비': 28, '부문': 29, '제조사': 30, '상승': 31, '가능': 32, '경기': 33, '업무': 34, '기록': 35, '판매': 36, '지수': 37, '선정': 38, '계획': 39, '현지': 40, '세계': 41, '올해': 42, '이익': 43, '전년': 44, '기준': 45, '증권': 46, '연구원': 47, '경쟁': 48, '공개': 49, '결정': 50, '설명': 51, '이날': 52, '관련': 53, '증가': 54, '수준': 55, '예상': 56, '영향': 57, '필요': 58, '대학교': 59, '과학': 60, '증시': 61, '의사록': 62, '인상': 63, '업체': 64, '입찰': 65, '향상': 66, '임직원': 67, '이번': 68, '공급': 69, '예정': 70, '대통령': 71, '백악관': 72, '부족': 73, '개발': 74, '스타': 75, '철수': 76, '전기': 77, '플랫': 78, '매출': 79, '잠정': 80, '하락': 81, '순매도': 82, '개인': 83, '이벤트': 84, '통사': 85, '위해': 86, '경영': 87, '데이터': 88, '시각': 89, '위원': 90, '사내': 91, '대해': 92, '푸드': 93, '강화': 94, '참석': 95, '산업': 96, '국가': 97, '포함': 98, '글로벌': 99, '해결': 100, '과거': 101, '조원': 102, '분석': 103, '외국인': 104, '기관': 105, '통신': 106, '우려': 107, '따라': 108, '가격': 109, '장려금': 110, '사용': 111, '육성': 112, '기초': 113, '소재': 114, '효과': 115, '화학': 116, '효율': 117, '비지니스': 118, '도입': 119, '처리': 120, '기반': 121, '상황': 122, '인식': 123, '국채': 124, '지표': 125, '동월': 126, '생산자': 127, '식당': 128, '실시': 129, '급식': 130, '운영': 131, '참여': 132, '고용': 133, '확대': 134, '시간': 135, '온라인': 136, '실시간': 137, '문제': 138, '향후': 139, '규모': 140, '자동차': 141, '업계': 142, '공장': 143, '성장': 144, '신설': 145, '활용': 146, '전문': 147, '한편': 148, '사상': 149, '최대': 150, '가전': 151, '역대': 152, '지난해': 153, '최고': 154, '동기': 155, '최초': 156, '주가': 157, '매수': 158, '매니저': 159, '출연': 160, '선택': 161, '에너지': 162, '수혜': 163, '핵심': 164, '공식': 165, '확인': 166, '점유': 167, '최신': 168, '시기': 169, '정보': 170, '신호': 171, '환경': 172, '혁신': 173, '대응': 174, '프로세스': 175, '구축': 176, '의사': 177, '최근': 178, '주식': 179, '포인트': 180, '지난달': 181, '당시': 182, '점도표': 183, '외부': 184, '컬처': 185, '단체': 186, '메뉴': 187, '서비스': 188, '사업장': 189, '점검': 190, '진행': 191, '최종': 192, '동안': 193, '인수': 194, '관계자': 195, '회담': 196, '인사말': 197, '의견': 198, '회의': 199, '이유': 200, '논의': 201, '의회': 202, '합의': 203, '이뤄져야': 204, '사태': 205, '경제': 206, '위원회': 207, '테크놀로지': 208, '일자리': 209, '배정': 210, '생산': 211, '관측': 212, '확정': 213, '전담': 214, '상태': 215, '오후': 216, '앞서': 217, '집중': 218, '센터': 219, '비즈니스': 220, '본부': 221, '마련': 222, '지분': 223, '통합': 224, '조직': 225, '본격': 226, '속도': 227, '협업': 228, '조억': 229, '프리미엄': 230, '견인': 231, '원대': 232, '한파': 233, '휴대폰': 234, '가량': 235, '추정': 236, '반면': 237, '해당': 238, '구독': 239, '영상': 240, '등장': 241, '주목': 242, '친환경': 243, '기간': 244, '채널': 245, '유일': 246, '가중': 247, '이동': 248, '통업': 249, '위치': 250, '단말': 251, '단말기': 252, '모델': 253, '비해': 254, '배합': 255, '지원금': 256, '제공': 257, '일시': 258, '사실': 259, '상반기': 260, '류경': 261, '포스': 262, '학교': 263, '연구비': 264, '머신': 265, '러닝': 266, '학습': 267, '생겨': 268, '크라운': 269, '에테르': 270, '분자': 271, '물질': 272, '해독': 273, '양자': 274, '광원': 275, '수행': 276, '접촉': 277, '생체': 278, '측정': 279, '발생': 280, '지정': 281, '자원': 282, '관리': 283, '변화': 284, '법인': 285, '적용': 286, '내년': 287, '대용량': 288, '문자': 289, '자동': 290, '전체': 291, '중요': 292, '사이': 293, '회복': 294, '종목': 295, '전문가': 296, '금융': 297, '연방': 298, '내용': 299, '센서스': 300, '증권사': 301, '나온다면': 302, '상승세': 303, '개선': 304, '행정부': 305, '실업': 306, '회복세': 307, '완화': 308, '축소': 309, '조기': 310, '의장': 311}\n",
            "{'발표': 5, '전망': 6, '전자': 7, '반도체': 8, '분기': 9, '실적': 10, '지원': 11, '영업': 12, '기술': 13, '분야': 14, '인프라': 15, '연구': 16, '로봇': 17, '펀드': 18, '교수': 19, '금리': 20, '기업': 21, '과제': 22, '시스템': 23, '물가': 24, '통해': 25, '미래': 26, '소비자': 27, '대비': 28, '부문': 29, '제조사': 30, '상승': 31, '가능': 32, '경기': 33, '업무': 34, '기록': 35, '판매': 36, '지수': 37, '선정': 38, '계획': 39, '현지': 40, '세계': 41, '올해': 42, '이익': 43, '전년': 44, '기준': 45, '증권': 46, '연구원': 47, '경쟁': 48, '공개': 49, '결정': 50, '설명': 51, '이날': 52, '관련': 53, '증가': 54, '수준': 55, '예상': 56, '영향': 57, '필요': 58, '대학교': 59, '과학': 60, '증시': 61, '의사록': 62, '인상': 63, '업체': 64, '입찰': 65, '향상': 66, '임직원': 67, '이번': 68, '공급': 69, '예정': 70, '대통령': 71, '백악관': 72, '부족': 73, '개발': 74, '스타': 75, '철수': 76, '전기': 77, '플랫': 78, '매출': 79, '잠정': 80, '하락': 81, '순매도': 82, '개인': 83, '이벤트': 84, '통사': 85, '위해': 86, '경영': 87, '데이터': 88, '시각': 89, '위원': 90, '사내': 91, '대해': 92, '푸드': 93, '강화': 94, '참석': 95, '산업': 96, '국가': 97, '포함': 98, '글로벌': 99, '해결': 100, '과거': 101, '조원': 102, '분석': 103, '외국인': 104, '기관': 105, '통신': 106, '우려': 107, '따라': 108, '가격': 109, '장려금': 110, '사용': 111, '육성': 112, '기초': 113, '소재': 114, '효과': 115, '화학': 116, '효율': 117, '비지니스': 118, '도입': 119, '처리': 120, '기반': 121, '상황': 122, '인식': 123, '국채': 124, '지표': 125, '동월': 126, '생산자': 127, '식당': 128, '실시': 129, '급식': 130, '운영': 131, '참여': 132, '고용': 133, '확대': 134, '시간': 135, '온라인': 136, '실시간': 137, '문제': 138, '향후': 139, '규모': 140, '자동차': 141, '업계': 142, '공장': 143, '성장': 144, '신설': 145, '활용': 146, '전문': 147, '한편': 148, '사상': 149, '최대': 150, '가전': 151, '역대': 152, '지난해': 153, '최고': 154, '동기': 155, '최초': 156, '주가': 157, '매수': 158, '매니저': 159, '출연': 160, '선택': 161, '에너지': 162, '수혜': 163, '핵심': 164, '공식': 165, '확인': 166, '점유': 167, '최신': 168, '시기': 169, '정보': 170, '신호': 171, '환경': 172, '혁신': 173, '대응': 174, '프로세스': 175, '구축': 176, '의사': 177, '최근': 178, '주식': 179, '포인트': 180, '지난달': 181, '당시': 182, '점도표': 183, '외부': 184, '컬처': 185, '단체': 186, '메뉴': 187, '서비스': 188, '사업장': 189, '점검': 190, '진행': 191, '최종': 192, '동안': 193, '인수': 194, '관계자': 195, '회담': 196, '인사말': 197, '의견': 198, '회의': 199, '이유': 200, '논의': 201, '의회': 202, '합의': 203, '이뤄져야': 204, '사태': 205, '경제': 206, '위원회': 207, '테크놀로지': 208, '일자리': 209, '배정': 210, '생산': 211, '관측': 212, '확정': 213, '전담': 214, '상태': 215, '오후': 216, '앞서': 217, '집중': 218, '센터': 219, '비즈니스': 220, '본부': 221, '마련': 222, '지분': 223, '통합': 224, '조직': 225, '본격': 226, '속도': 227, '협업': 228, '조억': 229, '프리미엄': 230, '견인': 231, '원대': 232, '한파': 233, '휴대폰': 234, '가량': 235, '추정': 236, '반면': 237, '해당': 238, '구독': 239, '영상': 240, '등장': 241, '주목': 242, '친환경': 243, '기간': 244, '채널': 245, '유일': 246, '가중': 247, '이동': 248, '통업': 249, '위치': 250, '단말': 251, '단말기': 252, '모델': 253, '비해': 254, '배합': 255, '지원금': 256, '제공': 257, '일시': 258, '사실': 259, '상반기': 260, '류경': 261, '포스': 262, '학교': 263, '연구비': 264, '머신': 265, '러닝': 266, '학습': 267, '생겨': 268, '크라운': 269, '에테르': 270, '분자': 271, '물질': 272, '해독': 273, '양자': 274, '광원': 275, '수행': 276, '접촉': 277, '생체': 278, '측정': 279, '발생': 280, '지정': 281, '자원': 282, '관리': 283, '변화': 284, '법인': 285, '적용': 286, '내년': 287, '대용량': 288, '문자': 289, '자동': 290, '전체': 291, '중요': 292, '사이': 293, '회복': 294, '종목': 295, '전문가': 296, '금융': 297, '연방': 298, '내용': 299, '센서스': 300, '증권사': 301, '나온다면': 302, '상승세': 303, '개선': 304, '행정부': 305, '실업': 306, '회복세': 307, '완화': 308, '축소': 309, '조기': 310, '의장': 311, 'OOV': 308}\n",
            "308\n"
          ],
          "name": "stdout"
        }
      ]
    },
    {
      "cell_type": "markdown",
      "metadata": {
        "id": "_fylDLXIm4us"
      },
      "source": [
        "# 덱스트 정제 using Tokenizer\n",
        "    위의 텍스트 정제 `1) ~ 4)` 과정은 동일"
      ]
    },
    {
      "cell_type": "code",
      "metadata": {
        "colab": {
          "base_uri": "https://localhost:8080/"
        },
        "id": "wjAUxrUQVzpR",
        "outputId": "e1b0709d-be4c-4c90-b105-b4df41328ad1"
      },
      "source": [
        "token = Tokenizer()             # tokenizer 생성\n",
        "token.fit_on_texts(X_ts_)       # 토큰화\n",
        "print(token.word_index)         # 단어사전"
      ],
      "execution_count": 77,
      "outputs": [
        {
          "output_type": "stream",
          "text": [
            "{'투자': 1, '시장': 2, '사업': 3, '국내': 4, '발표': 5, '전망': 6, '전자': 7, '반도체': 8, '분기': 9, '실적': 10, '지원': 11, '영업': 12, '기술': 13, '분야': 14, '인프라': 15, '연구': 16, '로봇': 17, '펀드': 18, '교수': 19, '금리': 20, '기업': 21, '과제': 22, '시스템': 23, '물가': 24, '통해': 25, '미래': 26, '소비자': 27, '대비': 28, '부문': 29, '제조사': 30, '상승': 31, '가능': 32, '경기': 33, '업무': 34, '기록': 35, '판매': 36, '지수': 37, '선정': 38, '계획': 39, '현지': 40, '세계': 41, '올해': 42, '이익': 43, '전년': 44, '기준': 45, '증권': 46, '연구원': 47, '경쟁': 48, '공개': 49, '결정': 50, '설명': 51, '이날': 52, '관련': 53, '증가': 54, '수준': 55, '예상': 56, '영향': 57, '필요': 58, '대학교': 59, '과학': 60, '증시': 61, '의사록': 62, '인상': 63, '업체': 64, '입찰': 65, '향상': 66, '임직원': 67, '이번': 68, '공급': 69, '예정': 70, '대통령': 71, '백악관': 72, '부족': 73, '개발': 74, '스타': 75, '철수': 76, '전기': 77, '플랫': 78, '매출': 79, '잠정': 80, '하락': 81, '순매도': 82, '개인': 83, '이벤트': 84, '통사': 85, '위해': 86, '경영': 87, '데이터': 88, '시각': 89, '위원': 90, '사내': 91, '대해': 92, '푸드': 93, '강화': 94, '참석': 95, '산업': 96, '국가': 97, '포함': 98, '글로벌': 99, '해결': 100, '과거': 101, '조원': 102, '분석': 103, '외국인': 104, '기관': 105, '통신': 106, '우려': 107, '따라': 108, '가격': 109, '장려금': 110, '사용': 111, '육성': 112, '기초': 113, '소재': 114, '효과': 115, '화학': 116, '효율': 117, '비지니스': 118, '도입': 119, '처리': 120, '기반': 121, '상황': 122, '인식': 123, '국채': 124, '지표': 125, '동월': 126, '생산자': 127, '식당': 128, '실시': 129, '급식': 130, '운영': 131, '참여': 132, '고용': 133, '확대': 134, '시간': 135, '온라인': 136, '실시간': 137, '문제': 138, '향후': 139, '규모': 140, '자동차': 141, '업계': 142, '공장': 143, '성장': 144, '신설': 145, '활용': 146, '전문': 147, '한편': 148, '사상': 149, '최대': 150, '가전': 151, '역대': 152, '지난해': 153, '최고': 154, '동기': 155, '최초': 156, '주가': 157, '매수': 158, '매니저': 159, '출연': 160, '선택': 161, '에너지': 162, '수혜': 163, '핵심': 164, '공식': 165, '확인': 166, '점유': 167, '최신': 168, '시기': 169, '정보': 170, '신호': 171, '환경': 172, '혁신': 173, '대응': 174, '프로세스': 175, '구축': 176, '의사': 177, '최근': 178, '주식': 179, '포인트': 180, '지난달': 181, '당시': 182, '점도표': 183, '외부': 184, '컬처': 185, '단체': 186, '메뉴': 187, '서비스': 188, '사업장': 189, '점검': 190, '진행': 191, '최종': 192, '동안': 193, '인수': 194, '관계자': 195, '회담': 196, '인사말': 197, '의견': 198, '회의': 199, '이유': 200, '논의': 201, '의회': 202, '합의': 203, '이뤄져야': 204, '사태': 205, '경제': 206, '위원회': 207, '테크놀로지': 208, '일자리': 209, '배정': 210, '생산': 211, '관측': 212, '확정': 213, '전담': 214, '상태': 215, '오후': 216, '앞서': 217, '집중': 218, '센터': 219, '비즈니스': 220, '본부': 221, '마련': 222, '지분': 223, '통합': 224, '조직': 225, '본격': 226, '속도': 227, '협업': 228, '조억': 229, '프리미엄': 230, '견인': 231, '원대': 232, '한파': 233, '휴대폰': 234, '가량': 235, '추정': 236, '반면': 237, '해당': 238, '구독': 239, '영상': 240, '등장': 241, '주목': 242, '친환경': 243, '기간': 244, '채널': 245, '유일': 246, '가중': 247, '이동': 248, '통업': 249, '위치': 250, '단말': 251, '단말기': 252, '모델': 253, '비해': 254, '배합': 255, '지원금': 256, '제공': 257, '일시': 258, '사실': 259, '상반기': 260, '류경': 261, '포스': 262, '학교': 263, '연구비': 264, '머신': 265, '러닝': 266, '학습': 267, '생겨': 268, '크라운': 269, '에테르': 270, '분자': 271, '물질': 272, '해독': 273, '양자': 274, '광원': 275, '수행': 276, '접촉': 277, '생체': 278, '측정': 279, '발생': 280, '지정': 281, '자원': 282, '관리': 283, '변화': 284, '법인': 285, '적용': 286, '내년': 287, '대용량': 288, '문자': 289, '자동': 290, '전체': 291, '중요': 292, '사이': 293, '회복': 294, '종목': 295, '전문가': 296, '금융': 297, '연방': 298, '내용': 299, '센서스': 300, '증권사': 301, '나온다면': 302, '상승세': 303, '개선': 304, '행정부': 305, '실업': 306, '회복세': 307, '완화': 308, '축소': 309, '조기': 310, '의장': 311, '다양': 312, '복리': 313, '후생': 314, '기흥': 315, '공고': 316, '서류': 317, '심사': 318, '거쳐': 319, '구성': 320, '평가': 321, '프레젠테이션': 322, '위생': 323, '현장': 324, '실사': 325, '음식': 326, '품평회': 327, '단계': 328, '공정': 329, '절차': 330, '기존': 331, '스토리': 332, '배제': 333, '승계': 334, '시작': 335, '신규': 336, '만족도': 337, '보완': 338, '검토': 339, '대해서': 340, '중계': 341, '불러': 342, '가운데': 343, '대변인': 344, '정례': 345, '브리핑': 346, '지속': 347, '일부': 348, '협력': 349, '방지': 350, '차원': 351, '안보': 352, '보좌관': 353, '위원장': 354, '주재': 355, '해소': 356, '화상': 357, '합류': 358, '일정': 359, '초대': 360, '구글': 361, '모회사': 362, '알파벳': 363, '마이크': 364, '피스톤': 365, '그룹': 366, '워터': 367, '개사': 368, '부장': 369, '사장': 370, '지지': 371, '강조': 372, '이중': 373, '제안': 374, '실행': 375, '옮겨': 376, '단기': 377, '방안': 378, '모색': 379, '생산량': 380, '만대': 381, '방해': 382, '경고': 383, '주말': 384, '트럭': 385, '교대': 386, '근무': 387, '취소': 388, '동력': 389, '강세': 390, '완전': 391, '주력': 392, '거래일': 393, '거래': 394, '월부': 395, '먹거리': 396, '부품': 397, '공학': 398, '인공': 399, '지능': 400, '제기': 401, '설립': 402, '이관': 403, '역량': 404, '진출': 405, '교두보': 406, '제조': 407, '속력': 408, '부문장': 409, '직속': 410, '리서치': 411, '상용': 412, '읽힌다': 413, '이후': 414, '장기': 415, '부진': 416, '달성': 417, '당초': 418, '손실': 419, '무선': 420, '최대치': 421, '종전': 422, '생활': 423, '돌파': 424, '전날': 425, '하락세': 426, '미뤄': 427, '대신': 428, '차익': 429, '실현': 430, '매물': 431, '쏟아져': 432, '집계': 433, '증권가': 434, '치인': 435, '매출액': 436, '직전': 437, '베스트': 438, '운용': 439, '자사': 440, '업로드': 441, '퀴즈': 442, '설문': 443, '화면': 444, '제출': 445, '된다': 446, '각각': 447, '상품': 448, '장점': 449, '신재': 450, '슈퍼': 451, '사이클': 452, '국인': 453, '주요': 454, '중심': 455, '개국': 456, '소개': 457, '오늘': 458, '당첨자': 459, '추첨': 460, '성자': 461, '산운': 462, '미니': 463, '케이크': 464, '교환': 465, '증정': 466, '사항': 467, '구도': 468, '사업자': 469, '쏠림': 470, '현상': 471, '보인다': 472, '저하': 473, '부담': 474, '목소리': 475, '존재': 476, '이상': 477, '독점': 478, '제한': 479, '현실': 480, '중저가': 481, '선호도': 482, '선택지': 483, '단일': 484, '사와': 485, '협상력': 486, '우위': 487, '지급': 488, '경쟁사': 489, '자체': 490, '마케팅': 491, '비용': 492, '과정': 493, '요구': 494, '비율': 495, '감안': 496, '유인': 497, '제품': 498, '출시': 499, '맞춰': 500, '조사': 501, '구매': 502, '왼쪽': 503, '지금': 504, '독창': 505, '아이디어': 506, '성공': 507, '파급': 508, '기대': 509, '수리': 510, '공통점': 511, '수학': 512, '규명': 513, '도전': 514, '왕관': 515, '모양': 516, '촉매': 517, '변환': 518, '인해': 519, '생성': 520, '국소': 521, '전기장': 522, '온난화': 523, '원인': 524, '이산화': 525, '탄소': 526, '분해': 527, '난제': 528, '기여': 529, '인간': 530, '게놈': 531, '프로젝트': 532, '통해서': 533, '밝혀': 534, '염색체': 535, '서열': 536, '전공': 537, '경쟁력': 538, '컴퓨터': 539, '공학부': 540, '발전': 541, '침해': 542, '성별': 543, '편향': 544, '관계': 545, '오류': 546, '나선다': 547, '전산': 548, '학부': 549, '심전': 550, '뇌전도': 551, '방식': 552, '나라': 553, '목표': 554, '시행': 555, '공익사업': 556, '상하': 557, '반기': 558, '테마': 559, '공모': 560, '로고': 561, '차세대': 562, '전사': 563, '재무': 564, '투명': 565, '공유': 566, '복합': 567, '패키지': 568, '동서': 569, '순차': 570, '성능': 571, '아키텍처': 572, '광학': 573, '판독': 574, '특징': 575, '메모리': 576, '데이터베이스': 577, '하드웨어': 578, '병렬': 579, '연결': 580, '추가': 581, '급속': 582, '회사': 583, '이용': 584, '대량': 585, '주문': 586, '현황': 587, '시뮬레이션': 588, '합리': 589, '된다고': 590, '시켰': 591, '연계': 592, '이뤄지도록': 593, '신속': 594, '채팅': 595, '전무': 596, '선도': 597, '사례': 598, '디지털': 599, '받쳐': 600, '역할': 601, '지난주': 602, '최저치': 603, '악재': 604, '호재': 605, '혼재': 606, '초반': 607, '헤지': 608, '캐피털': 609, '매니지먼트': 610, '마진': 611, '심리': 612, '악화': 613, '기대감': 614, '반등': 615, '투자자': 616, '어치': 617, '보유': 618, '사진': 619, '주일': 620, '흐름': 621, '견조': 622, '등락': 623, '정상': 624, '채권': 625, '성장주': 626, '대형주': 627, '위주': 628, '매수세': 629, '긍정': 630, '이슈': 631, '장사': 632, '평균': 633, '만약': 634, '박스': 635, '상단': 636, '대훈': 637, '철강': 638, '민감': 639, '업종': 640, '수출': 641, '증가세': 642, '여파': 643, '볼지': 644, '관심사': 645, '자금': 646, '비중': 647, '다조': 648, '정책': 649, '본다': 650, '도로': 651, '세부': 652, '계획안': 653, '예산': 654, '전지': 655, '밸류': 656, '가치': 657, '향방': 658, '농업': 659, '정도': 660, '준비': 661, '제도': 662, '테이퍼': 663, '양호': 664, '근원': 665, '요인': 666, '사회': 667, '안정': 668, '견해': 669, '이사': 670, '총재': 671, '종료': 672, '구체': 673, '빠져': 674, '시중': 675, '괴리': 676, '입장': 677, '자운': 678}\n"
          ],
          "name": "stdout"
        }
      ]
    },
    {
      "cell_type": "code",
      "metadata": {
        "colab": {
          "base_uri": "https://localhost:8080/"
        },
        "id": "qiU6FbetXxY8",
        "outputId": "1627e2a8-b01d-45f5-947a-effac4880817"
      },
      "source": [
        "#> Before <#\n",
        "print(len(token.word_index)) # 단어 사전의 단어 갯수\n",
        "print(token.word_counts)\n",
        "print(token.word_counts.items()) # 단어 별 등장 횟수"
      ],
      "execution_count": 75,
      "outputs": [
        {
          "output_type": "stream",
          "text": [
            "678\n",
            "OrderedDict([('사내', 4), ('식당', 3), ('대해', 4), ('실시', 3), ('외부', 2), ('급식', 3), ('업체', 5), ('경쟁', 6), ('입찰', 5), ('푸드', 4), ('컬처', 2), ('운영', 3), ('선정', 7), ('단체', 2), ('다양', 1), ('메뉴', 2), ('향상', 5), ('서비스', 2), ('통해', 10), ('임직원', 5), ('복리', 1), ('후생', 1), ('사업장', 2), ('기흥', 1), ('공개', 6), ('공고', 1), ('참여', 3), ('이번', 5), ('서류', 1), ('심사', 1), ('거쳐', 1), ('구성', 1), ('평가', 1), ('프레젠테이션', 1), ('인프라', 12), ('위생', 1), ('점검', 2), ('현장', 1), ('실사', 1), ('음식', 1), ('품평회', 1), ('단계', 1), ('공정', 1), ('절차', 1), ('진행', 2), ('기존', 1), ('공급', 5), ('스토리', 1), ('배제', 1), ('최종', 2), ('동안', 2), ('고용', 3), ('승계', 1), ('업무', 8), ('인수', 2), ('시작', 1), ('예정', 5), ('관계자', 2), ('신규', 1), ('만족도', 1), ('보완', 1), ('검토', 1), ('대해서', 1), ('확대', 3), ('계획', 7), ('대통령', 5), ('현지', 7), ('시간', 3), ('반도체', 14), ('강화', 4), ('온라인', 3), ('회담', 2), ('참석', 4), ('인사말', 2), ('실시간', 3), ('중계', 1), ('백악관', 5), ('세계', 7), ('기업', 11), ('불러', 1), ('부족', 5), ('의견', 2), ('가운데', 1), ('결정', 6), ('발표', 16), ('대변인', 1), ('정례', 1), ('브리핑', 1), ('회의', 2), ('이유', 2), ('문제', 3), ('지속', 1), ('논의', 2), ('일부', 1), ('설명', 6), ('산업', 4), ('협력', 1), ('의회', 2), ('합의', 2), ('이뤄져야', 2), ('향후', 3), ('사태', 2), ('방지', 1), ('국가', 4), ('차원', 1), ('이날', 6), ('안보', 1), ('보좌관', 1), ('경제', 2), ('위원회', 2), ('위원장', 1), ('주재', 1), ('해소', 1), ('화상', 1), ('합류', 1), ('일정', 1), ('초대', 1), ('포함', 4), ('구글', 1), ('모회사', 1), ('알파벳', 1), ('테크놀로지', 2), ('글로벌', 4), ('마이크', 1), ('피스톤', 1), ('그룹', 1), ('워터', 1), ('개사', 1), ('사업', 17), ('부장', 1), ('사장', 1), ('해결', 4), ('지지', 1), ('규모', 3), ('연구', 12), ('개발', 5), ('관련', 6), ('일자리', 2), ('강조', 1), ('이중', 1), ('배정', 2), ('투자', 18), ('제안', 1), ('실행', 1), ('옮겨', 1), ('단기', 1), ('방안', 1), ('모색', 1), ('자동차', 3), ('업계', 3), ('올해', 7), ('생산량', 1), ('만대', 1), ('생산', 2), ('방해', 1), ('경고', 1), ('주말', 1), ('공장', 3), ('트럭', 1), ('교대', 1), ('근무', 1), ('취소', 1), ('미래', 10), ('성장', 3), ('동력', 1), ('전자', 15), ('관측', 2), ('스타', 5), ('강세', 1), ('완전', 1), ('철수', 5), ('확정', 2), ('로봇', 12), ('주력', 1), ('전담', 2), ('신설', 3), ('상태', 2), ('오후', 2), ('거래일', 1), ('대비', 9), ('거래', 1), ('앞서', 2), ('월부', 1), ('먹거리', 1), ('전기', 5), ('부품', 1), ('공학', 1), ('인공', 1), ('지능', 1), ('집중', 2), ('전망', 16), ('제기', 1), ('설립', 1), ('센터', 2), ('비즈니스', 2), ('본부', 2), ('이관', 1), ('영업', 13), ('역량', 1), ('활용', 3), ('시장', 18), ('진출', 1), ('교두보', 1), ('마련', 2), ('제조', 1), ('전문', 3), ('지분', 2), ('속력', 1), ('소비자', 10), ('부문장', 1), ('직속', 1), ('과거', 4), ('통합', 2), ('조직', 2), ('리서치', 1), ('부문', 9), ('상용', 1), ('본격', 2), ('속도', 2), ('읽힌다', 1), ('한편', 3), ('제조사', 9), ('이후', 1), ('협업', 2), ('플랫', 5), ('매출', 5), ('조억', 2), ('사상', 3), ('최대', 3), ('장기', 1), ('분기', 14), ('실적', 14), ('기록', 8), ('부진', 1), ('프리미엄', 2), ('가전', 3), ('역대', 3), ('견인', 2), ('조원', 4), ('이익', 7), ('달성', 1), ('지난해', 3), ('증가', 6), ('수준', 6), ('당초', 1), ('예상', 6), ('원대', 2), ('한파', 2), ('영향', 6), ('휴대폰', 2), ('분석', 4), ('가량', 2), ('손실', 1), ('추정', 2), ('무선', 1), ('잠정', 5), ('최대치', 1), ('최고', 3), ('전년', 7), ('동기', 3), ('종전', 1), ('생활', 1), ('최초', 3), ('돌파', 1), ('주가', 3), ('하락', 5), ('기준', 7), ('전날', 1), ('외국인', 4), ('매수', 3), ('반면', 2), ('기관', 4), ('순매도', 5), ('하락세', 1), ('미뤄', 1), ('개인', 5), ('대신', 1), ('증권', 7), ('연구원', 7), ('차익', 1), ('실현', 1), ('매물', 1), ('쏟아져', 1), ('집계', 1), ('증권가', 1), ('치인', 1), ('매출액', 1), ('직전', 1), ('해당', 2), ('베스트', 1), ('펀드', 12), ('운용', 1), ('매니저', 3), ('출연', 3), ('자사', 1), ('이벤트', 5), ('구독', 2), ('업로드', 1), ('영상', 2), ('등장', 2), ('주목', 2), ('선택', 3), ('퀴즈', 1), ('설문', 1), ('화면', 1), ('제출', 1), ('된다', 1), ('각각', 1), ('상품', 1), ('장점', 1), ('친환경', 2), ('신재', 1), ('에너지', 3), ('슈퍼', 1), ('사이클', 1), ('수혜', 3), ('국인', 1), ('주요', 1), ('중심', 1), ('핵심', 3), ('개국', 1), ('소개', 1), ('기간', 2), ('오늘', 1), ('당첨자', 1), ('추첨', 1), ('성자', 1), ('산운', 1), ('공식', 3), ('채널', 2), ('미니', 1), ('케이크', 1), ('교환', 1), ('증정', 1), ('사항', 1), ('확인', 3), ('국내', 17), ('구도', 1), ('점유', 3), ('유일', 2), ('사업자', 1), ('쏠림', 1), ('현상', 1), ('가중', 2), ('보인다', 1), ('이동', 2), ('통신', 4), ('저하', 1), ('부담', 1), ('우려', 4), ('목소리', 1), ('통업', 2), ('통사', 5), ('판매', 8), ('존재', 1), ('이상', 1), ('독점', 1), ('위치', 2), ('제한', 1), ('현실', 1), ('중저가', 1), ('단말', 2), ('선호도', 1), ('따라', 4), ('선택지', 1), ('단일', 1), ('사와', 1), ('협상력', 1), ('우위', 1), ('단말기', 2), ('가격', 4), ('상승', 9), ('장려금', 4), ('지급', 1), ('최신', 3), ('경쟁사', 1), ('모델', 2), ('비해', 2), ('자체', 1), ('마케팅', 1), ('비용', 1), ('배합', 2), ('지원금', 2), ('제공', 2), ('과정', 1), ('요구', 1), ('비율', 1), ('감안', 1), ('사용', 4), ('유인', 1), ('제품', 1), ('출시', 1), ('시기', 3), ('맞춰', 1), ('필요', 6), ('일시', 2), ('조사', 1), ('구매', 1), ('가능', 9), ('사실', 2), ('상반기', 2), ('기술', 13), ('육성', 4), ('지원', 14), ('과제', 11), ('왼쪽', 1), ('대학교', 6), ('류경', 2), ('교수', 12), ('포스', 2), ('학교', 2), ('기초', 4), ('과학', 6), ('분야', 13), ('소재', 4), ('정보', 3), ('연구비', 2), ('지금', 1), ('독창', 1), ('아이디어', 1), ('성공', 1), ('파급', 1), ('효과', 4), ('기대', 1), ('수리', 1), ('머신', 2), ('러닝', 2), ('학습', 2), ('공통점', 1), ('수학', 1), ('규명', 1), ('도전', 1), ('화학', 4), ('왕관', 1), ('모양', 1), ('생겨', 2), ('크라운', 2), ('에테르', 2), ('분자', 2), ('촉매', 1), ('물질', 2), ('변환', 1), ('효율', 4), ('인해', 1), ('생성', 1), ('국소', 1), ('전기장', 1), ('온난화', 1), ('원인', 1), ('이산화', 1), ('탄소', 1), ('분해', 1), ('난제', 1), ('기여', 1), ('해독', 2), ('양자', 2), ('광원', 2), ('인간', 1), ('게놈', 1), ('프로젝트', 1), ('통해서', 1), ('밝혀', 1), ('염색체', 1), ('서열', 1), ('수행', 2), ('전공', 1), ('접촉', 2), ('생체', 2), ('신호', 3), ('측정', 2), ('경쟁력', 1), ('컴퓨터', 1), ('공학부', 1), ('발전', 1), ('발생', 2), ('침해', 1), ('성별', 1), ('편향', 1), ('관계', 1), ('오류', 1), ('위해', 5), ('나선다', 1), ('전산', 1), ('학부', 1), ('심전', 1), ('뇌전도', 1), ('방식', 1), ('나라', 1), ('목표', 1), ('시행', 1), ('공익사업', 1), ('상하', 1), ('반기', 1), ('지정', 2), ('테마', 1), ('공모', 1), ('비지니스', 4), ('로고', 1), ('차세대', 1), ('전사', 1), ('자원', 2), ('관리', 2), ('시스템', 11), ('도입', 4), ('재무', 1), ('경영', 5), ('투명', 1), ('공유', 1), ('처리', 4), ('복합', 1), ('환경', 3), ('변화', 2), ('혁신', 3), ('패키지', 1), ('기반', 4), ('동서', 1), ('법인', 2), ('적용', 2), ('내년', 2), ('순차', 1), ('대용량', 2), ('데이터', 5), ('성능', 1), ('대응', 3), ('아키텍처', 1), ('프로세스', 3), ('구축', 3), ('의사', 3), ('광학', 1), ('문자', 2), ('판독', 1), ('자동', 2), ('특징', 1), ('메모리', 1), ('데이터베이스', 1), ('하드웨어', 1), ('병렬', 1), ('연결', 1), ('추가', 1), ('급속', 1), ('회사', 1), ('이용', 1), ('최근', 3), ('대량', 1), ('주문', 1), ('현황', 1), ('전체', 2), ('상황', 4), ('시뮬레이션', 1), ('합리', 1), ('된다고', 1), ('시켰', 1), ('연계', 1), ('이뤄지도록', 1), ('신속', 1), ('인식', 4), ('채팅', 1), ('전무', 1), ('선도', 1), ('사례', 1), ('디지털', 1), ('받쳐', 1), ('중요', 2), ('역할', 1), ('지난주', 1), ('지수', 8), ('최저치', 1), ('사이', 2), ('증시', 6), ('악재', 1), ('호재', 1), ('혼재', 1), ('초반', 1), ('헤지', 1), ('캐피털', 1), ('매니지먼트', 1), ('마진', 1), ('주식', 3), ('심리', 1), ('악화', 1), ('경기', 9), ('회복', 2), ('기대감', 1), ('반등', 1), ('투자자', 1), ('어치', 1), ('종목', 2), ('보유', 1), ('사진', 1), ('전문가', 2), ('주일', 1), ('흐름', 1), ('견조', 1), ('포인트', 3), ('등락', 1), ('금융', 2), ('국채', 4), ('금리', 12), ('정상', 1), ('채권', 1), ('성장주', 1), ('대형주', 1), ('위주', 1), ('매수세', 1), ('긍정', 1), ('이슈', 1), ('물가', 11), ('지표', 4), ('연방', 2), ('의사록', 6), ('내용', 2), ('장사', 1), ('센서스', 2), ('증권사', 2), ('평균', 1), ('만약', 1), ('나온다면', 2), ('박스', 1), ('상단', 1), ('상승세', 2), ('개선', 2), ('대훈', 1), ('철강', 1), ('민감', 1), ('업종', 1), ('수출', 1), ('증가세', 1), ('행정부', 2), ('여파', 1), ('볼지', 1), ('관심사', 1), ('지난달', 3), ('시각', 5), ('자금', 1), ('비중', 1), ('다조', 1), ('정책', 1), ('본다', 1), ('도로', 1), ('세부', 1), ('계획안', 1), ('예산', 1), ('전지', 1), ('밸류', 1), ('가치', 1), ('향방', 1), ('농업', 1), ('동월', 4), ('실업', 2), ('생산자', 4), ('정도', 1), ('준비', 1), ('제도', 1), ('회복세', 2), ('완화', 2), ('축소', 2), ('테이퍼', 1), ('양호', 1), ('조기', 2), ('인상', 6), ('근원', 1), ('요인', 1), ('당시', 3), ('사회', 1), ('의장', 2), ('안정', 1), ('견해', 1), ('점도표', 3), ('이사', 1), ('총재', 1), ('위원', 5), ('종료', 1), ('구체', 1), ('빠져', 1), ('시중', 1), ('괴리', 1), ('입장', 1), ('자운', 1)])\n",
            "odict_items([('사내', 4), ('식당', 3), ('대해', 4), ('실시', 3), ('외부', 2), ('급식', 3), ('업체', 5), ('경쟁', 6), ('입찰', 5), ('푸드', 4), ('컬처', 2), ('운영', 3), ('선정', 7), ('단체', 2), ('다양', 1), ('메뉴', 2), ('향상', 5), ('서비스', 2), ('통해', 10), ('임직원', 5), ('복리', 1), ('후생', 1), ('사업장', 2), ('기흥', 1), ('공개', 6), ('공고', 1), ('참여', 3), ('이번', 5), ('서류', 1), ('심사', 1), ('거쳐', 1), ('구성', 1), ('평가', 1), ('프레젠테이션', 1), ('인프라', 12), ('위생', 1), ('점검', 2), ('현장', 1), ('실사', 1), ('음식', 1), ('품평회', 1), ('단계', 1), ('공정', 1), ('절차', 1), ('진행', 2), ('기존', 1), ('공급', 5), ('스토리', 1), ('배제', 1), ('최종', 2), ('동안', 2), ('고용', 3), ('승계', 1), ('업무', 8), ('인수', 2), ('시작', 1), ('예정', 5), ('관계자', 2), ('신규', 1), ('만족도', 1), ('보완', 1), ('검토', 1), ('대해서', 1), ('확대', 3), ('계획', 7), ('대통령', 5), ('현지', 7), ('시간', 3), ('반도체', 14), ('강화', 4), ('온라인', 3), ('회담', 2), ('참석', 4), ('인사말', 2), ('실시간', 3), ('중계', 1), ('백악관', 5), ('세계', 7), ('기업', 11), ('불러', 1), ('부족', 5), ('의견', 2), ('가운데', 1), ('결정', 6), ('발표', 16), ('대변인', 1), ('정례', 1), ('브리핑', 1), ('회의', 2), ('이유', 2), ('문제', 3), ('지속', 1), ('논의', 2), ('일부', 1), ('설명', 6), ('산업', 4), ('협력', 1), ('의회', 2), ('합의', 2), ('이뤄져야', 2), ('향후', 3), ('사태', 2), ('방지', 1), ('국가', 4), ('차원', 1), ('이날', 6), ('안보', 1), ('보좌관', 1), ('경제', 2), ('위원회', 2), ('위원장', 1), ('주재', 1), ('해소', 1), ('화상', 1), ('합류', 1), ('일정', 1), ('초대', 1), ('포함', 4), ('구글', 1), ('모회사', 1), ('알파벳', 1), ('테크놀로지', 2), ('글로벌', 4), ('마이크', 1), ('피스톤', 1), ('그룹', 1), ('워터', 1), ('개사', 1), ('사업', 17), ('부장', 1), ('사장', 1), ('해결', 4), ('지지', 1), ('규모', 3), ('연구', 12), ('개발', 5), ('관련', 6), ('일자리', 2), ('강조', 1), ('이중', 1), ('배정', 2), ('투자', 18), ('제안', 1), ('실행', 1), ('옮겨', 1), ('단기', 1), ('방안', 1), ('모색', 1), ('자동차', 3), ('업계', 3), ('올해', 7), ('생산량', 1), ('만대', 1), ('생산', 2), ('방해', 1), ('경고', 1), ('주말', 1), ('공장', 3), ('트럭', 1), ('교대', 1), ('근무', 1), ('취소', 1), ('미래', 10), ('성장', 3), ('동력', 1), ('전자', 15), ('관측', 2), ('스타', 5), ('강세', 1), ('완전', 1), ('철수', 5), ('확정', 2), ('로봇', 12), ('주력', 1), ('전담', 2), ('신설', 3), ('상태', 2), ('오후', 2), ('거래일', 1), ('대비', 9), ('거래', 1), ('앞서', 2), ('월부', 1), ('먹거리', 1), ('전기', 5), ('부품', 1), ('공학', 1), ('인공', 1), ('지능', 1), ('집중', 2), ('전망', 16), ('제기', 1), ('설립', 1), ('센터', 2), ('비즈니스', 2), ('본부', 2), ('이관', 1), ('영업', 13), ('역량', 1), ('활용', 3), ('시장', 18), ('진출', 1), ('교두보', 1), ('마련', 2), ('제조', 1), ('전문', 3), ('지분', 2), ('속력', 1), ('소비자', 10), ('부문장', 1), ('직속', 1), ('과거', 4), ('통합', 2), ('조직', 2), ('리서치', 1), ('부문', 9), ('상용', 1), ('본격', 2), ('속도', 2), ('읽힌다', 1), ('한편', 3), ('제조사', 9), ('이후', 1), ('협업', 2), ('플랫', 5), ('매출', 5), ('조억', 2), ('사상', 3), ('최대', 3), ('장기', 1), ('분기', 14), ('실적', 14), ('기록', 8), ('부진', 1), ('프리미엄', 2), ('가전', 3), ('역대', 3), ('견인', 2), ('조원', 4), ('이익', 7), ('달성', 1), ('지난해', 3), ('증가', 6), ('수준', 6), ('당초', 1), ('예상', 6), ('원대', 2), ('한파', 2), ('영향', 6), ('휴대폰', 2), ('분석', 4), ('가량', 2), ('손실', 1), ('추정', 2), ('무선', 1), ('잠정', 5), ('최대치', 1), ('최고', 3), ('전년', 7), ('동기', 3), ('종전', 1), ('생활', 1), ('최초', 3), ('돌파', 1), ('주가', 3), ('하락', 5), ('기준', 7), ('전날', 1), ('외국인', 4), ('매수', 3), ('반면', 2), ('기관', 4), ('순매도', 5), ('하락세', 1), ('미뤄', 1), ('개인', 5), ('대신', 1), ('증권', 7), ('연구원', 7), ('차익', 1), ('실현', 1), ('매물', 1), ('쏟아져', 1), ('집계', 1), ('증권가', 1), ('치인', 1), ('매출액', 1), ('직전', 1), ('해당', 2), ('베스트', 1), ('펀드', 12), ('운용', 1), ('매니저', 3), ('출연', 3), ('자사', 1), ('이벤트', 5), ('구독', 2), ('업로드', 1), ('영상', 2), ('등장', 2), ('주목', 2), ('선택', 3), ('퀴즈', 1), ('설문', 1), ('화면', 1), ('제출', 1), ('된다', 1), ('각각', 1), ('상품', 1), ('장점', 1), ('친환경', 2), ('신재', 1), ('에너지', 3), ('슈퍼', 1), ('사이클', 1), ('수혜', 3), ('국인', 1), ('주요', 1), ('중심', 1), ('핵심', 3), ('개국', 1), ('소개', 1), ('기간', 2), ('오늘', 1), ('당첨자', 1), ('추첨', 1), ('성자', 1), ('산운', 1), ('공식', 3), ('채널', 2), ('미니', 1), ('케이크', 1), ('교환', 1), ('증정', 1), ('사항', 1), ('확인', 3), ('국내', 17), ('구도', 1), ('점유', 3), ('유일', 2), ('사업자', 1), ('쏠림', 1), ('현상', 1), ('가중', 2), ('보인다', 1), ('이동', 2), ('통신', 4), ('저하', 1), ('부담', 1), ('우려', 4), ('목소리', 1), ('통업', 2), ('통사', 5), ('판매', 8), ('존재', 1), ('이상', 1), ('독점', 1), ('위치', 2), ('제한', 1), ('현실', 1), ('중저가', 1), ('단말', 2), ('선호도', 1), ('따라', 4), ('선택지', 1), ('단일', 1), ('사와', 1), ('협상력', 1), ('우위', 1), ('단말기', 2), ('가격', 4), ('상승', 9), ('장려금', 4), ('지급', 1), ('최신', 3), ('경쟁사', 1), ('모델', 2), ('비해', 2), ('자체', 1), ('마케팅', 1), ('비용', 1), ('배합', 2), ('지원금', 2), ('제공', 2), ('과정', 1), ('요구', 1), ('비율', 1), ('감안', 1), ('사용', 4), ('유인', 1), ('제품', 1), ('출시', 1), ('시기', 3), ('맞춰', 1), ('필요', 6), ('일시', 2), ('조사', 1), ('구매', 1), ('가능', 9), ('사실', 2), ('상반기', 2), ('기술', 13), ('육성', 4), ('지원', 14), ('과제', 11), ('왼쪽', 1), ('대학교', 6), ('류경', 2), ('교수', 12), ('포스', 2), ('학교', 2), ('기초', 4), ('과학', 6), ('분야', 13), ('소재', 4), ('정보', 3), ('연구비', 2), ('지금', 1), ('독창', 1), ('아이디어', 1), ('성공', 1), ('파급', 1), ('효과', 4), ('기대', 1), ('수리', 1), ('머신', 2), ('러닝', 2), ('학습', 2), ('공통점', 1), ('수학', 1), ('규명', 1), ('도전', 1), ('화학', 4), ('왕관', 1), ('모양', 1), ('생겨', 2), ('크라운', 2), ('에테르', 2), ('분자', 2), ('촉매', 1), ('물질', 2), ('변환', 1), ('효율', 4), ('인해', 1), ('생성', 1), ('국소', 1), ('전기장', 1), ('온난화', 1), ('원인', 1), ('이산화', 1), ('탄소', 1), ('분해', 1), ('난제', 1), ('기여', 1), ('해독', 2), ('양자', 2), ('광원', 2), ('인간', 1), ('게놈', 1), ('프로젝트', 1), ('통해서', 1), ('밝혀', 1), ('염색체', 1), ('서열', 1), ('수행', 2), ('전공', 1), ('접촉', 2), ('생체', 2), ('신호', 3), ('측정', 2), ('경쟁력', 1), ('컴퓨터', 1), ('공학부', 1), ('발전', 1), ('발생', 2), ('침해', 1), ('성별', 1), ('편향', 1), ('관계', 1), ('오류', 1), ('위해', 5), ('나선다', 1), ('전산', 1), ('학부', 1), ('심전', 1), ('뇌전도', 1), ('방식', 1), ('나라', 1), ('목표', 1), ('시행', 1), ('공익사업', 1), ('상하', 1), ('반기', 1), ('지정', 2), ('테마', 1), ('공모', 1), ('비지니스', 4), ('로고', 1), ('차세대', 1), ('전사', 1), ('자원', 2), ('관리', 2), ('시스템', 11), ('도입', 4), ('재무', 1), ('경영', 5), ('투명', 1), ('공유', 1), ('처리', 4), ('복합', 1), ('환경', 3), ('변화', 2), ('혁신', 3), ('패키지', 1), ('기반', 4), ('동서', 1), ('법인', 2), ('적용', 2), ('내년', 2), ('순차', 1), ('대용량', 2), ('데이터', 5), ('성능', 1), ('대응', 3), ('아키텍처', 1), ('프로세스', 3), ('구축', 3), ('의사', 3), ('광학', 1), ('문자', 2), ('판독', 1), ('자동', 2), ('특징', 1), ('메모리', 1), ('데이터베이스', 1), ('하드웨어', 1), ('병렬', 1), ('연결', 1), ('추가', 1), ('급속', 1), ('회사', 1), ('이용', 1), ('최근', 3), ('대량', 1), ('주문', 1), ('현황', 1), ('전체', 2), ('상황', 4), ('시뮬레이션', 1), ('합리', 1), ('된다고', 1), ('시켰', 1), ('연계', 1), ('이뤄지도록', 1), ('신속', 1), ('인식', 4), ('채팅', 1), ('전무', 1), ('선도', 1), ('사례', 1), ('디지털', 1), ('받쳐', 1), ('중요', 2), ('역할', 1), ('지난주', 1), ('지수', 8), ('최저치', 1), ('사이', 2), ('증시', 6), ('악재', 1), ('호재', 1), ('혼재', 1), ('초반', 1), ('헤지', 1), ('캐피털', 1), ('매니지먼트', 1), ('마진', 1), ('주식', 3), ('심리', 1), ('악화', 1), ('경기', 9), ('회복', 2), ('기대감', 1), ('반등', 1), ('투자자', 1), ('어치', 1), ('종목', 2), ('보유', 1), ('사진', 1), ('전문가', 2), ('주일', 1), ('흐름', 1), ('견조', 1), ('포인트', 3), ('등락', 1), ('금융', 2), ('국채', 4), ('금리', 12), ('정상', 1), ('채권', 1), ('성장주', 1), ('대형주', 1), ('위주', 1), ('매수세', 1), ('긍정', 1), ('이슈', 1), ('물가', 11), ('지표', 4), ('연방', 2), ('의사록', 6), ('내용', 2), ('장사', 1), ('센서스', 2), ('증권사', 2), ('평균', 1), ('만약', 1), ('나온다면', 2), ('박스', 1), ('상단', 1), ('상승세', 2), ('개선', 2), ('대훈', 1), ('철강', 1), ('민감', 1), ('업종', 1), ('수출', 1), ('증가세', 1), ('행정부', 2), ('여파', 1), ('볼지', 1), ('관심사', 1), ('지난달', 3), ('시각', 5), ('자금', 1), ('비중', 1), ('다조', 1), ('정책', 1), ('본다', 1), ('도로', 1), ('세부', 1), ('계획안', 1), ('예산', 1), ('전지', 1), ('밸류', 1), ('가치', 1), ('향방', 1), ('농업', 1), ('동월', 4), ('실업', 2), ('생산자', 4), ('정도', 1), ('준비', 1), ('제도', 1), ('회복세', 2), ('완화', 2), ('축소', 2), ('테이퍼', 1), ('양호', 1), ('조기', 2), ('인상', 6), ('근원', 1), ('요인', 1), ('당시', 3), ('사회', 1), ('의장', 2), ('안정', 1), ('견해', 1), ('점도표', 3), ('이사', 1), ('총재', 1), ('위원', 5), ('종료', 1), ('구체', 1), ('빠져', 1), ('시중', 1), ('괴리', 1), ('입장', 1), ('자운', 1)])\n"
          ],
          "name": "stdout"
        }
      ]
    },
    {
      "cell_type": "markdown",
      "metadata": {
        "id": "wMMrcsGKbaVB"
      },
      "source": [
        "## 5) 낮은 빈도 단어 제거"
      ]
    },
    {
      "cell_type": "code",
      "metadata": {
        "colab": {
          "base_uri": "https://localhost:8080/"
        },
        "id": "kFkyzlz4e0DA",
        "outputId": "1e861586-04b3-4560-cbaa-249d78e3fc3c"
      },
      "source": [
        "for index,(word,count) in enumerate(token.word_counts.items()):\n",
        "    print(index,word,count)"
      ],
      "execution_count": 81,
      "outputs": [
        {
          "output_type": "stream",
          "text": [
            "0 사내 4\n",
            "1 식당 3\n",
            "2 대해 4\n",
            "3 실시 3\n",
            "4 외부 2\n",
            "5 급식 3\n",
            "6 업체 5\n",
            "7 경쟁 6\n",
            "8 입찰 5\n",
            "9 푸드 4\n",
            "10 컬처 2\n",
            "11 운영 3\n",
            "12 선정 7\n",
            "13 단체 2\n",
            "14 다양 1\n",
            "15 메뉴 2\n",
            "16 향상 5\n",
            "17 서비스 2\n",
            "18 통해 10\n",
            "19 임직원 5\n",
            "20 복리 1\n",
            "21 후생 1\n",
            "22 사업장 2\n",
            "23 기흥 1\n",
            "24 공개 6\n",
            "25 공고 1\n",
            "26 참여 3\n",
            "27 이번 5\n",
            "28 서류 1\n",
            "29 심사 1\n",
            "30 거쳐 1\n",
            "31 구성 1\n",
            "32 평가 1\n",
            "33 프레젠테이션 1\n",
            "34 인프라 12\n",
            "35 위생 1\n",
            "36 점검 2\n",
            "37 현장 1\n",
            "38 실사 1\n",
            "39 음식 1\n",
            "40 품평회 1\n",
            "41 단계 1\n",
            "42 공정 1\n",
            "43 절차 1\n",
            "44 진행 2\n",
            "45 기존 1\n",
            "46 공급 5\n",
            "47 스토리 1\n",
            "48 배제 1\n",
            "49 최종 2\n",
            "50 동안 2\n",
            "51 고용 3\n",
            "52 승계 1\n",
            "53 업무 8\n",
            "54 인수 2\n",
            "55 시작 1\n",
            "56 예정 5\n",
            "57 관계자 2\n",
            "58 신규 1\n",
            "59 만족도 1\n",
            "60 보완 1\n",
            "61 검토 1\n",
            "62 대해서 1\n",
            "63 확대 3\n",
            "64 계획 7\n",
            "65 대통령 5\n",
            "66 현지 7\n",
            "67 시간 3\n",
            "68 반도체 14\n",
            "69 강화 4\n",
            "70 온라인 3\n",
            "71 회담 2\n",
            "72 참석 4\n",
            "73 인사말 2\n",
            "74 실시간 3\n",
            "75 중계 1\n",
            "76 백악관 5\n",
            "77 세계 7\n",
            "78 기업 11\n",
            "79 불러 1\n",
            "80 부족 5\n",
            "81 의견 2\n",
            "82 가운데 1\n",
            "83 결정 6\n",
            "84 발표 16\n",
            "85 대변인 1\n",
            "86 정례 1\n",
            "87 브리핑 1\n",
            "88 회의 2\n",
            "89 이유 2\n",
            "90 문제 3\n",
            "91 지속 1\n",
            "92 논의 2\n",
            "93 일부 1\n",
            "94 설명 6\n",
            "95 산업 4\n",
            "96 협력 1\n",
            "97 의회 2\n",
            "98 합의 2\n",
            "99 이뤄져야 2\n",
            "100 향후 3\n",
            "101 사태 2\n",
            "102 방지 1\n",
            "103 국가 4\n",
            "104 차원 1\n",
            "105 이날 6\n",
            "106 안보 1\n",
            "107 보좌관 1\n",
            "108 경제 2\n",
            "109 위원회 2\n",
            "110 위원장 1\n",
            "111 주재 1\n",
            "112 해소 1\n",
            "113 화상 1\n",
            "114 합류 1\n",
            "115 일정 1\n",
            "116 초대 1\n",
            "117 포함 4\n",
            "118 구글 1\n",
            "119 모회사 1\n",
            "120 알파벳 1\n",
            "121 테크놀로지 2\n",
            "122 글로벌 4\n",
            "123 마이크 1\n",
            "124 피스톤 1\n",
            "125 그룹 1\n",
            "126 워터 1\n",
            "127 개사 1\n",
            "128 사업 17\n",
            "129 부장 1\n",
            "130 사장 1\n",
            "131 해결 4\n",
            "132 지지 1\n",
            "133 규모 3\n",
            "134 연구 12\n",
            "135 개발 5\n",
            "136 관련 6\n",
            "137 일자리 2\n",
            "138 강조 1\n",
            "139 이중 1\n",
            "140 배정 2\n",
            "141 투자 18\n",
            "142 제안 1\n",
            "143 실행 1\n",
            "144 옮겨 1\n",
            "145 단기 1\n",
            "146 방안 1\n",
            "147 모색 1\n",
            "148 자동차 3\n",
            "149 업계 3\n",
            "150 올해 7\n",
            "151 생산량 1\n",
            "152 만대 1\n",
            "153 생산 2\n",
            "154 방해 1\n",
            "155 경고 1\n",
            "156 주말 1\n",
            "157 공장 3\n",
            "158 트럭 1\n",
            "159 교대 1\n",
            "160 근무 1\n",
            "161 취소 1\n",
            "162 미래 10\n",
            "163 성장 3\n",
            "164 동력 1\n",
            "165 전자 15\n",
            "166 관측 2\n",
            "167 스타 5\n",
            "168 강세 1\n",
            "169 완전 1\n",
            "170 철수 5\n",
            "171 확정 2\n",
            "172 로봇 12\n",
            "173 주력 1\n",
            "174 전담 2\n",
            "175 신설 3\n",
            "176 상태 2\n",
            "177 오후 2\n",
            "178 거래일 1\n",
            "179 대비 9\n",
            "180 거래 1\n",
            "181 앞서 2\n",
            "182 월부 1\n",
            "183 먹거리 1\n",
            "184 전기 5\n",
            "185 부품 1\n",
            "186 공학 1\n",
            "187 인공 1\n",
            "188 지능 1\n",
            "189 집중 2\n",
            "190 전망 16\n",
            "191 제기 1\n",
            "192 설립 1\n",
            "193 센터 2\n",
            "194 비즈니스 2\n",
            "195 본부 2\n",
            "196 이관 1\n",
            "197 영업 13\n",
            "198 역량 1\n",
            "199 활용 3\n",
            "200 시장 18\n",
            "201 진출 1\n",
            "202 교두보 1\n",
            "203 마련 2\n",
            "204 제조 1\n",
            "205 전문 3\n",
            "206 지분 2\n",
            "207 속력 1\n",
            "208 소비자 10\n",
            "209 부문장 1\n",
            "210 직속 1\n",
            "211 과거 4\n",
            "212 통합 2\n",
            "213 조직 2\n",
            "214 리서치 1\n",
            "215 부문 9\n",
            "216 상용 1\n",
            "217 본격 2\n",
            "218 속도 2\n",
            "219 읽힌다 1\n",
            "220 한편 3\n",
            "221 제조사 9\n",
            "222 이후 1\n",
            "223 협업 2\n",
            "224 플랫 5\n",
            "225 매출 5\n",
            "226 조억 2\n",
            "227 사상 3\n",
            "228 최대 3\n",
            "229 장기 1\n",
            "230 분기 14\n",
            "231 실적 14\n",
            "232 기록 8\n",
            "233 부진 1\n",
            "234 프리미엄 2\n",
            "235 가전 3\n",
            "236 역대 3\n",
            "237 견인 2\n",
            "238 조원 4\n",
            "239 이익 7\n",
            "240 달성 1\n",
            "241 지난해 3\n",
            "242 증가 6\n",
            "243 수준 6\n",
            "244 당초 1\n",
            "245 예상 6\n",
            "246 원대 2\n",
            "247 한파 2\n",
            "248 영향 6\n",
            "249 휴대폰 2\n",
            "250 분석 4\n",
            "251 가량 2\n",
            "252 손실 1\n",
            "253 추정 2\n",
            "254 무선 1\n",
            "255 잠정 5\n",
            "256 최대치 1\n",
            "257 최고 3\n",
            "258 전년 7\n",
            "259 동기 3\n",
            "260 종전 1\n",
            "261 생활 1\n",
            "262 최초 3\n",
            "263 돌파 1\n",
            "264 주가 3\n",
            "265 하락 5\n",
            "266 기준 7\n",
            "267 전날 1\n",
            "268 외국인 4\n",
            "269 매수 3\n",
            "270 반면 2\n",
            "271 기관 4\n",
            "272 순매도 5\n",
            "273 하락세 1\n",
            "274 미뤄 1\n",
            "275 개인 5\n",
            "276 대신 1\n",
            "277 증권 7\n",
            "278 연구원 7\n",
            "279 차익 1\n",
            "280 실현 1\n",
            "281 매물 1\n",
            "282 쏟아져 1\n",
            "283 집계 1\n",
            "284 증권가 1\n",
            "285 치인 1\n",
            "286 매출액 1\n",
            "287 직전 1\n",
            "288 해당 2\n",
            "289 베스트 1\n",
            "290 펀드 12\n",
            "291 운용 1\n",
            "292 매니저 3\n",
            "293 출연 3\n",
            "294 자사 1\n",
            "295 이벤트 5\n",
            "296 구독 2\n",
            "297 업로드 1\n",
            "298 영상 2\n",
            "299 등장 2\n",
            "300 주목 2\n",
            "301 선택 3\n",
            "302 퀴즈 1\n",
            "303 설문 1\n",
            "304 화면 1\n",
            "305 제출 1\n",
            "306 된다 1\n",
            "307 각각 1\n",
            "308 상품 1\n",
            "309 장점 1\n",
            "310 친환경 2\n",
            "311 신재 1\n",
            "312 에너지 3\n",
            "313 슈퍼 1\n",
            "314 사이클 1\n",
            "315 수혜 3\n",
            "316 국인 1\n",
            "317 주요 1\n",
            "318 중심 1\n",
            "319 핵심 3\n",
            "320 개국 1\n",
            "321 소개 1\n",
            "322 기간 2\n",
            "323 오늘 1\n",
            "324 당첨자 1\n",
            "325 추첨 1\n",
            "326 성자 1\n",
            "327 산운 1\n",
            "328 공식 3\n",
            "329 채널 2\n",
            "330 미니 1\n",
            "331 케이크 1\n",
            "332 교환 1\n",
            "333 증정 1\n",
            "334 사항 1\n",
            "335 확인 3\n",
            "336 국내 17\n",
            "337 구도 1\n",
            "338 점유 3\n",
            "339 유일 2\n",
            "340 사업자 1\n",
            "341 쏠림 1\n",
            "342 현상 1\n",
            "343 가중 2\n",
            "344 보인다 1\n",
            "345 이동 2\n",
            "346 통신 4\n",
            "347 저하 1\n",
            "348 부담 1\n",
            "349 우려 4\n",
            "350 목소리 1\n",
            "351 통업 2\n",
            "352 통사 5\n",
            "353 판매 8\n",
            "354 존재 1\n",
            "355 이상 1\n",
            "356 독점 1\n",
            "357 위치 2\n",
            "358 제한 1\n",
            "359 현실 1\n",
            "360 중저가 1\n",
            "361 단말 2\n",
            "362 선호도 1\n",
            "363 따라 4\n",
            "364 선택지 1\n",
            "365 단일 1\n",
            "366 사와 1\n",
            "367 협상력 1\n",
            "368 우위 1\n",
            "369 단말기 2\n",
            "370 가격 4\n",
            "371 상승 9\n",
            "372 장려금 4\n",
            "373 지급 1\n",
            "374 최신 3\n",
            "375 경쟁사 1\n",
            "376 모델 2\n",
            "377 비해 2\n",
            "378 자체 1\n",
            "379 마케팅 1\n",
            "380 비용 1\n",
            "381 배합 2\n",
            "382 지원금 2\n",
            "383 제공 2\n",
            "384 과정 1\n",
            "385 요구 1\n",
            "386 비율 1\n",
            "387 감안 1\n",
            "388 사용 4\n",
            "389 유인 1\n",
            "390 제품 1\n",
            "391 출시 1\n",
            "392 시기 3\n",
            "393 맞춰 1\n",
            "394 필요 6\n",
            "395 일시 2\n",
            "396 조사 1\n",
            "397 구매 1\n",
            "398 가능 9\n",
            "399 사실 2\n",
            "400 상반기 2\n",
            "401 기술 13\n",
            "402 육성 4\n",
            "403 지원 14\n",
            "404 과제 11\n",
            "405 왼쪽 1\n",
            "406 대학교 6\n",
            "407 류경 2\n",
            "408 교수 12\n",
            "409 포스 2\n",
            "410 학교 2\n",
            "411 기초 4\n",
            "412 과학 6\n",
            "413 분야 13\n",
            "414 소재 4\n",
            "415 정보 3\n",
            "416 연구비 2\n",
            "417 지금 1\n",
            "418 독창 1\n",
            "419 아이디어 1\n",
            "420 성공 1\n",
            "421 파급 1\n",
            "422 효과 4\n",
            "423 기대 1\n",
            "424 수리 1\n",
            "425 머신 2\n",
            "426 러닝 2\n",
            "427 학습 2\n",
            "428 공통점 1\n",
            "429 수학 1\n",
            "430 규명 1\n",
            "431 도전 1\n",
            "432 화학 4\n",
            "433 왕관 1\n",
            "434 모양 1\n",
            "435 생겨 2\n",
            "436 크라운 2\n",
            "437 에테르 2\n",
            "438 분자 2\n",
            "439 촉매 1\n",
            "440 물질 2\n",
            "441 변환 1\n",
            "442 효율 4\n",
            "443 인해 1\n",
            "444 생성 1\n",
            "445 국소 1\n",
            "446 전기장 1\n",
            "447 온난화 1\n",
            "448 원인 1\n",
            "449 이산화 1\n",
            "450 탄소 1\n",
            "451 분해 1\n",
            "452 난제 1\n",
            "453 기여 1\n",
            "454 해독 2\n",
            "455 양자 2\n",
            "456 광원 2\n",
            "457 인간 1\n",
            "458 게놈 1\n",
            "459 프로젝트 1\n",
            "460 통해서 1\n",
            "461 밝혀 1\n",
            "462 염색체 1\n",
            "463 서열 1\n",
            "464 수행 2\n",
            "465 전공 1\n",
            "466 접촉 2\n",
            "467 생체 2\n",
            "468 신호 3\n",
            "469 측정 2\n",
            "470 경쟁력 1\n",
            "471 컴퓨터 1\n",
            "472 공학부 1\n",
            "473 발전 1\n",
            "474 발생 2\n",
            "475 침해 1\n",
            "476 성별 1\n",
            "477 편향 1\n",
            "478 관계 1\n",
            "479 오류 1\n",
            "480 위해 5\n",
            "481 나선다 1\n",
            "482 전산 1\n",
            "483 학부 1\n",
            "484 심전 1\n",
            "485 뇌전도 1\n",
            "486 방식 1\n",
            "487 나라 1\n",
            "488 목표 1\n",
            "489 시행 1\n",
            "490 공익사업 1\n",
            "491 상하 1\n",
            "492 반기 1\n",
            "493 지정 2\n",
            "494 테마 1\n",
            "495 공모 1\n",
            "496 비지니스 4\n",
            "497 로고 1\n",
            "498 차세대 1\n",
            "499 전사 1\n",
            "500 자원 2\n",
            "501 관리 2\n",
            "502 시스템 11\n",
            "503 도입 4\n",
            "504 재무 1\n",
            "505 경영 5\n",
            "506 투명 1\n",
            "507 공유 1\n",
            "508 처리 4\n",
            "509 복합 1\n",
            "510 환경 3\n",
            "511 변화 2\n",
            "512 혁신 3\n",
            "513 패키지 1\n",
            "514 기반 4\n",
            "515 동서 1\n",
            "516 법인 2\n",
            "517 적용 2\n",
            "518 내년 2\n",
            "519 순차 1\n",
            "520 대용량 2\n",
            "521 데이터 5\n",
            "522 성능 1\n",
            "523 대응 3\n",
            "524 아키텍처 1\n",
            "525 프로세스 3\n",
            "526 구축 3\n",
            "527 의사 3\n",
            "528 광학 1\n",
            "529 문자 2\n",
            "530 판독 1\n",
            "531 자동 2\n",
            "532 특징 1\n",
            "533 메모리 1\n",
            "534 데이터베이스 1\n",
            "535 하드웨어 1\n",
            "536 병렬 1\n",
            "537 연결 1\n",
            "538 추가 1\n",
            "539 급속 1\n",
            "540 회사 1\n",
            "541 이용 1\n",
            "542 최근 3\n",
            "543 대량 1\n",
            "544 주문 1\n",
            "545 현황 1\n",
            "546 전체 2\n",
            "547 상황 4\n",
            "548 시뮬레이션 1\n",
            "549 합리 1\n",
            "550 된다고 1\n",
            "551 시켰 1\n",
            "552 연계 1\n",
            "553 이뤄지도록 1\n",
            "554 신속 1\n",
            "555 인식 4\n",
            "556 채팅 1\n",
            "557 전무 1\n",
            "558 선도 1\n",
            "559 사례 1\n",
            "560 디지털 1\n",
            "561 받쳐 1\n",
            "562 중요 2\n",
            "563 역할 1\n",
            "564 지난주 1\n",
            "565 지수 8\n",
            "566 최저치 1\n",
            "567 사이 2\n",
            "568 증시 6\n",
            "569 악재 1\n",
            "570 호재 1\n",
            "571 혼재 1\n",
            "572 초반 1\n",
            "573 헤지 1\n",
            "574 캐피털 1\n",
            "575 매니지먼트 1\n",
            "576 마진 1\n",
            "577 주식 3\n",
            "578 심리 1\n",
            "579 악화 1\n",
            "580 경기 9\n",
            "581 회복 2\n",
            "582 기대감 1\n",
            "583 반등 1\n",
            "584 투자자 1\n",
            "585 어치 1\n",
            "586 종목 2\n",
            "587 보유 1\n",
            "588 사진 1\n",
            "589 전문가 2\n",
            "590 주일 1\n",
            "591 흐름 1\n",
            "592 견조 1\n",
            "593 포인트 3\n",
            "594 등락 1\n",
            "595 금융 2\n",
            "596 국채 4\n",
            "597 금리 12\n",
            "598 정상 1\n",
            "599 채권 1\n",
            "600 성장주 1\n",
            "601 대형주 1\n",
            "602 위주 1\n",
            "603 매수세 1\n",
            "604 긍정 1\n",
            "605 이슈 1\n",
            "606 물가 11\n",
            "607 지표 4\n",
            "608 연방 2\n",
            "609 의사록 6\n",
            "610 내용 2\n",
            "611 장사 1\n",
            "612 센서스 2\n",
            "613 증권사 2\n",
            "614 평균 1\n",
            "615 만약 1\n",
            "616 나온다면 2\n",
            "617 박스 1\n",
            "618 상단 1\n",
            "619 상승세 2\n",
            "620 개선 2\n",
            "621 대훈 1\n",
            "622 철강 1\n",
            "623 민감 1\n",
            "624 업종 1\n",
            "625 수출 1\n",
            "626 증가세 1\n",
            "627 행정부 2\n",
            "628 여파 1\n",
            "629 볼지 1\n",
            "630 관심사 1\n",
            "631 지난달 3\n",
            "632 시각 5\n",
            "633 자금 1\n",
            "634 비중 1\n",
            "635 다조 1\n",
            "636 정책 1\n",
            "637 본다 1\n",
            "638 도로 1\n",
            "639 세부 1\n",
            "640 계획안 1\n",
            "641 예산 1\n",
            "642 전지 1\n",
            "643 밸류 1\n",
            "644 가치 1\n",
            "645 향방 1\n",
            "646 농업 1\n",
            "647 동월 4\n",
            "648 실업 2\n",
            "649 생산자 4\n",
            "650 정도 1\n",
            "651 준비 1\n",
            "652 제도 1\n",
            "653 회복세 2\n",
            "654 완화 2\n",
            "655 축소 2\n",
            "656 테이퍼 1\n",
            "657 양호 1\n",
            "658 조기 2\n",
            "659 인상 6\n",
            "660 근원 1\n",
            "661 요인 1\n",
            "662 당시 3\n",
            "663 사회 1\n",
            "664 의장 2\n",
            "665 안정 1\n",
            "666 견해 1\n",
            "667 점도표 3\n",
            "668 이사 1\n",
            "669 총재 1\n",
            "670 위원 5\n",
            "671 종료 1\n",
            "672 구체 1\n",
            "673 빠져 1\n",
            "674 시중 1\n",
            "675 괴리 1\n",
            "676 입장 1\n",
            "677 자운 1\n"
          ],
          "name": "stdout"
        }
      ]
    }
  ]
}