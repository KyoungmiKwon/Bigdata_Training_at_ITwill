{
  "nbformat": 4,
  "nbformat_minor": 0,
  "metadata": {
    "colab": {
      "name": "Word_Seperate.ipynb",
      "provenance": [],
      "authorship_tag": "ABX9TyNnmuDR3F6cjZpGUEHkDAwh",
      "include_colab_link": true
    },
    "kernelspec": {
      "name": "python3",
      "display_name": "Python 3"
    },
    "language_info": {
      "name": "python"
    }
  },
  "cells": [
    {
      "cell_type": "markdown",
      "metadata": {
        "id": "view-in-github",
        "colab_type": "text"
      },
      "source": [
        "<a href=\"https://colab.research.google.com/github/KyoungmiKwon/Bigdata_Training_at_ITwill/blob/main/Team_Project/Word_Seperate.ipynb\" target=\"_parent\"><img src=\"https://colab.research.google.com/assets/colab-badge.svg\" alt=\"Open In Colab\"/></a>"
      ]
    },
    {
      "cell_type": "code",
      "metadata": {
        "id": "25z60ZTcBFXC"
      },
      "source": [
        "freq=[]\n",
        "for a in news_data['seperate']:\n",
        "    a = a.replace(\"'\", '').replace('[', '').replace(']', '')\n",
        "    k=a.split(',')\n",
        "    frequency = {}\n",
        "    for word in k:\n",
        "        count = frequency.get(word,0)\n",
        "        frequency[word] = count + 1\n",
        "        \n",
        "    frequency_list = frequency.keys()\n",
        "    \n",
        "    for words in frequency_list:\n",
        "        a=[words, frequency[words]]\n",
        "        freq.append(a)\n"
      ],
      "execution_count": null,
      "outputs": []
    }
  ]
}