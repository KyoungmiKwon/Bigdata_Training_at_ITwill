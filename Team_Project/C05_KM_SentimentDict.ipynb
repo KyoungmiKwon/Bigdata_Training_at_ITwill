{
  "nbformat": 4,
  "nbformat_minor": 0,
  "metadata": {
    "accelerator": "GPU",
    "colab": {
      "name": "C05_KM_SentimentDict.ipynb",
      "provenance": [],
      "collapsed_sections": [],
      "mount_file_id": "1G8y9KmSz1CGzmjfrkzJ1-5HNpAAFuYJU",
      "authorship_tag": "ABX9TyNW1U620jxTZ4W6BwE+K30V",
      "include_colab_link": true
    },
    "kernelspec": {
      "display_name": "Python 3",
      "name": "python3"
    },
    "language_info": {
      "name": "python"
    }
  },
  "cells": [
    {
      "cell_type": "markdown",
      "metadata": {
        "id": "view-in-github",
        "colab_type": "text"
      },
      "source": [
        "<a href=\"https://colab.research.google.com/github/KyoungmiKwon/Bigdata_Training_at_ITwill/blob/main/Team_Project/C05_KM_SentimentDict.ipynb\" target=\"_parent\"><img src=\"https://colab.research.google.com/assets/colab-badge.svg\" alt=\"Open In Colab\"/></a>"
      ]
    },
    {
      "cell_type": "markdown",
      "metadata": {
        "id": "9DuftRpn9jyH"
      },
      "source": [
        "# 설치"
      ]
    },
    {
      "cell_type": "code",
      "metadata": {
        "id": "A8mecskr8OH1"
      },
      "source": [
        "#Konlpy 설치\n",
        "%%bash\n",
        "apt-get update\n",
        "apt-get install g++ openjdk-8-jdk python-dev python3-dev\n",
        "pip3 install JPype1\n",
        "pip3 install konlpy"
      ],
      "execution_count": null,
      "outputs": []
    },
    {
      "cell_type": "code",
      "metadata": {
        "id": "rkPWlOp78H9O"
      },
      "source": [
        "#Mecab 설치\n",
        "%env JAVA_HOME \"/usr/lib/jvm/java-8-openjdk-amd64\""
      ],
      "execution_count": null,
      "outputs": []
    },
    {
      "cell_type": "code",
      "metadata": {
        "id": "Pr-NMjpNHmkM"
      },
      "source": [
        "%%bash\n",
        "bash <(curl -s https://raw.githubusercontent.com/konlpy/konlpy/master/scripts/mecab.sh)\n",
        "pip3 install /tmp/mecab-python-0.996"
      ],
      "execution_count": null,
      "outputs": []
    },
    {
      "cell_type": "code",
      "metadata": {
        "id": "RzmmC_MHHrlk"
      },
      "source": [
        "!git clone https://github.com/entelecheia/eKoNLpy.git\n",
        "!pip install /content/eKoNLpy"
      ],
      "execution_count": null,
      "outputs": []
    },
    {
      "cell_type": "markdown",
      "metadata": {
        "id": "EvKKZD8B-bA6"
      },
      "source": [
        "# import"
      ]
    },
    {
      "cell_type": "code",
      "metadata": {
        "id": "CNK1zS1O-eeR"
      },
      "source": [
        "from ekonlpy.tag import Mecab\n",
        "import pandas as pd\n",
        "import numpy as np\n",
        "import matplotlib.pyplot as plt\n",
        "from sklearn.model_selection import train_test_split"
      ],
      "execution_count": 7,
      "outputs": []
    },
    {
      "cell_type": "markdown",
      "metadata": {
        "id": "xx_HYviX-qn-"
      },
      "source": [
        "# Basic Sentiment Dictionary 생성\n",
        "    \n",
        "    Dictionary class for\n",
        "    Korean Sentiment Analysis."
      ]
    },
    {
      "cell_type": "code",
      "metadata": {
        "id": "fbe0_rkL_kLx"
      },
      "source": [
        "import os\n",
        "from konlpy.tag import Kkma\n",
        "from ekonlpy.sentiment.base import LEXICON_PATH, BaseDict\n",
        "from ekonlpy.sentiment.utils import KTokenizer\n",
        "from ekonlpy.tag import Mecab\n",
        "\n",
        "class KSAA(BaseDict):\n",
        "    '''\n",
        "    Dictionary class for\n",
        "    Korean Sentiment Analysis.\n",
        "    '''\n",
        "\n",
        "    def init_tokenizer(self, kind=None):\n",
        "        self._tokenizer = KTokenizer(self._poldict)\n",
        "\n",
        "    def init_dict(self, kind=None, intensity_cutoff=None):\n",
        "        path = os.path.join('/content/drive/MyDrive/Colab Notebooks/Project/polar_dictionary.csv')\n",
        "        with open(path, encoding='utf-8') as f:\n",
        "            for line in f:\n",
        "                word = line.split(',')\n",
        "                w = word[0]\n",
        "                if w == 'ngram':\n",
        "                    continue\n",
        "                \n",
        "                p = float(word[6].strip())\n",
        "                n = float(word[3].strip())\n",
        "                s = p - n\n",
        "                if len(w) > 1:\n",
        "                    if s > 0:\n",
        "                        self._posdict[w] = 1\n",
        "                        self._poldict[w] = s\n",
        "                    elif s < 0:\n",
        "                        self._negdict[w] = -1\n",
        "                        self._poldict[w] = s\n",
        "\n",
        "\n",
        "class KOSAC(object):\n",
        "    def __init__(self):\n",
        "        self._loaddic()\n",
        "        self._tagger = Mecab()\n",
        "        self._ngram = 3\n",
        "        self._delimiter = ';'\n",
        "        self._skiptags = ['SF', 'SP', 'SS', 'SE', 'SO', 'SW', 'UN', 'UV', 'UE', 'OL', 'OH', 'ON']\n",
        "\n",
        "    def _loaddic(self):\n",
        "        self._polarity = self._loadfile('/content/drive/MyDrive/Colab Notebooks/Project/polar_dictionary.csv')\n",
        "        self._expressive = self._loadfile(os.path.join(LEXICON_PATH, 'kosac', 'expressive-type.csv'))\n",
        "        self._intensity = self._loadfile(os.path.join(LEXICON_PATH, 'kosac', 'intensity.csv'))\n",
        "\n",
        "    def _loadfile(self, file_path, delimiter=','):\n",
        "        vocab = {}\n",
        "        if os.path.isfile(file_path):\n",
        "            with open(file_path) as f:\n",
        "                for lno, line in enumerate(f):\n",
        "                    # skip header\n",
        "                    if lno == 0:\n",
        "                        headers = line.strip().split(delimiter)\n",
        "                    else:\n",
        "                        if len(line) > 0:\n",
        "                            row = line.strip().split(delimiter)\n",
        "                            ngram = row[0]\n",
        "                            # ngram_split = tuple(ngram.split(';'))\n",
        "                            data = {}\n",
        "                            for i, header in enumerate(headers):\n",
        "                                if i > 0:\n",
        "                                    data[header] = row[i]\n",
        "                            vocab[ngram] = data\n",
        "        return vocab\n",
        "\n",
        "    def morpheme(self, dataset):\n",
        "        return self.align_morpheme(self._tagger.pos(dataset))\n",
        "\n",
        "    def align_morpheme(self, morpheme):\n",
        "        return ['{}/{}'.format(w, t) for w, t in morpheme]\n",
        "\n",
        "    def percentage(self, obj):\n",
        "        return {k: v / sum(obj.values()) for k, v in obj.items()}\n",
        "\n",
        "    def calc(self, keypairs, source, target, func):\n",
        "        for keypair in keypairs:\n",
        "            sourcekey = keypair[0]\n",
        "            targetkey = keypair[1]\n",
        "            if sourcekey in source:\n",
        "                sourcedata = source[sourcekey]\n",
        "                sourcedata = float(sourcedata)\n",
        "                target[targetkey] = func(sourcedata, target[targetkey])\n",
        "        return target\n",
        "\n",
        "    def match(self, data, pairdata, keypairs):\n",
        "        ret = {k[1]: 0 for k in keypairs}\n",
        "        for m in data:\n",
        "            if m in pairdata:\n",
        "                currentdata = pairdata[m]\n",
        "                ret = self.calc(keypairs, currentdata, ret,\n",
        "                                lambda s, t: t + s)\n",
        "        return self.percentage(ret)\n",
        "\n",
        "    def polarity(self, data):\n",
        "        return self.match(data,\n",
        "                          self._polarity,\n",
        "                          [['COMP', 'com'],\n",
        "                           ['POS', 'pos'],\n",
        "                           ['NEG', 'neg'],\n",
        "                           ['NEUT', 'neut'],\n",
        "                           ['None', 'none']])\n",
        "\n",
        "    def intensity(self, data):\n",
        "        return self.match(data,\n",
        "                          self._intensity,\n",
        "                          [['High', 'high'],\n",
        "                           ['Low', 'low'],\n",
        "                           ['Medium', 'medium'],\n",
        "                           ['None', 'none']])\n",
        "\n",
        "    def expressive(self, data):\n",
        "        return self.match(data,\n",
        "                          self._expressive,\n",
        "                          [['dir-action', 'dir-action'],\n",
        "                           ['dir-explicit', 'dir-explicit'],\n",
        "                           ['dir-speech', 'dir-speech'],\n",
        "                           ['indirect', 'indirect'],\n",
        "                           ['writing-device', 'writing-device']])\n",
        "\n",
        "    def analyze(self, dataset):\n",
        "        dataset = self.parse(dataset)\n",
        "        ret = {}\n",
        "        for analysis in ['polarity', 'intensity', 'expressive']:\n",
        "            func = getattr(self, analysis)\n",
        "            ret[analysis] = func(dataset)\n",
        "        return ret\n",
        "\n",
        "    def parse(self, dataset):\n",
        "        tokens = []\n",
        "        if type(dataset) == list:\n",
        "            for t in dataset:\n",
        "                tokens += self.morpheme(t)\n",
        "        elif type(dataset) == str:\n",
        "            tokens = self.morpheme(dataset)\n",
        "        else:\n",
        "            raise ValueError('The dataset has to be string or list of string type.')\n",
        "\n",
        "        return self.ngramize(tokens)\n",
        "\n",
        "    def ngramize(self, tokens):\n",
        "        ngram_tokens = []\n",
        "        tokens = [w for w in tokens if w.split('/')[1] not in self._skiptags]\n",
        "        for pos in range(len(tokens)):\n",
        "            for gram in range(1, self._ngram + 1):\n",
        "                token = self.get_ngram(tokens, pos, gram)\n",
        "                if token:\n",
        "                    ngram_tokens.append(token)\n",
        "        return ngram_tokens\n",
        "\n",
        "    def get_ngram(self, tokens, pos, gram):\n",
        "        if pos < 0:\n",
        "            return None\n",
        "        if pos + gram > len(tokens):\n",
        "            return None\n",
        "        token = tokens[pos]\n",
        "        for i in range(1, gram):\n",
        "            token += self._delimiter + tokens[pos + i]\n",
        "        return token"
      ],
      "execution_count": 6,
      "outputs": []
    },
    {
      "cell_type": "markdown",
      "metadata": {
        "id": "Ayop21YGAiFV"
      },
      "source": [
        "## 감성 극성계산 위한 함수들 생성"
      ]
    },
    {
      "cell_type": "code",
      "metadata": {
        "id": "u3GggKjH-yOv"
      },
      "source": [
        "import abc\n",
        "from ekonlpy.utils import installpath\n",
        "\n",
        "LEXICON_PATH = '%s/data/lexicon' % installpath\n",
        "\n",
        "\n",
        "class BaseDict(object):\n",
        " \n",
        "\n",
        "    __metaclass__ = abc.ABCMeta\n",
        "\n",
        "    TAG_POL = 'Polarity'\n",
        "    TAG_SUB = 'Subjectivity'\n",
        "    TAG_POS = 'Positive'\n",
        "    TAG_NEG = 'Negative'\n",
        "\n",
        "    EPSILON = 1e-6\n",
        "\n",
        "    def __init__(self, tokenizer=None, kind=None, intensity_cutoff=None):\n",
        "        self._posdict = {}\n",
        "        self._negdict = {}\n",
        "        self._poldict = {}\n",
        "        self._intensity_cutoff = intensity_cutoff\n",
        "        self.init_dict(kind, intensity_cutoff)\n",
        "        if tokenizer is None:\n",
        "            self.init_tokenizer(kind)\n",
        "        else:\n",
        "            self._tokenizer = tokenizer\n",
        "\n",
        "        assert len(self._posdict) > 0 and len(self._negdict) > 0\n",
        "\n",
        "    def tokenize(self, text):\n",
        "\n",
        "        return self._tokenizer.tokenize(text)\n",
        "\n",
        "\n",
        "    @abc.abstractmethod\n",
        "    def init_tokenizer(self, kind):\n",
        "        pass\n",
        "\n",
        "    @abc.abstractmethod\n",
        "    def init_dict(self, kind, intensity_cutoff):\n",
        "        pass\n",
        "\n",
        "    def _get_score(self, term, by_count=True):\n",
        "\n",
        "        if by_count:\n",
        "            if term in self._posdict.keys():\n",
        "                return self._posdict[term]\n",
        "            elif term in self._negdict.keys():\n",
        "                return self._negdict[term]\n",
        "            else:\n",
        "                return 0\n",
        "        else:\n",
        "            if term in self._poldict.keys():\n",
        "                return self._poldict[term]\n",
        "            else:\n",
        "                return 0\n",
        "\n",
        "    def get_score(self, terms, by_count=True):\n",
        "\n",
        "        assert isinstance(terms, list) or isinstance(terms, tuple)\n",
        "        score_li = [self._get_score(t, by_count) for t in terms]\n",
        "        pos_score_li = [s for s in score_li if s > 0]\n",
        "        neg_score_li = [s for s in score_li if s < 0]\n",
        "\n",
        "        s_pos = sum(pos_score_li)\n",
        "        s_neg = sum(neg_score_li)\n",
        "\n",
        "        s_pol = (s_pos + s_neg) * 1.0 / (((s_pos - s_neg) if by_count else len(score_li)) + self.EPSILON)\n",
        "        s_sub = (len(pos_score_li) + len(neg_score_li)) * 1.0 / (len(score_li) + self.EPSILON)\n",
        "\n",
        "        return {self.TAG_POS: s_pos,\n",
        "                self.TAG_NEG: s_neg,\n",
        "                self.TAG_POL: s_pol,\n",
        "                self.TAG_SUB: s_sub}"
      ],
      "execution_count": 8,
      "outputs": []
    },
    {
      "cell_type": "markdown",
      "metadata": {
        "id": "5_BU6__w_ChO"
      },
      "source": [
        "# Tokenkizer 생성 using in Sentiment dictionary\n",
        "\n",
        "    An abstract class for tokenize text.\n",
        "\n",
        "    The default tokenizer for KSA sub class.\n",
        "    The output of the tokenizer is tagged by Kkma.   \n",
        "    "
      ]
    },
    {
      "cell_type": "code",
      "metadata": {
        "id": "U1VdPVxP-2z1"
      },
      "source": [
        "import abc\n",
        "import re\n",
        "import nltk\n",
        "import os\n",
        "from ekonlpy.tag import Mecab\n",
        "from ekonlpy.sentiment.base import LEXICON_PATH\n",
        "from konlpy.tag import Kkma\n",
        "\n",
        "\n",
        "class BaseTokenizer(object):\n",
        "    '''\n",
        "    An abstract class for tokenize text.\n",
        "    '''\n",
        "\n",
        "    __metaclass__ = abc.ABCMeta\n",
        "\n",
        "    @abc.abstractmethod\n",
        "    def tokenize(self, text):\n",
        "        '''Return tokenized temrs.\n",
        "        \n",
        "        :type text: str\n",
        "        \n",
        "        :returns: list \n",
        "        '''\n",
        "        pass\n",
        "\n",
        "    # @abc.abstractmethod\n",
        "    # def ngramize(self, tokens):\n",
        "    #     '''Return n-gramized temrs.\n",
        "    #\n",
        "    #     :type tokens: list of tokens\n",
        "    #\n",
        "    #     :returns: list\n",
        "    #     '''\n",
        "    #     pass\n",
        "\n",
        "\n",
        "class KTokenizer(BaseTokenizer):\n",
        "    '''\n",
        "    The default tokenizer for KSA sub class.\n",
        "    The output of the tokenizer is tagged by Kkma.\n",
        "    '''\n",
        "\n",
        "    def __init__(self, vocab=None):\n",
        "        self._tagger = Kkma()\n",
        "        self._vocab = vocab\n",
        "        self._min_ngram = 1\n",
        "        self._ngram = 3\n",
        "        self._delimiter = ';'\n",
        "        self._skiptags = ['SF', 'SP', 'SS', 'SE', 'SO', 'SW', 'UN', 'UV', 'UE', 'OL', 'OH', 'ON']\n",
        "\n",
        "    def tokenize(self, text):\n",
        "        tokens = []\n",
        "        if type(text) == list:\n",
        "            for t in text:\n",
        "                tokens += self.morpheme(t)\n",
        "        elif type(text) == str:\n",
        "            tokens = self.morpheme(text)\n",
        "        else:\n",
        "            raise ValueError('The dataset has to be string or list of string type.')\n",
        "\n",
        "        return self.ngramize(tokens)\n",
        "\n",
        "    def ngramize(self, tokens):\n",
        "        ngram_tokens = []\n",
        "        tokens = [w for w in tokens if w.split('/')[1] not in self._skiptags]\n",
        "        for pos in range(len(tokens)):\n",
        "            for gram in range(1, self._ngram + 1):\n",
        "                token = self.get_ngram(tokens, pos, gram)\n",
        "                if token:\n",
        "                    if self._vocab is None:\n",
        "                        ngram_tokens.append(token)\n",
        "                    else:\n",
        "                        if token in self._vocab:\n",
        "                            ngram_tokens.append(token)\n",
        "        return ngram_tokens\n",
        "\n",
        "    def get_ngram(self, tokens, pos, gram):\n",
        "        if pos < 0:\n",
        "            return None\n",
        "        if pos + gram > len(tokens):\n",
        "            return None\n",
        "        token = tokens[pos]\n",
        "        for i in range(1, gram):\n",
        "            token += self._delimiter + tokens[pos + i]\n",
        "        return token\n",
        "\n",
        "    def morpheme(self, dataset):\n",
        "        return self.align_morpheme(self._tagger.pos(dataset))\n",
        "\n",
        "    def align_morpheme(self, morpheme):\n",
        "        return ['{}/{}'.format(w, t) for w, t in morpheme]"
      ],
      "execution_count": 10,
      "outputs": []
    },
    {
      "cell_type": "markdown",
      "metadata": {
        "id": "2MhHcXl-DidQ"
      },
      "source": [
        "# 데이터 불러오기"
      ]
    },
    {
      "cell_type": "code",
      "metadata": {
        "colab": {
          "base_uri": "https://localhost:8080/",
          "height": 296
        },
        "id": "gRQjki7RDlpt",
        "outputId": "88dcc3ee-fa56-4acc-cd4f-8979b9dd8971"
      },
      "source": [
        "file_path = '/content/drive/MyDrive/Colab Notebooks/Project/Sentiment_dict.xlsx'\n",
        "data = pd.read_excel(file_path)\n",
        "data[10:15]"
      ],
      "execution_count": 134,
      "outputs": [
        {
          "output_type": "execute_result",
          "data": {
            "text/html": [
              "<div>\n",
              "<style scoped>\n",
              "    .dataframe tbody tr th:only-of-type {\n",
              "        vertical-align: middle;\n",
              "    }\n",
              "\n",
              "    .dataframe tbody tr th {\n",
              "        vertical-align: top;\n",
              "    }\n",
              "\n",
              "    .dataframe thead th {\n",
              "        text-align: right;\n",
              "    }\n",
              "</style>\n",
              "<table border=\"1\" class=\"dataframe\">\n",
              "  <thead>\n",
              "    <tr style=\"text-align: right;\">\n",
              "      <th></th>\n",
              "      <th>No</th>\n",
              "      <th>Code</th>\n",
              "      <th>Date</th>\n",
              "      <th>Journal</th>\n",
              "      <th>Title</th>\n",
              "      <th>Text</th>\n",
              "      <th>URL</th>\n",
              "      <th>Sample Y/N</th>\n",
              "      <th>In Charge</th>\n",
              "      <th>S</th>\n",
              "    </tr>\n",
              "  </thead>\n",
              "  <tbody>\n",
              "    <tr>\n",
              "      <th>10</th>\n",
              "      <td>61</td>\n",
              "      <td>5930</td>\n",
              "      <td>2021.04.13 17:49</td>\n",
              "      <td>서울경제</td>\n",
              "      <td>삼성·TSMC·인텔 모두 美 증설···3년 뒤 파운드리 시장 판 바뀐다</td>\n",
              "      <td>美, 설계서 생산까지 주도권 확보조 바이든 미국 대통령이 12일(현지 시간) 백악관...</td>\n",
              "      <td>https://finance.naver.com/item/news_read.nhn?a...</td>\n",
              "      <td>A</td>\n",
              "      <td>JY</td>\n",
              "      <td>0</td>\n",
              "    </tr>\n",
              "    <tr>\n",
              "      <th>11</th>\n",
              "      <td>62</td>\n",
              "      <td>5930</td>\n",
              "      <td>2021.04.13 17:45</td>\n",
              "      <td>한국경제</td>\n",
              "      <td>바이든, 웨이퍼 흔들며 \"기다릴 이유 없다\"…삼성에 '공격투자' 압박</td>\n",
              "      <td>백악관 화상회의서 기업들에 노골적 투자 요구美, 자국 생산확대 주문에 인텔 등 경쟁...</td>\n",
              "      <td>https://finance.naver.com/item/news_read.nhn?a...</td>\n",
              "      <td>A</td>\n",
              "      <td>JY</td>\n",
              "      <td>-1</td>\n",
              "    </tr>\n",
              "    <tr>\n",
              "      <th>12</th>\n",
              "      <td>64</td>\n",
              "      <td>5930</td>\n",
              "      <td>2021.04.13 17:18</td>\n",
              "      <td>매일경제</td>\n",
              "      <td>삼성전자, 사업장 2곳 사내식당 결국 외부 개방</td>\n",
              "      <td>수원·기흥사업장 식당 외부업체 경쟁입찰각각 신세계푸드, 풀무원푸드앤컬처 선정[사진출...</td>\n",
              "      <td>https://finance.naver.com/item/news_read.nhn?a...</td>\n",
              "      <td>Y</td>\n",
              "      <td>SJ</td>\n",
              "      <td>0</td>\n",
              "    </tr>\n",
              "    <tr>\n",
              "      <th>13</th>\n",
              "      <td>65</td>\n",
              "      <td>5930</td>\n",
              "      <td>2021.04.13 16:50</td>\n",
              "      <td>매일경제</td>\n",
              "      <td>삼성전자, 사내식당 2곳 급식 외부 개방</td>\n",
              "      <td>신세계·풀무원푸드 선정삼성전자가 사내식당 2곳에 대해 실시한 외부 급식업체 경쟁입찰...</td>\n",
              "      <td>https://finance.naver.com/item/news_read.nhn?a...</td>\n",
              "      <td>A</td>\n",
              "      <td>JY</td>\n",
              "      <td>0</td>\n",
              "    </tr>\n",
              "    <tr>\n",
              "      <th>14</th>\n",
              "      <td>70</td>\n",
              "      <td>5930</td>\n",
              "      <td>2021.04.13 16:52</td>\n",
              "      <td>이데일리</td>\n",
              "      <td>美바이든 투자 압박에 고심하는 삼성전자…총수 부재의 딜레마</td>\n",
              "      <td>바이든, '반도체 대응 CEO 서밋'에서 투자 요청삼성전자, 170억달러 규모 증설...</td>\n",
              "      <td>https://finance.naver.com/item/news_read.nhn?a...</td>\n",
              "      <td>A</td>\n",
              "      <td>JY</td>\n",
              "      <td>-1</td>\n",
              "    </tr>\n",
              "  </tbody>\n",
              "</table>\n",
              "</div>"
            ],
            "text/plain": [
              "    No  Code              Date  ... Sample Y/N In Charge  S\n",
              "10  61  5930  2021.04.13 17:49  ...          A        JY  0\n",
              "11  62  5930  2021.04.13 17:45  ...          A        JY -1\n",
              "12  64  5930  2021.04.13 17:18  ...          Y        SJ  0\n",
              "13  65  5930  2021.04.13 16:50  ...          A        JY  0\n",
              "14  70  5930  2021.04.13 16:52  ...          A        JY -1\n",
              "\n",
              "[5 rows x 10 columns]"
            ]
          },
          "metadata": {
            "tags": []
          },
          "execution_count": 134
        }
      ]
    },
    {
      "cell_type": "code",
      "metadata": {
        "colab": {
          "base_uri": "https://localhost:8080/"
        },
        "id": "9N_Zny32D-9O",
        "outputId": "3987efcc-d4b4-4ab8-b025-fe760eafdf87"
      },
      "source": [
        "data.groupby(['S'])['No'].count()"
      ],
      "execution_count": 135,
      "outputs": [
        {
          "output_type": "execute_result",
          "data": {
            "text/plain": [
              "S\n",
              "-1    314\n",
              " 0    374\n",
              " 1    686\n",
              "Name: No, dtype: int64"
            ]
          },
          "metadata": {
            "tags": []
          },
          "execution_count": 135
        }
      ]
    },
    {
      "cell_type": "markdown",
      "metadata": {
        "id": "bYXos79JGt1I"
      },
      "source": [
        "# 셋트 분리"
      ]
    },
    {
      "cell_type": "code",
      "metadata": {
        "id": "ZF-kHexAGyt2"
      },
      "source": [
        "# 부정,중립,긍정으로 할 경우\n",
        "X = data[['No','Text']]\n",
        "y = data['S']"
      ],
      "execution_count": 136,
      "outputs": []
    },
    {
      "cell_type": "code",
      "metadata": {
        "id": "WV9Qx5nNG3lu"
      },
      "source": [
        "# 긍정, 긍정이 아닌 경우 : 이진분류로 치환시\n",
        "y_1 = data['S'].replace(-1,0)\n",
        "y = pd.DataFrame(y_1)"
      ],
      "execution_count": 137,
      "outputs": []
    },
    {
      "cell_type": "code",
      "metadata": {
        "id": "UswKH07sG6K1"
      },
      "source": [
        "X_tr, X_ts, y_tr, y_ts = train_test_split(X,y,             \n",
        "                                          test_size = 0.2,\n",
        "                                          stratify = y)"
      ],
      "execution_count": 138,
      "outputs": []
    },
    {
      "cell_type": "code",
      "metadata": {
        "colab": {
          "base_uri": "https://localhost:8080/",
          "height": 195
        },
        "id": "hhrUwFbUG84f",
        "outputId": "66f6821b-468f-4778-dc54-23e0f04b6b63"
      },
      "source": [
        "std_data = pd.concat([X_tr,y_tr],axis=1).reset_index(drop=True)\n",
        "std_data[10:15]"
      ],
      "execution_count": 139,
      "outputs": [
        {
          "output_type": "execute_result",
          "data": {
            "text/html": [
              "<div>\n",
              "<style scoped>\n",
              "    .dataframe tbody tr th:only-of-type {\n",
              "        vertical-align: middle;\n",
              "    }\n",
              "\n",
              "    .dataframe tbody tr th {\n",
              "        vertical-align: top;\n",
              "    }\n",
              "\n",
              "    .dataframe thead th {\n",
              "        text-align: right;\n",
              "    }\n",
              "</style>\n",
              "<table border=\"1\" class=\"dataframe\">\n",
              "  <thead>\n",
              "    <tr style=\"text-align: right;\">\n",
              "      <th></th>\n",
              "      <th>No</th>\n",
              "      <th>Text</th>\n",
              "      <th>S</th>\n",
              "    </tr>\n",
              "  </thead>\n",
              "  <tbody>\n",
              "    <tr>\n",
              "      <th>10</th>\n",
              "      <td>352</td>\n",
              "      <td>미국과 중국의 세계 반도체 공급망 패권 경쟁이 가열되면서 국내 반도체 산업도 긴장이...</td>\n",
              "      <td>0</td>\n",
              "    </tr>\n",
              "    <tr>\n",
              "      <th>11</th>\n",
              "      <td>2319</td>\n",
              "      <td>핀크리얼리 세대별 보유주식 분석 결과2030세대 54% 삼성전자(우선주 포함) 보유...</td>\n",
              "      <td>1</td>\n",
              "    </tr>\n",
              "    <tr>\n",
              "      <th>12</th>\n",
              "      <td>5372</td>\n",
              "      <td>스팀 기술 눈으로 확인할 수 있는 새 TV 광고 선보여[이데일리 김종호 기자] LG...</td>\n",
              "      <td>1</td>\n",
              "    </tr>\n",
              "    <tr>\n",
              "      <th>13</th>\n",
              "      <td>547</td>\n",
              "      <td>샤오미 최초의 폴더블폰 '미믹스폴드' 출시가격 172만원에서 최고 189만원자체 개...</td>\n",
              "      <td>0</td>\n",
              "    </tr>\n",
              "    <tr>\n",
              "      <th>14</th>\n",
              "      <td>1930</td>\n",
              "      <td>케이프투자증권 분석디스플레이·핸드폰 등 추정치 비슷…반도체가 하회\"4분기는 반도체 ...</td>\n",
              "      <td>0</td>\n",
              "    </tr>\n",
              "  </tbody>\n",
              "</table>\n",
              "</div>"
            ],
            "text/plain": [
              "      No                                               Text  S\n",
              "10   352  미국과 중국의 세계 반도체 공급망 패권 경쟁이 가열되면서 국내 반도체 산업도 긴장이...  0\n",
              "11  2319  핀크리얼리 세대별 보유주식 분석 결과2030세대 54% 삼성전자(우선주 포함) 보유...  1\n",
              "12  5372  스팀 기술 눈으로 확인할 수 있는 새 TV 광고 선보여[이데일리 김종호 기자] LG...  1\n",
              "13   547  샤오미 최초의 폴더블폰 '미믹스폴드' 출시가격 172만원에서 최고 189만원자체 개...  0\n",
              "14  1930  케이프투자증권 분석디스플레이·핸드폰 등 추정치 비슷…반도체가 하회\"4분기는 반도체 ...  0"
            ]
          },
          "metadata": {
            "tags": []
          },
          "execution_count": 139
        }
      ]
    },
    {
      "cell_type": "markdown",
      "metadata": {
        "id": "-7AtwnRFbMxJ"
      },
      "source": [
        "# 극성값 계산"
      ]
    },
    {
      "cell_type": "code",
      "metadata": {
        "id": "9NH68_XKI3u2"
      },
      "source": [
        "ksaa = KSAA()\n",
        "\n",
        "pola_std_text = []\n",
        "for i in range(len(std_data)): # 기사 하나 씩\n",
        "  \n",
        "    polar = 0\n",
        "    for k in std_data['Text'][i].split('.'): # 하나의 기사에서 한 문장           \n",
        "        tokens = ksaa.tokenize(k)\n",
        "        # print(i,tokens)\n",
        "\n",
        "        token_lst = []\n",
        "        for a in tokens:                    #> ['가/VV', '되/XSV', '확산/NNG', '따르/VV', '거리/NNG', '기/NNG', '정착/NNG', '시장/NNG', '이/JKS;불/VV', '불/VV', '등/NNB', '등/NNB;을/JKO'......]\n",
        "            one_dot = a.split('/')          #> ['확산', 'NNG']\n",
        "            if len(one_dot[0]) != int(1):   #>  '확산'\n",
        "                join_dot= '/'.join(one_dot) #>   확산/NNG\n",
        "                token_lst.append(join_dot)\n",
        "        \n",
        "        if len(token_lst) < int(2) :\n",
        "            token_lst=[]\n",
        "        \n",
        "        # print(token_lst)\n",
        "        score = ksaa.get_score(token_lst)   #> {'Positive': 55, 'Negative': -18, 'Polarity': 0.506849308125352, 'Subjectivity': 0.9999999863013701}\n",
        "        polar += score['Polarity']\n",
        "        sen_num = len(std_data['Text'][i].split('.')) #> 문장 수\n",
        "    \n",
        "    pola_std_text.append(polar/sen_num)\n",
        "\n",
        "std_data['polarity_std'] = pola_std_text\n"
      ],
      "execution_count": 141,
      "outputs": []
    },
    {
      "cell_type": "code",
      "metadata": {
        "colab": {
          "base_uri": "https://localhost:8080/"
        },
        "id": "_u7NSIL-HyNG",
        "outputId": "be03e4df-0448-4e91-ed9a-b5896d556aae"
      },
      "source": [
        "std_data.groupby(['S'])['polarity_std'].median(), std_data.groupby(['S'])['polarity_std'].mean()"
      ],
      "execution_count": 142,
      "outputs": [
        {
          "output_type": "execute_result",
          "data": {
            "text/plain": [
              "(S\n",
              " 0    0.254565\n",
              " 1    0.365882\n",
              " Name: polarity_std, dtype: float64, S\n",
              " 0    0.240956\n",
              " 1    0.352386\n",
              " Name: polarity_std, dtype: float64)"
            ]
          },
          "metadata": {
            "tags": []
          },
          "execution_count": 142
        }
      ]
    },
    {
      "cell_type": "code",
      "metadata": {
        "colab": {
          "base_uri": "https://localhost:8080/"
        },
        "id": "gnQbO_CEIHTk",
        "outputId": "0d81268d-ead3-4ce1-ff1d-7063ac70896d"
      },
      "source": [
        "std_data.groupby(['S'])['polarity_std'].min(), std_data.groupby(['S'])['polarity_std'].max()"
      ],
      "execution_count": 143,
      "outputs": [
        {
          "output_type": "execute_result",
          "data": {
            "text/plain": [
              "(S\n",
              " 0   -0.333333\n",
              " 1   -0.083004\n",
              " Name: polarity_std, dtype: float64, S\n",
              " 0    0.728768\n",
              " 1    0.800000\n",
              " Name: polarity_std, dtype: float64)"
            ]
          },
          "metadata": {
            "tags": []
          },
          "execution_count": 143
        }
      ]
    },
    {
      "cell_type": "code",
      "metadata": {
        "id": "gtnQoBbXOJ_v"
      },
      "source": [
        "a = std_data[std_data['S']== 0]\n",
        "b = std_data[std_data['S']== 1]"
      ],
      "execution_count": 150,
      "outputs": []
    },
    {
      "cell_type": "code",
      "metadata": {
        "colab": {
          "base_uri": "https://localhost:8080/",
          "height": 265
        },
        "id": "BZPAcYYbInir",
        "outputId": "d65aca56-9866-42a6-a756-cce80f9f1d5d"
      },
      "source": [
        "plt.hist(x=a['polarity_std'],label = 'not positive',bins=50,density=True, alpha = 0.5)\n",
        "plt.hist(x=b['polarity_std'],label = 'positive',bins=50,density=True ,  alpha = 0.5)\n",
        "plt.legend()\n",
        "plt.show()"
      ],
      "execution_count": 166,
      "outputs": [
        {
          "output_type": "display_data",
          "data": {
            "image/png": "[encoded data removed]",
            "text/plain": [
              "<Figure size 432x288 with 1 Axes>"
            ]
          },
          "metadata": {
            "tags": [],
            "needs_background": "light"
          }
        }
      ]
    },
    {
      "cell_type": "markdown",
      "metadata": {
        "id": "cCQptnSzbBnz"
      },
      "source": [
        "# 극성값에 따른 정확도 측정"
      ]
    },
    {
      "cell_type": "code",
      "metadata": {
        "id": "ZYc10ttNa7wH"
      },
      "source": [
        "accuracy_by_std = []\n",
        "\n",
        "for standard in np.arange(-0.08, 0.80, 0.001):\n",
        "    predict = []\n",
        "    for polarity in std_data['polarity_std']:\n",
        "        if polarity > standard :\n",
        "            predict.append(1)\n",
        "        else:\n",
        "            predict.append(0)\n",
        "    accuracy = np.sum(np.equal(std_data['S'],predict)) / len(std_data)\n",
        "    accuracy_by_std.append(accuracy)"
      ],
      "execution_count": 176,
      "outputs": []
    },
    {
      "cell_type": "code",
      "metadata": {
        "colab": {
          "base_uri": "https://localhost:8080/",
          "height": 279
        },
        "id": "fJA6UrapetAz",
        "outputId": "9f07ca20-23e4-4f74-e447-7dabeea7ac99"
      },
      "source": [
        "x = np.arange(-0.08, 0.80, 0.001)\n",
        "y = accuracy_by_std\n",
        "\n",
        "plt.plot(x,y)\n",
        "plt.xlabel('Polarity')\n",
        "plt.ylabel('Accuracy')\n",
        "plt.grid()\n",
        "plt.show()"
      ],
      "execution_count": 177,
      "outputs": [
        {
          "output_type": "display_data",
          "data": {
            "image/png": "[encoded data removed]",
            "text/plain": [
              "<Figure size 432x288 with 1 Axes>"
            ]
          },
          "metadata": {
            "tags": [],
            "needs_background": "light"
          }
        }
      ]
    },
    {
      "cell_type": "code",
      "metadata": {
        "colab": {
          "base_uri": "https://localhost:8080/"
        },
        "id": "n3QkyW6yfx2j",
        "outputId": "d387aa91-db11-4dc2-c737-9954fe9aa978"
      },
      "source": [
        "# 정확도 max 값, 최대 정확도의 인덱스 값 , 정확도 최대의 극성 기준 값\n",
        "max(accuracy_by_std) , accuracy_by_std.index(max(accuracy_by_std)) , std_data['polarity_std'][accuracy_by_std.index(max(accuracy_by_std))]"
      ],
      "execution_count": 185,
      "outputs": [
        {
          "output_type": "execute_result",
          "data": {
            "text/plain": [
              "(0.6260236578707916, 433, 0.44192977638886327)"
            ]
          },
          "metadata": {
            "tags": []
          },
          "execution_count": 185
        }
      ]
    }
  ]
}