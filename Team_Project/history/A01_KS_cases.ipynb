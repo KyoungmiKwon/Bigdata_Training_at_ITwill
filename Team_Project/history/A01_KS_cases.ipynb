{
  "nbformat": 4,
  "nbformat_minor": 0,
  "metadata": {
    "colab": {
      "name": "cases.ipynb",
      "provenance": [],
      "collapsed_sections": [],
      "include_colab_link": true
    },
    "kernelspec": {
      "name": "python3",
      "display_name": "Python 3"
    },
    "language_info": {
      "name": "python"
    }
  },
  "cells": [
    {
      "cell_type": "markdown",
      "metadata": {
        "id": "view-in-github",
        "colab_type": "text"
      },
      "source": [
        "<a href=\"https://colab.research.google.com/github/KyoungmiKwon/Bigdata_Training_at_ITwill/blob/main/Team_Project/A01_KS_cases.ipynb\" target=\"_parent\"><img src=\"https://colab.research.google.com/assets/colab-badge.svg\" alt=\"Open In Colab\"/></a>"
      ]
    },
    {
      "cell_type": "markdown",
      "metadata": {
        "id": "BKq_62co3jy8"
      },
      "source": [
        "# 가능한 것들?"
      ]
    },
    {
      "cell_type": "markdown",
      "metadata": {
        "id": "rOim99Sl5LtS"
      },
      "source": [
        "## 참고1"
      ]
    },
    {
      "cell_type": "markdown",
      "metadata": {
        "id": "vuIhsKWN4gOj"
      },
      "source": [
        "### 사물 인식\n",
        "* 인공지능 주차장 차단기 만들기 - 차량 + 번호판 인식 (https://www.youtube.com/watch?v=mmFrZV1iH0c)\n",
        "* 파이썬, 텐서플로, OpenCV 설치 초보자 가이드 - 윈도우 사용자용 (https://www.youtube.com/watch?v=772uC-_v0hs)\n",
        "* 내 얼굴만 따라오는 카메라 (https://www.youtube.com/watch?v=AhYo2zR0xCU)\n",
        "* 마스크 썼는지 안썼는지 알아내는 인공지능 (https://www.youtube.com/watch?v=ncIyy1doSJ8)\n",
        "* YOLO v5 커스텀 학습 튜토리얼 (https://www.youtube.com/watch?v=T0DO1C8uYP8)\n",
        "* 사물인식 YOLO v4 실습하는 영상 (https://www.youtube.com/watch?v=hxwEqXCgQO4)\n",
        "* 얼굴을 디즈니 애니메이션으로 만들어버리는 인공지능 (https://www.youtube.com/watch?v=84EqhSY-n6c)\n",
        "* 홍채 영역 인식 인공지능 만들기 (https://www.youtube.com/watch?v=1T3TM_crFBI)\n",
        "* 화장하는 인공지능 - Python, Deep Learning (https://www.youtube.com/watch?v=Uhn3dmW1uuM)\n",
        "* 곰 얼굴 영역 인식 - Python (https://www.youtube.com/watch?v=B4wwEw5Bm-o)\n",
        "* 세계 최고 성능의 얼굴 방향 및 랜드마크 인식 모델 - Python, Deep Learning (https://www.youtube.com/watch?v=mU_Pvk6WBzE)\n",
        "* 얼굴 인식 알고리즘 성능 비교 - Python, Deep Learning (https://www.youtube.com/watch?v=WL7xAJGnx_I)"
      ]
    },
    {
      "cell_type": "markdown",
      "metadata": {
        "id": "y70tJbXB61Uk"
      },
      "source": [
        "### sound\n",
        "* 인공지능 작곡 프로그램, 마르코프 체인 - Python (https://www.youtube.com/watch?v=qjFFPDLDLEo)\n",
        "* 음악 장르 분류 인공지능과 음악 추천 알고리즘 만들기 (https://www.youtube.com/watch?v=IE6lue0qusQ)"
      ]
    },
    {
      "cell_type": "markdown",
      "metadata": {
        "id": "B0TMg7pG62QT"
      },
      "source": [
        "### vedio + super_resolution\n",
        "* 저해상도를 고해상도 이미지로 만들기! Super Resolution - Python, Deep Learning (https://www.youtube.com/watch?v=VxRCku4Bkgg)\n",
        "* 후뢰시맨 비디오 테이프를 60FPS로 복원해보았다..! (https://www.youtube.com/watch?v=C45XCMrgfCI)\n",
        "* 영상의 전환점을 자동으로 인식하는 프로그램 PySceneDetect (https://www.youtube.com/watch?v=tyI9O_AYIZE)\n"
      ]
    },
    {
      "cell_type": "markdown",
      "metadata": {
        "id": "76L_OHmM62GE"
      },
      "source": [
        "### image\n",
        "* 사진 합성 인공지능 - Python, Deep Learning (https://www.youtube.com/watch?v=0my1lwzlgdA)\n",
        "* 사진을 합성하는 인공지능 만들기! - Python, Deep Learning (https://www.youtube.com/watch?v=zrSp5QuHru4)\n",
        "* GAN 초상화를 그리는 인공지능 - Python, Deep Learning (https://www.youtube.com/watch?v=yOLE9aCWAN4)\n",
        "* 사진을 유명 애니 감독의 화풍으로 바꾸는 인공지능 (https://www.youtube.com/watch?v=4tkhKTY6R7g)\n",
        "* 사진을 애니메이션으로 만들어주는 인공지능 (https://www.youtube.com/watch?v=GEeExioY4mk)\n",
        "* 낮을 밤으로 만드는 기적의 인공지능 (https://www.youtube.com/watch?v=HKso6s_9yHA)\n"
      ]
    },
    {
      "cell_type": "markdown",
      "metadata": {
        "id": "eWSLV2J5618r"
      },
      "source": [
        "### time\n",
        "* 삼성전자 주식, 이더리움 시세 인공지능으로 예측해보자 - Python, Deep Learning (https://www.youtube.com/watch?v=sG_WeGbZ9A4)\n",
        "* 물가를 예측하는 인공지능 - Python (https://www.youtube.com/watch?v=C_MOtffSues)\n"
      ]
    },
    {
      "cell_type": "markdown",
      "metadata": {
        "id": "5LFWBMfo61pD"
      },
      "source": [
        "### ect\n",
        "* 오목을 두는 인공지능을 만들어 겨뤄봤습니다 (https://www.youtube.com/watch?v=xigPAOl3v7I)\n",
        "* 표면의 결함을 알아내는 인공지능 - Outlier Detection (https://www.youtube.com/watch?v=RJ4oB6MWTsA)\n",
        "* 딥러닝으로 지문인식 인공지능 만들기 - Python, Deep Learning (https://www.youtube.com/watch?v=eFuaVltX2Bo)\n",
        "* 영화 추천 인공지능 만들기 - Python (https://www.youtube.com/watch?v=mLwMe4KUZz8)"
      ]
    },
    {
      "cell_type": "markdown",
      "metadata": {
        "id": "K215frC93Tzz"
      },
      "source": [
        "### 도움이 될지도?"
      ]
    },
    {
      "cell_type": "markdown",
      "metadata": {
        "id": "DwhFI9y86fAZ"
      },
      "source": [
        "1. 파이썬으로 익명 채팅 프로그램 만들기 (https://www.youtube.com/watch?v=Ly6IN2fOu5s)\n",
        "2. 넷플릭스 영상에 사람 눈에 안보이는 워터마크가 심어져있다 Forensic Watermark (https://www.youtube.com/watch?v=gwrNknrtcrg)\n",
        "3. 아스키 코드로 동영상 재생하기 (https://www.youtube.com/watch?v=CGqae7Y0ovA)\n",
        "4. 파노라마 사진 만들기 - Python (https://www.youtube.com/watch?v=L0BSTo804fg)\n",
        "5. 딥러닝 모델의 성능을 올리고 싶다면 꼭 보세요 - Python, Deep Learning (https://www.youtube.com/watch?v=5sXQGH9I2VM)\n"
      ]
    },
    {
      "cell_type": "markdown",
      "metadata": {
        "id": "7cxJyDGL4X5K"
      },
      "source": [
        "## 참고2"
      ]
    },
    {
      "cell_type": "markdown",
      "metadata": {
        "id": "InSyLGU_4eJL"
      },
      "source": [
        "* Meta-Transfer Learning for Zero-Shot Super-Resolution (꼼꼼한 딥러닝 논문 리뷰와 코드 실습) (https://www.youtube.com/watch?v=PUtFz4vqXHQ)\n",
        "*. Lesson 14: Deep Learning Part 2 2018 - Super resolution; Image segmentation with Unet (https://www.youtube.com/watch?v=nG3tT31nPmQ)"
      ]
    },
    {
      "cell_type": "code",
      "metadata": {
        "id": "yAUIfI-E73Nb"
      },
      "source": [
        ""
      ],
      "execution_count": null,
      "outputs": []
    }
  ]
}
