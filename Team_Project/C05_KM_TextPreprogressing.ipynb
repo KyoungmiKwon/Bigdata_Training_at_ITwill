{
  "nbformat": 4,
  "nbformat_minor": 0,
  "metadata": {
    "colab": {
      "name": "C05_KM_TextPreprogressing.ipynb",
      "provenance": [],
      "collapsed_sections": [],
      "mount_file_id": "1qajZdzoqoRSMYp2KETcAEnWGRySCjOBL",
      "authorship_tag": "ABX9TyNMmGQCSVsF63mNMZAxMvbm",
      "include_colab_link": true
    },
    "kernelspec": {
      "name": "python3",
      "display_name": "Python 3"
    },
    "language_info": {
      "name": "python"
    }
  },
  "cells": [
    {
      "cell_type": "markdown",
      "metadata": {
        "id": "view-in-github",
        "colab_type": "text"
      },
      "source": [
        "<a href=\"https://colab.research.google.com/github/KyoungmiKwon/Bigdata_Training_at_ITwill/blob/main/Team_Project/C05_KM_TextPreprogressing.ipynb\" target=\"_parent\"><img src=\"https://colab.research.google.com/assets/colab-badge.svg\" alt=\"Open In Colab\"/></a>"
      ]
    },
    {
      "cell_type": "markdown",
      "metadata": {
        "id": "4uRJTv5qhVa5"
      },
      "source": [
        "# Mecab 설치"
      ]
    },
    {
      "cell_type": "code",
      "metadata": {
        "id": "TUwMj8pHhLyg"
      },
      "source": [
        "%%bash\n",
        "apt-get update\n",
        "apt-get install g++ openjdk-8-jdk python-dev python3-dev\n",
        "pip3 install JPype1\n",
        "pip3 install konlpy"
      ],
      "execution_count": null,
      "outputs": []
    },
    {
      "cell_type": "code",
      "metadata": {
        "id": "NizrdlBAh_0L"
      },
      "source": [
        "%env JAVA_HOME \"/user/lib/jvm/java-8-openjdk-amd64\""
      ],
      "execution_count": null,
      "outputs": []
    },
    {
      "cell_type": "code",
      "metadata": {
        "id": "Ck9CujOGiGc4"
      },
      "source": [
        "%%bash\n",
        "bash <(curl -s https://raw.githubusercontent.com/konlpy/konlpy/master/scripts/mecab.sh)\n",
        "pip3 install /tmp/mecab-python-0.996"
      ],
      "execution_count": null,
      "outputs": []
    },
    {
      "cell_type": "code",
      "metadata": {
        "id": "TTXT-624keEo"
      },
      "source": [
        "!git clone https://github.com/entelecheia/eKoNLpy.git"
      ],
      "execution_count": null,
      "outputs": []
    },
    {
      "cell_type": "code",
      "metadata": {
        "id": "mr5sl8JlklZo"
      },
      "source": [
        "!pip install /content/eKoNLpy"
      ],
      "execution_count": null,
      "outputs": []
    },
    {
      "cell_type": "markdown",
      "metadata": {
        "id": "M1pyampskzvQ"
      },
      "source": [
        "# import"
      ]
    },
    {
      "cell_type": "code",
      "metadata": {
        "id": "wuSG_ljLku2A"
      },
      "source": [
        "import konlpy\n",
        "from ekonlpy.tag import Mecab\n",
        "\n",
        "import pandas as pd\n",
        "import numpy as np\n",
        "import matplotlib.pyplot as plt\n",
        "\n",
        "import logging # word2vec 학습과정에서 로그 메세지를 양식에 맞는 info 수준으로 볼 수 있다.\n",
        "from gensim.models import word2vec\n",
        "\n",
        "from sklearn.feature_extraction.text import TfidfVectorizer #TF-IDF\n",
        "from gensim.models.doc2vec import TaggedDocument,Doc2Vec\n",
        "\n",
        "from sklearn.model_selection import train_test_split, cross_validate, cross_val_score\n",
        "\n",
        "from sklearn.neighbors import KNeighborsClassifier \n",
        "\n",
        "from sklearn.linear_model import LogisticRegression\n",
        "\n",
        "from sklearn.linear_model import SGDClassifier\n",
        "from sklearn.metrics import confusion_matrix, classification_report\n",
        "\n",
        "from sklearn.preprocessing import StandardScaler\n",
        "\n",
        "from sklearn.model_selection import GridSearchCV,RandomizedSearchCV # 하이퍼 파라미터 튜닝\n",
        "from sklearn.tree import DecisionTreeClassifier, plot_tree\n",
        "from sklearn.metrics import confusion_matrix, classification_report"
      ],
      "execution_count": 6,
      "outputs": []
    },
    {
      "cell_type": "markdown",
      "metadata": {
        "id": "_iq9dX2znkoB"
      },
      "source": [
        "# 뉴스 기사 불러오기"
      ]
    },
    {
      "cell_type": "code",
      "metadata": {
        "id": "HEKeKGLXnoH3"
      },
      "source": [
        "data = pd.read_excel('/content/drive/MyDrive/Colab Notebooks/Project/samsung_only.xlsx',sheet_name='all',header=0)"
      ],
      "execution_count": 39,
      "outputs": []
    },
    {
      "cell_type": "code",
      "metadata": {
        "colab": {
          "base_uri": "https://localhost:8080/",
          "height": 80
        },
        "id": "KStl8nK6smMY",
        "outputId": "b4f5b98c-fea6-4c2d-bbe1-8b2dd0bc4dca"
      },
      "source": [
        "data[:1]"
      ],
      "execution_count": 40,
      "outputs": [
        {
          "output_type": "execute_result",
          "data": {
            "text/html": [
              "<div>\n",
              "<style scoped>\n",
              "    .dataframe tbody tr th:only-of-type {\n",
              "        vertical-align: middle;\n",
              "    }\n",
              "\n",
              "    .dataframe tbody tr th {\n",
              "        vertical-align: top;\n",
              "    }\n",
              "\n",
              "    .dataframe thead th {\n",
              "        text-align: right;\n",
              "    }\n",
              "</style>\n",
              "<table border=\"1\" class=\"dataframe\">\n",
              "  <thead>\n",
              "    <tr style=\"text-align: right;\">\n",
              "      <th></th>\n",
              "      <th>No</th>\n",
              "      <th>Code</th>\n",
              "      <th>Data</th>\n",
              "      <th>Journal</th>\n",
              "      <th>Title</th>\n",
              "      <th>Text</th>\n",
              "      <th>URL</th>\n",
              "      <th>Sample Y/N</th>\n",
              "      <th>In Charge</th>\n",
              "      <th>s</th>\n",
              "    </tr>\n",
              "  </thead>\n",
              "  <tbody>\n",
              "    <tr>\n",
              "      <th>0</th>\n",
              "      <td>52</td>\n",
              "      <td>5930</td>\n",
              "      <td>2021.04.13 17:50</td>\n",
              "      <td>파이낸셜뉴스</td>\n",
              "      <td>삼성전자 사내식당 2곳, 신세계·풀무원이 운영한다</td>\n",
              "      <td>삼성전자가 사내식당 2곳에 대해 실시한 외부 급식업체 경쟁입찰에서 '신세계푸드'와 ...</td>\n",
              "      <td>https://finance.naver.com/item/news_read.nhn?a...</td>\n",
              "      <td>Y</td>\n",
              "      <td>JY</td>\n",
              "      <td>1</td>\n",
              "    </tr>\n",
              "  </tbody>\n",
              "</table>\n",
              "</div>"
            ],
            "text/plain": [
              "   No  Code              Data  ... Sample Y/N In Charge  s\n",
              "0  52  5930  2021.04.13 17:50  ...          Y        JY  1\n",
              "\n",
              "[1 rows x 10 columns]"
            ]
          },
          "metadata": {
            "tags": []
          },
          "execution_count": 40
        }
      ]
    },
    {
      "cell_type": "code",
      "metadata": {
        "colab": {
          "base_uri": "https://localhost:8080/"
        },
        "id": "PWTGqXd-2WTn",
        "outputId": "7118969c-2e45-4dd9-a8b5-af8ee1779fb8"
      },
      "source": [
        "len(data)"
      ],
      "execution_count": 41,
      "outputs": [
        {
          "output_type": "execute_result",
          "data": {
            "text/plain": [
              "1714"
            ]
          },
          "metadata": {
            "tags": []
          },
          "execution_count": 41
        }
      ]
    },
    {
      "cell_type": "markdown",
      "metadata": {
        "id": "CW-AVNp3rypY"
      },
      "source": [
        "# 데이터 정제"
      ]
    },
    {
      "cell_type": "code",
      "metadata": {
        "id": "lI5O6PFdn0EA"
      },
      "source": [
        "# 중복기사 제거\n",
        "data = data.drop_duplicates(subset=['Data', 'Text'], keep='first')"
      ],
      "execution_count": 42,
      "outputs": []
    },
    {
      "cell_type": "code",
      "metadata": {
        "colab": {
          "base_uri": "https://localhost:8080/"
        },
        "id": "Bn5cyWqLh9vx",
        "outputId": "3c27b6a1-52f1-409e-bd9c-bfab297c0a2a"
      },
      "source": [
        "len(data)"
      ],
      "execution_count": 46,
      "outputs": [
        {
          "output_type": "execute_result",
          "data": {
            "text/plain": [
              "1688"
            ]
          },
          "metadata": {
            "tags": []
          },
          "execution_count": 46
        }
      ]
    },
    {
      "cell_type": "code",
      "metadata": {
        "colab": {
          "base_uri": "https://localhost:8080/",
          "height": 89
        },
        "id": "e37D5hDMsSJn",
        "outputId": "5dd31d76-4ecc-4552-abfe-ce9f7dffa417"
      },
      "source": [
        "data.iloc[0]['Text'].split(sep='@')[0]"
      ],
      "execution_count": 47,
      "outputs": [
        {
          "output_type": "execute_result",
          "data": {
            "application/vnd.google.colaboratory.intrinsic+json": {
              "type": "string"
            },
            "text/plain": [
              "'삼성전자가 사내식당 2곳에 대해 실시한 외부 급식업체 경쟁입찰에서 \\'신세계푸드\\'와 \\'풀무원푸드앤컬처\\'가 운영 업체로 선정됐다고 13일 밝혔다.    삼성전자는 지난 2월, 단체급식의 다양한 메뉴와 향상된 서비스를 통해 임직원의 복리후생을 향상시키고자 수원사업장과 기흥사업장 내 사내식당 2곳에 대해 공개 입찰을 공고했다.    약 20개 업체가 참여한 이번 입찰은 서류 심사를 거쳐 △메뉴 구성과 서비스 등을 평가하는 프레젠테이션 △업체의 인프라와 위생 등을 점검하는 현장 실사 △임직원 음식 품평회까지 총 3단계에 걸친 엄격하고 공정한 절차를 통해 진행됐다. 기존에 단체급식을 공급했던웰스토리는 이 입찰에서 배제됐다.    최종 선정된 \\'신세계푸드\\'와 \\'풀무원푸드앤컬처\\'는 약 한달 반 동안 고용승계, 업무인수 등을 마친 후 6월 1일부터 운영을 시작할 예정이다. 삼성전자 관계자는 \"신규 업체에 대한 임직원 만족도와 운영상 보완점 등을 검토 후에 다른 사내식당에 대해서도 경쟁입찰을 확대해 나갈 계획\"이라고 말했다.  ahnman'"
            ]
          },
          "metadata": {
            "tags": []
          },
          "execution_count": 47
        }
      ]
    },
    {
      "cell_type": "code",
      "metadata": {
        "colab": {
          "base_uri": "https://localhost:8080/"
        },
        "id": "4gQlf65eoQY5",
        "outputId": "d49f20ef-58fe-4b4e-e204-777ed7d98174"
      },
      "source": [
        "# 기사 본문 기자의 이메일 OOOO @ asdfas.com 에서 @ 전 까지의 내용으로 저장\n",
        "for i in range(len(data)):\n",
        "    data.iloc[i]['Text'] = data.iloc[i]['Text'].split(sep='@')[0]\n",
        "\n",
        "# 파일 새로 저장\n",
        "data.to_excel('/content/drive/MyDrive/Colab Notebooks/Project/article.xlsx',index=False)\n",
        "# 다시 불러 오기\n",
        "news = pd.read_excel('/content/drive/MyDrive/Colab Notebooks/Project/article.xlsx',header=0)"
      ],
      "execution_count": 137,
      "outputs": [
        {
          "output_type": "stream",
          "text": [
            "/usr/local/lib/python3.7/dist-packages/ipykernel_launcher.py:3: SettingWithCopyWarning: \n",
            "A value is trying to be set on a copy of a slice from a DataFrame\n",
            "\n",
            "See the caveats in the documentation: https://pandas.pydata.org/pandas-docs/stable/user_guide/indexing.html#returning-a-view-versus-a-copy\n",
            "  This is separate from the ipykernel package so we can avoid doing imports until\n"
          ],
          "name": "stderr"
        }
      ]
    },
    {
      "cell_type": "code",
      "metadata": {
        "id": "rxpR2w4JwOCn"
      },
      "source": [
        "#> 1. 기사에서 한글 제외하고 모두 제거\n",
        "news['Text'] = news['Text'].str.replace(\"[^ㄱ-ㅎ ㅏ-ㅣ 가-힣]\",\"\") \n",
        "\n",
        "#> 2. 기사에서 특정품사 추출\n",
        "tag_cls = ['NNG','VV+EC','XSV+EP']\n",
        "# NNG = 일반명사, VV = 동사, EC = 연결어미, XSV = 동사파생접미사, EP = 선어말 어미, SL = 외국어\n",
        "\n",
        "mc = Mecab()\n",
        "artc = []\n",
        "for line in news['Text'][:]:\n",
        "    temp = []  \n",
        "    for word in mc.pos(line):\n",
        "        if word[1] in tag_cls:\n",
        "            temp.append(word[0])\n",
        "    artc.append(temp)\n",
        "\n",
        "#> 3. 불용어처리\n",
        "swords = ['삼성전자','삼성','기자','인텔','신세계','풀무원','마음속','파이낸셜','뉴스','조선','비즈','조선비즈', '자세', '내용', '세계', '단전', '아시아','이미지', '출처', '머니','속보',\n",
        "          '저작','무단','전재','배포','금지','월일','기자', '전자','저작권','종합', '정보', '미디어', '유준','낸드','닷컴']\n",
        "\n",
        "text = []\n",
        "\n",
        "for tx in artc:\n",
        "    temp = []\n",
        "    for word in tx:\n",
        "        if word not in swords:\n",
        "            if len(word) >1 :       #4) 길이가 짧은 글자 제거 (optional)\n",
        "                temp.append(word)\n",
        "    text.append(temp)\n",
        "\n",
        "#> Word2Vec 에서 빈도수 낮은 단어를 삭제 시키는 파라미터가 있음\n",
        "\n",
        "#> 5. 낮은 빈도수 단어 제거\n",
        "# step 1) 단어 별 빈도수\n",
        "## 단어의 빈도 수\n",
        "vocab ={}\n",
        "for word in text:\n",
        "    for w in word:\n",
        "        if w not in vocab:\n",
        "            vocab[w] = 0\n",
        "        vocab[w] += 1\n",
        "\n",
        "\n",
        "\n",
        "# step 2) 빈도수 낮은 단어의 삭제\n",
        "## 1. 빈도수가 높은 순서대로 정렬\n",
        "vocab_sorted = sorted(vocab.items(), key = lambda x:x[1], reverse =False)\n",
        "print(vocab_sorted)\n",
        "\n",
        "## 2. 빈도수가 낮은 순서대로 정수 인덱스 부여\n",
        "word_to_index = {}\n",
        "\n",
        "for (word,freq) in vocab_sorted:\n",
        "    word_to_index[word] = freq\n",
        "print(word_to_index)\n",
        "\n",
        "# 3. 빈도수 낮은 단어의 선택\n",
        "words_del = {}\n",
        "threshold = 30\n",
        "for word,cnt in word_to_index.items():\n",
        "    if cnt < threshold:\n",
        "        words_del[word]= cnt\n",
        "print(words_del)\n",
        "\n",
        "# 4. 빈도 낮은 단어 삭제\n",
        "txt = []\n",
        "\n",
        "for tx in text:\n",
        "    temp = []\n",
        "    for word in tx:\n",
        "        if word not in words_del:\n",
        "            temp.append(word)\n",
        "    txt.append(temp)\n"
      ],
      "execution_count": null,
      "outputs": []
    },
    {
      "cell_type": "code",
      "metadata": {
        "colab": {
          "base_uri": "https://localhost:8080/"
        },
        "id": "gw2WURY82PnA",
        "outputId": "584942c8-90d8-4668-be8f-d8112d17934e"
      },
      "source": [
        "len(txt)"
      ],
      "execution_count": 146,
      "outputs": [
        {
          "output_type": "execute_result",
          "data": {
            "text/plain": [
              "1688"
            ]
          },
          "metadata": {
            "tags": []
          },
          "execution_count": 146
        }
      ]
    },
    {
      "cell_type": "code",
      "metadata": {
        "id": "EugH68dFirTH"
      },
      "source": [
        "news_dt = news.copy()"
      ],
      "execution_count": 147,
      "outputs": []
    },
    {
      "cell_type": "code",
      "metadata": {
        "id": "D4fIpsAzg27o"
      },
      "source": [
        "news_dt['seperate'] = txt"
      ],
      "execution_count": 148,
      "outputs": []
    },
    {
      "cell_type": "code",
      "metadata": {
        "colab": {
          "base_uri": "https://localhost:8080/"
        },
        "id": "zwJSlq6fVaA3",
        "outputId": "880d8f7c-85bf-4ed3-928f-5fa518c38a44"
      },
      "source": [
        "# 내용의 길이가 너무 짧은 기사의 전체 내역 삭제\n",
        "\n",
        "line_del = []\n",
        "for i,line in enumerate(news_dt['seperate']):\n",
        "    if len(line) < 7:\n",
        "        line_del.append(i)\n",
        "        news_dt = news_dt.drop(index=i, axis=0)\n",
        "\n",
        "print(len(line_del))\n",
        "print(len(news_dt))\n"
      ],
      "execution_count": 149,
      "outputs": [
        {
          "output_type": "stream",
          "text": [
            "17\n",
            "1671\n"
          ],
          "name": "stdout"
        }
      ]
    },
    {
      "cell_type": "code",
      "metadata": {
        "colab": {
          "base_uri": "https://localhost:8080/",
          "height": 114
        },
        "id": "5kpzMFgvj7C3",
        "outputId": "089a92e6-25d0-4072-dd30-b1b0bda4e4bd"
      },
      "source": [
        "news_dt[:1]"
      ],
      "execution_count": 130,
      "outputs": [
        {
          "output_type": "execute_result",
          "data": {
            "text/html": [
              "<div>\n",
              "<style scoped>\n",
              "    .dataframe tbody tr th:only-of-type {\n",
              "        vertical-align: middle;\n",
              "    }\n",
              "\n",
              "    .dataframe tbody tr th {\n",
              "        vertical-align: top;\n",
              "    }\n",
              "\n",
              "    .dataframe thead th {\n",
              "        text-align: right;\n",
              "    }\n",
              "</style>\n",
              "<table border=\"1\" class=\"dataframe\">\n",
              "  <thead>\n",
              "    <tr style=\"text-align: right;\">\n",
              "      <th></th>\n",
              "      <th>No</th>\n",
              "      <th>Code</th>\n",
              "      <th>Data</th>\n",
              "      <th>Journal</th>\n",
              "      <th>Title</th>\n",
              "      <th>Text</th>\n",
              "      <th>URL</th>\n",
              "      <th>Sample Y/N</th>\n",
              "      <th>In Charge</th>\n",
              "      <th>s</th>\n",
              "      <th>seperate</th>\n",
              "    </tr>\n",
              "  </thead>\n",
              "  <tbody>\n",
              "    <tr>\n",
              "      <th>0</th>\n",
              "      <td>52</td>\n",
              "      <td>5930</td>\n",
              "      <td>2021.04.13 17:50</td>\n",
              "      <td>파이낸셜뉴스</td>\n",
              "      <td>삼성전자 사내식당 2곳, 신세계·풀무원이 운영한다</td>\n",
              "      <td>삼성전자가 사내식당 곳에 대해 실시한 외부 급식업체 경쟁입찰에서 신세계푸드와 풀무원...</td>\n",
              "      <td>https://finance.naver.com/item/news_read.nhn?a...</td>\n",
              "      <td>Y</td>\n",
              "      <td>JY</td>\n",
              "      <td>1</td>\n",
              "      <td>[사내, 식당, 실시, 외부, 급식, 업체, 경쟁입찰, 푸드, 컬처, 운영, 업체,...</td>\n",
              "    </tr>\n",
              "  </tbody>\n",
              "</table>\n",
              "</div>"
            ],
            "text/plain": [
              "   No  Code  ...  s                                           seperate\n",
              "0  52  5930  ...  1  [사내, 식당, 실시, 외부, 급식, 업체, 경쟁입찰, 푸드, 컬처, 운영, 업체,...\n",
              "\n",
              "[1 rows x 11 columns]"
            ]
          },
          "metadata": {
            "tags": []
          },
          "execution_count": 130
        }
      ]
    },
    {
      "cell_type": "code",
      "metadata": {
        "id": "QMDnPyaAkFRB"
      },
      "source": [
        "news_dt.to_excel('/content/drive/MyDrive/Colab Notebooks/Project/news_dt.xlsx',index=False)"
      ],
      "execution_count": 131,
      "outputs": []
    },
    {
      "cell_type": "code",
      "metadata": {
        "colab": {
          "base_uri": "https://localhost:8080/"
        },
        "id": "G77M1rPAvKJx",
        "outputId": "dea07a08-d7a8-48d7-ac95-6398f767784d"
      },
      "source": [
        "for i in news_dt['seperate'][:3]:\n",
        "    for x in i:\n",
        "        print(x)"
      ],
      "execution_count": 144,
      "outputs": [
        {
          "output_type": "stream",
          "text": [
            "사내\n",
            "식당\n",
            "실시\n",
            "외부\n",
            "급식\n",
            "업체\n",
            "경쟁입찰\n",
            "푸드\n",
            "컬처\n",
            "운영\n",
            "업체\n",
            "선정\n",
            "단체\n",
            "급식\n",
            "다양\n",
            "메뉴\n",
            "향상\n",
            "서비스\n",
            "임직원\n",
            "복리\n",
            "후생\n",
            "향상\n",
            "사업장\n",
            "기흥\n",
            "사업장\n",
            "사내\n",
            "식당\n",
            "공개입찰\n",
            "공고\n",
            "업체\n",
            "참여\n",
            "이번\n",
            "입찰\n",
            "서류\n",
            "심사\n",
            "메뉴\n",
            "구성\n",
            "서비스\n",
            "평가\n",
            "프레젠테이션\n",
            "업체\n",
            "인프라\n",
            "위생\n",
            "점검\n",
            "현장실사\n",
            "임직원\n",
            "음식\n",
            "품평회\n",
            "단계\n",
            "엄격\n",
            "공정\n",
            "절차\n",
            "진행\n",
            "기존\n",
            "단체\n",
            "급식\n",
            "공급\n",
            "스토리\n",
            "입찰\n",
            "배제\n",
            "최종\n",
            "선정\n",
            "푸드\n",
            "컬처\n",
            "동안\n",
            "고용\n",
            "승계\n",
            "업무\n",
            "인수\n",
            "운영\n",
            "시작\n",
            "예정\n",
            "관계자\n",
            "신규\n",
            "업체\n",
            "임직원\n",
            "만족도\n",
            "운영\n",
            "보완\n",
            "검토\n",
            "사내\n",
            "식당\n",
            "경쟁입찰\n",
            "계획\n",
            "대통령\n",
            "현지\n",
            "시간\n",
            "공급망\n",
            "강화\n",
            "온라인\n",
            "회담\n",
            "참석\n",
            "인사말\n",
            "유튜브\n",
            "실시간\n",
            "중계\n",
            "백악관\n",
            "전세계\n",
            "공급\n",
            "부족\n",
            "의견\n",
            "가운데\n",
            "이번\n",
            "회담\n",
            "결정\n",
            "발표\n",
            "백악관\n",
            "대변인\n",
            "현지\n",
            "시간\n",
            "정례\n",
            "브리핑\n",
            "대통령\n",
            "회의\n",
            "참석\n",
            "이유\n",
            "의견\n",
            "문제\n",
            "지속\n",
            "논의\n",
            "일부\n",
            "설명\n",
            "산업\n",
            "협력\n",
            "의회\n",
            "합의\n",
            "부족\n",
            "사태\n",
            "방지\n",
            "국가\n",
            "산업\n",
            "차원\n",
            "합의\n",
            "이날\n",
            "백악관\n",
            "국가\n",
            "안보\n",
            "보좌관\n",
            "국가경제위원회\n",
            "주재\n",
            "부족\n",
            "해소\n",
            "온라인\n",
            "화상회의\n",
            "대통령\n",
            "합류\n",
            "일정\n",
            "참석\n",
            "인사말\n",
            "이날\n",
            "백악관\n",
            "초대\n",
            "포함\n",
            "대만\n",
            "구글\n",
            "모회사\n",
            "알파벳\n",
            "테크놀로지\n",
            "피스톤\n",
            "그룹\n",
            "워터\n",
            "테크놀로지\n",
            "개사\n",
            "포함\n",
            "사장\n",
            "참석\n",
            "이날\n",
            "대통령\n",
            "부족\n",
            "문제\n",
            "해결\n",
            "의회\n",
            "지지\n",
            "공급망\n",
            "강화\n",
            "달러\n",
            "규모\n",
            "인프라\n",
            "연구개발\n",
            "관련\n",
            "일자리\n",
            "계획\n",
            "강조\n",
            "백악관\n",
            "이중\n",
            "달러\n",
            "배정\n",
            "제안\n",
            "실행\n",
            "시간\n",
            "중단기\n",
            "해결\n",
            "방안\n",
            "모색\n",
            "자동차\n",
            "전세계\n",
            "부족\n",
            "자동차\n",
            "생산량\n",
            "만대\n",
            "방해\n",
            "경고\n",
            "주말\n",
            "트럭\n",
            "교대\n",
            "근무\n",
            "취소\n",
            "미래\n",
            "신성장동력\n",
            "이란\n",
            "관측\n",
            "강세\n",
            "사업부\n",
            "완전\n",
            "철수\n",
            "확정\n",
            "로봇\n",
            "주력\n",
            "로봇\n",
            "전담팀\n",
            "신설\n",
            "상태\n",
            "오후\n",
            "거래일\n",
            "거래\n",
            "월부\n",
            "철수\n",
            "미래\n",
            "먹거리\n",
            "전기자동차\n",
            "부품\n",
            "로봇\n",
            "공학\n",
            "인공지능\n",
            "집중\n",
            "이란\n",
            "제기\n",
            "설립\n",
            "로봇\n",
            "센터\n",
            "비즈니스\n",
            "솔루션\n",
            "본부\n",
            "이관\n",
            "본부\n",
            "영업\n",
            "인프라\n",
            "역량\n",
            "활용\n",
            "로봇\n",
            "진출\n",
            "교두보\n",
            "마련\n",
            "계획\n",
            "로봇\n",
            "제조\n",
            "전문기업\n",
            "지분\n",
            "인수\n",
            "로봇\n",
            "산업\n",
            "개발\n",
            "속력\n",
            "소비자\n",
            "가전\n",
            "직속\n",
            "로봇\n",
            "전담팀\n",
            "신설\n",
            "과거\n",
            "통합\n",
            "연구\n",
            "조직\n",
            "리서치\n",
            "로봇\n",
            "연구\n",
            "진행\n",
            "부문\n",
            "신설\n",
            "로봇\n",
            "상용화\n",
            "본격\n",
            "속도\n",
            "한편\n",
            "로봇\n",
            "제조사\n",
            "지분\n",
            "이후\n",
            "협업\n",
            "로봇\n",
            "플랫폼\n",
            "매출\n",
            "계획\n"
          ],
          "name": "stdout"
        }
      ]
    }
  ]
}