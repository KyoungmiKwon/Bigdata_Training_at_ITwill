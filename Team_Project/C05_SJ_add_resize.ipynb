{
  "nbformat": 4,
  "nbformat_minor": 0,
  "metadata": {
    "colab": {
      "name": "C05_SJ_add_resize.ipynb",
      "provenance": [],
      "collapsed_sections": [],
      "mount_file_id": "1QuwARcXQCQycgocj8l8v_EIfov3qt6O6",
      "authorship_tag": "ABX9TyPCjBb/jlViJVVgKlN9o4l2",
      "include_colab_link": true
    },
    "kernelspec": {
      "name": "python3",
      "display_name": "Python 3"
    },
    "language_info": {
      "name": "python"
    }
  },
  "cells": [
    {
      "cell_type": "markdown",
      "metadata": {
        "id": "view-in-github",
        "colab_type": "text"
      },
      "source": [
        "<a href=\"https://colab.research.google.com/github/KyoungmiKwon/Bigdata_Training_at_ITwill/blob/main/Team_Project/C05_SJ_add_resize.ipynb\" target=\"_parent\"><img src=\"https://colab.research.google.com/assets/colab-badge.svg\" alt=\"Open In Colab\"/></a>"
      ]
    },
    {
      "cell_type": "code",
      "metadata": {
        "colab": {
          "base_uri": "https://localhost:8080/"
        },
        "id": "Gw4QIb6c9HI8",
        "outputId": "b76c76f6-38dd-4465-c870-afccc7d3f0f9"
      },
      "source": [
        "#Konlpy 설치\n",
        "%%bash\n",
        "apt-get update\n",
        "apt-get install g++ openjdk-8-jdk python-dev python3-dev\n",
        "pip3 install JPype1\n",
        "pip3 install konlpy\n"
      ],
      "execution_count": null,
      "outputs": [
        {
          "output_type": "stream",
          "text": [
            "Ign:1 https://developer.download.nvidia.com/compute/cuda/repos/ubuntu1804/x86_64  InRelease\n",
            "Ign:2 https://developer.download.nvidia.com/compute/machine-learning/repos/ubuntu1804/x86_64  InRelease\n",
            "Hit:3 https://developer.download.nvidia.com/compute/cuda/repos/ubuntu1804/x86_64  Release\n",
            "Hit:4 https://developer.download.nvidia.com/compute/machine-learning/repos/ubuntu1804/x86_64  Release\n",
            "Get:5 http://security.ubuntu.com/ubuntu bionic-security InRelease [88.7 kB]\n",
            "Hit:7 http://ppa.launchpad.net/c2d4u.team/c2d4u4.0+/ubuntu bionic InRelease\n",
            "Hit:8 http://archive.ubuntu.com/ubuntu bionic InRelease\n",
            "Get:10 http://archive.ubuntu.com/ubuntu bionic-updates InRelease [88.7 kB]\n",
            "Hit:11 http://ppa.launchpad.net/cran/libgit2/ubuntu bionic InRelease\n",
            "Hit:12 https://cloud.r-project.org/bin/linux/ubuntu bionic-cran40/ InRelease\n",
            "Hit:13 http://ppa.launchpad.net/deadsnakes/ppa/ubuntu bionic InRelease\n",
            "Get:14 http://archive.ubuntu.com/ubuntu bionic-backports InRelease [74.6 kB]\n",
            "Hit:15 http://ppa.launchpad.net/graphics-drivers/ppa/ubuntu bionic InRelease\n",
            "Fetched 252 kB in 2s (116 kB/s)\n",
            "Reading package lists...\n",
            "Reading package lists...\n",
            "Building dependency tree...\n",
            "Reading state information...\n",
            "python-dev is already the newest version (2.7.15~rc1-1).\n",
            "g++ is already the newest version (4:7.4.0-1ubuntu2.3).\n",
            "python3-dev is already the newest version (3.6.7-1~18.04).\n",
            "openjdk-8-jdk is already the newest version (8u292-b10-0ubuntu1~18.04).\n",
            "The following package was automatically installed and is no longer required:\n",
            "  libnvidia-common-460\n",
            "Use 'apt autoremove' to remove it.\n",
            "0 upgraded, 0 newly installed, 0 to remove and 76 not upgraded.\n",
            "Requirement already satisfied: JPype1 in /usr/local/lib/python3.7/dist-packages (1.2.1)\n",
            "Requirement already satisfied: typing-extensions; python_version < \"3.8\" in /usr/local/lib/python3.7/dist-packages (from JPype1) (3.7.4.3)\n",
            "Requirement already satisfied: konlpy in /usr/local/lib/python3.7/dist-packages (0.5.2)\n",
            "Requirement already satisfied: JPype1>=0.7.0 in /usr/local/lib/python3.7/dist-packages (from konlpy) (1.2.1)\n",
            "Requirement already satisfied: lxml>=4.1.0 in /usr/local/lib/python3.7/dist-packages (from konlpy) (4.2.6)\n",
            "Requirement already satisfied: tweepy>=3.7.0 in /usr/local/lib/python3.7/dist-packages (from konlpy) (3.10.0)\n",
            "Requirement already satisfied: numpy>=1.6 in /usr/local/lib/python3.7/dist-packages (from konlpy) (1.19.5)\n",
            "Requirement already satisfied: colorama in /usr/local/lib/python3.7/dist-packages (from konlpy) (0.4.4)\n",
            "Requirement already satisfied: beautifulsoup4==4.6.0 in /usr/local/lib/python3.7/dist-packages (from konlpy) (4.6.0)\n",
            "Requirement already satisfied: typing-extensions; python_version < \"3.8\" in /usr/local/lib/python3.7/dist-packages (from JPype1>=0.7.0->konlpy) (3.7.4.3)\n",
            "Requirement already satisfied: requests-oauthlib>=0.7.0 in /usr/local/lib/python3.7/dist-packages (from tweepy>=3.7.0->konlpy) (1.3.0)\n",
            "Requirement already satisfied: requests[socks]>=2.11.1 in /usr/local/lib/python3.7/dist-packages (from tweepy>=3.7.0->konlpy) (2.23.0)\n",
            "Requirement already satisfied: six>=1.10.0 in /usr/local/lib/python3.7/dist-packages (from tweepy>=3.7.0->konlpy) (1.15.0)\n",
            "Requirement already satisfied: oauthlib>=3.0.0 in /usr/local/lib/python3.7/dist-packages (from requests-oauthlib>=0.7.0->tweepy>=3.7.0->konlpy) (3.1.0)\n",
            "Requirement already satisfied: urllib3!=1.25.0,!=1.25.1,<1.26,>=1.21.1 in /usr/local/lib/python3.7/dist-packages (from requests[socks]>=2.11.1->tweepy>=3.7.0->konlpy) (1.24.3)\n",
            "Requirement already satisfied: certifi>=2017.4.17 in /usr/local/lib/python3.7/dist-packages (from requests[socks]>=2.11.1->tweepy>=3.7.0->konlpy) (2020.12.5)\n",
            "Requirement already satisfied: idna<3,>=2.5 in /usr/local/lib/python3.7/dist-packages (from requests[socks]>=2.11.1->tweepy>=3.7.0->konlpy) (2.10)\n",
            "Requirement already satisfied: chardet<4,>=3.0.2 in /usr/local/lib/python3.7/dist-packages (from requests[socks]>=2.11.1->tweepy>=3.7.0->konlpy) (3.0.4)\n",
            "Requirement already satisfied: PySocks!=1.5.7,>=1.5.6; extra == \"socks\" in /usr/local/lib/python3.7/dist-packages (from requests[socks]>=2.11.1->tweepy>=3.7.0->konlpy) (1.7.1)\n",
            "mecab-ko is already installed\n",
            "mecab-ko-dic is already installed\n",
            "mecab-python is already installed\n",
            "Done.\n",
            "Processing /tmp/mecab-python-0.996\n",
            "Building wheels for collected packages: mecab-python\n",
            "  Building wheel for mecab-python (setup.py): started\n",
            "  Building wheel for mecab-python (setup.py): finished with status 'done'\n",
            "  Created wheel for mecab-python: filename=mecab_python-0.996_ko_0.9.2-cp37-cp37m-linux_x86_64.whl size=141805 sha256=e0e4e237aaca228b546a7198a6a349e1a9af61a1778a37dfe9f8b2c3a42c5b43\n",
            "  Stored in directory: /root/.cache/pip/wheels/99/75/a6/e9e73a1dbd73579383644942ef18a6d17ad728a3052a1147fb\n",
            "Successfully built mecab-python\n",
            "Installing collected packages: mecab-python\n",
            "  Found existing installation: mecab-python 0.996-ko-0.9.2\n",
            "    Uninstalling mecab-python-0.996-ko-0.9.2:\n",
            "      Successfully uninstalled mecab-python-0.996-ko-0.9.2\n",
            "Successfully installed mecab-python-0.996-ko-0.9.2\n"
          ],
          "name": "stdout"
        },
        {
          "output_type": "stream",
          "text": [
            "bash: line 6: fg: no job control\n",
            "bash: line 8: fg: no job control\n",
            "bash: line 13: !git: command not found\n",
            "bash: line 14: !pip: command not found\n",
            "from: can't read /var/mail/ekonlpy.tag\n",
            "bash: line 17: import: command not found\n",
            "bash: line 18: import: command not found\n",
            "bash: line 19: import: command not found\n"
          ],
          "name": "stderr"
        }
      ]
    },
    {
      "cell_type": "code",
      "metadata": {
        "colab": {
          "base_uri": "https://localhost:8080/"
        },
        "id": "9YheX81lP6fF",
        "outputId": "71c1acb0-9232-4090-cfed-7515601a16ac"
      },
      "source": [
        "#Mecab 설치\n",
        "%env JAVA_HOME \"/usr/lib/jvm/java-8-openjdk-amd64\""
      ],
      "execution_count": null,
      "outputs": [
        {
          "output_type": "stream",
          "text": [
            "env: JAVA_HOME=\"/usr/lib/jvm/java-8-openjdk-amd64\"\n"
          ],
          "name": "stdout"
        }
      ]
    },
    {
      "cell_type": "code",
      "metadata": {
        "colab": {
          "base_uri": "https://localhost:8080/"
        },
        "id": "yPzCRHmDP851",
        "outputId": "426a7e59-100e-4d62-9cc9-5cae3d7c2a69"
      },
      "source": [
        "%%bash\n",
        "bash <(curl -s https://raw.githubusercontent.com/konlpy/konlpy/master/scripts/mecab.sh)\n",
        "pip3 install /tmp/mecab-python-0.996"
      ],
      "execution_count": null,
      "outputs": [
        {
          "output_type": "stream",
          "text": [
            "mecab-ko is already installed\n",
            "mecab-ko-dic is already installed\n",
            "mecab-python is already installed\n",
            "Done.\n",
            "Processing /tmp/mecab-python-0.996\n",
            "Building wheels for collected packages: mecab-python\n",
            "  Building wheel for mecab-python (setup.py): started\n",
            "  Building wheel for mecab-python (setup.py): finished with status 'done'\n",
            "  Created wheel for mecab-python: filename=mecab_python-0.996_ko_0.9.2-cp37-cp37m-linux_x86_64.whl size=141810 sha256=32cd4d0e1ea0c4da912ada1421b166e005a17c06e16bc92fcc412d4d42b35453\n",
            "  Stored in directory: /root/.cache/pip/wheels/99/75/a6/e9e73a1dbd73579383644942ef18a6d17ad728a3052a1147fb\n",
            "Successfully built mecab-python\n",
            "Installing collected packages: mecab-python\n",
            "  Found existing installation: mecab-python 0.996-ko-0.9.2\n",
            "    Uninstalling mecab-python-0.996-ko-0.9.2:\n",
            "      Successfully uninstalled mecab-python-0.996-ko-0.9.2\n",
            "Successfully installed mecab-python-0.996-ko-0.9.2\n"
          ],
          "name": "stdout"
        }
      ]
    },
    {
      "cell_type": "code",
      "metadata": {
        "colab": {
          "base_uri": "https://localhost:8080/"
        },
        "id": "Ogpg0d4iP_VF",
        "outputId": "f72cedb6-0211-4420-81fd-4410286ac1bd"
      },
      "source": [
        "!git clone https://github.com/entelecheia/eKoNLpy.git\n",
        "!pip install /content/eKoNLpy"
      ],
      "execution_count": null,
      "outputs": [
        {
          "output_type": "stream",
          "text": [
            "Cloning into 'eKoNLpy'...\n",
            "remote: Enumerating objects: 3590, done.\u001b[K\n",
            "remote: Total 3590 (delta 0), reused 0 (delta 0), pack-reused 3590\u001b[K\n",
            "Receiving objects: 100% (3590/3590), 73.30 MiB | 21.41 MiB/s, done.\n",
            "Resolving deltas: 100% (2618/2618), done.\n",
            "Processing ./eKoNLpy\n",
            "Requirement already satisfied: konlpy>=0.4.4 in /usr/local/lib/python3.7/dist-packages (from eKoNLPy==0.5.30) (0.5.2)\n",
            "Requirement already satisfied: nltk>=2.0 in /usr/local/lib/python3.7/dist-packages (from eKoNLPy==0.5.30) (3.2.5)\n",
            "Requirement already satisfied: gensim>=3.1.0 in /usr/local/lib/python3.7/dist-packages (from eKoNLPy==0.5.30) (3.6.0)\n",
            "Requirement already satisfied: scipy>=0.19.1 in /usr/local/lib/python3.7/dist-packages (from eKoNLPy==0.5.30) (1.4.1)\n",
            "Requirement already satisfied: numpy>=1.13 in /usr/local/lib/python3.7/dist-packages (from eKoNLPy==0.5.30) (1.19.5)\n",
            "Requirement already satisfied: colorama in /usr/local/lib/python3.7/dist-packages (from konlpy>=0.4.4->eKoNLPy==0.5.30) (0.4.4)\n",
            "Requirement already satisfied: JPype1>=0.7.0 in /usr/local/lib/python3.7/dist-packages (from konlpy>=0.4.4->eKoNLPy==0.5.30) (1.2.1)\n",
            "Requirement already satisfied: beautifulsoup4==4.6.0 in /usr/local/lib/python3.7/dist-packages (from konlpy>=0.4.4->eKoNLPy==0.5.30) (4.6.0)\n",
            "Requirement already satisfied: lxml>=4.1.0 in /usr/local/lib/python3.7/dist-packages (from konlpy>=0.4.4->eKoNLPy==0.5.30) (4.2.6)\n",
            "Requirement already satisfied: tweepy>=3.7.0 in /usr/local/lib/python3.7/dist-packages (from konlpy>=0.4.4->eKoNLPy==0.5.30) (3.10.0)\n",
            "Requirement already satisfied: six in /usr/local/lib/python3.7/dist-packages (from nltk>=2.0->eKoNLPy==0.5.30) (1.15.0)\n",
            "Requirement already satisfied: smart-open>=1.2.1 in /usr/local/lib/python3.7/dist-packages (from gensim>=3.1.0->eKoNLPy==0.5.30) (5.0.0)\n",
            "Requirement already satisfied: typing-extensions; python_version < \"3.8\" in /usr/local/lib/python3.7/dist-packages (from JPype1>=0.7.0->konlpy>=0.4.4->eKoNLPy==0.5.30) (3.7.4.3)\n",
            "Requirement already satisfied: requests-oauthlib>=0.7.0 in /usr/local/lib/python3.7/dist-packages (from tweepy>=3.7.0->konlpy>=0.4.4->eKoNLPy==0.5.30) (1.3.0)\n",
            "Requirement already satisfied: requests[socks]>=2.11.1 in /usr/local/lib/python3.7/dist-packages (from tweepy>=3.7.0->konlpy>=0.4.4->eKoNLPy==0.5.30) (2.23.0)\n",
            "Requirement already satisfied: oauthlib>=3.0.0 in /usr/local/lib/python3.7/dist-packages (from requests-oauthlib>=0.7.0->tweepy>=3.7.0->konlpy>=0.4.4->eKoNLPy==0.5.30) (3.1.0)\n",
            "Requirement already satisfied: idna<3,>=2.5 in /usr/local/lib/python3.7/dist-packages (from requests[socks]>=2.11.1->tweepy>=3.7.0->konlpy>=0.4.4->eKoNLPy==0.5.30) (2.10)\n",
            "Requirement already satisfied: chardet<4,>=3.0.2 in /usr/local/lib/python3.7/dist-packages (from requests[socks]>=2.11.1->tweepy>=3.7.0->konlpy>=0.4.4->eKoNLPy==0.5.30) (3.0.4)\n",
            "Requirement already satisfied: urllib3!=1.25.0,!=1.25.1,<1.26,>=1.21.1 in /usr/local/lib/python3.7/dist-packages (from requests[socks]>=2.11.1->tweepy>=3.7.0->konlpy>=0.4.4->eKoNLPy==0.5.30) (1.24.3)\n",
            "Requirement already satisfied: certifi>=2017.4.17 in /usr/local/lib/python3.7/dist-packages (from requests[socks]>=2.11.1->tweepy>=3.7.0->konlpy>=0.4.4->eKoNLPy==0.5.30) (2020.12.5)\n",
            "Requirement already satisfied: PySocks!=1.5.7,>=1.5.6; extra == \"socks\" in /usr/local/lib/python3.7/dist-packages (from requests[socks]>=2.11.1->tweepy>=3.7.0->konlpy>=0.4.4->eKoNLPy==0.5.30) (1.7.1)\n",
            "Building wheels for collected packages: eKoNLPy\n",
            "  Building wheel for eKoNLPy (setup.py) ... \u001b[?25l\u001b[?25hdone\n",
            "  Created wheel for eKoNLPy: filename=eKoNLPy-0.5.30-cp37-none-any.whl size=14437140 sha256=00d7de6bf075e7a4f0a1f2aa7d3363dcc1a16d3749f13db134c345ed65dca5d1\n",
            "  Stored in directory: /tmp/pip-ephem-wheel-cache-x8qho81f/wheels/42/07/b6/a197e00efdc4534f4c1d281bd028c47764df1a63a8b311aa3d\n",
            "Successfully built eKoNLPy\n",
            "Installing collected packages: eKoNLPy\n",
            "Successfully installed eKoNLPy-0.5.30\n"
          ],
          "name": "stdout"
        }
      ]
    },
    {
      "cell_type": "code",
      "metadata": {
        "id": "KBXRbCZPQCZd"
      },
      "source": [
        "\n",
        "from ekonlpy.tag import Mecab\n",
        "import pandas as pd\n",
        "import numpy as np\n",
        "import matplotlib.pyplot as plt"
      ],
      "execution_count": null,
      "outputs": []
    },
    {
      "cell_type": "code",
      "metadata": {
        "id": "rf3uyFX19K4i"
      },
      "source": [
        "import abc\n",
        "from ekonlpy.utils import installpath\n",
        "\n",
        "LEXICON_PATH = '%s/data/lexicon' % installpath\n",
        "\n",
        "\n",
        "class BaseDict(object):\n",
        " \n",
        "\n",
        "    __metaclass__ = abc.ABCMeta\n",
        "\n",
        "    TAG_POL = 'Polarity'\n",
        "    TAG_SUB = 'Subjectivity'\n",
        "    TAG_POS = 'Positive'\n",
        "    TAG_NEG = 'Negative'\n",
        "\n",
        "    EPSILON = 1e-6\n",
        "\n",
        "    def __init__(self, tokenizer=None, kind=None, intensity_cutoff=None):\n",
        "        self._posdict = {}\n",
        "        self._negdict = {}\n",
        "        self._poldict = {}\n",
        "        self._intensity_cutoff = intensity_cutoff\n",
        "        self.init_dict(kind, intensity_cutoff)\n",
        "        if tokenizer is None:\n",
        "            self.init_tokenizer(kind)\n",
        "        else:\n",
        "            self._tokenizer = tokenizer\n",
        "\n",
        "        assert len(self._posdict) > 0 and len(self._negdict) > 0\n",
        "\n",
        "    def tokenize(self, text):\n",
        "\n",
        "        return self._tokenizer.tokenize(text)\n",
        "\n",
        "\n",
        "    @abc.abstractmethod\n",
        "    def init_tokenizer(self, kind):\n",
        "        pass\n",
        "\n",
        "    @abc.abstractmethod\n",
        "    def init_dict(self, kind, intensity_cutoff):\n",
        "        pass\n",
        "\n",
        "    def _get_score(self, term, by_count=True):\n",
        "\n",
        "        if by_count:\n",
        "            if term in self._posdict.keys():\n",
        "                return self._posdict[term]\n",
        "            elif term in self._negdict.keys():\n",
        "                return self._negdict[term]\n",
        "            else:\n",
        "                return 0\n",
        "        else:\n",
        "            if term in self._poldict.keys():\n",
        "                return self._poldict[term]\n",
        "            else:\n",
        "                return 0\n",
        "\n",
        "    def get_score(self, terms, by_count=True):\n",
        "\n",
        "        assert isinstance(terms, list) or isinstance(terms, tuple)\n",
        "        score_li = [self._get_score(t, by_count) for t in terms]\n",
        "        pos_score_li = [s for s in score_li if s > 0]\n",
        "        neg_score_li = [s for s in score_li if s < 0]\n",
        "\n",
        "        s_pos = sum(pos_score_li)\n",
        "        s_neg = sum(neg_score_li)\n",
        "\n",
        "        s_pol = (s_pos + s_neg) * 1.0 / (((s_pos - s_neg) if by_count else len(score_li)) + self.EPSILON)\n",
        "        s_sub = (len(pos_score_li) + len(neg_score_li)) * 1.0 / (len(score_li) + self.EPSILON)\n",
        "\n",
        "        return {self.TAG_POS: s_pos,\n",
        "                self.TAG_NEG: s_neg,\n",
        "                self.TAG_POL: s_pol,\n",
        "                self.TAG_SUB: s_sub}"
      ],
      "execution_count": null,
      "outputs": []
    },
    {
      "cell_type": "code",
      "metadata": {
        "id": "jBk-BZOk9pvK"
      },
      "source": [
        "import abc\n",
        "import re\n",
        "import nltk\n",
        "import os\n",
        "from ekonlpy.tag import Mecab\n",
        "from ekonlpy.sentiment.base import LEXICON_PATH\n",
        "from konlpy.tag import Kkma\n",
        "\n",
        "\n",
        "class BaseTokenizer(object):\n",
        "    '''\n",
        "    An abstract class for tokenize text.\n",
        "    '''\n",
        "\n",
        "    __metaclass__ = abc.ABCMeta\n",
        "\n",
        "    @abc.abstractmethod\n",
        "    def tokenize(self, text):\n",
        "        '''Return tokenized temrs.\n",
        "        \n",
        "        :type text: str\n",
        "        \n",
        "        :returns: list \n",
        "        '''\n",
        "        pass\n",
        "\n",
        "    # @abc.abstractmethod\n",
        "    # def ngramize(self, tokens):\n",
        "    #     '''Return n-gramized temrs.\n",
        "    #\n",
        "    #     :type tokens: list of tokens\n",
        "    #\n",
        "    #     :returns: list\n",
        "    #     '''\n",
        "    #     pass\n",
        "\n",
        "\n",
        "class KTokenizer(BaseTokenizer):\n",
        "    '''\n",
        "    The default tokenizer for KSA sub class.\n",
        "    The output of the tokenizer is tagged by Kkma.\n",
        "    '''\n",
        "\n",
        "    def __init__(self, vocab=None):\n",
        "        self._tagger = Kkma()\n",
        "        self._vocab = vocab\n",
        "        self._min_ngram = 1\n",
        "        self._ngram = 3\n",
        "        self._delimiter = ';'\n",
        "        self._skiptags = ['SF', 'SP', 'SS', 'SE', 'SO', 'SW', 'UN', 'UV', 'UE', 'OL', 'OH', 'ON']\n",
        "\n",
        "    def tokenize(self, text):\n",
        "        tokens = []\n",
        "        if type(text) == list:\n",
        "            for t in text:\n",
        "                tokens += self.morpheme(t)\n",
        "        elif type(text) == str:\n",
        "            tokens = self.morpheme(text)\n",
        "        else:\n",
        "            raise ValueError('The dataset has to be string or list of string type.')\n",
        "\n",
        "        return self.ngramize(tokens)\n",
        "\n",
        "    def ngramize(self, tokens):\n",
        "        ngram_tokens = []\n",
        "        tokens = [w for w in tokens if w.split('/')[1] not in self._skiptags]\n",
        "        for pos in range(len(tokens)):\n",
        "            for gram in range(1, self._ngram + 1):\n",
        "                token = self.get_ngram(tokens, pos, gram)\n",
        "                if token:\n",
        "                    if self._vocab is None:\n",
        "                        ngram_tokens.append(token)\n",
        "                    else:\n",
        "                        if token in self._vocab:\n",
        "                            ngram_tokens.append(token)\n",
        "        return ngram_tokens\n",
        "\n",
        "    def get_ngram(self, tokens, pos, gram):\n",
        "        if pos < 0:\n",
        "            return None\n",
        "        if pos + gram > len(tokens):\n",
        "            return None\n",
        "        token = tokens[pos]\n",
        "        for i in range(1, gram):\n",
        "            token += self._delimiter + tokens[pos + i]\n",
        "        return token\n",
        "\n",
        "    def morpheme(self, dataset):\n",
        "        return self.align_morpheme(self._tagger.pos(dataset))\n",
        "\n",
        "    def align_morpheme(self, morpheme):\n",
        "        return ['{}/{}'.format(w, t) for w, t in morpheme]"
      ],
      "execution_count": null,
      "outputs": []
    },
    {
      "cell_type": "code",
      "metadata": {
        "id": "PRmQmqP_9szK"
      },
      "source": [
        "import os\n",
        "from konlpy.tag import Kkma\n",
        "from ekonlpy.sentiment.base import LEXICON_PATH, BaseDict\n",
        "from ekonlpy.sentiment.utils import KTokenizer\n",
        "from ekonlpy.tag import Mecab\n",
        "\n",
        "class KSAA(BaseDict):\n",
        "    '''\n",
        "    Dictionary class for\n",
        "    Korean Sentiment Analysis.\n",
        "    '''\n",
        "\n",
        "    def init_tokenizer(self, kind=None):\n",
        "        self._tokenizer = KTokenizer(self._poldict)\n",
        "\n",
        "    def init_dict(self, kind=None, intensity_cutoff=None):\n",
        "        path = os.path.join('/content/polar_dictionary.csv')\n",
        "        with open(path, encoding='utf-8') as f:\n",
        "            for line in f:\n",
        "                word = line.split(',')\n",
        "                w = word[0]\n",
        "                if w == 'ngram':\n",
        "                    continue\n",
        "                \n",
        "                p = float(word[6].strip())\n",
        "                n = float(word[3].strip())\n",
        "                s = p - n\n",
        "                if len(w) > 1:\n",
        "                    if s > 0:\n",
        "                        self._posdict[w] = 1\n",
        "                        self._poldict[w] = s\n",
        "                    elif s < 0:\n",
        "                        self._negdict[w] = -1\n",
        "                        self._poldict[w] = s\n",
        "\n",
        "\n",
        "class KOSAC(object):\n",
        "    def __init__(self):\n",
        "        self._loaddic()\n",
        "        self._tagger = Mecab()\n",
        "        self._ngram = 3\n",
        "        self._delimiter = ';'\n",
        "        self._skiptags = ['SF', 'SP', 'SS', 'SE', 'SO', 'SW', 'UN', 'UV', 'UE', 'OL', 'OH', 'ON']\n",
        "\n",
        "    def _loaddic(self):\n",
        "        self._polarity = self._loadfile('/content/polar_dictionary.csv')\n",
        "        self._expressive = self._loadfile(os.path.join(LEXICON_PATH, 'kosac', 'expressive-type.csv'))\n",
        "        self._intensity = self._loadfile(os.path.join(LEXICON_PATH, 'kosac', 'intensity.csv'))\n",
        "\n",
        "    def _loadfile(self, file_path, delimiter=','):\n",
        "        vocab = {}\n",
        "        if os.path.isfile(file_path):\n",
        "            with open(file_path) as f:\n",
        "                for lno, line in enumerate(f):\n",
        "                    # skip header\n",
        "                    if lno == 0:\n",
        "                        headers = line.strip().split(delimiter)\n",
        "                    else:\n",
        "                        if len(line) > 0:\n",
        "                            row = line.strip().split(delimiter)\n",
        "                            ngram = row[0]\n",
        "                            # ngram_split = tuple(ngram.split(';'))\n",
        "                            data = {}\n",
        "                            for i, header in enumerate(headers):\n",
        "                                if i > 0:\n",
        "                                    data[header] = row[i]\n",
        "                            vocab[ngram] = data\n",
        "        return vocab\n",
        "\n",
        "    def morpheme(self, dataset):\n",
        "        return self.align_morpheme(self._tagger.pos(dataset))\n",
        "\n",
        "    def align_morpheme(self, morpheme):\n",
        "        return ['{}/{}'.format(w, t) for w, t in morpheme]\n",
        "\n",
        "    def percentage(self, obj):\n",
        "        return {k: v / sum(obj.values()) for k, v in obj.items()}\n",
        "\n",
        "    def calc(self, keypairs, source, target, func):\n",
        "        for keypair in keypairs:\n",
        "            sourcekey = keypair[0]\n",
        "            targetkey = keypair[1]\n",
        "            if sourcekey in source:\n",
        "                sourcedata = source[sourcekey]\n",
        "                sourcedata = float(sourcedata)\n",
        "                target[targetkey] = func(sourcedata, target[targetkey])\n",
        "        return target\n",
        "\n",
        "    def match(self, data, pairdata, keypairs):\n",
        "        ret = {k[1]: 0 for k in keypairs}\n",
        "        for m in data:\n",
        "            if m in pairdata:\n",
        "                currentdata = pairdata[m]\n",
        "                ret = self.calc(keypairs, currentdata, ret,\n",
        "                                lambda s, t: t + s)\n",
        "        return self.percentage(ret)\n",
        "\n",
        "    def polarity(self, data):\n",
        "        return self.match(data,\n",
        "                          self._polarity,\n",
        "                          [['COMP', 'com'],\n",
        "                           ['POS', 'pos'],\n",
        "                           ['NEG', 'neg'],\n",
        "                           ['NEUT', 'neut'],\n",
        "                           ['None', 'none']])\n",
        "\n",
        "    def intensity(self, data):\n",
        "        return self.match(data,\n",
        "                          self._intensity,\n",
        "                          [['High', 'high'],\n",
        "                           ['Low', 'low'],\n",
        "                           ['Medium', 'medium'],\n",
        "                           ['None', 'none']])\n",
        "\n",
        "    def expressive(self, data):\n",
        "        return self.match(data,\n",
        "                          self._expressive,\n",
        "                          [['dir-action', 'dir-action'],\n",
        "                           ['dir-explicit', 'dir-explicit'],\n",
        "                           ['dir-speech', 'dir-speech'],\n",
        "                           ['indirect', 'indirect'],\n",
        "                           ['writing-device', 'writing-device']])\n",
        "\n",
        "    def analyze(self, dataset):\n",
        "        dataset = self.parse(dataset)\n",
        "        ret = {}\n",
        "        for analysis in ['polarity', 'intensity', 'expressive']:\n",
        "            func = getattr(self, analysis)\n",
        "            ret[analysis] = func(dataset)\n",
        "        return ret\n",
        "\n",
        "    def parse(self, dataset):\n",
        "        tokens = []\n",
        "        if type(dataset) == list:\n",
        "            for t in dataset:\n",
        "                tokens += self.morpheme(t)\n",
        "        elif type(dataset) == str:\n",
        "            tokens = self.morpheme(dataset)\n",
        "        else:\n",
        "            raise ValueError('The dataset has to be string or list of string type.')\n",
        "\n",
        "        return self.ngramize(tokens)\n",
        "\n",
        "    def ngramize(self, tokens):\n",
        "        ngram_tokens = []\n",
        "        tokens = [w for w in tokens if w.split('/')[1] not in self._skiptags]\n",
        "        for pos in range(len(tokens)):\n",
        "            for gram in range(1, self._ngram + 1):\n",
        "                token = self.get_ngram(tokens, pos, gram)\n",
        "                if token:\n",
        "                    ngram_tokens.append(token)\n",
        "        return ngram_tokens\n",
        "\n",
        "    def get_ngram(self, tokens, pos, gram):\n",
        "        if pos < 0:\n",
        "            return None\n",
        "        if pos + gram > len(tokens):\n",
        "            return None\n",
        "        token = tokens[pos]\n",
        "        for i in range(1, gram):\n",
        "            token += self._delimiter + tokens[pos + i]\n",
        "        return token"
      ],
      "execution_count": null,
      "outputs": []
    },
    {
      "cell_type": "code",
      "metadata": {
        "id": "exN6ZYSP9uop"
      },
      "source": [
        "ksaa = KSAA()"
      ],
      "execution_count": null,
      "outputs": []
    },
    {
      "cell_type": "markdown",
      "metadata": {
        "id": "3eLPs3ARUA7U"
      },
      "source": [
        "# **resized 사전 사용 >>추가된 사전으로 정확도 측정**"
      ]
    },
    {
      "cell_type": "code",
      "metadata": {
        "colab": {
          "base_uri": "https://localhost:8080/"
        },
        "id": "0g3XR1RXQXvl",
        "outputId": "8f6e629e-8e6d-40c2-9de3-05be7d8bb5f3"
      },
      "source": [
        "xls_path='/content/C01_KM_Data_Labeling_resized (1).xlsx'\n",
        "news_copy = pd.read_excel(xls_path, header=5)\n",
        "\n",
        "ksaa = KSAA()\n",
        "title_pol_copy=[]\n",
        "for i in range(590):\n",
        "    for k in news_copy['Title'][i].replace('...','').replace('..','').replace('.','').split(sep='.'):\n",
        "        tokens= ksaa.tokenize(k)\n",
        "        score = ksaa.get_score(tokens)\n",
        "        title_pol_copy.append(score['Polarity'])\n",
        "\n",
        "#제목 극성 /2 = title_polr\n",
        "title_polr_copy=np.array(title_pol_copy)/2\n",
        "print(len(title_polr_copy))\n",
        "\n",
        "text_pol_copy=[]\n",
        "for i in range(590):\n",
        "    polar=0\n",
        "    for k in news_copy['Text'][i].split(sep='.'):\n",
        "        tokens= ksaa.tokenize(k)\n",
        "        score = ksaa.get_score(tokens)\n",
        "        polar+=score['Polarity']\n",
        "        sen_num=len(news_copy['Text'][i].split(sep='.'))\n",
        "    text_pol_copy.append(polar/sen_num)\n",
        "\n",
        "text_polr_copy=np.array(text_pol_copy)/2\n",
        "total_polr_copy=title_polr_copy + text_polr_copy\n",
        "news_arr_copy=np.array(news_copy['Sentiment'])\n",
        "news_copy['title_polar_copy']=title_polr_copy\n",
        "news_copy['text_polar_copy']=text_polr_copy\n",
        "news_copy['total_polar_copy']=total_polr_copy"
      ],
      "execution_count": null,
      "outputs": [
        {
          "output_type": "stream",
          "text": [
            "590\n"
          ],
          "name": "stdout"
        }
      ]
    },
    {
      "cell_type": "code",
      "metadata": {
        "id": "vHch6TwcQirU"
      },
      "source": [
        "def polar_mean_copy( polar_set):\n",
        "    aa=news_copy[news_copy['Sentiment']==-1][f'{polar_set}']\n",
        "    aaa=0\n",
        "    # bb=news_set[news_set['Sentiment']==0][f'{polar_set}']\n",
        "    # bbb=0\n",
        "    cc=news_copy[news_copy['Sentiment']==1][f'{polar_set}']\n",
        "    ccc=0\n",
        "    for a in aa:\n",
        "        aaa+=a\n",
        "\n",
        "    # for b in bb:\n",
        "    #     bbb+=b\n",
        "\n",
        "    for c in cc:\n",
        "        ccc+=c\n",
        "    print(aaa/sum(news_copy['Sentiment']==-1), ccc/sum(news_copy['Sentiment']==1))\n",
        "    print(sum(news_copy['Sentiment']==-1),sum(news_copy['Sentiment']==1))\n",
        "    # print(f'neg_mean : {aaa/sum(news_set['Sentiment']==-1)}, neut_mean : {bbb/sum(news_set['Sentiment']==0)},pos_mean : {aaa/sum(news_set['Sentiment']==1)}')\n"
      ],
      "execution_count": null,
      "outputs": []
    },
    {
      "cell_type": "code",
      "metadata": {
        "colab": {
          "base_uri": "https://localhost:8080/"
        },
        "id": "jf5-e8piQkfV",
        "outputId": "aa26d101-dbf1-455a-e167-bb3c4366363b"
      },
      "source": [
        "polar_mean_copy('title_polar_copy')\n",
        "polar_mean_copy('text_polar_copy')\n",
        "polar_mean_copy('total_polar_copy')"
      ],
      "execution_count": null,
      "outputs": [
        {
          "output_type": "stream",
          "text": [
            "-0.022077302319230108 0.18888206444052785\n",
            "178 412\n",
            "0.05396961771751358 0.1291568312498757\n",
            "178 412\n",
            "0.031892315398283445 0.31803889569040333\n",
            "178 412\n"
          ],
          "name": "stdout"
        }
      ]
    },
    {
      "cell_type": "code",
      "metadata": {
        "id": "POQwyMCiQuXN"
      },
      "source": [
        "accuaracy=[]\n",
        "for x in np.arange(-0.2,0.2,0.001):\n",
        "    result_a_copy=[]\n",
        "    for a in news_copy['total_polar_copy']:    \n",
        "        if a > x:\n",
        "            result_a_copy.append(1)\n",
        "        else:\n",
        "            result_a_copy.append(-1)\n",
        "    ac = np.sum(np.equal(news_copy['Sentiment'],result_a_copy))/len(result_a_copy)\n",
        "    accuaracy.append(ac)\n",
        "    "
      ],
      "execution_count": null,
      "outputs": []
    },
    {
      "cell_type": "code",
      "metadata": {
        "colab": {
          "base_uri": "https://localhost:8080/",
          "height": 280
        },
        "id": "AK7uAoN5Qv0W",
        "outputId": "3a258b4e-061e-4e05-aea4-98f550d8e20c"
      },
      "source": [
        "x= np.arange(-0.2,0.2,0.001)\n",
        "y=accuaracy\n",
        "plt.plot(x,y)\n",
        "plt.xlabel('Crit_Score')\n",
        "plt.ylabel('Total_ACC')\n",
        "plt.grid()\n",
        "plt.show()"
      ],
      "execution_count": null,
      "outputs": [
        {
          "output_type": "display_data",
          "data": {
            "image/png": "[encoded data removed]",
            "text/plain": [
              "<Figure size 432x288 with 1 Axes>"
            ]
          },
          "metadata": {
            "tags": [],
            "needs_background": "light"
          }
        }
      ]
    },
    {
      "cell_type": "markdown",
      "metadata": {
        "id": "lZ-AjOesULOG"
      },
      "source": [
        "# **위와 동일 조건에서 한글자 단어 제거, 한 단어 문장 제거 79~80%**"
      ]
    },
    {
      "cell_type": "code",
      "metadata": {
        "colab": {
          "base_uri": "https://localhost:8080/"
        },
        "id": "D1DPUb1fQzMN",
        "outputId": "33b83d91-c92c-4b48-d0ef-dbbb67493445"
      },
      "source": [
        "xls_path='/content/C01_KM_Data_Labeling_resized (1).xlsx'\n",
        "news_copy = pd.read_excel(xls_path, header=5)\n",
        "\n",
        "ksaa = KSAA()\n",
        "title_pol_co=[]\n",
        "for i in range(590):\n",
        "    for k in news_copy['Title'][i].replace('...','').replace('..','').replace('.','').split(sep='.'):\n",
        "        tokens= ksaa.tokenize(k)\n",
        "        token_lst=[]  \n",
        "        for a in tokens:\n",
        "            one_dot=a.split('/')\n",
        "            if len(one_dot[0])!=int(1):\n",
        "                join_dot='/'.join(one_dot)\n",
        "                token_lst.append(join_dot)\n",
        "        if len(token_lst) < int(2):\n",
        "            token_lst=[]\n",
        "        score = ksaa.get_score(token_lst)\n",
        "        title_pol_co.append(score['Polarity'])\n",
        "\n",
        "#제목 극성 /2 = title_polr\n",
        "title_polr_co=np.array(title_pol_co)/2\n",
        "print(len(title_polr_co))\n",
        "\n",
        "text_pol_co=[]\n",
        "for i in range(590):\n",
        "    polar=0\n",
        "    for k in news_copy['Text'][i].split(sep='.'):\n",
        "        tokens= ksaa.tokenize(k)\n",
        "        token_lst=[]  \n",
        "        for a in tokens:\n",
        "            one_dot=a.split('/')\n",
        "            if len(one_dot[0])!=int(1):\n",
        "                join_dot='/'.join(one_dot)\n",
        "                token_lst.append(join_dot)\n",
        "        if len(token_lst) < int(2):\n",
        "            token_lst=[]\n",
        "        score = ksaa.get_score(token_lst)\n",
        "        polar+=score['Polarity']\n",
        "        sen_num=len(news_copy['Text'][i].split(sep='.'))\n",
        "    text_pol_co.append(polar/sen_num)\n",
        "\n",
        "\n",
        "text_polr_co=np.array(text_pol_co)*/2\n",
        "total_polr_co=title_polr_co + text_polr_co\n",
        "news_arr_co=np.array(news_copy['Sentiment'])\n",
        "news_copy['title_polar_co']=title_polr_co\n",
        "news_copy['text_polar_co']=text_polr_co\n",
        "news_copy['total_polar_co']=total_polr_co\n",
        "\n",
        "\n"
      ],
      "execution_count": null,
      "outputs": [
        {
          "output_type": "stream",
          "text": [
            "590\n"
          ],
          "name": "stdout"
        }
      ]
    },
    {
      "cell_type": "code",
      "metadata": {
        "id": "rdk_8T4BQ1rm"
      },
      "source": [
        "def polar_mean_co( news_column):\n",
        "    aa=news_copy[news_copy['Sentiment']==-1][f'{polar_set}']\n",
        "    aaa=0\n",
        "    # bb=news_set[news_set['Sentiment']==0][f'{polar_set}']\n",
        "    # bbb=0\n",
        "    cc=news_copy[news_copy['Sentiment']==1][f'{polar_set}']\n",
        "    ccc=0\n",
        "    for a in aa:\n",
        "        aaa+=a\n",
        "\n",
        "    # for b in bb:\n",
        "    #     bbb+=b\n",
        "\n",
        "    for c in cc:\n",
        "        ccc+=c\n",
        "    print(aaa/sum(news_copy['Sentiment']==-1), ccc/sum(news_copy['Sentiment']==1))\n",
        "    print(sum(news_copy['Sentiment']==-1),sum(news_copy['Sentiment']==1))"
      ],
      "execution_count": null,
      "outputs": []
    },
    {
      "cell_type": "code",
      "metadata": {
        "id": "aD2sZ3xiFi_B"
      },
      "source": [
        "def polar_mean( news_copy,test_col ,target_col):\n",
        "    aa=news_copy[news_copy[f'{test_col}']==-1][f'{target_col}']\n",
        "    aaa=0\n",
        "    # bb=news_set[news_set['Sentiment']==0][f'{polar_set}']\n",
        "    # bbb=0\n",
        "    cc=news_copy[news_copy[f'{test_col}']==1][f'{target_col}']\n",
        "    ccc=0\n",
        "    for a in aa:\n",
        "        aaa+=a\n",
        "\n",
        "    # for b in bb:\n",
        "    #     bbb+=b\n",
        "\n",
        "    for c in cc:\n",
        "        ccc+=c\n",
        "    print(aaa/sum(news_copy[f'{test_col}']==-1), ccc/sum(news_copy[f'{test_col}']==1))\n",
        "    print(sum(news_copy[f'{test_col}']==-1),sum(news_copy[f'{test_col}']==1))"
      ],
      "execution_count": null,
      "outputs": []
    },
    {
      "cell_type": "code",
      "metadata": {
        "colab": {
          "base_uri": "https://localhost:8080/"
        },
        "id": "6TXjeA8LQ5VV",
        "outputId": "3de9b23e-a234-42d9-807c-793c46c3d92f"
      },
      "source": [
        "polar_mean_co('title_polar_co')\n",
        "polar_mean_co('text_polar_co')\n",
        "polar_mean_co('total_polar_co')"
      ],
      "execution_count": null,
      "outputs": [
        {
          "output_type": "stream",
          "text": [
            "0.004775278796817547 0.16955032952016186\n",
            "178 412\n",
            "0.07525937582875146 0.18119911713779613\n",
            "178 412\n",
            "0.080034654625569 0.3507494466579579\n",
            "178 412\n"
          ],
          "name": "stdout"
        }
      ]
    },
    {
      "cell_type": "code",
      "metadata": {
        "id": "Jlk2YDYeQ9CN"
      },
      "source": [
        "acc=[]\n",
        "for x in np.arange(-0.2,0.2,0.001):\n",
        "    result_a_co=[]\n",
        "    for a in news_copy['total_polar_co']:    \n",
        "        if a > x:\n",
        "            result_a_co.append(1)\n",
        "        else:\n",
        "            result_a_co.append(-1)\n",
        "    ac = np.sum(np.equal(news_copy['Sentiment'],result_a_co))/len(result_a_co)\n",
        "    acc.append(ac)\n",
        "    \n"
      ],
      "execution_count": null,
      "outputs": []
    },
    {
      "cell_type": "code",
      "metadata": {
        "colab": {
          "base_uri": "https://localhost:8080/",
          "height": 280
        },
        "id": "1mvg37LqQ-Y9",
        "outputId": "6b8e8307-489c-4b41-871d-32bf9774f919"
      },
      "source": [
        "x= np.arange(-0.2,0.2,0.001)\n",
        "y=acc\n",
        "plt.plot(x,y)\n",
        "plt.xlabel('Crit_Score')\n",
        "plt.ylabel('Total_ACC')\n",
        "plt.grid()\n",
        "plt.show()"
      ],
      "execution_count": null,
      "outputs": [
        {
          "output_type": "display_data",
          "data": {
            "image/png": "[encoded data removed]",
            "text/plain": [
              "<Figure size 432x288 with 1 Axes>"
            ]
          },
          "metadata": {
            "tags": [],
            "needs_background": "light"
          }
        }
      ]
    },
    {
      "cell_type": "code",
      "metadata": {
        "colab": {
          "base_uri": "https://localhost:8080/",
          "height": 280
        },
        "id": "68o6Q3MnW__t",
        "outputId": "5a1657a7-c313-4406-950b-39ae555543b3"
      },
      "source": [
        "acc=[]\n",
        "for x in np.arange(-0.2,0.2,0.001):\n",
        "    result_a_co=[]\n",
        "    for a in news_copy['title_polar_co']:    \n",
        "        if a > x:\n",
        "            result_a_co.append(1)\n",
        "        else:\n",
        "            result_a_co.append(-1)\n",
        "    ac = np.sum(np.equal(news_copy['Sentiment'],result_a_co))/len(result_a_co)\n",
        "    acc.append(ac)\n",
        "x= np.arange(-0.2,0.2,0.001)\n",
        "y=acc\n",
        "plt.plot(x,y)\n",
        "plt.xlabel('Crit_Score')\n",
        "plt.ylabel('Total_ACC')\n",
        "plt.grid()\n",
        "plt.show()"
      ],
      "execution_count": null,
      "outputs": [
        {
          "output_type": "display_data",
          "data": {
            "image/png": "[encoded data removed]",
            "text/plain": [
              "<Figure size 432x288 with 1 Axes>"
            ]
          },
          "metadata": {
            "tags": [],
            "needs_background": "light"
          }
        }
      ]
    },
    {
      "cell_type": "code",
      "metadata": {
        "colab": {
          "base_uri": "https://localhost:8080/",
          "height": 281
        },
        "id": "2m-m4aulXIc8",
        "outputId": "9a0c5b51-6af7-44a6-8716-ac3acd565416"
      },
      "source": [
        "acc=[]\n",
        "for x in np.arange(-0.2,0.2,0.001):\n",
        "    result_a_co=[]\n",
        "    for a in news_copy['text_polar_co']:    \n",
        "        if a > x:\n",
        "            result_a_co.append(1)\n",
        "        else:\n",
        "            result_a_co.append(-1)\n",
        "    ac = np.sum(np.equal(news_copy['Sentiment'],result_a_co))/len(result_a_co)\n",
        "    acc.append(ac)\n",
        "x= np.arange(-0.2,0.2,0.001)\n",
        "y=acc\n",
        "plt.plot(x,y)\n",
        "plt.xlabel('Crit_Score')\n",
        "plt.ylabel('Total_ACC')\n",
        "plt.grid()\n",
        "plt.show()"
      ],
      "execution_count": null,
      "outputs": [
        {
          "output_type": "display_data",
          "data": {
            "image/png": "[encoded data removed]",
            "text/plain": [
              "<Figure size 432x288 with 1 Axes>"
            ]
          },
          "metadata": {
            "tags": [],
            "needs_background": "light"
          }
        }
      ]
    },
    {
      "cell_type": "markdown",
      "metadata": {
        "id": "tKl-TzP2oRz_"
      },
      "source": [
        "# **text_polar와 title_polar의 가중치 조절을 통한 예측 80~81%**"
      ]
    },
    {
      "cell_type": "code",
      "metadata": {
        "id": "GgkpPiTnmAbI"
      },
      "source": [
        "title_polr_co_ree=np.array(title_pol_co)*0.2\n",
        "text_polr_co_ree=np.array(text_pol_co)*0.8\n",
        "total_polr_co_ree=title_polr_co_ree + text_polr_co_ree\n",
        "news_copy['total_polar_co_ree']=total_polr_co_ree"
      ],
      "execution_count": null,
      "outputs": []
    },
    {
      "cell_type": "code",
      "metadata": {
        "colab": {
          "base_uri": "https://localhost:8080/"
        },
        "id": "OaWLgVLRn7I4",
        "outputId": "e451ff85-11b5-405e-dee9-9b5bc4297a05"
      },
      "source": [
        "polar_mean_co('total_polar_co_ree')"
      ],
      "execution_count": null,
      "outputs": [
        {
          "output_type": "stream",
          "text": [
            "0.12232511284472937 0.3577387192285384\n",
            "178 412\n"
          ],
          "name": "stdout"
        }
      ]
    },
    {
      "cell_type": "code",
      "metadata": {
        "colab": {
          "base_uri": "https://localhost:8080/",
          "height": 280
        },
        "id": "MidEQccemRVw",
        "outputId": "4006dd25-2f5e-4fc3-e5a5-abde10e423fc"
      },
      "source": [
        "acc=[]\n",
        "for x in np.arange(-0.2,0.2,0.001):\n",
        "    result_a_co_ree=[]\n",
        "    for a in news_copy['total_polar_co_ree']:    \n",
        "        if a > x:\n",
        "            result_a_co_ree.append(1)\n",
        "        else:\n",
        "            result_a_co_ree.append(-1)\n",
        "    ac = np.sum(np.equal(news_copy['Sentiment'],result_a_co_ree))/len(result_a_co_ree)\n",
        "    acc.append(ac)\n",
        "\n",
        "x= np.arange(-0.2,0.2,0.001)\n",
        "y=acc\n",
        "plt.plot(x,y)\n",
        "plt.xlabel('Crit_Score')\n",
        "plt.ylabel('Total_ACC')\n",
        "plt.grid()\n",
        "plt.show()"
      ],
      "execution_count": null,
      "outputs": [
        {
          "output_type": "display_data",
          "data": {
            "image/png": "[encoded data removed]",
            "text/plain": [
              "<Figure size 432x288 with 1 Axes>"
            ]
          },
          "metadata": {
            "tags": [],
            "needs_background": "light"
          }
        }
      ]
    },
    {
      "cell_type": "markdown",
      "metadata": {
        "id": "jfpH9xUbYMRM"
      },
      "source": [
        "## 기사 수가 적은 날은 중립으로 보고 제외 시킨 뒤 , \n",
        "# **나머지 기사를 가지고 감정분석을 통해 긍정, 부정 나누기.** "
      ]
    },
    {
      "cell_type": "code",
      "metadata": {
        "id": "ADtAJzx6olQ3"
      },
      "source": [
        "news_resize = pd.read_excel('/content/C01-1_KM_Data_LabelingResult_incl_resize.xlsx')"
      ],
      "execution_count": null,
      "outputs": []
    },
    {
      "cell_type": "code",
      "metadata": {
        "colab": {
          "base_uri": "https://localhost:8080/",
          "height": 1000
        },
        "id": "u6ebjeSpBQl5",
        "outputId": "b13367d6-1179-4987-f8d1-57f12178887b"
      },
      "source": [
        "news_resize[:10]"
      ],
      "execution_count": null,
      "outputs": [
        {
          "output_type": "execute_result",
          "data": {
            "text/html": [
              "<div>\n",
              "<style scoped>\n",
              "    .dataframe tbody tr th:only-of-type {\n",
              "        vertical-align: middle;\n",
              "    }\n",
              "\n",
              "    .dataframe tbody tr th {\n",
              "        vertical-align: top;\n",
              "    }\n",
              "\n",
              "    .dataframe thead th {\n",
              "        text-align: right;\n",
              "    }\n",
              "</style>\n",
              "<table border=\"1\" class=\"dataframe\">\n",
              "  <thead>\n",
              "    <tr style=\"text-align: right;\">\n",
              "      <th></th>\n",
              "      <th>No</th>\n",
              "      <th>Code</th>\n",
              "      <th>Date</th>\n",
              "      <th>Journal</th>\n",
              "      <th>Title</th>\n",
              "      <th>Text</th>\n",
              "      <th>URL</th>\n",
              "      <th>Sample Y/N</th>\n",
              "      <th>In Charge</th>\n",
              "      <th>S</th>\n",
              "    </tr>\n",
              "  </thead>\n",
              "  <tbody>\n",
              "    <tr>\n",
              "      <th>0</th>\n",
              "      <td>3</td>\n",
              "      <td>5930</td>\n",
              "      <td>2021.04.14 17:53</td>\n",
              "      <td>아시아경제</td>\n",
              "      <td>백악관 회의 참석한 삼성전자, \"대화 자리 만든 바이든에 감사\" 트윗</td>\n",
              "      <td>삼성전자 북미총괄 대외협력 트위터 캡쳐[아시아경제 정현진 기자] 삼성전자를 비롯해 ...</td>\n",
              "      <td>https://finance.naver.com/item/news_read.nhn?a...</td>\n",
              "      <td>Y</td>\n",
              "      <td>KS</td>\n",
              "      <td>1</td>\n",
              "    </tr>\n",
              "    <tr>\n",
              "      <th>1</th>\n",
              "      <td>5</td>\n",
              "      <td>5930</td>\n",
              "      <td>2021.04.14 15:38</td>\n",
              "      <td>파이낸셜뉴스</td>\n",
              "      <td>잘나가는 삼성·LG 실적에 '전기전자株' 화색</td>\n",
              "      <td>[파이낸셜뉴스] 국내 상장기업의 1·4분기 실적시즌이 시작된 가운데 삼성전자, LG...</td>\n",
              "      <td>https://finance.naver.com/item/news_read.nhn?a...</td>\n",
              "      <td>A</td>\n",
              "      <td>JY</td>\n",
              "      <td>1</td>\n",
              "    </tr>\n",
              "    <tr>\n",
              "      <th>2</th>\n",
              "      <td>8</td>\n",
              "      <td>5930</td>\n",
              "      <td>2021.04.14 11:25</td>\n",
              "      <td>헤럴드경제</td>\n",
              "      <td>삼성전자, 美 환경청 주관 ‘기업공로 대상’ 등 수상</td>\n",
              "      <td>삼성전자가 13일(현지시간) 미국 환경청(EPA)이 주관하는 2021년 에너지스타상...</td>\n",
              "      <td>https://finance.naver.com/item/news_read.nhn?a...</td>\n",
              "      <td>Y</td>\n",
              "      <td>KM</td>\n",
              "      <td>1</td>\n",
              "    </tr>\n",
              "    <tr>\n",
              "      <th>3</th>\n",
              "      <td>12</td>\n",
              "      <td>5930</td>\n",
              "      <td>2021.04.14 08:09</td>\n",
              "      <td>이데일리</td>\n",
              "      <td>삼성전자, 美 '에너지스타상' 최고상 영예</td>\n",
              "      <td>미국 환경청 주관... 지속가능 최우수상 올해까지 총 8회 수상[이데일리 배진솔 기...</td>\n",
              "      <td>https://finance.naver.com/item/news_read.nhn?a...</td>\n",
              "      <td>A</td>\n",
              "      <td>JY</td>\n",
              "      <td>1</td>\n",
              "    </tr>\n",
              "    <tr>\n",
              "      <th>4</th>\n",
              "      <td>14</td>\n",
              "      <td>5930</td>\n",
              "      <td>2021.04.14 17:40</td>\n",
              "      <td>한국경제</td>\n",
              "      <td>삼성 '13조 상속세'…연부연납 활용, 올해 낼 2兆 중 1.2兆 대출...</td>\n",
              "      <td>삼성 '13조 상속세' 이재용 부회장 등  재원 마련은…보유주식 담보대출 50~70...</td>\n",
              "      <td>https://finance.naver.com/item/news_read.nhn?a...</td>\n",
              "      <td>A</td>\n",
              "      <td>JY</td>\n",
              "      <td>0</td>\n",
              "    </tr>\n",
              "    <tr>\n",
              "      <th>5</th>\n",
              "      <td>15</td>\n",
              "      <td>5930</td>\n",
              "      <td>2021.04.14 16:49</td>\n",
              "      <td>이데일리</td>\n",
              "      <td>삼성, 車반도체 생산 가능성은…\"수익성·기존 고객사 문제로 어려워\"</td>\n",
              "      <td>인텔, 美반도체 회의 직후 \"車반도체 생산\"MCU 생산 전망…\"삼성, 뛰어들기 어려...</td>\n",
              "      <td>https://finance.naver.com/item/news_read.nhn?a...</td>\n",
              "      <td>Y</td>\n",
              "      <td>SW</td>\n",
              "      <td>-1</td>\n",
              "    </tr>\n",
              "    <tr>\n",
              "      <th>6</th>\n",
              "      <td>16</td>\n",
              "      <td>5930</td>\n",
              "      <td>2021.04.14 06:30</td>\n",
              "      <td>매일경제</td>\n",
              "      <td>'돈' 안되는 車 반도체…삼성전자, 美 압박에 고민 깊어지나</td>\n",
              "      <td>인텔 \"차 반도체 6∼9개월 내 생산\" 즉답  삼성 수익성 없어 차량용 거의 안 만...</td>\n",
              "      <td>https://finance.naver.com/item/news_read.nhn?a...</td>\n",
              "      <td>A</td>\n",
              "      <td>JY</td>\n",
              "      <td>0</td>\n",
              "    </tr>\n",
              "    <tr>\n",
              "      <th>7</th>\n",
              "      <td>20</td>\n",
              "      <td>5930</td>\n",
              "      <td>2021.04.14 15:52</td>\n",
              "      <td>헤럴드경제</td>\n",
              "      <td>디바이스이엔지, 삼성전자와 61억 규모 반도체 제조장비 공급계약</td>\n",
              "      <td>[헤럴드경제=증권부] 디바이스이엔지는 삼성전자와 반도체 제조장비 공급계약을 체결했다...</td>\n",
              "      <td>https://finance.naver.com/item/news_read.nhn?a...</td>\n",
              "      <td>A</td>\n",
              "      <td>JY</td>\n",
              "      <td>1</td>\n",
              "    </tr>\n",
              "    <tr>\n",
              "      <th>8</th>\n",
              "      <td>22</td>\n",
              "      <td>5930</td>\n",
              "      <td>2021.04.14 10:04</td>\n",
              "      <td>서울경제</td>\n",
              "      <td>삼성, 28일 첫 노트북 ‘언팩’ 행사 연다··· ‘갤럭시 북 프로’...</td>\n",
              "      <td>[서울경제] 삼성전자(005930)가 ‘갤럭시 북 프로’ 등 노트북 PC 언팩(공개...</td>\n",
              "      <td>https://finance.naver.com/item/news_read.nhn?a...</td>\n",
              "      <td>Y</td>\n",
              "      <td>KS</td>\n",
              "      <td>1</td>\n",
              "    </tr>\n",
              "    <tr>\n",
              "      <th>9</th>\n",
              "      <td>23</td>\n",
              "      <td>5930</td>\n",
              "      <td>2021.04.14 08:40</td>\n",
              "      <td>한국경제</td>\n",
              "      <td>삼성, 사상 첫 '노트북 언팩' 연다…28일 온라인 개최</td>\n",
              "      <td>노트북 시장 9년 만에 호황\"S펜 탑재한 노트북 신제품 예상\"삼성전자가 사상 처음으...</td>\n",
              "      <td>https://finance.naver.com/item/news_read.nhn?a...</td>\n",
              "      <td>Y</td>\n",
              "      <td>JH</td>\n",
              "      <td>1</td>\n",
              "    </tr>\n",
              "  </tbody>\n",
              "</table>\n",
              "</div>"
            ],
            "text/plain": [
              "   No  Code              Date  ... Sample Y/N In Charge   S\n",
              "0   3  5930  2021.04.14 17:53  ...          Y        KS   1\n",
              "1   5  5930  2021.04.14 15:38  ...          A        JY   1\n",
              "2   8  5930  2021.04.14 11:25  ...          Y        KM   1\n",
              "3  12  5930  2021.04.14 08:09  ...          A        JY   1\n",
              "4  14  5930  2021.04.14 17:40  ...          A        JY   0\n",
              "5  15  5930  2021.04.14 16:49  ...          Y        SW  -1\n",
              "6  16  5930  2021.04.14 06:30  ...          A        JY   0\n",
              "7  20  5930  2021.04.14 15:52  ...          A        JY   1\n",
              "8  22  5930  2021.04.14 10:04  ...          Y        KS   1\n",
              "9  23  5930  2021.04.14 08:40  ...          Y        JH   1\n",
              "\n",
              "[10 rows x 10 columns]"
            ]
          },
          "metadata": {
            "tags": []
          },
          "execution_count": 87
        }
      ]
    },
    {
      "cell_type": "code",
      "metadata": {
        "colab": {
          "base_uri": "https://localhost:8080/"
        },
        "id": "Lhqc-CqABOoM",
        "outputId": "7434ec1e-bc57-441e-8b8a-b51ab13a25c9"
      },
      "source": [
        "news_pos=news_resize[news_resize['S']==1]\n",
        "len(news_pos)"
      ],
      "execution_count": null,
      "outputs": [
        {
          "output_type": "execute_result",
          "data": {
            "text/plain": [
              "1825"
            ]
          },
          "metadata": {
            "tags": []
          },
          "execution_count": 94
        }
      ]
    },
    {
      "cell_type": "code",
      "metadata": {
        "colab": {
          "base_uri": "https://localhost:8080/"
        },
        "id": "S6It_b_QBoFq",
        "outputId": "829c9bbc-ee43-4551-e1cd-cfce1e2d46d7"
      },
      "source": [
        "news_neut= news_resize[news_resize['S']==0]\n",
        "len(news_neut)"
      ],
      "execution_count": null,
      "outputs": [
        {
          "output_type": "execute_result",
          "data": {
            "text/plain": [
              "376"
            ]
          },
          "metadata": {
            "tags": []
          },
          "execution_count": 95
        }
      ]
    },
    {
      "cell_type": "code",
      "metadata": {
        "colab": {
          "base_uri": "https://localhost:8080/"
        },
        "id": "MTs31O5DBqNZ",
        "outputId": "52e8d0e5-2cd0-414c-83bf-ec65280a8774"
      },
      "source": [
        "news_neg= news_resize[news_resize['S']==-1]\n",
        "len(news_neg)"
      ],
      "execution_count": null,
      "outputs": [
        {
          "output_type": "execute_result",
          "data": {
            "text/plain": [
              "316"
            ]
          },
          "metadata": {
            "tags": []
          },
          "execution_count": 96
        }
      ]
    },
    {
      "cell_type": "code",
      "metadata": {
        "id": "EptQDkHSCZ_i"
      },
      "source": [
        "from sklearn.model_selection import train_test_split\n",
        "\n",
        "P_train, P_test = train_test_split(news_pos, test_size=0.379, random_state=123)"
      ],
      "execution_count": null,
      "outputs": []
    },
    {
      "cell_type": "code",
      "metadata": {
        "id": "y4_vR7kNDgHx"
      },
      "source": [
        "std_data=pd.concat([P_test, news_neg], ignore_index=True)"
      ],
      "execution_count": null,
      "outputs": []
    },
    {
      "cell_type": "code",
      "metadata": {
        "colab": {
          "base_uri": "https://localhost:8080/",
          "height": 1000
        },
        "id": "HBrxpL_KD9EB",
        "outputId": "4b3c39e4-bbbd-460a-bd17-b02f48ab295a"
      },
      "source": [
        "std_data"
      ],
      "execution_count": null,
      "outputs": [
        {
          "output_type": "execute_result",
          "data": {
            "text/html": [
              "<div>\n",
              "<style scoped>\n",
              "    .dataframe tbody tr th:only-of-type {\n",
              "        vertical-align: middle;\n",
              "    }\n",
              "\n",
              "    .dataframe tbody tr th {\n",
              "        vertical-align: top;\n",
              "    }\n",
              "\n",
              "    .dataframe thead th {\n",
              "        text-align: right;\n",
              "    }\n",
              "</style>\n",
              "<table border=\"1\" class=\"dataframe\">\n",
              "  <thead>\n",
              "    <tr style=\"text-align: right;\">\n",
              "      <th></th>\n",
              "      <th>No</th>\n",
              "      <th>Code</th>\n",
              "      <th>Date</th>\n",
              "      <th>Journal</th>\n",
              "      <th>Title</th>\n",
              "      <th>Text</th>\n",
              "      <th>URL</th>\n",
              "      <th>Sample Y/N</th>\n",
              "      <th>In Charge</th>\n",
              "      <th>S</th>\n",
              "    </tr>\n",
              "  </thead>\n",
              "  <tbody>\n",
              "    <tr>\n",
              "      <th>0</th>\n",
              "      <td>2290</td>\n",
              "      <td>5930</td>\n",
              "      <td>2020.12.30 07:03</td>\n",
              "      <td>매일경제</td>\n",
              "      <td>인텔, 헤지펀드서 “삼성·TSMC에 밀린다” 지적받고도 4.9% 상승</td>\n",
              "      <td>뉴욕증시에서 주요 지수는 장중 사상 최고치 기록을 다시 세운 뒤 소폭 조정이 이뤄지...</td>\n",
              "      <td>https://finance.naver.com/item/news_read.nhn?a...</td>\n",
              "      <td>A</td>\n",
              "      <td>KS</td>\n",
              "      <td>1</td>\n",
              "    </tr>\n",
              "    <tr>\n",
              "      <th>1</th>\n",
              "      <td>2812</td>\n",
              "      <td>5930</td>\n",
              "      <td>2021.02.09 15:17</td>\n",
              "      <td>파이낸셜뉴스</td>\n",
              "      <td>삼성 vs LG, 美시장 놓고 '주방가전' 격돌</td>\n",
              "      <td>북미 최대 주방·욕실 온라인 전시회 KBIS 2021 참가 삼성전자가 'KBIS 2...</td>\n",
              "      <td>https://finance.naver.com/item/news_read.nhn?a...</td>\n",
              "      <td>Y</td>\n",
              "      <td>JH</td>\n",
              "      <td>1</td>\n",
              "    </tr>\n",
              "    <tr>\n",
              "      <th>2</th>\n",
              "      <td>6445</td>\n",
              "      <td>66570</td>\n",
              "      <td>2020.12.09 17:48</td>\n",
              "      <td>이데일리</td>\n",
              "      <td>日TV시장서 존재감 뽐내는 LG전자..중소형 신제품 줄줄이 출시</td>\n",
              "      <td>이달 중 32인치 소형 풀HD LCD TV 시리즈 출시내달 8K LCD TV 중 가...</td>\n",
              "      <td>https://finance.naver.com/item/news_read.nhn?a...</td>\n",
              "      <td>Y</td>\n",
              "      <td>JY</td>\n",
              "      <td>1</td>\n",
              "    </tr>\n",
              "    <tr>\n",
              "      <th>3</th>\n",
              "      <td>6968</td>\n",
              "      <td>66570</td>\n",
              "      <td>2020.11.03 10:00</td>\n",
              "      <td>매일경제</td>\n",
              "      <td>LG전자, 英 프리미엄 패션 온라인 쇼핑몰에 친환경 의류가전 출시</td>\n",
              "      <td>[사진제공 = LG전자]LG전자가 영국 프리미엄 패션 온라인 쇼핑몰 네타포르테(NE...</td>\n",
              "      <td>https://finance.naver.com/item/news_read.nhn?a...</td>\n",
              "      <td>Y</td>\n",
              "      <td>SJ</td>\n",
              "      <td>1</td>\n",
              "    </tr>\n",
              "    <tr>\n",
              "      <th>4</th>\n",
              "      <td>117</td>\n",
              "      <td>5930</td>\n",
              "      <td>2021.04.12 15:40</td>\n",
              "      <td>한국경제</td>\n",
              "      <td>[단독] 삼성 '히든카드'…10만원대 초저가 갤럭시M 나오나</td>\n",
              "      <td>삼성 갤럭시M12/사진제공=삼성전자 인도법인삼성전자가 인도 시장에 주로 출시했던 초...</td>\n",
              "      <td>https://finance.naver.com/item/news_read.nhn?a...</td>\n",
              "      <td>A</td>\n",
              "      <td>JY</td>\n",
              "      <td>1</td>\n",
              "    </tr>\n",
              "    <tr>\n",
              "      <th>...</th>\n",
              "      <td>...</td>\n",
              "      <td>...</td>\n",
              "      <td>...</td>\n",
              "      <td>...</td>\n",
              "      <td>...</td>\n",
              "      <td>...</td>\n",
              "      <td>...</td>\n",
              "      <td>...</td>\n",
              "      <td>...</td>\n",
              "      <td>...</td>\n",
              "    </tr>\n",
              "    <tr>\n",
              "      <th>629</th>\n",
              "      <td>7226</td>\n",
              "      <td>66570</td>\n",
              "      <td>2020.09.23 10:29</td>\n",
              "      <td>이데일리</td>\n",
              "      <td>LG전자, 이틀새 코로나19 확진자 5명…임직원 전원 리모트 근무</td>\n",
              "      <td>LG전자 트윈타워 서관 직원 5명 코로나19 확진25일까지 전 직원 리모트 근무 실...</td>\n",
              "      <td>https://finance.naver.com/item/news_read.nhn?a...</td>\n",
              "      <td>Y</td>\n",
              "      <td>JY</td>\n",
              "      <td>-1</td>\n",
              "    </tr>\n",
              "    <tr>\n",
              "      <th>630</th>\n",
              "      <td>7321</td>\n",
              "      <td>66570</td>\n",
              "      <td>2020.06.18 20:57</td>\n",
              "      <td>헤럴드경제</td>\n",
              "      <td>경찰, '채용비리 의혹' LG전자 2차 압수수색</td>\n",
              "      <td>[헤럴드경제 DB][헤럴드경제=뉴스24팀] 서울지방경찰청 지능범죄수사대는 18일 채...</td>\n",
              "      <td>https://finance.naver.com/item/news_read.nhn?a...</td>\n",
              "      <td>Y</td>\n",
              "      <td>KM</td>\n",
              "      <td>-1</td>\n",
              "    </tr>\n",
              "    <tr>\n",
              "      <th>631</th>\n",
              "      <td>7668</td>\n",
              "      <td>66570</td>\n",
              "      <td>2020.08.20 17:25</td>\n",
              "      <td>한국경제</td>\n",
              "      <td>LG전자 가산캠퍼스·SK하이닉스 이천R&amp;D센터 부분 폐쇄</td>\n",
              "      <td>또 셧다운 공포…기업 방역 강화강남 포스코센터도 확진자삼성전자, 셔틀 절반만 채우고...</td>\n",
              "      <td>https://finance.naver.com/item/news_read.nhn?a...</td>\n",
              "      <td>Y</td>\n",
              "      <td>KM</td>\n",
              "      <td>-1</td>\n",
              "    </tr>\n",
              "    <tr>\n",
              "      <th>632</th>\n",
              "      <td>7686</td>\n",
              "      <td>66570</td>\n",
              "      <td>2020.08.20 14:42</td>\n",
              "      <td>한국경제</td>\n",
              "      <td>[단독] 코로나 덮친 LG전자, 첫 상시채용 연기</td>\n",
              "      <td>정기공채 폐지하고 처음 상시채용 돌입한 LG전자코로나 여파로 한국영업본부 면접 전형...</td>\n",
              "      <td>https://finance.naver.com/item/news_read.nhn?a...</td>\n",
              "      <td>Y</td>\n",
              "      <td>KM</td>\n",
              "      <td>-1</td>\n",
              "    </tr>\n",
              "    <tr>\n",
              "      <th>633</th>\n",
              "      <td>7723</td>\n",
              "      <td>66570</td>\n",
              "      <td>2020.08.17 18:32</td>\n",
              "      <td>아시아경제</td>\n",
              "      <td>LG전자 서울역빌딩 코로나19 확진자 발생</td>\n",
              "      <td>[아시아경제 이창환 기자] LG전자 서울역 빌딩 10층에서 신종 코로나바이러스감염증...</td>\n",
              "      <td>https://finance.naver.com/item/news_read.nhn?a...</td>\n",
              "      <td>Y</td>\n",
              "      <td>SW</td>\n",
              "      <td>-1</td>\n",
              "    </tr>\n",
              "  </tbody>\n",
              "</table>\n",
              "<p>634 rows × 10 columns</p>\n",
              "</div>"
            ],
            "text/plain": [
              "       No   Code              Date  ... Sample Y/N In Charge   S\n",
              "0    2290   5930  2020.12.30 07:03  ...          A        KS   1\n",
              "1    2812   5930  2021.02.09 15:17  ...          Y        JH   1\n",
              "2    6445  66570  2020.12.09 17:48  ...          Y        JY   1\n",
              "3    6968  66570  2020.11.03 10:00  ...          Y        SJ   1\n",
              "4     117   5930  2021.04.12 15:40  ...          A        JY   1\n",
              "..    ...    ...               ...  ...        ...       ...  ..\n",
              "629  7226  66570  2020.09.23 10:29  ...          Y        JY  -1\n",
              "630  7321  66570  2020.06.18 20:57  ...          Y        KM  -1\n",
              "631  7668  66570  2020.08.20 17:25  ...          Y        KM  -1\n",
              "632  7686  66570  2020.08.20 14:42  ...          Y        KM  -1\n",
              "633  7723  66570  2020.08.17 18:32  ...          Y        SW  -1\n",
              "\n",
              "[634 rows x 10 columns]"
            ]
          },
          "metadata": {
            "tags": []
          },
          "execution_count": 103
        }
      ]
    },
    {
      "cell_type": "code",
      "metadata": {
        "colab": {
          "base_uri": "https://localhost:8080/"
        },
        "id": "VNoKUE6zED-y",
        "outputId": "5e393a02-835d-40c0-e939-d0dfdf821509"
      },
      "source": [
        "\n",
        "ksaa = KSAA()\n",
        "title_pol_std=[]\n",
        "for i in range(634):\n",
        "    for k in std_data['Title'][i].replace('...','').replace('..','').replace('.','').split(sep='.'):\n",
        "        tokens= ksaa.tokenize(k)\n",
        "        token_lst=[]  \n",
        "        for a in tokens:\n",
        "            one_dot=a.split('/')\n",
        "            if len(one_dot[0])!=int(1):\n",
        "                join_dot='/'.join(one_dot)\n",
        "                token_lst.append(join_dot)\n",
        "        if len(token_lst) < int(2):\n",
        "            token_lst=[]\n",
        "        score = ksaa.get_score(token_lst)\n",
        "        title_pol_std.append(score['Polarity'])\n",
        "\n",
        "#제목 극성 /2 = title_polr\n",
        "title_polr_std=np.array(title_pol_std)*0.2\n",
        "print(len(title_polr_std))\n",
        "\n",
        "text_pol_std=[]\n",
        "for i in range(634):\n",
        "    polar=0\n",
        "    for k in std_data['Text'][i].split(sep='.'):\n",
        "        tokens= ksaa.tokenize(k)\n",
        "        token_lst=[]  \n",
        "        for a in tokens:\n",
        "            one_dot=a.split('/')\n",
        "            if len(one_dot[0])!=int(1):\n",
        "                join_dot='/'.join(one_dot)\n",
        "                token_lst.append(join_dot)\n",
        "        if len(token_lst) < int(2):\n",
        "            token_lst=[]\n",
        "        score = ksaa.get_score(token_lst)\n",
        "        polar+=score['Polarity']\n",
        "        sen_num=len(std_data['Text'][i].split(sep='.'))\n",
        "    text_pol_std.append(polar/sen_num)\n",
        "\n",
        "\n",
        "text_polr_std=np.array(text_pol_std)*0.8\n",
        "total_polr_std=title_polr_std + text_polr_std\n",
        "news_arr_std=np.array(std_data['S'])\n",
        "std_data['title_polar_std']=title_polr_std\n",
        "std_data['text_polar_std']=text_polr_std\n",
        "std_data['total_polar_std']=total_polr_std\n",
        "\n"
      ],
      "execution_count": null,
      "outputs": [
        {
          "output_type": "stream",
          "text": [
            "634\n"
          ],
          "name": "stdout"
        }
      ]
    },
    {
      "cell_type": "code",
      "metadata": {
        "colab": {
          "base_uri": "https://localhost:8080/"
        },
        "id": "eHbnTu3WGA0x",
        "outputId": "9260f89f-b879-4f8b-f8cc-8a7a449dda33"
      },
      "source": [
        "polar_mean(std_data,'S','title_polar_std')\n",
        "polar_mean(std_data,'S','text_polar_std')\n",
        "polar_mean(std_data,'S','total_polar_std')"
      ],
      "execution_count": null,
      "outputs": [
        {
          "output_type": "stream",
          "text": [
            "-0.006160335146273853 0.06796643005102486\n",
            "316 318\n",
            "0.11871496795808738 0.2979780494495817\n",
            "316 318\n",
            "0.11255463281181351 0.36594447950060655\n",
            "316 318\n"
          ],
          "name": "stdout"
        }
      ]
    },
    {
      "cell_type": "code",
      "metadata": {
        "colab": {
          "base_uri": "https://localhost:8080/",
          "height": 284
        },
        "id": "pf_6HQpfGPAh",
        "outputId": "df575943-2ea8-4799-8046-992c95848998"
      },
      "source": [
        "acc_std=[]\n",
        "for x in np.arange(-0.2,0.3,0.001):\n",
        "    result_a_std=[]\n",
        "    for a in std_data['total_polar_std']:    \n",
        "        if a > x:\n",
        "            result_a_std.append(1)\n",
        "        else:\n",
        "            result_a_std.append(-1)\n",
        "    ac = np.sum(np.equal(std_data['S'],result_a_std))/len(result_a_std)\n",
        "    acc_std.append(ac)\n",
        "\n",
        "x= np.arange(-0.2,0.3,0.001)\n",
        "y=acc_std\n",
        "plt.plot(x,y)\n",
        "plt.xlabel('Crit_Score')\n",
        "plt.ylabel('Total_ACC')\n",
        "plt.grid()\n",
        "plt.show()"
      ],
      "execution_count": null,
      "outputs": [
        {
          "output_type": "display_data",
          "data": {
            "image/png": "[encoded data removed]",
            "text/plain": [
              "<Figure size 432x288 with 1 Axes>"
            ]
          },
          "metadata": {
            "tags": [],
            "needs_background": "light"
          }
        }
      ]
    },
    {
      "cell_type": "code",
      "metadata": {
        "colab": {
          "base_uri": "https://localhost:8080/"
        },
        "id": "ZwsFaucZRv_u",
        "outputId": "bd503e2f-2cb5-47a7-a92f-1f5207dcd150"
      },
      "source": [
        "std_pos=std_data[std_data['S']==1]\n",
        "len(std_pos)"
      ],
      "execution_count": null,
      "outputs": [
        {
          "output_type": "execute_result",
          "data": {
            "text/plain": [
              "318"
            ]
          },
          "metadata": {
            "tags": []
          },
          "execution_count": 126
        }
      ]
    },
    {
      "cell_type": "code",
      "metadata": {
        "colab": {
          "base_uri": "https://localhost:8080/"
        },
        "id": "b0aNLRVhSQif",
        "outputId": "210fb09a-c591-4a21-f2b8-754f1a05d0be"
      },
      "source": [
        "ksaa = KSAA()\n",
        "title_pol_std=[]\n",
        "for i in range(318):\n",
        "    for k in std_pos['Title'][i].replace('...','').replace('..','').replace('.','').split(sep='.'):\n",
        "        tokens= ksaa.tokenize(k)\n",
        "        token_lst=[]  \n",
        "        for a in tokens:\n",
        "            one_dot=a.split('/')\n",
        "            if len(one_dot[0])!=int(1):\n",
        "                join_dot='/'.join(one_dot)\n",
        "                token_lst.append(join_dot)\n",
        "        if len(token_lst) < int(2):\n",
        "            token_lst=[]\n",
        "        score = ksaa.get_score(token_lst)\n",
        "        title_pol_std.append(score['Polarity'])\n",
        "\n",
        "#제목 극성 /2 = title_polr\n",
        "title_polr_std=np.array(title_pol_std)*0.2\n",
        "print(len(title_polr_std))\n",
        "\n",
        "text_pol_std=[]\n",
        "for i in range(318):\n",
        "    polar=0\n",
        "    for k in std_pos['Text'][i].split(sep='.'):\n",
        "        tokens= ksaa.tokenize(k)\n",
        "        token_lst=[]  \n",
        "        for a in tokens:\n",
        "            one_dot=a.split('/')\n",
        "            if len(one_dot[0])!=int(1):\n",
        "                join_dot='/'.join(one_dot)\n",
        "                token_lst.append(join_dot)\n",
        "        if len(token_lst) < int(2):\n",
        "            token_lst=[]\n",
        "        score = ksaa.get_score(token_lst)\n",
        "        polar+=score['Polarity']\n",
        "        sen_num=len(std_data['Text'][i].split(sep='.'))\n",
        "    text_pol_std.append(polar/sen_num)\n",
        "\n",
        "\n",
        "text_polr_std=np.array(text_pol_std)*0.8\n",
        "total_polr_std=title_polr_std + text_polr_std\n",
        "news_arr_std=np.array(std_pos['S'])\n",
        "std_pos['title_polar_std']=title_polr_std\n",
        "std_pos['text_polar_std']=text_polr_std\n",
        "std_pos['total_polar_std']=total_polr_std"
      ],
      "execution_count": null,
      "outputs": [
        {
          "output_type": "stream",
          "text": [
            "318\n"
          ],
          "name": "stdout"
        },
        {
          "output_type": "stream",
          "text": [
            "/usr/local/lib/python3.7/dist-packages/ipykernel_launcher.py:43: SettingWithCopyWarning: \n",
            "A value is trying to be set on a copy of a slice from a DataFrame.\n",
            "Try using .loc[row_indexer,col_indexer] = value instead\n",
            "\n",
            "See the caveats in the documentation: https://pandas.pydata.org/pandas-docs/stable/user_guide/indexing.html#returning-a-view-versus-a-copy\n",
            "/usr/local/lib/python3.7/dist-packages/ipykernel_launcher.py:44: SettingWithCopyWarning: \n",
            "A value is trying to be set on a copy of a slice from a DataFrame.\n",
            "Try using .loc[row_indexer,col_indexer] = value instead\n",
            "\n",
            "See the caveats in the documentation: https://pandas.pydata.org/pandas-docs/stable/user_guide/indexing.html#returning-a-view-versus-a-copy\n",
            "/usr/local/lib/python3.7/dist-packages/ipykernel_launcher.py:45: SettingWithCopyWarning: \n",
            "A value is trying to be set on a copy of a slice from a DataFrame.\n",
            "Try using .loc[row_indexer,col_indexer] = value instead\n",
            "\n",
            "See the caveats in the documentation: https://pandas.pydata.org/pandas-docs/stable/user_guide/indexing.html#returning-a-view-versus-a-copy\n"
          ],
          "name": "stderr"
        }
      ]
    },
    {
      "cell_type": "code",
      "metadata": {
        "colab": {
          "base_uri": "https://localhost:8080/",
          "height": 1000
        },
        "id": "y9vTt48cUpGF",
        "outputId": "01c1e9a7-d20c-4027-8098-818dbc06fc5e"
      },
      "source": [
        "std_pos"
      ],
      "execution_count": null,
      "outputs": [
        {
          "output_type": "execute_result",
          "data": {
            "text/html": [
              "<div>\n",
              "<style scoped>\n",
              "    .dataframe tbody tr th:only-of-type {\n",
              "        vertical-align: middle;\n",
              "    }\n",
              "\n",
              "    .dataframe tbody tr th {\n",
              "        vertical-align: top;\n",
              "    }\n",
              "\n",
              "    .dataframe thead th {\n",
              "        text-align: right;\n",
              "    }\n",
              "</style>\n",
              "<table border=\"1\" class=\"dataframe\">\n",
              "  <thead>\n",
              "    <tr style=\"text-align: right;\">\n",
              "      <th></th>\n",
              "      <th>No</th>\n",
              "      <th>Code</th>\n",
              "      <th>Date</th>\n",
              "      <th>Journal</th>\n",
              "      <th>Title</th>\n",
              "      <th>Text</th>\n",
              "      <th>URL</th>\n",
              "      <th>Sample Y/N</th>\n",
              "      <th>In Charge</th>\n",
              "      <th>S</th>\n",
              "      <th>title_polar_co</th>\n",
              "      <th>text_polar_co</th>\n",
              "      <th>total_polar_co</th>\n",
              "      <th>title_polar_std</th>\n",
              "      <th>text_polar_std</th>\n",
              "      <th>total_polar_std</th>\n",
              "    </tr>\n",
              "  </thead>\n",
              "  <tbody>\n",
              "    <tr>\n",
              "      <th>0</th>\n",
              "      <td>2290</td>\n",
              "      <td>5930</td>\n",
              "      <td>2020.12.30 07:03</td>\n",
              "      <td>매일경제</td>\n",
              "      <td>인텔, 헤지펀드서 “삼성·TSMC에 밀린다” 지적받고도 4.9% 상승</td>\n",
              "      <td>뉴욕증시에서 주요 지수는 장중 사상 최고치 기록을 다시 세운 뒤 소폭 조정이 이뤄지...</td>\n",
              "      <td>https://finance.naver.com/item/news_read.nhn?a...</td>\n",
              "      <td>A</td>\n",
              "      <td>KS</td>\n",
              "      <td>1</td>\n",
              "      <td>0.066667</td>\n",
              "      <td>0.139552</td>\n",
              "      <td>0.206219</td>\n",
              "      <td>0.066667</td>\n",
              "      <td>0.139552</td>\n",
              "      <td>0.206219</td>\n",
              "    </tr>\n",
              "    <tr>\n",
              "      <th>1</th>\n",
              "      <td>2812</td>\n",
              "      <td>5930</td>\n",
              "      <td>2021.02.09 15:17</td>\n",
              "      <td>파이낸셜뉴스</td>\n",
              "      <td>삼성 vs LG, 美시장 놓고 '주방가전' 격돌</td>\n",
              "      <td>북미 최대 주방·욕실 온라인 전시회 KBIS 2021 참가 삼성전자가 'KBIS 2...</td>\n",
              "      <td>https://finance.naver.com/item/news_read.nhn?a...</td>\n",
              "      <td>Y</td>\n",
              "      <td>JH</td>\n",
              "      <td>1</td>\n",
              "      <td>0.000000</td>\n",
              "      <td>0.356104</td>\n",
              "      <td>0.356104</td>\n",
              "      <td>0.000000</td>\n",
              "      <td>0.356104</td>\n",
              "      <td>0.356104</td>\n",
              "    </tr>\n",
              "    <tr>\n",
              "      <th>2</th>\n",
              "      <td>6445</td>\n",
              "      <td>66570</td>\n",
              "      <td>2020.12.09 17:48</td>\n",
              "      <td>이데일리</td>\n",
              "      <td>日TV시장서 존재감 뽐내는 LG전자..중소형 신제품 줄줄이 출시</td>\n",
              "      <td>이달 중 32인치 소형 풀HD LCD TV 시리즈 출시내달 8K LCD TV 중 가...</td>\n",
              "      <td>https://finance.naver.com/item/news_read.nhn?a...</td>\n",
              "      <td>Y</td>\n",
              "      <td>JY</td>\n",
              "      <td>1</td>\n",
              "      <td>0.200000</td>\n",
              "      <td>0.355606</td>\n",
              "      <td>0.555606</td>\n",
              "      <td>0.200000</td>\n",
              "      <td>0.355606</td>\n",
              "      <td>0.555606</td>\n",
              "    </tr>\n",
              "    <tr>\n",
              "      <th>3</th>\n",
              "      <td>6968</td>\n",
              "      <td>66570</td>\n",
              "      <td>2020.11.03 10:00</td>\n",
              "      <td>매일경제</td>\n",
              "      <td>LG전자, 英 프리미엄 패션 온라인 쇼핑몰에 친환경 의류가전 출시</td>\n",
              "      <td>[사진제공 = LG전자]LG전자가 영국 프리미엄 패션 온라인 쇼핑몰 네타포르테(NE...</td>\n",
              "      <td>https://finance.naver.com/item/news_read.nhn?a...</td>\n",
              "      <td>Y</td>\n",
              "      <td>SJ</td>\n",
              "      <td>1</td>\n",
              "      <td>0.000000</td>\n",
              "      <td>0.246708</td>\n",
              "      <td>0.246708</td>\n",
              "      <td>0.000000</td>\n",
              "      <td>0.246708</td>\n",
              "      <td>0.246708</td>\n",
              "    </tr>\n",
              "    <tr>\n",
              "      <th>4</th>\n",
              "      <td>117</td>\n",
              "      <td>5930</td>\n",
              "      <td>2021.04.12 15:40</td>\n",
              "      <td>한국경제</td>\n",
              "      <td>[단독] 삼성 '히든카드'…10만원대 초저가 갤럭시M 나오나</td>\n",
              "      <td>삼성 갤럭시M12/사진제공=삼성전자 인도법인삼성전자가 인도 시장에 주로 출시했던 초...</td>\n",
              "      <td>https://finance.naver.com/item/news_read.nhn?a...</td>\n",
              "      <td>A</td>\n",
              "      <td>JY</td>\n",
              "      <td>1</td>\n",
              "      <td>0.200000</td>\n",
              "      <td>0.428414</td>\n",
              "      <td>0.628414</td>\n",
              "      <td>0.200000</td>\n",
              "      <td>0.428414</td>\n",
              "      <td>0.628414</td>\n",
              "    </tr>\n",
              "    <tr>\n",
              "      <th>...</th>\n",
              "      <td>...</td>\n",
              "      <td>...</td>\n",
              "      <td>...</td>\n",
              "      <td>...</td>\n",
              "      <td>...</td>\n",
              "      <td>...</td>\n",
              "      <td>...</td>\n",
              "      <td>...</td>\n",
              "      <td>...</td>\n",
              "      <td>...</td>\n",
              "      <td>...</td>\n",
              "      <td>...</td>\n",
              "      <td>...</td>\n",
              "      <td>...</td>\n",
              "      <td>...</td>\n",
              "      <td>...</td>\n",
              "    </tr>\n",
              "    <tr>\n",
              "      <th>313</th>\n",
              "      <td>765</td>\n",
              "      <td>5930</td>\n",
              "      <td>2021.03.23 15:39</td>\n",
              "      <td>이데일리</td>\n",
              "      <td>엑시콘, 삼성전자 중국 법인에 40억원 규모 검사장비 공급</td>\n",
              "      <td>[이데일리 고준혁 기자] 엑시콘(092870)은 삼성전자 중국 법인(SCS)와 40...</td>\n",
              "      <td>https://finance.naver.com/item/news_read.nhn?a...</td>\n",
              "      <td>A</td>\n",
              "      <td>JY</td>\n",
              "      <td>1</td>\n",
              "      <td>0.000000</td>\n",
              "      <td>0.115555</td>\n",
              "      <td>0.115555</td>\n",
              "      <td>0.000000</td>\n",
              "      <td>0.115555</td>\n",
              "      <td>0.115555</td>\n",
              "    </tr>\n",
              "    <tr>\n",
              "      <th>314</th>\n",
              "      <td>6141</td>\n",
              "      <td>66570</td>\n",
              "      <td>2021.02.05 07:18</td>\n",
              "      <td>한국경제</td>\n",
              "      <td>LG전자, 세탁기 공들이더니 일냈다…美 소비자 마음 싹쓸이</td>\n",
              "      <td>LG전자 창원공장의 세탁기 생산라인. 한경DBLG전자가 만든 대용량 세탁기가 미국 ...</td>\n",
              "      <td>https://finance.naver.com/item/news_read.nhn?a...</td>\n",
              "      <td>Y</td>\n",
              "      <td>JH</td>\n",
              "      <td>1</td>\n",
              "      <td>0.000000</td>\n",
              "      <td>0.466667</td>\n",
              "      <td>0.466667</td>\n",
              "      <td>0.000000</td>\n",
              "      <td>0.466667</td>\n",
              "      <td>0.466667</td>\n",
              "    </tr>\n",
              "    <tr>\n",
              "      <th>315</th>\n",
              "      <td>2380</td>\n",
              "      <td>5930</td>\n",
              "      <td>2021.02.25 17:18</td>\n",
              "      <td>머니투데이</td>\n",
              "      <td>좁쌀만한 이 칩으로…삼성도 더 얇은 TV 만든다</td>\n",
              "      <td>[머니투데이 심재현 기자]  삼성전자 시스템LSI사업부 김경택, 김형태, 강상구, ...</td>\n",
              "      <td>https://finance.naver.com/item/news_read.nhn?a...</td>\n",
              "      <td>Y</td>\n",
              "      <td>SJ</td>\n",
              "      <td>1</td>\n",
              "      <td>0.000000</td>\n",
              "      <td>0.463974</td>\n",
              "      <td>0.463974</td>\n",
              "      <td>0.000000</td>\n",
              "      <td>0.463974</td>\n",
              "      <td>0.463974</td>\n",
              "    </tr>\n",
              "    <tr>\n",
              "      <th>316</th>\n",
              "      <td>598</td>\n",
              "      <td>5930</td>\n",
              "      <td>2021.03.30 10:08</td>\n",
              "      <td>서울경제</td>\n",
              "      <td>삼성전자 Neo QLED 8K, TV 제품 최초 Wi-Fi 6E 인증 ...</td>\n",
              "      <td>WFA 기술표준협회 인증···2.4GHz·5GHz에 6GHz 대역 추가 사용빠르고 ...</td>\n",
              "      <td>https://finance.naver.com/item/news_read.nhn?a...</td>\n",
              "      <td>A</td>\n",
              "      <td>JY</td>\n",
              "      <td>1</td>\n",
              "      <td>0.200000</td>\n",
              "      <td>0.308327</td>\n",
              "      <td>0.508327</td>\n",
              "      <td>0.200000</td>\n",
              "      <td>0.308327</td>\n",
              "      <td>0.508327</td>\n",
              "    </tr>\n",
              "    <tr>\n",
              "      <th>317</th>\n",
              "      <td>4204</td>\n",
              "      <td>35900</td>\n",
              "      <td>2020.07.08 15:04</td>\n",
              "      <td>이데일리</td>\n",
              "      <td>[특징주]JYP엔터, 일본인 걸그룹 '니쥬' 오리콘 1위에 급등</td>\n",
              "      <td>[이데일리 고준혁 기자] 일본인으로 구성된 JYP Ent.(035900)의 신인 걸...</td>\n",
              "      <td>https://finance.naver.com/item/news_read.nhn?a...</td>\n",
              "      <td>Y</td>\n",
              "      <td>SW</td>\n",
              "      <td>1</td>\n",
              "      <td>0.200000</td>\n",
              "      <td>0.234413</td>\n",
              "      <td>0.434413</td>\n",
              "      <td>0.200000</td>\n",
              "      <td>0.234413</td>\n",
              "      <td>0.434413</td>\n",
              "    </tr>\n",
              "  </tbody>\n",
              "</table>\n",
              "<p>318 rows × 16 columns</p>\n",
              "</div>"
            ],
            "text/plain": [
              "       No   Code  ... text_polar_std total_polar_std\n",
              "0    2290   5930  ...       0.139552        0.206219\n",
              "1    2812   5930  ...       0.356104        0.356104\n",
              "2    6445  66570  ...       0.355606        0.555606\n",
              "3    6968  66570  ...       0.246708        0.246708\n",
              "4     117   5930  ...       0.428414        0.628414\n",
              "..    ...    ...  ...            ...             ...\n",
              "313   765   5930  ...       0.115555        0.115555\n",
              "314  6141  66570  ...       0.466667        0.466667\n",
              "315  2380   5930  ...       0.463974        0.463974\n",
              "316   598   5930  ...       0.308327        0.508327\n",
              "317  4204  35900  ...       0.234413        0.434413\n",
              "\n",
              "[318 rows x 16 columns]"
            ]
          },
          "metadata": {
            "tags": []
          },
          "execution_count": 131
        }
      ]
    },
    {
      "cell_type": "code",
      "metadata": {
        "id": "KEb2RmgKVyi9"
      },
      "source": [
        "def polar_mean_std( news_copy,test_col ,target_col):\n",
        "    aa=news_copy[news_copy[f'{test_col}']==-1][f'{target_col}']\n",
        "    aaa=0\n",
        "    # bb=news_set[news_set['Sentiment']==0][f'{polar_set}']\n",
        "    # bbb=0\n",
        "    cc=news_copy[news_copy[f'{test_col}']==1][f'{target_col}']\n",
        "    ccc=0\n",
        "    for a in aa:\n",
        "        aaa+=a\n",
        "\n",
        "    # for b in bb:\n",
        "    #     bbb+=b\n",
        "\n",
        "    for c in cc:\n",
        "        ccc+=c\n",
        "    print( aaa/sum(news_copy[f'{test_col}']==-1),ccc/sum(news_copy[f'{test_col}']==1))\n",
        "    print(sum(news_copy[f'{test_col}']==-1),sum(news_copy[f'{test_col}']==1))"
      ],
      "execution_count": null,
      "outputs": []
    },
    {
      "cell_type": "code",
      "metadata": {
        "colab": {
          "base_uri": "https://localhost:8080/"
        },
        "id": "9QaqXBCVUNzS",
        "outputId": "114d50aa-37b3-4d14-c40b-99413b804e44"
      },
      "source": [
        "polar_mean_std(std_pos,'S','title_polar_std')\n",
        "polar_mean_std(std_pos,'S','text_polar_std')\n",
        "polar_mean_std(std_pos,'S','total_polar_std')"
      ],
      "execution_count": null,
      "outputs": [
        {
          "output_type": "stream",
          "text": [
            "0.06796643005102486\n",
            "318\n",
            "0.2979780494495817\n",
            "318\n",
            "0.36594447950060655\n",
            "318\n"
          ],
          "name": "stdout"
        }
      ]
    },
    {
      "cell_type": "code",
      "metadata": {
        "colab": {
          "base_uri": "https://localhost:8080/",
          "height": 280
        },
        "id": "GqfzPlDVUR-d",
        "outputId": "30bf87c9-c434-44e8-f8c2-b3cb75536c6b"
      },
      "source": [
        "acc_std_pos=[]\n",
        "for x in np.arange(-0.2,0.3,0.001):\n",
        "    result_a_std=[]\n",
        "    for a in std_pos['total_polar_std']:    \n",
        "        if a > x:\n",
        "            result_a_std.append(1)\n",
        "        else:\n",
        "            result_a_std.append(-1)\n",
        "    ac = np.sum(np.equal(std_pos['S'],result_a_std))/len(result_a_std)\n",
        "    acc_std_pos.append(ac)\n",
        "\n",
        "x= np.arange(-0.2,0.3,0.001)\n",
        "y=acc_std_pos\n",
        "plt.plot(x,y)\n",
        "plt.xlabel('Crit_Score')\n",
        "plt.ylabel('Total_ACC')\n",
        "plt.grid()\n",
        "plt.show()"
      ],
      "execution_count": null,
      "outputs": [
        {
          "output_type": "display_data",
          "data": {
            "image/png": "[encoded data removed]",
            "text/plain": [
              "<Figure size 432x288 with 1 Axes>"
            ]
          },
          "metadata": {
            "tags": [],
            "needs_background": "light"
          }
        }
      ]
    },
    {
      "cell_type": "code",
      "metadata": {
        "colab": {
          "base_uri": "https://localhost:8080/"
        },
        "id": "LFXAAQTEVQrt",
        "outputId": "f67055f7-1dc6-4f9f-a0f6-815a4ac964f5"
      },
      "source": [
        "std_neg=std_data[std_data['S']==-1]\n",
        "len(std_neg)"
      ],
      "execution_count": null,
      "outputs": [
        {
          "output_type": "execute_result",
          "data": {
            "text/plain": [
              "316"
            ]
          },
          "metadata": {
            "tags": []
          },
          "execution_count": 142
        }
      ]
    },
    {
      "cell_type": "code",
      "metadata": {
        "colab": {
          "base_uri": "https://localhost:8080/",
          "height": 580
        },
        "id": "op6yMk3lW1L9",
        "outputId": "4ce3073b-ebc4-47e2-9f96-fd6eddd4df49"
      },
      "source": [
        "ksaa = KSAA()\n",
        "title_pol_std=[]\n",
        "for i in range(316):\n",
        "    for k in std_neg['Title'][i].replace('...','').replace('..','').replace('.','').split(sep='.'):\n",
        "        tokens= ksaa.tokenize(k)\n",
        "        token_lst=[]  \n",
        "        for a in tokens:\n",
        "            one_dot=a.split('/')\n",
        "            if len(one_dot[0])!=int(1):\n",
        "                join_dot='/'.join(one_dot)\n",
        "                token_lst.append(join_dot)\n",
        "        if len(token_lst) < int(2):\n",
        "            token_lst=[]\n",
        "        score = ksaa.get_score(token_lst)\n",
        "        title_pol_std.append(score['Polarity'])\n",
        "\n",
        "#제목 극성 /2 = title_polr\n",
        "title_polr_std=np.array(title_pol_std)*0.2\n",
        "print(len(title_polr_std))\n",
        "\n",
        "text_pol_std=[]\n",
        "for i in range(318):\n",
        "    polar=0\n",
        "    for k in std_neg['Text'][i].split(sep='.'):\n",
        "        tokens= ksaa.tokenize(k)\n",
        "        token_lst=[]  \n",
        "        for a in tokens:\n",
        "            one_dot=a.split('/')\n",
        "            if len(one_dot[0])!=int(1):\n",
        "                join_dot='/'.join(one_dot)\n",
        "                token_lst.append(join_dot)\n",
        "        if len(token_lst) < int(2):\n",
        "            token_lst=[]\n",
        "        score = ksaa.get_score(token_lst)\n",
        "        polar+=score['Polarity']\n",
        "        sen_num=len(std_data['Text'][i].split(sep='.'))\n",
        "    text_pol_std.append(polar/sen_num)\n",
        "\n",
        "\n",
        "text_polr_std=np.array(text_pol_std)*0.8\n",
        "total_polr_std=title_polr_std + text_polr_std\n",
        "news_arr_std=np.array(std_neg['S'])\n",
        "std_neg['title_polar_std']=title_polr_std\n",
        "std_neg['text_polar_std']=text_polr_std\n",
        "std_neg['total_polar_std']=total_polr_std"
      ],
      "execution_count": null,
      "outputs": [
        {
          "output_type": "error",
          "ename": "KeyError",
          "evalue": "ignored",
          "traceback": [
            "\u001b[0;31m---------------------------------------------------------------------------\u001b[0m",
            "\u001b[0;31mKeyError\u001b[0m                                  Traceback (most recent call last)",
            "\u001b[0;32m/usr/local/lib/python3.7/dist-packages/pandas/core/indexes/base.py\u001b[0m in \u001b[0;36mget_loc\u001b[0;34m(self, key, method, tolerance)\u001b[0m\n\u001b[1;32m   2897\u001b[0m             \u001b[0;32mtry\u001b[0m\u001b[0;34m:\u001b[0m\u001b[0;34m\u001b[0m\u001b[0;34m\u001b[0m\u001b[0m\n\u001b[0;32m-> 2898\u001b[0;31m                 \u001b[0;32mreturn\u001b[0m \u001b[0mself\u001b[0m\u001b[0;34m.\u001b[0m\u001b[0m_engine\u001b[0m\u001b[0;34m.\u001b[0m\u001b[0mget_loc\u001b[0m\u001b[0;34m(\u001b[0m\u001b[0mcasted_key\u001b[0m\u001b[0;34m)\u001b[0m\u001b[0;34m\u001b[0m\u001b[0;34m\u001b[0m\u001b[0m\n\u001b[0m\u001b[1;32m   2899\u001b[0m             \u001b[0;32mexcept\u001b[0m \u001b[0mKeyError\u001b[0m \u001b[0;32mas\u001b[0m \u001b[0merr\u001b[0m\u001b[0;34m:\u001b[0m\u001b[0;34m\u001b[0m\u001b[0;34m\u001b[0m\u001b[0m\n",
            "\u001b[0;32mpandas/_libs/index.pyx\u001b[0m in \u001b[0;36mpandas._libs.index.IndexEngine.get_loc\u001b[0;34m()\u001b[0m\n",
            "\u001b[0;32mpandas/_libs/index.pyx\u001b[0m in \u001b[0;36mpandas._libs.index.IndexEngine.get_loc\u001b[0;34m()\u001b[0m\n",
            "\u001b[0;32mpandas/_libs/hashtable_class_helper.pxi\u001b[0m in \u001b[0;36mpandas._libs.hashtable.Int64HashTable.get_item\u001b[0;34m()\u001b[0m\n",
            "\u001b[0;32mpandas/_libs/hashtable_class_helper.pxi\u001b[0m in \u001b[0;36mpandas._libs.hashtable.Int64HashTable.get_item\u001b[0;34m()\u001b[0m\n",
            "\u001b[0;31mKeyError\u001b[0m: 0",
            "\nThe above exception was the direct cause of the following exception:\n",
            "\u001b[0;31mKeyError\u001b[0m                                  Traceback (most recent call last)",
            "\u001b[0;32m<ipython-input-146-e352a2a42c87>\u001b[0m in \u001b[0;36m<module>\u001b[0;34m()\u001b[0m\n\u001b[1;32m      2\u001b[0m \u001b[0mtitle_pol_std\u001b[0m\u001b[0;34m=\u001b[0m\u001b[0;34m[\u001b[0m\u001b[0;34m]\u001b[0m\u001b[0;34m\u001b[0m\u001b[0;34m\u001b[0m\u001b[0m\n\u001b[1;32m      3\u001b[0m \u001b[0;32mfor\u001b[0m \u001b[0mi\u001b[0m \u001b[0;32min\u001b[0m \u001b[0mrange\u001b[0m\u001b[0;34m(\u001b[0m\u001b[0;36m316\u001b[0m\u001b[0;34m)\u001b[0m\u001b[0;34m:\u001b[0m\u001b[0;34m\u001b[0m\u001b[0;34m\u001b[0m\u001b[0m\n\u001b[0;32m----> 4\u001b[0;31m     \u001b[0;32mfor\u001b[0m \u001b[0mk\u001b[0m \u001b[0;32min\u001b[0m \u001b[0mstd_neg\u001b[0m\u001b[0;34m[\u001b[0m\u001b[0;34m'Title'\u001b[0m\u001b[0;34m]\u001b[0m\u001b[0;34m[\u001b[0m\u001b[0mi\u001b[0m\u001b[0;34m]\u001b[0m\u001b[0;34m.\u001b[0m\u001b[0mreplace\u001b[0m\u001b[0;34m(\u001b[0m\u001b[0;34m'...'\u001b[0m\u001b[0;34m,\u001b[0m\u001b[0;34m''\u001b[0m\u001b[0;34m)\u001b[0m\u001b[0;34m.\u001b[0m\u001b[0mreplace\u001b[0m\u001b[0;34m(\u001b[0m\u001b[0;34m'..'\u001b[0m\u001b[0;34m,\u001b[0m\u001b[0;34m''\u001b[0m\u001b[0;34m)\u001b[0m\u001b[0;34m.\u001b[0m\u001b[0mreplace\u001b[0m\u001b[0;34m(\u001b[0m\u001b[0;34m'.'\u001b[0m\u001b[0;34m,\u001b[0m\u001b[0;34m''\u001b[0m\u001b[0;34m)\u001b[0m\u001b[0;34m.\u001b[0m\u001b[0msplit\u001b[0m\u001b[0;34m(\u001b[0m\u001b[0msep\u001b[0m\u001b[0;34m=\u001b[0m\u001b[0;34m'.'\u001b[0m\u001b[0;34m)\u001b[0m\u001b[0;34m:\u001b[0m\u001b[0;34m\u001b[0m\u001b[0;34m\u001b[0m\u001b[0m\n\u001b[0m\u001b[1;32m      5\u001b[0m         \u001b[0mtokens\u001b[0m\u001b[0;34m=\u001b[0m \u001b[0mksaa\u001b[0m\u001b[0;34m.\u001b[0m\u001b[0mtokenize\u001b[0m\u001b[0;34m(\u001b[0m\u001b[0mk\u001b[0m\u001b[0;34m)\u001b[0m\u001b[0;34m\u001b[0m\u001b[0;34m\u001b[0m\u001b[0m\n\u001b[1;32m      6\u001b[0m         \u001b[0mtoken_lst\u001b[0m\u001b[0;34m=\u001b[0m\u001b[0;34m[\u001b[0m\u001b[0;34m]\u001b[0m\u001b[0;34m\u001b[0m\u001b[0;34m\u001b[0m\u001b[0m\n",
            "\u001b[0;32m/usr/local/lib/python3.7/dist-packages/pandas/core/series.py\u001b[0m in \u001b[0;36m__getitem__\u001b[0;34m(self, key)\u001b[0m\n\u001b[1;32m    880\u001b[0m \u001b[0;34m\u001b[0m\u001b[0m\n\u001b[1;32m    881\u001b[0m         \u001b[0;32melif\u001b[0m \u001b[0mkey_is_scalar\u001b[0m\u001b[0;34m:\u001b[0m\u001b[0;34m\u001b[0m\u001b[0;34m\u001b[0m\u001b[0m\n\u001b[0;32m--> 882\u001b[0;31m             \u001b[0;32mreturn\u001b[0m \u001b[0mself\u001b[0m\u001b[0;34m.\u001b[0m\u001b[0m_get_value\u001b[0m\u001b[0;34m(\u001b[0m\u001b[0mkey\u001b[0m\u001b[0;34m)\u001b[0m\u001b[0;34m\u001b[0m\u001b[0;34m\u001b[0m\u001b[0m\n\u001b[0m\u001b[1;32m    883\u001b[0m \u001b[0;34m\u001b[0m\u001b[0m\n\u001b[1;32m    884\u001b[0m         \u001b[0;32mif\u001b[0m \u001b[0mis_hashable\u001b[0m\u001b[0;34m(\u001b[0m\u001b[0mkey\u001b[0m\u001b[0;34m)\u001b[0m\u001b[0;34m:\u001b[0m\u001b[0;34m\u001b[0m\u001b[0;34m\u001b[0m\u001b[0m\n",
            "\u001b[0;32m/usr/local/lib/python3.7/dist-packages/pandas/core/series.py\u001b[0m in \u001b[0;36m_get_value\u001b[0;34m(self, label, takeable)\u001b[0m\n\u001b[1;32m    988\u001b[0m \u001b[0;34m\u001b[0m\u001b[0m\n\u001b[1;32m    989\u001b[0m         \u001b[0;31m# Similar to Index.get_value, but we do not fall back to positional\u001b[0m\u001b[0;34m\u001b[0m\u001b[0;34m\u001b[0m\u001b[0;34m\u001b[0m\u001b[0m\n\u001b[0;32m--> 990\u001b[0;31m         \u001b[0mloc\u001b[0m \u001b[0;34m=\u001b[0m \u001b[0mself\u001b[0m\u001b[0;34m.\u001b[0m\u001b[0mindex\u001b[0m\u001b[0;34m.\u001b[0m\u001b[0mget_loc\u001b[0m\u001b[0;34m(\u001b[0m\u001b[0mlabel\u001b[0m\u001b[0;34m)\u001b[0m\u001b[0;34m\u001b[0m\u001b[0;34m\u001b[0m\u001b[0m\n\u001b[0m\u001b[1;32m    991\u001b[0m         \u001b[0;32mreturn\u001b[0m \u001b[0mself\u001b[0m\u001b[0;34m.\u001b[0m\u001b[0mindex\u001b[0m\u001b[0;34m.\u001b[0m\u001b[0m_get_values_for_loc\u001b[0m\u001b[0;34m(\u001b[0m\u001b[0mself\u001b[0m\u001b[0;34m,\u001b[0m \u001b[0mloc\u001b[0m\u001b[0;34m,\u001b[0m \u001b[0mlabel\u001b[0m\u001b[0;34m)\u001b[0m\u001b[0;34m\u001b[0m\u001b[0;34m\u001b[0m\u001b[0m\n\u001b[1;32m    992\u001b[0m \u001b[0;34m\u001b[0m\u001b[0m\n",
            "\u001b[0;32m/usr/local/lib/python3.7/dist-packages/pandas/core/indexes/base.py\u001b[0m in \u001b[0;36mget_loc\u001b[0;34m(self, key, method, tolerance)\u001b[0m\n\u001b[1;32m   2898\u001b[0m                 \u001b[0;32mreturn\u001b[0m \u001b[0mself\u001b[0m\u001b[0;34m.\u001b[0m\u001b[0m_engine\u001b[0m\u001b[0;34m.\u001b[0m\u001b[0mget_loc\u001b[0m\u001b[0;34m(\u001b[0m\u001b[0mcasted_key\u001b[0m\u001b[0;34m)\u001b[0m\u001b[0;34m\u001b[0m\u001b[0;34m\u001b[0m\u001b[0m\n\u001b[1;32m   2899\u001b[0m             \u001b[0;32mexcept\u001b[0m \u001b[0mKeyError\u001b[0m \u001b[0;32mas\u001b[0m \u001b[0merr\u001b[0m\u001b[0;34m:\u001b[0m\u001b[0;34m\u001b[0m\u001b[0;34m\u001b[0m\u001b[0m\n\u001b[0;32m-> 2900\u001b[0;31m                 \u001b[0;32mraise\u001b[0m \u001b[0mKeyError\u001b[0m\u001b[0;34m(\u001b[0m\u001b[0mkey\u001b[0m\u001b[0;34m)\u001b[0m \u001b[0;32mfrom\u001b[0m \u001b[0merr\u001b[0m\u001b[0;34m\u001b[0m\u001b[0;34m\u001b[0m\u001b[0m\n\u001b[0m\u001b[1;32m   2901\u001b[0m \u001b[0;34m\u001b[0m\u001b[0m\n\u001b[1;32m   2902\u001b[0m         \u001b[0;32mif\u001b[0m \u001b[0mtolerance\u001b[0m \u001b[0;32mis\u001b[0m \u001b[0;32mnot\u001b[0m \u001b[0;32mNone\u001b[0m\u001b[0;34m:\u001b[0m\u001b[0;34m\u001b[0m\u001b[0;34m\u001b[0m\u001b[0m\n",
            "\u001b[0;31mKeyError\u001b[0m: 0"
          ]
        }
      ]
    },
    {
      "cell_type": "code",
      "metadata": {
        "id": "_MiaTgpPXSOQ"
      },
      "source": [
        "polar_mean_std(std_pos,'S','title_polar_std')\n",
        "polar_mean_std(std_pos,'S','text_polar_std')\n",
        "polar_mean_std(std_pos,'S','total_polar_std')"
      ],
      "execution_count": null,
      "outputs": []
    },
    {
      "cell_type": "markdown",
      "metadata": {
        "id": "yIvd1hVSXkpd"
      },
      "source": [
        "# **neut->neg resize_data**"
      ]
    },
    {
      "cell_type": "code",
      "metadata": {
        "colab": {
          "base_uri": "https://localhost:8080/"
        },
        "id": "eJTOCn1tT6Hu",
        "outputId": "48ee28e4-5a2c-4e36-b783-290cb31120d1"
      },
      "source": [
        "news_resize = pd.read_excel('/content/C01-1_KM_Data_LabelingResult_incl_resize.xlsx')\n",
        "news_neg= news_resize[news_resize['S']==-1]\n",
        "news_neut= news_resize[news_resize['S']==0]\n",
        "news_pos=news_resize[news_resize['S']==1]\n",
        "\n",
        "news_neut['S']=-1\n",
        "\n",
        "from sklearn.model_selection import train_test_split\n",
        "\n",
        "P_train, P_test = train_test_split(news_pos, test_size=0.379, random_state=123)\n",
        "st_data=pd.concat([P_test, news_neg], ignore_index=True)\n",
        "std_data_re=pd.concat([st_data, news_neut], ignore_index=True)"
      ],
      "execution_count": null,
      "outputs": [
        {
          "output_type": "stream",
          "text": [
            "/usr/local/lib/python3.7/dist-packages/ipykernel_launcher.py:6: SettingWithCopyWarning: \n",
            "A value is trying to be set on a copy of a slice from a DataFrame.\n",
            "Try using .loc[row_indexer,col_indexer] = value instead\n",
            "\n",
            "See the caveats in the documentation: https://pandas.pydata.org/pandas-docs/stable/user_guide/indexing.html#returning-a-view-versus-a-copy\n",
            "  \n"
          ],
          "name": "stderr"
        }
      ]
    },
    {
      "cell_type": "code",
      "metadata": {
        "colab": {
          "base_uri": "https://localhost:8080/",
          "height": 190
        },
        "id": "Uw5ttWNJXt-I",
        "outputId": "d28a432b-424f-4588-ce79-3c1bbe1013bc"
      },
      "source": [
        "std_data_re[702:704]"
      ],
      "execution_count": null,
      "outputs": [
        {
          "output_type": "execute_result",
          "data": {
            "text/html": [
              "<div>\n",
              "<style scoped>\n",
              "    .dataframe tbody tr th:only-of-type {\n",
              "        vertical-align: middle;\n",
              "    }\n",
              "\n",
              "    .dataframe tbody tr th {\n",
              "        vertical-align: top;\n",
              "    }\n",
              "\n",
              "    .dataframe thead th {\n",
              "        text-align: right;\n",
              "    }\n",
              "</style>\n",
              "<table border=\"1\" class=\"dataframe\">\n",
              "  <thead>\n",
              "    <tr style=\"text-align: right;\">\n",
              "      <th></th>\n",
              "      <th>No</th>\n",
              "      <th>Code</th>\n",
              "      <th>Date</th>\n",
              "      <th>Journal</th>\n",
              "      <th>Title</th>\n",
              "      <th>Text</th>\n",
              "      <th>URL</th>\n",
              "      <th>Sample Y/N</th>\n",
              "      <th>In Charge</th>\n",
              "      <th>S</th>\n",
              "    </tr>\n",
              "  </thead>\n",
              "  <tbody>\n",
              "    <tr>\n",
              "      <th>702</th>\n",
              "      <td>135</td>\n",
              "      <td>5930</td>\n",
              "      <td>2021.04.11 17:06</td>\n",
              "      <td>한국경제</td>\n",
              "      <td>\"삼성전자 투자 망할 일 없다고? '올인'하면 큰코다친다\"</td>\n",
              "      <td>반도체 패권전쟁 승자는…\"美·日 분산투자하라\" 삼성전자 '올인'…위험한 까닭은美·日...</td>\n",
              "      <td>https://finance.naver.com/item/news_read.nhn?a...</td>\n",
              "      <td>Y</td>\n",
              "      <td>JH</td>\n",
              "      <td>-1</td>\n",
              "    </tr>\n",
              "    <tr>\n",
              "      <th>703</th>\n",
              "      <td>137</td>\n",
              "      <td>5930</td>\n",
              "      <td>2021.04.11 11:49</td>\n",
              "      <td>한국경제</td>\n",
              "      <td>지난해 삼성전자 빼고 투자 감소…올해도 韓 투자 '빨간불'</td>\n",
              "      <td>사진=게티이미지뱅크주요 기업 100개사 중 절반 이상이 올해 투자 계획이 없거나 투...</td>\n",
              "      <td>https://finance.naver.com/item/news_read.nhn?a...</td>\n",
              "      <td>Y</td>\n",
              "      <td>JH</td>\n",
              "      <td>-1</td>\n",
              "    </tr>\n",
              "  </tbody>\n",
              "</table>\n",
              "</div>"
            ],
            "text/plain": [
              "      No  Code              Date  ... Sample Y/N In Charge   S\n",
              "702  135  5930  2021.04.11 17:06  ...          Y        JH  -1\n",
              "703  137  5930  2021.04.11 11:49  ...          Y        JH  -1\n",
              "\n",
              "[2 rows x 10 columns]"
            ]
          },
          "metadata": {
            "tags": []
          },
          "execution_count": 152
        }
      ]
    },
    {
      "cell_type": "code",
      "metadata": {
        "colab": {
          "base_uri": "https://localhost:8080/"
        },
        "id": "UxjxKBJyUFeF",
        "outputId": "03dd6f01-306e-479f-d88b-23146573eb17"
      },
      "source": [
        "ksaa = KSAA()\n",
        "title_pol_std_re=[]\n",
        "for i in range(1384):\n",
        "    for k in std_data_re['Title'][i].replace('...','').replace('..','').replace('.','').split(sep='.'):\n",
        "        tokens= ksaa.tokenize(k)\n",
        "        token_lst=[]  \n",
        "        for a in tokens:\n",
        "            one_dot=a.split('/')\n",
        "            if len(one_dot[0])!=int(1):\n",
        "                join_dot='/'.join(one_dot)\n",
        "                token_lst.append(join_dot)\n",
        "        if len(token_lst) < int(2):\n",
        "            token_lst=[]\n",
        "        score = ksaa.get_score(token_lst)\n",
        "        title_pol_std_re.append(score['Polarity'])\n",
        "\n",
        "#제목 극성 /2 = title_polr\n",
        "title_polr_std_re=np.array(title_pol_std_re)*0.2\n",
        "print(len(title_polr_std_re))\n",
        "\n",
        "text_pol_std_re=[]\n",
        "for i in range(1384):\n",
        "    polar=0\n",
        "    for k in std_data_re['Text'][i].split(sep='.'):\n",
        "        try:\n",
        "            tokens= ksaa.tokenize(k)\n",
        "            token_lst=[]  \n",
        "            for a in tokens:\n",
        "                one_dot=a.split('/')\n",
        "                if len(one_dot[0])!=int(1):\n",
        "                    join_dot='/'.join(one_dot)\n",
        "                    token_lst.append(join_dot)\n",
        "            if len(token_lst) < int(2):\n",
        "                token_lst=[]\n",
        "            score = ksaa.get_score(token_lst)\n",
        "            polar+=score['Polarity']\n",
        "            sen_num=len(std_data_re['Text'][i].split(sep='.'))\n",
        "        except:\n",
        "            pass\n",
        "    text_pol_std_re.append(polar/sen_num)\n",
        "\n",
        "\n",
        "text_polr_std_re=np.array(text_pol_std_re)*0.8\n",
        "total_polr_std_re=title_polr_std_re + text_polr_std_re\n",
        "news_arr_std=np.array(std_data_re['S'])\n",
        "std_data_re['title_polar_std']=title_polr_std_re\n",
        "std_data_re['text_polar_std']=text_polr_std_re\n",
        "std_data_re['total_polar_std']=total_polr_std_re"
      ],
      "execution_count": null,
      "outputs": [
        {
          "output_type": "stream",
          "text": [
            "1384\n"
          ],
          "name": "stdout"
        }
      ]
    },
    {
      "cell_type": "code",
      "metadata": {
        "colab": {
          "base_uri": "https://localhost:8080/"
        },
        "id": "FhvWLf3amurk",
        "outputId": "f31205c7-c15b-4f91-fac5-59a0408d8484"
      },
      "source": [
        "polar_mean_std(std_data_re,'S','title_polar_std')\n",
        "polar_mean_std(std_data_re,'S','text_polar_std')\n",
        "polar_mean_std(std_data_re,'S','total_polar_std')"
      ],
      "execution_count": null,
      "outputs": [
        {
          "output_type": "stream",
          "text": [
            "0.018607892718090643 0.06806630951335829\n",
            "692 692\n",
            "0.19008006950166667 0.2845218293729731\n",
            "692 692\n",
            "0.20868796221975736 0.3525881388863312\n",
            "692 692\n"
          ],
          "name": "stdout"
        }
      ]
    },
    {
      "cell_type": "code",
      "metadata": {
        "colab": {
          "base_uri": "https://localhost:8080/",
          "height": 283
        },
        "id": "2z-owafMneK9",
        "outputId": "edc0f4c3-0bba-4df1-f17d-4593abad58e2"
      },
      "source": [
        "acc_std=[]\n",
        "for x in np.arange(-0.2,0.3,0.001):\n",
        "    result_a_std=[]\n",
        "    for a in std_data_re['total_polar_std']:    \n",
        "        if a > x:\n",
        "            result_a_std.append(1)\n",
        "        else:\n",
        "            result_a_std.append(-1)\n",
        "    ac = np.sum(np.equal(std_data_re['S'],result_a_std))/len(result_a_std)\n",
        "    acc_std.append(ac)\n",
        "\n",
        "x= np.arange(-0.2,0.3,0.001)\n",
        "y=acc_std\n",
        "plt.plot(x,y)\n",
        "plt.xlabel('Crit_Score')\n",
        "plt.ylabel('Total_ACC')\n",
        "plt.grid()\n",
        "plt.show()"
      ],
      "execution_count": null,
      "outputs": [
        {
          "output_type": "display_data",
          "data": {
            "image/png": "[encoded data removed]",
            "text/plain": [
              "<Figure size 432x288 with 1 Axes>"
            ]
          },
          "metadata": {
            "tags": [],
            "needs_background": "light"
          }
        }
      ]
    }
  ]
}