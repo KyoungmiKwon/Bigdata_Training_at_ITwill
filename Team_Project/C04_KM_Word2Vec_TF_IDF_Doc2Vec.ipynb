{
  "nbformat": 4,
  "nbformat_minor": 0,
  "metadata": {
    "colab": {
      "name": "C04_KM_Word2Vec_TF-IDF_Doc2Vec.ipynb",
      "provenance": [],
      "collapsed_sections": [
        "4uRJTv5qhVa5",
        "_iq9dX2znkoB",
        "-jc9QgrrXifR"
      ],
      "toc_visible": true,
      "mount_file_id": "1_5TBeayi9L-kjuhu3MSxDxcX4kWTwsgn",
      "authorship_tag": "ABX9TyPFDXX1ydU82cOfoKi71gck",
      "include_colab_link": true
    },
    "kernelspec": {
      "name": "python3",
      "display_name": "Python 3"
    },
    "language_info": {
      "name": "python"
    }
  },
  "cells": [
    {
      "cell_type": "markdown",
      "metadata": {
        "id": "view-in-github",
        "colab_type": "text"
      },
      "source": [
        "<a href=\"https://colab.research.google.com/github/KyoungmiKwon/Bigdata_Training_at_ITwill/blob/main/Team_Project/C04_KM_Word2Vec_TF_IDF_Doc2Vec.ipynb\" target=\"_parent\"><img src=\"https://colab.research.google.com/assets/colab-badge.svg\" alt=\"Open In Colab\"/></a>"
      ]
    },
    {
      "cell_type": "markdown",
      "metadata": {
        "id": "4uRJTv5qhVa5"
      },
      "source": [
        "# Mecab 설치"
      ]
    },
    {
      "cell_type": "code",
      "metadata": {
        "colab": {
          "base_uri": "https://localhost:8080/"
        },
        "id": "TUwMj8pHhLyg",
        "outputId": "1ad0cf74-4c4e-4032-cceb-e04152b5952d"
      },
      "source": [
        "%%bash\n",
        "apt-get update\n",
        "apt-get install g++ openjdk-8-jdk python-dev python3-dev\n",
        "pip3 install JPype1\n",
        "pip3 install konlpy"
      ],
      "execution_count": 2,
      "outputs": [
        {
          "output_type": "stream",
          "text": [
            "Get:1 http://security.ubuntu.com/ubuntu bionic-security InRelease [88.7 kB]\n",
            "Ign:2 https://developer.download.nvidia.com/compute/cuda/repos/ubuntu1804/x86_64  InRelease\n",
            "Get:3 https://cloud.r-project.org/bin/linux/ubuntu bionic-cran40/ InRelease [3,626 B]\n",
            "Get:4 http://ppa.launchpad.net/c2d4u.team/c2d4u4.0+/ubuntu bionic InRelease [15.9 kB]\n",
            "Hit:5 http://archive.ubuntu.com/ubuntu bionic InRelease\n",
            "Ign:6 https://developer.download.nvidia.com/compute/machine-learning/repos/ubuntu1804/x86_64  InRelease\n",
            "Get:7 https://developer.download.nvidia.com/compute/cuda/repos/ubuntu1804/x86_64  Release [697 B]\n",
            "Hit:8 https://developer.download.nvidia.com/compute/machine-learning/repos/ubuntu1804/x86_64  Release\n",
            "Get:9 https://developer.download.nvidia.com/compute/cuda/repos/ubuntu1804/x86_64  Release.gpg [836 B]\n",
            "Get:10 http://archive.ubuntu.com/ubuntu bionic-updates InRelease [88.7 kB]\n",
            "Hit:11 http://ppa.launchpad.net/cran/libgit2/ubuntu bionic InRelease\n",
            "Get:12 http://security.ubuntu.com/ubuntu bionic-security/universe amd64 Packages [1,410 kB]\n",
            "Get:13 http://archive.ubuntu.com/ubuntu bionic-backports InRelease [74.6 kB]\n",
            "Hit:14 http://ppa.launchpad.net/deadsnakes/ppa/ubuntu bionic InRelease\n",
            "Get:15 http://security.ubuntu.com/ubuntu bionic-security/restricted amd64 Packages [396 kB]\n",
            "Get:16 http://security.ubuntu.com/ubuntu bionic-security/main amd64 Packages [2,116 kB]\n",
            "Get:17 http://security.ubuntu.com/ubuntu bionic-security/multiverse amd64 Packages [24.7 kB]\n",
            "Get:18 https://cloud.r-project.org/bin/linux/ubuntu bionic-cran40/ Packages [53.1 kB]\n",
            "Hit:19 http://ppa.launchpad.net/graphics-drivers/ppa/ubuntu bionic InRelease\n",
            "Ign:21 https://developer.download.nvidia.com/compute/cuda/repos/ubuntu1804/x86_64  Packages\n",
            "Get:21 https://developer.download.nvidia.com/compute/cuda/repos/ubuntu1804/x86_64  Packages [741 kB]\n",
            "Get:22 http://ppa.launchpad.net/c2d4u.team/c2d4u4.0+/ubuntu bionic/main Sources [1,757 kB]\n",
            "Get:23 http://archive.ubuntu.com/ubuntu bionic-updates/universe amd64 Packages [2,181 kB]\n",
            "Get:24 http://ppa.launchpad.net/c2d4u.team/c2d4u4.0+/ubuntu bionic/main amd64 Packages [899 kB]\n",
            "Get:25 http://archive.ubuntu.com/ubuntu bionic-updates/multiverse amd64 Packages [31.6 kB]\n",
            "Get:26 http://archive.ubuntu.com/ubuntu bionic-updates/restricted amd64 Packages [426 kB]\n",
            "Get:27 http://archive.ubuntu.com/ubuntu bionic-updates/main amd64 Packages [2,546 kB]\n",
            "Fetched 12.9 MB in 3s (3,899 kB/s)\n",
            "Reading package lists...\n",
            "Reading package lists...\n",
            "Building dependency tree...\n",
            "Reading state information...\n",
            "python-dev is already the newest version (2.7.15~rc1-1).\n",
            "g++ is already the newest version (4:7.4.0-1ubuntu2.3).\n",
            "g++ set to manually installed.\n",
            "python3-dev is already the newest version (3.6.7-1~18.04).\n",
            "python3-dev set to manually installed.\n",
            "The following package was automatically installed and is no longer required:\n",
            "  libnvidia-common-460\n",
            "Use 'apt autoremove' to remove it.\n",
            "The following additional packages will be installed:\n",
            "  fonts-dejavu-core fonts-dejavu-extra libatk-wrapper-java\n",
            "  libatk-wrapper-java-jni libgail-common libgail18 libgtk2.0-0 libgtk2.0-bin\n",
            "  libgtk2.0-common libxxf86dga1 openjdk-8-jdk-headless openjdk-8-jre\n",
            "  openjdk-8-jre-headless x11-utils\n",
            "Suggested packages:\n",
            "  gvfs openjdk-8-demo openjdk-8-source visualvm icedtea-8-plugin libnss-mdns\n",
            "  fonts-ipafont-gothic fonts-ipafont-mincho fonts-wqy-microhei\n",
            "  fonts-wqy-zenhei fonts-indic mesa-utils\n",
            "The following NEW packages will be installed:\n",
            "  fonts-dejavu-core fonts-dejavu-extra libatk-wrapper-java\n",
            "  libatk-wrapper-java-jni libgail-common libgail18 libgtk2.0-0 libgtk2.0-bin\n",
            "  libgtk2.0-common libxxf86dga1 openjdk-8-jdk openjdk-8-jdk-headless\n",
            "  openjdk-8-jre openjdk-8-jre-headless x11-utils\n",
            "0 upgraded, 15 newly installed, 0 to remove and 40 not upgraded.\n",
            "Need to get 43.5 MB of archives.\n",
            "After this operation, 163 MB of additional disk space will be used.\n",
            "Get:1 http://archive.ubuntu.com/ubuntu bionic/main amd64 libxxf86dga1 amd64 2:1.1.4-1 [13.7 kB]\n",
            "Get:2 http://archive.ubuntu.com/ubuntu bionic/main amd64 fonts-dejavu-core all 2.37-1 [1,041 kB]\n",
            "Get:3 http://archive.ubuntu.com/ubuntu bionic/main amd64 fonts-dejavu-extra all 2.37-1 [1,953 kB]\n",
            "Get:4 http://archive.ubuntu.com/ubuntu bionic/main amd64 x11-utils amd64 7.7+3build1 [196 kB]\n",
            "Get:5 http://archive.ubuntu.com/ubuntu bionic/main amd64 libatk-wrapper-java all 0.33.3-20ubuntu0.1 [34.7 kB]\n",
            "Get:6 http://archive.ubuntu.com/ubuntu bionic/main amd64 libatk-wrapper-java-jni amd64 0.33.3-20ubuntu0.1 [28.3 kB]\n",
            "Get:7 http://archive.ubuntu.com/ubuntu bionic/main amd64 libgtk2.0-common all 2.24.32-1ubuntu1 [125 kB]\n",
            "Get:8 http://archive.ubuntu.com/ubuntu bionic/main amd64 libgtk2.0-0 amd64 2.24.32-1ubuntu1 [1,769 kB]\n",
            "Get:9 http://archive.ubuntu.com/ubuntu bionic/main amd64 libgail18 amd64 2.24.32-1ubuntu1 [14.2 kB]\n",
            "Get:10 http://archive.ubuntu.com/ubuntu bionic/main amd64 libgail-common amd64 2.24.32-1ubuntu1 [112 kB]\n",
            "Get:11 http://archive.ubuntu.com/ubuntu bionic/main amd64 libgtk2.0-bin amd64 2.24.32-1ubuntu1 [7,536 B]\n",
            "Get:12 http://archive.ubuntu.com/ubuntu bionic-updates/universe amd64 openjdk-8-jre-headless amd64 8u282-b08-0ubuntu1~18.04 [28.2 MB]\n",
            "Get:13 http://archive.ubuntu.com/ubuntu bionic-updates/universe amd64 openjdk-8-jre amd64 8u282-b08-0ubuntu1~18.04 [69.7 kB]\n",
            "Get:14 http://archive.ubuntu.com/ubuntu bionic-updates/universe amd64 openjdk-8-jdk-headless amd64 8u282-b08-0ubuntu1~18.04 [8,267 kB]\n",
            "Get:15 http://archive.ubuntu.com/ubuntu bionic-updates/universe amd64 openjdk-8-jdk amd64 8u282-b08-0ubuntu1~18.04 [1,630 kB]\n",
            "Fetched 43.5 MB in 2s (21.0 MB/s)\n",
            "Selecting previously unselected package libxxf86dga1:amd64.\r\n",
            "(Reading database ... \r(Reading database ... 5%\r(Reading database ... 10%\r(Reading database ... 15%\r(Reading database ... 20%\r(Reading database ... 25%\r(Reading database ... 30%\r(Reading database ... 35%\r(Reading database ... 40%\r(Reading database ... 45%\r(Reading database ... 50%\r(Reading database ... 55%\r(Reading database ... 60%\r(Reading database ... 65%\r(Reading database ... 70%\r(Reading database ... 75%\r(Reading database ... 80%\r(Reading database ... 85%\r(Reading database ... 90%\r(Reading database ... 95%\r(Reading database ... 100%\r(Reading database ... 160690 files and directories currently installed.)\r\n",
            "Preparing to unpack .../00-libxxf86dga1_2%3a1.1.4-1_amd64.deb ...\r\n",
            "Unpacking libxxf86dga1:amd64 (2:1.1.4-1) ...\r\n",
            "Selecting previously unselected package fonts-dejavu-core.\r\n",
            "Preparing to unpack .../01-fonts-dejavu-core_2.37-1_all.deb ...\r\n",
            "Unpacking fonts-dejavu-core (2.37-1) ...\r\n",
            "Selecting previously unselected package fonts-dejavu-extra.\r\n",
            "Preparing to unpack .../02-fonts-dejavu-extra_2.37-1_all.deb ...\r\n",
            "Unpacking fonts-dejavu-extra (2.37-1) ...\r\n",
            "Selecting previously unselected package x11-utils.\r\n",
            "Preparing to unpack .../03-x11-utils_7.7+3build1_amd64.deb ...\r\n",
            "Unpacking x11-utils (7.7+3build1) ...\r\n",
            "Selecting previously unselected package libatk-wrapper-java.\r\n",
            "Preparing to unpack .../04-libatk-wrapper-java_0.33.3-20ubuntu0.1_all.deb ...\r\n",
            "Unpacking libatk-wrapper-java (0.33.3-20ubuntu0.1) ...\r\n",
            "Selecting previously unselected package libatk-wrapper-java-jni:amd64.\r\n",
            "Preparing to unpack .../05-libatk-wrapper-java-jni_0.33.3-20ubuntu0.1_amd64.deb ...\r\n",
            "Unpacking libatk-wrapper-java-jni:amd64 (0.33.3-20ubuntu0.1) ...\r\n",
            "Selecting previously unselected package libgtk2.0-common.\r\n",
            "Preparing to unpack .../06-libgtk2.0-common_2.24.32-1ubuntu1_all.deb ...\r\n",
            "Unpacking libgtk2.0-common (2.24.32-1ubuntu1) ...\r\n",
            "Selecting previously unselected package libgtk2.0-0:amd64.\r\n",
            "Preparing to unpack .../07-libgtk2.0-0_2.24.32-1ubuntu1_amd64.deb ...\r\n",
            "Unpacking libgtk2.0-0:amd64 (2.24.32-1ubuntu1) ...\r\n",
            "Selecting previously unselected package libgail18:amd64.\r\n",
            "Preparing to unpack .../08-libgail18_2.24.32-1ubuntu1_amd64.deb ...\r\n",
            "Unpacking libgail18:amd64 (2.24.32-1ubuntu1) ...\r\n",
            "Selecting previously unselected package libgail-common:amd64.\r\n",
            "Preparing to unpack .../09-libgail-common_2.24.32-1ubuntu1_amd64.deb ...\r\n",
            "Unpacking libgail-common:amd64 (2.24.32-1ubuntu1) ...\r\n",
            "Selecting previously unselected package libgtk2.0-bin.\r\n",
            "Preparing to unpack .../10-libgtk2.0-bin_2.24.32-1ubuntu1_amd64.deb ...\r\n",
            "Unpacking libgtk2.0-bin (2.24.32-1ubuntu1) ...\r\n",
            "Selecting previously unselected package openjdk-8-jre-headless:amd64.\r\n",
            "Preparing to unpack .../11-openjdk-8-jre-headless_8u282-b08-0ubuntu1~18.04_amd64.deb ...\r\n",
            "Unpacking openjdk-8-jre-headless:amd64 (8u282-b08-0ubuntu1~18.04) ...\r\n",
            "Selecting previously unselected package openjdk-8-jre:amd64.\r\n",
            "Preparing to unpack .../12-openjdk-8-jre_8u282-b08-0ubuntu1~18.04_amd64.deb ...\r\n",
            "Unpacking openjdk-8-jre:amd64 (8u282-b08-0ubuntu1~18.04) ...\r\n",
            "Selecting previously unselected package openjdk-8-jdk-headless:amd64.\r\n",
            "Preparing to unpack .../13-openjdk-8-jdk-headless_8u282-b08-0ubuntu1~18.04_amd64.deb ...\r\n",
            "Unpacking openjdk-8-jdk-headless:amd64 (8u282-b08-0ubuntu1~18.04) ...\r\n",
            "Selecting previously unselected package openjdk-8-jdk:amd64.\r\n",
            "Preparing to unpack .../14-openjdk-8-jdk_8u282-b08-0ubuntu1~18.04_amd64.deb ...\r\n",
            "Unpacking openjdk-8-jdk:amd64 (8u282-b08-0ubuntu1~18.04) ...\r\n",
            "Setting up libgtk2.0-common (2.24.32-1ubuntu1) ...\r\n",
            "Setting up fonts-dejavu-core (2.37-1) ...\r\n",
            "Setting up libxxf86dga1:amd64 (2:1.1.4-1) ...\r\n",
            "Setting up fonts-dejavu-extra (2.37-1) ...\r\n",
            "Setting up openjdk-8-jre-headless:amd64 (8u282-b08-0ubuntu1~18.04) ...\r\n",
            "update-alternatives: using /usr/lib/jvm/java-8-openjdk-amd64/jre/bin/orbd to provide /usr/bin/orbd (orbd) in auto mode\r\n",
            "update-alternatives: using /usr/lib/jvm/java-8-openjdk-amd64/jre/bin/servertool to provide /usr/bin/servertool (servertool) in auto mode\r\n",
            "update-alternatives: using /usr/lib/jvm/java-8-openjdk-amd64/jre/bin/tnameserv to provide /usr/bin/tnameserv (tnameserv) in auto mode\r\n",
            "Setting up libgtk2.0-0:amd64 (2.24.32-1ubuntu1) ...\r\n",
            "Setting up libgail18:amd64 (2.24.32-1ubuntu1) ...\r\n",
            "Setting up openjdk-8-jdk-headless:amd64 (8u282-b08-0ubuntu1~18.04) ...\r\n",
            "update-alternatives: using /usr/lib/jvm/java-8-openjdk-amd64/bin/idlj to provide /usr/bin/idlj (idlj) in auto mode\r\n",
            "update-alternatives: using /usr/lib/jvm/java-8-openjdk-amd64/bin/wsimport to provide /usr/bin/wsimport (wsimport) in auto mode\r\n",
            "update-alternatives: using /usr/lib/jvm/java-8-openjdk-amd64/bin/jsadebugd to provide /usr/bin/jsadebugd (jsadebugd) in auto mode\r\n",
            "update-alternatives: using /usr/lib/jvm/java-8-openjdk-amd64/bin/native2ascii to provide /usr/bin/native2ascii (native2ascii) in auto mode\r\n",
            "update-alternatives: using /usr/lib/jvm/java-8-openjdk-amd64/bin/javah to provide /usr/bin/javah (javah) in auto mode\r\n",
            "update-alternatives: using /usr/lib/jvm/java-8-openjdk-amd64/bin/hsdb to provide /usr/bin/hsdb (hsdb) in auto mode\r\n",
            "update-alternatives: using /usr/lib/jvm/java-8-openjdk-amd64/bin/clhsdb to provide /usr/bin/clhsdb (clhsdb) in auto mode\r\n",
            "update-alternatives: using /usr/lib/jvm/java-8-openjdk-amd64/bin/xjc to provide /usr/bin/xjc (xjc) in auto mode\r\n",
            "update-alternatives: using /usr/lib/jvm/java-8-openjdk-amd64/bin/schemagen to provide /usr/bin/schemagen (schemagen) in auto mode\r\n",
            "update-alternatives: using /usr/lib/jvm/java-8-openjdk-amd64/bin/extcheck to provide /usr/bin/extcheck (extcheck) in auto mode\r\n",
            "update-alternatives: using /usr/lib/jvm/java-8-openjdk-amd64/bin/jhat to provide /usr/bin/jhat (jhat) in auto mode\r\n",
            "update-alternatives: using /usr/lib/jvm/java-8-openjdk-amd64/bin/wsgen to provide /usr/bin/wsgen (wsgen) in auto mode\r\n",
            "Setting up x11-utils (7.7+3build1) ...\r\n",
            "Setting up libgail-common:amd64 (2.24.32-1ubuntu1) ...\r\n",
            "Setting up libatk-wrapper-java (0.33.3-20ubuntu0.1) ...\r\n",
            "Setting up libgtk2.0-bin (2.24.32-1ubuntu1) ...\r\n",
            "Setting up libatk-wrapper-java-jni:amd64 (0.33.3-20ubuntu0.1) ...\r\n",
            "Setting up openjdk-8-jre:amd64 (8u282-b08-0ubuntu1~18.04) ...\r\n",
            "update-alternatives: using /usr/lib/jvm/java-8-openjdk-amd64/jre/bin/policytool to provide /usr/bin/policytool (policytool) in auto mode\r\n",
            "Setting up openjdk-8-jdk:amd64 (8u282-b08-0ubuntu1~18.04) ...\r\n",
            "update-alternatives: using /usr/lib/jvm/java-8-openjdk-amd64/bin/appletviewer to provide /usr/bin/appletviewer (appletviewer) in auto mode\r\n",
            "update-alternatives: using /usr/lib/jvm/java-8-openjdk-amd64/bin/jconsole to provide /usr/bin/jconsole (jconsole) in auto mode\r\n",
            "Processing triggers for man-db (2.8.3-2ubuntu0.1) ...\r\n",
            "Processing triggers for hicolor-icon-theme (0.17-2) ...\r\n",
            "Processing triggers for fontconfig (2.12.6-0ubuntu2) ...\r\n",
            "Processing triggers for mime-support (3.60ubuntu1) ...\r\n",
            "Processing triggers for libc-bin (2.27-3ubuntu1.2) ...\r\n",
            "/sbin/ldconfig.real: /usr/local/lib/python3.7/dist-packages/ideep4py/lib/libmkldnn.so.0 is not a symbolic link\r\n",
            "\r\n",
            "Collecting JPype1\n",
            "  Downloading https://files.pythonhosted.org/packages/cd/a5/9781e2ef4ca92d09912c4794642c1653aea7607f473e156cf4d423a881a1/JPype1-1.2.1-cp37-cp37m-manylinux2010_x86_64.whl (457kB)\n",
            "Requirement already satisfied: typing-extensions; python_version < \"3.8\" in /usr/local/lib/python3.7/dist-packages (from JPype1) (3.7.4.3)\n",
            "Installing collected packages: JPype1\n",
            "Successfully installed JPype1-1.2.1\n",
            "Collecting konlpy\n",
            "  Downloading https://files.pythonhosted.org/packages/85/0e/f385566fec837c0b83f216b2da65db9997b35dd675e107752005b7d392b1/konlpy-0.5.2-py2.py3-none-any.whl (19.4MB)\n",
            "Collecting colorama\n",
            "  Downloading https://files.pythonhosted.org/packages/44/98/5b86278fbbf250d239ae0ecb724f8572af1c91f4a11edf4d36a206189440/colorama-0.4.4-py2.py3-none-any.whl\n",
            "Requirement already satisfied: lxml>=4.1.0 in /usr/local/lib/python3.7/dist-packages (from konlpy) (4.2.6)\n",
            "Requirement already satisfied: tweepy>=3.7.0 in /usr/local/lib/python3.7/dist-packages (from konlpy) (3.10.0)\n",
            "Requirement already satisfied: JPype1>=0.7.0 in /usr/local/lib/python3.7/dist-packages (from konlpy) (1.2.1)\n",
            "Collecting beautifulsoup4==4.6.0\n",
            "  Downloading https://files.pythonhosted.org/packages/9e/d4/10f46e5cfac773e22707237bfcd51bbffeaf0a576b0a847ec7ab15bd7ace/beautifulsoup4-4.6.0-py3-none-any.whl (86kB)\n",
            "Requirement already satisfied: numpy>=1.6 in /usr/local/lib/python3.7/dist-packages (from konlpy) (1.19.5)\n",
            "Requirement already satisfied: six>=1.10.0 in /usr/local/lib/python3.7/dist-packages (from tweepy>=3.7.0->konlpy) (1.15.0)\n",
            "Requirement already satisfied: requests[socks]>=2.11.1 in /usr/local/lib/python3.7/dist-packages (from tweepy>=3.7.0->konlpy) (2.23.0)\n",
            "Requirement already satisfied: requests-oauthlib>=0.7.0 in /usr/local/lib/python3.7/dist-packages (from tweepy>=3.7.0->konlpy) (1.3.0)\n",
            "Requirement already satisfied: typing-extensions; python_version < \"3.8\" in /usr/local/lib/python3.7/dist-packages (from JPype1>=0.7.0->konlpy) (3.7.4.3)\n",
            "Requirement already satisfied: chardet<4,>=3.0.2 in /usr/local/lib/python3.7/dist-packages (from requests[socks]>=2.11.1->tweepy>=3.7.0->konlpy) (3.0.4)\n",
            "Requirement already satisfied: certifi>=2017.4.17 in /usr/local/lib/python3.7/dist-packages (from requests[socks]>=2.11.1->tweepy>=3.7.0->konlpy) (2020.12.5)\n",
            "Requirement already satisfied: urllib3!=1.25.0,!=1.25.1,<1.26,>=1.21.1 in /usr/local/lib/python3.7/dist-packages (from requests[socks]>=2.11.1->tweepy>=3.7.0->konlpy) (1.24.3)\n",
            "Requirement already satisfied: idna<3,>=2.5 in /usr/local/lib/python3.7/dist-packages (from requests[socks]>=2.11.1->tweepy>=3.7.0->konlpy) (2.10)\n",
            "Requirement already satisfied: PySocks!=1.5.7,>=1.5.6; extra == \"socks\" in /usr/local/lib/python3.7/dist-packages (from requests[socks]>=2.11.1->tweepy>=3.7.0->konlpy) (1.7.1)\n",
            "Requirement already satisfied: oauthlib>=3.0.0 in /usr/local/lib/python3.7/dist-packages (from requests-oauthlib>=0.7.0->tweepy>=3.7.0->konlpy) (3.1.0)\n",
            "Installing collected packages: colorama, beautifulsoup4, konlpy\n",
            "  Found existing installation: beautifulsoup4 4.6.3\n",
            "    Uninstalling beautifulsoup4-4.6.3:\n",
            "      Successfully uninstalled beautifulsoup4-4.6.3\n",
            "Successfully installed beautifulsoup4-4.6.0 colorama-0.4.4 konlpy-0.5.2\n"
          ],
          "name": "stdout"
        }
      ]
    },
    {
      "cell_type": "code",
      "metadata": {
        "colab": {
          "base_uri": "https://localhost:8080/"
        },
        "id": "NizrdlBAh_0L",
        "outputId": "10ea5992-b765-495f-d917-fbe425714fc8"
      },
      "source": [
        "%env JAVA_HOME \"/user/lib/jvm/java-8-openjdk-amd64\""
      ],
      "execution_count": 3,
      "outputs": [
        {
          "output_type": "stream",
          "text": [
            "env: JAVA_HOME=\"/user/lib/jvm/java-8-openjdk-amd64\"\n"
          ],
          "name": "stdout"
        }
      ]
    },
    {
      "cell_type": "code",
      "metadata": {
        "colab": {
          "base_uri": "https://localhost:8080/"
        },
        "id": "Ck9CujOGiGc4",
        "outputId": "2b6336b6-e3e3-4708-f497-d88d42ad2798"
      },
      "source": [
        "%%bash\n",
        "bash <(curl -s https://raw.githubusercontent.com/konlpy/konlpy/master/scripts/mecab.sh)\n",
        "pip3 install /tmp/mecab-python-0.996"
      ],
      "execution_count": 4,
      "outputs": [
        {
          "output_type": "stream",
          "text": [
            "Installing automake (A dependency for mecab-ko)\n",
            "Ign:1 https://developer.download.nvidia.com/compute/cuda/repos/ubuntu1804/x86_64  InRelease\n",
            "Hit:2 https://cloud.r-project.org/bin/linux/ubuntu bionic-cran40/ InRelease\n",
            "Ign:3 https://developer.download.nvidia.com/compute/machine-learning/repos/ubuntu1804/x86_64  InRelease\n",
            "Hit:4 http://ppa.launchpad.net/c2d4u.team/c2d4u4.0+/ubuntu bionic InRelease\n",
            "Hit:5 http://security.ubuntu.com/ubuntu bionic-security InRelease\n",
            "Hit:6 https://developer.download.nvidia.com/compute/cuda/repos/ubuntu1804/x86_64  Release\n",
            "Hit:7 http://archive.ubuntu.com/ubuntu bionic InRelease\n",
            "Hit:8 https://developer.download.nvidia.com/compute/machine-learning/repos/ubuntu1804/x86_64  Release\n",
            "Hit:9 http://archive.ubuntu.com/ubuntu bionic-updates InRelease\n",
            "Hit:10 http://ppa.launchpad.net/cran/libgit2/ubuntu bionic InRelease\n",
            "Hit:11 http://archive.ubuntu.com/ubuntu bionic-backports InRelease\n",
            "Hit:12 http://ppa.launchpad.net/deadsnakes/ppa/ubuntu bionic InRelease\n",
            "Hit:14 http://ppa.launchpad.net/graphics-drivers/ppa/ubuntu bionic InRelease\n",
            "Reading package lists...\n",
            "Reading package lists...\n",
            "Building dependency tree...\n",
            "Reading state information...\n",
            "The following package was automatically installed and is no longer required:\n",
            "  libnvidia-common-460\n",
            "Use 'sudo apt autoremove' to remove it.\n",
            "The following additional packages will be installed:\n",
            "  autoconf autotools-dev libsigsegv2 m4\n",
            "Suggested packages:\n",
            "  autoconf-archive gnu-standards autoconf-doc libtool gettext m4-doc\n",
            "The following NEW packages will be installed:\n",
            "  autoconf automake autotools-dev libsigsegv2 m4\n",
            "0 upgraded, 5 newly installed, 0 to remove and 40 not upgraded.\n",
            "Need to get 1,082 kB of archives.\n",
            "After this operation, 3,994 kB of additional disk space will be used.\n",
            "Get:1 http://archive.ubuntu.com/ubuntu bionic/main amd64 libsigsegv2 amd64 2.12-1 [14.7 kB]\n",
            "Get:2 http://archive.ubuntu.com/ubuntu bionic/main amd64 m4 amd64 1.4.18-1 [197 kB]\n",
            "Get:3 http://archive.ubuntu.com/ubuntu bionic/main amd64 autoconf all 2.69-11 [322 kB]\n",
            "Get:4 http://archive.ubuntu.com/ubuntu bionic/main amd64 autotools-dev all 20180224.1 [39.6 kB]\n",
            "Get:5 http://archive.ubuntu.com/ubuntu bionic/main amd64 automake all 1:1.15.1-3ubuntu2 [509 kB]\n",
            "Fetched 1,082 kB in 1s (1,297 kB/s)\n",
            "Selecting previously unselected package libsigsegv2:amd64.\r\n",
            "(Reading database ... \r(Reading database ... 5%\r(Reading database ... 10%\r(Reading database ... 15%\r(Reading database ... 20%\r(Reading database ... 25%\r(Reading database ... 30%\r(Reading database ... 35%\r(Reading database ... 40%\r(Reading database ... 45%\r(Reading database ... 50%\r(Reading database ... 55%\r(Reading database ... 60%\r(Reading database ... 65%\r(Reading database ... 70%\r(Reading database ... 75%\r(Reading database ... 80%\r(Reading database ... 85%\r(Reading database ... 90%\r(Reading database ... 95%\r(Reading database ... 100%\r(Reading database ... 161266 files and directories currently installed.)\r\n",
            "Preparing to unpack .../libsigsegv2_2.12-1_amd64.deb ...\r\n",
            "Unpacking libsigsegv2:amd64 (2.12-1) ...\r\n",
            "Selecting previously unselected package m4.\r\n",
            "Preparing to unpack .../archives/m4_1.4.18-1_amd64.deb ...\r\n",
            "Unpacking m4 (1.4.18-1) ...\r\n",
            "Selecting previously unselected package autoconf.\r\n",
            "Preparing to unpack .../autoconf_2.69-11_all.deb ...\r\n",
            "Unpacking autoconf (2.69-11) ...\r\n",
            "Selecting previously unselected package autotools-dev.\r\n",
            "Preparing to unpack .../autotools-dev_20180224.1_all.deb ...\r\n",
            "Unpacking autotools-dev (20180224.1) ...\r\n",
            "Selecting previously unselected package automake.\r\n",
            "Preparing to unpack .../automake_1%3a1.15.1-3ubuntu2_all.deb ...\r\n",
            "Unpacking automake (1:1.15.1-3ubuntu2) ...\r\n",
            "Setting up libsigsegv2:amd64 (2.12-1) ...\r\n",
            "Setting up m4 (1.4.18-1) ...\r\n",
            "Setting up autotools-dev (20180224.1) ...\r\n",
            "Setting up autoconf (2.69-11) ...\r\n",
            "Setting up automake (1:1.15.1-3ubuntu2) ...\r\n",
            "update-alternatives: using /usr/bin/automake-1.15 to provide /usr/bin/automake (automake) in auto mode\r\n",
            "Processing triggers for libc-bin (2.27-3ubuntu1.2) ...\r\n",
            "/sbin/ldconfig.real: /usr/local/lib/python3.7/dist-packages/ideep4py/lib/libmkldnn.so.0 is not a symbolic link\r\n",
            "\r\n",
            "Processing triggers for man-db (2.8.3-2ubuntu0.1) ...\r\n",
            "Install mecab-ko-dic\n",
            "mecab-0.996-ko-0.9.2/\n",
            "mecab-0.996-ko-0.9.2/example/\n",
            "mecab-0.996-ko-0.9.2/example/example.cpp\n",
            "mecab-0.996-ko-0.9.2/example/example_lattice.cpp\n",
            "mecab-0.996-ko-0.9.2/example/example_lattice.c\n",
            "mecab-0.996-ko-0.9.2/example/example.c\n",
            "mecab-0.996-ko-0.9.2/example/thread_test.cpp\n",
            "mecab-0.996-ko-0.9.2/mecab-config.in\n",
            "mecab-0.996-ko-0.9.2/man/\n",
            "mecab-0.996-ko-0.9.2/man/Makefile.am\n",
            "mecab-0.996-ko-0.9.2/man/mecab.1\n",
            "mecab-0.996-ko-0.9.2/man/Makefile.in\n",
            "mecab-0.996-ko-0.9.2/mecab.iss.in\n",
            "mecab-0.996-ko-0.9.2/config.guess\n",
            "mecab-0.996-ko-0.9.2/README\n",
            "mecab-0.996-ko-0.9.2/COPYING\n",
            "mecab-0.996-ko-0.9.2/CHANGES.md\n",
            "mecab-0.996-ko-0.9.2/README.md\n",
            "mecab-0.996-ko-0.9.2/INSTALL\n",
            "mecab-0.996-ko-0.9.2/config.sub\n",
            "mecab-0.996-ko-0.9.2/configure.in\n",
            "mecab-0.996-ko-0.9.2/swig/\n",
            "mecab-0.996-ko-0.9.2/swig/Makefile\n",
            "mecab-0.996-ko-0.9.2/swig/version.h.in\n",
            "mecab-0.996-ko-0.9.2/swig/version.h\n",
            "mecab-0.996-ko-0.9.2/swig/MeCab.i\n",
            "mecab-0.996-ko-0.9.2/aclocal.m4\n",
            "mecab-0.996-ko-0.9.2/LGPL\n",
            "mecab-0.996-ko-0.9.2/Makefile.am\n",
            "mecab-0.996-ko-0.9.2/configure\n",
            "mecab-0.996-ko-0.9.2/tests/\n",
            "mecab-0.996-ko-0.9.2/tests/autolink/\n",
            "mecab-0.996-ko-0.9.2/tests/autolink/unk.def\n",
            "mecab-0.996-ko-0.9.2/tests/autolink/dicrc\n",
            "mecab-0.996-ko-0.9.2/tests/autolink/dic.csv\n",
            "mecab-0.996-ko-0.9.2/tests/autolink/test\n",
            "mecab-0.996-ko-0.9.2/tests/autolink/char.def\n",
            "mecab-0.996-ko-0.9.2/tests/autolink/matrix.def\n",
            "mecab-0.996-ko-0.9.2/tests/autolink/test.gld\n",
            "mecab-0.996-ko-0.9.2/tests/t9/\n",
            "mecab-0.996-ko-0.9.2/tests/t9/unk.def\n",
            "mecab-0.996-ko-0.9.2/tests/t9/ipadic.pl\n",
            "mecab-0.996-ko-0.9.2/tests/t9/dicrc\n",
            "mecab-0.996-ko-0.9.2/tests/t9/dic.csv\n",
            "mecab-0.996-ko-0.9.2/tests/t9/test\n",
            "mecab-0.996-ko-0.9.2/tests/t9/char.def\n",
            "mecab-0.996-ko-0.9.2/tests/t9/matrix.def\n",
            "mecab-0.996-ko-0.9.2/tests/t9/mkdic.pl\n",
            "mecab-0.996-ko-0.9.2/tests/t9/test.gld\n",
            "mecab-0.996-ko-0.9.2/tests/cost-train/\n",
            "mecab-0.996-ko-0.9.2/tests/cost-train/ipa.train\n",
            "mecab-0.996-ko-0.9.2/tests/cost-train/ipa.test\n",
            "mecab-0.996-ko-0.9.2/tests/cost-train/seed/\n",
            "mecab-0.996-ko-0.9.2/tests/cost-train/seed/rewrite.def\n",
            "mecab-0.996-ko-0.9.2/tests/cost-train/seed/feature.def\n",
            "mecab-0.996-ko-0.9.2/tests/cost-train/seed/unk.def\n",
            "mecab-0.996-ko-0.9.2/tests/cost-train/seed/dicrc\n",
            "mecab-0.996-ko-0.9.2/tests/cost-train/seed/dic.csv\n",
            "mecab-0.996-ko-0.9.2/tests/cost-train/seed/char.def\n",
            "mecab-0.996-ko-0.9.2/tests/cost-train/seed/matrix.def\n",
            "mecab-0.996-ko-0.9.2/tests/run-eval.sh\n",
            "mecab-0.996-ko-0.9.2/tests/run-cost-train.sh\n",
            "mecab-0.996-ko-0.9.2/tests/Makefile.am\n",
            "mecab-0.996-ko-0.9.2/tests/katakana/\n",
            "mecab-0.996-ko-0.9.2/tests/katakana/unk.def\n",
            "mecab-0.996-ko-0.9.2/tests/katakana/dicrc\n",
            "mecab-0.996-ko-0.9.2/tests/katakana/dic.csv\n",
            "mecab-0.996-ko-0.9.2/tests/katakana/test\n",
            "mecab-0.996-ko-0.9.2/tests/katakana/char.def\n",
            "mecab-0.996-ko-0.9.2/tests/katakana/matrix.def\n",
            "mecab-0.996-ko-0.9.2/tests/katakana/test.gld\n",
            "mecab-0.996-ko-0.9.2/tests/eval/\n",
            "mecab-0.996-ko-0.9.2/tests/eval/answer\n",
            "mecab-0.996-ko-0.9.2/tests/eval/system\n",
            "mecab-0.996-ko-0.9.2/tests/eval/test.gld\n",
            "mecab-0.996-ko-0.9.2/tests/shiin/\n",
            "mecab-0.996-ko-0.9.2/tests/shiin/unk.def\n",
            "mecab-0.996-ko-0.9.2/tests/shiin/dicrc\n",
            "mecab-0.996-ko-0.9.2/tests/shiin/dic.csv\n",
            "mecab-0.996-ko-0.9.2/tests/shiin/test\n",
            "mecab-0.996-ko-0.9.2/tests/shiin/char.def\n",
            "mecab-0.996-ko-0.9.2/tests/shiin/matrix.def\n",
            "mecab-0.996-ko-0.9.2/tests/shiin/mkdic.pl\n",
            "mecab-0.996-ko-0.9.2/tests/shiin/test.gld\n",
            "mecab-0.996-ko-0.9.2/tests/latin/\n",
            "mecab-0.996-ko-0.9.2/tests/latin/unk.def\n",
            "mecab-0.996-ko-0.9.2/tests/latin/dicrc\n",
            "mecab-0.996-ko-0.9.2/tests/latin/dic.csv\n",
            "mecab-0.996-ko-0.9.2/tests/latin/test\n",
            "mecab-0.996-ko-0.9.2/tests/latin/char.def\n",
            "mecab-0.996-ko-0.9.2/tests/latin/matrix.def\n",
            "mecab-0.996-ko-0.9.2/tests/latin/test.gld\n",
            "mecab-0.996-ko-0.9.2/tests/chartype/\n",
            "mecab-0.996-ko-0.9.2/tests/chartype/unk.def\n",
            "mecab-0.996-ko-0.9.2/tests/chartype/dicrc\n",
            "mecab-0.996-ko-0.9.2/tests/chartype/dic.csv\n",
            "mecab-0.996-ko-0.9.2/tests/chartype/test\n",
            "mecab-0.996-ko-0.9.2/tests/chartype/char.def\n",
            "mecab-0.996-ko-0.9.2/tests/chartype/matrix.def\n",
            "mecab-0.996-ko-0.9.2/tests/chartype/test.gld\n",
            "mecab-0.996-ko-0.9.2/tests/run-dics.sh\n",
            "mecab-0.996-ko-0.9.2/tests/ngram/\n",
            "mecab-0.996-ko-0.9.2/tests/ngram/unk.def\n",
            "mecab-0.996-ko-0.9.2/tests/ngram/dicrc\n",
            "mecab-0.996-ko-0.9.2/tests/ngram/dic.csv\n",
            "mecab-0.996-ko-0.9.2/tests/ngram/test\n",
            "mecab-0.996-ko-0.9.2/tests/ngram/char.def\n",
            "mecab-0.996-ko-0.9.2/tests/ngram/matrix.def\n",
            "mecab-0.996-ko-0.9.2/tests/ngram/test.gld\n",
            "mecab-0.996-ko-0.9.2/tests/Makefile.in\n",
            "mecab-0.996-ko-0.9.2/ltmain.sh\n",
            "mecab-0.996-ko-0.9.2/config.rpath\n",
            "mecab-0.996-ko-0.9.2/config.h.in\n",
            "mecab-0.996-ko-0.9.2/mecabrc.in\n",
            "mecab-0.996-ko-0.9.2/GPL\n",
            "mecab-0.996-ko-0.9.2/Makefile.train\n",
            "mecab-0.996-ko-0.9.2/ChangeLog\n",
            "mecab-0.996-ko-0.9.2/install-sh\n",
            "mecab-0.996-ko-0.9.2/AUTHORS\n",
            "mecab-0.996-ko-0.9.2/doc/\n",
            "mecab-0.996-ko-0.9.2/doc/bindings.html\n",
            "mecab-0.996-ko-0.9.2/doc/posid.html\n",
            "mecab-0.996-ko-0.9.2/doc/unk.html\n",
            "mecab-0.996-ko-0.9.2/doc/learn.html\n",
            "mecab-0.996-ko-0.9.2/doc/format.html\n",
            "mecab-0.996-ko-0.9.2/doc/libmecab.html\n",
            "mecab-0.996-ko-0.9.2/doc/mecab.css\n",
            "mecab-0.996-ko-0.9.2/doc/feature.html\n",
            "mecab-0.996-ko-0.9.2/doc/Makefile.am\n",
            "mecab-0.996-ko-0.9.2/doc/soft.html\n",
            "mecab-0.996-ko-0.9.2/doc/en/\n",
            "mecab-0.996-ko-0.9.2/doc/en/bindings.html\n",
            "mecab-0.996-ko-0.9.2/doc/dic-detail.html\n",
            "mecab-0.996-ko-0.9.2/doc/flow.png\n",
            "mecab-0.996-ko-0.9.2/doc/mecab.html\n",
            "mecab-0.996-ko-0.9.2/doc/index.html\n",
            "mecab-0.996-ko-0.9.2/doc/result.png\n",
            "mecab-0.996-ko-0.9.2/doc/doxygen/\n",
            "mecab-0.996-ko-0.9.2/doc/doxygen/tab_a.png\n",
            "mecab-0.996-ko-0.9.2/doc/doxygen/globals_eval.html\n",
            "mecab-0.996-ko-0.9.2/doc/doxygen/classMeCab_1_1Tagger-members.html\n",
            "mecab-0.996-ko-0.9.2/doc/doxygen/functions_vars.html\n",
            "mecab-0.996-ko-0.9.2/doc/doxygen/doxygen.css\n",
            "mecab-0.996-ko-0.9.2/doc/doxygen/tab_r.gif\n",
            "mecab-0.996-ko-0.9.2/doc/doxygen/classMeCab_1_1Lattice.html\n",
            "mecab-0.996-ko-0.9.2/doc/doxygen/functions.html\n",
            "mecab-0.996-ko-0.9.2/doc/doxygen/classMeCab_1_1Tagger.html\n",
            "mecab-0.996-ko-0.9.2/doc/doxygen/mecab_8h_source.html\n",
            "mecab-0.996-ko-0.9.2/doc/doxygen/tabs.css\n",
            "mecab-0.996-ko-0.9.2/doc/doxygen/nav_f.png\n",
            "mecab-0.996-ko-0.9.2/doc/doxygen/tab_b.png\n",
            "mecab-0.996-ko-0.9.2/doc/doxygen/globals.html\n",
            "mecab-0.996-ko-0.9.2/doc/doxygen/nav_h.png\n",
            "mecab-0.996-ko-0.9.2/doc/doxygen/tab_h.png\n",
            "mecab-0.996-ko-0.9.2/doc/doxygen/classMeCab_1_1Model.html\n",
            "mecab-0.996-ko-0.9.2/doc/doxygen/globals_func.html\n",
            "mecab-0.996-ko-0.9.2/doc/doxygen/closed.png\n",
            "mecab-0.996-ko-0.9.2/doc/doxygen/tab_l.gif\n",
            "mecab-0.996-ko-0.9.2/doc/doxygen/structmecab__path__t-members.html\n",
            "mecab-0.996-ko-0.9.2/doc/doxygen/functions_func.html\n",
            "mecab-0.996-ko-0.9.2/doc/doxygen/globals_type.html\n",
            "mecab-0.996-ko-0.9.2/doc/doxygen/classMeCab_1_1Lattice-members.html\n",
            "mecab-0.996-ko-0.9.2/doc/doxygen/structmecab__node__t.html\n",
            "mecab-0.996-ko-0.9.2/doc/doxygen/namespacemembers_func.html\n",
            "mecab-0.996-ko-0.9.2/doc/doxygen/tab_s.png\n",
            "mecab-0.996-ko-0.9.2/doc/doxygen/structmecab__dictionary__info__t-members.html\n",
            "mecab-0.996-ko-0.9.2/doc/doxygen/namespacemembers_type.html\n",
            "mecab-0.996-ko-0.9.2/doc/doxygen/classMeCab_1_1Model-members.html\n",
            "mecab-0.996-ko-0.9.2/doc/doxygen/structmecab__dictionary__info__t.html\n",
            "mecab-0.996-ko-0.9.2/doc/doxygen/namespaces.html\n",
            "mecab-0.996-ko-0.9.2/doc/doxygen/namespacemembers.html\n",
            "mecab-0.996-ko-0.9.2/doc/doxygen/namespaceMeCab.html\n",
            "mecab-0.996-ko-0.9.2/doc/doxygen/structmecab__path__t.html\n",
            "mecab-0.996-ko-0.9.2/doc/doxygen/files.html\n",
            "mecab-0.996-ko-0.9.2/doc/doxygen/structmecab__node__t-members.html\n",
            "mecab-0.996-ko-0.9.2/doc/doxygen/index.html\n",
            "mecab-0.996-ko-0.9.2/doc/doxygen/annotated.html\n",
            "mecab-0.996-ko-0.9.2/doc/doxygen/globals_defs.html\n",
            "mecab-0.996-ko-0.9.2/doc/doxygen/classes.html\n",
            "mecab-0.996-ko-0.9.2/doc/doxygen/mecab_8h-source.html\n",
            "mecab-0.996-ko-0.9.2/doc/doxygen/doxygen.png\n",
            "mecab-0.996-ko-0.9.2/doc/doxygen/tab_b.gif\n",
            "mecab-0.996-ko-0.9.2/doc/doxygen/bc_s.png\n",
            "mecab-0.996-ko-0.9.2/doc/doxygen/open.png\n",
            "mecab-0.996-ko-0.9.2/doc/doxygen/mecab_8h.html\n",
            "mecab-0.996-ko-0.9.2/doc/dic.html\n",
            "mecab-0.996-ko-0.9.2/doc/partial.html\n",
            "mecab-0.996-ko-0.9.2/doc/feature.png\n",
            "mecab-0.996-ko-0.9.2/doc/Makefile.in\n",
            "mecab-0.996-ko-0.9.2/missing\n",
            "mecab-0.996-ko-0.9.2/BSD\n",
            "mecab-0.996-ko-0.9.2/NEWS\n",
            "mecab-0.996-ko-0.9.2/mkinstalldirs\n",
            "mecab-0.996-ko-0.9.2/src/\n",
            "mecab-0.996-ko-0.9.2/src/dictionary.h\n",
            "mecab-0.996-ko-0.9.2/src/writer.h\n",
            "mecab-0.996-ko-0.9.2/src/utils.h\n",
            "mecab-0.996-ko-0.9.2/src/string_buffer.cpp\n",
            "mecab-0.996-ko-0.9.2/src/tokenizer.cpp\n",
            "mecab-0.996-ko-0.9.2/src/make.bat\n",
            "mecab-0.996-ko-0.9.2/src/mecab.h\n",
            "mecab-0.996-ko-0.9.2/src/freelist.h\n",
            "mecab-0.996-ko-0.9.2/src/string_buffer.h\n",
            "mecab-0.996-ko-0.9.2/src/learner_tagger.h\n",
            "mecab-0.996-ko-0.9.2/src/dictionary_compiler.cpp\n",
            "mecab-0.996-ko-0.9.2/src/eval.cpp\n",
            "mecab-0.996-ko-0.9.2/src/mecab-system-eval.cpp\n",
            "mecab-0.996-ko-0.9.2/src/darts.h\n",
            "mecab-0.996-ko-0.9.2/src/param.h\n",
            "mecab-0.996-ko-0.9.2/src/char_property.h\n",
            "mecab-0.996-ko-0.9.2/src/learner_node.h\n",
            "mecab-0.996-ko-0.9.2/src/mecab-dict-gen.cpp\n",
            "mecab-0.996-ko-0.9.2/src/mecab-dict-index.cpp\n",
            "mecab-0.996-ko-0.9.2/src/winmain.h\n",
            "mecab-0.996-ko-0.9.2/src/thread.h\n",
            "mecab-0.996-ko-0.9.2/src/context_id.cpp\n",
            "mecab-0.996-ko-0.9.2/src/Makefile.am\n",
            "mecab-0.996-ko-0.9.2/src/connector.h\n",
            "mecab-0.996-ko-0.9.2/src/common.h\n",
            "mecab-0.996-ko-0.9.2/src/dictionary_rewriter.cpp\n",
            "mecab-0.996-ko-0.9.2/src/Makefile.msvc.in\n",
            "mecab-0.996-ko-0.9.2/src/dictionary_rewriter.h\n",
            "mecab-0.996-ko-0.9.2/src/feature_index.h\n",
            "mecab-0.996-ko-0.9.2/src/iconv_utils.cpp\n",
            "mecab-0.996-ko-0.9.2/src/char_property.cpp\n",
            "mecab-0.996-ko-0.9.2/src/mecab-test-gen.cpp\n",
            "mecab-0.996-ko-0.9.2/src/tagger.cpp\n",
            "mecab-0.996-ko-0.9.2/src/mecab-cost-train.cpp\n",
            "mecab-0.996-ko-0.9.2/src/learner.cpp\n",
            "mecab-0.996-ko-0.9.2/src/dictionary.cpp\n",
            "mecab-0.996-ko-0.9.2/src/lbfgs.cpp\n",
            "mecab-0.996-ko-0.9.2/src/ucs.h\n",
            "mecab-0.996-ko-0.9.2/src/writer.cpp\n",
            "mecab-0.996-ko-0.9.2/src/learner_tagger.cpp\n",
            "mecab-0.996-ko-0.9.2/src/lbfgs.h\n",
            "mecab-0.996-ko-0.9.2/src/libmecab.cpp\n",
            "mecab-0.996-ko-0.9.2/src/tokenizer.h\n",
            "mecab-0.996-ko-0.9.2/src/mecab.cpp\n",
            "mecab-0.996-ko-0.9.2/src/utils.cpp\n",
            "mecab-0.996-ko-0.9.2/src/dictionary_generator.cpp\n",
            "mecab-0.996-ko-0.9.2/src/param.cpp\n",
            "mecab-0.996-ko-0.9.2/src/context_id.h\n",
            "mecab-0.996-ko-0.9.2/src/mmap.h\n",
            "mecab-0.996-ko-0.9.2/src/viterbi.h\n",
            "mecab-0.996-ko-0.9.2/src/viterbi.cpp\n",
            "mecab-0.996-ko-0.9.2/src/stream_wrapper.h\n",
            "mecab-0.996-ko-0.9.2/src/feature_index.cpp\n",
            "mecab-0.996-ko-0.9.2/src/nbest_generator.h\n",
            "mecab-0.996-ko-0.9.2/src/ucstable.h\n",
            "mecab-0.996-ko-0.9.2/src/nbest_generator.cpp\n",
            "mecab-0.996-ko-0.9.2/src/iconv_utils.h\n",
            "mecab-0.996-ko-0.9.2/src/connector.cpp\n",
            "mecab-0.996-ko-0.9.2/src/Makefile.in\n",
            "mecab-0.996-ko-0.9.2/src/scoped_ptr.h\n",
            "mecab-0.996-ko-0.9.2/Makefile.in\n",
            "checking for a BSD-compatible install... /usr/bin/install -c\n",
            "checking whether build environment is sane... yes\n",
            "checking for a thread-safe mkdir -p... /bin/mkdir -p\n",
            "checking for gawk... no\n",
            "checking for mawk... mawk\n",
            "checking whether make sets $(MAKE)... yes\n",
            "checking for gcc... gcc\n",
            "checking whether the C compiler works... yes\n",
            "checking for C compiler default output file name... a.out\n",
            "checking for suffix of executables... \n",
            "checking whether we are cross compiling... no\n",
            "checking for suffix of object files... o\n",
            "checking whether we are using the GNU C compiler... yes\n",
            "checking whether gcc accepts -g... yes\n",
            "checking for gcc option to accept ISO C89... none needed\n",
            "checking for style of include used by make... GNU\n",
            "checking dependency style of gcc... none\n",
            "checking for g++... g++\n",
            "checking whether we are using the GNU C++ compiler... yes\n",
            "checking whether g++ accepts -g... yes\n",
            "checking dependency style of g++... none\n",
            "checking how to run the C preprocessor... gcc -E\n",
            "checking for grep that handles long lines and -e... /bin/grep\n",
            "checking for egrep... /bin/grep -E\n",
            "checking whether gcc needs -traditional... no\n",
            "checking whether make sets $(MAKE)... (cached) yes\n",
            "checking build system type... x86_64-unknown-linux-gnu\n",
            "checking host system type... x86_64-unknown-linux-gnu\n",
            "checking how to print strings... printf\n",
            "checking for a sed that does not truncate output... /bin/sed\n",
            "checking for fgrep... /bin/grep -F\n",
            "checking for ld used by gcc... /usr/bin/ld\n",
            "checking if the linker (/usr/bin/ld) is GNU ld... yes\n",
            "checking for BSD- or MS-compatible name lister (nm)... /usr/bin/nm -B\n",
            "checking the name lister (/usr/bin/nm -B) interface... BSD nm\n",
            "checking whether ln -s works... yes\n",
            "checking the maximum length of command line arguments... 1572864\n",
            "checking whether the shell understands some XSI constructs... yes\n",
            "checking whether the shell understands \"+=\"... yes\n",
            "checking how to convert x86_64-unknown-linux-gnu file names to x86_64-unknown-linux-gnu format... func_convert_file_noop\n",
            "checking how to convert x86_64-unknown-linux-gnu file names to toolchain format... func_convert_file_noop\n",
            "checking for /usr/bin/ld option to reload object files... -r\n",
            "checking for objdump... objdump\n",
            "checking how to recognize dependent libraries... pass_all\n",
            "checking for dlltool... dlltool\n",
            "checking how to associate runtime and link libraries... printf %s\\n\n",
            "checking for ar... ar\n",
            "checking for archiver @FILE support... @\n",
            "checking for strip... strip\n",
            "checking for ranlib... ranlib\n",
            "checking command to parse /usr/bin/nm -B output from gcc object... ok\n",
            "checking for sysroot... no\n",
            "checking for mt... no\n",
            "checking if : is a manifest tool... no\n",
            "checking for ANSI C header files... yes\n",
            "checking for sys/types.h... yes\n",
            "checking for sys/stat.h... yes\n",
            "checking for stdlib.h... yes\n",
            "checking for string.h... yes\n",
            "checking for memory.h... yes\n",
            "checking for strings.h... yes\n",
            "checking for inttypes.h... yes\n",
            "checking for stdint.h... yes\n",
            "checking for unistd.h... yes\n",
            "checking for dlfcn.h... yes\n",
            "checking for objdir... .libs\n",
            "checking if gcc supports -fno-rtti -fno-exceptions... no\n",
            "checking for gcc option to produce PIC... -fPIC -DPIC\n",
            "checking if gcc PIC flag -fPIC -DPIC works... yes\n",
            "checking if gcc static flag -static works... yes\n",
            "checking if gcc supports -c -o file.o... yes\n",
            "checking if gcc supports -c -o file.o... (cached) yes\n",
            "checking whether the gcc linker (/usr/bin/ld) supports shared libraries... yes\n",
            "checking whether -lc should be explicitly linked in... no\n",
            "checking dynamic linker characteristics... GNU/Linux ld.so\n",
            "checking how to hardcode library paths into programs... immediate\n",
            "checking whether stripping libraries is possible... yes\n",
            "checking if libtool supports shared libraries... yes\n",
            "checking whether to build shared libraries... yes\n",
            "checking whether to build static libraries... yes\n",
            "checking how to run the C++ preprocessor... g++ -E\n",
            "checking for ld used by g++... /usr/bin/ld\n",
            "checking if the linker (/usr/bin/ld) is GNU ld... yes\n",
            "checking whether the g++ linker (/usr/bin/ld) supports shared libraries... yes\n",
            "checking for g++ option to produce PIC... -fPIC -DPIC\n",
            "checking if g++ PIC flag -fPIC -DPIC works... yes\n",
            "checking if g++ static flag -static works... yes\n",
            "checking if g++ supports -c -o file.o... yes\n",
            "checking if g++ supports -c -o file.o... (cached) yes\n",
            "checking whether the g++ linker (/usr/bin/ld) supports shared libraries... yes\n",
            "checking dynamic linker characteristics... (cached) GNU/Linux ld.so\n",
            "checking how to hardcode library paths into programs... immediate\n",
            "checking for library containing strerror... none required\n",
            "checking whether byte ordering is bigendian... no\n",
            "checking for ld used by GCC... /usr/bin/ld\n",
            "checking if the linker (/usr/bin/ld) is GNU ld... yes\n",
            "checking for shared library run path origin... done\n",
            "checking for iconv... yes\n",
            "checking for working iconv... yes\n",
            "checking for iconv declaration... \n",
            "         extern size_t iconv (iconv_t cd, char * *inbuf, size_t *inbytesleft, char * *outbuf, size_t *outbytesleft);\n",
            "checking for ANSI C header files... (cached) yes\n",
            "checking for an ANSI C-conforming const... yes\n",
            "checking whether byte ordering is bigendian... (cached) no\n",
            "checking for string.h... (cached) yes\n",
            "checking for stdlib.h... (cached) yes\n",
            "checking for unistd.h... (cached) yes\n",
            "checking fcntl.h usability... yes\n",
            "checking fcntl.h presence... yes\n",
            "checking for fcntl.h... yes\n",
            "checking for stdint.h... (cached) yes\n",
            "checking for sys/stat.h... (cached) yes\n",
            "checking sys/mman.h usability... yes\n",
            "checking sys/mman.h presence... yes\n",
            "checking for sys/mman.h... yes\n",
            "checking sys/times.h usability... yes\n",
            "checking sys/times.h presence... yes\n",
            "checking for sys/times.h... yes\n",
            "checking for sys/types.h... (cached) yes\n",
            "checking dirent.h usability... yes\n",
            "checking dirent.h presence... yes\n",
            "checking for dirent.h... yes\n",
            "checking ctype.h usability... yes\n",
            "checking ctype.h presence... yes\n",
            "checking for ctype.h... yes\n",
            "checking for sys/types.h... (cached) yes\n",
            "checking io.h usability... no\n",
            "checking io.h presence... no\n",
            "checking for io.h... no\n",
            "checking windows.h usability... no\n",
            "checking windows.h presence... no\n",
            "checking for windows.h... no\n",
            "checking pthread.h usability... yes\n",
            "checking pthread.h presence... yes\n",
            "checking for pthread.h... yes\n",
            "checking for off_t... yes\n",
            "checking for size_t... yes\n",
            "checking size of char... 1\n",
            "checking size of short... 2\n",
            "checking size of int... 4\n",
            "checking size of long... 8\n",
            "checking size of long long... 8\n",
            "checking size of size_t... 8\n",
            "checking for size_t... (cached) yes\n",
            "checking for unsigned long long int... yes\n",
            "checking for stdlib.h... (cached) yes\n",
            "checking for unistd.h... (cached) yes\n",
            "checking for sys/param.h... yes\n",
            "checking for getpagesize... yes\n",
            "checking for working mmap... yes\n",
            "checking for main in -lstdc++... yes\n",
            "checking for pthread_create in -lpthread... yes\n",
            "checking for pthread_join in -lpthread... yes\n",
            "checking for getenv... yes\n",
            "checking for opendir... yes\n",
            "checking whether make is GNU Make... yes\n",
            "checking if g++ supports stl <vector> (required)... yes\n",
            "checking if g++ supports stl <list> (required)... yes\n",
            "checking if g++ supports stl <map> (required)... yes\n",
            "checking if g++ supports stl <set> (required)... yes\n",
            "checking if g++ supports stl <queue> (required)... yes\n",
            "checking if g++ supports stl <functional> (required)... yes\n",
            "checking if g++ supports stl <algorithm> (required)... yes\n",
            "checking if g++ supports stl <string> (required)... yes\n",
            "checking if g++ supports stl <iostream> (required)... yes\n",
            "checking if g++ supports stl <sstream> (required)... yes\n",
            "checking if g++ supports stl <fstream> (required)... yes\n",
            "checking if g++ supports template <class T> (required)... yes\n",
            "checking if g++ supports const_cast<> (required)... yes\n",
            "checking if g++ supports static_cast<> (required)... yes\n",
            "checking if g++ supports reinterpret_cast<> (required)... yes\n",
            "checking if g++ supports namespaces (required) ... yes\n",
            "checking if g++ supports __thread (optional)... yes\n",
            "checking if g++ supports template <class T> (required)... yes\n",
            "checking if g++ supports GCC native atomic operations (optional)... yes\n",
            "checking if g++ supports OSX native atomic operations (optional)... no\n",
            "checking if g++ environment provides all required features... yes\n",
            "configure: creating ./config.status\n",
            "config.status: creating Makefile\n",
            "config.status: creating src/Makefile\n",
            "config.status: creating src/Makefile.msvc\n",
            "config.status: creating man/Makefile\n",
            "config.status: creating doc/Makefile\n",
            "config.status: creating tests/Makefile\n",
            "config.status: creating swig/version.h\n",
            "config.status: creating mecab.iss\n",
            "config.status: creating mecab-config\n",
            "config.status: creating mecabrc\n",
            "config.status: creating config.h\n",
            "config.status: executing depfiles commands\n",
            "config.status: executing libtool commands\n",
            "config.status: executing default commands\n",
            "make  all-recursive\n",
            "make[1]: Entering directory '/tmp/mecab-0.996-ko-0.9.2'\n",
            "Making all in src\n",
            "make[2]: Entering directory '/tmp/mecab-0.996-ko-0.9.2/src'\n",
            "/bin/bash ../libtool --tag=CXX   --mode=compile g++ -DHAVE_CONFIG_H -I. -I.. -DDIC_VERSION=102   -DMECAB_DEFAULT_RC=\"\\\"/usr/local/etc/mecabrc\\\"\"    -O3 -Wall  -c -o viterbi.lo viterbi.cpp\n",
            "libtool: compile:  g++ -DHAVE_CONFIG_H -I. -I.. -DDIC_VERSION=102 -DMECAB_DEFAULT_RC=\\\"/usr/local/etc/mecabrc\\\" -O3 -Wall -c viterbi.cpp  -fPIC -DPIC -o .libs/viterbi.o\n",
            "libtool: compile:  g++ -DHAVE_CONFIG_H -I. -I.. -DDIC_VERSION=102 -DMECAB_DEFAULT_RC=\\\"/usr/local/etc/mecabrc\\\" -O3 -Wall -c viterbi.cpp -o viterbi.o >/dev/null 2>&1\n",
            "/bin/bash ../libtool --tag=CXX   --mode=compile g++ -DHAVE_CONFIG_H -I. -I.. -DDIC_VERSION=102   -DMECAB_DEFAULT_RC=\"\\\"/usr/local/etc/mecabrc\\\"\"    -O3 -Wall  -c -o tagger.lo tagger.cpp\n",
            "libtool: compile:  g++ -DHAVE_CONFIG_H -I. -I.. -DDIC_VERSION=102 -DMECAB_DEFAULT_RC=\\\"/usr/local/etc/mecabrc\\\" -O3 -Wall -c tagger.cpp  -fPIC -DPIC -o .libs/tagger.o\n",
            "libtool: compile:  g++ -DHAVE_CONFIG_H -I. -I.. -DDIC_VERSION=102 -DMECAB_DEFAULT_RC=\\\"/usr/local/etc/mecabrc\\\" -O3 -Wall -c tagger.cpp -o tagger.o >/dev/null 2>&1\n",
            "/bin/bash ../libtool --tag=CXX   --mode=compile g++ -DHAVE_CONFIG_H -I. -I.. -DDIC_VERSION=102   -DMECAB_DEFAULT_RC=\"\\\"/usr/local/etc/mecabrc\\\"\"    -O3 -Wall  -c -o utils.lo utils.cpp\n",
            "libtool: compile:  g++ -DHAVE_CONFIG_H -I. -I.. -DDIC_VERSION=102 -DMECAB_DEFAULT_RC=\\\"/usr/local/etc/mecabrc\\\" -O3 -Wall -c utils.cpp  -fPIC -DPIC -o .libs/utils.o\n",
            "libtool: compile:  g++ -DHAVE_CONFIG_H -I. -I.. -DDIC_VERSION=102 -DMECAB_DEFAULT_RC=\\\"/usr/local/etc/mecabrc\\\" -O3 -Wall -c utils.cpp -o utils.o >/dev/null 2>&1\n",
            "/bin/bash ../libtool --tag=CXX   --mode=compile g++ -DHAVE_CONFIG_H -I. -I.. -DDIC_VERSION=102   -DMECAB_DEFAULT_RC=\"\\\"/usr/local/etc/mecabrc\\\"\"    -O3 -Wall  -c -o eval.lo eval.cpp\n",
            "libtool: compile:  g++ -DHAVE_CONFIG_H -I. -I.. -DDIC_VERSION=102 -DMECAB_DEFAULT_RC=\\\"/usr/local/etc/mecabrc\\\" -O3 -Wall -c eval.cpp  -fPIC -DPIC -o .libs/eval.o\n",
            "libtool: compile:  g++ -DHAVE_CONFIG_H -I. -I.. -DDIC_VERSION=102 -DMECAB_DEFAULT_RC=\\\"/usr/local/etc/mecabrc\\\" -O3 -Wall -c eval.cpp -o eval.o >/dev/null 2>&1\n",
            "/bin/bash ../libtool --tag=CXX   --mode=compile g++ -DHAVE_CONFIG_H -I. -I.. -DDIC_VERSION=102   -DMECAB_DEFAULT_RC=\"\\\"/usr/local/etc/mecabrc\\\"\"    -O3 -Wall  -c -o iconv_utils.lo iconv_utils.cpp\n",
            "libtool: compile:  g++ -DHAVE_CONFIG_H -I. -I.. -DDIC_VERSION=102 -DMECAB_DEFAULT_RC=\\\"/usr/local/etc/mecabrc\\\" -O3 -Wall -c iconv_utils.cpp  -fPIC -DPIC -o .libs/iconv_utils.o\n",
            "libtool: compile:  g++ -DHAVE_CONFIG_H -I. -I.. -DDIC_VERSION=102 -DMECAB_DEFAULT_RC=\\\"/usr/local/etc/mecabrc\\\" -O3 -Wall -c iconv_utils.cpp -o iconv_utils.o >/dev/null 2>&1\n",
            "/bin/bash ../libtool --tag=CXX   --mode=compile g++ -DHAVE_CONFIG_H -I. -I.. -DDIC_VERSION=102   -DMECAB_DEFAULT_RC=\"\\\"/usr/local/etc/mecabrc\\\"\"    -O3 -Wall  -c -o dictionary_rewriter.lo dictionary_rewriter.cpp\n",
            "libtool: compile:  g++ -DHAVE_CONFIG_H -I. -I.. -DDIC_VERSION=102 -DMECAB_DEFAULT_RC=\\\"/usr/local/etc/mecabrc\\\" -O3 -Wall -c dictionary_rewriter.cpp  -fPIC -DPIC -o .libs/dictionary_rewriter.o\n",
            "libtool: compile:  g++ -DHAVE_CONFIG_H -I. -I.. -DDIC_VERSION=102 -DMECAB_DEFAULT_RC=\\\"/usr/local/etc/mecabrc\\\" -O3 -Wall -c dictionary_rewriter.cpp -o dictionary_rewriter.o >/dev/null 2>&1\n",
            "/bin/bash ../libtool --tag=CXX   --mode=compile g++ -DHAVE_CONFIG_H -I. -I.. -DDIC_VERSION=102   -DMECAB_DEFAULT_RC=\"\\\"/usr/local/etc/mecabrc\\\"\"    -O3 -Wall  -c -o dictionary_generator.lo dictionary_generator.cpp\n",
            "libtool: compile:  g++ -DHAVE_CONFIG_H -I. -I.. -DDIC_VERSION=102 -DMECAB_DEFAULT_RC=\\\"/usr/local/etc/mecabrc\\\" -O3 -Wall -c dictionary_generator.cpp  -fPIC -DPIC -o .libs/dictionary_generator.o\n",
            "libtool: compile:  g++ -DHAVE_CONFIG_H -I. -I.. -DDIC_VERSION=102 -DMECAB_DEFAULT_RC=\\\"/usr/local/etc/mecabrc\\\" -O3 -Wall -c dictionary_generator.cpp -o dictionary_generator.o >/dev/null 2>&1\n",
            "/bin/bash ../libtool --tag=CXX   --mode=compile g++ -DHAVE_CONFIG_H -I. -I.. -DDIC_VERSION=102   -DMECAB_DEFAULT_RC=\"\\\"/usr/local/etc/mecabrc\\\"\"    -O3 -Wall  -c -o dictionary_compiler.lo dictionary_compiler.cpp\n",
            "libtool: compile:  g++ -DHAVE_CONFIG_H -I. -I.. -DDIC_VERSION=102 -DMECAB_DEFAULT_RC=\\\"/usr/local/etc/mecabrc\\\" -O3 -Wall -c dictionary_compiler.cpp  -fPIC -DPIC -o .libs/dictionary_compiler.o\n",
            "libtool: compile:  g++ -DHAVE_CONFIG_H -I. -I.. -DDIC_VERSION=102 -DMECAB_DEFAULT_RC=\\\"/usr/local/etc/mecabrc\\\" -O3 -Wall -c dictionary_compiler.cpp -o dictionary_compiler.o >/dev/null 2>&1\n",
            "/bin/bash ../libtool --tag=CXX   --mode=compile g++ -DHAVE_CONFIG_H -I. -I.. -DDIC_VERSION=102   -DMECAB_DEFAULT_RC=\"\\\"/usr/local/etc/mecabrc\\\"\"    -O3 -Wall  -c -o context_id.lo context_id.cpp\n",
            "libtool: compile:  g++ -DHAVE_CONFIG_H -I. -I.. -DDIC_VERSION=102 -DMECAB_DEFAULT_RC=\\\"/usr/local/etc/mecabrc\\\" -O3 -Wall -c context_id.cpp  -fPIC -DPIC -o .libs/context_id.o\n",
            "libtool: compile:  g++ -DHAVE_CONFIG_H -I. -I.. -DDIC_VERSION=102 -DMECAB_DEFAULT_RC=\\\"/usr/local/etc/mecabrc\\\" -O3 -Wall -c context_id.cpp -o context_id.o >/dev/null 2>&1\n",
            "/bin/bash ../libtool --tag=CXX   --mode=compile g++ -DHAVE_CONFIG_H -I. -I.. -DDIC_VERSION=102   -DMECAB_DEFAULT_RC=\"\\\"/usr/local/etc/mecabrc\\\"\"    -O3 -Wall  -c -o connector.lo connector.cpp\n",
            "libtool: compile:  g++ -DHAVE_CONFIG_H -I. -I.. -DDIC_VERSION=102 -DMECAB_DEFAULT_RC=\\\"/usr/local/etc/mecabrc\\\" -O3 -Wall -c connector.cpp  -fPIC -DPIC -o .libs/connector.o\n",
            "libtool: compile:  g++ -DHAVE_CONFIG_H -I. -I.. -DDIC_VERSION=102 -DMECAB_DEFAULT_RC=\\\"/usr/local/etc/mecabrc\\\" -O3 -Wall -c connector.cpp -o connector.o >/dev/null 2>&1\n",
            "/bin/bash ../libtool --tag=CXX   --mode=compile g++ -DHAVE_CONFIG_H -I. -I.. -DDIC_VERSION=102   -DMECAB_DEFAULT_RC=\"\\\"/usr/local/etc/mecabrc\\\"\"    -O3 -Wall  -c -o nbest_generator.lo nbest_generator.cpp\n",
            "libtool: compile:  g++ -DHAVE_CONFIG_H -I. -I.. -DDIC_VERSION=102 -DMECAB_DEFAULT_RC=\\\"/usr/local/etc/mecabrc\\\" -O3 -Wall -c nbest_generator.cpp  -fPIC -DPIC -o .libs/nbest_generator.o\n",
            "libtool: compile:  g++ -DHAVE_CONFIG_H -I. -I.. -DDIC_VERSION=102 -DMECAB_DEFAULT_RC=\\\"/usr/local/etc/mecabrc\\\" -O3 -Wall -c nbest_generator.cpp -o nbest_generator.o >/dev/null 2>&1\n",
            "/bin/bash ../libtool --tag=CXX   --mode=compile g++ -DHAVE_CONFIG_H -I. -I.. -DDIC_VERSION=102   -DMECAB_DEFAULT_RC=\"\\\"/usr/local/etc/mecabrc\\\"\"    -O3 -Wall  -c -o writer.lo writer.cpp\n",
            "libtool: compile:  g++ -DHAVE_CONFIG_H -I. -I.. -DDIC_VERSION=102 -DMECAB_DEFAULT_RC=\\\"/usr/local/etc/mecabrc\\\" -O3 -Wall -c writer.cpp  -fPIC -DPIC -o .libs/writer.o\n",
            "libtool: compile:  g++ -DHAVE_CONFIG_H -I. -I.. -DDIC_VERSION=102 -DMECAB_DEFAULT_RC=\\\"/usr/local/etc/mecabrc\\\" -O3 -Wall -c writer.cpp -o writer.o >/dev/null 2>&1\n",
            "/bin/bash ../libtool --tag=CXX   --mode=compile g++ -DHAVE_CONFIG_H -I. -I.. -DDIC_VERSION=102   -DMECAB_DEFAULT_RC=\"\\\"/usr/local/etc/mecabrc\\\"\"    -O3 -Wall  -c -o string_buffer.lo string_buffer.cpp\n",
            "libtool: compile:  g++ -DHAVE_CONFIG_H -I. -I.. -DDIC_VERSION=102 -DMECAB_DEFAULT_RC=\\\"/usr/local/etc/mecabrc\\\" -O3 -Wall -c string_buffer.cpp  -fPIC -DPIC -o .libs/string_buffer.o\n",
            "libtool: compile:  g++ -DHAVE_CONFIG_H -I. -I.. -DDIC_VERSION=102 -DMECAB_DEFAULT_RC=\\\"/usr/local/etc/mecabrc\\\" -O3 -Wall -c string_buffer.cpp -o string_buffer.o >/dev/null 2>&1\n",
            "/bin/bash ../libtool --tag=CXX   --mode=compile g++ -DHAVE_CONFIG_H -I. -I.. -DDIC_VERSION=102   -DMECAB_DEFAULT_RC=\"\\\"/usr/local/etc/mecabrc\\\"\"    -O3 -Wall  -c -o param.lo param.cpp\n",
            "libtool: compile:  g++ -DHAVE_CONFIG_H -I. -I.. -DDIC_VERSION=102 -DMECAB_DEFAULT_RC=\\\"/usr/local/etc/mecabrc\\\" -O3 -Wall -c param.cpp  -fPIC -DPIC -o .libs/param.o\n",
            "libtool: compile:  g++ -DHAVE_CONFIG_H -I. -I.. -DDIC_VERSION=102 -DMECAB_DEFAULT_RC=\\\"/usr/local/etc/mecabrc\\\" -O3 -Wall -c param.cpp -o param.o >/dev/null 2>&1\n",
            "/bin/bash ../libtool --tag=CXX   --mode=compile g++ -DHAVE_CONFIG_H -I. -I.. -DDIC_VERSION=102   -DMECAB_DEFAULT_RC=\"\\\"/usr/local/etc/mecabrc\\\"\"    -O3 -Wall  -c -o tokenizer.lo tokenizer.cpp\n",
            "libtool: compile:  g++ -DHAVE_CONFIG_H -I. -I.. -DDIC_VERSION=102 -DMECAB_DEFAULT_RC=\\\"/usr/local/etc/mecabrc\\\" -O3 -Wall -c tokenizer.cpp  -fPIC -DPIC -o .libs/tokenizer.o\n",
            "libtool: compile:  g++ -DHAVE_CONFIG_H -I. -I.. -DDIC_VERSION=102 -DMECAB_DEFAULT_RC=\\\"/usr/local/etc/mecabrc\\\" -O3 -Wall -c tokenizer.cpp -o tokenizer.o >/dev/null 2>&1\n",
            "/bin/bash ../libtool --tag=CXX   --mode=compile g++ -DHAVE_CONFIG_H -I. -I.. -DDIC_VERSION=102   -DMECAB_DEFAULT_RC=\"\\\"/usr/local/etc/mecabrc\\\"\"    -O3 -Wall  -c -o char_property.lo char_property.cpp\n",
            "libtool: compile:  g++ -DHAVE_CONFIG_H -I. -I.. -DDIC_VERSION=102 -DMECAB_DEFAULT_RC=\\\"/usr/local/etc/mecabrc\\\" -O3 -Wall -c char_property.cpp  -fPIC -DPIC -o .libs/char_property.o\n",
            "libtool: compile:  g++ -DHAVE_CONFIG_H -I. -I.. -DDIC_VERSION=102 -DMECAB_DEFAULT_RC=\\\"/usr/local/etc/mecabrc\\\" -O3 -Wall -c char_property.cpp -o char_property.o >/dev/null 2>&1\n",
            "/bin/bash ../libtool --tag=CXX   --mode=compile g++ -DHAVE_CONFIG_H -I. -I.. -DDIC_VERSION=102   -DMECAB_DEFAULT_RC=\"\\\"/usr/local/etc/mecabrc\\\"\"    -O3 -Wall  -c -o dictionary.lo dictionary.cpp\n",
            "libtool: compile:  g++ -DHAVE_CONFIG_H -I. -I.. -DDIC_VERSION=102 -DMECAB_DEFAULT_RC=\\\"/usr/local/etc/mecabrc\\\" -O3 -Wall -c dictionary.cpp  -fPIC -DPIC -o .libs/dictionary.o\n",
            "libtool: compile:  g++ -DHAVE_CONFIG_H -I. -I.. -DDIC_VERSION=102 -DMECAB_DEFAULT_RC=\\\"/usr/local/etc/mecabrc\\\" -O3 -Wall -c dictionary.cpp -o dictionary.o >/dev/null 2>&1\n",
            "/bin/bash ../libtool --tag=CXX   --mode=compile g++ -DHAVE_CONFIG_H -I. -I.. -DDIC_VERSION=102   -DMECAB_DEFAULT_RC=\"\\\"/usr/local/etc/mecabrc\\\"\"    -O3 -Wall  -c -o feature_index.lo feature_index.cpp\n",
            "libtool: compile:  g++ -DHAVE_CONFIG_H -I. -I.. -DDIC_VERSION=102 -DMECAB_DEFAULT_RC=\\\"/usr/local/etc/mecabrc\\\" -O3 -Wall -c feature_index.cpp  -fPIC -DPIC -o .libs/feature_index.o\n",
            "libtool: compile:  g++ -DHAVE_CONFIG_H -I. -I.. -DDIC_VERSION=102 -DMECAB_DEFAULT_RC=\\\"/usr/local/etc/mecabrc\\\" -O3 -Wall -c feature_index.cpp -o feature_index.o >/dev/null 2>&1\n",
            "/bin/bash ../libtool --tag=CXX   --mode=compile g++ -DHAVE_CONFIG_H -I. -I.. -DDIC_VERSION=102   -DMECAB_DEFAULT_RC=\"\\\"/usr/local/etc/mecabrc\\\"\"    -O3 -Wall  -c -o lbfgs.lo lbfgs.cpp\n",
            "libtool: compile:  g++ -DHAVE_CONFIG_H -I. -I.. -DDIC_VERSION=102 -DMECAB_DEFAULT_RC=\\\"/usr/local/etc/mecabrc\\\" -O3 -Wall -c lbfgs.cpp  -fPIC -DPIC -o .libs/lbfgs.o\n",
            "libtool: compile:  g++ -DHAVE_CONFIG_H -I. -I.. -DDIC_VERSION=102 -DMECAB_DEFAULT_RC=\\\"/usr/local/etc/mecabrc\\\" -O3 -Wall -c lbfgs.cpp -o lbfgs.o >/dev/null 2>&1\n",
            "/bin/bash ../libtool --tag=CXX   --mode=compile g++ -DHAVE_CONFIG_H -I. -I.. -DDIC_VERSION=102   -DMECAB_DEFAULT_RC=\"\\\"/usr/local/etc/mecabrc\\\"\"    -O3 -Wall  -c -o learner_tagger.lo learner_tagger.cpp\n",
            "libtool: compile:  g++ -DHAVE_CONFIG_H -I. -I.. -DDIC_VERSION=102 -DMECAB_DEFAULT_RC=\\\"/usr/local/etc/mecabrc\\\" -O3 -Wall -c learner_tagger.cpp  -fPIC -DPIC -o .libs/learner_tagger.o\n",
            "libtool: compile:  g++ -DHAVE_CONFIG_H -I. -I.. -DDIC_VERSION=102 -DMECAB_DEFAULT_RC=\\\"/usr/local/etc/mecabrc\\\" -O3 -Wall -c learner_tagger.cpp -o learner_tagger.o >/dev/null 2>&1\n",
            "/bin/bash ../libtool --tag=CXX   --mode=compile g++ -DHAVE_CONFIG_H -I. -I.. -DDIC_VERSION=102   -DMECAB_DEFAULT_RC=\"\\\"/usr/local/etc/mecabrc\\\"\"    -O3 -Wall  -c -o learner.lo learner.cpp\n",
            "libtool: compile:  g++ -DHAVE_CONFIG_H -I. -I.. -DDIC_VERSION=102 -DMECAB_DEFAULT_RC=\\\"/usr/local/etc/mecabrc\\\" -O3 -Wall -c learner.cpp  -fPIC -DPIC -o .libs/learner.o\n",
            "libtool: compile:  g++ -DHAVE_CONFIG_H -I. -I.. -DDIC_VERSION=102 -DMECAB_DEFAULT_RC=\\\"/usr/local/etc/mecabrc\\\" -O3 -Wall -c learner.cpp -o learner.o >/dev/null 2>&1\n",
            "/bin/bash ../libtool --tag=CXX   --mode=compile g++ -DHAVE_CONFIG_H -I. -I.. -DDIC_VERSION=102   -DMECAB_DEFAULT_RC=\"\\\"/usr/local/etc/mecabrc\\\"\"    -O3 -Wall  -c -o libmecab.lo libmecab.cpp\n",
            "libtool: compile:  g++ -DHAVE_CONFIG_H -I. -I.. -DDIC_VERSION=102 -DMECAB_DEFAULT_RC=\\\"/usr/local/etc/mecabrc\\\" -O3 -Wall -c libmecab.cpp  -fPIC -DPIC -o .libs/libmecab.o\n",
            "libtool: compile:  g++ -DHAVE_CONFIG_H -I. -I.. -DDIC_VERSION=102 -DMECAB_DEFAULT_RC=\\\"/usr/local/etc/mecabrc\\\" -O3 -Wall -c libmecab.cpp -o libmecab.o >/dev/null 2>&1\n",
            "/bin/bash ../libtool --tag=CXX   --mode=link g++  -O3 -Wall  -no-undefined -version-info 2:0:0  -o libmecab.la -rpath /usr/local/lib viterbi.lo tagger.lo utils.lo eval.lo iconv_utils.lo dictionary_rewriter.lo dictionary_generator.lo dictionary_compiler.lo context_id.lo connector.lo nbest_generator.lo writer.lo string_buffer.lo param.lo tokenizer.lo char_property.lo dictionary.lo feature_index.lo lbfgs.lo learner_tagger.lo learner.lo libmecab.lo  -lpthread -lpthread  -lstdc++ \n",
            "libtool: link: g++  -fPIC -DPIC -shared -nostdlib /usr/lib/gcc/x86_64-linux-gnu/7/../../../x86_64-linux-gnu/crti.o /usr/lib/gcc/x86_64-linux-gnu/7/crtbeginS.o  .libs/viterbi.o .libs/tagger.o .libs/utils.o .libs/eval.o .libs/iconv_utils.o .libs/dictionary_rewriter.o .libs/dictionary_generator.o .libs/dictionary_compiler.o .libs/context_id.o .libs/connector.o .libs/nbest_generator.o .libs/writer.o .libs/string_buffer.o .libs/param.o .libs/tokenizer.o .libs/char_property.o .libs/dictionary.o .libs/feature_index.o .libs/lbfgs.o .libs/learner_tagger.o .libs/learner.o .libs/libmecab.o   -lpthread -L/usr/lib/gcc/x86_64-linux-gnu/7 -L/usr/lib/gcc/x86_64-linux-gnu/7/../../../x86_64-linux-gnu -L/usr/lib/gcc/x86_64-linux-gnu/7/../../../../lib -L/lib/x86_64-linux-gnu -L/lib/../lib -L/usr/lib/x86_64-linux-gnu -L/usr/lib/../lib -L/usr/local/cuda/lib64/stubs -L/usr/lib/gcc/x86_64-linux-gnu/7/../../.. -lstdc++ -lm -lc -lgcc_s /usr/lib/gcc/x86_64-linux-gnu/7/crtendS.o /usr/lib/gcc/x86_64-linux-gnu/7/../../../x86_64-linux-gnu/crtn.o  -O3   -Wl,-soname -Wl,libmecab.so.2 -o .libs/libmecab.so.2.0.0\n",
            "libtool: link: (cd \".libs\" && rm -f \"libmecab.so.2\" && ln -s \"libmecab.so.2.0.0\" \"libmecab.so.2\")\n",
            "libtool: link: (cd \".libs\" && rm -f \"libmecab.so\" && ln -s \"libmecab.so.2.0.0\" \"libmecab.so\")\n",
            "libtool: link: ar cru .libs/libmecab.a  viterbi.o tagger.o utils.o eval.o iconv_utils.o dictionary_rewriter.o dictionary_generator.o dictionary_compiler.o context_id.o connector.o nbest_generator.o writer.o string_buffer.o param.o tokenizer.o char_property.o dictionary.o feature_index.o lbfgs.o learner_tagger.o learner.o libmecab.o\n",
            "libtool: link: ranlib .libs/libmecab.a\n",
            "libtool: link: ( cd \".libs\" && rm -f \"libmecab.la\" && ln -s \"../libmecab.la\" \"libmecab.la\" )\n",
            "g++ -DHAVE_CONFIG_H -I. -I.. -DDIC_VERSION=102   -DMECAB_DEFAULT_RC=\"\\\"/usr/local/etc/mecabrc\\\"\"    -O3 -Wall  -c -o mecab.o mecab.cpp\n",
            "/bin/bash ../libtool --tag=CXX   --mode=link g++  -O3 -Wall    -o mecab mecab.o libmecab.la -lpthread -lpthread  -lstdc++ \n",
            "libtool: link: g++ -O3 -Wall -o .libs/mecab mecab.o  ./.libs/libmecab.so -lpthread -lstdc++\n",
            "g++ -DHAVE_CONFIG_H -I. -I.. -DDIC_VERSION=102   -DMECAB_DEFAULT_RC=\"\\\"/usr/local/etc/mecabrc\\\"\"    -O3 -Wall  -c -o mecab-dict-index.o mecab-dict-index.cpp\n",
            "/bin/bash ../libtool --tag=CXX   --mode=link g++  -O3 -Wall    -o mecab-dict-index mecab-dict-index.o libmecab.la -lpthread -lpthread  -lstdc++ \n",
            "libtool: link: g++ -O3 -Wall -o .libs/mecab-dict-index mecab-dict-index.o  ./.libs/libmecab.so -lpthread -lstdc++\n",
            "g++ -DHAVE_CONFIG_H -I. -I.. -DDIC_VERSION=102   -DMECAB_DEFAULT_RC=\"\\\"/usr/local/etc/mecabrc\\\"\"    -O3 -Wall  -c -o mecab-dict-gen.o mecab-dict-gen.cpp\n",
            "/bin/bash ../libtool --tag=CXX   --mode=link g++  -O3 -Wall    -o mecab-dict-gen mecab-dict-gen.o libmecab.la -lpthread -lpthread  -lstdc++ \n",
            "libtool: link: g++ -O3 -Wall -o .libs/mecab-dict-gen mecab-dict-gen.o  ./.libs/libmecab.so -lpthread -lstdc++\n",
            "g++ -DHAVE_CONFIG_H -I. -I.. -DDIC_VERSION=102   -DMECAB_DEFAULT_RC=\"\\\"/usr/local/etc/mecabrc\\\"\"    -O3 -Wall  -c -o mecab-cost-train.o mecab-cost-train.cpp\n",
            "/bin/bash ../libtool --tag=CXX   --mode=link g++  -O3 -Wall    -o mecab-cost-train mecab-cost-train.o libmecab.la -lpthread -lpthread  -lstdc++ \n",
            "libtool: link: g++ -O3 -Wall -o .libs/mecab-cost-train mecab-cost-train.o  ./.libs/libmecab.so -lpthread -lstdc++\n",
            "g++ -DHAVE_CONFIG_H -I. -I.. -DDIC_VERSION=102   -DMECAB_DEFAULT_RC=\"\\\"/usr/local/etc/mecabrc\\\"\"    -O3 -Wall  -c -o mecab-system-eval.o mecab-system-eval.cpp\n",
            "/bin/bash ../libtool --tag=CXX   --mode=link g++  -O3 -Wall    -o mecab-system-eval mecab-system-eval.o libmecab.la -lpthread -lpthread  -lstdc++ \n",
            "libtool: link: g++ -O3 -Wall -o .libs/mecab-system-eval mecab-system-eval.o  ./.libs/libmecab.so -lpthread -lstdc++\n",
            "g++ -DHAVE_CONFIG_H -I. -I.. -DDIC_VERSION=102   -DMECAB_DEFAULT_RC=\"\\\"/usr/local/etc/mecabrc\\\"\"    -O3 -Wall  -c -o mecab-test-gen.o mecab-test-gen.cpp\n",
            "/bin/bash ../libtool --tag=CXX   --mode=link g++  -O3 -Wall    -o mecab-test-gen mecab-test-gen.o libmecab.la -lpthread -lpthread  -lstdc++ \n",
            "libtool: link: g++ -O3 -Wall -o .libs/mecab-test-gen mecab-test-gen.o  ./.libs/libmecab.so -lpthread -lstdc++\n",
            "make[2]: Leaving directory '/tmp/mecab-0.996-ko-0.9.2/src'\n",
            "Making all in man\n",
            "make[2]: Entering directory '/tmp/mecab-0.996-ko-0.9.2/man'\n",
            "make[2]: Nothing to be done for 'all'.\n",
            "make[2]: Leaving directory '/tmp/mecab-0.996-ko-0.9.2/man'\n",
            "Making all in doc\n",
            "make[2]: Entering directory '/tmp/mecab-0.996-ko-0.9.2/doc'\n",
            "make[2]: Nothing to be done for 'all'.\n",
            "make[2]: Leaving directory '/tmp/mecab-0.996-ko-0.9.2/doc'\n",
            "Making all in tests\n",
            "make[2]: Entering directory '/tmp/mecab-0.996-ko-0.9.2/tests'\n",
            "make[2]: Nothing to be done for 'all'.\n",
            "make[2]: Leaving directory '/tmp/mecab-0.996-ko-0.9.2/tests'\n",
            "make[2]: Entering directory '/tmp/mecab-0.996-ko-0.9.2'\n",
            "make[2]: Leaving directory '/tmp/mecab-0.996-ko-0.9.2'\n",
            "make[1]: Leaving directory '/tmp/mecab-0.996-ko-0.9.2'\n",
            "Making check in src\n",
            "make[1]: Entering directory '/tmp/mecab-0.996-ko-0.9.2/src'\n",
            "make[1]: Nothing to be done for 'check'.\n",
            "make[1]: Leaving directory '/tmp/mecab-0.996-ko-0.9.2/src'\n",
            "Making check in man\n",
            "make[1]: Entering directory '/tmp/mecab-0.996-ko-0.9.2/man'\n",
            "make[1]: Nothing to be done for 'check'.\n",
            "make[1]: Leaving directory '/tmp/mecab-0.996-ko-0.9.2/man'\n",
            "Making check in doc\n",
            "make[1]: Entering directory '/tmp/mecab-0.996-ko-0.9.2/doc'\n",
            "make[1]: Nothing to be done for 'check'.\n",
            "make[1]: Leaving directory '/tmp/mecab-0.996-ko-0.9.2/doc'\n",
            "Making check in tests\n",
            "make[1]: Entering directory '/tmp/mecab-0.996-ko-0.9.2/tests'\n",
            "make  check-TESTS\n",
            "make[2]: Entering directory '/tmp/mecab-0.996-ko-0.9.2/tests'\n",
            "reading ./unk.def ... 2\n",
            "emitting double-array:  50% |#####################                      | \remitting double-array: 100% |###########################################| \n",
            "./model.def is not found. skipped.\n",
            "reading ./dic.csv ... 177\n",
            "emitting double-array:   1% |                                           | \remitting double-array:   3% |#                                          | \remitting double-array:   5% |##                                         | \remitting double-array:   7% |###                                        | \remitting double-array:   9% |###                                        | \remitting double-array:  11% |####                                       | \remitting double-array:  12% |#####                                      | \remitting double-array:  14% |######                                     | \remitting double-array:  16% |#######                                    | \remitting double-array:  18% |#######                                    | \remitting double-array:  20% |########                                   | \remitting double-array:  22% |#########                                  | \remitting double-array:  24% |##########                                 | \remitting double-array:  25% |###########                                | \remitting double-array:  27% |###########                                | \remitting double-array:  29% |############                               | \remitting double-array:  31% |#############                              | \remitting double-array:  33% |##############                             | \remitting double-array:  35% |###############                            | \remitting double-array:  37% |###############                            | \remitting double-array:  38% |################                           | \remitting double-array:  40% |#################                          | \remitting double-array:  42% |##################                         | \remitting double-array:  44% |###################                        | \remitting double-array:  46% |###################                        | \remitting double-array:  48% |####################                       | \remitting double-array:  50% |#####################                      | \remitting double-array:  51% |######################                     | \remitting double-array:  53% |#######################                    | \remitting double-array:  55% |#######################                    | \remitting double-array:  57% |########################                   | \remitting double-array:  59% |#########################                  | \remitting double-array:  61% |##########################                 | \remitting double-array:  62% |###########################                | \remitting double-array:  64% |###########################                | \remitting double-array:  66% |############################               | \remitting double-array:  68% |#############################              | \remitting double-array:  70% |##############################             | \remitting double-array:  72% |###############################            | \remitting double-array:  74% |###############################            | \remitting double-array:  75% |################################           | \remitting double-array:  77% |#################################          | \remitting double-array:  79% |##################################         | \remitting double-array:  81% |###################################        | \remitting double-array:  83% |###################################        | \remitting double-array:  85% |####################################       | \remitting double-array:  87% |#####################################      | \remitting double-array:  88% |######################################     | \remitting double-array:  90% |#######################################    | \remitting double-array:  92% |#######################################    | \remitting double-array:  94% |########################################   | \remitting double-array:  96% |#########################################  | \remitting double-array:  98% |########################################## | \remitting double-array: 100% |###########################################| \n",
            "reading ./matrix.def ... 178x178\n",
            "emitting matrix      :   0% |                                           | \remitting matrix      :   1% |                                           | \remitting matrix      :   2% |                                           | \remitting matrix      :   3% |#                                          | \remitting matrix      :   4% |#                                          | \remitting matrix      :   5% |##                                         | \remitting matrix      :   6% |##                                         | \remitting matrix      :   7% |###                                        | \remitting matrix      :   8% |###                                        | \remitting matrix      :   9% |####                                       | \remitting matrix      :  10% |####                                       | \remitting matrix      :  11% |####                                       | \remitting matrix      :  12% |#####                                      | \remitting matrix      :  13% |#####                                      | \remitting matrix      :  14% |######                                     | \remitting matrix      :  15% |######                                     | \remitting matrix      :  16% |#######                                    | \remitting matrix      :  17% |#######                                    | \remitting matrix      :  18% |#######                                    | \remitting matrix      :  19% |########                                   | \remitting matrix      :  20% |########                                   | \remitting matrix      :  21% |#########                                  | \remitting matrix      :  22% |#########                                  | \remitting matrix      :  23% |#########                                  | \remitting matrix      :  24% |##########                                 | \remitting matrix      :  25% |##########                                 | \remitting matrix      :  26% |###########                                | \remitting matrix      :  27% |###########                                | \remitting matrix      :  28% |############                               | \remitting matrix      :  29% |############                               | \remitting matrix      :  30% |#############                              | \remitting matrix      :  31% |#############                              | \remitting matrix      :  32% |#############                              | \remitting matrix      :  33% |##############                             | \remitting matrix      :  34% |##############                             | \remitting matrix      :  35% |###############                            | \remitting matrix      :  36% |###############                            | \remitting matrix      :  37% |###############                            | \remitting matrix      :  38% |################                           | \remitting matrix      :  39% |################                           | \remitting matrix      :  40% |#################                          | \remitting matrix      :  41% |#################                          | \remitting matrix      :  42% |##################                         | \remitting matrix      :  43% |##################                         | \remitting matrix      :  44% |###################                        | \remitting matrix      :  45% |###################                        | \remitting matrix      :  46% |###################                        | \remitting matrix      :  47% |####################                       | \remitting matrix      :  48% |####################                       | \remitting matrix      :  49% |#####################                      | \remitting matrix      :  50% |#####################                      | \remitting matrix      :  51% |#####################                      | \remitting matrix      :  52% |######################                     | \remitting matrix      :  53% |######################                     | \remitting matrix      :  54% |#######################                    | \remitting matrix      :  55% |#######################                    | \remitting matrix      :  56% |########################                   | \remitting matrix      :  57% |########################                   | \remitting matrix      :  58% |#########################                  | \remitting matrix      :  59% |#########################                  | \remitting matrix      :  60% |#########################                  | \remitting matrix      :  61% |##########################                 | \remitting matrix      :  62% |##########################                 | \remitting matrix      :  63% |###########################                | \remitting matrix      :  64% |###########################                | \remitting matrix      :  65% |############################               | \remitting matrix      :  66% |############################               | \remitting matrix      :  67% |############################               | \remitting matrix      :  68% |#############################              | \remitting matrix      :  69% |#############################              | \remitting matrix      :  70% |##############################             | \remitting matrix      :  71% |##############################             | \remitting matrix      :  72% |###############################            | \remitting matrix      :  73% |###############################            | \remitting matrix      :  74% |###############################            | \remitting matrix      :  75% |################################           | \remitting matrix      :  76% |################################           | \remitting matrix      :  77% |#################################          | \remitting matrix      :  78% |#################################          | \remitting matrix      :  79% |##################################         | \remitting matrix      :  80% |##################################         | \remitting matrix      :  81% |###################################        | \remitting matrix      :  82% |###################################        | \remitting matrix      :  83% |###################################        | \remitting matrix      :  84% |####################################       | \remitting matrix      :  85% |####################################       | \remitting matrix      :  86% |#####################################      | \remitting matrix      :  87% |#####################################      | \remitting matrix      :  88% |#####################################      | \remitting matrix      :  89% |######################################     | \remitting matrix      :  90% |######################################     | \remitting matrix      :  91% |#######################################    | \remitting matrix      :  92% |#######################################    | \remitting matrix      :  93% |########################################   | \remitting matrix      :  94% |########################################   | \remitting matrix      :  95% |#########################################  | \remitting matrix      :  96% |#########################################  | \remitting matrix      :  97% |#########################################  | \remitting matrix      :  98% |########################################## | \remitting matrix      :  99% |########################################## | \remitting matrix      : 100% |###########################################| \n",
            "\n",
            "done!\n",
            "reading ./unk.def ... 2\n",
            "emitting double-array:  50% |#####################                      | \remitting double-array: 100% |###########################################| \n",
            "./model.def is not found. skipped.\n",
            "reading ./dic.csv ... 83\n",
            "emitting double-array:  10% |####                                       | \remitting double-array:  20% |########                                   | \remitting double-array:  30% |############                               | \remitting double-array:  40% |#################                          | \remitting double-array:  50% |#####################                      | \remitting double-array:  60% |#########################                  | \remitting double-array:  70% |##############################             | \remitting double-array:  80% |##################################         | \remitting double-array:  90% |######################################     | \remitting double-array: 100% |###########################################| \n",
            "reading ./matrix.def ... 84x84\n",
            "emitting matrix      :   1% |                                           | \remitting matrix      :   2% |#                                          | \remitting matrix      :   3% |#                                          | \remitting matrix      :   4% |##                                         | \remitting matrix      :   5% |##                                         | \remitting matrix      :   7% |###                                        | \remitting matrix      :   8% |###                                        | \remitting matrix      :   9% |####                                       | \remitting matrix      :  10% |####                                       | \remitting matrix      :  11% |#####                                      | \remitting matrix      :  13% |#####                                      | \remitting matrix      :  14% |######                                     | \remitting matrix      :  15% |######                                     | \remitting matrix      :  16% |#######                                    | \remitting matrix      :  17% |#######                                    | \remitting matrix      :  19% |########                                   | \remitting matrix      :  20% |########                                   | \remitting matrix      :  21% |#########                                  | \remitting matrix      :  22% |#########                                  | \remitting matrix      :  23% |##########                                 | \remitting matrix      :  25% |##########                                 | \remitting matrix      :  26% |###########                                | \remitting matrix      :  27% |###########                                | \remitting matrix      :  28% |############                               | \remitting matrix      :  29% |############                               | \remitting matrix      :  30% |#############                              | \remitting matrix      :  32% |#############                              | \remitting matrix      :  33% |##############                             | \remitting matrix      :  34% |##############                             | \remitting matrix      :  35% |###############                            | \remitting matrix      :  36% |###############                            | \remitting matrix      :  38% |################                           | \remitting matrix      :  39% |################                           | \remitting matrix      :  40% |#################                          | \remitting matrix      :  41% |#################                          | \remitting matrix      :  42% |##################                         | \remitting matrix      :  44% |##################                         | \remitting matrix      :  45% |###################                        | \remitting matrix      :  46% |###################                        | \remitting matrix      :  47% |####################                       | \remitting matrix      :  48% |####################                       | \remitting matrix      :  50% |#####################                      | \remitting matrix      :  51% |######################                     | \remitting matrix      :  52% |######################                     | \remitting matrix      :  53% |#######################                    | \remitting matrix      :  54% |#######################                    | \remitting matrix      :  55% |########################                   | \remitting matrix      :  57% |########################                   | \remitting matrix      :  58% |#########################                  | \remitting matrix      :  59% |#########################                  | \remitting matrix      :  60% |##########################                 | \remitting matrix      :  61% |##########################                 | \remitting matrix      :  63% |###########################                | \remitting matrix      :  64% |###########################                | \remitting matrix      :  65% |############################               | \remitting matrix      :  66% |############################               | \remitting matrix      :  67% |#############################              | \remitting matrix      :  69% |#############################              | \remitting matrix      :  70% |##############################             | \remitting matrix      :  71% |##############################             | \remitting matrix      :  72% |###############################            | \remitting matrix      :  73% |###############################            | \remitting matrix      :  75% |################################           | \remitting matrix      :  76% |################################           | \remitting matrix      :  77% |#################################          | \remitting matrix      :  78% |#################################          | \remitting matrix      :  79% |##################################         | \remitting matrix      :  80% |##################################         | \remitting matrix      :  82% |###################################        | \remitting matrix      :  83% |###################################        | \remitting matrix      :  84% |####################################       | \remitting matrix      :  85% |####################################       | \remitting matrix      :  86% |#####################################      | \remitting matrix      :  88% |#####################################      | \remitting matrix      :  89% |######################################     | \remitting matrix      :  90% |######################################     | \remitting matrix      :  91% |#######################################    | \remitting matrix      :  92% |#######################################    | \remitting matrix      :  94% |########################################   | \remitting matrix      :  95% |########################################   | \remitting matrix      :  96% |#########################################  | \remitting matrix      :  97% |#########################################  | \remitting matrix      :  98% |########################################## | \remitting matrix      : 100% |###########################################| \n",
            "\n",
            "done!\n",
            "reading ./unk.def ... 2\n",
            "emitting double-array:  50% |#####################                      | \remitting double-array: 100% |###########################################| \n",
            "./model.def is not found. skipped.\n",
            "reading ./dic.csv ... 450\n",
            "emitting double-array:   0% |                                           | \remitting double-array:   1% |                                           | \remitting double-array:   2% |                                           | \remitting double-array:   3% |#                                          | \remitting double-array:   4% |#                                          | \remitting double-array:   5% |##                                         | \remitting double-array:   6% |##                                         | \remitting double-array:   7% |###                                        | \remitting double-array:   8% |###                                        | \remitting double-array:   9% |###                                        | \remitting double-array:  10% |####                                       | \remitting double-array:  11% |####                                       | \remitting double-array:  12% |#####                                      | \remitting double-array:  13% |#####                                      | \remitting double-array:  14% |######                                     | \remitting double-array:  15% |######                                     | \remitting double-array:  16% |######                                     | \remitting double-array:  17% |#######                                    | \remitting double-array:  18% |#######                                    | \remitting double-array:  19% |########                                   | \remitting double-array:  20% |########                                   | \remitting double-array:  21% |#########                                  | \remitting double-array:  22% |#########                                  | \remitting double-array:  23% |#########                                  | \remitting double-array:  24% |##########                                 | \remitting double-array:  25% |##########                                 | \remitting double-array:  26% |###########                                | \remitting double-array:  27% |###########                                | \remitting double-array:  28% |############                               | \remitting double-array:  29% |############                               | \remitting double-array:  30% |############                               | \remitting double-array:  31% |#############                              | \remitting double-array:  32% |#############                              | \remitting double-array:  33% |##############                             | \remitting double-array:  34% |##############                             | \remitting double-array:  35% |###############                            | \remitting double-array:  36% |###############                            | \remitting double-array:  37% |###############                            | \remitting double-array:  38% |################                           | \remitting double-array:  39% |################                           | \remitting double-array:  40% |#################                          | \remitting double-array:  41% |#################                          | \remitting double-array:  42% |##################                         | \remitting double-array:  43% |##################                         | \remitting double-array:  44% |##################                         | \remitting double-array:  45% |###################                        | \remitting double-array:  46% |###################                        | \remitting double-array:  47% |####################                       | \remitting double-array:  48% |####################                       | \remitting double-array:  49% |#####################                      | \remitting double-array:  50% |#####################                      | \remitting double-array:  51% |#####################                      | \remitting double-array:  52% |######################                     | \remitting double-array:  53% |######################                     | \remitting double-array:  54% |#######################                    | \remitting double-array:  55% |#######################                    | \remitting double-array:  56% |########################                   | \remitting double-array:  57% |########################                   | \remitting double-array:  58% |#########################                  | \remitting double-array:  59% |#########################                  | \remitting double-array:  60% |#########################                  | \remitting double-array:  61% |##########################                 | \remitting double-array:  62% |##########################                 | \remitting double-array:  63% |###########################                | \remitting double-array:  64% |###########################                | \remitting double-array:  65% |###########################                | \remitting double-array:  66% |############################               | \remitting double-array:  67% |############################               | \remitting double-array:  68% |#############################              | \remitting double-array:  69% |#############################              | \remitting double-array:  70% |##############################             | \remitting double-array:  71% |##############################             | \remitting double-array:  72% |##############################             | \remitting double-array:  73% |###############################            | \remitting double-array:  74% |###############################            | \remitting double-array:  75% |################################           | \remitting double-array:  76% |################################           | \remitting double-array:  77% |#################################          | \remitting double-array:  78% |#################################          | \remitting double-array:  79% |##################################         | \remitting double-array:  80% |##################################         | \remitting double-array:  81% |##################################         | \remitting double-array:  82% |###################################        | \remitting double-array:  83% |###################################        | \remitting double-array:  84% |####################################       | \remitting double-array:  85% |####################################       | \remitting double-array:  86% |#####################################      | \remitting double-array:  87% |#####################################      | \remitting double-array:  88% |#####################################      | \remitting double-array:  89% |######################################     | \remitting double-array:  90% |######################################     | \remitting double-array:  91% |#######################################    | \remitting double-array:  92% |#######################################    | \remitting double-array:  93% |########################################   | \remitting double-array:  94% |########################################   | \remitting double-array:  95% |########################################   | \remitting double-array:  96% |#########################################  | \remitting double-array:  97% |#########################################  | \remitting double-array:  98% |########################################## | \remitting double-array:  99% |########################################## | \remitting double-array: 100% |###########################################| \n",
            "reading ./matrix.def ... 1x1\n",
            "\n",
            "done!\n",
            "reading ./unk.def ... 2\n",
            "emitting double-array:  50% |#####################                      | \remitting double-array: 100% |###########################################| \n",
            "./model.def is not found. skipped.\n",
            "reading ./dic.csv ... 162\n",
            "emitting double-array:   1% |                                           | \remitting double-array:   2% |#                                          | \remitting double-array:   3% |#                                          | \remitting double-array:   4% |##                                         | \remitting double-array:   6% |##                                         | \remitting double-array:   7% |###                                        | \remitting double-array:   8% |###                                        | \remitting double-array:   9% |####                                       | \remitting double-array:  11% |####                                       | \remitting double-array:  12% |#####                                      | \remitting double-array:  13% |#####                                      | \remitting double-array:  14% |######                                     | \remitting double-array:  16% |######                                     | \remitting double-array:  17% |#######                                    | \remitting double-array:  18% |#######                                    | \remitting double-array:  19% |########                                   | \remitting double-array:  20% |#########                                  | \remitting double-array:  22% |#########                                  | \remitting double-array:  23% |##########                                 | \remitting double-array:  24% |##########                                 | \remitting double-array:  25% |###########                                | \remitting double-array:  27% |###########                                | \remitting double-array:  28% |############                               | \remitting double-array:  29% |############                               | \remitting double-array:  30% |#############                              | \remitting double-array:  32% |#############                              | \remitting double-array:  33% |##############                             | \remitting double-array:  34% |##############                             | \remitting double-array:  35% |###############                            | \remitting double-array:  37% |###############                            | \remitting double-array:  38% |################                           | \remitting double-array:  39% |################                           | \remitting double-array:  40% |#################                          | \remitting double-array:  41% |##################                         | \remitting double-array:  43% |##################                         | \remitting double-array:  44% |###################                        | \remitting double-array:  45% |###################                        | \remitting double-array:  46% |####################                       | \remitting double-array:  48% |####################                       | \remitting double-array:  49% |#####################                      | \remitting double-array:  50% |#####################                      | \remitting double-array:  51% |######################                     | \remitting double-array:  53% |######################                     | \remitting double-array:  54% |#######################                    | \remitting double-array:  55% |#######################                    | \remitting double-array:  56% |########################                   | \remitting double-array:  58% |########################                   | \remitting double-array:  59% |#########################                  | \remitting double-array:  60% |##########################                 | \remitting double-array:  61% |##########################                 | \remitting double-array:  62% |###########################                | \remitting double-array:  64% |###########################                | \remitting double-array:  65% |############################               | \remitting double-array:  66% |############################               | \remitting double-array:  67% |#############################              | \remitting double-array:  69% |#############################              | \remitting double-array:  70% |##############################             | \remitting double-array:  71% |##############################             | \remitting double-array:  72% |###############################            | \remitting double-array:  74% |###############################            | \remitting double-array:  75% |################################           | \remitting double-array:  76% |################################           | \remitting double-array:  77% |#################################          | \remitting double-array:  79% |#################################          | \remitting double-array:  80% |##################################         | \remitting double-array:  81% |###################################        | \remitting double-array:  82% |###################################        | \remitting double-array:  83% |####################################       | \remitting double-array:  85% |####################################       | \remitting double-array:  86% |#####################################      | \remitting double-array:  87% |#####################################      | \remitting double-array:  88% |######################################     | \remitting double-array:  90% |######################################     | \remitting double-array:  91% |#######################################    | \remitting double-array:  92% |#######################################    | \remitting double-array:  93% |########################################   | \remitting double-array:  95% |########################################   | \remitting double-array:  96% |#########################################  | \remitting double-array:  97% |#########################################  | \remitting double-array:  98% |########################################## | \remitting double-array: 100% |###########################################| \n",
            "reading ./matrix.def ... 3x3\n",
            "emitting matrix      :  33% |##############                             | \remitting matrix      :  66% |############################               | \remitting matrix      : 100% |###########################################| \n",
            "\n",
            "done!\n",
            "reading ./unk.def ... 2\n",
            "emitting double-array:  50% |#####################                      | \remitting double-array: 100% |###########################################| \n",
            "./model.def is not found. skipped.\n",
            "reading ./dic.csv ... 4\n",
            "emitting double-array:  25% |##########                                 | \remitting double-array:  50% |#####################                      | \remitting double-array:  75% |################################           | \remitting double-array: 100% |###########################################| \n",
            "reading ./matrix.def ... 1x1\n",
            "\n",
            "done!\n",
            "reading ./unk.def ... 11\n",
            "emitting double-array:   9% |###                                        | \remitting double-array:  18% |#######                                    | \remitting double-array:  27% |###########                                | \remitting double-array:  36% |###############                            | \remitting double-array:  45% |###################                        | \remitting double-array:  54% |#######################                    | \remitting double-array:  63% |###########################                | \remitting double-array:  72% |###############################            | \remitting double-array:  81% |###################################        | \remitting double-array:  90% |#######################################    | \remitting double-array: 100% |###########################################| \n",
            "./model.def is not found. skipped.\n",
            "reading ./dic.csv ... 1\n",
            "reading ./matrix.def ... 1x1\n",
            "\n",
            "done!\n",
            "reading ./unk.def ... 2\n",
            "emitting double-array:  50% |#####################                      | \remitting double-array: 100% |###########################################| \n",
            "./model.def is not found. skipped.\n",
            "reading ./dic.csv ... 1\n",
            "reading ./matrix.def ... 1x1\n",
            "\n",
            "done!\n",
            "PASS: run-dics.sh\n",
            "PASS: run-eval.sh\n",
            "reading seed/unk.def ... 40\n",
            "emitting double-array:   9% |###                                        | \remitting double-array:  18% |#######                                    | \remitting double-array:  27% |###########                                | \remitting double-array:  36% |###############                            | \remitting double-array:  45% |###################                        | \remitting double-array:  54% |#######################                    | \remitting double-array:  63% |###########################                | \remitting double-array:  72% |###############################            | \remitting double-array:  81% |###################################        | \remitting double-array:  90% |#######################################    | \remitting double-array: 100% |###########################################| \n",
            "seed/model.def is not found. skipped.\n",
            "reading seed/dic.csv ... 4335\n",
            "emitting double-array:   0% |                                           | \remitting double-array:   1% |                                           | \remitting double-array:   2% |                                           | \remitting double-array:   3% |#                                          | \remitting double-array:   4% |#                                          | \remitting double-array:   5% |##                                         | \remitting double-array:   6% |##                                         | \remitting double-array:   7% |###                                        | \remitting double-array:   8% |###                                        | \remitting double-array:   9% |###                                        | \remitting double-array:  10% |####                                       | \remitting double-array:  11% |####                                       | \remitting double-array:  12% |#####                                      | \remitting double-array:  13% |#####                                      | \remitting double-array:  14% |######                                     | \remitting double-array:  15% |######                                     | \remitting double-array:  16% |######                                     | \remitting double-array:  17% |#######                                    | \remitting double-array:  18% |#######                                    | \remitting double-array:  19% |########                                   | \remitting double-array:  20% |########                                   | \remitting double-array:  21% |#########                                  | \remitting double-array:  22% |#########                                  | \remitting double-array:  23% |#########                                  | \remitting double-array:  24% |##########                                 | \remitting double-array:  25% |##########                                 | \remitting double-array:  26% |###########                                | \remitting double-array:  27% |###########                                | \remitting double-array:  28% |############                               | \remitting double-array:  29% |############                               | \remitting double-array:  30% |############                               | \remitting double-array:  31% |#############                              | \remitting double-array:  32% |#############                              | \remitting double-array:  33% |##############                             | \remitting double-array:  34% |##############                             | \remitting double-array:  35% |###############                            | \remitting double-array:  36% |###############                            | \remitting double-array:  37% |###############                            | \remitting double-array:  38% |################                           | \remitting double-array:  39% |################                           | \remitting double-array:  40% |#################                          | \remitting double-array:  41% |#################                          | \remitting double-array:  42% |##################                         | \remitting double-array:  43% |##################                         | \remitting double-array:  44% |##################                         | \remitting double-array:  45% |###################                        | \remitting double-array:  46% |###################                        | \remitting double-array:  47% |####################                       | \remitting double-array:  48% |####################                       | \remitting double-array:  49% |#####################                      | \remitting double-array:  50% |#####################                      | \remitting double-array:  51% |#####################                      | \remitting double-array:  52% |######################                     | \remitting double-array:  53% |######################                     | \remitting double-array:  54% |#######################                    | \remitting double-array:  55% |#######################                    | \remitting double-array:  56% |########################                   | \remitting double-array:  57% |########################                   | \remitting double-array:  58% |########################                   | \remitting double-array:  59% |#########################                  | \remitting double-array:  60% |#########################                  | \remitting double-array:  61% |##########################                 | \remitting double-array:  62% |##########################                 | \remitting double-array:  63% |###########################                | \remitting double-array:  64% |###########################                | \remitting double-array:  65% |###########################                | \remitting double-array:  66% |############################               | \remitting double-array:  67% |############################               | \remitting double-array:  68% |#############################              | \remitting double-array:  69% |#############################              | \remitting double-array:  70% |##############################             | \remitting double-array:  71% |##############################             | \remitting double-array:  72% |##############################             | \remitting double-array:  73% |###############################            | \remitting double-array:  74% |###############################            | \remitting double-array:  75% |################################           | \remitting double-array:  76% |################################           | \remitting double-array:  77% |#################################          | \remitting double-array:  78% |#################################          | \remitting double-array:  79% |#################################          | \remitting double-array:  80% |##################################         | \remitting double-array:  81% |##################################         | \remitting double-array:  82% |###################################        | \remitting double-array:  83% |###################################        | \remitting double-array:  84% |####################################       | \remitting double-array:  85% |####################################       | \remitting double-array:  86% |#####################################      | \remitting double-array:  87% |#####################################      | \remitting double-array:  88% |#####################################      | \remitting double-array:  89% |######################################     | \remitting double-array:  90% |######################################     | \remitting double-array:  91% |#######################################    | \remitting double-array:  92% |#######################################    | \remitting double-array:  93% |########################################   | \remitting double-array:  94% |########################################   | \remitting double-array:  95% |########################################   | \remitting double-array:  96% |#########################################  | \remitting double-array:  97% |#########################################  | \remitting double-array:  98% |########################################## | \remitting double-array:  99% |########################################## | \remitting double-array: 100% |###########################################| \n",
            "reading seed/matrix.def ... 1x1\n",
            "\n",
            "done!\n",
            "reading corpus ...\n",
            "Number of sentences: 34\n",
            "Number of features:  64108\n",
            "eta:                 0.00005\n",
            "freq:                1\n",
            "eval-size:           6\n",
            "unk-eval-size:       4\n",
            "threads:             1\n",
            "charset:             EUC-JP\n",
            "C(sigma^2):          1.00000\n",
            "\n",
            "iter=0 err=1.00000 F=0.35771 target=2406.28355 diff=1.00000\n",
            "iter=1 err=0.97059 F=0.65652 target=1484.25231 diff=0.38318\n",
            "iter=2 err=0.91176 F=0.79331 target=863.32765 diff=0.41834\n",
            "iter=3 err=0.85294 F=0.89213 target=596.72480 diff=0.30881\n",
            "iter=4 err=0.61765 F=0.95467 target=336.30744 diff=0.43641\n",
            "iter=5 err=0.50000 F=0.96702 target=246.53039 diff=0.26695\n",
            "iter=6 err=0.35294 F=0.95472 target=188.93963 diff=0.23361\n",
            "iter=7 err=0.20588 F=0.99106 target=168.62665 diff=0.10751\n",
            "iter=8 err=0.05882 F=0.99777 target=158.64865 diff=0.05917\n",
            "iter=9 err=0.08824 F=0.99665 target=154.14530 diff=0.02839\n",
            "iter=10 err=0.08824 F=0.99665 target=151.94257 diff=0.01429\n",
            "iter=11 err=0.02941 F=0.99888 target=147.20825 diff=0.03116\n",
            "iter=12 err=0.00000 F=1.00000 target=147.34956 diff=0.00096\n",
            "iter=13 err=0.02941 F=0.99888 target=146.32592 diff=0.00695\n",
            "iter=14 err=0.00000 F=1.00000 target=145.77299 diff=0.00378\n",
            "iter=15 err=0.02941 F=0.99888 target=145.24641 diff=0.00361\n",
            "iter=16 err=0.00000 F=1.00000 target=144.96490 diff=0.00194\n",
            "iter=17 err=0.02941 F=0.99888 target=144.90246 diff=0.00043\n",
            "iter=18 err=0.00000 F=1.00000 target=144.75959 diff=0.00099\n",
            "iter=19 err=0.00000 F=1.00000 target=144.71727 diff=0.00029\n",
            "iter=20 err=0.00000 F=1.00000 target=144.66337 diff=0.00037\n",
            "iter=21 err=0.00000 F=1.00000 target=144.61349 diff=0.00034\n",
            "iter=22 err=0.00000 F=1.00000 target=144.62987 diff=0.00011\n",
            "iter=23 err=0.00000 F=1.00000 target=144.60060 diff=0.00020\n",
            "iter=24 err=0.00000 F=1.00000 target=144.59125 diff=0.00006\n",
            "iter=25 err=0.00000 F=1.00000 target=144.58619 diff=0.00004\n",
            "iter=26 err=0.00000 F=1.00000 target=144.58219 diff=0.00003\n",
            "iter=27 err=0.00000 F=1.00000 target=144.58059 diff=0.00001\n",
            "\n",
            "Done! writing model file ... \n",
            "model-ipadic.c1.0.f1.model is not a binary model. reopen it as text mode...\n",
            "reading seed/unk.def ... 40\n",
            "reading seed/dic.csv ... 4335\n",
            "emitting model-ipadic.c1.0.f1.dic/left-id.def/ model-ipadic.c1.0.f1.dic/right-id.def\n",
            "emitting model-ipadic.c1.0.f1.dic/unk.def ... 40\n",
            "emitting model-ipadic.c1.0.f1.dic/dic.csv ... 4335\n",
            "emitting matrix      :   1% |                                           | \remitting matrix      :   2% |                                           | \remitting matrix      :   3% |#                                          | \remitting matrix      :   4% |#                                          | \remitting matrix      :   5% |##                                         | \remitting matrix      :   6% |##                                         | \remitting matrix      :   7% |###                                        | \remitting matrix      :   8% |###                                        | \remitting matrix      :   9% |###                                        | \remitting matrix      :  10% |####                                       | \remitting matrix      :  11% |####                                       | \remitting matrix      :  12% |#####                                      | \remitting matrix      :  13% |#####                                      | \remitting matrix      :  14% |######                                     | \remitting matrix      :  15% |######                                     | \remitting matrix      :  16% |######                                     | \remitting matrix      :  17% |#######                                    | \remitting matrix      :  18% |#######                                    | \remitting matrix      :  19% |########                                   | \remitting matrix      :  20% |########                                   | \remitting matrix      :  21% |#########                                  | \remitting matrix      :  22% |#########                                  | \remitting matrix      :  23% |#########                                  | \remitting matrix      :  24% |##########                                 | \remitting matrix      :  25% |##########                                 | \remitting matrix      :  26% |###########                                | \remitting matrix      :  27% |###########                                | \remitting matrix      :  28% |############                               | \remitting matrix      :  29% |############                               | \remitting matrix      :  30% |############                               | \remitting matrix      :  31% |#############                              | \remitting matrix      :  32% |#############                              | \remitting matrix      :  33% |##############                             | \remitting matrix      :  34% |##############                             | \remitting matrix      :  35% |###############                            | \remitting matrix      :  36% |###############                            | \remitting matrix      :  37% |################                           | \remitting matrix      :  38% |################                           | \remitting matrix      :  39% |################                           | \remitting matrix      :  40% |#################                          | \remitting matrix      :  41% |#################                          | \remitting matrix      :  42% |##################                         | \remitting matrix      :  43% |##################                         | \remitting matrix      :  44% |###################                        | \remitting matrix      :  45% |###################                        | \remitting matrix      :  46% |###################                        | \remitting matrix      :  47% |####################                       | \remitting matrix      :  48% |####################                       | \remitting matrix      :  49% |#####################                      | \remitting matrix      :  50% |#####################                      | \remitting matrix      :  51% |#####################                      | \remitting matrix      :  52% |######################                     | \remitting matrix      :  53% |######################                     | \remitting matrix      :  54% |#######################                    | \remitting matrix      :  55% |#######################                    | \remitting matrix      :  56% |########################                   | \remitting matrix      :  57% |########################                   | \remitting matrix      :  58% |########################                   | \remitting matrix      :  59% |#########################                  | \remitting matrix      :  60% |#########################                  | \remitting matrix      :  61% |##########################                 | \remitting matrix      :  62% |##########################                 | \remitting matrix      :  63% |###########################                | \remitting matrix      :  64% |###########################                | \remitting matrix      :  65% |###########################                | \remitting matrix      :  66% |############################               | \remitting matrix      :  67% |############################               | \remitting matrix      :  68% |#############################              | \remitting matrix      :  69% |#############################              | \remitting matrix      :  70% |##############################             | \remitting matrix      :  71% |##############################             | \remitting matrix      :  72% |###############################            | \remitting matrix      :  73% |###############################            | \remitting matrix      :  74% |###############################            | \remitting matrix      :  75% |################################           | \remitting matrix      :  76% |################################           | \remitting matrix      :  77% |#################################          | \remitting matrix      :  78% |#################################          | \remitting matrix      :  79% |##################################         | \remitting matrix      :  80% |##################################         | \remitting matrix      :  81% |##################################         | \remitting matrix      :  82% |###################################        | \remitting matrix      :  83% |###################################        | \remitting matrix      :  84% |####################################       | \remitting matrix      :  85% |####################################       | \remitting matrix      :  86% |#####################################      | \remitting matrix      :  87% |#####################################      | \remitting matrix      :  88% |#####################################      | \remitting matrix      :  89% |######################################     | \remitting matrix      :  90% |######################################     | \remitting matrix      :  91% |#######################################    | \remitting matrix      :  92% |#######################################    | \remitting matrix      :  93% |########################################   | \remitting matrix      :  94% |########################################   | \remitting matrix      :  95% |########################################   | \remitting matrix      :  96% |#########################################  | \remitting matrix      :  97% |#########################################  | \remitting matrix      :  98% |########################################## | \remitting matrix      :  99% |########################################## | \remitting matrix      : 100% |###########################################| \n",
            "copying seed/char.def to model-ipadic.c1.0.f1.dic/char.def\n",
            "copying seed/rewrite.def to model-ipadic.c1.0.f1.dic/rewrite.def\n",
            "copying seed/dicrc to model-ipadic.c1.0.f1.dic/dicrc\n",
            "copying seed/feature.def to model-ipadic.c1.0.f1.dic/feature.def\n",
            "copying model-ipadic.c1.0.f1.model to model-ipadic.c1.0.f1.dic/model.def\n",
            "\n",
            "done!\n",
            "reading model-ipadic.c1.0.f1.dic/unk.def ... 40\n",
            "emitting double-array:   9% |###                                        | \remitting double-array:  18% |#######                                    | \remitting double-array:  27% |###########                                | \remitting double-array:  36% |###############                            | \remitting double-array:  45% |###################                        | \remitting double-array:  54% |#######################                    | \remitting double-array:  63% |###########################                | \remitting double-array:  72% |###############################            | \remitting double-array:  81% |###################################        | \remitting double-array:  90% |#######################################    | \remitting double-array: 100% |###########################################| \n",
            "reading model-ipadic.c1.0.f1.dic/dic.csv ... 4335\n",
            "emitting double-array:   0% |                                           | \remitting double-array:   1% |                                           | \remitting double-array:   2% |                                           | \remitting double-array:   3% |#                                          | \remitting double-array:   4% |#                                          | \remitting double-array:   5% |##                                         | \remitting double-array:   6% |##                                         | \remitting double-array:   7% |###                                        | \remitting double-array:   8% |###                                        | \remitting double-array:   9% |###                                        | \remitting double-array:  10% |####                                       | \remitting double-array:  11% |####                                       | \remitting double-array:  12% |#####                                      | \remitting double-array:  13% |#####                                      | \remitting double-array:  14% |######                                     | \remitting double-array:  15% |######                                     | \remitting double-array:  16% |######                                     | \remitting double-array:  17% |#######                                    | \remitting double-array:  18% |#######                                    | \remitting double-array:  19% |########                                   | \remitting double-array:  20% |########                                   | \remitting double-array:  21% |#########                                  | \remitting double-array:  22% |#########                                  | \remitting double-array:  23% |#########                                  | \remitting double-array:  24% |##########                                 | \remitting double-array:  25% |##########                                 | \remitting double-array:  26% |###########                                | \remitting double-array:  27% |###########                                | \remitting double-array:  28% |############                               | \remitting double-array:  29% |############                               | \remitting double-array:  30% |############                               | \remitting double-array:  31% |#############                              | \remitting double-array:  32% |#############                              | \remitting double-array:  33% |##############                             | \remitting double-array:  34% |##############                             | \remitting double-array:  35% |###############                            | \remitting double-array:  36% |###############                            | \remitting double-array:  37% |###############                            | \remitting double-array:  38% |################                           | \remitting double-array:  39% |################                           | \remitting double-array:  40% |#################                          | \remitting double-array:  41% |#################                          | \remitting double-array:  42% |##################                         | \remitting double-array:  43% |##################                         | \remitting double-array:  44% |##################                         | \remitting double-array:  45% |###################                        | \remitting double-array:  46% |###################                        | \remitting double-array:  47% |####################                       | \remitting double-array:  48% |####################                       | \remitting double-array:  49% |#####################                      | \remitting double-array:  50% |#####################                      | \remitting double-array:  51% |#####################                      | \remitting double-array:  52% |######################                     | \remitting double-array:  53% |######################                     | \remitting double-array:  54% |#######################                    | \remitting double-array:  55% |#######################                    | \remitting double-array:  56% |########################                   | \remitting double-array:  57% |########################                   | \remitting double-array:  58% |########################                   | \remitting double-array:  59% |#########################                  | \remitting double-array:  60% |#########################                  | \remitting double-array:  61% |##########################                 | \remitting double-array:  62% |##########################                 | \remitting double-array:  63% |###########################                | \remitting double-array:  64% |###########################                | \remitting double-array:  65% |###########################                | \remitting double-array:  66% |############################               | \remitting double-array:  67% |############################               | \remitting double-array:  68% |#############################              | \remitting double-array:  69% |#############################              | \remitting double-array:  70% |##############################             | \remitting double-array:  71% |##############################             | \remitting double-array:  72% |##############################             | \remitting double-array:  73% |###############################            | \remitting double-array:  74% |###############################            | \remitting double-array:  75% |################################           | \remitting double-array:  76% |################################           | \remitting double-array:  77% |#################################          | \remitting double-array:  78% |#################################          | \remitting double-array:  79% |#################################          | \remitting double-array:  80% |##################################         | \remitting double-array:  81% |##################################         | \remitting double-array:  82% |###################################        | \remitting double-array:  83% |###################################        | \remitting double-array:  84% |####################################       | \remitting double-array:  85% |####################################       | \remitting double-array:  86% |#####################################      | \remitting double-array:  87% |#####################################      | \remitting double-array:  88% |#####################################      | \remitting double-array:  89% |######################################     | \remitting double-array:  90% |######################################     | \remitting double-array:  91% |#######################################    | \remitting double-array:  92% |#######################################    | \remitting double-array:  93% |########################################   | \remitting double-array:  94% |########################################   | \remitting double-array:  95% |########################################   | \remitting double-array:  96% |#########################################  | \remitting double-array:  97% |#########################################  | \remitting double-array:  98% |########################################## | \remitting double-array:  99% |########################################## | \remitting double-array: 100% |###########################################| \n",
            "reading model-ipadic.c1.0.f1.dic/matrix.def ... 346x346\n",
            "emitting matrix      :   0% |                                           | \remitting matrix      :   1% |                                           | \remitting matrix      :   2% |                                           | \remitting matrix      :   3% |#                                          | \remitting matrix      :   4% |#                                          | \remitting matrix      :   5% |##                                         | \remitting matrix      :   6% |##                                         | \remitting matrix      :   7% |###                                        | \remitting matrix      :   8% |###                                        | \remitting matrix      :   9% |###                                        | \remitting matrix      :  10% |####                                       | \remitting matrix      :  11% |####                                       | \remitting matrix      :  12% |#####                                      | \remitting matrix      :  13% |#####                                      | \remitting matrix      :  14% |######                                     | \remitting matrix      :  15% |######                                     | \remitting matrix      :  16% |######                                     | \remitting matrix      :  17% |#######                                    | \remitting matrix      :  18% |#######                                    | \remitting matrix      :  19% |########                                   | \remitting matrix      :  20% |########                                   | \remitting matrix      :  21% |#########                                  | \remitting matrix      :  22% |#########                                  | \remitting matrix      :  23% |#########                                  | \remitting matrix      :  24% |##########                                 | \remitting matrix      :  25% |##########                                 | \remitting matrix      :  26% |###########                                | \remitting matrix      :  27% |###########                                | \remitting matrix      :  28% |############                               | \remitting matrix      :  29% |############                               | \remitting matrix      :  30% |############                               | \remitting matrix      :  31% |#############                              | \remitting matrix      :  32% |#############                              | \remitting matrix      :  33% |##############                             | \remitting matrix      :  34% |##############                             | \remitting matrix      :  35% |###############                            | \remitting matrix      :  36% |###############                            | \remitting matrix      :  37% |################                           | \remitting matrix      :  38% |################                           | \remitting matrix      :  39% |################                           | \remitting matrix      :  40% |#################                          | \remitting matrix      :  41% |#################                          | \remitting matrix      :  42% |##################                         | \remitting matrix      :  43% |##################                         | \remitting matrix      :  44% |###################                        | \remitting matrix      :  45% |###################                        | \remitting matrix      :  46% |###################                        | \remitting matrix      :  47% |####################                       | \remitting matrix      :  48% |####################                       | \remitting matrix      :  49% |#####################                      | \remitting matrix      :  50% |#####################                      | \remitting matrix      :  51% |#####################                      | \remitting matrix      :  52% |######################                     | \remitting matrix      :  53% |######################                     | \remitting matrix      :  54% |#######################                    | \remitting matrix      :  55% |#######################                    | \remitting matrix      :  56% |########################                   | \remitting matrix      :  57% |########################                   | \remitting matrix      :  58% |########################                   | \remitting matrix      :  59% |#########################                  | \remitting matrix      :  60% |#########################                  | \remitting matrix      :  61% |##########################                 | \remitting matrix      :  62% |##########################                 | \remitting matrix      :  63% |###########################                | \remitting matrix      :  64% |###########################                | \remitting matrix      :  65% |###########################                | \remitting matrix      :  66% |############################               | \remitting matrix      :  67% |############################               | \remitting matrix      :  68% |#############################              | \remitting matrix      :  69% |#############################              | \remitting matrix      :  70% |##############################             | \remitting matrix      :  71% |##############################             | \remitting matrix      :  72% |###############################            | \remitting matrix      :  73% |###############################            | \remitting matrix      :  74% |###############################            | \remitting matrix      :  75% |################################           | \remitting matrix      :  76% |################################           | \remitting matrix      :  77% |#################################          | \remitting matrix      :  78% |#################################          | \remitting matrix      :  79% |##################################         | \remitting matrix      :  80% |##################################         | \remitting matrix      :  81% |##################################         | \remitting matrix      :  82% |###################################        | \remitting matrix      :  83% |###################################        | \remitting matrix      :  84% |####################################       | \remitting matrix      :  85% |####################################       | \remitting matrix      :  86% |#####################################      | \remitting matrix      :  87% |#####################################      | \remitting matrix      :  88% |#####################################      | \remitting matrix      :  89% |######################################     | \remitting matrix      :  90% |######################################     | \remitting matrix      :  91% |#######################################    | \remitting matrix      :  92% |#######################################    | \remitting matrix      :  93% |########################################   | \remitting matrix      :  94% |########################################   | \remitting matrix      :  95% |########################################   | \remitting matrix      :  96% |#########################################  | \remitting matrix      :  97% |#########################################  | \remitting matrix      :  98% |########################################## | \remitting matrix      :  99% |########################################## | \remitting matrix      : 100% |###########################################| \n",
            "\n",
            "done!\n",
            "              precision          recall         F\n",
            "LEVEL 0:    12.8959(57/442) 11.8998(57/479) 12.3779\n",
            "LEVEL 1:    12.2172(54/442) 11.2735(54/479) 11.7264\n",
            "LEVEL 2:    11.7647(52/442) 10.8559(52/479) 11.2921\n",
            "LEVEL 4:    11.7647(52/442) 10.8559(52/479) 11.2921\n",
            "PASS: run-cost-train.sh\n",
            "==================\n",
            "All 3 tests passed\n",
            "==================\n",
            "make[2]: Leaving directory '/tmp/mecab-0.996-ko-0.9.2/tests'\n",
            "make[1]: Leaving directory '/tmp/mecab-0.996-ko-0.9.2/tests'\n",
            "make[1]: Entering directory '/tmp/mecab-0.996-ko-0.9.2'\n",
            "make[1]: Leaving directory '/tmp/mecab-0.996-ko-0.9.2'\n",
            "Making install in src\n",
            "make[1]: Entering directory '/tmp/mecab-0.996-ko-0.9.2/src'\n",
            "make[2]: Entering directory '/tmp/mecab-0.996-ko-0.9.2/src'\n",
            "test -z \"/usr/local/lib\" || /bin/mkdir -p \"/usr/local/lib\"\n",
            " /bin/bash ../libtool   --mode=install /usr/bin/install -c   libmecab.la '/usr/local/lib'\n",
            "libtool: install: /usr/bin/install -c .libs/libmecab.so.2.0.0 /usr/local/lib/libmecab.so.2.0.0\n",
            "libtool: install: (cd /usr/local/lib && { ln -s -f libmecab.so.2.0.0 libmecab.so.2 || { rm -f libmecab.so.2 && ln -s libmecab.so.2.0.0 libmecab.so.2; }; })\n",
            "libtool: install: (cd /usr/local/lib && { ln -s -f libmecab.so.2.0.0 libmecab.so || { rm -f libmecab.so && ln -s libmecab.so.2.0.0 libmecab.so; }; })\n",
            "libtool: install: /usr/bin/install -c .libs/libmecab.lai /usr/local/lib/libmecab.la\n",
            "libtool: install: /usr/bin/install -c .libs/libmecab.a /usr/local/lib/libmecab.a\n",
            "libtool: install: chmod 644 /usr/local/lib/libmecab.a\n",
            "libtool: install: ranlib /usr/local/lib/libmecab.a\n",
            "libtool: finish: PATH=\"/usr/local/sbin:/usr/local/bin:/usr/sbin:/usr/bin:/sbin:/bin:/snap/bin:/sbin\" ldconfig -n /usr/local/lib\n",
            "----------------------------------------------------------------------\n",
            "Libraries have been installed in:\n",
            "   /usr/local/lib\n",
            "\n",
            "If you ever happen to want to link against installed libraries\n",
            "in a given directory, LIBDIR, you must either use libtool, and\n",
            "specify the full pathname of the library, or use the `-LLIBDIR'\n",
            "flag during linking and do at least one of the following:\n",
            "   - add LIBDIR to the `LD_LIBRARY_PATH' environment variable\n",
            "     during execution\n",
            "   - add LIBDIR to the `LD_RUN_PATH' environment variable\n",
            "     during linking\n",
            "   - use the `-Wl,-rpath -Wl,LIBDIR' linker flag\n",
            "   - have your system administrator add LIBDIR to `/etc/ld.so.conf'\n",
            "\n",
            "See any operating system documentation about shared libraries for\n",
            "more information, such as the ld(1) and ld.so(8) manual pages.\n",
            "----------------------------------------------------------------------\n",
            "test -z \"/usr/local/bin\" || /bin/mkdir -p \"/usr/local/bin\"\n",
            "  /bin/bash ../libtool   --mode=install /usr/bin/install -c mecab '/usr/local/bin'\n",
            "libtool: install: /usr/bin/install -c .libs/mecab /usr/local/bin/mecab\n",
            "test -z \"/usr/local/libexec/mecab\" || /bin/mkdir -p \"/usr/local/libexec/mecab\"\n",
            "  /bin/bash ../libtool   --mode=install /usr/bin/install -c mecab-dict-index mecab-dict-gen mecab-cost-train mecab-system-eval mecab-test-gen '/usr/local/libexec/mecab'\n",
            "libtool: install: /usr/bin/install -c .libs/mecab-dict-index /usr/local/libexec/mecab/mecab-dict-index\n",
            "libtool: install: /usr/bin/install -c .libs/mecab-dict-gen /usr/local/libexec/mecab/mecab-dict-gen\n",
            "libtool: install: /usr/bin/install -c .libs/mecab-cost-train /usr/local/libexec/mecab/mecab-cost-train\n",
            "libtool: install: /usr/bin/install -c .libs/mecab-system-eval /usr/local/libexec/mecab/mecab-system-eval\n",
            "libtool: install: /usr/bin/install -c .libs/mecab-test-gen /usr/local/libexec/mecab/mecab-test-gen\n",
            "test -z \"/usr/local/include\" || /bin/mkdir -p \"/usr/local/include\"\n",
            " /usr/bin/install -c -m 644 mecab.h '/usr/local/include'\n",
            "make[2]: Leaving directory '/tmp/mecab-0.996-ko-0.9.2/src'\n",
            "make[1]: Leaving directory '/tmp/mecab-0.996-ko-0.9.2/src'\n",
            "Making install in man\n",
            "make[1]: Entering directory '/tmp/mecab-0.996-ko-0.9.2/man'\n",
            "make[2]: Entering directory '/tmp/mecab-0.996-ko-0.9.2/man'\n",
            "make[2]: Nothing to be done for 'install-exec-am'.\n",
            "test -z \"/usr/local/share/man/man1\" || /bin/mkdir -p \"/usr/local/share/man/man1\"\n",
            " /usr/bin/install -c -m 644 mecab.1 '/usr/local/share/man/man1'\n",
            "make[2]: Leaving directory '/tmp/mecab-0.996-ko-0.9.2/man'\n",
            "make[1]: Leaving directory '/tmp/mecab-0.996-ko-0.9.2/man'\n",
            "Making install in doc\n",
            "make[1]: Entering directory '/tmp/mecab-0.996-ko-0.9.2/doc'\n",
            "make[2]: Entering directory '/tmp/mecab-0.996-ko-0.9.2/doc'\n",
            "make[2]: Nothing to be done for 'install-exec-am'.\n",
            "make[2]: Nothing to be done for 'install-data-am'.\n",
            "make[2]: Leaving directory '/tmp/mecab-0.996-ko-0.9.2/doc'\n",
            "make[1]: Leaving directory '/tmp/mecab-0.996-ko-0.9.2/doc'\n",
            "Making install in tests\n",
            "make[1]: Entering directory '/tmp/mecab-0.996-ko-0.9.2/tests'\n",
            "make[2]: Entering directory '/tmp/mecab-0.996-ko-0.9.2/tests'\n",
            "make[2]: Nothing to be done for 'install-exec-am'.\n",
            "make[2]: Nothing to be done for 'install-data-am'.\n",
            "make[2]: Leaving directory '/tmp/mecab-0.996-ko-0.9.2/tests'\n",
            "make[1]: Leaving directory '/tmp/mecab-0.996-ko-0.9.2/tests'\n",
            "make[1]: Entering directory '/tmp/mecab-0.996-ko-0.9.2'\n",
            "make[2]: Entering directory '/tmp/mecab-0.996-ko-0.9.2'\n",
            "test -z \"/usr/local/bin\" || /bin/mkdir -p \"/usr/local/bin\"\n",
            " /usr/bin/install -c mecab-config '/usr/local/bin'\n",
            "test -z \"/usr/local/etc\" || /bin/mkdir -p \"/usr/local/etc\"\n",
            " /usr/bin/install -c -m 644 mecabrc '/usr/local/etc'\n",
            "make[2]: Leaving directory '/tmp/mecab-0.996-ko-0.9.2'\n",
            "make[1]: Leaving directory '/tmp/mecab-0.996-ko-0.9.2'\n",
            "Install mecab-ko-dic\n",
            "Install mecab-ko-dic\n",
            "mecab-ko-dic-2.1.1-20180720/\n",
            "mecab-ko-dic-2.1.1-20180720/configure\n",
            "mecab-ko-dic-2.1.1-20180720/COPYING\n",
            "mecab-ko-dic-2.1.1-20180720/autogen.sh\n",
            "mecab-ko-dic-2.1.1-20180720/Place-station.csv\n",
            "mecab-ko-dic-2.1.1-20180720/NNG.csv\n",
            "mecab-ko-dic-2.1.1-20180720/README\n",
            "mecab-ko-dic-2.1.1-20180720/EF.csv\n",
            "mecab-ko-dic-2.1.1-20180720/MAG.csv\n",
            "mecab-ko-dic-2.1.1-20180720/Preanalysis.csv\n",
            "mecab-ko-dic-2.1.1-20180720/NNB.csv\n",
            "mecab-ko-dic-2.1.1-20180720/Person-actor.csv\n",
            "mecab-ko-dic-2.1.1-20180720/VV.csv\n",
            "mecab-ko-dic-2.1.1-20180720/Makefile.in\n",
            "mecab-ko-dic-2.1.1-20180720/matrix.def\n",
            "mecab-ko-dic-2.1.1-20180720/EC.csv\n",
            "mecab-ko-dic-2.1.1-20180720/NNBC.csv\n",
            "mecab-ko-dic-2.1.1-20180720/clean\n",
            "mecab-ko-dic-2.1.1-20180720/ChangeLog\n",
            "mecab-ko-dic-2.1.1-20180720/J.csv\n",
            "mecab-ko-dic-2.1.1-20180720/.keep\n",
            "mecab-ko-dic-2.1.1-20180720/feature.def\n",
            "mecab-ko-dic-2.1.1-20180720/Foreign.csv\n",
            "mecab-ko-dic-2.1.1-20180720/XPN.csv\n",
            "mecab-ko-dic-2.1.1-20180720/EP.csv\n",
            "mecab-ko-dic-2.1.1-20180720/NR.csv\n",
            "mecab-ko-dic-2.1.1-20180720/left-id.def\n",
            "mecab-ko-dic-2.1.1-20180720/Place.csv\n",
            "mecab-ko-dic-2.1.1-20180720/Symbol.csv\n",
            "mecab-ko-dic-2.1.1-20180720/dicrc\n",
            "mecab-ko-dic-2.1.1-20180720/NP.csv\n",
            "mecab-ko-dic-2.1.1-20180720/ETM.csv\n",
            "mecab-ko-dic-2.1.1-20180720/IC.csv\n",
            "mecab-ko-dic-2.1.1-20180720/Place-address.csv\n",
            "mecab-ko-dic-2.1.1-20180720/Group.csv\n",
            "mecab-ko-dic-2.1.1-20180720/model.def\n",
            "mecab-ko-dic-2.1.1-20180720/XSN.csv\n",
            "mecab-ko-dic-2.1.1-20180720/INSTALL\n",
            "mecab-ko-dic-2.1.1-20180720/rewrite.def\n",
            "mecab-ko-dic-2.1.1-20180720/Inflect.csv\n",
            "mecab-ko-dic-2.1.1-20180720/configure.ac\n",
            "mecab-ko-dic-2.1.1-20180720/NNP.csv\n",
            "mecab-ko-dic-2.1.1-20180720/CoinedWord.csv\n",
            "mecab-ko-dic-2.1.1-20180720/XSV.csv\n",
            "mecab-ko-dic-2.1.1-20180720/pos-id.def\n",
            "mecab-ko-dic-2.1.1-20180720/Makefile.am\n",
            "mecab-ko-dic-2.1.1-20180720/unk.def\n",
            "mecab-ko-dic-2.1.1-20180720/missing\n",
            "mecab-ko-dic-2.1.1-20180720/VCP.csv\n",
            "mecab-ko-dic-2.1.1-20180720/install-sh\n",
            "mecab-ko-dic-2.1.1-20180720/Hanja.csv\n",
            "mecab-ko-dic-2.1.1-20180720/MAJ.csv\n",
            "mecab-ko-dic-2.1.1-20180720/XSA.csv\n",
            "mecab-ko-dic-2.1.1-20180720/Wikipedia.csv\n",
            "mecab-ko-dic-2.1.1-20180720/tools/\n",
            "mecab-ko-dic-2.1.1-20180720/tools/add-userdic.sh\n",
            "mecab-ko-dic-2.1.1-20180720/tools/mecab-bestn.sh\n",
            "mecab-ko-dic-2.1.1-20180720/tools/convert_for_using_store.sh\n",
            "mecab-ko-dic-2.1.1-20180720/user-dic/\n",
            "mecab-ko-dic-2.1.1-20180720/user-dic/nnp.csv\n",
            "mecab-ko-dic-2.1.1-20180720/user-dic/place.csv\n",
            "mecab-ko-dic-2.1.1-20180720/user-dic/person.csv\n",
            "mecab-ko-dic-2.1.1-20180720/user-dic/README.md\n",
            "mecab-ko-dic-2.1.1-20180720/NorthKorea.csv\n",
            "mecab-ko-dic-2.1.1-20180720/VX.csv\n",
            "mecab-ko-dic-2.1.1-20180720/right-id.def\n",
            "mecab-ko-dic-2.1.1-20180720/VA.csv\n",
            "mecab-ko-dic-2.1.1-20180720/char.def\n",
            "mecab-ko-dic-2.1.1-20180720/NEWS\n",
            "mecab-ko-dic-2.1.1-20180720/MM.csv\n",
            "mecab-ko-dic-2.1.1-20180720/ETN.csv\n",
            "mecab-ko-dic-2.1.1-20180720/AUTHORS\n",
            "mecab-ko-dic-2.1.1-20180720/Person.csv\n",
            "mecab-ko-dic-2.1.1-20180720/XR.csv\n",
            "mecab-ko-dic-2.1.1-20180720/VCN.csv\n",
            "Looking in current directory for macros.\n",
            "checking for a BSD-compatible install... /usr/bin/install -c\n",
            "checking whether build environment is sane... yes\n",
            "checking for a thread-safe mkdir -p... /bin/mkdir -p\n",
            "checking for gawk... no\n",
            "checking for mawk... mawk\n",
            "checking whether make sets $(MAKE)... yes\n",
            "checking whether make supports nested variables... yes\n",
            "checking for mecab-config... /usr/local/bin/mecab-config\n",
            "checking that generated files are newer than configure... done\n",
            "configure: creating ./config.status\n",
            "config.status: creating Makefile\n",
            "/usr/local/lib\n",
            "/usr/local/libexec/mecab/mecab-dict-index -d . -o . -f UTF-8 -t UTF-8\n",
            "reading ./unk.def ... 13\n",
            "emitting double-array:   7% |###                                        | \remitting double-array:  15% |######                                     | \remitting double-array:  23% |#########                                  | \remitting double-array:  30% |#############                              | \remitting double-array:  38% |################                           | \remitting double-array:  46% |###################                        | \remitting double-array:  53% |#######################                    | \remitting double-array:  61% |##########################                 | \remitting double-array:  69% |#############################              | \remitting double-array:  76% |#################################          | \remitting double-array:  84% |####################################       | \remitting double-array:  92% |#######################################    | \remitting double-array: 100% |###########################################| \n",
            "reading ./EC.csv ... 2547\n",
            "reading ./VX.csv ... 125\n",
            "reading ./MM.csv ... 453\n",
            "reading ./XSV.csv ... 23\n",
            "reading ./Place.csv ... 30303\n",
            "reading ./Inflect.csv ... 44820\n",
            "reading ./EP.csv ... 51\n",
            "reading ./Group.csv ... 3176\n",
            "reading ./XSA.csv ... 19\n",
            "reading ./Place-address.csv ... 19301\n",
            "reading ./Hanja.csv ... 125750\n",
            "reading ./XSN.csv ... 124\n",
            "reading ./CoinedWord.csv ... 148\n",
            "reading ./MAJ.csv ... 240\n",
            "reading ./VCP.csv ... 9\n",
            "reading ./VCN.csv ... 7\n",
            "reading ./NP.csv ... 342\n",
            "reading ./Symbol.csv ... 16\n",
            "reading ./NR.csv ... 482\n",
            "reading ./Person.csv ... 196459\n",
            "reading ./NNBC.csv ... 677\n",
            "reading ./ETM.csv ... 133\n",
            "reading ./VA.csv ... 2360\n",
            "reading ./Place-station.csv ... 1145\n",
            "reading ./NNP.csv ... 2371\n",
            "reading ./Person-actor.csv ... 99230\n",
            "reading ./MAG.csv ... 14242\n",
            "reading ./VV.csv ... 7331\n",
            "reading ./XR.csv ... 3637\n",
            "reading ./NNB.csv ... 140\n",
            "reading ./EF.csv ... 1820\n",
            "reading ./IC.csv ... 1305\n",
            "reading ./NorthKorea.csv ... 3\n",
            "reading ./Preanalysis.csv ... 5\n",
            "reading ./Foreign.csv ... 11690\n",
            "reading ./XPN.csv ... 83\n",
            "reading ./Wikipedia.csv ... 36762\n",
            "reading ./NNG.csv ... 208524\n",
            "reading ./ETN.csv ... 14\n",
            "reading ./J.csv ... 416\n",
            "emitting double-array:   0% |                                           | \remitting double-array:   1% |                                           | \remitting double-array:   2% |                                           | \remitting double-array:   3% |#                                          | \remitting double-array:   4% |#                                          | \remitting double-array:   5% |##                                         | \remitting double-array:   6% |##                                         | \remitting double-array:   7% |###                                        | \remitting double-array:   8% |###                                        | \remitting double-array:   9% |###                                        | \remitting double-array:  10% |####                                       | \remitting double-array:  11% |####                                       | \remitting double-array:  12% |#####                                      | \remitting double-array:  13% |#####                                      | \remitting double-array:  14% |######                                     | \remitting double-array:  15% |######                                     | \remitting double-array:  16% |######                                     | \remitting double-array:  17% |#######                                    | \remitting double-array:  18% |#######                                    | \remitting double-array:  19% |########                                   | \remitting double-array:  20% |########                                   | \remitting double-array:  21% |#########                                  | \remitting double-array:  22% |#########                                  | \remitting double-array:  23% |#########                                  | \remitting double-array:  24% |##########                                 | \remitting double-array:  25% |##########                                 | \remitting double-array:  26% |###########                                | \remitting double-array:  27% |###########                                | \remitting double-array:  28% |############                               | \remitting double-array:  29% |############                               | \remitting double-array:  30% |############                               | \remitting double-array:  31% |#############                              | \remitting double-array:  32% |#############                              | \remitting double-array:  33% |##############                             | \remitting double-array:  34% |##############                             | \remitting double-array:  35% |###############                            | \remitting double-array:  36% |###############                            | \remitting double-array:  37% |###############                            | \remitting double-array:  38% |################                           | \remitting double-array:  39% |################                           | \remitting double-array:  40% |#################                          | \remitting double-array:  41% |#################                          | \remitting double-array:  42% |##################                         | \remitting double-array:  43% |##################                         | \remitting double-array:  44% |##################                         | \remitting double-array:  45% |###################                        | \remitting double-array:  46% |###################                        | \remitting double-array:  47% |####################                       | \remitting double-array:  48% |####################                       | \remitting double-array:  49% |#####################                      | \remitting double-array:  50% |#####################                      | \remitting double-array:  51% |#####################                      | \remitting double-array:  52% |######################                     | \remitting double-array:  53% |######################                     | \remitting double-array:  54% |#######################                    | \remitting double-array:  55% |#######################                    | \remitting double-array:  56% |########################                   | \remitting double-array:  57% |########################                   | \remitting double-array:  58% |########################                   | \remitting double-array:  59% |#########################                  | \remitting double-array:  60% |#########################                  | \remitting double-array:  61% |##########################                 | \remitting double-array:  62% |##########################                 | \remitting double-array:  63% |###########################                | \remitting double-array:  64% |###########################                | \remitting double-array:  65% |###########################                | \remitting double-array:  66% |############################               | \remitting double-array:  67% |############################               | \remitting double-array:  68% |#############################              | \remitting double-array:  69% |#############################              | \remitting double-array:  70% |##############################             | \remitting double-array:  71% |##############################             | \remitting double-array:  72% |##############################             | \remitting double-array:  73% |###############################            | \remitting double-array:  74% |###############################            | \remitting double-array:  75% |################################           | \remitting double-array:  76% |################################           | \remitting double-array:  77% |#################################          | \remitting double-array:  78% |#################################          | \remitting double-array:  79% |#################################          | \remitting double-array:  80% |##################################         | \remitting double-array:  81% |##################################         | \remitting double-array:  82% |###################################        | \remitting double-array:  83% |###################################        | \remitting double-array:  84% |####################################       | \remitting double-array:  85% |####################################       | \remitting double-array:  86% |####################################       | \remitting double-array:  87% |#####################################      | \remitting double-array:  88% |#####################################      | \remitting double-array:  89% |######################################     | \remitting double-array:  90% |######################################     | \remitting double-array:  91% |#######################################    | \remitting double-array:  92% |#######################################    | \remitting double-array:  93% |#######################################    | \remitting double-array:  94% |########################################   | \remitting double-array:  95% |########################################   | \remitting double-array:  96% |#########################################  | \remitting double-array:  97% |#########################################  | \remitting double-array:  98% |########################################## | \remitting double-array:  99% |########################################## | \remitting double-array: 100% |###########################################| \n",
            "reading ./matrix.def ... 3822x2693\n",
            "emitting matrix      :   0% |                                           | \remitting matrix      :   1% |                                           | \remitting matrix      :   2% |                                           | \remitting matrix      :   3% |#                                          | \remitting matrix      :   4% |#                                          | \remitting matrix      :   5% |##                                         | \remitting matrix      :   6% |##                                         | \remitting matrix      :   7% |###                                        | \remitting matrix      :   8% |###                                        | \remitting matrix      :   9% |###                                        | \remitting matrix      :  10% |####                                       | \remitting matrix      :  11% |####                                       | \remitting matrix      :  12% |#####                                      | \remitting matrix      :  13% |#####                                      | \remitting matrix      :  14% |######                                     | \remitting matrix      :  15% |######                                     | \remitting matrix      :  16% |######                                     | \remitting matrix      :  17% |#######                                    | \remitting matrix      :  18% |#######                                    | \remitting matrix      :  19% |########                                   | \remitting matrix      :  20% |########                                   | \remitting matrix      :  21% |#########                                  | \remitting matrix      :  22% |#########                                  | \remitting matrix      :  23% |#########                                  | \remitting matrix      :  24% |##########                                 | \remitting matrix      :  25% |##########                                 | \remitting matrix      :  26% |###########                                | \remitting matrix      :  27% |###########                                | \remitting matrix      :  28% |############                               | \remitting matrix      :  29% |############                               | \remitting matrix      :  30% |############                               | \remitting matrix      :  31% |#############                              | \remitting matrix      :  32% |#############                              | \remitting matrix      :  33% |##############                             | \remitting matrix      :  34% |##############                             | \remitting matrix      :  35% |###############                            | \remitting matrix      :  36% |###############                            | \remitting matrix      :  37% |###############                            | \remitting matrix      :  38% |################                           | \remitting matrix      :  39% |################                           | \remitting matrix      :  40% |#################                          | \remitting matrix      :  41% |#################                          | \remitting matrix      :  42% |##################                         | \remitting matrix      :  43% |##################                         | \remitting matrix      :  44% |##################                         | \remitting matrix      :  45% |###################                        | \remitting matrix      :  46% |###################                        | \remitting matrix      :  47% |####################                       | \remitting matrix      :  48% |####################                       | \remitting matrix      :  49% |#####################                      | \remitting matrix      :  50% |#####################                      | \remitting matrix      :  51% |#####################                      | \remitting matrix      :  52% |######################                     | \remitting matrix      :  53% |######################                     | \remitting matrix      :  54% |#######################                    | \remitting matrix      :  55% |#######################                    | \remitting matrix      :  56% |########################                   | \remitting matrix      :  57% |########################                   | \remitting matrix      :  58% |########################                   | \remitting matrix      :  59% |#########################                  | \remitting matrix      :  60% |#########################                  | \remitting matrix      :  61% |##########################                 | \remitting matrix      :  62% |##########################                 | \remitting matrix      :  63% |###########################                | \remitting matrix      :  64% |###########################                | \remitting matrix      :  65% |###########################                | \remitting matrix      :  66% |############################               | \remitting matrix      :  67% |############################               | \remitting matrix      :  68% |#############################              | \remitting matrix      :  69% |#############################              | \remitting matrix      :  70% |##############################             | \remitting matrix      :  71% |##############################             | \remitting matrix      :  72% |##############################             | \remitting matrix      :  73% |###############################            | \remitting matrix      :  74% |###############################            | \remitting matrix      :  75% |################################           | \remitting matrix      :  76% |################################           | \remitting matrix      :  77% |#################################          | \remitting matrix      :  78% |#################################          | \remitting matrix      :  79% |#################################          | \remitting matrix      :  80% |##################################         | \remitting matrix      :  81% |##################################         | \remitting matrix      :  82% |###################################        | \remitting matrix      :  83% |###################################        | \remitting matrix      :  84% |####################################       | \remitting matrix      :  85% |####################################       | \remitting matrix      :  86% |####################################       | \remitting matrix      :  87% |#####################################      | \remitting matrix      :  88% |#####################################      | \remitting matrix      :  89% |######################################     | \remitting matrix      :  90% |######################################     | \remitting matrix      :  91% |#######################################    | \remitting matrix      :  92% |#######################################    | \remitting matrix      :  93% |#######################################    | \remitting matrix      :  94% |########################################   | \remitting matrix      :  95% |########################################   | \remitting matrix      :  96% |#########################################  | \remitting matrix      :  97% |#########################################  | \remitting matrix      :  98% |########################################## | \remitting matrix      :  99% |########################################## | \remitting matrix      : 100% |###########################################| \n",
            "\n",
            "done!\n",
            "echo To enable dictionary, rewrite /usr/local/etc/mecabrc as \\\"dicdir = /usr/local/lib/mecab/dic/mecab-ko-dic\\\"\n",
            "To enable dictionary, rewrite /usr/local/etc/mecabrc as \"dicdir = /usr/local/lib/mecab/dic/mecab-ko-dic\"\n",
            "make[1]: Entering directory '/tmp/mecab-ko-dic-2.1.1-20180720'\n",
            "make[1]: Nothing to be done for 'install-exec-am'.\n",
            " /bin/mkdir -p '/usr/local/lib/mecab/dic/mecab-ko-dic'\n",
            " /usr/bin/install -c -m 644 model.bin matrix.bin char.bin sys.dic unk.dic left-id.def right-id.def rewrite.def pos-id.def dicrc '/usr/local/lib/mecab/dic/mecab-ko-dic'\n",
            "make[1]: Leaving directory '/tmp/mecab-ko-dic-2.1.1-20180720'\n",
            "Install mecab-python\n",
            "/tmp /tmp/mecab-ko-dic-2.1.1-20180720\n",
            "/tmp/mecab-ko-dic-2.1.1-20180720\n",
            "Processing /tmp/mecab-python-0.996\n",
            "Building wheels for collected packages: mecab-python\n",
            "  Building wheel for mecab-python (setup.py): started\n",
            "  Building wheel for mecab-python (setup.py): finished with status 'done'\n",
            "  Created wheel for mecab-python: filename=mecab_python-0.996_ko_0.9.2-cp37-cp37m-linux_x86_64.whl size=141808 sha256=a7021443be56250640f794ce61bbee3f0d84c02a2ffd4a8868354b2279524fd8\n",
            "  Stored in directory: /root/.cache/pip/wheels/99/75/a6/e9e73a1dbd73579383644942ef18a6d17ad728a3052a1147fb\n",
            "Successfully built mecab-python\n",
            "Installing collected packages: mecab-python\n",
            "Successfully installed mecab-python-0.996-ko-0.9.2\n",
            "Done.\n",
            "Processing /tmp/mecab-python-0.996\n",
            "Building wheels for collected packages: mecab-python\n",
            "  Building wheel for mecab-python (setup.py): started\n",
            "  Building wheel for mecab-python (setup.py): finished with status 'done'\n",
            "  Created wheel for mecab-python: filename=mecab_python-0.996_ko_0.9.2-cp37-cp37m-linux_x86_64.whl size=141798 sha256=eecac48a85a42382c4df299c2abc632ab24879d196065cf6c7344a52acc37564\n",
            "  Stored in directory: /root/.cache/pip/wheels/99/75/a6/e9e73a1dbd73579383644942ef18a6d17ad728a3052a1147fb\n",
            "Successfully built mecab-python\n",
            "Installing collected packages: mecab-python\n",
            "  Found existing installation: mecab-python 0.996-ko-0.9.2\n",
            "    Uninstalling mecab-python-0.996-ko-0.9.2:\n",
            "      Successfully uninstalled mecab-python-0.996-ko-0.9.2\n",
            "Successfully installed mecab-python-0.996-ko-0.9.2\n"
          ],
          "name": "stdout"
        },
        {
          "output_type": "stream",
          "text": [
            "debconf: unable to initialize frontend: Dialog\n",
            "debconf: (No usable dialog-like program is installed, so the dialog based frontend cannot be used. at /usr/share/perl5/Debconf/FrontEnd/Dialog.pm line 76, <> line 5.)\n",
            "debconf: falling back to frontend: Readline\n",
            "debconf: unable to initialize frontend: Readline\n",
            "debconf: (This frontend requires a controlling tty.)\n",
            "debconf: falling back to frontend: Teletype\n",
            "dpkg-preconfigure: unable to re-open stdin: \n",
            "  % Total    % Received % Xferd  Average Speed   Time    Time     Time  Current\n",
            "                                 Dload  Upload   Total   Spent    Left  Speed\n",
            "\r  0     0    0     0    0     0      0      0 --:--:-- --:--:-- --:--:--     0\r  0     0    0     0    0     0      0      0 --:--:-- --:--:-- --:--:--     0\n",
            "\r  0     0    0     0    0     0      0      0 --:--:-- --:--:-- --:--:--     0\r100 1381k  100 1381k    0     0  2921k      0 --:--:-- --:--:-- --:--:-- 7676k\n",
            "./configure: line 7378: /usr/bin/file: No such file or directory\n",
            "In file included from viterbi.cpp:14:0:\n",
            "param.h:30:13: warning: 'Target {anonymous}::lexical_cast(Source) [with Target = std::__cxx11::basic_string<char>; Source = std::__cxx11::basic_string<char>]' defined but not used [-Wunused-function]\n",
            " std::string lexical_cast<std::string, std::string>(std::string arg) {\n",
            "             ^~~~~~~~~~~~~~~~~~~~~~~~~~~~~~~~~~~~~~\n",
            "learner_tagger.cpp:25:7: warning: 'char* MeCab::{anonymous}::mystrdup(const string&)' defined but not used [-Wunused-function]\n",
            " char *mystrdup(const std::string &str) {\n",
            "       ^~~~~~~~\n",
            "ar: `u' modifier ignored since `D' is the default (see `U')\n",
            "./pos-id.def is not found. minimum setting is used\n",
            "./pos-id.def is not found. minimum setting is used\n",
            "./pos-id.def is not found. minimum setting is used\n",
            "./pos-id.def is not found. minimum setting is used\n",
            "./pos-id.def is not found. minimum setting is used\n",
            "./pos-id.def is not found. minimum setting is used\n",
            "./pos-id.def is not found. minimum setting is used\n",
            "./pos-id.def is not found. minimum setting is used\n",
            "./pos-id.def is not found. minimum setting is used\n",
            "./pos-id.def is not found. minimum setting is used\n",
            "./pos-id.def is not found. minimum setting is used\n",
            "./pos-id.def is not found. minimum setting is used\n",
            "./pos-id.def is not found. minimum setting is used\n",
            "./pos-id.def is not found. minimum setting is used\n",
            "seed/pos-id.def is not found. minimum setting is used\n",
            "seed/pos-id.def is not found. minimum setting is used\n",
            "model-ipadic.c1.0.f1.dic/pos-id.def is not found. minimum setting is used\n",
            "model-ipadic.c1.0.f1.dic/pos-id.def is not found. minimum setting is used\n",
            "  % Total    % Received % Xferd  Average Speed   Time    Time     Time  Current\n",
            "                                 Dload  Upload   Total   Spent    Left  Speed\n",
            "\r  0     0    0     0    0     0      0      0 --:--:-- --:--:-- --:--:--     0\r  0     0    0     0    0     0      0      0 --:--:-- --:--:-- --:--:--     0\n",
            "\r 53 47.4M   53 25.2M    0     0  26.7M      0  0:00:01 --:--:--  0:00:01 26.7M\r100 47.4M  100 47.4M    0     0  33.7M      0  0:00:01  0:00:01 --:--:-- 47.9M\n",
            "configure.ac:2: warning: AM_INIT_AUTOMAKE: two- and three-arguments forms are deprecated.  For more info, see:\n",
            "configure.ac:2: http://www.gnu.org/software/automake/manual/automake.html#Modernize-AM_005fINIT_005fAUTOMAKE-invocation\n",
            "/tmp/mecab-ko-dic-2.1.1-20180720/missing: Unknown `--is-lightweight' option\n",
            "Try `/tmp/mecab-ko-dic-2.1.1-20180720/missing --help' for more information\n",
            "configure: WARNING: 'missing' script is too old or missing\n",
            "/sbin/ldconfig.real: /usr/local/lib/python3.7/dist-packages/ideep4py/lib/libmkldnn.so.0 is not a symbolic link\n",
            "\n",
            "Cloning into 'mecab-python-0.996'...\n"
          ],
          "name": "stderr"
        }
      ]
    },
    {
      "cell_type": "code",
      "metadata": {
        "colab": {
          "base_uri": "https://localhost:8080/"
        },
        "id": "TTXT-624keEo",
        "outputId": "948e7194-ed5a-4b30-95d0-3973c822e595"
      },
      "source": [
        "!git clone https://github.com/entelecheia/eKoNLpy.git"
      ],
      "execution_count": 5,
      "outputs": [
        {
          "output_type": "stream",
          "text": [
            "Cloning into 'eKoNLpy'...\n",
            "remote: Enumerating objects: 3590, done.\u001b[K\n",
            "remote: Total 3590 (delta 0), reused 0 (delta 0), pack-reused 3590\u001b[K\n",
            "Receiving objects: 100% (3590/3590), 73.30 MiB | 23.63 MiB/s, done.\n",
            "Resolving deltas: 100% (2618/2618), done.\n"
          ],
          "name": "stdout"
        }
      ]
    },
    {
      "cell_type": "code",
      "metadata": {
        "colab": {
          "base_uri": "https://localhost:8080/"
        },
        "id": "mr5sl8JlklZo",
        "outputId": "547994e8-8d04-4972-a167-424901987396"
      },
      "source": [
        "!pip install /content/eKoNLpy"
      ],
      "execution_count": 6,
      "outputs": [
        {
          "output_type": "stream",
          "text": [
            "Processing ./eKoNLpy\n",
            "Requirement already satisfied: konlpy>=0.4.4 in /usr/local/lib/python3.7/dist-packages (from eKoNLPy==0.5.30) (0.5.2)\n",
            "Requirement already satisfied: nltk>=2.0 in /usr/local/lib/python3.7/dist-packages (from eKoNLPy==0.5.30) (3.2.5)\n",
            "Requirement already satisfied: gensim>=3.1.0 in /usr/local/lib/python3.7/dist-packages (from eKoNLPy==0.5.30) (3.6.0)\n",
            "Requirement already satisfied: scipy>=0.19.1 in /usr/local/lib/python3.7/dist-packages (from eKoNLPy==0.5.30) (1.4.1)\n",
            "Requirement already satisfied: numpy>=1.13 in /usr/local/lib/python3.7/dist-packages (from eKoNLPy==0.5.30) (1.19.5)\n",
            "Requirement already satisfied: beautifulsoup4==4.6.0 in /usr/local/lib/python3.7/dist-packages (from konlpy>=0.4.4->eKoNLPy==0.5.30) (4.6.0)\n",
            "Requirement already satisfied: colorama in /usr/local/lib/python3.7/dist-packages (from konlpy>=0.4.4->eKoNLPy==0.5.30) (0.4.4)\n",
            "Requirement already satisfied: tweepy>=3.7.0 in /usr/local/lib/python3.7/dist-packages (from konlpy>=0.4.4->eKoNLPy==0.5.30) (3.10.0)\n",
            "Requirement already satisfied: lxml>=4.1.0 in /usr/local/lib/python3.7/dist-packages (from konlpy>=0.4.4->eKoNLPy==0.5.30) (4.2.6)\n",
            "Requirement already satisfied: JPype1>=0.7.0 in /usr/local/lib/python3.7/dist-packages (from konlpy>=0.4.4->eKoNLPy==0.5.30) (1.2.1)\n",
            "Requirement already satisfied: six in /usr/local/lib/python3.7/dist-packages (from nltk>=2.0->eKoNLPy==0.5.30) (1.15.0)\n",
            "Requirement already satisfied: smart-open>=1.2.1 in /usr/local/lib/python3.7/dist-packages (from gensim>=3.1.0->eKoNLPy==0.5.30) (5.0.0)\n",
            "Requirement already satisfied: requests[socks]>=2.11.1 in /usr/local/lib/python3.7/dist-packages (from tweepy>=3.7.0->konlpy>=0.4.4->eKoNLPy==0.5.30) (2.23.0)\n",
            "Requirement already satisfied: requests-oauthlib>=0.7.0 in /usr/local/lib/python3.7/dist-packages (from tweepy>=3.7.0->konlpy>=0.4.4->eKoNLPy==0.5.30) (1.3.0)\n",
            "Requirement already satisfied: typing-extensions; python_version < \"3.8\" in /usr/local/lib/python3.7/dist-packages (from JPype1>=0.7.0->konlpy>=0.4.4->eKoNLPy==0.5.30) (3.7.4.3)\n",
            "Requirement already satisfied: certifi>=2017.4.17 in /usr/local/lib/python3.7/dist-packages (from requests[socks]>=2.11.1->tweepy>=3.7.0->konlpy>=0.4.4->eKoNLPy==0.5.30) (2020.12.5)\n",
            "Requirement already satisfied: urllib3!=1.25.0,!=1.25.1,<1.26,>=1.21.1 in /usr/local/lib/python3.7/dist-packages (from requests[socks]>=2.11.1->tweepy>=3.7.0->konlpy>=0.4.4->eKoNLPy==0.5.30) (1.24.3)\n",
            "Requirement already satisfied: chardet<4,>=3.0.2 in /usr/local/lib/python3.7/dist-packages (from requests[socks]>=2.11.1->tweepy>=3.7.0->konlpy>=0.4.4->eKoNLPy==0.5.30) (3.0.4)\n",
            "Requirement already satisfied: idna<3,>=2.5 in /usr/local/lib/python3.7/dist-packages (from requests[socks]>=2.11.1->tweepy>=3.7.0->konlpy>=0.4.4->eKoNLPy==0.5.30) (2.10)\n",
            "Requirement already satisfied: PySocks!=1.5.7,>=1.5.6; extra == \"socks\" in /usr/local/lib/python3.7/dist-packages (from requests[socks]>=2.11.1->tweepy>=3.7.0->konlpy>=0.4.4->eKoNLPy==0.5.30) (1.7.1)\n",
            "Requirement already satisfied: oauthlib>=3.0.0 in /usr/local/lib/python3.7/dist-packages (from requests-oauthlib>=0.7.0->tweepy>=3.7.0->konlpy>=0.4.4->eKoNLPy==0.5.30) (3.1.0)\n",
            "Building wheels for collected packages: eKoNLPy\n",
            "  Building wheel for eKoNLPy (setup.py) ... \u001b[?25l\u001b[?25hdone\n",
            "  Created wheel for eKoNLPy: filename=eKoNLPy-0.5.30-cp37-none-any.whl size=14437140 sha256=4007a1dd6f2c20bfc4feddf28322b92f3e4afaa01dc5a67d6ff4ccb9a9243ad2\n",
            "  Stored in directory: /tmp/pip-ephem-wheel-cache-t7na7ba1/wheels/42/07/b6/a197e00efdc4534f4c1d281bd028c47764df1a63a8b311aa3d\n",
            "Successfully built eKoNLPy\n",
            "Installing collected packages: eKoNLPy\n",
            "Successfully installed eKoNLPy-0.5.30\n"
          ],
          "name": "stdout"
        }
      ]
    },
    {
      "cell_type": "markdown",
      "metadata": {
        "id": "M1pyampskzvQ"
      },
      "source": [
        "# import"
      ]
    },
    {
      "cell_type": "code",
      "metadata": {
        "id": "wuSG_ljLku2A"
      },
      "source": [
        "import konlpy\n",
        "from ekonlpy.tag import Mecab\n",
        "\n",
        "import pandas as pd\n",
        "import numpy as np\n",
        "import matplotlib.pyplot as plt\n",
        "\n",
        "import logging # word2vec 학습과정에서 로그 메세지를 양식에 맞는 info 수준으로 볼 수 있다.\n",
        "from gensim.models import word2vec\n",
        "\n",
        "from sklearn.feature_extraction.text import TfidfVectorizer #TF-IDF\n",
        "from gensim.models.doc2vec import TaggedDocument,Doc2Vec\n",
        "\n",
        "from sklearn.model_selection import train_test_split, cross_validate, cross_val_score\n",
        "\n",
        "from sklearn.neighbors import KNeighborsClassifier \n",
        "\n",
        "from sklearn.linear_model import LogisticRegression\n",
        "\n",
        "from sklearn.linear_model import SGDClassifier\n",
        "from sklearn.metrics import confusion_matrix, classification_report\n",
        "\n",
        "from sklearn.preprocessing import StandardScaler\n",
        "\n",
        "from sklearn.model_selection import GridSearchCV,RandomizedSearchCV # 하이퍼 파라미터 튜닝\n",
        "from sklearn.tree import DecisionTreeClassifier, plot_tree\n",
        "from sklearn.metrics import confusion_matrix, classification_report"
      ],
      "execution_count": 7,
      "outputs": []
    },
    {
      "cell_type": "markdown",
      "metadata": {
        "id": "_iq9dX2znkoB"
      },
      "source": [
        "# 뉴스 기사 불러오기"
      ]
    },
    {
      "cell_type": "code",
      "metadata": {
        "id": "HEKeKGLXnoH3"
      },
      "source": [
        "data = pd.read_excel('/content/drive/MyDrive/Colab Notebooks/Project/C01_KM_Data_LabelingResult.xlsx',sheet_name='Sheet2',header=0)"
      ],
      "execution_count": 8,
      "outputs": []
    },
    {
      "cell_type": "code",
      "metadata": {
        "colab": {
          "base_uri": "https://localhost:8080/",
          "height": 0
        },
        "id": "KStl8nK6smMY",
        "outputId": "d8c8c376-94e8-44f6-eefc-4810d626e919"
      },
      "source": [
        "data[:1]"
      ],
      "execution_count": 9,
      "outputs": [
        {
          "output_type": "execute_result",
          "data": {
            "text/html": [
              "<div>\n",
              "<style scoped>\n",
              "    .dataframe tbody tr th:only-of-type {\n",
              "        vertical-align: middle;\n",
              "    }\n",
              "\n",
              "    .dataframe tbody tr th {\n",
              "        vertical-align: top;\n",
              "    }\n",
              "\n",
              "    .dataframe thead th {\n",
              "        text-align: right;\n",
              "    }\n",
              "</style>\n",
              "<table border=\"1\" class=\"dataframe\">\n",
              "  <thead>\n",
              "    <tr style=\"text-align: right;\">\n",
              "      <th></th>\n",
              "      <th>No</th>\n",
              "      <th>Code</th>\n",
              "      <th>Date</th>\n",
              "      <th>Journal</th>\n",
              "      <th>Title</th>\n",
              "      <th>Text</th>\n",
              "      <th>URL</th>\n",
              "      <th>Sample Y/N</th>\n",
              "      <th>In Charge</th>\n",
              "      <th>S</th>\n",
              "    </tr>\n",
              "  </thead>\n",
              "  <tbody>\n",
              "    <tr>\n",
              "      <th>0</th>\n",
              "      <td>52</td>\n",
              "      <td>5930</td>\n",
              "      <td>2021.04.13 17:50</td>\n",
              "      <td>파이낸셜뉴스</td>\n",
              "      <td>삼성전자 사내식당 2곳, 신세계·풀무원이 운영한다</td>\n",
              "      <td>삼성전자가 사내식당 2곳에 대해 실시한 외부 급식업체 경쟁입찰에서 '신세계푸드'와 ...</td>\n",
              "      <td>https://finance.naver.com/item/news_read.nhn?a...</td>\n",
              "      <td>Y</td>\n",
              "      <td>JY</td>\n",
              "      <td>1</td>\n",
              "    </tr>\n",
              "  </tbody>\n",
              "</table>\n",
              "</div>"
            ],
            "text/plain": [
              "   No  Code              Date  ... Sample Y/N In Charge  S\n",
              "0  52  5930  2021.04.13 17:50  ...          Y        JY  1\n",
              "\n",
              "[1 rows x 10 columns]"
            ]
          },
          "metadata": {
            "tags": []
          },
          "execution_count": 9
        }
      ]
    },
    {
      "cell_type": "code",
      "metadata": {
        "colab": {
          "base_uri": "https://localhost:8080/"
        },
        "id": "PWTGqXd-2WTn",
        "outputId": "1ee996cb-cbb9-4a62-f2af-1d7c032f4056"
      },
      "source": [
        "len(data)"
      ],
      "execution_count": 10,
      "outputs": [
        {
          "output_type": "execute_result",
          "data": {
            "text/plain": [
              "1600"
            ]
          },
          "metadata": {
            "tags": []
          },
          "execution_count": 10
        }
      ]
    },
    {
      "cell_type": "markdown",
      "metadata": {
        "id": "CW-AVNp3rypY"
      },
      "source": [
        "# 데이터 정제"
      ]
    },
    {
      "cell_type": "code",
      "metadata": {
        "id": "lI5O6PFdn0EA"
      },
      "source": [
        "# 중복기사 제거\n",
        "data = data.drop_duplicates(subset=['Date', 'Text'], keep='first')"
      ],
      "execution_count": 11,
      "outputs": []
    },
    {
      "cell_type": "code",
      "metadata": {
        "colab": {
          "base_uri": "https://localhost:8080/",
          "height": 136
        },
        "id": "e37D5hDMsSJn",
        "outputId": "57f4f11c-8360-4846-88c0-877758e4478a"
      },
      "source": [
        "data.iloc[0]['Text'].split(sep='@')[0]"
      ],
      "execution_count": 12,
      "outputs": [
        {
          "output_type": "execute_result",
          "data": {
            "application/vnd.google.colaboratory.intrinsic+json": {
              "type": "string"
            },
            "text/plain": [
              "'삼성전자가 사내식당 2곳에 대해 실시한 외부 급식업체 경쟁입찰에서 \\'신세계푸드\\'와 \\'풀무원푸드앤컬처\\'가 운영 업체로 선정됐다고 13일 밝혔다.    삼성전자는 지난 2월, 단체급식의 다양한 메뉴와 향상된 서비스를 통해 임직원의 복리후생을 향상시키고자 수원사업장과 기흥사업장 내 사내식당 2곳에 대해 공개 입찰을 공고했다.    약 20개 업체가 참여한 이번 입찰은 서류 심사를 거쳐 △메뉴 구성과 서비스 등을 평가하는 프레젠테이션 △업체의 인프라와 위생 등을 점검하는 현장 실사 △임직원 음식 품평회까지 총 3단계에 걸친 엄격하고 공정한 절차를 통해 진행됐다. 기존에 단체급식을 공급했던웰스토리는 이 입찰에서 배제됐다.    최종 선정된 \\'신세계푸드\\'와 \\'풀무원푸드앤컬처\\'는 약 한달 반 동안 고용승계, 업무인수 등을 마친 후 6월 1일부터 운영을 시작할 예정이다. 삼성전자 관계자는 \"신규 업체에 대한 임직원 만족도와 운영상 보완점 등을 검토 후에 다른 사내식당에 대해서도 경쟁입찰을 확대해 나갈 계획\"이라고 말했다.  ahnman'"
            ]
          },
          "metadata": {
            "tags": []
          },
          "execution_count": 12
        }
      ]
    },
    {
      "cell_type": "code",
      "metadata": {
        "colab": {
          "base_uri": "https://localhost:8080/"
        },
        "id": "4gQlf65eoQY5",
        "outputId": "7c198b0b-d394-4a65-abd8-272a71b7761a"
      },
      "source": [
        "# 기사 본문 기자의 이메일 OOOO @ asdfas.com 에서 @ 전 까지의 내용으로 저장\n",
        "for i in range(len(data)):\n",
        "    data.iloc[i]['Text'] = data.iloc[i]['Text'].split(sep='@')[0]\n",
        "\n",
        "# 파일 새로 저장\n",
        "data.to_excel('/content/drive/MyDrive/Colab Notebooks/Project/article.xlsx',index=False)\n",
        "# 다시 불러 오기\n",
        "news = pd.read_excel('/content/drive/MyDrive/Colab Notebooks/Project/article.xlsx',header=0)"
      ],
      "execution_count": 13,
      "outputs": [
        {
          "output_type": "stream",
          "text": [
            "/usr/local/lib/python3.7/dist-packages/ipykernel_launcher.py:3: SettingWithCopyWarning: \n",
            "A value is trying to be set on a copy of a slice from a DataFrame\n",
            "\n",
            "See the caveats in the documentation: https://pandas.pydata.org/pandas-docs/stable/user_guide/indexing.html#returning-a-view-versus-a-copy\n",
            "  This is separate from the ipykernel package so we can avoid doing imports until\n"
          ],
          "name": "stderr"
        }
      ]
    },
    {
      "cell_type": "code",
      "metadata": {
        "id": "rxpR2w4JwOCn"
      },
      "source": [
        "#> 1. 기사에서 한글 제외하고 모두 제거\n",
        "news['Text'] = news['Text'].str.replace(\"[^ㄱ-ㅎ ㅏ-ㅣ 가-힣]\",\"\") \n",
        "\n",
        "#> 2. 기사에서 특정품사 추출\n",
        "tag_cls = ['NNG','VV+EC','XSV+EP', 'SL']\n",
        "# NNG = 일반명사, VV = 동사, EC = 연결어미, XSV = 동사파생접미사, EP = 선어말 어미, SL = 외국어\n",
        "\n",
        "mc = Mecab()\n",
        "artc = []\n",
        "for line in news['Text'][:]:\n",
        "    temp = []  \n",
        "    for word in mc.pos(line):\n",
        "        if word[1] in tag_cls:\n",
        "            temp.append(word[0])\n",
        "    artc.append(temp)\n",
        "\n",
        "#> 3. 불용어처리\n",
        "swords = ['삼성전자','삼성','기자','인텔','신세계','풀무원','원','픽','내','마음속','억','통','곳','것','파이낸셜','뉴스','억','명','김','말','간','조선','비즈','조선비즈',\n",
        "          '저작','무단','전재','배포','금지','월일','기자', 'LG전자', 'LG', 'YG', 'JYP','앤','월','일']\n",
        "\n",
        "text = []\n",
        "\n",
        "for tx in artc:\n",
        "    temp = []\n",
        "    for word in tx:\n",
        "        if word not in swords:\n",
        "            if len(word) >1 :       #4) 길이가 짧은 글자 제거 (optional)\n",
        "                temp.append(word)\n",
        "    text.append(temp)\n",
        "\n",
        "#> Word2Vec 에서 빈도수 낮은 단어를 삭제 시키는 파라미터가 있음"
      ],
      "execution_count": 14,
      "outputs": []
    },
    {
      "cell_type": "code",
      "metadata": {
        "colab": {
          "base_uri": "https://localhost:8080/"
        },
        "id": "gw2WURY82PnA",
        "outputId": "53da55fe-dda0-4006-86c6-8df62c02f5e0"
      },
      "source": [
        "len(text)"
      ],
      "execution_count": 15,
      "outputs": [
        {
          "output_type": "execute_result",
          "data": {
            "text/plain": [
              "1592"
            ]
          },
          "metadata": {
            "tags": []
          },
          "execution_count": 15
        }
      ]
    },
    {
      "cell_type": "markdown",
      "metadata": {
        "id": "Nt2uudMGGeGM"
      },
      "source": [
        "# 벡터화"
      ]
    },
    {
      "cell_type": "markdown",
      "metadata": {
        "id": "e2NnzX8fvanD"
      },
      "source": [
        "    Word_embedding 은 단어를 벡터로 표현하는 방식\n",
        "    단어를 밀집형태로 표현하는 방식을 word embeddig이라고 함\n",
        "    (워드 임베딩 방법론으로는 LSA, Word2Vec, FastText, Glove 등이 있음)\n",
        "    단어의 '의미'를 다차원 공간에 벡터화하는 방법을 찾게되는데, 이러한 표현 방법을 분산 표현(distributed representation)이라 함\n",
        "    분산 표현(distributed representation) 방법은 기본적으로 분포 가설(distributional hypothesis)이라는 가정 하에 만들어진 표현 방법\n",
        "    이 가정은 '비슷한 위치에서 등장하는 단어들은 비슷한 의미를 가진다'라는 가정\n",
        "    분산 표현은 저차원에 단어의 의미를 여러 차원에다가 분산하여 표현\n",
        "    이런 표현 방법을 사용하면 단어 간 유사도를 계산"
      ]
    },
    {
      "cell_type": "markdown",
      "metadata": {
        "id": "LpCNjwWZvvYP"
      },
      "source": [
        "## Word2Vec\n",
        "['참고 사이트'](https://devtimes.com/nb-text-classification-word2vec)\n"
      ]
    },
    {
      "cell_type": "markdown",
      "metadata": {
        "id": "2fvAYdA-13Uz"
      },
      "source": [
        "    Word2Vec에는 CBOW(Continuous Bag of Words)와 Skip-Gram 두 가지 방식\n",
        "        CBOW는 주변에 있는 단어들을 가지고, 중간에 있는 단어들을 예측하는 방법\n",
        "        Skip-Gram은 중간에 있는 단어로 주변 단어들을 예측하는 방법\n",
        "    Word2Vec은 딥 러닝 모델(Deep Learning Model)은 아니다.\n",
        "        은닉층(hidden Layer)이 1개인 경우 얕은신경망(Shallow Neural Network)\n",
        "        은닉층에 활성화 함수가 존재하지 않으며 룩업 테이블이라는 연산을 담당하는 층으로 투사층(projection layer)으로 구분되어 불림"
      ]
    },
    {
      "cell_type": "markdown",
      "metadata": {
        "id": "K9FrF6wh2Y68"
      },
      "source": [
        "    DBOW (Continuous Bag of Words)\n",
        "        윈도우(window) :중심 단어를 예측하기 위해서 앞, 뒤로 볼 단어 범위"
      ]
    },
    {
      "cell_type": "code",
      "metadata": {
        "id": "zN_Pb3CwuqdD"
      },
      "source": [
        "# 진행 상황 나오는 log 설정\n",
        "logging.basicConfig(format='%(asctime)s: %(levelname)s : %(message)s',level=logging.INFO)"
      ],
      "execution_count": 16,
      "outputs": []
    },
    {
      "cell_type": "code",
      "metadata": {
        "id": "rt9zZYEc32Q_"
      },
      "source": [
        "# 학습 시 필요한 하이퍼파라미터\n",
        "n_worker = 4        # 프로세스 갯수 ,defalut = 3\n",
        "n_size = 600        # 워드 벡터 특정값 수 (크기),  defalut = 100\n",
        "min_cnt = 2         # 단어에 대한 최소 빈도 단어 수, defalut = 5\n",
        "context =  5        # 컨텍스트 윈도우의 크기, defalut = 5\n",
        "d_sampling = 0.001  # 다운 샘플링 수, defalut = 0.001"
      ],
      "execution_count": 17,
      "outputs": []
    },
    {
      "cell_type": "markdown",
      "metadata": {
        "id": "p18DF4yN4mro"
      },
      "source": [
        "    workers : 프로세스 개수, (특징) 적은 빈도 수의 단어들은 학습하지 않는다.\n",
        "    size : 워드 벡터 특정 값 수 , (특징) 각 단어에 대한 임베딩된 벡터의 차원을 정한다\n",
        "    min_count : 단어에 대한 최소 빈도수 단어, (특징) 적은 빈도 수의 단어들은 학습하지 않는다.\n",
        "    window : 컨텍스트 윈도우 크기, 앞 뒤 5개씩 관련\n",
        "    sample : 다운 샘플링 비율, (특징) word2vec 학습을 수행할 때 더 빠른 학습을 위해 정답 단어 라벨에 대한 다운 샘플링 비율을 지정. 보통 0.001이 좋은 성능을 낸다고 함 "
      ]
    },
    {
      "cell_type": "code",
      "metadata": {
        "id": "664U22WG4k4Q",
        "colab": {
          "base_uri": "https://localhost:8080/"
        },
        "outputId": "1864cf1f-11a5-40a0-b1c2-b11b1d1aff0e"
      },
      "source": [
        "# 모델 훈련\n",
        "md_word = word2vec.Word2Vec(text,\n",
        "                       workers = n_worker,\n",
        "                       size = n_size,\n",
        "                       min_count = min_cnt,\n",
        "                       window = context,\n",
        "                       sample = d_sampling)"
      ],
      "execution_count": 18,
      "outputs": [
        {
          "output_type": "stream",
          "text": [
            "2021-04-26 13:00:50,536: INFO : collecting all words and their counts\n",
            "2021-04-26 13:00:50,539: INFO : PROGRESS: at sentence #0, processed 0 words, keeping 0 word types\n",
            "2021-04-26 13:00:50,626: INFO : collected 11267 word types from a corpus of 256794 raw words and 1592 sentences\n",
            "2021-04-26 13:00:50,628: INFO : Loading a fresh vocabulary\n",
            "2021-04-26 13:00:50,667: INFO : effective_min_count=2 retains 7818 unique words (69% of original 11267, drops 3449)\n",
            "2021-04-26 13:00:50,669: INFO : effective_min_count=2 leaves 253345 word corpus (98% of original 256794, drops 3449)\n",
            "2021-04-26 13:00:50,700: INFO : deleting the raw counts dictionary of 11267 items\n",
            "2021-04-26 13:00:50,703: INFO : sample=0.001 downsamples 40 most-common words\n",
            "2021-04-26 13:00:50,705: INFO : downsampling leaves estimated 238355 word corpus (94.1% of prior 253345)\n",
            "2021-04-26 13:00:50,745: INFO : estimated required memory for 7818 words and 600 dimensions: 41435400 bytes\n",
            "2021-04-26 13:00:50,748: INFO : resetting layer weights\n",
            "2021-04-26 13:00:52,511: INFO : training model with 4 workers on 7818 vocabulary and 600 features, using sg=0 hs=0 sample=0.001 negative=5 window=5\n",
            "2021-04-26 13:00:53,383: INFO : worker thread finished; awaiting finish of 3 more threads\n",
            "2021-04-26 13:00:53,439: INFO : worker thread finished; awaiting finish of 2 more threads\n",
            "2021-04-26 13:00:53,464: INFO : worker thread finished; awaiting finish of 1 more threads\n",
            "2021-04-26 13:00:53,480: INFO : worker thread finished; awaiting finish of 0 more threads\n",
            "2021-04-26 13:00:53,481: INFO : EPOCH - 1 : training on 256794 raw words (238424 effective words) took 1.0s, 247756 effective words/s\n",
            "2021-04-26 13:00:54,328: INFO : worker thread finished; awaiting finish of 3 more threads\n",
            "2021-04-26 13:00:54,401: INFO : worker thread finished; awaiting finish of 2 more threads\n",
            "2021-04-26 13:00:54,409: INFO : worker thread finished; awaiting finish of 1 more threads\n",
            "2021-04-26 13:00:54,419: INFO : worker thread finished; awaiting finish of 0 more threads\n",
            "2021-04-26 13:00:54,421: INFO : EPOCH - 2 : training on 256794 raw words (238314 effective words) took 0.9s, 256326 effective words/s\n",
            "2021-04-26 13:00:55,263: INFO : worker thread finished; awaiting finish of 3 more threads\n",
            "2021-04-26 13:00:55,335: INFO : worker thread finished; awaiting finish of 2 more threads\n",
            "2021-04-26 13:00:55,355: INFO : worker thread finished; awaiting finish of 1 more threads\n",
            "2021-04-26 13:00:55,365: INFO : worker thread finished; awaiting finish of 0 more threads\n",
            "2021-04-26 13:00:55,367: INFO : EPOCH - 3 : training on 256794 raw words (238326 effective words) took 0.9s, 253714 effective words/s\n",
            "2021-04-26 13:00:56,334: INFO : worker thread finished; awaiting finish of 3 more threads\n",
            "2021-04-26 13:00:56,362: INFO : worker thread finished; awaiting finish of 2 more threads\n",
            "2021-04-26 13:00:56,393: INFO : EPOCH 4 - PROGRESS: at 95.98% examples, 225391 words/s, in_qsize 1, out_qsize 1\n",
            "2021-04-26 13:00:56,399: INFO : worker thread finished; awaiting finish of 1 more threads\n",
            "2021-04-26 13:00:56,403: INFO : worker thread finished; awaiting finish of 0 more threads\n",
            "2021-04-26 13:00:56,406: INFO : EPOCH - 4 : training on 256794 raw words (238306 effective words) took 1.0s, 230939 effective words/s\n",
            "2021-04-26 13:00:57,364: INFO : worker thread finished; awaiting finish of 3 more threads\n",
            "2021-04-26 13:00:57,385: INFO : worker thread finished; awaiting finish of 2 more threads\n",
            "2021-04-26 13:00:57,403: INFO : worker thread finished; awaiting finish of 1 more threads\n",
            "2021-04-26 13:00:57,430: INFO : EPOCH 5 - PROGRESS: at 100.00% examples, 235049 words/s, in_qsize 0, out_qsize 1\n",
            "2021-04-26 13:00:57,432: INFO : worker thread finished; awaiting finish of 0 more threads\n",
            "2021-04-26 13:00:57,437: INFO : EPOCH - 5 : training on 256794 raw words (238473 effective words) took 1.0s, 233518 effective words/s\n",
            "2021-04-26 13:00:57,439: INFO : training on a 1283970 raw words (1191843 effective words) took 4.9s, 241991 effective words/s\n"
          ],
          "name": "stderr"
        }
      ]
    },
    {
      "cell_type": "code",
      "metadata": {
        "id": "eFnCv56-4LMP",
        "colab": {
          "base_uri": "https://localhost:8080/"
        },
        "outputId": "20119f49-aa7a-49db-fd94-1dec3c2fbb6d"
      },
      "source": [
        "# 모델 저장\n",
        "# 모델 이름을 하이퍼파라미터 설정 내역으로 하면 나중에 참고하기 좋음.\n",
        "md_name = \"W2V__4_workers__600_size__2_mincnt\"\n",
        "md_word.save(md_name)\n",
        "\n",
        "# Word2Vec.load() 로 다시 사용가능!!"
      ],
      "execution_count": 22,
      "outputs": [
        {
          "output_type": "stream",
          "text": [
            "2021-04-26 13:03:53,157: INFO : saving Word2Vec object under W2V__4_workers__600_size__2_mincnt, separately None\n",
            "2021-04-26 13:03:53,160: INFO : not storing attribute vectors_norm\n",
            "2021-04-26 13:03:53,162: INFO : not storing attribute cum_table\n",
            "2021-04-26 13:03:53,711: INFO : saved W2V__4_workers__600_size__2_mincnt\n"
          ],
          "name": "stderr"
        }
      ]
    },
    {
      "cell_type": "markdown",
      "metadata": {
        "id": "CFLWgyDB-Bs2"
      },
      "source": [
        "    하나의 리뷰에 대해 전체 단어의 평균값을 계산하는 함수를 구현 --> 리뷰 데이터 셋 처리 하는 함수 구현\n",
        "        np.zero 벡터 생성 - 벡터 1개 생성 과정 효율화\n",
        "        idx2word_set - 문장의 단어가 모델 단어사전에 속하지는 확인 하기 위해 객체 생성\n"
      ]
    },
    {
      "cell_type": "code",
      "metadata": {
        "id": "NcbSiVdf9t2K"
      },
      "source": [
        "def get_vector(words, model, num_features):\n",
        "    \"\"\"하나의 리뷰에 대해 전체 단어에 대한 개별 단어의 평균값을 계산하는 함수\n",
        "    words :  리뷰 하나 (단어 모음집)\n",
        "    model :  학습한 모델\n",
        "    num_features : Word2Vec embedding 할 때 정했던 벡터의 차원 수\"\"\"\n",
        "\n",
        "    # 출력 벡터 초기화 - np.zero 벡터 생성\n",
        "    vec = np.zeros((num_features), dtype=np.float32)\n",
        "\n",
        "    num_words = 0\n",
        "    # 어휘 사전 준비\n",
        "    idx2word_set = set(model.wv.index2word)\n",
        "\n",
        "    for w in words:\n",
        "        if w in idx2word_set: # 사전에 해당하는 단어가 있으면,\n",
        "            num_words = 1 \n",
        "            # 해당 단어에 대해 단어 벡터를 더함 (기본값이 0이므로, 벡터값을 더해 줌으로서 단어의 벡터값으로 치환하여 주는 것임)\n",
        "            vec = np.add(vec,model[w])\n",
        "    \n",
        "    # 문장의 단어 수 만큼 나누어 벡터의 평균값을 문장 벡터로 함\n",
        "    f_vec = np.divide(vec, num_words)\n",
        "    return f_vec"
      ],
      "execution_count": 29,
      "outputs": []
    },
    {
      "cell_type": "code",
      "metadata": {
        "id": "k1VS3TxkAiPX"
      },
      "source": [
        "def get_vector_dataset(news, model, num_features):\n",
        "    \"\"\" 리뷰 데이터 셋에 대해 리뷰 별(리뷰 하나의)평균 값을 계산하는 함수\n",
        "    news  :  리뷰 데이터 셋\n",
        "    model :  학습한 모델\n",
        "    num_features : embedding 할 때 정했던 벡터의 차원 수\"\"\"\n",
        "    \n",
        "    dataset = []\n",
        "\n",
        "    for s in news:\n",
        "        dataset.append(get_vector(s,model,num_features))\n",
        "\n",
        "    news_vec = np.stack(dataset)\n",
        "    return news_vec"
      ],
      "execution_count": 30,
      "outputs": []
    },
    {
      "cell_type": "code",
      "metadata": {
        "colab": {
          "base_uri": "https://localhost:8080/"
        },
        "id": "ChUtnJcsIpvO",
        "outputId": "31e28dff-bcf1-4eca-f3f0-4f59137687b0"
      },
      "source": [
        "data_vec_word = get_vector_dataset(text, md_word, 600) # (데이터셋, 모델, 임베딩 단어수)"
      ],
      "execution_count": 31,
      "outputs": [
        {
          "output_type": "stream",
          "text": [
            "/usr/local/lib/python3.7/dist-packages/ipykernel_launcher.py:18: DeprecationWarning: Call to deprecated `__getitem__` (Method will be removed in 4.0.0, use self.wv.__getitem__() instead).\n"
          ],
          "name": "stderr"
        }
      ]
    },
    {
      "cell_type": "code",
      "metadata": {
        "colab": {
          "base_uri": "https://localhost:8080/"
        },
        "id": "k-Dte8zMHdAH",
        "outputId": "b9d046d7-7c22-449c-8196-b53d9bd27930"
      },
      "source": [
        "len(data_vec_word)"
      ],
      "execution_count": 32,
      "outputs": [
        {
          "output_type": "execute_result",
          "data": {
            "text/plain": [
              "1592"
            ]
          },
          "metadata": {
            "tags": []
          },
          "execution_count": 32
        }
      ]
    },
    {
      "cell_type": "code",
      "metadata": {
        "colab": {
          "base_uri": "https://localhost:8080/"
        },
        "id": "bWGroUWtKX3W",
        "outputId": "ab021bab-b4ca-4786-b4a7-f8be22175b9c"
      },
      "source": [
        "data_vec_word[0]"
      ],
      "execution_count": 33,
      "outputs": [
        {
          "output_type": "execute_result",
          "data": {
            "text/plain": [
              "array([ 1.92640233e+00, -1.19010572e+01, -1.36847067e+01, -2.94289374e+00,\n",
              "        2.54294038e+00, -8.06000948e-01, -2.21065283e+00, -2.53174019e+00,\n",
              "        1.27213984e+01, -5.52446318e+00,  2.84240007e-01,  1.72986565e+01,\n",
              "        5.11721468e+00,  3.11155796e+00, -3.64629436e+00,  1.40975685e+01,\n",
              "       -2.91151638e+01, -8.54304254e-01, -7.70612049e+00, -5.95636964e-01,\n",
              "        5.28742838e+00,  4.80555773e+00,  6.42480850e+00,  6.63381577e+00,\n",
              "       -1.53145468e+00, -3.47690630e+00, -4.98748064e+00,  2.53450775e+01,\n",
              "       -9.42347944e-02, -5.99408865e-01,  3.95004749e+00,  5.60386324e+00,\n",
              "       -6.61988497e-01,  6.25982237e+00,  4.97882938e+00,  6.09485435e+00,\n",
              "       -4.66617918e+00, -4.94863224e+00,  6.90454865e+00, -2.29492235e+00,\n",
              "       -1.25008488e+01,  6.02025652e+00, -3.78071117e+00,  6.56853437e+00,\n",
              "        7.88258195e-01,  4.53729600e-01, -9.57636547e+00, -2.58669591e+00,\n",
              "        1.55627508e+01, -1.03862286e+01, -7.18936682e+00,  1.21265926e+01,\n",
              "        9.43928146e+00,  2.35499306e+01,  3.78926754e+00,  1.77282200e+01,\n",
              "        1.35097873e+00, -6.60753441e+00,  9.13944435e+00,  8.18176365e+00,\n",
              "       -1.18344669e+01,  1.11495125e+00, -3.83375835e+00, -6.13252306e+00,\n",
              "        1.94689047e+00,  1.72759018e+01, -1.63114047e+00,  8.64473820e+00,\n",
              "       -9.71187973e+00,  1.79190660e+00,  2.99931407e+00,  3.35002303e+00,\n",
              "        1.56990051e+01,  1.60721040e+00,  8.57899570e+00,  1.26979027e+01,\n",
              "        1.01151018e+01, -2.42958650e-01, -2.29976130e+00,  5.44049263e+00,\n",
              "        1.41778593e+01,  3.05880642e+00, -8.25657368e+00, -1.02686520e+01,\n",
              "       -5.09036255e+00, -1.93745649e+00, -1.40820761e+01,  2.24311123e+01,\n",
              "        2.38254547e+00, -3.47483492e+00, -6.51414299e+00,  2.09658146e-01,\n",
              "        1.18465738e+01, -6.77016258e+00, -3.22714615e+00,  1.62347965e+01,\n",
              "        3.38484550e+00, -1.02216854e+01,  5.72523165e+00,  5.77265120e+00,\n",
              "        8.70297623e+00,  1.96156859e+00,  8.88810635e+00,  5.90236568e+00,\n",
              "       -7.54147577e+00,  1.65419769e+01, -2.57731140e-01, -8.67424297e+00,\n",
              "       -2.55990267e+00,  2.74815679e+00, -9.90891647e+00, -5.27875662e+00,\n",
              "       -2.37690854e+00,  1.85363603e+00,  9.87214375e+00, -9.67290115e+00,\n",
              "       -1.07597971e+01, -7.81372690e+00, -3.18359923e+00, -1.95482123e+00,\n",
              "       -3.91606188e+00,  1.12379694e+00,  1.95662766e+01,  7.63032389e+00,\n",
              "       -1.48687572e+01, -7.47087336e+00,  1.61652756e+01, -7.59335995e+00,\n",
              "        4.51053190e+00,  5.16071844e+00,  2.25996184e+00, -1.89117088e+01,\n",
              "       -2.50413918e+00,  7.33252764e+00,  2.03667569e+00,  1.15863523e+01,\n",
              "        9.51242447e+00,  1.21396990e+01,  1.15243845e+01, -7.85711193e+00,\n",
              "       -7.99563074e+00,  2.34216976e+00,  8.40834904e+00,  4.23224354e+00,\n",
              "        8.26033306e+00, -6.06755352e+00,  2.08176613e+00, -1.11996737e+01,\n",
              "       -2.19584608e+00,  9.72265816e+00,  8.96033764e+00, -3.76269281e-01,\n",
              "       -6.35988712e+00, -9.71598244e+00,  7.54801035e+00, -5.22490644e+00,\n",
              "        1.72184238e+01,  3.50517416e+00,  1.09624946e+00,  8.36932659e+00,\n",
              "        3.21015644e+00, -1.37342224e+01, -1.36983604e+01,  9.72048378e+00,\n",
              "        8.02749157e+00, -3.29161286e-01,  9.75029564e+00,  4.08233833e+00,\n",
              "       -3.74252224e+00, -5.13179827e+00,  3.03711009e+00, -2.28774953e+00,\n",
              "       -2.29482317e+00,  3.75936079e+00, -9.31474018e+00,  1.22481909e+01,\n",
              "       -1.79985058e+00, -1.01533823e+01, -1.33433552e+01, -1.31174889e+01,\n",
              "        1.57356768e+01, -1.18124580e+01,  1.21527119e+01,  1.29263935e+01,\n",
              "       -5.26548958e+00,  9.14004040e+00,  2.64310551e+00,  1.35477233e+00,\n",
              "        9.29857492e-01, -8.11999416e+00, -2.08285809e+00, -2.69533587e+00,\n",
              "       -4.46900725e-03,  1.30322733e+01,  1.83662643e+01, -1.02659690e+00,\n",
              "        8.88210297e-01, -9.73632431e+00,  1.27304249e+01,  2.90587187e-01,\n",
              "        6.88265038e+00,  1.04542303e+01,  3.25445747e+00,  6.77591372e+00,\n",
              "        3.32613873e+00, -8.70517159e+00,  3.99297380e+00, -3.30338866e-01,\n",
              "        4.30881786e+00,  1.26376557e+00, -8.98988724e+00, -1.97631848e+00,\n",
              "        1.81002579e+01,  2.06371136e+01,  6.61583996e+00,  4.16621971e+00,\n",
              "       -6.32354736e+00,  6.23298943e-01,  1.46995342e+00, -8.66831839e-01,\n",
              "        8.83668900e-01,  4.98817253e+00,  6.08877707e+00,  8.25955868e-01,\n",
              "       -8.53876919e-02,  9.33704472e+00,  8.29593658e+00,  1.37708454e+01,\n",
              "       -9.18863773e-01,  1.29973974e+01,  1.74457058e-01,  6.54007959e+00,\n",
              "       -7.01837397e+00,  1.47424240e+01, -9.03276920e+00, -5.64195013e+00,\n",
              "        1.52377167e+01, -1.31823263e+01,  2.52725571e-01, -8.54202461e+00,\n",
              "       -8.03222942e+00,  1.28988171e+01, -2.93931365e+00,  1.26747169e+01,\n",
              "        7.42399549e+00,  1.05384789e+01, -1.35231075e+01, -4.93312025e+00,\n",
              "       -1.05817471e+01, -2.33779073e+00,  4.62497139e+00,  1.26383829e+01,\n",
              "       -5.07383871e+00, -2.47591019e+00, -4.61148310e+00, -1.62735653e+01,\n",
              "       -9.18194652e-03, -2.45267544e+01, -5.62261534e+00,  1.06279726e+01,\n",
              "        1.31262131e+01,  9.98711646e-01,  5.73773766e+00, -2.53741288e+00,\n",
              "        3.29788208e+00,  9.14400864e+00,  2.69033813e+00, -6.89084435e+00,\n",
              "        4.55257750e+00,  1.22532234e+01, -7.55497074e+00, -1.68084598e+00,\n",
              "        7.24906635e+00,  8.98281193e+00,  2.09409738e+00, -3.69103575e+00,\n",
              "       -2.23141837e+00,  6.09468699e+00,  3.00165486e+00, -1.12246633e+00,\n",
              "       -8.35660934e+00, -3.64091372e+00,  6.02119398e+00,  2.19993904e-01,\n",
              "        7.78345108e+00,  5.14735270e+00,  9.18283749e+00,  2.22236109e+00,\n",
              "        4.98389053e+00, -8.05277157e+00,  1.14151306e+01, -2.39201140e+00,\n",
              "       -4.53917599e+00,  2.23934233e-01,  2.19608040e+01,  5.94645739e+00,\n",
              "        1.59634800e+01, -8.50397015e+00,  6.00282621e+00,  1.31950159e+01,\n",
              "       -1.01953440e+01, -1.78465271e+01, -4.65898657e+00,  8.83372593e+00,\n",
              "        6.80699158e+00,  9.12908363e+00,  2.72193599e+00, -1.08290329e+01,\n",
              "        1.03437023e+01,  4.79810381e+00,  3.70202541e+00,  1.91959548e+00,\n",
              "       -4.39571524e+00,  1.44091158e+01, -1.77876415e+01,  1.35060275e+00,\n",
              "       -1.58178782e+00, -1.57165337e+01, -5.99175036e-01, -1.02004070e+01,\n",
              "        1.33358991e+00,  2.31690669e+00,  1.00275984e+01,  1.44364491e+01,\n",
              "       -4.75938022e-01,  1.17655694e-01,  3.20465779e+00, -3.04942036e+00,\n",
              "       -9.85892475e-01, -3.84454274e+00,  1.05083313e+01,  1.25518668e+00,\n",
              "       -5.07799578e+00,  2.60772324e+00, -7.20573068e-01,  1.75954933e+01,\n",
              "        5.11893463e+00, -2.04006004e+01, -1.07937202e+01, -1.46506195e+01,\n",
              "       -5.90659559e-01,  3.60501313e+00, -1.28336506e+01,  1.41275358e+00,\n",
              "       -9.13613796e+00, -9.60586357e+00, -1.61648977e+00,  8.16160965e+00,\n",
              "        9.39980507e+00, -7.74832153e+00, -5.79105186e+00, -2.64062667e+00,\n",
              "       -6.56197739e+00, -7.80677557e+00,  3.03156042e+00,  1.03911400e+00,\n",
              "       -5.67262697e+00, -1.00312462e+01,  1.50414824e+00, -6.56211996e+00,\n",
              "        5.37518883e+00,  1.80537395e+01,  1.14739542e+01, -1.58186293e+01,\n",
              "       -1.46001947e+00, -1.38292990e+01,  6.16135788e+00, -1.98593819e+00,\n",
              "       -8.64040756e+00,  8.24132252e+00,  1.46936979e+01, -1.18292189e+00,\n",
              "       -7.40882015e+00,  2.71301675e+00, -4.29420900e+00, -3.21676350e+00,\n",
              "       -1.07345524e+01, -7.12448692e+00, -8.54519176e+00,  1.49579887e+01,\n",
              "        1.25458412e+01,  4.87699747e+00,  1.42346764e+01, -2.54211497e+00,\n",
              "        5.06070662e+00,  4.49586821e+00,  5.59705734e-01,  1.06121550e+01,\n",
              "        1.58298326e+00,  9.60065269e+00,  1.85523891e+00, -1.64291286e+01,\n",
              "       -6.32539654e+00, -1.63397102e+01,  3.24192500e+00, -1.29983263e+01,\n",
              "       -1.06675711e+01,  1.57946453e+01,  7.85262918e+00,  3.87131405e+00,\n",
              "        8.13212681e+00, -4.41446733e+00, -7.63233376e+00, -7.67809153e+00,\n",
              "        2.02633057e+01, -1.12177763e+01, -2.19266915e+00,  7.43362856e+00,\n",
              "       -9.65124512e+00, -4.63043451e+00,  1.57302294e+01,  9.18424606e+00,\n",
              "       -5.22252369e+00, -1.02060580e+00,  9.78633499e+00,  5.10712004e+00,\n",
              "        2.11442223e+01,  3.63519883e+00, -4.69848108e+00, -3.31260681e+00,\n",
              "       -1.27814436e+01,  7.50047874e+00,  1.58519793e+01, -1.08870831e+01,\n",
              "       -2.95701361e+00,  7.57572174e+00, -6.20913744e+00,  6.14859343e+00,\n",
              "        4.05381346e+00,  1.04102640e+01, -2.46806240e+01, -1.88341503e+01,\n",
              "       -1.18404448e+00,  6.99025488e+00,  8.33769417e+00, -3.99593925e+00,\n",
              "        1.61092639e+00,  1.50641870e+01, -9.92939758e+00, -1.11740313e+01,\n",
              "       -3.84357786e+00, -5.65237951e+00, -2.77864075e+00,  3.32849646e+00,\n",
              "        3.81436419e+00,  4.60796499e+00,  3.66587615e+00,  2.15147591e+00,\n",
              "        2.91090450e+01, -5.10635900e+00, -1.05703294e+00,  2.44618368e+00,\n",
              "        1.79451108e+00,  6.05821609e+00,  1.03112373e+01,  1.39067860e+01,\n",
              "       -2.98588514e+00, -7.85449791e+00, -1.61298256e+01,  5.69244337e+00,\n",
              "        1.32241688e+01,  1.28487074e+00, -2.23380923e+00, -2.56553292e+00,\n",
              "       -1.97887158e+00,  9.90135860e+00,  1.33497989e+00,  1.54042988e+01,\n",
              "       -2.06083155e+00, -1.38427639e+00,  3.71956778e+00,  1.73501301e+01,\n",
              "        5.14108372e+00, -8.71990204e+00,  7.75365591e-01,  1.81357670e+00,\n",
              "       -4.47768736e+00, -7.90166950e+00,  1.53829241e+01,  1.60632191e+01,\n",
              "       -6.49827480e+00, -1.04464769e+01,  9.55062294e+00,  2.58440328e+00,\n",
              "       -2.42012095e+00,  9.09630489e+00, -1.26197786e+01, -1.39178591e+01,\n",
              "        1.88142567e+01, -5.23460770e+00, -3.58415246e+00,  6.82639217e+00,\n",
              "        3.53106737e+00, -1.48116827e+01,  1.31578112e+01, -6.08327341e+00,\n",
              "        7.61699724e+00, -1.68081493e+01, -3.25131297e+00, -6.53517532e+00,\n",
              "       -2.23215938e+00,  1.10608912e+01, -1.12773597e+00,  1.34164119e+00,\n",
              "       -8.47592592e-01,  3.91749167e+00,  4.11417484e+00, -6.36557245e+00,\n",
              "        5.94803524e+00, -7.72410822e+00, -3.10932875e+00, -1.69792664e+00,\n",
              "        5.25421715e+00,  3.57049370e+00, -1.11532974e+01,  3.95481300e+00,\n",
              "       -1.50703162e-01, -1.09922022e-01, -1.02394991e+01,  2.19817581e+01,\n",
              "        8.25373745e+00,  6.77281427e+00, -3.18806744e+01, -1.58560295e+01,\n",
              "        1.37691011e+01, -1.15974951e+01, -1.79653111e+01, -4.53906202e+00,\n",
              "       -1.51088305e+01, -1.00924902e+01,  5.36555052e+00, -3.57818651e+00,\n",
              "        2.30817556e+00,  3.92406178e+00, -1.00952425e+01, -1.70758450e+00,\n",
              "        2.04037457e+01, -6.57477260e-01,  2.55160165e+00, -1.42045331e+00,\n",
              "        2.96579933e+00, -6.38995934e+00, -1.70263424e+01,  1.03741493e+01,\n",
              "        7.39441299e+00,  5.38272619e+00, -4.11656570e+00, -1.36635799e+01,\n",
              "        1.02608242e+01,  8.85943890e+00, -9.39294577e-01,  7.68631250e-02,\n",
              "       -1.01313028e+01,  4.21396971e+00, -1.32696838e+01, -7.51341820e+00,\n",
              "       -1.89480984e+00, -1.61160717e+01,  1.16731966e+00,  4.62112141e+00,\n",
              "       -1.17327929e+01, -5.53160524e+00,  1.77371159e+01,  4.21791039e-02,\n",
              "        1.12439823e+00, -1.13806581e+01,  2.17681007e+01,  9.11041641e+00,\n",
              "       -8.94200134e+00, -4.26327133e+00,  6.44934654e+00,  1.32439775e+01,\n",
              "        7.56789207e+00,  6.18998480e+00, -1.16141539e+01, -8.26943398e+00,\n",
              "        5.39581203e+00, -6.86209059e+00,  6.46163940e+00, -5.89833641e+00,\n",
              "       -1.08720474e+01, -6.99643135e+00, -4.23814869e+00, -9.01579475e+00,\n",
              "        4.38863754e+00, -1.31467037e+01,  2.40301371e+00, -1.80090122e+01,\n",
              "       -5.57687998e+00, -4.21336651e+00, -3.78405988e-01, -1.09959710e+00,\n",
              "        1.27608099e+01, -4.76242924e+00, -2.58089018e+00, -1.00716963e+01,\n",
              "       -4.83667278e+00,  1.99271622e+01, -7.43062305e+00, -1.02922020e+01],\n",
              "      dtype=float32)"
            ]
          },
          "metadata": {
            "tags": []
          },
          "execution_count": 33
        }
      ]
    },
    {
      "cell_type": "markdown",
      "metadata": {
        "id": "xKKAdyrjFamH"
      },
      "source": [
        "## Doc2Vec\n",
        "[Parameter](https://roboreport.co.kr/doc2vec-%ED%9B%88%EB%A0%A8-%ED%8C%8C%EB%9D%BC%EB%AF%B8%ED%84%B0-%EC%84%A4%EB%AA%85/)\n",
        "\n",
        "[TaggedDocument](https://frhyme.github.io/python-libs/gensim1_doc2vec_tagged_document/)\n",
        "\n",
        "[Doc2Vec](https://frhyme.github.io/python-libs/nlp_doc2vec_gensim/)"
      ]
    },
    {
      "cell_type": "code",
      "metadata": {
        "id": "Lk1rrlQ2FpFf"
      },
      "source": [
        "doc = []\n",
        "for i, d in enumerate(text):\n",
        "    a = TaggedDocument(words = d, tags = [i])\n",
        "    doc.append(a)\n",
        "\n",
        "# doc[:1]"
      ],
      "execution_count": 34,
      "outputs": []
    },
    {
      "cell_type": "code",
      "metadata": {
        "colab": {
          "base_uri": "https://localhost:8080/"
        },
        "id": "mfS6j9hgKnA3",
        "outputId": "c2e85845-bca2-4f70-875c-d93b250209f4"
      },
      "source": [
        "md_doc = Doc2Vec(doc,\n",
        "                 workers = n_worker,   # word2vec에서의 설정값 그대로 가져옴\n",
        "                 min_count = min_cnt,  # word2vec에서의 설정값 그대로 가져옴\n",
        "                 window = context,     # word2vec에서의 설정값 그대로 가져옴\n",
        "                 vector_size = n_size, # word2vec에서의 설정값 그대로 가져옴\n",
        "                 negative = 5,  #> negative samples 의 개수 , 클수록 느려짐\n",
        "                 epochs = 40,\n",
        "                 sample = d_sampling) # word2vec에서의 설정값 그대로 가져옴"
      ],
      "execution_count": 35,
      "outputs": [
        {
          "output_type": "stream",
          "text": [
            "2021-04-26 13:05:48,214: INFO : collecting all words and their counts\n",
            "2021-04-26 13:05:48,223: INFO : PROGRESS: at example #0, processed 0 words (0/s), 0 word types, 0 tags\n",
            "2021-04-26 13:05:48,309: INFO : collected 11267 word types and 1592 unique tags from a corpus of 1592 examples and 256794 words\n",
            "2021-04-26 13:05:48,311: INFO : Loading a fresh vocabulary\n",
            "2021-04-26 13:05:48,336: INFO : effective_min_count=2 retains 7818 unique words (69% of original 11267, drops 3449)\n",
            "2021-04-26 13:05:48,338: INFO : effective_min_count=2 leaves 253345 word corpus (98% of original 256794, drops 3449)\n",
            "2021-04-26 13:05:48,367: INFO : deleting the raw counts dictionary of 11267 items\n",
            "2021-04-26 13:05:48,372: INFO : sample=0.001 downsamples 40 most-common words\n",
            "2021-04-26 13:05:48,378: INFO : downsampling leaves estimated 238355 word corpus (94.1% of prior 253345)\n",
            "2021-04-26 13:05:48,408: INFO : estimated required memory for 7818 words and 600 dimensions: 45256200 bytes\n",
            "2021-04-26 13:05:48,410: INFO : resetting layer weights\n",
            "2021-04-26 13:05:50,485: INFO : training model with 4 workers on 7818 vocabulary and 600 features, using sg=0 hs=0 sample=0.001 negative=5 window=5\n",
            "2021-04-26 13:05:51,521: INFO : EPOCH 1 - PROGRESS: at 73.12% examples, 171607 words/s, in_qsize 7, out_qsize 0\n",
            "2021-04-26 13:05:51,686: INFO : worker thread finished; awaiting finish of 3 more threads\n",
            "2021-04-26 13:05:51,721: INFO : worker thread finished; awaiting finish of 2 more threads\n",
            "2021-04-26 13:05:51,780: INFO : worker thread finished; awaiting finish of 1 more threads\n",
            "2021-04-26 13:05:51,785: INFO : worker thread finished; awaiting finish of 0 more threads\n",
            "2021-04-26 13:05:51,788: INFO : EPOCH - 1 : training on 256794 raw words (240207 effective words) took 1.3s, 186183 effective words/s\n",
            "2021-04-26 13:05:52,945: INFO : EPOCH 2 - PROGRESS: at 86.12% examples, 176705 words/s, in_qsize 4, out_qsize 0\n",
            "2021-04-26 13:05:52,968: INFO : worker thread finished; awaiting finish of 3 more threads\n",
            "2021-04-26 13:05:52,988: INFO : worker thread finished; awaiting finish of 2 more threads\n",
            "2021-04-26 13:05:53,001: INFO : worker thread finished; awaiting finish of 1 more threads\n",
            "2021-04-26 13:05:53,056: INFO : worker thread finished; awaiting finish of 0 more threads\n",
            "2021-04-26 13:05:53,058: INFO : EPOCH - 2 : training on 256794 raw words (240002 effective words) took 1.3s, 190141 effective words/s\n",
            "2021-04-26 13:05:54,080: INFO : EPOCH 3 - PROGRESS: at 69.16% examples, 164257 words/s, in_qsize 7, out_qsize 0\n",
            "2021-04-26 13:05:54,310: INFO : worker thread finished; awaiting finish of 3 more threads\n",
            "2021-04-26 13:05:54,375: INFO : worker thread finished; awaiting finish of 2 more threads\n",
            "2021-04-26 13:05:54,420: INFO : worker thread finished; awaiting finish of 1 more threads\n",
            "2021-04-26 13:05:54,428: INFO : worker thread finished; awaiting finish of 0 more threads\n",
            "2021-04-26 13:05:54,430: INFO : EPOCH - 3 : training on 256794 raw words (239898 effective words) took 1.4s, 176323 effective words/s\n",
            "2021-04-26 13:05:55,449: INFO : EPOCH 4 - PROGRESS: at 69.35% examples, 164633 words/s, in_qsize 7, out_qsize 0\n",
            "2021-04-26 13:05:55,679: INFO : worker thread finished; awaiting finish of 3 more threads\n",
            "2021-04-26 13:05:55,703: INFO : worker thread finished; awaiting finish of 2 more threads\n",
            "2021-04-26 13:05:55,715: INFO : worker thread finished; awaiting finish of 1 more threads\n",
            "2021-04-26 13:05:55,755: INFO : worker thread finished; awaiting finish of 0 more threads\n",
            "2021-04-26 13:05:55,756: INFO : EPOCH - 4 : training on 256794 raw words (240011 effective words) took 1.3s, 182125 effective words/s\n",
            "2021-04-26 13:05:56,785: INFO : EPOCH 5 - PROGRESS: at 81.85% examples, 190358 words/s, in_qsize 5, out_qsize 0\n",
            "2021-04-26 13:05:56,931: INFO : worker thread finished; awaiting finish of 3 more threads\n",
            "2021-04-26 13:05:56,960: INFO : worker thread finished; awaiting finish of 2 more threads\n",
            "2021-04-26 13:05:56,980: INFO : worker thread finished; awaiting finish of 1 more threads\n",
            "2021-04-26 13:05:57,029: INFO : worker thread finished; awaiting finish of 0 more threads\n",
            "2021-04-26 13:05:57,032: INFO : EPOCH - 5 : training on 256794 raw words (239940 effective words) took 1.3s, 189592 effective words/s\n",
            "2021-04-26 13:05:58,084: INFO : EPOCH 6 - PROGRESS: at 77.76% examples, 176726 words/s, in_qsize 6, out_qsize 0\n",
            "2021-04-26 13:05:58,202: INFO : worker thread finished; awaiting finish of 3 more threads\n",
            "2021-04-26 13:05:58,244: INFO : worker thread finished; awaiting finish of 2 more threads\n",
            "2021-04-26 13:05:58,277: INFO : worker thread finished; awaiting finish of 1 more threads\n",
            "2021-04-26 13:05:58,291: INFO : worker thread finished; awaiting finish of 0 more threads\n",
            "2021-04-26 13:05:58,292: INFO : EPOCH - 6 : training on 256794 raw words (239734 effective words) took 1.3s, 191605 effective words/s\n",
            "2021-04-26 13:05:59,353: INFO : EPOCH 7 - PROGRESS: at 85.55% examples, 193824 words/s, in_qsize 4, out_qsize 0\n",
            "2021-04-26 13:05:59,382: INFO : worker thread finished; awaiting finish of 3 more threads\n",
            "2021-04-26 13:05:59,424: INFO : worker thread finished; awaiting finish of 2 more threads\n",
            "2021-04-26 13:05:59,446: INFO : worker thread finished; awaiting finish of 1 more threads\n",
            "2021-04-26 13:05:59,484: INFO : worker thread finished; awaiting finish of 0 more threads\n",
            "2021-04-26 13:05:59,485: INFO : EPOCH - 7 : training on 256794 raw words (239875 effective words) took 1.2s, 203142 effective words/s\n",
            "2021-04-26 13:06:00,512: INFO : EPOCH 8 - PROGRESS: at 73.12% examples, 172678 words/s, in_qsize 7, out_qsize 0\n",
            "2021-04-26 13:06:00,676: INFO : worker thread finished; awaiting finish of 3 more threads\n",
            "2021-04-26 13:06:00,713: INFO : worker thread finished; awaiting finish of 2 more threads\n",
            "2021-04-26 13:06:00,777: INFO : worker thread finished; awaiting finish of 1 more threads\n",
            "2021-04-26 13:06:00,785: INFO : worker thread finished; awaiting finish of 0 more threads\n",
            "2021-04-26 13:06:00,786: INFO : EPOCH - 8 : training on 256794 raw words (239934 effective words) took 1.3s, 186031 effective words/s\n",
            "2021-04-26 13:06:01,866: INFO : EPOCH 9 - PROGRESS: at 84.99% examples, 190665 words/s, in_qsize 4, out_qsize 0\n",
            "2021-04-26 13:06:01,879: INFO : worker thread finished; awaiting finish of 3 more threads\n",
            "2021-04-26 13:06:01,916: INFO : worker thread finished; awaiting finish of 2 more threads\n",
            "2021-04-26 13:06:01,955: INFO : worker thread finished; awaiting finish of 1 more threads\n",
            "2021-04-26 13:06:01,984: INFO : worker thread finished; awaiting finish of 0 more threads\n",
            "2021-04-26 13:06:01,986: INFO : EPOCH - 9 : training on 256794 raw words (240057 effective words) took 1.2s, 202697 effective words/s\n",
            "2021-04-26 13:06:03,056: INFO : EPOCH 10 - PROGRESS: at 80.90% examples, 182695 words/s, in_qsize 5, out_qsize 0\n",
            "2021-04-26 13:06:03,137: INFO : worker thread finished; awaiting finish of 3 more threads\n",
            "2021-04-26 13:06:03,167: INFO : worker thread finished; awaiting finish of 2 more threads\n",
            "2021-04-26 13:06:03,234: INFO : worker thread finished; awaiting finish of 1 more threads\n",
            "2021-04-26 13:06:03,241: INFO : worker thread finished; awaiting finish of 0 more threads\n",
            "2021-04-26 13:06:03,243: INFO : EPOCH - 10 : training on 256794 raw words (239942 effective words) took 1.2s, 192285 effective words/s\n",
            "2021-04-26 13:06:04,262: INFO : EPOCH 11 - PROGRESS: at 77.76% examples, 183216 words/s, in_qsize 6, out_qsize 0\n",
            "2021-04-26 13:06:04,375: INFO : worker thread finished; awaiting finish of 3 more threads\n",
            "2021-04-26 13:06:04,421: INFO : worker thread finished; awaiting finish of 2 more threads\n",
            "2021-04-26 13:06:04,448: INFO : worker thread finished; awaiting finish of 1 more threads\n",
            "2021-04-26 13:06:04,466: INFO : worker thread finished; awaiting finish of 0 more threads\n",
            "2021-04-26 13:06:04,467: INFO : EPOCH - 11 : training on 256794 raw words (239908 effective words) took 1.2s, 197907 effective words/s\n",
            "2021-04-26 13:06:05,497: INFO : EPOCH 12 - PROGRESS: at 84.99% examples, 198971 words/s, in_qsize 4, out_qsize 0\n",
            "2021-04-26 13:06:05,508: INFO : worker thread finished; awaiting finish of 3 more threads\n",
            "2021-04-26 13:06:05,570: INFO : worker thread finished; awaiting finish of 2 more threads\n",
            "2021-04-26 13:06:05,623: INFO : worker thread finished; awaiting finish of 1 more threads\n",
            "2021-04-26 13:06:05,630: INFO : worker thread finished; awaiting finish of 0 more threads\n",
            "2021-04-26 13:06:05,632: INFO : EPOCH - 12 : training on 256794 raw words (239970 effective words) took 1.2s, 207903 effective words/s\n",
            "2021-04-26 13:06:06,679: INFO : EPOCH 13 - PROGRESS: at 77.76% examples, 177857 words/s, in_qsize 6, out_qsize 0\n",
            "2021-04-26 13:06:06,839: INFO : worker thread finished; awaiting finish of 3 more threads\n",
            "2021-04-26 13:06:06,862: INFO : worker thread finished; awaiting finish of 2 more threads\n",
            "2021-04-26 13:06:06,884: INFO : worker thread finished; awaiting finish of 1 more threads\n",
            "2021-04-26 13:06:06,929: INFO : worker thread finished; awaiting finish of 0 more threads\n",
            "2021-04-26 13:06:06,931: INFO : EPOCH - 13 : training on 256794 raw words (240066 effective words) took 1.3s, 185986 effective words/s\n",
            "2021-04-26 13:06:08,043: INFO : EPOCH 14 - PROGRESS: at 84.99% examples, 184113 words/s, in_qsize 4, out_qsize 0\n",
            "2021-04-26 13:06:08,129: INFO : worker thread finished; awaiting finish of 3 more threads\n",
            "2021-04-26 13:06:08,147: INFO : worker thread finished; awaiting finish of 2 more threads\n",
            "2021-04-26 13:06:08,160: INFO : worker thread finished; awaiting finish of 1 more threads\n",
            "2021-04-26 13:06:08,197: INFO : worker thread finished; awaiting finish of 0 more threads\n",
            "2021-04-26 13:06:08,199: INFO : EPOCH - 14 : training on 256794 raw words (239894 effective words) took 1.3s, 190771 effective words/s\n",
            "2021-04-26 13:06:09,250: INFO : EPOCH 15 - PROGRESS: at 77.76% examples, 177835 words/s, in_qsize 6, out_qsize 0\n",
            "2021-04-26 13:06:09,386: INFO : worker thread finished; awaiting finish of 3 more threads\n",
            "2021-04-26 13:06:09,436: INFO : worker thread finished; awaiting finish of 2 more threads\n",
            "2021-04-26 13:06:09,497: INFO : worker thread finished; awaiting finish of 1 more threads\n",
            "2021-04-26 13:06:09,503: INFO : worker thread finished; awaiting finish of 0 more threads\n",
            "2021-04-26 13:06:09,506: INFO : EPOCH - 15 : training on 256794 raw words (240027 effective words) took 1.3s, 185446 effective words/s\n",
            "2021-04-26 13:06:10,635: INFO : EPOCH 16 - PROGRESS: at 81.85% examples, 172992 words/s, in_qsize 5, out_qsize 0\n",
            "2021-04-26 13:06:10,680: INFO : worker thread finished; awaiting finish of 3 more threads\n",
            "2021-04-26 13:06:10,697: INFO : worker thread finished; awaiting finish of 2 more threads\n",
            "2021-04-26 13:06:10,779: INFO : worker thread finished; awaiting finish of 1 more threads\n",
            "2021-04-26 13:06:10,781: INFO : worker thread finished; awaiting finish of 0 more threads\n",
            "2021-04-26 13:06:10,782: INFO : EPOCH - 16 : training on 256794 raw words (240073 effective words) took 1.3s, 189430 effective words/s\n",
            "2021-04-26 13:06:11,854: INFO : EPOCH 17 - PROGRESS: at 73.99% examples, 165695 words/s, in_qsize 7, out_qsize 0\n",
            "2021-04-26 13:06:12,043: INFO : worker thread finished; awaiting finish of 3 more threads\n",
            "2021-04-26 13:06:12,050: INFO : worker thread finished; awaiting finish of 2 more threads\n",
            "2021-04-26 13:06:12,063: INFO : worker thread finished; awaiting finish of 1 more threads\n",
            "2021-04-26 13:06:12,087: INFO : worker thread finished; awaiting finish of 0 more threads\n",
            "2021-04-26 13:06:12,088: INFO : EPOCH - 17 : training on 256794 raw words (239868 effective words) took 1.3s, 185513 effective words/s\n",
            "2021-04-26 13:06:13,100: INFO : EPOCH 18 - PROGRESS: at 81.85% examples, 193617 words/s, in_qsize 5, out_qsize 0\n",
            "2021-04-26 13:06:13,217: INFO : worker thread finished; awaiting finish of 3 more threads\n",
            "2021-04-26 13:06:13,231: INFO : worker thread finished; awaiting finish of 2 more threads\n",
            "2021-04-26 13:06:13,273: INFO : worker thread finished; awaiting finish of 1 more threads\n",
            "2021-04-26 13:06:13,286: INFO : worker thread finished; awaiting finish of 0 more threads\n",
            "2021-04-26 13:06:13,288: INFO : EPOCH - 18 : training on 256794 raw words (240015 effective words) took 1.2s, 202037 effective words/s\n",
            "2021-04-26 13:06:14,364: INFO : EPOCH 19 - PROGRESS: at 81.85% examples, 182535 words/s, in_qsize 5, out_qsize 0\n",
            "2021-04-26 13:06:14,411: INFO : worker thread finished; awaiting finish of 3 more threads\n",
            "2021-04-26 13:06:14,418: INFO : worker thread finished; awaiting finish of 2 more threads\n",
            "2021-04-26 13:06:14,490: INFO : worker thread finished; awaiting finish of 1 more threads\n",
            "2021-04-26 13:06:14,498: INFO : worker thread finished; awaiting finish of 0 more threads\n",
            "2021-04-26 13:06:14,500: INFO : EPOCH - 19 : training on 256794 raw words (239911 effective words) took 1.2s, 200418 effective words/s\n",
            "2021-04-26 13:06:15,563: INFO : EPOCH 20 - PROGRESS: at 84.86% examples, 192463 words/s, in_qsize 4, out_qsize 0\n",
            "2021-04-26 13:06:15,590: INFO : worker thread finished; awaiting finish of 3 more threads\n",
            "2021-04-26 13:06:15,594: INFO : worker thread finished; awaiting finish of 2 more threads\n",
            "2021-04-26 13:06:15,619: INFO : worker thread finished; awaiting finish of 1 more threads\n",
            "2021-04-26 13:06:15,663: INFO : worker thread finished; awaiting finish of 0 more threads\n",
            "2021-04-26 13:06:15,665: INFO : EPOCH - 20 : training on 256794 raw words (239937 effective words) took 1.2s, 207315 effective words/s\n",
            "2021-04-26 13:06:16,743: INFO : EPOCH 21 - PROGRESS: at 81.85% examples, 181562 words/s, in_qsize 5, out_qsize 0\n",
            "2021-04-26 13:06:16,853: INFO : worker thread finished; awaiting finish of 3 more threads\n",
            "2021-04-26 13:06:16,864: INFO : worker thread finished; awaiting finish of 2 more threads\n",
            "2021-04-26 13:06:16,915: INFO : worker thread finished; awaiting finish of 1 more threads\n",
            "2021-04-26 13:06:16,942: INFO : worker thread finished; awaiting finish of 0 more threads\n",
            "2021-04-26 13:06:16,944: INFO : EPOCH - 21 : training on 256794 raw words (239911 effective words) took 1.3s, 189233 effective words/s\n",
            "2021-04-26 13:06:17,955: INFO : EPOCH 22 - PROGRESS: at 80.90% examples, 193483 words/s, in_qsize 5, out_qsize 0\n",
            "2021-04-26 13:06:18,010: INFO : worker thread finished; awaiting finish of 3 more threads\n",
            "2021-04-26 13:06:18,018: INFO : worker thread finished; awaiting finish of 2 more threads\n",
            "2021-04-26 13:06:18,089: INFO : worker thread finished; awaiting finish of 1 more threads\n",
            "2021-04-26 13:06:18,100: INFO : worker thread finished; awaiting finish of 0 more threads\n",
            "2021-04-26 13:06:18,101: INFO : EPOCH - 22 : training on 256794 raw words (239937 effective words) took 1.1s, 209056 effective words/s\n",
            "2021-04-26 13:06:19,120: INFO : EPOCH 23 - PROGRESS: at 69.35% examples, 165378 words/s, in_qsize 7, out_qsize 0\n",
            "2021-04-26 13:06:19,315: INFO : worker thread finished; awaiting finish of 3 more threads\n",
            "2021-04-26 13:06:19,328: INFO : worker thread finished; awaiting finish of 2 more threads\n",
            "2021-04-26 13:06:19,384: INFO : worker thread finished; awaiting finish of 1 more threads\n",
            "2021-04-26 13:06:19,406: INFO : worker thread finished; awaiting finish of 0 more threads\n",
            "2021-04-26 13:06:19,407: INFO : EPOCH - 23 : training on 256794 raw words (239981 effective words) took 1.3s, 185432 effective words/s\n",
            "2021-04-26 13:06:20,449: INFO : EPOCH 24 - PROGRESS: at 84.99% examples, 196319 words/s, in_qsize 4, out_qsize 0\n",
            "2021-04-26 13:06:20,473: INFO : worker thread finished; awaiting finish of 3 more threads\n",
            "2021-04-26 13:06:20,486: INFO : worker thread finished; awaiting finish of 2 more threads\n",
            "2021-04-26 13:06:20,524: INFO : worker thread finished; awaiting finish of 1 more threads\n",
            "2021-04-26 13:06:20,552: INFO : worker thread finished; awaiting finish of 0 more threads\n",
            "2021-04-26 13:06:20,554: INFO : EPOCH - 24 : training on 256794 raw words (240034 effective words) took 1.1s, 210853 effective words/s\n",
            "2021-04-26 13:06:21,597: INFO : EPOCH 25 - PROGRESS: at 84.99% examples, 195849 words/s, in_qsize 4, out_qsize 0\n",
            "2021-04-26 13:06:21,612: INFO : worker thread finished; awaiting finish of 3 more threads\n",
            "2021-04-26 13:06:21,649: INFO : worker thread finished; awaiting finish of 2 more threads\n",
            "2021-04-26 13:06:21,672: INFO : worker thread finished; awaiting finish of 1 more threads\n",
            "2021-04-26 13:06:21,698: INFO : worker thread finished; awaiting finish of 0 more threads\n",
            "2021-04-26 13:06:21,700: INFO : EPOCH - 25 : training on 256794 raw words (239913 effective words) took 1.1s, 210899 effective words/s\n",
            "2021-04-26 13:06:22,747: INFO : EPOCH 26 - PROGRESS: at 88.69% examples, 205046 words/s, in_qsize 3, out_qsize 1\n",
            "2021-04-26 13:06:22,756: INFO : worker thread finished; awaiting finish of 3 more threads\n",
            "2021-04-26 13:06:22,796: INFO : worker thread finished; awaiting finish of 2 more threads\n",
            "2021-04-26 13:06:22,836: INFO : worker thread finished; awaiting finish of 1 more threads\n",
            "2021-04-26 13:06:22,843: INFO : worker thread finished; awaiting finish of 0 more threads\n",
            "2021-04-26 13:06:22,844: INFO : EPOCH - 26 : training on 256794 raw words (240073 effective words) took 1.1s, 211756 effective words/s\n",
            "2021-04-26 13:06:23,868: INFO : EPOCH 27 - PROGRESS: at 77.76% examples, 182696 words/s, in_qsize 6, out_qsize 0\n",
            "2021-04-26 13:06:23,983: INFO : worker thread finished; awaiting finish of 3 more threads\n",
            "2021-04-26 13:06:24,039: INFO : worker thread finished; awaiting finish of 2 more threads\n",
            "2021-04-26 13:06:24,093: INFO : worker thread finished; awaiting finish of 1 more threads\n",
            "2021-04-26 13:06:24,106: INFO : worker thread finished; awaiting finish of 0 more threads\n",
            "2021-04-26 13:06:24,107: INFO : EPOCH - 27 : training on 256794 raw words (240155 effective words) took 1.2s, 192168 effective words/s\n",
            "2021-04-26 13:06:25,127: INFO : EPOCH 28 - PROGRESS: at 85.55% examples, 201676 words/s, in_qsize 4, out_qsize 0\n",
            "2021-04-26 13:06:25,160: INFO : worker thread finished; awaiting finish of 3 more threads\n",
            "2021-04-26 13:06:25,218: INFO : worker thread finished; awaiting finish of 2 more threads\n",
            "2021-04-26 13:06:25,245: INFO : worker thread finished; awaiting finish of 1 more threads\n",
            "2021-04-26 13:06:25,278: INFO : worker thread finished; awaiting finish of 0 more threads\n",
            "2021-04-26 13:06:25,280: INFO : EPOCH - 28 : training on 256794 raw words (239975 effective words) took 1.2s, 206681 effective words/s\n",
            "2021-04-26 13:06:26,307: INFO : EPOCH 29 - PROGRESS: at 84.99% examples, 199013 words/s, in_qsize 4, out_qsize 0\n",
            "2021-04-26 13:06:26,330: INFO : worker thread finished; awaiting finish of 3 more threads\n",
            "2021-04-26 13:06:26,394: INFO : worker thread finished; awaiting finish of 2 more threads\n",
            "2021-04-26 13:06:26,426: INFO : worker thread finished; awaiting finish of 1 more threads\n",
            "2021-04-26 13:06:26,444: INFO : worker thread finished; awaiting finish of 0 more threads\n",
            "2021-04-26 13:06:26,445: INFO : EPOCH - 29 : training on 256794 raw words (239674 effective words) took 1.2s, 207295 effective words/s\n",
            "2021-04-26 13:06:27,464: INFO : EPOCH 30 - PROGRESS: at 77.76% examples, 183241 words/s, in_qsize 6, out_qsize 0\n",
            "2021-04-26 13:06:27,615: INFO : worker thread finished; awaiting finish of 3 more threads\n",
            "2021-04-26 13:06:27,672: INFO : worker thread finished; awaiting finish of 2 more threads\n",
            "2021-04-26 13:06:27,692: INFO : worker thread finished; awaiting finish of 1 more threads\n",
            "2021-04-26 13:06:27,720: INFO : worker thread finished; awaiting finish of 0 more threads\n",
            "2021-04-26 13:06:27,722: INFO : EPOCH - 30 : training on 256794 raw words (239920 effective words) took 1.3s, 189623 effective words/s\n",
            "2021-04-26 13:06:28,750: INFO : EPOCH 31 - PROGRESS: at 77.76% examples, 181319 words/s, in_qsize 6, out_qsize 0\n",
            "2021-04-26 13:06:28,838: INFO : worker thread finished; awaiting finish of 3 more threads\n",
            "2021-04-26 13:06:28,918: INFO : worker thread finished; awaiting finish of 2 more threads\n",
            "2021-04-26 13:06:28,943: INFO : worker thread finished; awaiting finish of 1 more threads\n",
            "2021-04-26 13:06:28,949: INFO : worker thread finished; awaiting finish of 0 more threads\n",
            "2021-04-26 13:06:28,950: INFO : EPOCH - 31 : training on 256794 raw words (240049 effective words) took 1.2s, 196904 effective words/s\n",
            "2021-04-26 13:06:30,007: INFO : EPOCH 32 - PROGRESS: at 88.69% examples, 202734 words/s, in_qsize 3, out_qsize 1\n",
            "2021-04-26 13:06:30,015: INFO : worker thread finished; awaiting finish of 3 more threads\n",
            "2021-04-26 13:06:30,032: INFO : worker thread finished; awaiting finish of 2 more threads\n",
            "2021-04-26 13:06:30,057: INFO : worker thread finished; awaiting finish of 1 more threads\n",
            "2021-04-26 13:06:30,076: INFO : worker thread finished; awaiting finish of 0 more threads\n",
            "2021-04-26 13:06:30,078: INFO : EPOCH - 32 : training on 256794 raw words (240049 effective words) took 1.1s, 214666 effective words/s\n",
            "2021-04-26 13:06:31,154: INFO : EPOCH 33 - PROGRESS: at 80.90% examples, 181644 words/s, in_qsize 5, out_qsize 0\n",
            "2021-04-26 13:06:31,250: INFO : worker thread finished; awaiting finish of 3 more threads\n",
            "2021-04-26 13:06:31,283: INFO : worker thread finished; awaiting finish of 2 more threads\n",
            "2021-04-26 13:06:31,309: INFO : worker thread finished; awaiting finish of 1 more threads\n",
            "2021-04-26 13:06:31,338: INFO : worker thread finished; awaiting finish of 0 more threads\n",
            "2021-04-26 13:06:31,343: INFO : EPOCH - 33 : training on 256794 raw words (239949 effective words) took 1.3s, 191065 effective words/s\n",
            "2021-04-26 13:06:32,417: INFO : EPOCH 34 - PROGRESS: at 81.85% examples, 182912 words/s, in_qsize 5, out_qsize 0\n",
            "2021-04-26 13:06:32,504: INFO : worker thread finished; awaiting finish of 3 more threads\n",
            "2021-04-26 13:06:32,506: INFO : worker thread finished; awaiting finish of 2 more threads\n",
            "2021-04-26 13:06:32,557: INFO : worker thread finished; awaiting finish of 1 more threads\n",
            "2021-04-26 13:06:32,571: INFO : worker thread finished; awaiting finish of 0 more threads\n",
            "2021-04-26 13:06:32,572: INFO : EPOCH - 34 : training on 256794 raw words (239856 effective words) took 1.2s, 197599 effective words/s\n",
            "2021-04-26 13:06:33,593: INFO : EPOCH 35 - PROGRESS: at 81.85% examples, 191181 words/s, in_qsize 5, out_qsize 0\n",
            "2021-04-26 13:06:33,654: INFO : worker thread finished; awaiting finish of 3 more threads\n",
            "2021-04-26 13:06:33,679: INFO : worker thread finished; awaiting finish of 2 more threads\n",
            "2021-04-26 13:06:33,743: INFO : worker thread finished; awaiting finish of 1 more threads\n",
            "2021-04-26 13:06:33,760: INFO : worker thread finished; awaiting finish of 0 more threads\n",
            "2021-04-26 13:06:33,761: INFO : EPOCH - 35 : training on 256794 raw words (239825 effective words) took 1.2s, 203087 effective words/s\n",
            "2021-04-26 13:06:34,777: INFO : EPOCH 36 - PROGRESS: at 81.85% examples, 193123 words/s, in_qsize 5, out_qsize 0\n",
            "2021-04-26 13:06:34,948: INFO : worker thread finished; awaiting finish of 3 more threads\n",
            "2021-04-26 13:06:34,974: INFO : worker thread finished; awaiting finish of 2 more threads\n",
            "2021-04-26 13:06:34,995: INFO : worker thread finished; awaiting finish of 1 more threads\n",
            "2021-04-26 13:06:35,040: INFO : worker thread finished; awaiting finish of 0 more threads\n",
            "2021-04-26 13:06:35,044: INFO : EPOCH - 36 : training on 256794 raw words (239990 effective words) took 1.3s, 188844 effective words/s\n",
            "2021-04-26 13:06:36,098: INFO : EPOCH 37 - PROGRESS: at 84.99% examples, 193801 words/s, in_qsize 4, out_qsize 0\n",
            "2021-04-26 13:06:36,161: INFO : worker thread finished; awaiting finish of 3 more threads\n",
            "2021-04-26 13:06:36,175: INFO : worker thread finished; awaiting finish of 2 more threads\n",
            "2021-04-26 13:06:36,180: INFO : worker thread finished; awaiting finish of 1 more threads\n",
            "2021-04-26 13:06:36,213: INFO : worker thread finished; awaiting finish of 0 more threads\n",
            "2021-04-26 13:06:36,214: INFO : EPOCH - 37 : training on 256794 raw words (239779 effective words) took 1.2s, 206358 effective words/s\n",
            "2021-04-26 13:06:37,269: INFO : EPOCH 38 - PROGRESS: at 88.69% examples, 203300 words/s, in_qsize 3, out_qsize 1\n",
            "2021-04-26 13:06:37,271: INFO : worker thread finished; awaiting finish of 3 more threads\n",
            "2021-04-26 13:06:37,296: INFO : worker thread finished; awaiting finish of 2 more threads\n",
            "2021-04-26 13:06:37,328: INFO : worker thread finished; awaiting finish of 1 more threads\n",
            "2021-04-26 13:06:37,345: INFO : worker thread finished; awaiting finish of 0 more threads\n",
            "2021-04-26 13:06:37,349: INFO : EPOCH - 38 : training on 256794 raw words (239903 effective words) took 1.1s, 213355 effective words/s\n",
            "2021-04-26 13:06:38,368: INFO : EPOCH 39 - PROGRESS: at 84.99% examples, 201174 words/s, in_qsize 4, out_qsize 0\n",
            "2021-04-26 13:06:38,407: INFO : worker thread finished; awaiting finish of 3 more threads\n",
            "2021-04-26 13:06:38,429: INFO : worker thread finished; awaiting finish of 2 more threads\n",
            "2021-04-26 13:06:38,459: INFO : worker thread finished; awaiting finish of 1 more threads\n",
            "2021-04-26 13:06:38,476: INFO : worker thread finished; awaiting finish of 0 more threads\n",
            "2021-04-26 13:06:38,478: INFO : EPOCH - 39 : training on 256794 raw words (240018 effective words) took 1.1s, 214545 effective words/s\n",
            "2021-04-26 13:06:39,590: INFO : EPOCH 40 - PROGRESS: at 88.69% examples, 194266 words/s, in_qsize 3, out_qsize 1\n",
            "2021-04-26 13:06:39,592: INFO : worker thread finished; awaiting finish of 3 more threads\n",
            "2021-04-26 13:06:39,637: INFO : worker thread finished; awaiting finish of 2 more threads\n",
            "2021-04-26 13:06:39,642: INFO : worker thread finished; awaiting finish of 1 more threads\n",
            "2021-04-26 13:06:39,651: INFO : worker thread finished; awaiting finish of 0 more threads\n",
            "2021-04-26 13:06:39,652: INFO : EPOCH - 40 : training on 256794 raw words (239955 effective words) took 1.2s, 207702 effective words/s\n",
            "2021-04-26 13:06:39,654: INFO : training on a 10271760 raw words (9598215 effective words) took 49.2s, 195219 effective words/s\n"
          ],
          "name": "stderr"
        }
      ]
    },
    {
      "cell_type": "code",
      "metadata": {
        "colab": {
          "base_uri": "https://localhost:8080/"
        },
        "id": "XlFPMlrtSRJR",
        "outputId": "c45add4b-f896-4d2a-eb12-d00a77f5ffcd"
      },
      "source": [
        "# 모델 저장\n",
        "md_name = \"D2V__4_workers__600_size__2_mincnt\"\n",
        "md_doc.save(md_name)"
      ],
      "execution_count": 36,
      "outputs": [
        {
          "output_type": "stream",
          "text": [
            "2021-04-26 13:06:43,307: INFO : saving Doc2Vec object under D2V__4_workers__600_size__2_mincnt, separately None\n",
            "2021-04-26 13:06:43,935: INFO : saved D2V__4_workers__600_size__2_mincnt\n"
          ],
          "name": "stderr"
        }
      ]
    },
    {
      "cell_type": "code",
      "metadata": {
        "id": "U-YxFdHWUDvN"
      },
      "source": [
        "data_vec_doc = get_vector_dataset(text, md_doc, 600) # (데이터셋, 모델, 임베딩 단어수)"
      ],
      "execution_count": 37,
      "outputs": []
    },
    {
      "cell_type": "markdown",
      "metadata": {
        "id": "VRddzkdyyOoy"
      },
      "source": [
        "## TF-IDF\n",
        "[참고자료](https://devtimes.com/nb-text-classification-tf-idf)"
      ]
    },
    {
      "cell_type": "markdown",
      "metadata": {
        "id": "wQpqSYOxy3XH"
      },
      "source": [
        "    문서의 핵심어를 추출할 때 사용되는 가중치\n",
        "    TF(Term Frequency, 단어의 빈도)\n",
        "    IDF(역문서 빈도, Inverse Document Frequency) \n",
        "    문장에서 단어의 빈도수를 계산하되 너무 자주 등장하는 단어는 크게 의미를 두지 않도록 가중치를 낮게 줌.\n",
        "\n",
        "        * min_df : 설정한 값보다 특정 토큰의 df값이 더 적게 나오면 벡터화 과정에서 제거\n",
        "        * analyzer : 분석하기 위한 기준 단위(word:단어 하나를 단위로, char:문자 하나를 단위로)\n",
        "        * sublinear_tf : 문서의 단어 빈도 수에 대한 스무딩(smoothing) 여부\n",
        "        * ngram_range : 빈도의 기본 단위를 설정할 n-gram 범위\n",
        "        * max_features : 각 벡터의 최대 길이"
      ]
    },
    {
      "cell_type": "code",
      "metadata": {
        "id": "KeQkVQpXyONp"
      },
      "source": [
        "vectorizer = TfidfVectorizer(\n",
        "            min_df = 0.0,\n",
        "            analyzer = \"word\",\n",
        "            sublinear_tf = True,\n",
        "            ngram_range = (1,3),\n",
        "            max_features = 600\n",
        "        )"
      ],
      "execution_count": 38,
      "outputs": []
    },
    {
      "cell_type": "code",
      "metadata": {
        "id": "ttFNp3yJ5eHr"
      },
      "source": [
        "X_TI = vectorizer.fit_transform(list(data['Text']))"
      ],
      "execution_count": 39,
      "outputs": []
    },
    {
      "cell_type": "markdown",
      "metadata": {
        "id": "PA3wllJC9ojk"
      },
      "source": [
        "# 분류 모델들"
      ]
    },
    {
      "cell_type": "markdown",
      "metadata": {
        "id": "QEAwmfljPQY4"
      },
      "source": [
        "## 0. 셋트 분리"
      ]
    },
    {
      "cell_type": "code",
      "metadata": {
        "colab": {
          "base_uri": "https://localhost:8080/"
        },
        "id": "j8iawVGbO4vH",
        "outputId": "54875f67-f5d6-4226-9c87-194a27f3aa2c"
      },
      "source": [
        "news.columns, len(news)"
      ],
      "execution_count": 40,
      "outputs": [
        {
          "output_type": "execute_result",
          "data": {
            "text/plain": [
              "(Index(['No', 'Code', 'Date', 'Journal', 'Title', 'Text', 'URL', 'Sample Y/N',\n",
              "        'In Charge', 'S'],\n",
              "       dtype='object'), 1592)"
            ]
          },
          "metadata": {
            "tags": []
          },
          "execution_count": 40
        }
      ]
    },
    {
      "cell_type": "code",
      "metadata": {
        "id": "PkSDpqeLKQnN"
      },
      "source": [
        "X = data_vec_word\n",
        "X_d = data_vec_word\n",
        "y = np.array(news['S'])\n",
        "\n",
        "# for Word2Vec\n",
        "X_tr, X_ts, y_tr, y_ts = train_test_split(X,y,             \n",
        "                                          test_size = 0.2,\n",
        "                                          stratify = y)\n",
        "\n",
        "# for Doc2Vec\n",
        "X_tr_d, X_ts_d, y_tr_d, y_ts_d = train_test_split(X_d,y,             \n",
        "                                          test_size = 0.2,\n",
        "                                          stratify = y)\n",
        "\n",
        "# for TF-IDF\n",
        "X_tr_t, X_ts_t,y_tr_t,y_ts_t = train_test_split(X_TI,y,\n",
        "                                          test_size = 0.2,\n",
        "                                          stratify = y)"
      ],
      "execution_count": 41,
      "outputs": []
    },
    {
      "cell_type": "code",
      "metadata": {
        "id": "_3TeUbkHLW0x"
      },
      "source": [
        "# for Word2Vec\n",
        "X_tr_tr, X_val, y_tr_tr, y_val = train_test_split(X,y,             \n",
        "                                          test_size = 0.2,\n",
        "                                          stratify = y)\n",
        "\n",
        "# for Doc2Vec\n",
        "X_tr_d_tr, X_val_d, y_tr_d_tr, y_val_d = train_test_split(X_d,y,             \n",
        "                                          test_size = 0.2,\n",
        "                                          stratify = y)\n",
        "\n",
        "# for TF-IDF\n",
        "X_tr_t_tr, X_val_t,y_tr_t_tr,y_val_t = train_test_split(X_TI,y,\n",
        "                                          test_size = 0.2,\n",
        "                                          stratify = y)"
      ],
      "execution_count": 42,
      "outputs": []
    },
    {
      "cell_type": "code",
      "metadata": {
        "colab": {
          "base_uri": "https://localhost:8080/"
        },
        "id": "AnTOfHNRSh9k",
        "outputId": "ff70e4fd-43cc-43d4-b2fb-28f41071ebb7"
      },
      "source": [
        "len(X_tr),len(y_tr)"
      ],
      "execution_count": 210,
      "outputs": [
        {
          "output_type": "execute_result",
          "data": {
            "text/plain": [
              "(1273, 1273)"
            ]
          },
          "metadata": {
            "tags": []
          },
          "execution_count": 210
        }
      ]
    },
    {
      "cell_type": "code",
      "metadata": {
        "colab": {
          "base_uri": "https://localhost:8080/"
        },
        "id": "HwfvvshaVS21",
        "outputId": "465674d8-3254-4588-de27-6025b8502da6"
      },
      "source": [
        "len(X_tr_d),len(y_tr_d)"
      ],
      "execution_count": 212,
      "outputs": [
        {
          "output_type": "execute_result",
          "data": {
            "text/plain": [
              "(1273, 1273)"
            ]
          },
          "metadata": {
            "tags": []
          },
          "execution_count": 212
        }
      ]
    },
    {
      "cell_type": "code",
      "metadata": {
        "colab": {
          "base_uri": "https://localhost:8080/"
        },
        "id": "ddiJKjbwAmuf",
        "outputId": "4281c8ea-8d74-4c41-d958-ff3491395279"
      },
      "source": [
        "X_tr_t"
      ],
      "execution_count": 213,
      "outputs": [
        {
          "output_type": "execute_result",
          "data": {
            "text/plain": [
              "<1273x600 sparse matrix of type '<class 'numpy.float64'>'\n",
              "\twith 87887 stored elements in Compressed Sparse Row format>"
            ]
          },
          "metadata": {
            "tags": []
          },
          "execution_count": 213
        }
      ]
    },
    {
      "cell_type": "markdown",
      "metadata": {
        "id": "keW86NqpjWaN"
      },
      "source": [
        "## 1. K- neigbors"
      ]
    },
    {
      "cell_type": "markdown",
      "metadata": {
        "id": "flGFoiE4B7fE"
      },
      "source": [
        "### Word2Vec"
      ]
    },
    {
      "cell_type": "code",
      "metadata": {
        "colab": {
          "base_uri": "https://localhost:8080/"
        },
        "id": "U8-Y0lYqlKsP",
        "outputId": "ce4572dc-5ba1-40bb-c3cf-f4b47a5223ed"
      },
      "source": [
        "tr_sc_knn = []\n",
        "ts_sc_knn = []\n",
        "diff = []\n",
        "\n",
        "for n in range(1,25):\n",
        "    knn = KNeighborsClassifier(n_neighbors = n) # 모델생성\n",
        "    knn.fit(X_tr,y_tr) # KNN 모델 훈련\n",
        "\n",
        "    # 훈련 셋 평가 (훈련 셋 정확도)\n",
        "    tr_sc = knn.score(X_tr,y_tr) \n",
        "    tr_sc_knn.append(tr_sc)\n",
        "    \n",
        "    # 테스트 셋 평가 (테스트 셋 정확도) -> 일반화 성능\n",
        "    ts_sc = knn.score(X_ts,y_ts)\n",
        "    ts_sc_knn.append(ts_sc)\n",
        "\n",
        "    d = tr_sc - ts_sc\n",
        "    diff.append(d)\n",
        "\n",
        "diff.index(min(diff)), min(diff)"
      ],
      "execution_count": 245,
      "outputs": [
        {
          "output_type": "execute_result",
          "data": {
            "text/plain": [
              "(19, 0.015142075466587301)"
            ]
          },
          "metadata": {
            "tags": []
          },
          "execution_count": 245
        }
      ]
    },
    {
      "cell_type": "code",
      "metadata": {
        "colab": {
          "base_uri": "https://localhost:8080/"
        },
        "id": "dD8EnFpbWGoN",
        "outputId": "e075e117-8b01-4fab-af43-184b0a734eea"
      },
      "source": [
        "tr_sc_knn[19],ts_sc_knn[19],diff[19]"
      ],
      "execution_count": 246,
      "outputs": [
        {
          "output_type": "execute_result",
          "data": {
            "text/plain": [
              "(0.7737627651217597, 0.7586206896551724, 0.015142075466587301)"
            ]
          },
          "metadata": {
            "tags": []
          },
          "execution_count": 246
        }
      ]
    },
    {
      "cell_type": "code",
      "metadata": {
        "colab": {
          "base_uri": "https://localhost:8080/",
          "height": 265
        },
        "id": "ZGFI3JcCn97M",
        "outputId": "85bbead1-8c93-4cec-e5d3-35455cb145c2"
      },
      "source": [
        "plt.plot(tr_sc_knn,label = 'Train')\n",
        "plt.plot(ts_sc_knn, label = 'Test')\n",
        "plt.grid()\n",
        "plt.legend()\n",
        "plt.show()"
      ],
      "execution_count": 247,
      "outputs": [
        {
          "output_type": "display_data",
          "data": {
            "image/png": "[encoded data removed]",
            "text/plain": [
              "<Figure size 432x288 with 1 Axes>"
            ]
          },
          "metadata": {
            "tags": [],
            "needs_background": "light"
          }
        }
      ]
    },
    {
      "cell_type": "markdown",
      "metadata": {
        "id": "l9hLd780Wd8A"
      },
      "source": [
        "### Doc2Vec"
      ]
    },
    {
      "cell_type": "code",
      "metadata": {
        "colab": {
          "base_uri": "https://localhost:8080/"
        },
        "id": "xgPOs0RMWdlV",
        "outputId": "59c05416-b905-4a09-9f9f-5e4e901001d1"
      },
      "source": [
        "tr_sc_knn = []\n",
        "ts_sc_knn = []\n",
        "diff = []\n",
        "\n",
        "for n in range(1,15):\n",
        "    knn = KNeighborsClassifier(n_neighbors = n) # 모델생성\n",
        "    knn.fit(X_tr_d,y_tr_d) # KNN 모델 훈련\n",
        "\n",
        "    # 훈련 셋 평가 (훈련 셋 정확도)\n",
        "    tr_sc = knn.score(X_tr_d,y_tr_d) \n",
        "    tr_sc_knn.append(tr_sc)\n",
        "    \n",
        "    # 테스트 셋 평가 (테스트 셋 정확도) -> 일반화 성능\n",
        "    ts_sc = knn.score(X_ts_d,y_ts_d)\n",
        "    ts_sc_knn.append(ts_sc)\n",
        "\n",
        "    d = tr_sc - ts_sc\n",
        "    diff.append(d)\n",
        "\n",
        "print( diff.index(min(diff)), min(diff) )"
      ],
      "execution_count": 248,
      "outputs": [
        {
          "output_type": "stream",
          "text": [
            "11 0.004188757581503499\n"
          ],
          "name": "stdout"
        }
      ]
    },
    {
      "cell_type": "code",
      "metadata": {
        "colab": {
          "base_uri": "https://localhost:8080/"
        },
        "id": "Fyse_oLhXocB",
        "outputId": "7aefde21-dece-44e6-874a-d79edd953ac2"
      },
      "source": [
        "ts_sc_knn.index(max(ts_sc_knn)),max(ts_sc_knn)"
      ],
      "execution_count": 249,
      "outputs": [
        {
          "output_type": "execute_result",
          "data": {
            "text/plain": [
              "(11, 0.7774294670846394)"
            ]
          },
          "metadata": {
            "tags": []
          },
          "execution_count": 249
        }
      ]
    },
    {
      "cell_type": "code",
      "metadata": {
        "colab": {
          "base_uri": "https://localhost:8080/"
        },
        "id": "1_dZQ99cWs9t",
        "outputId": "83be696d-fd17-4f57-8ebe-903080ea6fe1"
      },
      "source": [
        "tr_sc_knn[11],ts_sc_knn[11],diff[11]"
      ],
      "execution_count": 250,
      "outputs": [
        {
          "output_type": "execute_result",
          "data": {
            "text/plain": [
              "(0.781618224666143, 0.7774294670846394, 0.004188757581503499)"
            ]
          },
          "metadata": {
            "tags": []
          },
          "execution_count": 250
        }
      ]
    },
    {
      "cell_type": "code",
      "metadata": {
        "colab": {
          "base_uri": "https://localhost:8080/",
          "height": 265
        },
        "id": "FChw3nYJWuCC",
        "outputId": "68f7285d-41cd-4f11-a796-dea6a307dab0"
      },
      "source": [
        "plt.plot(tr_sc_knn,label = 'Train')\n",
        "plt.plot(ts_sc_knn, label = 'Test')\n",
        "plt.grid()\n",
        "plt.legend()\n",
        "plt.show()"
      ],
      "execution_count": 251,
      "outputs": [
        {
          "output_type": "display_data",
          "data": {
            "image/png": "[encoded data removed]",
            "text/plain": [
              "<Figure size 432x288 with 1 Axes>"
            ]
          },
          "metadata": {
            "tags": [],
            "needs_background": "light"
          }
        }
      ]
    },
    {
      "cell_type": "markdown",
      "metadata": {
        "id": "jB0iFifpB_m9"
      },
      "source": [
        "### TF-IDF"
      ]
    },
    {
      "cell_type": "code",
      "metadata": {
        "colab": {
          "base_uri": "https://localhost:8080/"
        },
        "id": "r4UyPW6ZCCUt",
        "outputId": "54eb32b1-81ed-4e9c-974f-c84c182cb557"
      },
      "source": [
        "tr_sc_knn = []\n",
        "ts_sc_knn = []\n",
        "diff = []\n",
        "\n",
        "for n in range(1,15):\n",
        "    knn = KNeighborsClassifier(n_neighbors = n) # 모델생성\n",
        "    knn.fit(X_tr_t,y_tr_t) # KNN 모델 훈련\n",
        "\n",
        "    # 훈련 셋 평가 (훈련 셋 정확도)\n",
        "    tr_sc = knn.score(X_tr_t,y_tr_t) \n",
        "    tr_sc_knn.append(tr_sc)\n",
        "    \n",
        "    # 테스트 셋 평가 (테스트 셋 정확도) -> 일반화 성능\n",
        "    ts_sc = knn.score(X_ts_t,y_ts_t)\n",
        "    ts_sc_knn.append(ts_sc)\n",
        "\n",
        "    diff.append(tr_sc - ts_sc)\n",
        "\n",
        "a = min(diff)\n",
        "b = diff.index(a)\n",
        "\n",
        "print(b,a)\n",
        "print(tr_sc_knn[b],ts_sc_knn[b],diff[b])"
      ],
      "execution_count": 262,
      "outputs": [
        {
          "output_type": "stream",
          "text": [
            "10 0.00261766567262689\n",
            "0.7800471327572663 0.7774294670846394 0.00261766567262689\n"
          ],
          "name": "stdout"
        }
      ]
    },
    {
      "cell_type": "code",
      "metadata": {
        "colab": {
          "base_uri": "https://localhost:8080/",
          "height": 265
        },
        "id": "BySZhhsrCrIW",
        "outputId": "60f494c4-7a81-4c2e-d493-92d869edf3f5"
      },
      "source": [
        "plt.plot(tr_sc_knn,label = 'Train')\n",
        "plt.plot(ts_sc_knn, label = 'Test')\n",
        "plt.grid()\n",
        "plt.legend()\n",
        "plt.show()"
      ],
      "execution_count": 263,
      "outputs": [
        {
          "output_type": "display_data",
          "data": {
            "image/png": "[encoded data removed]",
            "text/plain": [
              "<Figure size 432x288 with 1 Axes>"
            ]
          },
          "metadata": {
            "tags": [],
            "needs_background": "light"
          }
        }
      ]
    },
    {
      "cell_type": "markdown",
      "metadata": {
        "id": "oyi5302HQvZC"
      },
      "source": [
        "## 2. Logistic regression"
      ]
    },
    {
      "cell_type": "markdown",
      "metadata": {
        "id": "0Q4atQ6nbiD9"
      },
      "source": [
        "    params\n",
        "    max_iter : 매개변수에서 반복 횟수. 기본값 100\n",
        "    solver : 사용할 알고리즘 선택 가능 (기본값'lbfgs') https://wikidocs.net/book/1896\n",
        "    penalty : 'L2' 규제(릿지 방식), 'L1' 규제(라쏘방식) 선택 가능 (기본값 l2)\n",
        "    C: 규제의 강도, 작을 수록 규제가 강해짐 (기본값 1.0)\n",
        "        * '규제'는 머신러닝 모델이 훈련 세트를 너무 과도하게 학습하지 못하도록 하는 것 (과대적합제한) \n",
        "            Ridge : alpha를 매개변수로 규제 강도 조절, 값이 커질 수록 규제 강해짐\n",
        "\n"
      ]
    },
    {
      "cell_type": "markdown",
      "metadata": {
        "id": "FxKLQcHVmqYq"
      },
      "source": [
        "### Word2Vec"
      ]
    },
    {
      "cell_type": "code",
      "metadata": {
        "id": "maZkXE9ruQN6"
      },
      "source": [
        "tr_sc = []\n",
        "ts_sc = []\n",
        "diff  = []\n",
        "\n",
        "for iter in range(1200,2500,100):\n",
        "    log_reg = LogisticRegression(max_iter= iter,C=0.01) # 모델 생성\n",
        "    log_reg.fit(X_tr,y_tr) # 모델 훈련\n",
        "\n",
        "    # 훈련 셋 평가 (훈련 셋 정확도)\n",
        "    tr_scr = log_reg.score(X_tr,y_tr) \n",
        "    tr_sc.append(tr_scr)\n",
        "    \n",
        "    # 테스트 셋 평가 (테스트 셋 정확도) -> 일반화 성능\n",
        "    ts_scr = log_reg.score(X_ts,y_ts)\n",
        "    ts_sc.append(ts_scr)\n",
        "\n",
        "    d = tr_scr - ts_scr\n",
        "    diff.append(d)"
      ],
      "execution_count": null,
      "outputs": []
    },
    {
      "cell_type": "code",
      "metadata": {
        "colab": {
          "base_uri": "https://localhost:8080/"
        },
        "id": "6NLSHOytlpDg",
        "outputId": "5b9d069a-9ffb-4f1a-e22e-74b0e8d5e3c4"
      },
      "source": [
        "a = min(diff)\n",
        "b = diff.index(a)\n",
        "\n",
        "print(b,a)\n",
        "print(tr_sc[b],ts_sc[b],diff[b])  "
      ],
      "execution_count": 66,
      "outputs": [
        {
          "output_type": "stream",
          "text": [
            "1 0.005774624649397819\n",
            "0.7894736842105263 0.7836990595611285 0.005774624649397819\n"
          ],
          "name": "stdout"
        }
      ]
    },
    {
      "cell_type": "code",
      "metadata": {
        "colab": {
          "base_uri": "https://localhost:8080/",
          "height": 265
        },
        "id": "IUxe6vOKvupP",
        "outputId": "d92eab31-0adc-46b8-bb89-e23755e1904b"
      },
      "source": [
        "plt.plot(tr_sc,label = 'Train')\n",
        "plt.plot(ts_sc, label = 'Test')\n",
        "plt.legend()\n",
        "plt.grid()\n",
        "plt.show()"
      ],
      "execution_count": 67,
      "outputs": [
        {
          "output_type": "display_data",
          "data": {
            "image/png": "[encoded data removed]",
            "text/plain": [
              "<Figure size 432x288 with 1 Axes>"
            ]
          },
          "metadata": {
            "tags": [],
            "needs_background": "light"
          }
        }
      ]
    },
    {
      "cell_type": "code",
      "metadata": {
        "colab": {
          "base_uri": "https://localhost:8080/"
        },
        "id": "inutncpePuii",
        "outputId": "a9494390-7a23-4731-b320-04cdf9bbdf74"
      },
      "source": [
        "# 교차 검증\n",
        "log_reg = LogisticRegression()\n",
        "cv = cross_validate(estimator = log_reg, X=X_tr, y= y_tr, n_jobs=-1,return_train_score = True)\n",
        "cv"
      ],
      "execution_count": 46,
      "outputs": [
        {
          "output_type": "execute_result",
          "data": {
            "text/plain": [
              "{'fit_time': array([13.54547167, 13.59361196, 13.08479667, 13.09513736,  7.4318583 ]),\n",
              " 'score_time': array([0.00209737, 0.00193858, 0.00183249, 0.001966  , 0.0012207 ]),\n",
              " 'test_score': array([0.79607843, 0.75686275, 0.78431373, 0.75984252, 0.77952756]),\n",
              " 'train_score': array([0.80353635, 0.8172888 , 0.81139489, 0.8155054 , 0.79882237])}"
            ]
          },
          "metadata": {
            "tags": []
          },
          "execution_count": 46
        }
      ]
    },
    {
      "cell_type": "code",
      "metadata": {
        "colab": {
          "base_uri": "https://localhost:8080/"
        },
        "id": "unfK9ebGTga1",
        "outputId": "1b61b4e6-00e7-4988-f188-05cfc939a3f8"
      },
      "source": [
        "# 일반화 점수\n",
        "np.mean(cv['test_score'])"
      ],
      "execution_count": 47,
      "outputs": [
        {
          "output_type": "execute_result",
          "data": {
            "text/plain": [
              "0.7753249961401882"
            ]
          },
          "metadata": {
            "tags": []
          },
          "execution_count": 47
        }
      ]
    },
    {
      "cell_type": "code",
      "metadata": {
        "id": "ea0jcp5MT6ok"
      },
      "source": [
        "# 하이퍼 파라미터 튜닝-GridSearchCV, RandomizedSearchCV\n",
        "prams = {\n",
        "    'max_iter':[1200,1300,1400,1500,1600,1700,1800,1900,2000],\n",
        "    'C': [0.0001,0.001,0.01,0.1,1,10] # 규제 크기\n",
        "} # 2 x 7 하이퍼 파라미터 조합"
      ],
      "execution_count": 61,
      "outputs": []
    },
    {
      "cell_type": "code",
      "metadata": {
        "colab": {
          "base_uri": "https://localhost:8080/"
        },
        "id": "ALWE-n3eUFa9",
        "outputId": "8815b539-8a1e-4552-8f64-7ca804290fc5"
      },
      "source": [
        "log_reg = LogisticRegression()\n",
        "grid_cv = GridSearchCV(estimator=log_reg, param_grid=prams, n_jobs=-1, return_train_score=True)\n",
        "grid_cv.fit(X_tr, y_tr)"
      ],
      "execution_count": 62,
      "outputs": [
        {
          "output_type": "stream",
          "text": [
            "/usr/local/lib/python3.7/dist-packages/sklearn/linear_model/_logistic.py:940: ConvergenceWarning: lbfgs failed to converge (status=1):\n",
            "STOP: TOTAL NO. of ITERATIONS REACHED LIMIT.\n",
            "\n",
            "Increase the number of iterations (max_iter) or scale the data as shown in:\n",
            "    https://scikit-learn.org/stable/modules/preprocessing.html\n",
            "Please also refer to the documentation for alternative solver options:\n",
            "    https://scikit-learn.org/stable/modules/linear_model.html#logistic-regression\n",
            "  extra_warning_msg=_LOGISTIC_SOLVER_CONVERGENCE_MSG)\n"
          ],
          "name": "stderr"
        },
        {
          "output_type": "execute_result",
          "data": {
            "text/plain": [
              "GridSearchCV(cv=None, error_score=nan,\n",
              "             estimator=LogisticRegression(C=1.0, class_weight=None, dual=False,\n",
              "                                          fit_intercept=True,\n",
              "                                          intercept_scaling=1, l1_ratio=None,\n",
              "                                          max_iter=100, multi_class='auto',\n",
              "                                          n_jobs=None, penalty='l2',\n",
              "                                          random_state=None, solver='lbfgs',\n",
              "                                          tol=0.0001, verbose=0,\n",
              "                                          warm_start=False),\n",
              "             iid='deprecated', n_jobs=-1,\n",
              "             param_grid={'C': [0.0001, 0.001, 0.01, 0.1, 1, 10],\n",
              "                         'max_iter': [1200, 1300, 1400, 1500, 1600, 1700, 1800,\n",
              "                                      1900, 2000]},\n",
              "             pre_dispatch='2*n_jobs', refit=True, return_train_score=True,\n",
              "             scoring=None, verbose=0)"
            ]
          },
          "metadata": {
            "tags": []
          },
          "execution_count": 62
        }
      ]
    },
    {
      "cell_type": "code",
      "metadata": {
        "colab": {
          "base_uri": "https://localhost:8080/"
        },
        "id": "SFlABuEaUGMp",
        "outputId": "24b76775-5543-4e5c-fe19-47b312de4b67"
      },
      "source": [
        "grid_cv.best_params_"
      ],
      "execution_count": 63,
      "outputs": [
        {
          "output_type": "execute_result",
          "data": {
            "text/plain": [
              "{'C': 0.01, 'max_iter': 1200}"
            ]
          },
          "metadata": {
            "tags": []
          },
          "execution_count": 63
        }
      ]
    },
    {
      "cell_type": "code",
      "metadata": {
        "colab": {
          "base_uri": "https://localhost:8080/"
        },
        "id": "QDkdn0NzVYnA",
        "outputId": "d4cee33f-9731-42c4-b19c-e4eb2b2fc464"
      },
      "source": [
        "grid_cv.best_score_"
      ],
      "execution_count": 64,
      "outputs": [
        {
          "output_type": "execute_result",
          "data": {
            "text/plain": [
              "0.7792589161648911"
            ]
          },
          "metadata": {
            "tags": []
          },
          "execution_count": 64
        }
      ]
    },
    {
      "cell_type": "markdown",
      "metadata": {
        "id": "-jc9QgrrXifR"
      },
      "source": [
        "### 참고) 모델 훈련 결과"
      ]
    },
    {
      "cell_type": "code",
      "metadata": {
        "colab": {
          "base_uri": "https://localhost:8080/"
        },
        "id": "as1yTtiJVtbU",
        "outputId": "f402b78d-652b-4fa1-996a-6c5c94a646eb"
      },
      "source": [
        "# 훈련 셋 예측값\n",
        "tr_prd = log_reg.predict(X_tr)\n",
        "print(tr_prd[:10])\n",
        "print(y_tr[:10])"
      ],
      "execution_count": 92,
      "outputs": [
        {
          "output_type": "stream",
          "text": [
            "[ 1  1  1  1  1 -1  1  1  1  1]\n",
            "[1 1 1 1 0 1 1 1 0 1]\n"
          ],
          "name": "stdout"
        }
      ]
    },
    {
      "cell_type": "code",
      "metadata": {
        "colab": {
          "base_uri": "https://localhost:8080/"
        },
        "id": "vPVzVHHBWA3x",
        "outputId": "b64b79c5-aef2-4057-a8d0-51f21b0f9c11"
      },
      "source": [
        "# 훈련 셋 예측 확률\n",
        "tr_prob = log_reg.predict_proba(X_tr)\n",
        "tr_prob[:10]"
      ],
      "execution_count": 93,
      "outputs": [
        {
          "output_type": "execute_result",
          "data": {
            "text/plain": [
              "array([[0.07615539, 0.03614776, 0.88769685],\n",
              "       [0.01830771, 0.24168791, 0.74000438],\n",
              "       [0.00435529, 0.07105652, 0.92458818],\n",
              "       [0.34979563, 0.12089201, 0.52931236],\n",
              "       [0.08197869, 0.10703348, 0.81098783],\n",
              "       [0.59530746, 0.03903619, 0.36565635],\n",
              "       [0.04823559, 0.05398514, 0.89777927],\n",
              "       [0.00167631, 0.27069116, 0.72763252],\n",
              "       [0.05864199, 0.07074225, 0.87061576],\n",
              "       [0.00816966, 0.06042943, 0.93140091]])"
            ]
          },
          "metadata": {
            "tags": []
          },
          "execution_count": 93
        }
      ]
    },
    {
      "cell_type": "code",
      "metadata": {
        "colab": {
          "base_uri": "https://localhost:8080/"
        },
        "id": "hKzqqyZ5WFEJ",
        "outputId": "61c2ef94-a971-4540-c645-52260b1ce5fa"
      },
      "source": [
        "# 결정 함수(decision function)\n",
        "decision = log_reg.decision_function(X_tr)\n",
        "decision[:]"
      ],
      "execution_count": 94,
      "outputs": [
        {
          "output_type": "execute_result",
          "data": {
            "text/plain": [
              "array([[-0.57023113, -1.31539211,  1.88562325],\n",
              "       [-2.09321958,  0.48710538,  1.6061142 ],\n",
              "       [-2.71668022,  0.07540372,  2.6412765 ],\n",
              "       ...,\n",
              "       [-3.5944606 ,  0.36371651,  3.23074409],\n",
              "       [-2.84822944,  1.71783904,  1.13039039],\n",
              "       [-0.02431828, -2.78793978,  2.81225806]])"
            ]
          },
          "metadata": {
            "tags": []
          },
          "execution_count": 94
        }
      ]
    },
    {
      "cell_type": "markdown",
      "metadata": {
        "id": "uceDSOckm1c_"
      },
      "source": [
        "### Doc2Vec"
      ]
    },
    {
      "cell_type": "code",
      "metadata": {
        "colab": {
          "base_uri": "https://localhost:8080/"
        },
        "id": "b9t4D4gSm0LF",
        "outputId": "ab610fdc-f796-4030-b3a6-f8f95e9fe631"
      },
      "source": [
        "tr_sc = []\n",
        "ts_sc = []\n",
        "diff  = []\n",
        "\n",
        "for iter in range(1200,2000,100):\n",
        "    log_reg = LogisticRegression(max_iter = iter) # 모델 생성\n",
        "    log_reg.fit(X_tr_d,y_tr_d) # 모델 훈련\n",
        "\n",
        "    # 훈련 셋 평가 (훈련 셋 정확도)\n",
        "    tr_scr = log_reg.score(X_tr_d,y_tr_d) \n",
        "    tr_sc.append(tr_scr)\n",
        "    \n",
        "    # 테스트 셋 평가 (테스트 셋 정확도) -> 일반화 성능\n",
        "    ts_scr = log_reg.score(X_ts_d,y_ts_d)\n",
        "    ts_sc.append(ts_scr)\n",
        "\n",
        "    d = tr_scr - ts_scr\n",
        "    diff.append(d)"
      ],
      "execution_count": 292,
      "outputs": [
        {
          "output_type": "stream",
          "text": [
            "/usr/local/lib/python3.7/dist-packages/sklearn/linear_model/_logistic.py:940: ConvergenceWarning: lbfgs failed to converge (status=1):\n",
            "STOP: TOTAL NO. of ITERATIONS REACHED LIMIT.\n",
            "\n",
            "Increase the number of iterations (max_iter) or scale the data as shown in:\n",
            "    https://scikit-learn.org/stable/modules/preprocessing.html\n",
            "Please also refer to the documentation for alternative solver options:\n",
            "    https://scikit-learn.org/stable/modules/linear_model.html#logistic-regression\n",
            "  extra_warning_msg=_LOGISTIC_SOLVER_CONVERGENCE_MSG)\n",
            "/usr/local/lib/python3.7/dist-packages/sklearn/linear_model/_logistic.py:940: ConvergenceWarning: lbfgs failed to converge (status=1):\n",
            "STOP: TOTAL NO. of ITERATIONS REACHED LIMIT.\n",
            "\n",
            "Increase the number of iterations (max_iter) or scale the data as shown in:\n",
            "    https://scikit-learn.org/stable/modules/preprocessing.html\n",
            "Please also refer to the documentation for alternative solver options:\n",
            "    https://scikit-learn.org/stable/modules/linear_model.html#logistic-regression\n",
            "  extra_warning_msg=_LOGISTIC_SOLVER_CONVERGENCE_MSG)\n",
            "/usr/local/lib/python3.7/dist-packages/sklearn/linear_model/_logistic.py:940: ConvergenceWarning: lbfgs failed to converge (status=1):\n",
            "STOP: TOTAL NO. of ITERATIONS REACHED LIMIT.\n",
            "\n",
            "Increase the number of iterations (max_iter) or scale the data as shown in:\n",
            "    https://scikit-learn.org/stable/modules/preprocessing.html\n",
            "Please also refer to the documentation for alternative solver options:\n",
            "    https://scikit-learn.org/stable/modules/linear_model.html#logistic-regression\n",
            "  extra_warning_msg=_LOGISTIC_SOLVER_CONVERGENCE_MSG)\n",
            "/usr/local/lib/python3.7/dist-packages/sklearn/linear_model/_logistic.py:940: ConvergenceWarning: lbfgs failed to converge (status=1):\n",
            "STOP: TOTAL NO. of ITERATIONS REACHED LIMIT.\n",
            "\n",
            "Increase the number of iterations (max_iter) or scale the data as shown in:\n",
            "    https://scikit-learn.org/stable/modules/preprocessing.html\n",
            "Please also refer to the documentation for alternative solver options:\n",
            "    https://scikit-learn.org/stable/modules/linear_model.html#logistic-regression\n",
            "  extra_warning_msg=_LOGISTIC_SOLVER_CONVERGENCE_MSG)\n",
            "/usr/local/lib/python3.7/dist-packages/sklearn/linear_model/_logistic.py:940: ConvergenceWarning: lbfgs failed to converge (status=1):\n",
            "STOP: TOTAL NO. of ITERATIONS REACHED LIMIT.\n",
            "\n",
            "Increase the number of iterations (max_iter) or scale the data as shown in:\n",
            "    https://scikit-learn.org/stable/modules/preprocessing.html\n",
            "Please also refer to the documentation for alternative solver options:\n",
            "    https://scikit-learn.org/stable/modules/linear_model.html#logistic-regression\n",
            "  extra_warning_msg=_LOGISTIC_SOLVER_CONVERGENCE_MSG)\n",
            "/usr/local/lib/python3.7/dist-packages/sklearn/linear_model/_logistic.py:940: ConvergenceWarning: lbfgs failed to converge (status=1):\n",
            "STOP: TOTAL NO. of ITERATIONS REACHED LIMIT.\n",
            "\n",
            "Increase the number of iterations (max_iter) or scale the data as shown in:\n",
            "    https://scikit-learn.org/stable/modules/preprocessing.html\n",
            "Please also refer to the documentation for alternative solver options:\n",
            "    https://scikit-learn.org/stable/modules/linear_model.html#logistic-regression\n",
            "  extra_warning_msg=_LOGISTIC_SOLVER_CONVERGENCE_MSG)\n",
            "/usr/local/lib/python3.7/dist-packages/sklearn/linear_model/_logistic.py:940: ConvergenceWarning: lbfgs failed to converge (status=1):\n",
            "STOP: TOTAL NO. of ITERATIONS REACHED LIMIT.\n",
            "\n",
            "Increase the number of iterations (max_iter) or scale the data as shown in:\n",
            "    https://scikit-learn.org/stable/modules/preprocessing.html\n",
            "Please also refer to the documentation for alternative solver options:\n",
            "    https://scikit-learn.org/stable/modules/linear_model.html#logistic-regression\n",
            "  extra_warning_msg=_LOGISTIC_SOLVER_CONVERGENCE_MSG)\n",
            "/usr/local/lib/python3.7/dist-packages/sklearn/linear_model/_logistic.py:940: ConvergenceWarning: lbfgs failed to converge (status=1):\n",
            "STOP: TOTAL NO. of ITERATIONS REACHED LIMIT.\n",
            "\n",
            "Increase the number of iterations (max_iter) or scale the data as shown in:\n",
            "    https://scikit-learn.org/stable/modules/preprocessing.html\n",
            "Please also refer to the documentation for alternative solver options:\n",
            "    https://scikit-learn.org/stable/modules/linear_model.html#logistic-regression\n",
            "  extra_warning_msg=_LOGISTIC_SOLVER_CONVERGENCE_MSG)\n"
          ],
          "name": "stderr"
        }
      ]
    },
    {
      "cell_type": "code",
      "metadata": {
        "colab": {
          "base_uri": "https://localhost:8080/"
        },
        "id": "--V_rpJ1nNKL",
        "outputId": "c652cb5d-c7cc-473a-c4d7-42c056ed2496"
      },
      "source": [
        "a = min(diff)\n",
        "b = diff.index(a)\n",
        "\n",
        "print(b,a)\n",
        "print(tr_sc[b],ts_sc[b],diff[b]) "
      ],
      "execution_count": 293,
      "outputs": [
        {
          "output_type": "stream",
          "text": [
            "3 0.03166070324831871\n",
            "0.7996857816182247 0.768025078369906 0.03166070324831871\n"
          ],
          "name": "stdout"
        }
      ]
    },
    {
      "cell_type": "code",
      "metadata": {
        "colab": {
          "base_uri": "https://localhost:8080/",
          "height": 265
        },
        "id": "pXJUWcvAnRkq",
        "outputId": "18b681ff-aa7b-4c57-d4c1-69fcc69232aa"
      },
      "source": [
        "plt.plot(tr_sc,label = 'Train')\n",
        "plt.plot(ts_sc, label = 'Test')\n",
        "plt.legend()\n",
        "plt.grid()\n",
        "plt.show()"
      ],
      "execution_count": 294,
      "outputs": [
        {
          "output_type": "display_data",
          "data": {
            "image/png": "[encoded data removed]",
            "text/plain": [
              "<Figure size 432x288 with 1 Axes>"
            ]
          },
          "metadata": {
            "tags": [],
            "needs_background": "light"
          }
        }
      ]
    },
    {
      "cell_type": "markdown",
      "metadata": {
        "id": "-0QOAPig195G"
      },
      "source": [
        "### TF-IDF"
      ]
    },
    {
      "cell_type": "code",
      "metadata": {
        "id": "6MQeqc25n53m"
      },
      "source": [
        "tr_sc = []\n",
        "ts_sc = []\n",
        "diff  = []\n",
        "\n",
        "for iter in range(1200,2500,100):\n",
        "    log_reg = LogisticRegression(max_iter = iter) # 모델 생성\n",
        "    log_reg.fit(X_tr_t,y_tr_t) # 모델 훈련\n",
        "\n",
        "    # 훈련 셋 평가 (훈련 셋 정확도)\n",
        "    tr_scr = log_reg.score(X_tr_t,y_tr_t) \n",
        "    tr_sc.append(tr_scr)\n",
        "    \n",
        "    # 테스트 셋 평가 (테스트 셋 정확도) -> 일반화 성능\n",
        "    ts_scr = log_reg.score(X_ts_t,y_ts_t)\n",
        "    ts_sc.append(ts_scr)\n",
        "\n",
        "    d = tr_scr - ts_scr\n",
        "    diff.append(d)"
      ],
      "execution_count": 301,
      "outputs": []
    },
    {
      "cell_type": "code",
      "metadata": {
        "colab": {
          "base_uri": "https://localhost:8080/"
        },
        "id": "Gwf7TAP7oFqu",
        "outputId": "e6e872da-92a5-49d3-f7f2-f354d74d05e3"
      },
      "source": [
        "a = min(diff)\n",
        "b = diff.index(a)\n",
        "\n",
        "print(b,a)\n",
        "print(tr_sc[b],ts_sc[b],diff[b]) "
      ],
      "execution_count": 302,
      "outputs": [
        {
          "output_type": "stream",
          "text": [
            "0 0.02070738536323502\n",
            "0.8075412411626081 0.786833855799373 0.02070738536323502\n"
          ],
          "name": "stdout"
        }
      ]
    },
    {
      "cell_type": "code",
      "metadata": {
        "colab": {
          "base_uri": "https://localhost:8080/",
          "height": 265
        },
        "id": "r8RWyrSRoMy4",
        "outputId": "30b600fa-62ce-4496-8142-8392de4a4727"
      },
      "source": [
        "plt.plot(tr_sc,label = 'Train')\n",
        "plt.plot(ts_sc, label = 'Test')\n",
        "plt.legend()\n",
        "plt.grid()\n",
        "plt.show()"
      ],
      "execution_count": 303,
      "outputs": [
        {
          "output_type": "display_data",
          "data": {
            "image/png": "[encoded data removed]",
            "text/plain": [
              "<Figure size 432x288 with 1 Axes>"
            ]
          },
          "metadata": {
            "tags": [],
            "needs_background": "light"
          }
        }
      ]
    },
    {
      "cell_type": "markdown",
      "metadata": {
        "id": "GwwnV0JoZDrz"
      },
      "source": [
        "## SGDClassifier"
      ]
    },
    {
      "cell_type": "markdown",
      "metadata": {
        "id": "_SgXPjYvaWmg"
      },
      "source": [
        "    * epoch(에포크) : 훈련 셋의 전체 샘플이 한번 학습(fitting)되는 것! 기본값 1000\n",
        "    * max_iter : epoch를 반복하는 최대 횟수\n",
        "    * loss 기본값은 'hinge' 손실함수 for 서포트벡터머신, 'log'는 for 로지스틱회귀\n",
        "    * panalty : 규제 종류 지정, 기본값 'L2'규제(릿지 방식)\n",
        "    * alpha : 규제 강도 기본값 0.0001\n",
        "    * tol : 반복을 멈출 조건, 기본값 0.001\n",
        "    * n_iter_no_change: 지정한 에포크 동안 손실이 tol 만큼 줄지 않으면 알고리즘이 중단. 기본값 5\n",
        "    # SGD 알고리즘은 기존에 훈련된 상태에서 이어서 계속 훈련할 수 있는 기능이 있음 => .partial_fit(X_tr_s,y_tr)"
      ]
    },
    {
      "cell_type": "markdown",
      "metadata": {
        "id": "l2JfC6kY7NWW"
      },
      "source": [
        "### Word2Vec"
      ]
    },
    {
      "cell_type": "code",
      "metadata": {
        "colab": {
          "base_uri": "https://localhost:8080/"
        },
        "id": "jaFe7jxnBd64",
        "outputId": "95bd5035-3cc2-4be9-9950-d5439b317864"
      },
      "source": [
        "sgd_clf = SGDClassifier(loss='log', max_iter=50)\n",
        "sgd_clf.fit(X_tr,y_tr)\n",
        "sgd_clf.score(X_tr,y_tr)"
      ],
      "execution_count": 324,
      "outputs": [
        {
          "output_type": "stream",
          "text": [
            "/usr/local/lib/python3.7/dist-packages/sklearn/linear_model/_stochastic_gradient.py:557: ConvergenceWarning: Maximum number of iteration reached before convergence. Consider increasing max_iter to improve the fit.\n",
            "  ConvergenceWarning)\n"
          ],
          "name": "stderr"
        },
        {
          "output_type": "execute_result",
          "data": {
            "text/plain": [
              "0.7517674783974863"
            ]
          },
          "metadata": {
            "tags": []
          },
          "execution_count": 324
        }
      ]
    },
    {
      "cell_type": "code",
      "metadata": {
        "colab": {
          "base_uri": "https://localhost:8080/"
        },
        "id": "F3lY-0NtB6cB",
        "outputId": "a9b625a2-1b94-4cf5-8064-b7f26fe16cb6"
      },
      "source": [
        "sgd_clf.partial_fit(X_tr,y_tr)\n",
        "sgd_clf.score(X_tr,y_tr)"
      ],
      "execution_count": 325,
      "outputs": [
        {
          "output_type": "execute_result",
          "data": {
            "text/plain": [
              "0.7580518460329929"
            ]
          },
          "metadata": {
            "tags": []
          },
          "execution_count": 325
        }
      ]
    },
    {
      "cell_type": "code",
      "metadata": {
        "id": "Z4lVApZOZxNT"
      },
      "source": [
        "# Partial_fit\n",
        "tr_sc = []\n",
        "ts_sc = []\n",
        "diff  = []\n",
        "\n",
        "target_names = np.unique(y_tr)\n",
        "sgd_clf = SGDClassifier(loss='log') # 모델 생성\n",
        "\n",
        "for _ in range(0,30):\n",
        "    # 온라인 학습\n",
        "    sgd_clf.partial_fit(X_tr,y_tr,classes = target_names) # 모델 훈련\n",
        "\n",
        "    # 훈련 셋 평가 (훈련 셋 정확도)\n",
        "    tr_scr = sgd_clf.score(X_tr,y_tr) \n",
        "    tr_sc.append(tr_scr)\n",
        "    \n",
        "    # 테스트 셋 평가 (테스트 셋 정확도) -> 일반화 성능\n",
        "    ts_scr = sgd_clf.score(X_ts,y_ts)\n",
        "    ts_sc.append(ts_scr)\n",
        "\n",
        "    d = tr_scr - ts_scr\n",
        "    diff.append(d)"
      ],
      "execution_count": 332,
      "outputs": []
    },
    {
      "cell_type": "code",
      "metadata": {
        "colab": {
          "base_uri": "https://localhost:8080/"
        },
        "id": "RT1_gccraM4K",
        "outputId": "c36912e9-0143-4bd3-9dd8-f6b5cff2dc1f"
      },
      "source": [
        "a = min(diff)\n",
        "b = diff.index(a)\n",
        "\n",
        "print(b,a)\n",
        "print(tr_sc[b],ts_sc[b],diff[b]) "
      ],
      "execution_count": 333,
      "outputs": [
        {
          "output_type": "stream",
          "text": [
            "9 -0.01941455894919064\n",
            "0.7423409269442263 0.7617554858934169 -0.01941455894919064\n"
          ],
          "name": "stdout"
        }
      ]
    },
    {
      "cell_type": "code",
      "metadata": {
        "colab": {
          "base_uri": "https://localhost:8080/",
          "height": 265
        },
        "id": "bam6fYRz84Dq",
        "outputId": "d60c74e0-3a59-42a6-a5bc-2a5b0737124e"
      },
      "source": [
        "plt.plot(tr_sc,label = 'Train')\n",
        "plt.plot(ts_sc, label = 'Test')\n",
        "plt.legend()\n",
        "plt.grid()\n",
        "plt.show()"
      ],
      "execution_count": 334,
      "outputs": [
        {
          "output_type": "display_data",
          "data": {
            "image/png": "[encoded data removed]",
            "text/plain": [
              "<Figure size 432x288 with 1 Axes>"
            ]
          },
          "metadata": {
            "tags": [],
            "needs_background": "light"
          }
        }
      ]
    },
    {
      "cell_type": "markdown",
      "metadata": {
        "id": "P3vEg-hfaNWs"
      },
      "source": [
        "## DecisionTree"
      ]
    },
    {
      "cell_type": "markdown",
      "metadata": {
        "id": "3JlTR430JApX"
      },
      "source": [
        "### Word2Vec"
      ]
    },
    {
      "cell_type": "code",
      "metadata": {
        "id": "wdCXVq-AJAG_"
      },
      "source": [
        "tree_clf = DecisionTreeClassifier(max_depth=5)"
      ],
      "execution_count": 355,
      "outputs": []
    },
    {
      "cell_type": "code",
      "metadata": {
        "colab": {
          "base_uri": "https://localhost:8080/"
        },
        "id": "w38EXwQnMksf",
        "outputId": "19c3331c-32b2-4375-8d8f-73c7f3072ad6"
      },
      "source": [
        "# 교차검증\n",
        "cv = cross_validate(estimator = tree_clf,X= X_tr,y=y_tr,\n",
        "                    n_jobs = -1,\n",
        "                    return_train_score = True)\n",
        "cv"
      ],
      "execution_count": 357,
      "outputs": [
        {
          "output_type": "execute_result",
          "data": {
            "text/plain": [
              "{'fit_time': array([0.5171001 , 0.51391935, 0.51540518, 0.5193541 , 0.35753274]),\n",
              " 'score_time': array([0.00100732, 0.0010283 , 0.00093794, 0.00102139, 0.00091529]),\n",
              " 'test_score': array([0.74117647, 0.7254902 , 0.72156863, 0.75984252, 0.76377953]),\n",
              " 'train_score': array([0.8388998 , 0.83595285, 0.84184676, 0.83120707, 0.84396467])}"
            ]
          },
          "metadata": {
            "tags": []
          },
          "execution_count": 357
        }
      ]
    },
    {
      "cell_type": "code",
      "metadata": {
        "colab": {
          "base_uri": "https://localhost:8080/"
        },
        "id": "zfiC-limM_IF",
        "outputId": "9d693c51-177b-4b48-dff7-2856ca2e6842"
      },
      "source": [
        "# 검증폴드 점수\n",
        "np.mean(scores['test_score'])"
      ],
      "execution_count": 359,
      "outputs": [
        {
          "output_type": "execute_result",
          "data": {
            "text/plain": [
              "0.7423683804230354"
            ]
          },
          "metadata": {
            "tags": []
          },
          "execution_count": 359
        }
      ]
    },
    {
      "cell_type": "code",
      "metadata": {
        "colab": {
          "base_uri": "https://localhost:8080/"
        },
        "id": "GLcks_dUOkpe",
        "outputId": "6e868e0e-09b0-4426-8c84-3a94d174fca1"
      },
      "source": [
        "# 일반화 성능 계산\n",
        "tree_clf.fit(X_tr,y_tr)\n",
        "tree_clf.score(X_ts,y_ts)"
      ],
      "execution_count": 360,
      "outputs": [
        {
          "output_type": "execute_result",
          "data": {
            "text/plain": [
              "0.7335423197492164"
            ]
          },
          "metadata": {
            "tags": []
          },
          "execution_count": 360
        }
      ]
    }
  ]
}